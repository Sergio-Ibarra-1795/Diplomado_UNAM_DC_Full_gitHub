{
 "cells": [
  {
   "cell_type": "markdown",
   "metadata": {},
   "source": [
    "# Trabajando con Gensim - LDA"
   ]
  },
  {
   "cell_type": "markdown",
   "metadata": {},
   "source": [
    "## Preparación de documentos"
   ]
  },
  {
   "cell_type": "code",
   "execution_count": 3,
   "metadata": {},
   "outputs": [],
   "source": [
    "doc1 = \"Sugar is bad to consume. My sister likes to have sugar, but not my father.\"\n",
    "doc2 = \"My father spends a lot of time driving my sister around to dance practice.\"\n",
    "doc3 = \"Doctors suggest that driving may cause increased stress and blood pressure.\"\n",
    "doc4 = \"Sometimes I feel pressure to perform well at school, but my father never seems to drive my sister to do better.\"\n",
    "doc5 = \"Health experts say that Sugar is not good for your lifestyle.\"\n",
    "# compilar documentos\n",
    "doc_complete = [doc1, doc2, doc3, doc4, doc5]"
   ]
  },
  {
   "cell_type": "markdown",
   "metadata": {},
   "source": [
    "## Pre-procesamiento"
   ]
  },
  {
   "cell_type": "code",
   "execution_count": 4,
   "metadata": {},
   "outputs": [
    {
     "name": "stderr",
     "output_type": "stream",
     "text": [
      "[nltk_data] Downloading package wordnet to\n",
      "[nltk_data]     C:\\Users\\luiso\\AppData\\Roaming\\nltk_data...\n",
      "[nltk_data]   Package wordnet is already up-to-date!\n",
      "[nltk_data] Downloading package stopwords to\n",
      "[nltk_data]     C:\\Users\\luiso\\AppData\\Roaming\\nltk_data...\n",
      "[nltk_data]   Package stopwords is already up-to-date!\n"
     ]
    },
    {
     "data": {
      "text/plain": [
       "True"
      ]
     },
     "execution_count": 4,
     "metadata": {},
     "output_type": "execute_result"
    }
   ],
   "source": [
    "import nltk\n",
    "nltk.download('wordnet')\n",
    "nltk.download('stopwords')"
   ]
  },
  {
   "cell_type": "code",
   "execution_count": 5,
   "metadata": {},
   "outputs": [
    {
     "data": {
      "text/plain": [
       "[['sugar', 'bad', 'consume', 'sister', 'like', 'sugar', 'father'],\n",
       " ['father',\n",
       "  'spends',\n",
       "  'lot',\n",
       "  'time',\n",
       "  'driving',\n",
       "  'sister',\n",
       "  'around',\n",
       "  'dance',\n",
       "  'practice'],\n",
       " ['doctor',\n",
       "  'suggest',\n",
       "  'driving',\n",
       "  'may',\n",
       "  'cause',\n",
       "  'increased',\n",
       "  'stress',\n",
       "  'blood',\n",
       "  'pressure'],\n",
       " ['sometimes',\n",
       "  'feel',\n",
       "  'pressure',\n",
       "  'perform',\n",
       "  'well',\n",
       "  'school',\n",
       "  'father',\n",
       "  'never',\n",
       "  'seems',\n",
       "  'drive',\n",
       "  'sister',\n",
       "  'better'],\n",
       " ['health', 'expert', 'say', 'sugar', 'good', 'lifestyle']]"
      ]
     },
     "execution_count": 5,
     "metadata": {},
     "output_type": "execute_result"
    }
   ],
   "source": [
    "from nltk.corpus import stopwords \n",
    "from nltk.stem.wordnet import WordNetLemmatizer\n",
    "import string\n",
    "\n",
    "stop = set(stopwords.words('english'))\n",
    "exclude = set(string.punctuation) \n",
    "lemma = WordNetLemmatizer()\n",
    "\n",
    "\n",
    "def preprocessor(doc):\n",
    "    '''Función para el pre-procesamiento de texto'''\n",
    "    \n",
    "    # Eliminaremos palabras muy comunes en el lenguaje, que dificilmente puedan ayudarnos a identificar un campo semántico.\n",
    "    # Convertiremos las palabras resultantes a minúsculas para evitar repetición de palabras\n",
    "    stop_free = \" \".join([i for i in doc.lower().split() if i not in stop])\n",
    "    \n",
    "    # Eliminamos los signos de puntuación: ya que no agrega ninguna información adicional al procesar datos de texto \n",
    "    punc_free = ''.join(ch for ch in stop_free if ch not in exclude)\n",
    "    \n",
    "    # Reduciremos las palabras a sus lemmas, formas básicas de las palabras, sin género ni conjugación\n",
    "    normalized = \" \".join(lemma.lemmatize(word) for word in punc_free.split())\n",
    "    \n",
    "    # Pudiéramos por ejemplo: dejar las palabras que podrían ser más signficativas: adjetivos, verbos, y sustantivos.\n",
    "    # Omitir los adverbios, ya que no nos interesan las posibles modificaciones del sentido entre palabras cercanas, como negaciones o\n",
    "    # amplificaciones entre otras actividades que crean conveniente para el pre-procesamiento de texto\n",
    "    return normalized\n",
    "\n",
    "\n",
    "doc_clean = [preprocessor(doc).split() for doc in doc_complete]  \n",
    "doc_clean\n",
    "\n",
    "# https://towardsdatascience.com/topic-modelling-in-python-with-spacy-and-gensim-dc8f7748bdbf"
   ]
  },
  {
   "cell_type": "markdown",
   "metadata": {},
   "source": [
    "## Matriz término-documento"
   ]
  },
  {
   "cell_type": "code",
   "execution_count": 6,
   "metadata": {},
   "outputs": [],
   "source": [
    "import gensim\n",
    "\n",
    "from gensim.models.ldamodel import LdaModel\n",
    "\n",
    "from gensim.corpora.dictionary import Dictionary"
   ]
  },
  {
   "cell_type": "code",
   "execution_count": 7,
   "metadata": {},
   "outputs": [
    {
     "name": "stdout",
     "output_type": "stream",
     "text": [
      "{'bad': 0, 'consume': 1, 'father': 2, 'like': 3, 'sister': 4, 'sugar': 5, 'around': 6, 'dance': 7, 'driving': 8, 'lot': 9, 'practice': 10, 'spends': 11, 'time': 12, 'blood': 13, 'cause': 14, 'doctor': 15, 'increased': 16, 'may': 17, 'pressure': 18, 'stress': 19, 'suggest': 20, 'better': 21, 'drive': 22, 'feel': 23, 'never': 24, 'perform': 25, 'school': 26, 'seems': 27, 'sometimes': 28, 'well': 29, 'expert': 30, 'good': 31, 'health': 32, 'lifestyle': 33, 'say': 34}\n"
     ]
    },
    {
     "data": {
      "text/plain": [
       "[[(0, 1), (1, 1), (2, 1), (3, 1), (4, 1), (5, 2)],\n",
       " [(2, 1), (4, 1), (6, 1), (7, 1), (8, 1), (9, 1), (10, 1), (11, 1), (12, 1)],\n",
       " [(8, 1),\n",
       "  (13, 1),\n",
       "  (14, 1),\n",
       "  (15, 1),\n",
       "  (16, 1),\n",
       "  (17, 1),\n",
       "  (18, 1),\n",
       "  (19, 1),\n",
       "  (20, 1)],\n",
       " [(2, 1),\n",
       "  (4, 1),\n",
       "  (18, 1),\n",
       "  (21, 1),\n",
       "  (22, 1),\n",
       "  (23, 1),\n",
       "  (24, 1),\n",
       "  (25, 1),\n",
       "  (26, 1),\n",
       "  (27, 1),\n",
       "  (28, 1),\n",
       "  (29, 1)],\n",
       " [(5, 1), (30, 1), (31, 1), (32, 1), (33, 1), (34, 1)]]"
      ]
     },
     "execution_count": 7,
     "metadata": {},
     "output_type": "execute_result"
    }
   ],
   "source": [
    "# Creación del diccionario de términos de nuestro courpus, donde se asigna un índice a cada término único.\n",
    "common_dictionary = Dictionary(doc_clean)\n",
    "\n",
    "# print(dictionary)\n",
    "print(common_dictionary.token2id)\n",
    "\n",
    "# Convertir la lista de documentos (corpus) en la Matriz de Términos del Documento utilizando el diccionario.\n",
    "doc_term_matrix = [ common_dictionary.doc2bow(doc) for doc in doc_clean ]\n",
    "\n",
    "doc_term_matrix"
   ]
  },
  {
   "cell_type": "markdown",
   "metadata": {},
   "source": [
    "## Ejecutar modelo LDA"
   ]
  },
  {
   "cell_type": "code",
   "execution_count": 8,
   "metadata": {},
   "outputs": [],
   "source": [
    "# Creación del objeto para el modelo LDA usando la librería gensim\n",
    "# https://radimrehurek.com/gensim/models/ldamodel.html\n",
    "\n",
    "# Ejecución y entrenamiento del modelo LDA en la matriz de términos del documento.\n",
    "ldamodel = LdaModel(doc_term_matrix, num_topics=3, id2word=common_dictionary)\n",
    "\n",
    "# ldamodel = LdaModel(doc_term_matrix, num_topics=3, id2word=common_dictionary, passes=50)"
   ]
  },
  {
   "cell_type": "markdown",
   "metadata": {},
   "source": [
    "Parameters\n",
    "<ul>\n",
    "    <li><em>corpus</em> (iterable of list of (int, float), optional) – Stream of document vectors or sparse matrix of shape (num_documents, num_terms). If you have a CSC in-memory matrix, you can convert it to a streamed corpus with the help of gensim.matutils.Sparse2Corpus. If not given, the model is left untrained (presumably because you want to call update() manually).</li>\n",
    "    <li><em>num_topics</em> (int, optional) – The number of requested latent topics to be extracted from the training corpus.</li>\n",
    "    <li><em>id2word</em> <code>({dict of (int, str), gensim.corpora.dictionary.Dictionary})</code> – Mapping from word IDs to words. It is used to determine the vocabulary size, as well as for debugging and topic printing.</li>\n",
    "    <li><em>passes</em> (int, optional) – Number of passes through the corpus during training.</li>\n",
    "</ul>"
   ]
  },
  {
   "cell_type": "code",
   "execution_count": 9,
   "metadata": {},
   "outputs": [
    {
     "name": "stdout",
     "output_type": "stream",
     "text": [
      "0.078*\"driving\" + 0.045*\"sister\" + 0.045*\"father\" + 0.045*\"doctor\" + 0.045*\"may\" + 0.045*\"lot\" + 0.044*\"spends\" + 0.044*\"around\" + 0.044*\"dance\" + 0.044*\"time\"\n",
      "---next----\n",
      "[(0, '0.122*\"sugar\" + 0.070*\"sister\" + 0.070*\"father\" + 0.070*\"like\"'), (1, '0.078*\"driving\" + 0.045*\"sister\" + 0.045*\"father\" + 0.045*\"doctor\"'), (2, '0.046*\"father\" + 0.045*\"sister\" + 0.045*\"pressure\" + 0.045*\"sugar\"')]\n",
      "---next----\n",
      "[(0, '0.122*\"sugar\" + 0.070*\"sister\" + 0.070*\"father\" + 0.070*\"like\"'),\n",
      " (1, '0.078*\"driving\" + 0.045*\"sister\" + 0.045*\"father\" + 0.045*\"doctor\"'),\n",
      " (2, '0.046*\"father\" + 0.045*\"sister\" + 0.045*\"pressure\" + 0.045*\"sugar\"')]\n"
     ]
    }
   ],
   "source": [
    "topic = ldamodel.print_topic(1) # Retorna un str\n",
    "# topic = ldamodel.print_topic(num_topics=1, num_words=4) # Retorna un str\n",
    "print(topic)\n",
    "print('---next----')\n",
    "\n",
    "def lda_topics(ldamodel, num_topics=3, num_words=4):\n",
    "    '''Función dado un modelo LDA retornar una lista de n topicos con m palabras'''\n",
    "    topics = ldamodel.print_topics(num_topics=num_topics, num_words=num_words)\n",
    "    return topics\n",
    "\n",
    "topics = lda_topics(ldamodel)\n",
    "print(topics)\n",
    "print('---next----')\n",
    "\n",
    "from pprint import pprint\n",
    "pprint(topics)"
   ]
  },
  {
   "cell_type": "code",
   "execution_count": 10,
   "metadata": {},
   "outputs": [
    {
     "data": {
      "text/plain": [
       "[('expert', 0.06414461),\n",
       " ('health', 0.0631065),\n",
       " ('lifestyle', 0.06251913),\n",
       " ('good', 0.06218331),\n",
       " ('sugar', 0.05905351),\n",
       " ('say', 0.05716777),\n",
       " ('father', 0.022742795),\n",
       " ('sister', 0.022510776),\n",
       " ('driving', 0.022390664),\n",
       " ('pressure', 0.022231437)]"
      ]
     },
     "execution_count": 10,
     "metadata": {},
     "output_type": "execute_result"
    }
   ],
   "source": [
    "topic = ldamodel.show_topic(1) # Retorna list\n",
    "topic"
   ]
  },
  {
   "cell_type": "code",
   "execution_count": 12,
   "metadata": {},
   "outputs": [
    {
     "data": {
      "text/plain": [
       "[('father', 0.08018711),\n",
       " ('sugar', 0.07956636),\n",
       " ('sister', 0.0783436),\n",
       " ('driving', 0.039147373),\n",
       " ('practice', 0.038775977),\n",
       " ('bad', 0.038768664),\n",
       " ('spends', 0.03863139),\n",
       " ('like', 0.038604468),\n",
       " ('dance', 0.038601484),\n",
       " ('time', 0.03854037)]"
      ]
     },
     "execution_count": 12,
     "metadata": {},
     "output_type": "execute_result"
    }
   ],
   "source": [
    "ldamodel.show_topic(0)"
   ]
  },
  {
   "cell_type": "code",
   "execution_count": 11,
   "metadata": {},
   "outputs": [
    {
     "data": {
      "text/plain": [
       "[(0, '0.080*\"father\" + 0.080*\"sugar\" + 0.078*\"sister\" + 0.039*\"driving\"'),\n",
       " (1, '0.064*\"expert\" + 0.063*\"health\" + 0.063*\"lifestyle\" + 0.062*\"good\"'),\n",
       " (2, '0.069*\"pressure\" + 0.047*\"doctor\" + 0.047*\"suggest\" + 0.047*\"cause\"')]"
      ]
     },
     "execution_count": 11,
     "metadata": {},
     "output_type": "execute_result"
    }
   ],
   "source": [
    "topics = ldamodel.show_topics(num_topics=3, num_words=4) # Retorna list to tuple\n",
    "topics"
   ]
  },
  {
   "cell_type": "code",
   "execution_count": null,
   "metadata": {},
   "outputs": [],
   "source": []
  },
  {
   "cell_type": "markdown",
   "metadata": {},
   "source": [
    "## Analizar los resultados del modelo LDA\n",
    "\n",
    "Visualicemos los temas para la interpretación, usaremos el paquete de visualización popular, <b>pyLDAvis</b>. PyLDAvis ofrece la mejor visualización para ver la distribución de palabras clave y temas, para lo cual provee de una forma simple e interactiva analizar los resultados obtenidos.\n",
    "\n",
    "Esta visualización permite enriquecer lo desarrollado, teniéndose en cuenta las siguientes observaciones:\n",
    "<ul>\n",
    "    <li>El gráfico representa nuestros N temas en forma de círculos (burbujas). Han sido dibujados usando la técnica de reducción de dimensionalidad (PCA). El objetivo es tener una distancia para evitar superposiciones y hacer que cada círculo sea único. Cuanto más grande la burbuja, más predominante es ese tópico.</li>\n",
    "    <li>Cuando paso el cursor sobre un círculo, se muestran diferentes palabras a la derecha, mostrando la frecuencia de palabras (azul) y la frecuencia estimada de términos dentro del tema seleccionado (rojo).</li>\n",
    "    <li>Los temas más cercanos entre sí están más relacionados.</li>\n",
    "    <li>Un buen modelo de tópicos es aquel que tiene burbujas bastante grandes y que no se solapan, dispersas en todo el gráfico en lugar de estar todas juntas y clusterizadas en un único cuadrante. Un modelo con muchos tópicos seguramente tendrá burbujas pequeñas, ubicadas en una misma región del gráfico y con muchos casos de solapamiento.</li>\n",
    "</ul>"
   ]
  },
  {
   "cell_type": "code",
   "execution_count": 13,
   "metadata": {},
   "outputs": [
    {
     "data": {
      "text/html": [
       "\n",
       "<link rel=\"stylesheet\" type=\"text/css\" href=\"https://cdn.jsdelivr.net/gh/bmabey/pyLDAvis@3.3.1/pyLDAvis/js/ldavis.v1.0.0.css\">\n",
       "\n",
       "\n",
       "<div id=\"ldavis_el226015756757433042365712076\"></div>\n",
       "<script type=\"text/javascript\">\n",
       "\n",
       "var ldavis_el226015756757433042365712076_data = {\"mdsDat\": {\"x\": [-0.06594980110589202, 0.05097110712830424, 0.014978693977587776], \"y\": [-0.010028841913996172, -0.022549726803013193, 0.032578568717009364], \"topics\": [1, 2, 3], \"cluster\": [1, 1, 1], \"Freq\": [47.86181703715446, 36.735111657805994, 15.403071305039553]}, \"tinfo\": {\"Term\": [\"sugar\", \"expert\", \"health\", \"lifestyle\", \"good\", \"say\", \"father\", \"sister\", \"consume\", \"like\", \"practice\", \"time\", \"spends\", \"bad\", \"dance\", \"around\", \"lot\", \"cause\", \"increased\", \"may\", \"doctor\", \"blood\", \"suggest\", \"stress\", \"pressure\", \"sometimes\", \"perform\", \"never\", \"well\", \"better\", \"doctor\", \"suggest\", \"cause\", \"blood\", \"stress\", \"increased\", \"may\", \"pressure\", \"sometimes\", \"perform\", \"better\", \"never\", \"well\", \"seems\", \"school\", \"drive\", \"driving\", \"feel\", \"sister\", \"father\", \"good\", \"expert\", \"say\", \"health\", \"lifestyle\", \"lot\", \"around\", \"dance\", \"time\", \"consume\", \"sugar\", \"sugar\", \"practice\", \"bad\", \"father\", \"spends\", \"like\", \"dance\", \"time\", \"consume\", \"around\", \"lot\", \"sister\", \"driving\", \"say\", \"feel\", \"lifestyle\", \"good\", \"health\", \"drive\", \"expert\", \"seems\", \"school\", \"well\", \"better\", \"never\", \"perform\", \"sometimes\", \"pressure\", \"may\", \"stress\", \"expert\", \"health\", \"lifestyle\", \"good\", \"say\", \"sugar\", \"consume\", \"lot\", \"time\", \"like\", \"around\", \"spends\", \"dance\", \"practice\", \"bad\", \"feel\", \"drive\", \"well\", \"never\", \"school\", \"seems\", \"better\", \"sometimes\", \"perform\", \"may\", \"increased\", \"stress\", \"cause\", \"blood\", \"suggest\", \"driving\", \"father\", \"sister\", \"pressure\"], \"Freq\": [1.0, 0.0, 0.0, 0.0, 0.0, 0.0, 2.0, 2.0, 1.0, 1.0, 1.0, 1.0, 1.0, 1.0, 1.0, 1.0, 1.0, 1.0, 1.0, 1.0, 1.0, 1.0, 1.0, 1.0, 1.0, 1.0, 1.0, 1.0, 1.0, 1.0, 0.9668770391608575, 0.9635133559069102, 0.963250842482674, 0.9618388361350809, 0.9607649384910165, 0.9605953474587704, 0.9568096800088546, 1.4256113511437083, 0.7583652483575236, 0.7370512130291013, 0.7145191430129334, 0.7143962431826032, 0.7062930579253162, 0.6870551327063835, 0.686960906947509, 0.6540600933544922, 0.9605404527123472, 0.6203861531931347, 0.7157211539548655, 0.6672074617914957, 0.2582202487221317, 0.25597784433192694, 0.2545514051128057, 0.2532610910644589, 0.25230428560122525, 0.2551380352137238, 0.25339717790091315, 0.25220064876675935, 0.2512118149790588, 0.2511477008286448, 0.26231326158367335, 1.256838018512192, 0.6125091316851617, 0.6123936188502149, 1.2666434870363197, 0.6102252375690349, 0.6097999643860696, 0.6097528295002864, 0.6087874764400201, 0.6075177767764194, 0.6077935246850087, 0.6059815090321721, 1.2375231897601424, 0.6183757478812192, 0.34670135851894607, 0.3741767600868864, 0.30876889717809225, 0.30747913135212945, 0.30384100665676206, 0.3540140329961975, 0.29447820002814507, 0.33454664844965, 0.33417574809373046, 0.3206823425386354, 0.3165743106891834, 0.3152861925246463, 0.30238459164660697, 0.28698307647053056, 0.32403874655274556, 0.15918817605294494, 0.15892831630810272, 0.424850380754921, 0.4179746337495768, 0.4140843169174816, 0.4118600485629254, 0.3786405129722964, 0.3911303866350513, 0.14573157201792952, 0.1448312623475553, 0.14455088170874314, 0.14430347759334125, 0.1441948758965285, 0.14368716327235126, 0.14311648313022196, 0.14251324591915152, 0.14222265033032674, 0.14458074933432347, 0.14347031764871412, 0.14359852267351, 0.14382162310349544, 0.14250991495719087, 0.1421218702256734, 0.1425911904290303, 0.1441500189421253, 0.14247733321445744, 0.14568170628368926, 0.14439990277365347, 0.14365216349797233, 0.1435565155421176, 0.14338035700198476, 0.14263017502086583, 0.14830055792472271, 0.15063283580507647, 0.149096102672987, 0.14724595069419433], \"Total\": [1.0, 0.0, 0.0, 0.0, 0.0, 0.0, 2.0, 2.0, 1.0, 1.0, 1.0, 1.0, 1.0, 1.0, 1.0, 1.0, 1.0, 1.0, 1.0, 1.0, 1.0, 1.0, 1.0, 1.0, 1.0, 1.0, 1.0, 1.0, 1.0, 1.0, 1.2657876720980585, 1.264461712325463, 1.2642634741378314, 1.2637678853104506, 1.2633454182970916, 1.26320199381494, 1.2616795623454888, 1.8968960483906483, 1.1894983437701794, 1.1819131378901657, 1.173684644131147, 1.173504058810745, 1.1705739231374614, 1.163723651381707, 1.1636465699984304, 1.1515444439994038, 1.7272167585182892, 1.1391436626143445, 2.102340446387995, 2.084483784632892, 0.9775594286371865, 0.975306425114993, 0.9798932766040481, 0.9750767314707977, 0.9751574996967991, 1.0059508065934513, 1.0053855784824504, 1.0050699613972678, 1.004550173127822, 1.0043970496229937, 1.9102816667309166, 1.9102816667309166, 1.0039414360636794, 1.0042239845338463, 2.084483784632892, 1.0043724798027358, 1.0041563337923614, 1.0050699613972678, 1.004550173127822, 1.0043970496229937, 1.0053855784824504, 1.0059508065934513, 2.102340446387995, 1.7272167585182892, 0.9798932766040481, 1.1391436626143445, 0.9751574996967991, 0.9775594286371865, 0.9750767314707977, 1.1515444439994038, 0.975306425114993, 1.163723651381707, 1.1636465699984304, 1.1705739231374614, 1.173684644131147, 1.173504058810745, 1.1819131378901657, 1.1894983437701794, 1.8968960483906483, 1.2616795623454888, 1.2633454182970916, 0.975306425114993, 0.9750767314707977, 0.9751574996967991, 0.9775594286371865, 0.9798932766040481, 1.9102816667309166, 1.0043970496229937, 1.0059508065934513, 1.004550173127822, 1.0041563337923614, 1.0053855784824504, 1.0043724798027358, 1.0050699613972678, 1.0039414360636794, 1.0042239845338463, 1.1391436626143445, 1.1515444439994038, 1.1705739231374614, 1.173504058810745, 1.1636465699984304, 1.163723651381707, 1.173684644131147, 1.1894983437701794, 1.1819131378901657, 1.2616795623454888, 1.26320199381494, 1.2633454182970916, 1.2642634741378314, 1.2637678853104506, 1.264461712325463, 1.7272167585182892, 2.084483784632892, 2.102340446387995, 1.8968960483906483], \"Category\": [\"Default\", \"Default\", \"Default\", \"Default\", \"Default\", \"Default\", \"Default\", \"Default\", \"Default\", \"Default\", \"Default\", \"Default\", \"Default\", \"Default\", \"Default\", \"Default\", \"Default\", \"Default\", \"Default\", \"Default\", \"Default\", \"Default\", \"Default\", \"Default\", \"Default\", \"Default\", \"Default\", \"Default\", \"Default\", \"Default\", \"Topic1\", \"Topic1\", \"Topic1\", \"Topic1\", \"Topic1\", \"Topic1\", \"Topic1\", \"Topic1\", \"Topic1\", \"Topic1\", \"Topic1\", \"Topic1\", \"Topic1\", \"Topic1\", \"Topic1\", \"Topic1\", \"Topic1\", \"Topic1\", \"Topic1\", \"Topic1\", \"Topic1\", \"Topic1\", \"Topic1\", \"Topic1\", \"Topic1\", \"Topic1\", \"Topic1\", \"Topic1\", \"Topic1\", \"Topic1\", \"Topic1\", \"Topic2\", \"Topic2\", \"Topic2\", \"Topic2\", \"Topic2\", \"Topic2\", \"Topic2\", \"Topic2\", \"Topic2\", \"Topic2\", \"Topic2\", \"Topic2\", \"Topic2\", \"Topic2\", \"Topic2\", \"Topic2\", \"Topic2\", \"Topic2\", \"Topic2\", \"Topic2\", \"Topic2\", \"Topic2\", \"Topic2\", \"Topic2\", \"Topic2\", \"Topic2\", \"Topic2\", \"Topic2\", \"Topic2\", \"Topic2\", \"Topic3\", \"Topic3\", \"Topic3\", \"Topic3\", \"Topic3\", \"Topic3\", \"Topic3\", \"Topic3\", \"Topic3\", \"Topic3\", \"Topic3\", \"Topic3\", \"Topic3\", \"Topic3\", \"Topic3\", \"Topic3\", \"Topic3\", \"Topic3\", \"Topic3\", \"Topic3\", \"Topic3\", \"Topic3\", \"Topic3\", \"Topic3\", \"Topic3\", \"Topic3\", \"Topic3\", \"Topic3\", \"Topic3\", \"Topic3\", \"Topic3\", \"Topic3\", \"Topic3\", \"Topic3\"], \"logprob\": [30.0, 29.0, 28.0, 27.0, 26.0, 25.0, 24.0, 23.0, 22.0, 21.0, 20.0, 19.0, 18.0, 17.0, 16.0, 15.0, 14.0, 13.0, 12.0, 11.0, 10.0, 9.0, 8.0, 7.0, 6.0, 5.0, 4.0, 3.0, 2.0, 1.0, -3.058, -3.0615, -3.0618, -3.0633, -3.0644, -3.0646, -3.0685, -2.6697, -3.3009, -3.3294, -3.3605, -3.3607, -3.3721, -3.3997, -3.3998, -3.4489, -3.0646, -3.5018, -3.3588, -3.429, -4.3783, -4.387, -4.3926, -4.3977, -4.4015, -4.3903, -4.3971, -4.4019, -4.4058, -4.4061, -4.3626, -2.5312, -3.25, -3.2501, -2.5234, -3.2537, -3.2544, -3.2545, -3.256, -3.2581, -3.2577, -3.2607, -2.5467, -3.2404, -3.8191, -3.7428, -3.9349, -3.9391, -3.951, -3.7982, -3.9823, -3.8547, -3.8559, -3.8971, -3.91, -3.914, -3.9558, -4.0081, -3.8867, -4.5974, -4.5991, -2.7466, -2.7629, -2.7723, -2.7777, -2.8618, -2.8293, -3.8166, -3.8228, -3.8247, -3.8264, -3.8272, -3.8307, -3.8347, -3.8389, -3.841, -3.8245, -3.8322, -3.8313, -3.8298, -3.8389, -3.8417, -3.8384, -3.8275, -3.8392, -3.8169, -3.8258, -3.831, -3.8316, -3.8329, -3.8381, -3.7991, -3.7835, -3.7938, -3.8062], \"loglift\": [30.0, 29.0, 28.0, 27.0, 26.0, 25.0, 24.0, 23.0, 22.0, 21.0, 20.0, 19.0, 18.0, 17.0, 16.0, 15.0, 14.0, 13.0, 12.0, 11.0, 10.0, 9.0, 8.0, 7.0, 6.0, 5.0, 4.0, 3.0, 2.0, 1.0, 0.4675, 0.465, 0.4649, 0.4638, 0.4631, 0.463, 0.4603, 0.4512, 0.2867, 0.2646, 0.2406, 0.2405, 0.2316, 0.2099, 0.2098, 0.1712, 0.1501, 0.1292, -0.3407, -0.4023, -0.5944, -0.6008, -0.6111, -0.6112, -0.6151, -0.635, -0.6413, -0.6457, -0.6491, -0.6492, -1.2486, 0.5828, 0.5073, 0.5068, 0.5033, 0.5031, 0.5027, 0.5017, 0.5006, 0.4987, 0.4981, 0.4946, 0.4715, -0.0257, -0.0375, -0.1119, -0.1486, -0.1552, -0.1646, -0.1781, -0.1961, -0.2452, -0.2462, -0.2934, -0.3089, -0.3128, -0.3618, -0.4204, -0.7657, -1.0687, -1.0716, 1.0396, 1.0235, 1.0141, 1.0062, 0.9197, 0.2846, -0.0598, -0.0675, -0.0681, -0.0694, -0.0714, -0.0739, -0.0786, -0.0817, -0.084, -0.1936, -0.2121, -0.2276, -0.2286, -0.2293, -0.2321, -0.2373, -0.2398, -0.2451, -0.2882, -0.2982, -0.3035, -0.3049, -0.3057, -0.3115, -0.5844, -0.7568, -0.7756, -0.6853]}, \"token.table\": {\"Topic\": [2, 2, 1, 1, 1, 2, 2, 1, 1, 1, 2, 1, 2, 1, 1, 2, 2, 1, 1, 1, 2, 1, 1, 1, 1, 2, 1, 2, 1, 2, 1, 2, 1], \"Freq\": [0.9946432706041204, 0.9957937824639719, 0.8520176224511126, 0.7912845480753337, 0.7909743660687131, 0.9956221997818052, 0.9949556134478247, 0.7900219144514876, 0.8683989621164094, 0.5789661286391526, 0.5789661286391526, 0.47973508231253265, 0.47973508231253265, 0.877852401605774, 0.7916390291468308, 0.9958608698143004, 0.9940843960217071, 0.7925942765855531, 0.8521487356536475, 0.8460858653158734, 0.9960740378650639, 0.5271770168156622, 0.8593674624085806, 0.859310540619059, 0.4756603535445877, 0.4756603535445877, 0.8406905358358431, 0.9956465555452151, 0.7915491563249073, 0.5234830116499571, 0.7908503596846019, 0.9954704371672604, 0.8542818016308819], \"Term\": [\"around\", \"bad\", \"better\", \"blood\", \"cause\", \"consume\", \"dance\", \"doctor\", \"drive\", \"driving\", \"driving\", \"father\", \"father\", \"feel\", \"increased\", \"like\", \"lot\", \"may\", \"never\", \"perform\", \"practice\", \"pressure\", \"school\", \"seems\", \"sister\", \"sister\", \"sometimes\", \"spends\", \"stress\", \"sugar\", \"suggest\", \"time\", \"well\"]}, \"R\": 30, \"lambda.step\": 0.01, \"plot.opts\": {\"xlab\": \"PC1\", \"ylab\": \"PC2\"}, \"topic.order\": [3, 1, 2]};\n",
       "\n",
       "function LDAvis_load_lib(url, callback){\n",
       "  var s = document.createElement('script');\n",
       "  s.src = url;\n",
       "  s.async = true;\n",
       "  s.onreadystatechange = s.onload = callback;\n",
       "  s.onerror = function(){console.warn(\"failed to load library \" + url);};\n",
       "  document.getElementsByTagName(\"head\")[0].appendChild(s);\n",
       "}\n",
       "\n",
       "if(typeof(LDAvis) !== \"undefined\"){\n",
       "   // already loaded: just create the visualization\n",
       "   !function(LDAvis){\n",
       "       new LDAvis(\"#\" + \"ldavis_el226015756757433042365712076\", ldavis_el226015756757433042365712076_data);\n",
       "   }(LDAvis);\n",
       "}else if(typeof define === \"function\" && define.amd){\n",
       "   // require.js is available: use it to load d3/LDAvis\n",
       "   require.config({paths: {d3: \"https://d3js.org/d3.v5\"}});\n",
       "   require([\"d3\"], function(d3){\n",
       "      window.d3 = d3;\n",
       "      LDAvis_load_lib(\"https://cdn.jsdelivr.net/gh/bmabey/pyLDAvis@3.3.1/pyLDAvis/js/ldavis.v3.0.0.js\", function(){\n",
       "        new LDAvis(\"#\" + \"ldavis_el226015756757433042365712076\", ldavis_el226015756757433042365712076_data);\n",
       "      });\n",
       "    });\n",
       "}else{\n",
       "    // require.js not available: dynamically load d3 & LDAvis\n",
       "    LDAvis_load_lib(\"https://d3js.org/d3.v5.js\", function(){\n",
       "         LDAvis_load_lib(\"https://cdn.jsdelivr.net/gh/bmabey/pyLDAvis@3.3.1/pyLDAvis/js/ldavis.v3.0.0.js\", function(){\n",
       "                 new LDAvis(\"#\" + \"ldavis_el226015756757433042365712076\", ldavis_el226015756757433042365712076_data);\n",
       "            })\n",
       "         });\n",
       "}\n",
       "</script>"
      ],
      "text/plain": [
       "PreparedData(topic_coordinates=              x         y  topics  cluster       Freq\n",
       "topic                                                \n",
       "2     -0.065950 -0.010029       1        1  47.861817\n",
       "0      0.050971 -0.022550       2        1  36.735112\n",
       "1      0.014979  0.032579       3        1  15.403071, topic_info=         Term      Freq     Total Category  logprob  loglift\n",
       "5       sugar  1.000000  1.000000  Default  30.0000  30.0000\n",
       "30     expert  0.000000  0.000000  Default  29.0000  29.0000\n",
       "32     health  0.000000  0.000000  Default  28.0000  28.0000\n",
       "33  lifestyle  0.000000  0.000000  Default  27.0000  27.0000\n",
       "31       good  0.000000  0.000000  Default  26.0000  26.0000\n",
       "..        ...       ...       ...      ...      ...      ...\n",
       "20    suggest  0.142630  1.264462   Topic3  -3.8381  -0.3115\n",
       "8     driving  0.148301  1.727217   Topic3  -3.7991  -0.5844\n",
       "2      father  0.150633  2.084484   Topic3  -3.7835  -0.7568\n",
       "4      sister  0.149096  2.102340   Topic3  -3.7938  -0.7756\n",
       "18   pressure  0.147246  1.896896   Topic3  -3.8062  -0.6853\n",
       "\n",
       "[125 rows x 6 columns], token_table=      Topic      Freq       Term\n",
       "term                            \n",
       "6         2  0.994643     around\n",
       "0         2  0.995794        bad\n",
       "21        1  0.852018     better\n",
       "13        1  0.791285      blood\n",
       "14        1  0.790974      cause\n",
       "1         2  0.995622    consume\n",
       "7         2  0.994956      dance\n",
       "15        1  0.790022     doctor\n",
       "22        1  0.868399      drive\n",
       "8         1  0.578966    driving\n",
       "8         2  0.578966    driving\n",
       "2         1  0.479735     father\n",
       "2         2  0.479735     father\n",
       "23        1  0.877852       feel\n",
       "16        1  0.791639  increased\n",
       "3         2  0.995861       like\n",
       "9         2  0.994084        lot\n",
       "17        1  0.792594        may\n",
       "24        1  0.852149      never\n",
       "25        1  0.846086    perform\n",
       "10        2  0.996074   practice\n",
       "18        1  0.527177   pressure\n",
       "26        1  0.859367     school\n",
       "27        1  0.859311      seems\n",
       "4         1  0.475660     sister\n",
       "4         2  0.475660     sister\n",
       "28        1  0.840691  sometimes\n",
       "11        2  0.995647     spends\n",
       "19        1  0.791549     stress\n",
       "5         2  0.523483      sugar\n",
       "20        1  0.790850    suggest\n",
       "12        2  0.995470       time\n",
       "29        1  0.854282       well, R=30, lambda_step=0.01, plot_opts={'xlab': 'PC1', 'ylab': 'PC2'}, topic_order=[3, 1, 2])"
      ]
     },
     "execution_count": 13,
     "metadata": {},
     "output_type": "execute_result"
    }
   ],
   "source": [
    "# conda install -c conda-forge pyldavis\n",
    "# Documentación: https://pyldavis.readthedocs.io/en/latest/modules/API.html\n",
    "\n",
    "import pyLDAvis \n",
    "import pyLDAvis.gensim_models as gensimvis\n",
    "import pickle \n",
    "\n",
    "# Visualize the topics\n",
    "pyLDAvis.enable_notebook()\n",
    "\n",
    "LDAvis_prepared = gensimvis.prepare(ldamodel, doc_term_matrix, common_dictionary)\n",
    "\n",
    "pyLDAvis.save_html(LDAvis_prepared, 'ldavis_prepared_{}.html'.format(3))\n",
    "\n",
    "LDAvis_prepared"
   ]
  },
  {
   "cell_type": "code",
   "execution_count": null,
   "metadata": {},
   "outputs": [],
   "source": []
  },
  {
   "cell_type": "markdown",
   "metadata": {},
   "source": [
    "# Caso de estudio de corpus de Wikipedia"
   ]
  },
  {
   "cell_type": "code",
   "execution_count": 10,
   "metadata": {},
   "outputs": [
    {
     "name": "stdout",
     "output_type": "stream",
     "text": [
      "Función para el pre-procesamiento de texto\n",
      "Función dado un modelo LDA retornar una lista de n topicos con m palabras\n"
     ]
    }
   ],
   "source": [
    "# Funciones ya cargadas anteriormente\n",
    "print(preprocessor.__doc__)\n",
    "print(lda_topics.__doc__)"
   ]
  },
  {
   "cell_type": "code",
   "execution_count": 11,
   "metadata": {},
   "outputs": [],
   "source": [
    "# conda install -c conda-forge wikipedia\n",
    "import wikipedia\n",
    "\n",
    "class TextFetcher:\n",
    "    '''Clase para descargar el resumen'''\n",
    "    def __init__(self, title):\n",
    "        self.title = title\n",
    "        page = wikipedia.page(title)\n",
    "        self.text = page.summary\n",
    "\n",
    "    def getText(self):\n",
    "        return self.text\n"
   ]
  },
  {
   "cell_type": "code",
   "execution_count": 12,
   "metadata": {},
   "outputs": [],
   "source": [
    "# Obtendremos la sección de resumen de 6 páginas de Wikipedia (3 sobre ciudades, 3 sobre temas)\n",
    "pages = ['London', 'Natural Language Processing', 'Paris', 'Topic model', 'Berlin', 'Text mining']\n",
    "docs = []\n",
    "\n",
    "for p in pages:\n",
    "    textFetcher = TextFetcher(p)\n",
    "    text = preprocessor(textFetcher.getText())\n",
    "    docs.append(text)\n",
    "    "
   ]
  },
  {
   "cell_type": "code",
   "execution_count": 13,
   "metadata": {},
   "outputs": [],
   "source": [
    "from sklearn.feature_extraction.text import CountVectorizer\n",
    "\n",
    "# Usar CountVectorizer para encontrar tokens de:\n",
    "vect = CountVectorizer(\n",
    "    stop_words='english', # eliminar palabras cerradas\n",
    "    lowercase=True, # convertir los tokens a minúsculas\n",
    "    # min_df=2, # eliminar tokens que aparecen en al menos 2 documentos\n",
    "    # max_df=round(len(docs)*0.25), # eliminar tokens que no aparecen en más del 25% de los documentos\n",
    "    # token_pattern=r'\\b[a-zAZ]{3,}\\b' #  más de tres letras, ej: de 3 letras '(?u)\\\\b\\\\w\\\\w\\\\w+\\\\b'\n",
    ")\n",
    "# Ajustamos y transformamos\n",
    "X = vect.fit_transform(docs)\n",
    "\n",
    "# Convertir la matriz en formato scipy.sparse en un corpus gensim\n",
    "corpus = gensim.matutils.Sparse2Corpus(X, documents_columns=False)\n",
    "\n",
    "# Asignación de ID de palabra a palabras (para usar en el parámetro id2word de LdaModel)\n",
    "# Se utiliza para determinar el tamaño del vocabulario, así como para depurar e imprimir temas\n",
    "id2word = dict((v, k) for k, v in vect.vocabulary_.items())"
   ]
  },
  {
   "cell_type": "markdown",
   "metadata": {},
   "source": [
    "## Modelo LDA"
   ]
  },
  {
   "cell_type": "code",
   "execution_count": 22,
   "metadata": {},
   "outputs": [
    {
     "name": "stdout",
     "output_type": "stream",
     "text": [
      "[(0,\n",
      "  '0.021*\"london\" + 0.017*\"topic\" + 0.015*\"document\" + 0.012*\"city\" + '\n",
      "  '0.011*\"language\" + 0.010*\"natural\" + 0.009*\"model\" + 0.009*\"europe\" + '\n",
      "  '0.006*\"word\" + 0.006*\"computer\"'),\n",
      " (1,\n",
      "  '0.023*\"berlin\" + 0.015*\"paris\" + 0.012*\"city\" + 0.011*\"text\" + '\n",
      "  '0.009*\"world\" + 0.008*\"museum\" + 0.007*\"information\" + 0.007*\"mining\" + '\n",
      "  '0.006*\"capital\" + 0.006*\"germany\"')]\n"
     ]
    }
   ],
   "source": [
    "# Usamos el constructor gensim.models.ldamodel.LdaModel para estimar\n",
    "# los parámetros del modelo LDA en el corpus, y guardar en la variable `ldamodel`\n",
    "\n",
    "ldamodel = LdaModel(corpus, num_topics=2, id2word=id2word, passes=50)\n",
    "\n",
    "topics = lda_topics(ldamodel, 2, 10)\n",
    "pprint(topics)"
   ]
  },
  {
   "cell_type": "code",
   "execution_count": 23,
   "metadata": {},
   "outputs": [
    {
     "data": {
      "text/html": [
       "\n",
       "<link rel=\"stylesheet\" type=\"text/css\" href=\"https://cdn.jsdelivr.net/gh/bmabey/pyLDAvis@3.3.1/pyLDAvis/js/ldavis.v1.0.0.css\">\n",
       "\n",
       "\n",
       "<div id=\"ldavis_el226015756821502166892157438\"></div>\n",
       "<script type=\"text/javascript\">\n",
       "\n",
       "var ldavis_el226015756821502166892157438_data = {\"mdsDat\": {\"x\": [0.07216180309376544, -0.07216180309376544], \"y\": [0.0, 0.0], \"topics\": [1, 2], \"cluster\": [1, 1], \"Freq\": [66.39743682083825, 33.60256317916175]}, \"tinfo\": {\"Term\": [\"london\", \"topic\", \"berlin\", \"document\", \"language\", \"model\", \"natural\", \"word\", \"computer\", \"greater\", \"appear\", \"cat\", \"dog\", \"processing\", \"greenwich\", \"westminster\", \"body\", \"discovering\", \"particular\", \"frequently\", \"europe\", \"mining\", \"moscow\", \"structure\", \"paris\", \"istanbul\", \"st\", \"financial\", \"england\", \"thirdmost\", \"berlin\", \"mining\", \"germany\", \"german\", \"mus\\u00e9e\", \"popular\", \"region\", \"visitor\", \"analysis\", \"east\", \"state\", \"brandenburg\", \"france\", \"pattern\", \"paris\", \"dialect\", \"lake\", \"european\", \"percent\", \"cup\", \"1900\", \"french\", \"according\", \"extraction\", \"involves\", \"database\", \"usually\", \"capital\", \"million\", \"include\", \"text\", \"museum\", \"information\", \"world\", \"city\", \"university\", \"art\", \"data\", \"area\", \"population\", \"process\", \"europe\", \"document\", \"centre\", \"london\", \"topic\", \"greater\", \"appear\", \"cat\", \"dog\", \"greenwich\", \"westminster\", \"body\", \"discovering\", \"particular\", \"frequently\", \"model\", \"istanbul\", \"st\", \"england\", \"financial\", \"thirdmost\", \"british\", \"core\", \"education\", \"settlement\", \"used\", \"tool\", \"semantic\", \"textmining\", \"large\", \"insight\", \"organize\", \"understanding\", \"language\", \"word\", \"computer\", \"document\", \"natural\", \"processing\", \"europe\", \"city\", \"moscow\", \"structure\", \"science\", \"world\", \"populous\", \"information\", \"museum\", \"text\", \"mean\"], \"Freq\": [10.0, 8.0, 21.0, 10.0, 6.0, 5.0, 7.0, 4.0, 4.0, 2.0, 2.0, 2.0, 2.0, 3.0, 2.0, 2.0, 2.0, 2.0, 2.0, 2.0, 8.0, 7.0, 2.0, 2.0, 15.0, 1.0, 1.0, 1.0, 1.0, 1.0, 21.590436109331176, 6.724615974834881, 6.016871212465725, 5.308981302802781, 4.601087021233398, 3.893201046286249, 3.893199734714317, 3.8931975487610972, 3.893055024611173, 3.1853128853858808, 3.1853128853858808, 3.1853128853858808, 3.185308076288797, 3.185167300901449, 13.810206274269811, 2.4774240686995466, 2.4774238501042247, 2.4774225385322928, 2.477419696793107, 2.477419696793107, 2.477419696793107, 2.477419041007141, 2.4773737917754937, 2.4772784842151148, 2.4772784842151148, 2.477278265619793, 2.477278265619793, 6.019510095192542, 5.311214035421378, 5.310914997020924, 10.26686791517725, 7.435080063009339, 6.727327868399236, 8.142221939480503, 11.680876238013898, 3.8946713184218167, 3.8946512076521955, 4.603637154259495, 4.602460237046011, 4.602437503132526, 3.189097207599819, 4.599576090367943, 3.877800568662844, 3.1858235240580015, 10.190100551263647, 7.986803036827361, 2.478597306496525, 2.478583809977033, 2.478583588722615, 2.478583588722615, 1.9277758041948865, 1.9277755829404686, 1.927762307675394, 1.9277620864209761, 1.927731553311305, 1.9277308895480514, 4.139099322640747, 1.3769545231476656, 1.3769544125204567, 1.3769544125204567, 1.3769544125204567, 1.3769544125204567, 1.3769541912660388, 1.3769541912660388, 1.3769541912660388, 1.3769541912660388, 1.3769411372553821, 1.3769411372553821, 1.3769408053737553, 1.3769408053737553, 1.3768947844548307, 1.3768946738276218, 1.3768946738276218, 1.3768480997726524, 5.242014982655825, 3.0350565926208506, 3.034504341593755, 6.897267958989622, 4.687274843358637, 2.482692062008729, 4.132351947912257, 5.782951058819799, 1.9288225588460042, 1.9286510866721263, 1.9280014837011514, 3.028220937379616, 1.9281941962991485, 1.9258878402468864, 1.9259951486395712, 1.925817923850828, 1.379102792918333], \"Total\": [10.0, 8.0, 21.0, 10.0, 6.0, 5.0, 7.0, 4.0, 4.0, 2.0, 2.0, 2.0, 2.0, 3.0, 2.0, 2.0, 2.0, 2.0, 2.0, 2.0, 8.0, 7.0, 2.0, 2.0, 15.0, 1.0, 1.0, 1.0, 1.0, 1.0, 21.865922723090534, 7.000204116715258, 6.292346348652155, 5.584456024137178, 4.876565365608887, 4.168676293099888, 4.168675811232023, 4.168675588911762, 4.1686432771187585, 3.460786611075397, 3.4607866663890015, 3.4607866940458036, 3.460785480333011, 3.4607542811961314, 15.182177484162958, 2.7528971029690066, 2.7528969396872895, 2.7528966790738423, 2.752895994565231, 2.7528962434764512, 2.752896298790056, 2.7528959195721123, 2.752885932763319, 2.75286463480573, 2.7528646901193343, 2.752864526837617, 2.752864637464826, 6.843699506604466, 6.135719010946842, 6.13565328533007, 12.192685839028078, 9.36107521164891, 8.653215708646123, 11.170442876860118, 17.4638272968337, 4.719770030177733, 4.719765683785388, 5.978718980013996, 5.978458166717856, 5.978453133157803, 4.012393470240257, 8.7319280382802, 10.775068527652467, 4.562488425172627, 10.54411067482548, 8.340828024871088, 2.832601145442853, 2.83260478133172, 2.8326048606458696, 2.8326049152947004, 2.281779069328494, 2.281778957371737, 2.2817825685952844, 2.281782593260604, 2.2817916532286247, 2.2817913993315995, 5.19055801368957, 1.7309570505220613, 1.730956994543683, 1.7309570491925135, 1.7309570491925135, 1.7309570765169286, 1.7309569372357565, 1.730956991884587, 1.730956991884587, 1.7309570738578328, 1.7309607150648916, 1.7309607970381373, 1.7309606564274171, 1.730960765725078, 1.73097373821867, 1.7309737642135374, 1.730973928160029, 1.7309866754105592, 6.999727834573293, 4.089597805602428, 4.089755224288107, 10.775068527652467, 7.157911308715704, 3.539215169476944, 8.7319280382802, 17.4638272968337, 2.9892628944839146, 2.9893113292039386, 3.697383828286646, 11.170442876860118, 4.405218454154813, 8.653215708646123, 9.36107521164891, 12.192685839028078, 2.4381263029768974], \"Category\": [\"Default\", \"Default\", \"Default\", \"Default\", \"Default\", \"Default\", \"Default\", \"Default\", \"Default\", \"Default\", \"Default\", \"Default\", \"Default\", \"Default\", \"Default\", \"Default\", \"Default\", \"Default\", \"Default\", \"Default\", \"Default\", \"Default\", \"Default\", \"Default\", \"Default\", \"Default\", \"Default\", \"Default\", \"Default\", \"Default\", \"Topic1\", \"Topic1\", \"Topic1\", \"Topic1\", \"Topic1\", \"Topic1\", \"Topic1\", \"Topic1\", \"Topic1\", \"Topic1\", \"Topic1\", \"Topic1\", \"Topic1\", \"Topic1\", \"Topic1\", \"Topic1\", \"Topic1\", \"Topic1\", \"Topic1\", \"Topic1\", \"Topic1\", \"Topic1\", \"Topic1\", \"Topic1\", \"Topic1\", \"Topic1\", \"Topic1\", \"Topic1\", \"Topic1\", \"Topic1\", \"Topic1\", \"Topic1\", \"Topic1\", \"Topic1\", \"Topic1\", \"Topic1\", \"Topic1\", \"Topic1\", \"Topic1\", \"Topic1\", \"Topic1\", \"Topic1\", \"Topic1\", \"Topic1\", \"Topic2\", \"Topic2\", \"Topic2\", \"Topic2\", \"Topic2\", \"Topic2\", \"Topic2\", \"Topic2\", \"Topic2\", \"Topic2\", \"Topic2\", \"Topic2\", \"Topic2\", \"Topic2\", \"Topic2\", \"Topic2\", \"Topic2\", \"Topic2\", \"Topic2\", \"Topic2\", \"Topic2\", \"Topic2\", \"Topic2\", \"Topic2\", \"Topic2\", \"Topic2\", \"Topic2\", \"Topic2\", \"Topic2\", \"Topic2\", \"Topic2\", \"Topic2\", \"Topic2\", \"Topic2\", \"Topic2\", \"Topic2\", \"Topic2\", \"Topic2\", \"Topic2\", \"Topic2\", \"Topic2\", \"Topic2\", \"Topic2\", \"Topic2\", \"Topic2\", \"Topic2\", \"Topic2\"], \"logprob\": [30.0, 29.0, 28.0, 27.0, 26.0, 25.0, 24.0, 23.0, 22.0, 21.0, 20.0, 19.0, 18.0, 17.0, 16.0, 15.0, 14.0, 13.0, 12.0, 11.0, 10.0, 9.0, 8.0, 7.0, 6.0, 5.0, 4.0, 3.0, 2.0, 1.0, -3.7724, -4.9389, -5.0501, -5.1753, -5.3184, -5.4854, -5.4854, -5.4854, -5.4855, -5.6861, -5.6861, -5.6861, -5.6861, -5.6862, -4.2193, -5.9374, -5.9374, -5.9374, -5.9374, -5.9374, -5.9374, -5.9374, -5.9375, -5.9375, -5.9375, -5.9375, -5.9375, -5.0497, -5.1748, -5.1749, -4.5157, -4.8385, -4.9385, -4.7476, -4.3867, -5.4851, -5.4851, -5.3178, -5.3181, -5.3181, -5.6849, -5.3187, -5.4894, -5.686, -3.8422, -4.0858, -5.2559, -5.2559, -5.2559, -5.2559, -5.5072, -5.5072, -5.5073, -5.5073, -5.5073, -5.5073, -4.7431, -5.8437, -5.8437, -5.8437, -5.8437, -5.8437, -5.8437, -5.8437, -5.8437, -5.8437, -5.8437, -5.8437, -5.8437, -5.8437, -5.8438, -5.8438, -5.8438, -5.8438, -4.5069, -5.0534, -5.0536, -4.2325, -4.6188, -5.2543, -4.7448, -4.4087, -5.5067, -5.5068, -5.5071, -5.0556, -5.507, -5.5082, -5.5082, -5.5083, -5.8422], \"loglift\": [30.0, 29.0, 28.0, 27.0, 26.0, 25.0, 24.0, 23.0, 22.0, 21.0, 20.0, 19.0, 18.0, 17.0, 16.0, 15.0, 14.0, 13.0, 12.0, 11.0, 10.0, 9.0, 8.0, 7.0, 6.0, 5.0, 4.0, 3.0, 2.0, 1.0, 0.3968, 0.3693, 0.3647, 0.3589, 0.3514, 0.3411, 0.3411, 0.3411, 0.3411, 0.3266, 0.3266, 0.3266, 0.3266, 0.3265, 0.3148, 0.3041, 0.3041, 0.3041, 0.3041, 0.3041, 0.3041, 0.3041, 0.3041, 0.304, 0.304, 0.304, 0.304, 0.2812, 0.2652, 0.2652, 0.2376, 0.1792, 0.1578, 0.0933, 0.0073, 0.2174, 0.2174, 0.1482, 0.1479, 0.1479, 0.1799, -0.2315, -0.6125, 0.0504, 1.0564, 1.0472, 0.9571, 0.9571, 0.9571, 0.9571, 0.922, 0.922, 0.922, 0.922, 0.922, 0.922, 0.8642, 0.8618, 0.8618, 0.8618, 0.8618, 0.8618, 0.8618, 0.8618, 0.8618, 0.8618, 0.8618, 0.8618, 0.8618, 0.8618, 0.8617, 0.8617, 0.8617, 0.8617, 0.8014, 0.7924, 0.7921, 0.6445, 0.6672, 0.736, 0.3424, -0.0146, 0.6525, 0.6523, 0.4394, -0.2147, 0.2644, -0.412, -0.4905, -0.7549, 0.5208]}, \"token.table\": {\"Topic\": [1, 1, 1, 2, 1, 2, 1, 2, 1, 2, 1, 2, 1, 2, 2, 1, 2, 1, 2, 1, 2, 2, 1, 1, 2, 1, 1, 2, 1, 2, 2, 1, 2, 2, 1, 2, 1, 1, 2, 1, 1, 2, 1, 1, 2, 2, 1, 2, 1, 2, 2, 1, 2, 1, 1, 2, 2, 2, 1, 2, 1, 2, 1, 1, 2, 1, 2, 1, 2, 1, 1, 2, 2, 1, 2, 2, 1, 1, 1, 1, 2, 1, 2, 1, 2, 1, 2, 1, 1, 2, 2, 2, 2, 1, 1, 2, 1, 2, 2, 2, 2, 2, 2, 1, 2, 2, 1, 1, 2, 1, 2, 1, 2], \"Freq\": [0.7265075698198415, 0.7265103054932683, 0.9595448048902568, 0.7060639073904692, 0.8363360352398309, 0.1672672070479662, 0.8474996997715117, 0.21187492494287793, 1.006131791400135, 0.8765077039006587, 0.8668549278582885, 0.5777151230561202, 0.8767187972250594, 0.1461197995375099, 0.7060638876203774, 0.6575359147100722, 0.21917863823669073, 0.6871346009116612, 0.3435673004558306, 0.2445134109888123, 0.7335402329664369, 0.5777151048168132, 0.7265075844174685, 0.8362995512440519, 0.16725991024881037, 0.7265159547453364, 0.7265073575917512, 0.8765076944258986, 0.3712273374164302, 0.6496478404787529, 0.7060638739984403, 0.8668549486406464, 0.5777151048168132, 0.5777150856900217, 0.5726112237847504, 0.45808897902780027, 0.726507469460445, 0.7265159262511796, 0.5777150856900217, 0.8668552318681502, 0.7265076698979828, 0.8765043117376355, 0.8953423535594089, 0.9535393742725594, 0.706064813684638, 0.8765090480861415, 0.8149091494388478, 0.16298182988776957, 0.8089478219069169, 0.231127949116262, 0.5777095070267266, 0.7265159116532174, 0.5777150852462788, 0.7265074006828554, 0.2857253949391478, 0.7143134873478695, 0.5777095157024689, 0.9483967219611448, 0.41015102407903253, 0.41015102407903253, 0.8149004201593023, 0.16298008403186046, 0.9999708413195023, 0.19265751338538198, 0.7706300535415279, 0.33453063022502955, 0.6690612604500591, 0.747777348406432, 0.21365067097326626, 1.025311797369028, 0.2794111178165529, 0.6985277945413823, 0.5777094523098731, 0.922133864829592, 0.06586670463068514, 0.8765042142082065, 0.8668630466775347, 0.7265076501067971, 0.9595372052804662, 0.8363367393931569, 0.16726734787863137, 0.45400699665953814, 0.45400699665953814, 0.7476834020020384, 0.24922780066734615, 0.2825485177121313, 0.5650970354242626, 0.959537316195818, 0.540923012833859, 0.540923012833859, 0.5777138817608545, 0.577715077457855, 0.5777151039293275, 0.866854934785741, 0.33452520994737023, 0.6690504198947405, 0.8201638369120101, 0.16403276738240202, 0.5777138452823987, 0.5777150765703692, 0.5777138348315624, 0.9591373873367499, 0.5777051979691397, 0.8474989193169167, 0.21187472982922917, 0.5777138621904029, 0.7265159255494104, 0.959537367369046, 0.8765090910925466, 0.24452282291184688, 0.7335684687355406, 0.7161757226808099, 0.2685658960053037], \"Term\": [\"1900\", \"according\", \"analysis\", \"appear\", \"area\", \"area\", \"art\", \"art\", \"berlin\", \"body\", \"brandenburg\", \"british\", \"capital\", \"capital\", \"cat\", \"centre\", \"centre\", \"city\", \"city\", \"computer\", \"computer\", \"core\", \"cup\", \"data\", \"data\", \"database\", \"dialect\", \"discovering\", \"document\", \"document\", \"dog\", \"east\", \"education\", \"england\", \"europe\", \"europe\", \"european\", \"extraction\", \"financial\", \"france\", \"french\", \"frequently\", \"german\", \"germany\", \"greater\", \"greenwich\", \"include\", \"include\", \"information\", \"information\", \"insight\", \"involves\", \"istanbul\", \"lake\", \"language\", \"language\", \"large\", \"london\", \"mean\", \"mean\", \"million\", \"million\", \"mining\", \"model\", \"model\", \"moscow\", \"moscow\", \"museum\", \"museum\", \"mus\\u00e9e\", \"natural\", \"natural\", \"organize\", \"paris\", \"paris\", \"particular\", \"pattern\", \"percent\", \"popular\", \"population\", \"population\", \"populous\", \"populous\", \"process\", \"process\", \"processing\", \"processing\", \"region\", \"science\", \"science\", \"semantic\", \"settlement\", \"st\", \"state\", \"structure\", \"structure\", \"text\", \"text\", \"textmining\", \"thirdmost\", \"tool\", \"topic\", \"understanding\", \"university\", \"university\", \"used\", \"usually\", \"visitor\", \"westminster\", \"word\", \"word\", \"world\", \"world\"]}, \"R\": 30, \"lambda.step\": 0.01, \"plot.opts\": {\"xlab\": \"PC1\", \"ylab\": \"PC2\"}, \"topic.order\": [2, 1]};\n",
       "\n",
       "function LDAvis_load_lib(url, callback){\n",
       "  var s = document.createElement('script');\n",
       "  s.src = url;\n",
       "  s.async = true;\n",
       "  s.onreadystatechange = s.onload = callback;\n",
       "  s.onerror = function(){console.warn(\"failed to load library \" + url);};\n",
       "  document.getElementsByTagName(\"head\")[0].appendChild(s);\n",
       "}\n",
       "\n",
       "if(typeof(LDAvis) !== \"undefined\"){\n",
       "   // already loaded: just create the visualization\n",
       "   !function(LDAvis){\n",
       "       new LDAvis(\"#\" + \"ldavis_el226015756821502166892157438\", ldavis_el226015756821502166892157438_data);\n",
       "   }(LDAvis);\n",
       "}else if(typeof define === \"function\" && define.amd){\n",
       "   // require.js is available: use it to load d3/LDAvis\n",
       "   require.config({paths: {d3: \"https://d3js.org/d3.v5\"}});\n",
       "   require([\"d3\"], function(d3){\n",
       "      window.d3 = d3;\n",
       "      LDAvis_load_lib(\"https://cdn.jsdelivr.net/gh/bmabey/pyLDAvis@3.3.1/pyLDAvis/js/ldavis.v3.0.0.js\", function(){\n",
       "        new LDAvis(\"#\" + \"ldavis_el226015756821502166892157438\", ldavis_el226015756821502166892157438_data);\n",
       "      });\n",
       "    });\n",
       "}else{\n",
       "    // require.js not available: dynamically load d3 & LDAvis\n",
       "    LDAvis_load_lib(\"https://d3js.org/d3.v5.js\", function(){\n",
       "         LDAvis_load_lib(\"https://cdn.jsdelivr.net/gh/bmabey/pyLDAvis@3.3.1/pyLDAvis/js/ldavis.v3.0.0.js\", function(){\n",
       "                 new LDAvis(\"#\" + \"ldavis_el226015756821502166892157438\", ldavis_el226015756821502166892157438_data);\n",
       "            })\n",
       "         });\n",
       "}\n",
       "</script>"
      ],
      "text/plain": [
       "PreparedData(topic_coordinates=              x    y  topics  cluster       Freq\n",
       "topic                                           \n",
       "1      0.072162  0.0       1        1  66.397437\n",
       "0     -0.072162  0.0       2        1  33.602563, topic_info=            Term       Freq      Total Category  logprob  loglift\n",
       "0         london  10.000000  10.000000  Default  30.0000  30.0000\n",
       "424        topic   8.000000   8.000000  Default  29.0000  29.0000\n",
       "501       berlin  21.000000  21.000000  Default  28.0000  28.0000\n",
       "206     document  10.000000  10.000000  Default  27.0000  27.0000\n",
       "117     language   6.000000   6.000000  Default  26.0000  26.0000\n",
       "..           ...        ...        ...      ...      ...      ...\n",
       "123     populous   1.928194   4.405218   Topic2  -5.5070   0.2644\n",
       "212  information   1.925888   8.653216   Topic2  -5.5082  -0.4120\n",
       "170       museum   1.925995   9.361075   Topic2  -5.5082  -0.4905\n",
       "439         text   1.925818  12.192686   Topic2  -5.5083  -0.7549\n",
       "115         mean   1.379103   2.438126   Topic2  -5.8422   0.5208\n",
       "\n",
       "[121 rows x 6 columns], token_table=      Topic      Freq         Term\n",
       "term                              \n",
       "279       1  0.726508         1900\n",
       "248       1  0.726510    according\n",
       "739       1  0.959545     analysis\n",
       "445       2  0.706064       appear\n",
       "129       1  0.836336         area\n",
       "...     ...       ...          ...\n",
       "49        2  0.876509  westminster\n",
       "444       1  0.244523         word\n",
       "444       2  0.733568         word\n",
       "55        1  0.716176        world\n",
       "55        2  0.268566        world\n",
       "\n",
       "[113 rows x 3 columns], R=30, lambda_step=0.01, plot_opts={'xlab': 'PC1', 'ylab': 'PC2'}, topic_order=[2, 1])"
      ]
     },
     "execution_count": 23,
     "metadata": {},
     "output_type": "execute_result"
    }
   ],
   "source": [
    "# Visualize the topics\n",
    "\n",
    "word2id = dict((k, v) for k, v in vect.vocabulary_.items())\n",
    "d = Dictionary()\n",
    "d.id2token = id2word\n",
    "d.token2id = word2id\n",
    "\n",
    "pyLDAvis.enable_notebook()\n",
    "LDAvis_prepared = gensimvis.prepare(ldamodel, corpus, d )\n",
    "LDAvis_prepared"
   ]
  },
  {
   "cell_type": "code",
   "execution_count": null,
   "metadata": {},
   "outputs": [],
   "source": []
  },
  {
   "cell_type": "code",
   "execution_count": null,
   "metadata": {},
   "outputs": [],
   "source": []
  },
  {
   "cell_type": "markdown",
   "metadata": {},
   "source": [
    "## Mejor modelado de tópicos"
   ]
  },
  {
   "attachments": {
    "imagen.png": {
     "image/png": "[encoded data removed]"
    }
   },
   "cell_type": "markdown",
   "metadata": {},
   "source": [
    "En la figura se muestra, como propuesta, los pasos a seguir para obtener el modelado de tópicos óptimo, a partir de construir diversos modelos LDA con todas las posibles combinaciones de parámetros. Los parámetros que se tienen en cuenta son:\n",
    "<ul>\n",
    "    <li>un conjunto de número de tópicos, y</li>\n",
    "    <li>el radio de velocidad de aprendizaje (learning_decay )</li>\n",
    "</ul>\n",
    "<br>\n",
    "Para la selección del modelo óptimo se tiene en cuenta los valores de Log-likelihood (verosimilitud o, simplemente, verosimilitud o probabilidad logarítmica)\n",
    "\n",
    "![imagen.png](attachment:imagen.png)"
   ]
  },
  {
   "cell_type": "markdown",
   "metadata": {},
   "source": [
    "<ol>\n",
    "  <li>Indague en el significado de los términos: velocidad de aprendizaje y Log-likelihood.</li>\n",
    "  <li>Ponga en práctica la implementación de dicha propuesta a partir de algún ejemplo cualesquiera de conjunto de textos.</li>\n",
    "    <b>Sugerencia:</b> Realizar varios casos de pruebas en el cual se modifiquen, eliminen o incorporen parámetros del preprocesamiento de los documentos para tratar de obtener un mejor modelado.\n",
    "  <li>Describa el significado que tiene la Visualización del Modelo Óptimo (el cual es representado a través del paquete pyLDAvis) con respecto a las burbujas representadas, la dispersión de ellas y su tamaño en el gráfico.</li>\n",
    "</ol>\n"
   ]
  },
  {
   "cell_type": "code",
   "execution_count": 45,
   "metadata": {},
   "outputs": [],
   "source": [
    "from sklearn.feature_extraction.text import CountVectorizer, TfidfVectorizer\n",
    "from sklearn.decomposition import LatentDirichletAllocation\n",
    "\n",
    "import numpy as np\n",
    "import pandas as pd\n",
    "\n",
    "from pprint import pprint\n",
    "from sklearn.model_selection import GridSearchCV\n",
    "\n",
    "# Plotting tools\n",
    "import pyLDAvis\n",
    "import pyLDAvis.sklearn\n",
    "\n",
    "def best_model(docs):\n",
    "    # Usar CountVectorizer para encontrar tokens de\n",
    "    vectorizer = CountVectorizer(\n",
    "        strip_accents = 'unicode',\n",
    "        stop_words = 'english', # eliminar palabras cerradas\n",
    "        lowercase = True, # convertir los tokens a minúsculas\n",
    "        token_pattern = r'\\b[a-zA-Z]{3,}\\b', # más de tres letras\n",
    "        max_df = 0.5, # eliminar tokens que no aparecen en más del 50% de los documentos\n",
    "        min_df = round(len(docs)*0.25) # eliminar tokens que aparecen en al menos del 25% del total de documentos\n",
    "    )\n",
    "    \n",
    "    data_vectorized = vectorizer.fit_transform(docs)   \n",
    "\n",
    "    # Materialize the sparse data\n",
    "    data_dense = data_vectorized.todense()\n",
    "    #Compute Sparsicity = Percentage of Non-Zero cells\n",
    "    print(\"Sparsicity: \", ((data_dense > 0).sum()/data_dense.size)*100,\"%\")\n",
    "\n",
    "    n_topics = [2, 3, 4, 5, 7, 10, 13, 15, 20]\n",
    "    # Define Search Param\n",
    "    search_params = {'n_components': n_topics, 'learning_decay': [.5, .7, .9]}\n",
    "    \n",
    "    # Init the Model\n",
    "    # Latent Dirichlet Allocation with online variational Bayes algorithm \n",
    "    lda = LatentDirichletAllocation()\n",
    "    \n",
    "    # Init Grid Search Class\n",
    "    model = GridSearchCV(lda, param_grid=search_params)\n",
    "    \n",
    "    # Do the Grid Search\n",
    "    model.fit(data_vectorized)\n",
    "    \n",
    "    # Best Model\n",
    "    best_lda_model = model.best_estimator_\n",
    "    \n",
    "    # Model Parameters\n",
    "    print(\"Best Model's Params: \", model.best_params_)\n",
    "    # Log Likelihood Score\n",
    "    print(\"Best Log Likelihood Score: \", model.best_score_)\n",
    "    # Perplexity\n",
    "    print(\"Model Perplexity: \", best_lda_model.perplexity(data_vectorized))\n",
    "        \n",
    "    n_words=15\n",
    "    tf_feature_names = vectorizer.get_feature_names()\n",
    "    print_top_words(best_lda_model, tf_feature_names, n_words)\n",
    "    \n",
    "    topic_keywords = show_topics(vectorizer, best_lda_model, n_words)        \n",
    "\n",
    "    # Topic - Keywords Dataframe\n",
    "    df_topic_keywords = pd.DataFrame(topic_keywords)\n",
    "    df_topic_keywords.columns = ['Word '+str(i) for i in range(df_topic_keywords.shape[1])]\n",
    "    df_topic_keywords.index = ['Topic '+str(i) for i in range(df_topic_keywords.shape[0])]\n",
    "    df_topic_keywords\n",
    "    \n",
    "    # How to visualize the LDA model with pyLDAvis?\n",
    "    pyLDAvis.enable_notebook()\n",
    "    # pyLDAvis now also supports LDA application from scikit-learn.\n",
    "    panel = pyLDAvis.sklearn.prepare(best_lda_model, data_vectorized, vectorizer, mds='tsne')\n",
    "    # uncomment next line if you want to make an html file with the visualization\n",
    "    pyLDAvis.save_html(panel, 'best_model.html')\n",
    "    return panel\n",
    "    \n",
    "# Show top n keywords for each topic\n",
    "def show_topics(vectorizer, lda_model, n_words):\n",
    "    keywords = np.array(vectorizer.get_feature_names())\n",
    "    topic_keywords = []\n",
    "    for topic_weights in lda_model.components_:\n",
    "        top_keyword_locs = (-topic_weights).argsort()[:n_words]\n",
    "        topic_keywords.append(keywords.take(top_keyword_locs))\n",
    "    return topic_keywords\n",
    "\n",
    "def print_top_words(model, feature_names, n_top_words):\n",
    "    for topic_idx, topic in enumerate(model.components_):\n",
    "        message = \"Topic #%d: \" % topic_idx\n",
    "        message += \" \".join([feature_names[i]\n",
    "                             for i in topic.argsort()[:-n_top_words - 1:-1]])\n",
    "        print(message)\n",
    "    print()"
   ]
  },
  {
   "cell_type": "code",
   "execution_count": 46,
   "metadata": {},
   "outputs": [
    {
     "name": "stdout",
     "output_type": "stream",
     "text": [
      "Sparsicity:  37.46666666666666 %\n"
     ]
    },
    {
     "name": "stderr",
     "output_type": "stream",
     "text": [
      "C:\\ProgramData\\Anaconda3\\lib\\site-packages\\sklearn\\model_selection\\_split.py:1978: FutureWarning: The default value of cv will change from 3 to 5 in version 0.22. Specify it explicitly to silence this warning.\n",
      "  warnings.warn(CV_WARNING, FutureWarning)\n"
     ]
    },
    {
     "name": "stdout",
     "output_type": "stream",
     "text": [
      "Best Model's Params:  {'learning_decay': 0.9, 'n_components': 2}\n",
      "Best Log Likelihood Score:  -928.6617932545511\n",
      "Model Perplexity:  91.09553325282796\n",
      "Topic #0: text document information model data word computer process processing written different structure collection set discovery\n",
      "Topic #1: city paris world museum europe capital million population area art university centre populous region popular\n",
      "\n"
     ]
    },
    {
     "data": {
      "text/html": [
       "\n",
       "<link rel=\"stylesheet\" type=\"text/css\" href=\"https://cdn.jsdelivr.net/gh/bmabey/pyLDAvis@3.3.1/pyLDAvis/js/ldavis.v1.0.0.css\">\n",
       "\n",
       "\n",
       "<div id=\"ldavis_el1246816658889004241575070278\"></div>\n",
       "<script type=\"text/javascript\">\n",
       "\n",
       "var ldavis_el1246816658889004241575070278_data = {\"mdsDat\": {\"x\": [-60.31231689453125, 60.31256103515625], \"y\": [141.36962890625, -141.369140625], \"topics\": [1, 2], \"cluster\": [1, 1], \"Freq\": [67.76597528050812, 32.234024719491885]}, \"tinfo\": {\"Term\": [\"text\", \"document\", \"information\", \"model\", \"data\", \"city\", \"word\", \"computer\", \"paris\", \"process\", \"processing\", \"world\", \"written\", \"different\", \"learning\", \"discovery\", \"set\", \"type\", \"application\", \"modeling\", \"statistical\", \"particular\", \"frequently\", \"museum\", \"europe\", \"structure\", \"typically\", \"refers\", \"algorithm\", \"similar\", \"city\", \"paris\", \"world\", \"museum\", \"europe\", \"capital\", \"million\", \"population\", \"area\", \"art\", \"university\", \"centre\", \"populous\", \"region\", \"popular\", \"largest\", \"gallery\", \"west\", \"landmark\", \"site\", \"major\", \"number\", \"century\", \"national\", \"tower\", \"inhabitant\", \"library\", \"moscow\", \"european\", \"billion\", \"text\", \"document\", \"information\", \"model\", \"data\", \"word\", \"computer\", \"process\", \"processing\", \"different\", \"written\", \"application\", \"discovery\", \"learning\", \"set\", \"type\", \"modeling\", \"statistical\", \"frequently\", \"particular\", \"algorithm\", \"refers\", \"similar\", \"technique\", \"typically\", \"goal\", \"nlp\", \"recognition\", \"large\", \"organize\", \"insight\", \"structure\", \"collection\", \"referred\", \"including\"], \"Freq\": [13.0, 13.0, 9.0, 6.0, 6.0, 22.0, 5.0, 5.0, 18.0, 4.0, 4.0, 14.0, 3.0, 3.0, 2.0, 2.0, 2.0, 2.0, 2.0, 2.0, 2.0, 2.0, 2.0, 11.0, 11.0, 3.0, 2.0, 2.0, 2.0, 2.0, 22.43330601477436, 18.20055489948205, 13.967795566499378, 11.428143185013969, 11.428138784717829, 8.041940265439282, 7.195389239578546, 7.195387334055426, 7.195387144145276, 5.502286464362489, 5.502286084713479, 5.502284177995087, 5.502281385398323, 4.655737940735013, 4.655737788970868, 4.655731849204295, 4.6557316974281155, 4.6557316974281155, 3.8091833611704735, 3.8091833611704735, 3.8091797469085193, 3.8091797469085193, 3.809179557366795, 3.809179557366795, 3.809179557366795, 3.809179367822534, 3.809179367822534, 3.8091759429366285, 2.962636266392548, 2.962631709284264, 12.673774128633099, 12.67371625957708, 9.052641738023786, 6.155755171692685, 6.155743582232231, 4.707312351280151, 4.707152531871149, 3.983061074532723, 3.982995542183326, 3.258885528232533, 3.258885528232533, 2.534661258978811, 2.534661258978811, 2.534661258978811, 2.534661258978811, 2.534661258978811, 2.534651506644429, 2.534651506644429, 2.5345621568185366, 2.5345621568185366, 1.81043498697974, 1.81043498697974, 1.81043498697974, 1.81043498697974, 1.81043498697974, 1.8103162404194841, 1.8103162404194841, 1.8103162404194844, 1.8103016643415681, 1.8103016643415681, 1.810301664341568, 2.538990476905796, 2.538310665125336, 1.8133350718545733, 1.8124573855728197], \"Total\": [13.0, 13.0, 9.0, 6.0, 6.0, 22.0, 5.0, 5.0, 18.0, 4.0, 4.0, 14.0, 3.0, 3.0, 2.0, 2.0, 2.0, 2.0, 2.0, 2.0, 2.0, 2.0, 2.0, 11.0, 11.0, 3.0, 2.0, 2.0, 2.0, 2.0, 22.79567346570873, 18.562918340909093, 14.330162028629296, 11.790508706315736, 11.790508070460145, 8.404304313519377, 7.557753172552188, 7.5577528971985535, 7.557752869755983, 5.864650786070733, 5.864650731210347, 5.864650455683992, 5.864650052145635, 5.018100006683525, 5.0180999847531655, 5.018099126439616, 5.018099104507517, 5.018099104507518, 4.1715483521957974, 4.1715483521957974, 4.171547829924432, 4.171547829924432, 4.171547802535101, 4.171547802535101, 4.171547802535101, 4.171547775145404, 4.171547775145404, 4.1715472802394284, 3.324997779281508, 3.3249971207661044, 13.09718043603938, 13.097190210762191, 9.476073895650389, 6.579185395559685, 6.579187353147577, 5.130741067350235, 5.130768062613862, 4.406523948034233, 4.40653501717195, 3.682294037009137, 3.682294037009137, 2.9580723558291098, 2.9580723558291098, 2.9580723558291098, 2.9580723558291098, 2.9580723558291098, 2.958074003106116, 2.958074003106116, 2.9580890952787136, 2.9580890952787136, 2.2338510129348963, 2.2338510129348963, 2.2338510129348963, 2.2338510129348963, 2.2338510129348963, 2.233871070540658, 2.233871070540658, 2.233871070540658, 2.233873532601233, 2.233873532601233, 2.233873532601233, 3.803892263508348, 4.650558251637558, 3.07991231697358, 3.080060567881941], \"Category\": [\"Default\", \"Default\", \"Default\", \"Default\", \"Default\", \"Default\", \"Default\", \"Default\", \"Default\", \"Default\", \"Default\", \"Default\", \"Default\", \"Default\", \"Default\", \"Default\", \"Default\", \"Default\", \"Default\", \"Default\", \"Default\", \"Default\", \"Default\", \"Default\", \"Default\", \"Default\", \"Default\", \"Default\", \"Default\", \"Default\", \"Topic1\", \"Topic1\", \"Topic1\", \"Topic1\", \"Topic1\", \"Topic1\", \"Topic1\", \"Topic1\", \"Topic1\", \"Topic1\", \"Topic1\", \"Topic1\", \"Topic1\", \"Topic1\", \"Topic1\", \"Topic1\", \"Topic1\", \"Topic1\", \"Topic1\", \"Topic1\", \"Topic1\", \"Topic1\", \"Topic1\", \"Topic1\", \"Topic1\", \"Topic1\", \"Topic1\", \"Topic1\", \"Topic1\", \"Topic1\", \"Topic2\", \"Topic2\", \"Topic2\", \"Topic2\", \"Topic2\", \"Topic2\", \"Topic2\", \"Topic2\", \"Topic2\", \"Topic2\", \"Topic2\", \"Topic2\", \"Topic2\", \"Topic2\", \"Topic2\", \"Topic2\", \"Topic2\", \"Topic2\", \"Topic2\", \"Topic2\", \"Topic2\", \"Topic2\", \"Topic2\", \"Topic2\", \"Topic2\", \"Topic2\", \"Topic2\", \"Topic2\", \"Topic2\", \"Topic2\", \"Topic2\", \"Topic2\", \"Topic2\", \"Topic2\", \"Topic2\"], \"logprob\": [30.0, 29.0, 28.0, 27.0, 26.0, 25.0, 24.0, 23.0, 22.0, 21.0, 20.0, 19.0, 18.0, 17.0, 16.0, 15.0, 14.0, 13.0, 12.0, 11.0, 10.0, 9.0, 8.0, 7.0, 6.0, 5.0, 4.0, 3.0, 2.0, 1.0, -2.7328, -2.9419, -3.2066, -3.4073, -3.4073, -3.7587, -3.8699, -3.8699, -3.8699, -4.1382, -4.1382, -4.1382, -4.1382, -4.3052, -4.3052, -4.3052, -4.3052, -4.3052, -4.5059, -4.5059, -4.5059, -4.5059, -4.5059, -4.5059, -4.5059, -4.5059, -4.5059, -4.5059, -4.7573, -4.7573, -2.5608, -2.5608, -2.8972, -3.2829, -3.2829, -3.5512, -3.5512, -3.7182, -3.7183, -3.9189, -3.9189, -4.1702, -4.1702, -4.1702, -4.1702, -4.1702, -4.1702, -4.1702, -4.1703, -4.1703, -4.5067, -4.5067, -4.5067, -4.5067, -4.5067, -4.5068, -4.5068, -4.5068, -4.5068, -4.5068, -4.5068, -4.1685, -4.1688, -4.5051, -4.5056], \"loglift\": [30.0, 29.0, 28.0, 27.0, 26.0, 25.0, 24.0, 23.0, 22.0, 21.0, 20.0, 19.0, 18.0, 17.0, 16.0, 15.0, 14.0, 13.0, 12.0, 11.0, 10.0, 9.0, 8.0, 7.0, 6.0, 5.0, 4.0, 3.0, 2.0, 1.0, 0.3731, 0.3694, 0.3635, 0.3579, 0.3579, 0.345, 0.34, 0.34, 0.34, 0.3253, 0.3253, 0.3253, 0.3253, 0.3142, 0.3142, 0.3142, 0.3142, 0.3142, 0.2982, 0.2982, 0.2982, 0.2982, 0.2982, 0.2982, 0.2982, 0.2982, 0.2982, 0.2982, 0.2737, 0.2737, 1.0993, 1.0993, 1.0864, 1.0656, 1.0656, 1.046, 1.046, 1.0311, 1.0311, 1.01, 1.01, 0.9777, 0.9777, 0.9777, 0.9777, 0.9777, 0.9777, 0.9777, 0.9776, 0.9776, 0.922, 0.922, 0.922, 0.922, 0.922, 0.9219, 0.9219, 0.9219, 0.9219, 0.9219, 0.9219, 0.7279, 0.5267, 0.6024, 0.6019]}, \"token.table\": {\"Topic\": [2, 2, 1, 1, 1, 1, 1, 1, 1, 1, 2, 2, 2, 2, 2, 2, 1, 1, 2, 1, 2, 1, 2, 2, 1, 2, 1, 2, 1, 2, 1, 1, 1, 2, 2, 1, 1, 1, 2, 1, 2, 1, 2, 1, 1, 1, 2, 2, 2, 1, 2, 2, 1, 2, 2, 1, 2, 1, 2, 2, 2, 1, 2, 2, 1, 1, 2, 1, 2], \"Freq\": [0.8953148569081801, 1.01417397518633, 0.9262012294702101, 1.0230788189896554, 0.9022564203931633, 0.9518931849160908, 1.0230788766250898, 0.9588767022085066, 0.9650954174744759, 0.4300558969013577, 0.6450838453520366, 0.9745129655018467, 0.9119667335707524, 0.8147095179929424, 1.01417397518633, 0.9925793082945128, 0.9329538586686795, 0.9022562417013896, 1.014168236104916, 0.9963932349420402, 0.8953068180053674, 0.32466894009414493, 0.6493378801882899, 0.949760428116869, 0.9588767085043334, 0.8953058312442159, 0.958876575862893, 0.8953058312442159, 0.9963932305872049, 1.01417397518633, 0.9588767085043334, 0.958876695912764, 0.9262011923625921, 0.9119670049197003, 1.014173410418353, 0.9588768222639964, 0.9329538083549958, 0.9588767022085066, 0.8953068180053674, 0.958876695912764, 0.8953058312442159, 0.9696751162413655, 1.014168236104916, 0.9963930601605867, 0.9262012261071281, 1.0230789470217148, 0.9077449815708853, 0.9077427013316104, 0.8953068180053674, 0.3246845679628412, 0.6493691359256824, 0.8953148569081801, 0.9963930558060983, 1.01417397518633, 0.8953148569081801, 0.958876575862893, 1.014173410418353, 0.26288862321187173, 0.7886658696356152, 0.8953148569081801, 0.9925800490789628, 0.9588767022085066, 1.01417397518633, 0.8953148569081801, 1.023078828559961, 0.9963932349420401, 0.9745180928770284, 0.9769603422508631, 0.8147095179929424], \"Term\": [\"algorithm\", \"application\", \"area\", \"art\", \"billion\", \"capital\", \"centre\", \"century\", \"city\", \"collection\", \"collection\", \"computer\", \"data\", \"different\", \"discovery\", \"document\", \"europe\", \"european\", \"frequently\", \"gallery\", \"goal\", \"including\", \"including\", \"information\", \"inhabitant\", \"insight\", \"landmark\", \"large\", \"largest\", \"learning\", \"library\", \"major\", \"million\", \"model\", \"modeling\", \"moscow\", \"museum\", \"national\", \"nlp\", \"number\", \"organize\", \"paris\", \"particular\", \"popular\", \"population\", \"populous\", \"process\", \"processing\", \"recognition\", \"referred\", \"referred\", \"refers\", \"region\", \"set\", \"similar\", \"site\", \"statistical\", \"structure\", \"structure\", \"technique\", \"text\", \"tower\", \"type\", \"typically\", \"university\", \"west\", \"word\", \"world\", \"written\"]}, \"R\": 30, \"lambda.step\": 0.01, \"plot.opts\": {\"xlab\": \"PC1\", \"ylab\": \"PC2\"}, \"topic.order\": [2, 1]};\n",
       "\n",
       "function LDAvis_load_lib(url, callback){\n",
       "  var s = document.createElement('script');\n",
       "  s.src = url;\n",
       "  s.async = true;\n",
       "  s.onreadystatechange = s.onload = callback;\n",
       "  s.onerror = function(){console.warn(\"failed to load library \" + url);};\n",
       "  document.getElementsByTagName(\"head\")[0].appendChild(s);\n",
       "}\n",
       "\n",
       "if(typeof(LDAvis) !== \"undefined\"){\n",
       "   // already loaded: just create the visualization\n",
       "   !function(LDAvis){\n",
       "       new LDAvis(\"#\" + \"ldavis_el1246816658889004241575070278\", ldavis_el1246816658889004241575070278_data);\n",
       "   }(LDAvis);\n",
       "}else if(typeof define === \"function\" && define.amd){\n",
       "   // require.js is available: use it to load d3/LDAvis\n",
       "   require.config({paths: {d3: \"https://d3js.org/d3.v5\"}});\n",
       "   require([\"d3\"], function(d3){\n",
       "      window.d3 = d3;\n",
       "      LDAvis_load_lib(\"https://cdn.jsdelivr.net/gh/bmabey/pyLDAvis@3.3.1/pyLDAvis/js/ldavis.v3.0.0.js\", function(){\n",
       "        new LDAvis(\"#\" + \"ldavis_el1246816658889004241575070278\", ldavis_el1246816658889004241575070278_data);\n",
       "      });\n",
       "    });\n",
       "}else{\n",
       "    // require.js not available: dynamically load d3 & LDAvis\n",
       "    LDAvis_load_lib(\"https://d3js.org/d3.v5.js\", function(){\n",
       "         LDAvis_load_lib(\"https://cdn.jsdelivr.net/gh/bmabey/pyLDAvis@3.3.1/pyLDAvis/js/ldavis.v3.0.0.js\", function(){\n",
       "                 new LDAvis(\"#\" + \"ldavis_el1246816658889004241575070278\", ldavis_el1246816658889004241575070278_data);\n",
       "            })\n",
       "         });\n",
       "}\n",
       "</script>"
      ],
      "text/plain": [
       "PreparedData(topic_coordinates=               x           y  topics  cluster       Freq\n",
       "topic                                                   \n",
       "1     -60.312317  141.369629       1        1  67.765975\n",
       "0      60.312561 -141.369141       2        1  32.234025, topic_info=            Term       Freq      Total Category  logprob  loglift\n",
       "109         text  13.000000  13.000000  Default  30.0000  30.0000\n",
       "22      document  13.000000  13.000000  Default  29.0000  29.0000\n",
       "47   information   9.000000   9.000000  Default  28.0000  28.0000\n",
       "68         model   6.000000   6.000000  Default  27.0000  27.0000\n",
       "18          data   6.000000   6.000000  Default  26.0000  26.0000\n",
       "..           ...        ...        ...      ...      ...      ...\n",
       "49       insight   1.810302   2.233874   Topic2  -4.5068   0.9219\n",
       "105    structure   2.538990   3.803892   Topic2  -4.1685   0.7279\n",
       "12    collection   2.538311   4.650558   Topic2  -4.1688   0.5267\n",
       "92      referred   1.813335   3.079912   Topic2  -4.5051   0.6024\n",
       "46     including   1.812457   3.080061   Topic2  -4.5056   0.6019\n",
       "\n",
       "[95 rows x 6 columns], token_table=      Topic      Freq         Term\n",
       "term                              \n",
       "1         2  0.895315    algorithm\n",
       "2         2  1.014174  application\n",
       "3         1  0.926201         area\n",
       "4         1  1.023079          art\n",
       "6         1  0.902256      billion\n",
       "...     ...       ...          ...\n",
       "117       1  1.023079   university\n",
       "120       1  0.996393         west\n",
       "121       2  0.974518         word\n",
       "122       1  0.976960        world\n",
       "124       2  0.814710      written\n",
       "\n",
       "[69 rows x 3 columns], R=30, lambda_step=0.01, plot_opts={'xlab': 'PC1', 'ylab': 'PC2'}, topic_order=[2, 1])"
      ]
     },
     "execution_count": 46,
     "metadata": {},
     "output_type": "execute_result"
    }
   ],
   "source": [
    "best_model(docs)"
   ]
  },
  {
   "cell_type": "code",
   "execution_count": null,
   "metadata": {},
   "outputs": [],
   "source": []
  }
 ],
 "metadata": {
  "kernelspec": {
   "display_name": "Python 3",
   "language": "python",
   "name": "python3"
  },
  "language_info": {
   "codemirror_mode": {
    "name": "ipython",
    "version": 3
   },
   "file_extension": ".py",
   "mimetype": "text/x-python",
   "name": "python",
   "nbconvert_exporter": "python",
   "pygments_lexer": "ipython3",
   "version": "3.7.4"
  }
 },
 "nbformat": 4,
 "nbformat_minor": 2
}
