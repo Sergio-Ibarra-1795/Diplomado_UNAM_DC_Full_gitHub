{
  "nbformat": 4,
  "nbformat_minor": 0,
  "metadata": {
    "colab": {
      "provenance": []
    },
    "kernelspec": {
      "name": "python3",
      "display_name": "Python 3"
    },
    "language_info": {
      "name": "python"
    }
  },
  "cells": [
    {
      "cell_type": "code",
      "source": [
        "# Importamos pandas y bajamos el archivo a un data frame\n",
        "import pandas as pd\n",
        "\n",
        "textos = pd.read_csv('dev_es.tsv',delimiter='\\t')\n",
        "textos"
      ],
      "metadata": {
        "colab": {
          "base_uri": "https://localhost:8080/",
          "height": 424
        },
        "id": "7dAl4YhJRWwG",
        "outputId": "f8a07f61-209f-4cd2-dded-34c7549a8be6"
      },
      "execution_count": 18,
      "outputs": [
        {
          "output_type": "execute_result",
          "data": {
            "text/plain": [
              "        id                                               text  HS  TR  AG\n",
              "0    20005  Me estoy comiendo la picada árabe más rica de ...   0   0   0\n",
              "1    20006      @Haryachyzaychyk Callate zorra y mama duro! 😍   1   1   1\n",
              "2    20011  Acabo de escuchar a Casado diciendo que hay DE...   0   0   0\n",
              "3    20019  Y NADIE SE HA PREGUNTADO LO QUE LE VA A COSTAR...   1   0   1\n",
              "4    20033  @Fed_Durand Callate come sobra, más zorra son ...   1   1   1\n",
              "..     ...                                                ...  ..  ..  ..\n",
              "495  24930  @Rafhyta86 @ElDesmadre__ Habe pasame el video ...   1   0   1\n",
              "496  24953  @IgnacioSena1 Callate hijo de perra , como est...   0   0   0\n",
              "497  24973  @PabloFonta86 @TowandaRebels pero tu eres un a...   0   0   0\n",
              "498  24983  @celesteborghi5 callate q le paso a mili, m pa...   1   1   1\n",
              "499  24986  Traducción:  \"Escucha puta sueca!\"  \"Los árabe...   1   1   1\n",
              "\n",
              "[500 rows x 5 columns]"
            ],
            "text/html": [
              "\n",
              "  <div id=\"df-68de527f-df66-438b-8735-fee27160a191\" class=\"colab-df-container\">\n",
              "    <div>\n",
              "<style scoped>\n",
              "    .dataframe tbody tr th:only-of-type {\n",
              "        vertical-align: middle;\n",
              "    }\n",
              "\n",
              "    .dataframe tbody tr th {\n",
              "        vertical-align: top;\n",
              "    }\n",
              "\n",
              "    .dataframe thead th {\n",
              "        text-align: right;\n",
              "    }\n",
              "</style>\n",
              "<table border=\"1\" class=\"dataframe\">\n",
              "  <thead>\n",
              "    <tr style=\"text-align: right;\">\n",
              "      <th></th>\n",
              "      <th>id</th>\n",
              "      <th>text</th>\n",
              "      <th>HS</th>\n",
              "      <th>TR</th>\n",
              "      <th>AG</th>\n",
              "    </tr>\n",
              "  </thead>\n",
              "  <tbody>\n",
              "    <tr>\n",
              "      <th>0</th>\n",
              "      <td>20005</td>\n",
              "      <td>Me estoy comiendo la picada árabe más rica de ...</td>\n",
              "      <td>0</td>\n",
              "      <td>0</td>\n",
              "      <td>0</td>\n",
              "    </tr>\n",
              "    <tr>\n",
              "      <th>1</th>\n",
              "      <td>20006</td>\n",
              "      <td>@Haryachyzaychyk Callate zorra y mama duro! 😍</td>\n",
              "      <td>1</td>\n",
              "      <td>1</td>\n",
              "      <td>1</td>\n",
              "    </tr>\n",
              "    <tr>\n",
              "      <th>2</th>\n",
              "      <td>20011</td>\n",
              "      <td>Acabo de escuchar a Casado diciendo que hay DE...</td>\n",
              "      <td>0</td>\n",
              "      <td>0</td>\n",
              "      <td>0</td>\n",
              "    </tr>\n",
              "    <tr>\n",
              "      <th>3</th>\n",
              "      <td>20019</td>\n",
              "      <td>Y NADIE SE HA PREGUNTADO LO QUE LE VA A COSTAR...</td>\n",
              "      <td>1</td>\n",
              "      <td>0</td>\n",
              "      <td>1</td>\n",
              "    </tr>\n",
              "    <tr>\n",
              "      <th>4</th>\n",
              "      <td>20033</td>\n",
              "      <td>@Fed_Durand Callate come sobra, más zorra son ...</td>\n",
              "      <td>1</td>\n",
              "      <td>1</td>\n",
              "      <td>1</td>\n",
              "    </tr>\n",
              "    <tr>\n",
              "      <th>...</th>\n",
              "      <td>...</td>\n",
              "      <td>...</td>\n",
              "      <td>...</td>\n",
              "      <td>...</td>\n",
              "      <td>...</td>\n",
              "    </tr>\n",
              "    <tr>\n",
              "      <th>495</th>\n",
              "      <td>24930</td>\n",
              "      <td>@Rafhyta86 @ElDesmadre__ Habe pasame el video ...</td>\n",
              "      <td>1</td>\n",
              "      <td>0</td>\n",
              "      <td>1</td>\n",
              "    </tr>\n",
              "    <tr>\n",
              "      <th>496</th>\n",
              "      <td>24953</td>\n",
              "      <td>@IgnacioSena1 Callate hijo de perra , como est...</td>\n",
              "      <td>0</td>\n",
              "      <td>0</td>\n",
              "      <td>0</td>\n",
              "    </tr>\n",
              "    <tr>\n",
              "      <th>497</th>\n",
              "      <td>24973</td>\n",
              "      <td>@PabloFonta86 @TowandaRebels pero tu eres un a...</td>\n",
              "      <td>0</td>\n",
              "      <td>0</td>\n",
              "      <td>0</td>\n",
              "    </tr>\n",
              "    <tr>\n",
              "      <th>498</th>\n",
              "      <td>24983</td>\n",
              "      <td>@celesteborghi5 callate q le paso a mili, m pa...</td>\n",
              "      <td>1</td>\n",
              "      <td>1</td>\n",
              "      <td>1</td>\n",
              "    </tr>\n",
              "    <tr>\n",
              "      <th>499</th>\n",
              "      <td>24986</td>\n",
              "      <td>Traducción:  \"Escucha puta sueca!\"  \"Los árabe...</td>\n",
              "      <td>1</td>\n",
              "      <td>1</td>\n",
              "      <td>1</td>\n",
              "    </tr>\n",
              "  </tbody>\n",
              "</table>\n",
              "<p>500 rows × 5 columns</p>\n",
              "</div>\n",
              "    <div class=\"colab-df-buttons\">\n",
              "\n",
              "  <div class=\"colab-df-container\">\n",
              "    <button class=\"colab-df-convert\" onclick=\"convertToInteractive('df-68de527f-df66-438b-8735-fee27160a191')\"\n",
              "            title=\"Convert this dataframe to an interactive table.\"\n",
              "            style=\"display:none;\">\n",
              "\n",
              "  <svg xmlns=\"http://www.w3.org/2000/svg\" height=\"24px\" viewBox=\"0 -960 960 960\">\n",
              "    <path d=\"M120-120v-720h720v720H120Zm60-500h600v-160H180v160Zm220 220h160v-160H400v160Zm0 220h160v-160H400v160ZM180-400h160v-160H180v160Zm440 0h160v-160H620v160ZM180-180h160v-160H180v160Zm440 0h160v-160H620v160Z\"/>\n",
              "  </svg>\n",
              "    </button>\n",
              "\n",
              "  <style>\n",
              "    .colab-df-container {\n",
              "      display:flex;\n",
              "      gap: 12px;\n",
              "    }\n",
              "\n",
              "    .colab-df-convert {\n",
              "      background-color: #E8F0FE;\n",
              "      border: none;\n",
              "      border-radius: 50%;\n",
              "      cursor: pointer;\n",
              "      display: none;\n",
              "      fill: #1967D2;\n",
              "      height: 32px;\n",
              "      padding: 0 0 0 0;\n",
              "      width: 32px;\n",
              "    }\n",
              "\n",
              "    .colab-df-convert:hover {\n",
              "      background-color: #E2EBFA;\n",
              "      box-shadow: 0px 1px 2px rgba(60, 64, 67, 0.3), 0px 1px 3px 1px rgba(60, 64, 67, 0.15);\n",
              "      fill: #174EA6;\n",
              "    }\n",
              "\n",
              "    .colab-df-buttons div {\n",
              "      margin-bottom: 4px;\n",
              "    }\n",
              "\n",
              "    [theme=dark] .colab-df-convert {\n",
              "      background-color: #3B4455;\n",
              "      fill: #D2E3FC;\n",
              "    }\n",
              "\n",
              "    [theme=dark] .colab-df-convert:hover {\n",
              "      background-color: #434B5C;\n",
              "      box-shadow: 0px 1px 3px 1px rgba(0, 0, 0, 0.15);\n",
              "      filter: drop-shadow(0px 1px 2px rgba(0, 0, 0, 0.3));\n",
              "      fill: #FFFFFF;\n",
              "    }\n",
              "  </style>\n",
              "\n",
              "    <script>\n",
              "      const buttonEl =\n",
              "        document.querySelector('#df-68de527f-df66-438b-8735-fee27160a191 button.colab-df-convert');\n",
              "      buttonEl.style.display =\n",
              "        google.colab.kernel.accessAllowed ? 'block' : 'none';\n",
              "\n",
              "      async function convertToInteractive(key) {\n",
              "        const element = document.querySelector('#df-68de527f-df66-438b-8735-fee27160a191');\n",
              "        const dataTable =\n",
              "          await google.colab.kernel.invokeFunction('convertToInteractive',\n",
              "                                                    [key], {});\n",
              "        if (!dataTable) return;\n",
              "\n",
              "        const docLinkHtml = 'Like what you see? Visit the ' +\n",
              "          '<a target=\"_blank\" href=https://colab.research.google.com/notebooks/data_table.ipynb>data table notebook</a>'\n",
              "          + ' to learn more about interactive tables.';\n",
              "        element.innerHTML = '';\n",
              "        dataTable['output_type'] = 'display_data';\n",
              "        await google.colab.output.renderOutput(dataTable, element);\n",
              "        const docLink = document.createElement('div');\n",
              "        docLink.innerHTML = docLinkHtml;\n",
              "        element.appendChild(docLink);\n",
              "      }\n",
              "    </script>\n",
              "  </div>\n",
              "\n",
              "\n",
              "<div id=\"df-10b68822-f789-47f7-941c-8fa2c6e26725\">\n",
              "  <button class=\"colab-df-quickchart\" onclick=\"quickchart('df-10b68822-f789-47f7-941c-8fa2c6e26725')\"\n",
              "            title=\"Suggest charts.\"\n",
              "            style=\"display:none;\">\n",
              "\n",
              "<svg xmlns=\"http://www.w3.org/2000/svg\" height=\"24px\"viewBox=\"0 0 24 24\"\n",
              "     width=\"24px\">\n",
              "    <g>\n",
              "        <path d=\"M19 3H5c-1.1 0-2 .9-2 2v14c0 1.1.9 2 2 2h14c1.1 0 2-.9 2-2V5c0-1.1-.9-2-2-2zM9 17H7v-7h2v7zm4 0h-2V7h2v10zm4 0h-2v-4h2v4z\"/>\n",
              "    </g>\n",
              "</svg>\n",
              "  </button>\n",
              "\n",
              "<style>\n",
              "  .colab-df-quickchart {\n",
              "    background-color: #E8F0FE;\n",
              "    border: none;\n",
              "    border-radius: 50%;\n",
              "    cursor: pointer;\n",
              "    display: none;\n",
              "    fill: #1967D2;\n",
              "    height: 32px;\n",
              "    padding: 0 0 0 0;\n",
              "    width: 32px;\n",
              "  }\n",
              "\n",
              "  .colab-df-quickchart:hover {\n",
              "    background-color: #E2EBFA;\n",
              "    box-shadow: 0px 1px 2px rgba(60, 64, 67, 0.3), 0px 1px 3px 1px rgba(60, 64, 67, 0.15);\n",
              "    fill: #174EA6;\n",
              "  }\n",
              "\n",
              "  [theme=dark] .colab-df-quickchart {\n",
              "    background-color: #3B4455;\n",
              "    fill: #D2E3FC;\n",
              "  }\n",
              "\n",
              "  [theme=dark] .colab-df-quickchart:hover {\n",
              "    background-color: #434B5C;\n",
              "    box-shadow: 0px 1px 3px 1px rgba(0, 0, 0, 0.15);\n",
              "    filter: drop-shadow(0px 1px 2px rgba(0, 0, 0, 0.3));\n",
              "    fill: #FFFFFF;\n",
              "  }\n",
              "</style>\n",
              "\n",
              "  <script>\n",
              "    async function quickchart(key) {\n",
              "      const charts = await google.colab.kernel.invokeFunction(\n",
              "          'suggestCharts', [key], {});\n",
              "    }\n",
              "    (() => {\n",
              "      let quickchartButtonEl =\n",
              "        document.querySelector('#df-10b68822-f789-47f7-941c-8fa2c6e26725 button');\n",
              "      quickchartButtonEl.style.display =\n",
              "        google.colab.kernel.accessAllowed ? 'block' : 'none';\n",
              "    })();\n",
              "  </script>\n",
              "</div>\n",
              "    </div>\n",
              "  </div>\n"
            ]
          },
          "metadata": {},
          "execution_count": 18
        }
      ]
    },
    {
      "cell_type": "markdown",
      "source": [
        "### AQUI DEBERIAMOS HACER LIMPIEZA DE LA VARIABLE TEXT QUITANDO SIGNOS, EMOTICONS, SIMBOLOS"
      ],
      "metadata": {
        "id": "MY7M8EItXXw8"
      }
    },
    {
      "cell_type": "code",
      "source": [
        "# Importamos librerias de nltk y sklearn\n",
        "from sklearn.naive_bayes import MultinomialNB\n",
        "from sklearn.metrics import accuracy_score, roc_auc_score, f1_score #son metricas - area debajo de la curva roc\n",
        "\n",
        "from sklearn.feature_extraction.text import CountVectorizer\n",
        "\n",
        "import nltk\n",
        "nltk.download('stopwords')\n",
        "from nltk.corpus import stopwords\n",
        "stop = stopwords.words('spanish')"
      ],
      "metadata": {
        "colab": {
          "base_uri": "https://localhost:8080/"
        },
        "id": "OkgGQuy-V_2z",
        "outputId": "9f02cd07-8666-48de-b3e0-a57b7d30d5ed"
      },
      "execution_count": 33,
      "outputs": [
        {
          "output_type": "stream",
          "name": "stderr",
          "text": [
            "[nltk_data] Downloading package stopwords to /root/nltk_data...\n",
            "[nltk_data]   Package stopwords is already up-to-date!\n"
          ]
        }
      ]
    },
    {
      "cell_type": "markdown",
      "source": [
        "### (1) Tomamos HS como variable dependiente"
      ],
      "metadata": {
        "id": "97Zg0SE7XBTu"
      }
    },
    {
      "cell_type": "code",
      "source": [
        "# Definimos la estructura de entrenamiento\n",
        "from sklearn.model_selection import train_test_split\n",
        "\n",
        "y = textos['HS']\n",
        "X = textos['text']\n",
        "\n",
        "X_train, X_test, y_train, y_test = train_test_split(X,y,test_size=0.2,random_state=2023)"
      ],
      "metadata": {
        "id": "M1whDLPdUITy"
      },
      "execution_count": 22,
      "outputs": []
    },
    {
      "cell_type": "code",
      "source": [
        "# Cantidad de datos con bandera de HS=1\n",
        "y_HS = y[y!=0]\n",
        "print('Total de texto con bandera HS:',len(y_HS))\n",
        "print('El % de textos con bandera HS:',(len(y_HS)/len(y))*100)"
      ],
      "metadata": {
        "colab": {
          "base_uri": "https://localhost:8080/"
        },
        "id": "rXhibG2BVNWl",
        "outputId": "7bc4b2fe-a4b6-40e5-a1f2-048c4aff59e7"
      },
      "execution_count": 25,
      "outputs": [
        {
          "output_type": "stream",
          "name": "stdout",
          "text": [
            "Total de texto con bandera HS: 222\n",
            "El % de textos con bandera HS: 44.4\n"
          ]
        }
      ]
    },
    {
      "cell_type": "code",
      "source": [
        "vect = CountVectorizer().fit(X_train)\n",
        "X_train_vectorized = vect.transform(X_train)\n",
        "\n",
        "clf1 = MultinomialNB()\n",
        "clf1.fit(X_train_vectorized, y_train) # ajusta al calificador 1\n",
        "\n",
        "X_test_vectorized = vect.transform(X_test)\n",
        "predictions1 = clf1.predict(X_test_vectorized) # funcion para predecir 1\n",
        "\n",
        "print('Predicciones y resultados del clasificador 1')\n",
        "print('Predicciones', predictions1)\n",
        "# métricas para verificar que tanto es el calificador es correcto\n",
        "print( 'Accuracy', accuracy_score(y_test, predictions1) )\n",
        "print( 'AUC', roc_auc_score(y_test, predictions1) )\n",
        "print( 'F1', f1_score(y_test, predictions1) )"
      ],
      "metadata": {
        "colab": {
          "base_uri": "https://localhost:8080/"
        },
        "id": "crs1XNNEWcVJ",
        "outputId": "dbdaae3b-07e8-4110-f9d8-44e748a8f213"
      },
      "execution_count": 30,
      "outputs": [
        {
          "output_type": "stream",
          "name": "stdout",
          "text": [
            "Predicciones y resultados del clasificador 1\n",
            "Predicciones [0 1 0 0 0 0 0 1 1 0 1 1 0 0 0 0 0 0 0 1 1 0 0 0 1 0 0 1 0 0 0 0 0 0 1 1 0\n",
            " 0 0 0 1 1 1 1 0 1 0 0 1 0 0 1 0 0 0 0 0 0 1 1 0 1 0 1 0 0 0 0 0 1 1 0 0 0\n",
            " 0 0 0 0 0 0 0 0 0 0 1 0 0 0 0 1 0 1 0 0 0 1 1 0 0 1]\n",
            "Accuracy 0.69\n",
            "AUC 0.6717171717171717\n",
            "F1 0.5866666666666667\n"
          ]
        }
      ]
    },
    {
      "cell_type": "markdown",
      "source": [
        "### (2) Tomamos TR como variable dependiente"
      ],
      "metadata": {
        "id": "dDP7VogEXgTs"
      }
    },
    {
      "cell_type": "code",
      "source": [
        "# Definimos la estructura de entrenamiento\n",
        "from sklearn.model_selection import train_test_split\n",
        "\n",
        "y = textos['TR']\n",
        "X = textos['text']\n",
        "\n",
        "X_train, X_test, y_train, y_test = train_test_split(X,y,test_size=0.2,random_state=2023)"
      ],
      "metadata": {
        "id": "A4IAMS-6Xfkl"
      },
      "execution_count": 38,
      "outputs": []
    },
    {
      "cell_type": "code",
      "source": [
        "# Cantidad de datos con bandera de TR=1\n",
        "y_TR = y[y!=0]\n",
        "print('Total de texto con bandera TR:',len(y_TR))\n",
        "print('El % de textos con bandera TR:',(len(y_TR)/len(y))*100)"
      ],
      "metadata": {
        "colab": {
          "base_uri": "https://localhost:8080/"
        },
        "id": "xC2cA4kxXtJr",
        "outputId": "026d1e89-82e4-495f-ef97-4798d0ebf3c4"
      },
      "execution_count": 39,
      "outputs": [
        {
          "output_type": "stream",
          "name": "stdout",
          "text": [
            "Total de texto con bandera TR: 137\n",
            "El % de textos con bandera TR: 27.400000000000002\n"
          ]
        }
      ]
    },
    {
      "cell_type": "code",
      "source": [
        "vect = CountVectorizer().fit(X_train)\n",
        "X_train_vectorized = vect.transform(X_train)\n",
        "\n",
        "clf2 = MultinomialNB()\n",
        "clf2.fit(X_train_vectorized, y_train) # ajusta al calificador 2\n",
        "\n",
        "X_test_vectorized = vect.transform(X_test)\n",
        "predictions2 = clf2.predict(X_test_vectorized) # funcion para predecir 2\n",
        "\n",
        "print('Predicciones y resultados del clasificador 2')\n",
        "print('Predicciones', predictions2)\n",
        "# métricas para verificar que tanto es el calificador es correcto\n",
        "print( 'Accuracy', accuracy_score(y_test, predictions2) )\n",
        "print( 'AUC', roc_auc_score(y_test, predictions2) )\n",
        "print( 'F1', f1_score(y_test, predictions2) )"
      ],
      "metadata": {
        "colab": {
          "base_uri": "https://localhost:8080/"
        },
        "id": "OCmG4QjJYEvy",
        "outputId": "b39707fd-64eb-431f-f91a-3231f12fbbc4"
      },
      "execution_count": 40,
      "outputs": [
        {
          "output_type": "stream",
          "name": "stdout",
          "text": [
            "Predicciones y resultados del clasificador 2\n",
            "Predicciones [0 1 0 0 0 0 0 0 0 0 0 0 0 0 0 0 0 0 0 0 1 0 0 0 0 0 1 0 0 0 0 0 0 0 0 0 0\n",
            " 0 0 0 0 0 0 1 0 0 0 0 1 0 0 0 0 0 0 0 0 0 0 0 0 0 0 1 0 0 0 0 0 0 0 0 0 0\n",
            " 0 0 0 0 0 0 0 0 0 0 0 0 0 0 0 0 0 0 0 0 0 0 0 0 0 0]\n",
            "Accuracy 0.79\n",
            "AUC 0.6111111111111112\n",
            "F1 0.3636363636363636\n"
          ]
        }
      ]
    },
    {
      "cell_type": "markdown",
      "source": [
        "### (3) Tomamos AG como variable dependiente"
      ],
      "metadata": {
        "id": "sGpGRyJOYKxi"
      }
    },
    {
      "cell_type": "code",
      "source": [
        "# Definimos la estructura de entrenamiento\n",
        "from sklearn.model_selection import train_test_split\n",
        "\n",
        "y = textos['AG']\n",
        "X = textos['text']\n",
        "\n",
        "X_train, X_test, y_train, y_test = train_test_split(X,y,test_size=0.2,random_state=2023)"
      ],
      "metadata": {
        "id": "EbUhUElzYToh"
      },
      "execution_count": 44,
      "outputs": []
    },
    {
      "cell_type": "code",
      "source": [
        "# Cantidad de datos con bandera de AG=1\n",
        "y_AG = y[y!=0]\n",
        "print('Total de texto con bandera AG:',len(y_AG))\n",
        "print('El % de textos con bandera AG:',(len(y_AG)/len(y))*100)"
      ],
      "metadata": {
        "colab": {
          "base_uri": "https://localhost:8080/"
        },
        "id": "60UWorh3YYqR",
        "outputId": "a51d056d-b424-4af0-925e-2393b2e0f496"
      },
      "execution_count": 45,
      "outputs": [
        {
          "output_type": "stream",
          "name": "stdout",
          "text": [
            "Total de texto con bandera AG: 176\n",
            "El % de textos con bandera AG: 35.199999999999996\n"
          ]
        }
      ]
    },
    {
      "cell_type": "code",
      "source": [
        "vect = CountVectorizer().fit(X_train)\n",
        "X_train_vectorized = vect.transform(X_train)\n",
        "\n",
        "clf3 = MultinomialNB()\n",
        "clf3.fit(X_train_vectorized, y_train) # ajusta al calificador 3\n",
        "\n",
        "X_test_vectorized = vect.transform(X_test)\n",
        "predictions1 = clf3.predict(X_test_vectorized) # funcion para predecir 3\n",
        "\n",
        "print('Predicciones y resultados del clasificador 3')\n",
        "print('Predicciones', predictions1)\n",
        "# métricas para verificar que tanto es el calificador es correcto\n",
        "print( 'Accuracy', accuracy_score(y_test, predictions1) )\n",
        "print( 'AUC', roc_auc_score(y_test, predictions1) )\n",
        "print( 'F1', f1_score(y_test, predictions1) )"
      ],
      "metadata": {
        "colab": {
          "base_uri": "https://localhost:8080/"
        },
        "id": "0ku29TNbYhGx",
        "outputId": "152a2c5b-c79a-48e0-8ebe-bfd0bec6f8d5"
      },
      "execution_count": 46,
      "outputs": [
        {
          "output_type": "stream",
          "name": "stdout",
          "text": [
            "Predicciones y resultados del clasificador 3\n",
            "Predicciones [0 1 0 0 0 0 0 0 0 0 0 0 0 0 0 0 0 0 0 1 1 0 0 0 0 0 1 0 0 0 0 0 0 0 0 0 0\n",
            " 0 0 0 0 0 0 1 0 1 0 0 1 0 0 0 0 0 0 0 0 0 0 0 0 0 0 1 0 0 0 0 0 0 0 0 0 0\n",
            " 0 0 0 0 0 0 0 0 0 0 0 0 0 0 0 0 0 0 0 0 0 0 1 0 0 1]\n",
            "Accuracy 0.72\n",
            "AUC 0.6024955436720143\n",
            "F1 0.3636363636363636\n"
          ]
        }
      ]
    }
  ]
}