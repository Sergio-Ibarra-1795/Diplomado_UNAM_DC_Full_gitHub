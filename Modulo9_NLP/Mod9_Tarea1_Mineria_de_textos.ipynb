{
 "cells": [
  {
   "cell_type": "markdown",
   "metadata": {},
   "source": [
    "#### <font color=\"#03997A\"> Diplomado en Ciencia de datos UNAM </font>\n",
    "\n",
    "##### <font color=\"#03997A\"> MI: Luis Enrique Aorta V.  </font>\n",
    "\n",
    "##### <font color=\"#03997A\"> Modulo 9 Natural Language Procesing </font>\n",
    "\n",
    "##### <font color=\"#03997A\"> Tarea 1- Introducción a la minería de datos con trabalenguas y frases famosas Alumno: Ibarra Ramírez Sergio </font>"
   ]
  },
  {
   "cell_type": "markdown",
   "metadata": {},
   "source": [
    "### Procesamiento del archivo de trabalenguas.txt"
   ]
  },
  {
   "cell_type": "markdown",
   "metadata": {},
   "source": [
    "#### Leyendo el archivo trabalenguas"
   ]
  },
  {
   "cell_type": "code",
   "execution_count": 6,
   "metadata": {},
   "outputs": [
    {
     "name": "stdout",
     "output_type": "stream",
     "text": [
      "    \"Tres tristes tigres tragaban trigo en un trigal en tres tristes trastos.\n",
      "    En tres tristes trastos, tragaban trigo en un trigal, tres tristes tigres.\"\n",
      "\n",
      "    \"El cielo está enladrillado\n",
      "    ¿Quién lo desenladrillará?\n",
      "    El desenladrillador que lo desenladrille\n",
      "    Buen desenladrillador será.\"\n",
      "\n",
      "    \"Pégame, pegó a Juan.\n",
      "    ¿Quien pegó a Juan?\n",
      "    Pégame.\"\n",
      "\n",
      "    \"Pablito clavó un clavito en la calva de un calvito,\n",
      "    en la calva de un calvito,\n",
      "    clavó un clavito Pablito.\"\n",
      "\n",
      "    \"El cielo está encurubinquincado\n",
      "    ¿Quién lo desencurubinquinquizará?\n",
      "    El desencurubinquinquizador que lo desencurubinquinquice\n",
      "    Buen desencurubinquinquizador será.\"\n",
      "\n",
      "    \"Guerra tenía una parra y Parra tenía una perra;\n",
      "    la perra de Parra rompió la parra de Guerra y Guerra aporreó con la porra a la perra.\n",
      "    Si la perra de Parra no hubiera roto la parra de Guerra, Guerra no hubiera aporreado con la porra a la perra de Parra...\"\n",
      "\n",
      "    \"Si tu gusto gustara del gusto que gusta mi gusto,\n",
      "    mi gusto gustaría del gusto que gusta tu gusto,\n",
      "    pero como tu gusto no gusta del gusto que gusta mi gusto,\n",
      "    mi gusto no gusta del gusto que gusta tu gusto.\"\n",
      "\n",
      "    \"Marichucena techaba su choza,\n",
      "    y un techador que por allí pasaba le dijo:\n",
      "    Marichucena, ¿techas tu choza o techas la ajena?\n",
      "    Ni techo mi choza ni techo la ajena que techo la choza de Marichucena.\"\n",
      "\n",
      "    \"El volcán del parangaracutimiricuaro se quiere desparangaracutirimicuar,\n",
      "    ¿Quién será el gran desparangaracutirimicuador\n",
      "    que logre desparangaricutirimicuar al volcán del parangaracutimiricuaro?\"\n",
      "\n",
      "    \"Salió, el Sábalo sabio, salió el sábado.\"\n",
      "\n",
      "    \"La razón de la sinrazón que a mi razón se hace,\n",
      "    de tal manera mi razón enfurece que con razón\n",
      "    me quejo de la vuestra fermosura.\"\n",
      "        Atribuido a Feliciano de Silva por Miguel de Cervantes.\n",
      "\n",
      "    \"Paco peco chico rico le gritaba como loco a su tío Federico\n",
      "    y este dijo: poco a poco paco peco poco pico.\"\n",
      "\n",
      "    \"Si Pancha plancha con cuatro planchas, ¿con cuantas planchas plancha Pancha?\"\n",
      "\n",
      "    \"Tras tres tristes trineos, triste trota Tristán.\"\n",
      "\n",
      "    \"El cielo está encancarabincantimpamperulizado,\n",
      "    ¿Quién lo desencancarabincantimpamperulizará?\n",
      "    El desencancarabincantimpamperulizador\n",
      "    que lo desencancarabincantimpamperulize,\n",
      "    buen desencancarabincantimpamperulizador será.\"\n",
      "\n",
      "    \"Compadre cómpreme un coco,\n",
      "    Compadre no compro coco,\n",
      "    porque como poco coco como,\n",
      "    poco coco compro.\"\n",
      "\n",
      "    \"Si cien sierras sierran cien cipreses seiscientas sierras sierran seiscientos cipreses.\"\n",
      "\n",
      "    Esta es la Historia de la Madre,\n",
      "    loable, pericotable, tarantantable\n",
      "    que tenía 4 hijos\n",
      "    Tijo, Cotijo, Petijo y Tarantantijo.\n",
      "    Un día la Madre\n",
      "    loable, pericotable, tarantantable\n",
      "    llamó a sus 4 hijos\n",
      "    Tijo! Cotijo! Petijo! Tarantantijo!\n",
      "    y los mandó al Monte\n",
      "    Godonte, pericotonte, tarantantonte\n",
      "    a buscar una liebre\n",
      "    gotiebre, pericotiebre, tarantantiebre\n",
      "    Fueron los 4 hijos\n",
      "    Tijo, Cotijo, Petijo y Tarantantijo\n",
      "    y trajeron la liebre\n",
      "    Gotiebre, pericotiebre, tarantantiebre.\n",
      "    Esta es la historia de la madre\n",
      "    loable, pericotable, tarantantable\n",
      "    que tenía 4 hijos\n",
      "    Tijo, Cotijo, Petijo y Tarantantijo.\n"
     ]
    }
   ],
   "source": [
    "# Open tralenguas files with correct encoding (utf-8)\n",
    "with open('trabalenguas.txt', 'r', encoding='utf-8') as f:\n",
    "    trabalenguas_contents = f.read()\n",
    "    print(trabalenguas_contents)"
   ]
  },
  {
   "cell_type": "markdown",
   "metadata": {},
   "source": [
    "Jutando todos los trabalenguas en una variable y separados por \"\" "
   ]
  },
  {
   "cell_type": "code",
   "execution_count": 8,
   "metadata": {},
   "outputs": [
    {
     "data": {
      "text/plain": [
       "['Tres tristes tigres tragaban trigo en un trigal en tres tristes trastos.\\n    En tres tristes trastos, tragaban trigo en un trigal, tres tristes tigres.',\n",
       " 'El cielo está enladrillado\\n    ¿Quién lo desenladrillará?\\n    El desenladrillador que lo desenladrille\\n    Buen desenladrillador será.',\n",
       " 'Pégame, pegó a Juan.\\n    ¿Quien pegó a Juan?\\n    Pégame.',\n",
       " 'Pablito clavó un clavito en la calva de un calvito,\\n    en la calva de un calvito,\\n    clavó un clavito Pablito.',\n",
       " 'El cielo está encurubinquincado\\n    ¿Quién lo desencurubinquinquizará?\\n    El desencurubinquinquizador que lo desencurubinquinquice\\n    Buen desencurubinquinquizador será.',\n",
       " 'Guerra tenía una parra y Parra tenía una perra;\\n    la perra de Parra rompió la parra de Guerra y Guerra aporreó con la porra a la perra.\\n    Si la perra de Parra no hubiera roto la parra de Guerra, Guerra no hubiera aporreado con la porra a la perra de Parra...',\n",
       " 'Si tu gusto gustara del gusto que gusta mi gusto,\\n    mi gusto gustaría del gusto que gusta tu gusto,\\n    pero como tu gusto no gusta del gusto que gusta mi gusto,\\n    mi gusto no gusta del gusto que gusta tu gusto.',\n",
       " 'Marichucena techaba su choza,\\n    y un techador que por allí pasaba le dijo:\\n    Marichucena, ¿techas tu choza o techas la ajena?\\n    Ni techo mi choza ni techo la ajena que techo la choza de Marichucena.',\n",
       " 'El volcán del parangaracutimiricuaro se quiere desparangaracutirimicuar,\\n    ¿Quién será el gran desparangaracutirimicuador\\n    que logre desparangaricutirimicuar al volcán del parangaracutimiricuaro?',\n",
       " 'Salió, el Sábalo sabio, salió el sábado.',\n",
       " 'La razón de la sinrazón que a mi razón se hace,\\n    de tal manera mi razón enfurece que con razón\\n    me quejo de la vuestra fermosura.',\n",
       " 'Paco peco chico rico le gritaba como loco a su tío Federico\\n    y este dijo: poco a poco paco peco poco pico.',\n",
       " 'Si Pancha plancha con cuatro planchas, ¿con cuantas planchas plancha Pancha?',\n",
       " 'Tras tres tristes trineos, triste trota Tristán.',\n",
       " 'El cielo está encancarabincantimpamperulizado,\\n    ¿Quién lo desencancarabincantimpamperulizará?\\n    El desencancarabincantimpamperulizador\\n    que lo desencancarabincantimpamperulize,\\n    buen desencancarabincantimpamperulizador será.',\n",
       " 'Compadre cómpreme un coco,\\n    Compadre no compro coco,\\n    porque como poco coco como,\\n    poco coco compro.',\n",
       " 'Si cien sierras sierran cien cipreses seiscientas sierras sierran seiscientos cipreses.']"
      ]
     },
     "execution_count": 8,
     "metadata": {},
     "output_type": "execute_result"
    }
   ],
   "source": [
    "import re\n",
    "\n",
    " # Use regular expression to extract trabalenguas enclosed within \"\"\n",
    "trabalenguas_split = re.findall(r'\"(.*?)\"', trabalenguas_contents, re.DOTALL)\n",
    "trabalenguas_split "
   ]
  },
  {
   "cell_type": "markdown",
   "metadata": {},
   "source": [
    "Retirando todos los caracteres de tipo \\n en trabalenguas_split "
   ]
  },
  {
   "cell_type": "code",
   "execution_count": 10,
   "metadata": {},
   "outputs": [
    {
     "data": {
      "text/plain": [
       "['Tres tristes tigres tragaban trigo en un trigal en tres tristes trastos    En tres tristes trastos tragaban trigo en un trigal tres tristes tigres',\n",
       " 'El cielo está enladrillado    ¿Quién lo desenladrillará?    El desenladrillador que lo desenladrille    Buen desenladrillador será',\n",
       " 'Pégame pegó a Juan    ¿Quien pegó a Juan?    Pégame',\n",
       " 'Pablito clavó un clavito en la calva de un calvito    en la calva de un calvito    clavó un clavito Pablito',\n",
       " 'El cielo está encurubinquincado    ¿Quién lo desencurubinquinquizará?    El desencurubinquinquizador que lo desencurubinquinquice    Buen desencurubinquinquizador será',\n",
       " 'Guerra tenía una parra y Parra tenía una perra;    la perra de Parra rompió la parra de Guerra y Guerra aporreó con la porra a la perra    Si la perra de Parra no hubiera roto la parra de Guerra Guerra no hubiera aporreado con la porra a la perra de Parra',\n",
       " 'Si tu gusto gustara del gusto que gusta mi gusto    mi gusto gustaría del gusto que gusta tu gusto    pero como tu gusto no gusta del gusto que gusta mi gusto    mi gusto no gusta del gusto que gusta tu gusto',\n",
       " 'Marichucena techaba su choza    y un techador que por allí pasaba le dijo:    Marichucena ¿techas tu choza o techas la ajena?    Ni techo mi choza ni techo la ajena que techo la choza de Marichucena',\n",
       " 'El volcán del parangaracutimiricuaro se quiere desparangaracutirimicuar    ¿Quién será el gran desparangaracutirimicuador    que logre desparangaricutirimicuar al volcán del parangaracutimiricuaro?',\n",
       " 'Salió el Sábalo sabio salió el sábado',\n",
       " 'La razón de la sinrazón que a mi razón se hace    de tal manera mi razón enfurece que con razón    me quejo de la vuestra fermosura',\n",
       " 'Paco peco chico rico le gritaba como loco a su tío Federico    y este dijo: poco a poco paco peco poco pico',\n",
       " 'Si Pancha plancha con cuatro planchas ¿con cuantas planchas plancha Pancha?',\n",
       " 'Tras tres tristes trineos triste trota Tristán',\n",
       " 'El cielo está encancarabincantimpamperulizado    ¿Quién lo desencancarabincantimpamperulizará?    El desencancarabincantimpamperulizador    que lo desencancarabincantimpamperulize    buen desencancarabincantimpamperulizador será',\n",
       " 'Compadre cómpreme un coco    Compadre no compro coco    porque como poco coco como    poco coco compro',\n",
       " 'Si cien sierras sierran cien cipreses seiscientas sierras sierran seiscientos cipreses']"
      ]
     },
     "execution_count": 10,
     "metadata": {},
     "output_type": "execute_result"
    }
   ],
   "source": [
    "trabalenguas_split_ajusado  = [t.replace('\\n','').replace('.',''). replace(',','') for t in trabalenguas_split]\n",
    "trabalenguas_split_ajusado"
   ]
  },
  {
   "cell_type": "markdown",
   "metadata": {},
   "source": [
    "Retirando todos los espacios innecesarios "
   ]
  },
  {
   "cell_type": "code",
   "execution_count": 12,
   "metadata": {},
   "outputs": [
    {
     "data": {
      "text/plain": [
       "['Tres tristes tigres tragaban trigo en un trigal en tres tristes trastos En tres tristes trastos tragaban trigo en un trigal tres tristes tigres',\n",
       " 'El cielo está enladrillado ¿Quién lo desenladrillará? El desenladrillador que lo desenladrille Buen desenladrillador será',\n",
       " 'Pégame pegó a Juan ¿Quien pegó a Juan? Pégame',\n",
       " 'Pablito clavó un clavito en la calva de un calvito en la calva de un calvito clavó un clavito Pablito',\n",
       " 'El cielo está encurubinquincado ¿Quién lo desencurubinquinquizará? El desencurubinquinquizador que lo desencurubinquinquice Buen desencurubinquinquizador será',\n",
       " 'Guerra tenía una parra y Parra tenía una perra; la perra de Parra rompió la parra de Guerra y Guerra aporreó con la porra a la perra Si la perra de Parra no hubiera roto la parra de Guerra Guerra no hubiera aporreado con la porra a la perra de Parra',\n",
       " 'Si tu gusto gustara del gusto que gusta mi gusto mi gusto gustaría del gusto que gusta tu gusto pero como tu gusto no gusta del gusto que gusta mi gusto mi gusto no gusta del gusto que gusta tu gusto',\n",
       " 'Marichucena techaba su choza y un techador que por allí pasaba le dijo: Marichucena ¿techas tu choza o techas la ajena? Ni techo mi choza ni techo la ajena que techo la choza de Marichucena',\n",
       " 'El volcán del parangaracutimiricuaro se quiere desparangaracutirimicuar ¿Quién será el gran desparangaracutirimicuador que logre desparangaricutirimicuar al volcán del parangaracutimiricuaro?',\n",
       " 'Salió el Sábalo sabio salió el sábado',\n",
       " 'La razón de la sinrazón que a mi razón se hace de tal manera mi razón enfurece que con razón me quejo de la vuestra fermosura',\n",
       " 'Paco peco chico rico le gritaba como loco a su tío Federico y este dijo: poco a poco paco peco poco pico',\n",
       " 'Si Pancha plancha con cuatro planchas ¿con cuantas planchas plancha Pancha?',\n",
       " 'Tras tres tristes trineos triste trota Tristán',\n",
       " 'El cielo está encancarabincantimpamperulizado ¿Quién lo desencancarabincantimpamperulizará? El desencancarabincantimpamperulizador que lo desencancarabincantimpamperulize buen desencancarabincantimpamperulizador será',\n",
       " 'Compadre cómpreme un coco Compadre no compro coco porque como poco coco como poco coco compro',\n",
       " 'Si cien sierras sierran cien cipreses seiscientas sierras sierran seiscientos cipreses']"
      ]
     },
     "execution_count": 12,
     "metadata": {},
     "output_type": "execute_result"
    }
   ],
   "source": [
    "trabalenguas_ajustado_trimmed = [' '.join(trabalengua.split()) for trabalengua in trabalenguas_split_ajusado]\n",
    "trabalenguas_ajustado_trimmed\n",
    "\n"
   ]
  },
  {
   "cell_type": "markdown",
   "metadata": {},
   "source": [
    " ### Llevando todo el proceso de lectura y limpieza en una sola funcion"
   ]
  },
  {
   "cell_type": "code",
   "execution_count": 15,
   "metadata": {},
   "outputs": [],
   "source": [
    "import re\n",
    "\n",
    "def clean_trabalenguas(input_filename, output_filename):\n",
    "    # Open the input file with correct encoding (utf-8)\n",
    "    with open(input_filename, 'r', encoding='utf-8') as f:\n",
    "        trabalenguas_contents = f.read()\n",
    "\n",
    "    # Extract trabalenguas enclosed within double quotes\n",
    "    trabalenguas_split = re.findall(r'\"(.*?)\"', trabalenguas_contents, re.DOTALL)\n",
    "    \n",
    "    # Clean up trabalenguas by removing newline characters, periods, and commas\n",
    "    trabalenguas_split_ajustado = [t.replace('\\n', '').replace('.', '').replace(',', '') for t in trabalenguas_split]\n",
    "    \n",
    "    # Trim extra spaces between words\n",
    "    trabalenguas_ajustado_trimmed = [' '.join(trabalengua.split()) for trabalengua in trabalenguas_split_ajustado]\n",
    "    \n",
    "    # Write cleaned trabalenguas to a new file\n",
    "    with open(output_filename, 'w') as f:\n",
    "        for t in trabalenguas_ajustado_trimmed:\n",
    "            f.write(t + '\\n')\n",
    "\n",
    "\n"
   ]
  },
  {
   "cell_type": "code",
   "execution_count": 16,
   "metadata": {},
   "outputs": [],
   "source": [
    "# Call the function to clean and write the trabalenguas\n",
    "clean_trabalenguas('trabalenguas.txt', 'new_trabalenguas.txt')"
   ]
  },
  {
   "cell_type": "markdown",
   "metadata": {},
   "source": [
    "### Procesamiento del archivo de frases_famosas.txt "
   ]
  },
  {
   "cell_type": "code",
   "execution_count": 21,
   "metadata": {},
   "outputs": [
    {
     "name": "stdout",
     "output_type": "stream",
     "text": [
      "    -No hay que ir para atrás ni para darse impulso (Lao Tsé)-\n",
      "\n",
      "    -Haz el amor y no la guerra (John Lennon)-\n",
      "\n",
      "    -Para trabajar basta estar convencido de una cosa: \n",
      "\tque trabajar es menos aburrido que divertirse \n",
      "\t\t(Charles Baudelaire)-\n",
      "\n",
      "    -Las guerras seguirán mientras el color de la piel siga \n",
      "\tsiendo más importante que el de los ojos (Bob Marley)-\n",
      "\n",
      "\n",
      "    -Aprende a vivir \n",
      "\ty sabrás morir bien \n",
      "\t(Confucio)-\n",
      "\n",
      "\n",
      "    -Cada día sabemos más y entendemos menos (Albert Einstein)-\n",
      "\t\n",
      "\t\n",
      "\t-El mundo no está en peligro \n",
      "\tpor las malas personas \n",
      "\tsino por aquellas que permiten \n",
      "\tla maldad \n",
      "\t(Albert Einstein)-\n",
      "\t\n",
      "\t-No hay nada que un hombre no \n",
      "\t\tsea capaz de hacer cuando \n",
      "\t\t\tuna mujer le mira \n",
      "\t\t\t\t(Casanova)-\n",
      "\t\n",
      "\t-Dar el ejemplo no es la principal manera de influir \n",
      "\tsobre los demás; es la única manera. \n",
      "\t(Albert Einstein)-\n",
      "\t\n",
      "\t-El dinero no puede comprar la vida (Bob Marley)-\n",
      "\t\n",
      "\t\n",
      "\t-Si es bueno vivir, \n",
      "\ttodavía es mejor soñar, \n",
      "\ty lo mejor de todo, \n",
      "\tdespertar \n",
      "\t(Antonio Machado)-\n",
      "\t\n",
      "\t\n",
      "\t-La mayor declaración de amor \n",
      "\tes la que no se hace; \n",
      "\t\tel hombre que siente mucho, \n",
      "\t\thabla poco \n",
      "\t(Platón)-\n",
      "\t\n",
      "\t-Ningún hombre es lo bastante \n",
      "\tbueno para gobernar a otros sin \n",
      "\tsu consentimiento. \n",
      "\t(Abraham Lincoln)-\n",
      "\t\n",
      "\t-El sabio no dice nunca todo lo que piensa, pero siempre piensa todo lo que dice (Aristóteles)-\n",
      "\t-El mundo es bello, pero tiene un defecto llamado hombre (Friedrich Nietzsche)-\n",
      "\t\n",
      "\t-Pienso, luego existo (René Descartes)-\n",
      "\t\n",
      "\t-Lo que no te mata, te hace más fuerte (Friedrich Nietzsche)-\n",
      "\t\n",
      "\t-De todos los animales de la creación \n",
      "\tel hombre es el único que bebe sin tener sed, \n",
      "\tcome sin tener hambre \n",
      "\ty habla sin tener nada que decir \n",
      "\t\t(John Steinbeck)-\n",
      "\t\t\n",
      "\tUn hermano puede no ser un amigo, pero un amigo será siempre un hermano. (Benjamin Franklin)\n",
      "\t\n"
     ]
    }
   ],
   "source": [
    "  with open('frases_famosas.txt', 'r', encoding='utf-8') as f:\n",
    "    frases_famosas_contents = f.read()\n",
    "    print(frases_famosas_contents)"
   ]
  },
  {
   "cell_type": "code",
   "execution_count": 22,
   "metadata": {},
   "outputs": [
    {
     "data": {
      "text/plain": [
       "['No hay que ir para atrás ni para darse impulso (Lao Tsé)',\n",
       " 'Haz el amor y no la guerra (John Lennon)',\n",
       " 'Para trabajar basta estar convencido de una cosa: \\n\\tque trabajar es menos aburrido que divertirse \\n\\t\\t(Charles Baudelaire)',\n",
       " 'Las guerras seguirán mientras el color de la piel siga \\n\\tsiendo más importante que el de los ojos (Bob Marley)',\n",
       " 'Aprende a vivir \\n\\ty sabrás morir bien \\n\\t(Confucio)',\n",
       " 'Cada día sabemos más y entendemos menos (Albert Einstein)',\n",
       " 'El mundo no está en peligro \\n\\tpor las malas personas \\n\\tsino por aquellas que permiten \\n\\tla maldad \\n\\t(Albert Einstein)',\n",
       " 'No hay nada que un hombre no \\n\\t\\tsea capaz de hacer cuando \\n\\t\\t\\tuna mujer le mira \\n\\t\\t\\t\\t(Casanova)',\n",
       " 'Dar el ejemplo no es la principal manera de influir \\n\\tsobre los demás; es la única manera. \\n\\t(Albert Einstein)',\n",
       " 'El dinero no puede comprar la vida (Bob Marley)',\n",
       " 'Si es bueno vivir, \\n\\ttodavía es mejor soñar, \\n\\ty lo mejor de todo, \\n\\tdespertar \\n\\t(Antonio Machado)',\n",
       " 'La mayor declaración de amor \\n\\tes la que no se hace; \\n\\t\\tel hombre que siente mucho, \\n\\t\\thabla poco \\n\\t(Platón)',\n",
       " 'Ningún hombre es lo bastante \\n\\tbueno para gobernar a otros sin \\n\\tsu consentimiento. \\n\\t(Abraham Lincoln)',\n",
       " 'El sabio no dice nunca todo lo que piensa, pero siempre piensa todo lo que dice (Aristóteles)',\n",
       " 'El mundo es bello, pero tiene un defecto llamado hombre (Friedrich Nietzsche)',\n",
       " 'Pienso, luego existo (René Descartes)',\n",
       " 'Lo que no te mata, te hace más fuerte (Friedrich Nietzsche)',\n",
       " 'De todos los animales de la creación \\n\\tel hombre es el único que bebe sin tener sed, \\n\\tcome sin tener hambre \\n\\ty habla sin tener nada que decir \\n\\t\\t(John Steinbeck)']"
      ]
     },
     "execution_count": 22,
     "metadata": {},
     "output_type": "execute_result"
    }
   ],
   "source": [
    " # Extract trabalenguas enclosed within double quotes\n",
    " frases_famosas_split = re.findall(r'-(.*?)-', frases_famosas_contents, re.DOTALL)\n",
    " frases_famosas_split"
   ]
  },
  {
   "cell_type": "code",
   "execution_count": 24,
   "metadata": {},
   "outputs": [
    {
     "data": {
      "text/plain": [
       "['No hay que ir para atrás ni para darse impulso (Lao Tsé)',\n",
       " 'Haz el amor y no la guerra (John Lennon)',\n",
       " 'Para trabajar basta estar convencido de una cosa: que trabajar es menos aburrido que divertirse (Charles Baudelaire)',\n",
       " 'Las guerras seguirán mientras el color de la piel siga siendo más importante que el de los ojos (Bob Marley)',\n",
       " 'Aprende a vivir y sabrás morir bien (Confucio)',\n",
       " 'Cada día sabemos más y entendemos menos (Albert Einstein)',\n",
       " 'El mundo no está en peligro por las malas personas sino por aquellas que permiten la maldad (Albert Einstein)',\n",
       " 'No hay nada que un hombre no sea capaz de hacer cuando una mujer le mira (Casanova)',\n",
       " 'Dar el ejemplo no es la principal manera de influir sobre los demás; es la única manera (Albert Einstein)',\n",
       " 'El dinero no puede comprar la vida (Bob Marley)',\n",
       " 'Si es bueno vivir todavía es mejor soñar y lo mejor de todo despertar (Antonio Machado)',\n",
       " 'La mayor declaración de amor es la que no se hace; el hombre que siente mucho habla poco (Platón)',\n",
       " 'Ningún hombre es lo bastante bueno para gobernar a otros sin su consentimiento (Abraham Lincoln)',\n",
       " 'El sabio no dice nunca todo lo que piensa pero siempre piensa todo lo que dice (Aristóteles)',\n",
       " 'El mundo es bello pero tiene un defecto llamado hombre (Friedrich Nietzsche)',\n",
       " 'Pienso luego existo (René Descartes)',\n",
       " 'Lo que no te mata te hace más fuerte (Friedrich Nietzsche)',\n",
       " 'De todos los animales de la creación el hombre es el único que bebe sin tener sed come sin tener hambre y habla sin tener nada que decir (John Steinbeck)']"
      ]
     },
     "execution_count": 24,
     "metadata": {},
     "output_type": "execute_result"
    }
   ],
   "source": [
    "  # Clean up trabalenguas by removing newline characters, periods, and commas\n",
    "frases_famosas_split_ajustado = [t.replace('\\n', '').replace('.', '').replace(',', '').replace('\\t', '') for t in frases_famosas_split]\n",
    "frases_famosas_split_ajustado"
   ]
  },
  {
   "cell_type": "code",
   "execution_count": 25,
   "metadata": {},
   "outputs": [
    {
     "data": {
      "text/plain": [
       "['No hay que ir para atrás ni para darse impulso (Lao Tsé)',\n",
       " 'Haz el amor y no la guerra (John Lennon)',\n",
       " 'Para trabajar basta estar convencido de una cosa: que trabajar es menos aburrido que divertirse (Charles Baudelaire)',\n",
       " 'Las guerras seguirán mientras el color de la piel siga siendo más importante que el de los ojos (Bob Marley)',\n",
       " 'Aprende a vivir y sabrás morir bien (Confucio)',\n",
       " 'Cada día sabemos más y entendemos menos (Albert Einstein)',\n",
       " 'El mundo no está en peligro por las malas personas sino por aquellas que permiten la maldad (Albert Einstein)',\n",
       " 'No hay nada que un hombre no sea capaz de hacer cuando una mujer le mira (Casanova)',\n",
       " 'Dar el ejemplo no es la principal manera de influir sobre los demás; es la única manera (Albert Einstein)',\n",
       " 'El dinero no puede comprar la vida (Bob Marley)',\n",
       " 'Si es bueno vivir todavía es mejor soñar y lo mejor de todo despertar (Antonio Machado)',\n",
       " 'La mayor declaración de amor es la que no se hace; el hombre que siente mucho habla poco (Platón)',\n",
       " 'Ningún hombre es lo bastante bueno para gobernar a otros sin su consentimiento (Abraham Lincoln)',\n",
       " 'El sabio no dice nunca todo lo que piensa pero siempre piensa todo lo que dice (Aristóteles)',\n",
       " 'El mundo es bello pero tiene un defecto llamado hombre (Friedrich Nietzsche)',\n",
       " 'Pienso luego existo (René Descartes)',\n",
       " 'Lo que no te mata te hace más fuerte (Friedrich Nietzsche)',\n",
       " 'De todos los animales de la creación el hombre es el único que bebe sin tener sed come sin tener hambre y habla sin tener nada que decir (John Steinbeck)']"
      ]
     },
     "execution_count": 25,
     "metadata": {},
     "output_type": "execute_result"
    }
   ],
   "source": [
    "# Trim extra spaces between words\n",
    "frases_famosas_ajustado_trimmed = [' '.join(trabalengua.split()) for trabalengua in frases_famosas_split_ajustado]\n",
    "frases_famosas_ajustado_trimmed"
   ]
  },
  {
   "cell_type": "markdown",
   "metadata": {},
   "source": [
    " ### Llevando todo el proceso de lectura y limpieza en una sola funcion"
   ]
  },
  {
   "cell_type": "code",
   "execution_count": 17,
   "metadata": {},
   "outputs": [],
   "source": [
    "import re\n",
    "\n",
    "def clean_frases_famosas(input_filename, output_filename):\n",
    "    # Open the input file with correct encoding (utf-8)\n",
    "    with open(input_filename, 'r', encoding='utf-8') as f:\n",
    "        frases_famosas_contents = f.read()\n",
    "\n",
    "    # Extract trabalenguas enclosed within double quotes\n",
    "    frases_famosas_split = re.findall(r'-(.*?)-', frases_famosas_contents, re.DOTALL)\n",
    "    \n",
    "    # Clean up trabalenguas by removing newline characters, periods, and commas\n",
    "    frases_famosas_split_ajustado = [t.replace('\\n', '').replace('.', '').replace(',', '').replace('\\t', '') for t in frases_famosas_split]\n",
    "    \n",
    "    # Trim extra spaces between words\n",
    "    frases_famosas_ajustado_trimmed = [' '.join(trabalengua.split()) for trabalengua in frases_famosas_split_ajustado]\n",
    "    \n",
    "    # Write cleaned trabalenguas to a new file\n",
    "    with open(output_filename, 'w') as f:\n",
    "        for t in frases_famosas_ajustado_trimmed:\n",
    "            f.write(t + '\\n')\n"
   ]
  },
  {
   "cell_type": "code",
   "execution_count": 26,
   "metadata": {},
   "outputs": [],
   "source": [
    "# Call the function to clean and write the trabalenguas\n",
    "clean_frases_famosas('frases_famosas.txt', 'new_frases_famosas.txt')"
   ]
  },
  {
   "cell_type": "markdown",
   "metadata": {},
   "source": [
    "### Diferencias entres Python2 y Python3"
   ]
  },
  {
   "cell_type": "markdown",
   "metadata": {},
   "source": [
    "Aquí hay algunas diferencias clave relacionadas con la codificación de caracteres:\n",
    "\n",
    "Unicode por defecto:\n",
    "\n",
    "Python 2: Las cadenas se representan como ASCII por defecto, y las cadenas Unicode se representan con la sintaxis u'...'.\n",
    "Python 3: Las cadenas son Unicode por defecto, y el tipo str representa texto Unicode. El tipo bytes se utiliza para datos binarios sin procesar.\n",
    "str vs bytes:"
   ]
  },
  {
   "cell_type": "markdown",
   "metadata": {},
   "source": [
    "- Python2"
   ]
  },
  {
   "cell_type": "code",
   "execution_count": 27,
   "metadata": {},
   "outputs": [],
   "source": [
    "# Python 2.x\n",
    "# Strings are represented as ASCII by default\n",
    "ascii_str = \"Hello\"\n",
    "# Unicode strings are represented with u'...'\n",
    "unicode_str = u\"こんにちは\"\n"
   ]
  },
  {
   "cell_type": "markdown",
   "metadata": {},
   "source": [
    "- Python3"
   ]
  },
  {
   "cell_type": "code",
   "execution_count": null,
   "metadata": {},
   "outputs": [],
   "source": [
    "# Python 3.x\n",
    "# Strings are Unicode by default\n",
    "unicode_str = \"Hello\"\n",
    "# bytes is used for raw binary data\n",
    "byte_str = b\"Hello\"\n"
   ]
  },
  {
   "cell_type": "markdown",
   "metadata": {},
   "source": [
    "Python 2: El método str.encode() se utiliza para convertir cadenas Unicode en cadenas de bytes codificadas, y el método str.decode() convierte cadenas de bytes codificadas en Unicode.\n",
    "Python 3: El método str.encode() convierte cadenas Unicode en bytes, y el método bytes.decode() convierte bytes en Unicode.\n",
    "Función open():"
   ]
  },
  {
   "cell_type": "markdown",
   "metadata": {},
   "source": [
    "- Python2"
   ]
  },
  {
   "cell_type": "code",
   "execution_count": null,
   "metadata": {},
   "outputs": [],
   "source": [
    "# Python 2.x\n",
    "# Encode Unicode string to bytes\n",
    "encoded_bytes = unicode_str.encode('utf-8')\n",
    "# Decode bytes to Unicode string\n",
    "decoded_unicode = encoded_bytes.decode('utf-8')\n"
   ]
  },
  {
   "cell_type": "markdown",
   "metadata": {},
   "source": [
    "- Python3"
   ]
  },
  {
   "cell_type": "code",
   "execution_count": null,
   "metadata": {},
   "outputs": [],
   "source": [
    "# Python 3.x\n",
    "# Encode Unicode string to bytes\n",
    "encoded_bytes = unicode_str.encode('utf-8')\n",
    "# Decode bytes to Unicode string\n",
    "decoded_unicode = encoded_bytes.decode('utf-8')\n"
   ]
  },
  {
   "cell_type": "markdown",
   "metadata": {},
   "source": [
    "Python 2: La función open() abre archivos en modo binario por defecto, lo que requiere una especificación explícita de la codificación.\n",
    "Python 3: La función open() abre archivos en modo de texto por defecto, y se puede especificar la codificación deseada mediante el parámetro de codificación.\n",
    "Instrucción print:"
   ]
  },
  {
   "cell_type": "markdown",
   "metadata": {},
   "source": [
    "- Python2"
   ]
  },
  {
   "cell_type": "code",
   "execution_count": null,
   "metadata": {},
   "outputs": [],
   "source": [
    "# Python 2.x\n",
    "# Open file in binary mode with explicit encoding\n",
    "with open('file.txt', 'rb') as f:\n",
    "    content = f.read()\n"
   ]
  },
  {
   "cell_type": "markdown",
   "metadata": {},
   "source": [
    "- Python3"
   ]
  },
  {
   "cell_type": "code",
   "execution_count": null,
   "metadata": {},
   "outputs": [],
   "source": [
    "# Python 3.x\n",
    "# Open file in text mode with specified encoding\n",
    "with open('file.txt', 'r', encoding='utf-8') as f:\n",
    "    content = f.read()\n"
   ]
  }
 ],
 "metadata": {
  "kernelspec": {
   "display_name": "Python 3",
   "language": "python",
   "name": "python3"
  },
  "language_info": {
   "codemirror_mode": {
    "name": "ipython",
    "version": 3
   },
   "file_extension": ".py",
   "mimetype": "text/x-python",
   "name": "python",
   "nbconvert_exporter": "python",
   "pygments_lexer": "ipython3",
   "version": "3.10.5"
  },
  "orig_nbformat": 4
 },
 "nbformat": 4,
 "nbformat_minor": 2
}
