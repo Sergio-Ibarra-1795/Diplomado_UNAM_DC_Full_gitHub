{
 "cells": [
  {
   "cell_type": "markdown",
   "metadata": {},
   "source": [
    "#### <font color=\"#03997A\"> Diplomado en Ciencia de datos UNAM </font>\n",
    "\n",
    "##### <font color=\"#03997A\"> MI: Luis Enrique Aorta V.  </font>\n",
    "\n",
    "##### <font color=\"#03997A\"> Modulo 9 Natural Language Procesing </font>\n",
    "\n",
    "##### <font color=\"#03997A\"> Tarea 1- Introducción a la minería de datos con trabalenguas y frases famosas Alumno: Ibarra Ramírez Sergio </font>"
   ]
  },
  {
   "cell_type": "markdown",
   "metadata": {},
   "source": [
    "### Procesamiento del archivo de trabalenguas "
   ]
  },
  {
   "cell_type": "code",
   "execution_count": 2,
   "metadata": {},
   "outputs": [
    {
     "data": {
      "text/html": [
       "<div>\n",
       "<style scoped>\n",
       "    .dataframe tbody tr th:only-of-type {\n",
       "        vertical-align: middle;\n",
       "    }\n",
       "\n",
       "    .dataframe tbody tr th {\n",
       "        vertical-align: top;\n",
       "    }\n",
       "\n",
       "    .dataframe thead th {\n",
       "        text-align: right;\n",
       "    }\n",
       "</style>\n",
       "<table border=\"1\" class=\"dataframe\">\n",
       "  <thead>\n",
       "    <tr style=\"text-align: right;\">\n",
       "      <th></th>\n",
       "      <th>\"Tres tristes tigres tragaban trigo en un trigal en tres tristes trastos.</th>\n",
       "    </tr>\n",
       "  </thead>\n",
       "  <tbody>\n",
       "    <tr>\n",
       "      <th>0</th>\n",
       "      <td>En tres tristes trastos, tragaban trigo en...</td>\n",
       "    </tr>\n",
       "    <tr>\n",
       "      <th>1</th>\n",
       "      <td>\"El cielo está enladrillado</td>\n",
       "    </tr>\n",
       "    <tr>\n",
       "      <th>2</th>\n",
       "      <td>¿Quién lo desenladrillará?</td>\n",
       "    </tr>\n",
       "    <tr>\n",
       "      <th>3</th>\n",
       "      <td>El desenladrillador que lo desenladrille</td>\n",
       "    </tr>\n",
       "    <tr>\n",
       "      <th>4</th>\n",
       "      <td>Buen desenladrillador será.\"</td>\n",
       "    </tr>\n",
       "    <tr>\n",
       "      <th>...</th>\n",
       "      <td>...</td>\n",
       "    </tr>\n",
       "    <tr>\n",
       "      <th>63</th>\n",
       "      <td>Gotiebre, pericotiebre, tarantantiebre.</td>\n",
       "    </tr>\n",
       "    <tr>\n",
       "      <th>64</th>\n",
       "      <td>Esta es la historia de la madre</td>\n",
       "    </tr>\n",
       "    <tr>\n",
       "      <th>65</th>\n",
       "      <td>loable, pericotable, tarantantable</td>\n",
       "    </tr>\n",
       "    <tr>\n",
       "      <th>66</th>\n",
       "      <td>que tenía 4 hijos</td>\n",
       "    </tr>\n",
       "    <tr>\n",
       "      <th>67</th>\n",
       "      <td>Tijo, Cotijo, Petijo y Tarantantijo.</td>\n",
       "    </tr>\n",
       "  </tbody>\n",
       "</table>\n",
       "<p>68 rows × 1 columns</p>\n",
       "</div>"
      ],
      "text/plain": [
       "       \"Tres tristes tigres tragaban trigo en un trigal en tres tristes trastos.\n",
       "0       En tres tristes trastos, tragaban trigo en...                           \n",
       "1                         \"El cielo está enladrillado                           \n",
       "2                          ¿Quién lo desenladrillará?                           \n",
       "3            El desenladrillador que lo desenladrille                           \n",
       "4                        Buen desenladrillador será.\"                           \n",
       "..                                                ...                           \n",
       "63            Gotiebre, pericotiebre, tarantantiebre.                           \n",
       "64                    Esta es la historia de la madre                           \n",
       "65                 loable, pericotable, tarantantable                           \n",
       "66                                  que tenía 4 hijos                           \n",
       "67               Tijo, Cotijo, Petijo y Tarantantijo.                           \n",
       "\n",
       "[68 rows x 1 columns]"
      ]
     },
     "execution_count": 2,
     "metadata": {},
     "output_type": "execute_result"
    }
   ],
   "source": [
    "import pandas as pd\n",
    "\n",
    "data_trabalenguas = pd.read_csv(\"trabalenguas.txt\",sep=\"\\t\" )\n",
    "data_trabalenguas"
   ]
  },
  {
   "cell_type": "markdown",
   "metadata": {},
   "source": []
  },
  {
   "cell_type": "code",
   "execution_count": 3,
   "metadata": {},
   "outputs": [],
   "source": [
    "import re\n",
    "\n",
    "# Open files\n",
    "with open('trabalenguas.txt', 'r') as f:\n",
    "  contents = f.read()\n",
    "\n",
    "with open('new_trabalenguas.txt', 'w') as f:\n",
    "\n",
    "  # Find all trabajenguas between quotes\n",
    "  trabalenguas = re.findall(r'\".*?\"', contents)\n",
    "\n",
    "  # Loop through and write each one to new file \n",
    "  for t in trabalenguas:\n",
    "    f.write(t + '\\n')"
   ]
  },
  {
   "cell_type": "markdown",
   "metadata": {},
   "source": []
  },
  {
   "cell_type": "code",
   "execution_count": null,
   "metadata": {},
   "outputs": [],
   "source": [
    "import re\n",
    "\n",
    "def separate_trabalenguas(infile, outfile):\n",
    "\n",
    "  with open(infile, 'r') as f:\n",
    "    contents = f.read()\n",
    "\n",
    "  with open(outfile, 'w') as f:\n",
    "\n",
    "    trabalenguas = re.findall(r'\".*?\"', contents)\n",
    "\n",
    "    for t in trabalenguas:\n",
    "      f.write(t + '\\n')\n",
    "\n",
    "# Example call  \n",
    "separate_trabalenguas('trabalenguas.txt', 'new_trabalenguas2.txt')"
   ]
  }
 ],
 "metadata": {
  "kernelspec": {
   "display_name": "Python 3",
   "language": "python",
   "name": "python3"
  },
  "language_info": {
   "codemirror_mode": {
    "name": "ipython",
    "version": 3
   },
   "file_extension": ".py",
   "mimetype": "text/x-python",
   "name": "python",
   "nbconvert_exporter": "python",
   "pygments_lexer": "ipython3",
   "version": "3.10.5"
  },
  "orig_nbformat": 4
 },
 "nbformat": 4,
 "nbformat_minor": 2
}
