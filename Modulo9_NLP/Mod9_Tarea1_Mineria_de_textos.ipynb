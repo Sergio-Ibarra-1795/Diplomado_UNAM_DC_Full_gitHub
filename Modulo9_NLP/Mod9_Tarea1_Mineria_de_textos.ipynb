{
 "cells": [
  {
   "cell_type": "markdown",
   "metadata": {},
   "source": [
    "#### <font color=\"#03997A\"> Diplomado en Ciencia de datos UNAM </font>\n",
    "\n",
    "##### <font color=\"#03997A\"> MI: Luis Enrique Aorta V.  </font>\n",
    "\n",
    "##### <font color=\"#03997A\"> Modulo 9 Natural Language Procesing </font>\n",
    "\n",
    "##### <font color=\"#03997A\"> Tarea 1- Introducción a la minería de datos con trabalenguas y frases famosas Alumno: Ibarra Ramírez Sergio </font>"
   ]
  },
  {
   "cell_type": "markdown",
   "metadata": {},
   "source": [
    "### Procesamiento del archivo de trabalenguas "
   ]
  },
  {
   "cell_type": "code",
   "execution_count": 2,
   "metadata": {},
   "outputs": [
    {
     "data": {
      "text/html": [
       "<div>\n",
       "<style scoped>\n",
       "    .dataframe tbody tr th:only-of-type {\n",
       "        vertical-align: middle;\n",
       "    }\n",
       "\n",
       "    .dataframe tbody tr th {\n",
       "        vertical-align: top;\n",
       "    }\n",
       "\n",
       "    .dataframe thead th {\n",
       "        text-align: right;\n",
       "    }\n",
       "</style>\n",
       "<table border=\"1\" class=\"dataframe\">\n",
       "  <thead>\n",
       "    <tr style=\"text-align: right;\">\n",
       "      <th></th>\n",
       "      <th>\"Tres tristes tigres tragaban trigo en un trigal en tres tristes trastos.</th>\n",
       "    </tr>\n",
       "  </thead>\n",
       "  <tbody>\n",
       "    <tr>\n",
       "      <th>0</th>\n",
       "      <td>En tres tristes trastos, tragaban trigo en...</td>\n",
       "    </tr>\n",
       "    <tr>\n",
       "      <th>1</th>\n",
       "      <td>\"El cielo está enladrillado</td>\n",
       "    </tr>\n",
       "    <tr>\n",
       "      <th>2</th>\n",
       "      <td>¿Quién lo desenladrillará?</td>\n",
       "    </tr>\n",
       "    <tr>\n",
       "      <th>3</th>\n",
       "      <td>El desenladrillador que lo desenladrille</td>\n",
       "    </tr>\n",
       "    <tr>\n",
       "      <th>4</th>\n",
       "      <td>Buen desenladrillador será.\"</td>\n",
       "    </tr>\n",
       "    <tr>\n",
       "      <th>...</th>\n",
       "      <td>...</td>\n",
       "    </tr>\n",
       "    <tr>\n",
       "      <th>63</th>\n",
       "      <td>Gotiebre, pericotiebre, tarantantiebre.</td>\n",
       "    </tr>\n",
       "    <tr>\n",
       "      <th>64</th>\n",
       "      <td>Esta es la historia de la madre</td>\n",
       "    </tr>\n",
       "    <tr>\n",
       "      <th>65</th>\n",
       "      <td>loable, pericotable, tarantantable</td>\n",
       "    </tr>\n",
       "    <tr>\n",
       "      <th>66</th>\n",
       "      <td>que tenía 4 hijos</td>\n",
       "    </tr>\n",
       "    <tr>\n",
       "      <th>67</th>\n",
       "      <td>Tijo, Cotijo, Petijo y Tarantantijo.</td>\n",
       "    </tr>\n",
       "  </tbody>\n",
       "</table>\n",
       "<p>68 rows × 1 columns</p>\n",
       "</div>"
      ],
      "text/plain": [
       "       \"Tres tristes tigres tragaban trigo en un trigal en tres tristes trastos.\n",
       "0       En tres tristes trastos, tragaban trigo en...                           \n",
       "1                         \"El cielo está enladrillado                           \n",
       "2                          ¿Quién lo desenladrillará?                           \n",
       "3            El desenladrillador que lo desenladrille                           \n",
       "4                        Buen desenladrillador será.\"                           \n",
       "..                                                ...                           \n",
       "63            Gotiebre, pericotiebre, tarantantiebre.                           \n",
       "64                    Esta es la historia de la madre                           \n",
       "65                 loable, pericotable, tarantantable                           \n",
       "66                                  que tenía 4 hijos                           \n",
       "67               Tijo, Cotijo, Petijo y Tarantantijo.                           \n",
       "\n",
       "[68 rows x 1 columns]"
      ]
     },
     "execution_count": 2,
     "metadata": {},
     "output_type": "execute_result"
    }
   ],
   "source": [
    "import pandas as pd\n",
    "\n",
    "data_trabalenguas = pd.read_csv(\"trabalenguas.txt\",sep=\"\\t\" )\n",
    "data_trabalenguas"
   ]
  },
  {
   "cell_type": "markdown",
   "metadata": {},
   "source": [
    "### Trabajando con el archivo trabalenguas"
   ]
  },
  {
   "cell_type": "markdown",
   "metadata": {},
   "source": [
    "#### Leyendo el archivo trabalenguas"
   ]
  },
  {
   "cell_type": "code",
   "execution_count": 4,
   "metadata": {},
   "outputs": [
    {
     "name": "stdout",
     "output_type": "stream",
     "text": [
      "    \"Tres tristes tigres tragaban trigo en un trigal en tres tristes trastos.\n",
      "    En tres tristes trastos, tragaban trigo en un trigal, tres tristes tigres.\"\n",
      "\n",
      "    \"El cielo estÃ¡ enladrillado\n",
      "    Â¿QuiÃ©n lo desenladrillarÃ¡?\n",
      "    El desenladrillador que lo desenladrille\n",
      "    Buen desenladrillador serÃ¡.\"\n",
      "\n",
      "    \"PÃ©game, pegÃ³ a Juan.\n",
      "    Â¿Quien pegÃ³ a Juan?\n",
      "    PÃ©game.\"\n",
      "\n",
      "    \"Pablito clavÃ³ un clavito en la calva de un calvito,\n",
      "    en la calva de un calvito,\n",
      "    clavÃ³ un clavito Pablito.\"\n",
      "\n",
      "    \"El cielo estÃ¡ encurubinquincado\n",
      "    Â¿QuiÃ©n lo desencurubinquinquizarÃ¡?\n",
      "    El desencurubinquinquizador que lo desencurubinquinquice\n",
      "    Buen desencurubinquinquizador serÃ¡.\"\n",
      "\n",
      "    \"Guerra tenÃ­a una parra y Parra tenÃ­a una perra;\n",
      "    la perra de Parra rompiÃ³ la parra de Guerra y Guerra aporreÃ³ con la porra a la perra.\n",
      "    Si la perra de Parra no hubiera roto la parra de Guerra, Guerra no hubiera aporreado con la porra a la perra de Parra...\"\n",
      "\n",
      "    \"Si tu gusto gustara del gusto que gusta mi gusto,\n",
      "    mi gusto gustarÃ­a del gusto que gusta tu gusto,\n",
      "    pero como tu gusto no gusta del gusto que gusta mi gusto,\n",
      "    mi gusto no gusta del gusto que gusta tu gusto.\"\n",
      "\n",
      "    \"Marichucena techaba su choza,\n",
      "    y un techador que por allÃ­ pasaba le dijo:\n",
      "    Marichucena, Â¿techas tu choza o techas la ajena?\n",
      "    Ni techo mi choza ni techo la ajena que techo la choza de Marichucena.\"\n",
      "\n",
      "    \"El volcÃ¡n del parangaracutimiricuaro se quiere desparangaracutirimicuar,\n",
      "    Â¿QuiÃ©n serÃ¡ el gran desparangaracutirimicuador\n",
      "    que logre desparangaricutirimicuar al volcÃ¡n del parangaracutimiricuaro?\"\n",
      "\n",
      "    \"SaliÃ³, el SÃ¡balo sabio, saliÃ³ el sÃ¡bado.\"\n",
      "\n",
      "    \"La razÃ³n de la sinrazÃ³n que a mi razÃ³n se hace,\n",
      "    de tal manera mi razÃ³n enfurece que con razÃ³n\n",
      "    me quejo de la vuestra fermosura.\"\n",
      "        Atribuido a Feliciano de Silva por Miguel de Cervantes.\n",
      "\n",
      "    \"Paco peco chico rico le gritaba como loco a su tÃ­o Federico\n",
      "    y este dijo: poco a poco paco peco poco pico.\"\n",
      "\n",
      "    \"Si Pancha plancha con cuatro planchas, Â¿con cuantas planchas plancha Pancha?\"\n",
      "\n",
      "    \"Tras tres tristes trineos, triste trota TristÃ¡n.\"\n",
      "\n",
      "    \"El cielo estÃ¡ encancarabincantimpamperulizado,\n",
      "    Â¿QuiÃ©n lo desencancarabincantimpamperulizarÃ¡?\n",
      "    El desencancarabincantimpamperulizador\n",
      "    que lo desencancarabincantimpamperulize,\n",
      "    buen desencancarabincantimpamperulizador serÃ¡.\"\n",
      "\n",
      "    \"Compadre cÃ³mpreme un coco,\n",
      "    Compadre no compro coco,\n",
      "    porque como poco coco como,\n",
      "    poco coco compro.\"\n",
      "\n",
      "    \"Si cien sierras sierran cien cipreses seiscientas sierras sierran seiscientos cipreses.\"\n",
      "\n",
      "    Esta es la Historia de la Madre,\n",
      "    loable, pericotable, tarantantable\n",
      "    que tenÃ­a 4 hijos\n",
      "    Tijo, Cotijo, Petijo y Tarantantijo.\n",
      "    Un dÃ­a la Madre\n",
      "    loable, pericotable, tarantantable\n",
      "    llamÃ³ a sus 4 hijos\n",
      "    Tijo! Cotijo! Petijo! Tarantantijo!\n",
      "    y los mandÃ³ al Monte\n",
      "    Godonte, pericotonte, tarantantonte\n",
      "    a buscar una liebre\n",
      "    gotiebre, pericotiebre, tarantantiebre\n",
      "    Fueron los 4 hijos\n",
      "    Tijo, Cotijo, Petijo y Tarantantijo\n",
      "    y trajeron la liebre\n",
      "    Gotiebre, pericotiebre, tarantantiebre.\n",
      "    Esta es la historia de la madre\n",
      "    loable, pericotable, tarantantable\n",
      "    que tenÃ­a 4 hijos\n",
      "    Tijo, Cotijo, Petijo y Tarantantijo.\n"
     ]
    }
   ],
   "source": [
    "# Open tralenguas files with correct encoding (utf-8)\n",
    "with open('trabalenguas.txt', 'r') as f:\n",
    "    trabalenguas_contents = f.read()\n",
    "    print(trabalenguas_contents)"
   ]
  },
  {
   "cell_type": "code",
   "execution_count": 6,
   "metadata": {},
   "outputs": [
    {
     "name": "stdout",
     "output_type": "stream",
     "text": [
      "    \"Tres tristes tigres tragaban trigo en un trigal en tres tristes trastos.\n",
      "    En tres tristes trastos, tragaban trigo en un trigal, tres tristes tigres.\"\n",
      "\n",
      "    \"El cielo está enladrillado\n",
      "    ¿Quién lo desenladrillará?\n",
      "    El desenladrillador que lo desenladrille\n",
      "    Buen desenladrillador será.\"\n",
      "\n",
      "    \"Pégame, pegó a Juan.\n",
      "    ¿Quien pegó a Juan?\n",
      "    Pégame.\"\n",
      "\n",
      "    \"Pablito clavó un clavito en la calva de un calvito,\n",
      "    en la calva de un calvito,\n",
      "    clavó un clavito Pablito.\"\n",
      "\n",
      "    \"El cielo está encurubinquincado\n",
      "    ¿Quién lo desencurubinquinquizará?\n",
      "    El desencurubinquinquizador que lo desencurubinquinquice\n",
      "    Buen desencurubinquinquizador será.\"\n",
      "\n",
      "    \"Guerra tenía una parra y Parra tenía una perra;\n",
      "    la perra de Parra rompió la parra de Guerra y Guerra aporreó con la porra a la perra.\n",
      "    Si la perra de Parra no hubiera roto la parra de Guerra, Guerra no hubiera aporreado con la porra a la perra de Parra...\"\n",
      "\n",
      "    \"Si tu gusto gustara del gusto que gusta mi gusto,\n",
      "    mi gusto gustaría del gusto que gusta tu gusto,\n",
      "    pero como tu gusto no gusta del gusto que gusta mi gusto,\n",
      "    mi gusto no gusta del gusto que gusta tu gusto.\"\n",
      "\n",
      "    \"Marichucena techaba su choza,\n",
      "    y un techador que por allí pasaba le dijo:\n",
      "    Marichucena, ¿techas tu choza o techas la ajena?\n",
      "    Ni techo mi choza ni techo la ajena que techo la choza de Marichucena.\"\n",
      "\n",
      "    \"El volcán del parangaracutimiricuaro se quiere desparangaracutirimicuar,\n",
      "    ¿Quién será el gran desparangaracutirimicuador\n",
      "    que logre desparangaricutirimicuar al volcán del parangaracutimiricuaro?\"\n",
      "\n",
      "    \"Salió, el Sábalo sabio, salió el sábado.\"\n",
      "\n",
      "    \"La razón de la sinrazón que a mi razón se hace,\n",
      "    de tal manera mi razón enfurece que con razón\n",
      "    me quejo de la vuestra fermosura.\"\n",
      "        Atribuido a Feliciano de Silva por Miguel de Cervantes.\n",
      "\n",
      "    \"Paco peco chico rico le gritaba como loco a su tío Federico\n",
      "    y este dijo: poco a poco paco peco poco pico.\"\n",
      "\n",
      "    \"Si Pancha plancha con cuatro planchas, ¿con cuantas planchas plancha Pancha?\"\n",
      "\n",
      "    \"Tras tres tristes trineos, triste trota Tristán.\"\n",
      "\n",
      "    \"El cielo está encancarabincantimpamperulizado,\n",
      "    ¿Quién lo desencancarabincantimpamperulizará?\n",
      "    El desencancarabincantimpamperulizador\n",
      "    que lo desencancarabincantimpamperulize,\n",
      "    buen desencancarabincantimpamperulizador será.\"\n",
      "\n",
      "    \"Compadre cómpreme un coco,\n",
      "    Compadre no compro coco,\n",
      "    porque como poco coco como,\n",
      "    poco coco compro.\"\n",
      "\n",
      "    \"Si cien sierras sierran cien cipreses seiscientas sierras sierran seiscientos cipreses.\"\n",
      "\n",
      "    Esta es la Historia de la Madre,\n",
      "    loable, pericotable, tarantantable\n",
      "    que tenía 4 hijos\n",
      "    Tijo, Cotijo, Petijo y Tarantantijo.\n",
      "    Un día la Madre\n",
      "    loable, pericotable, tarantantable\n",
      "    llamó a sus 4 hijos\n",
      "    Tijo! Cotijo! Petijo! Tarantantijo!\n",
      "    y los mandó al Monte\n",
      "    Godonte, pericotonte, tarantantonte\n",
      "    a buscar una liebre\n",
      "    gotiebre, pericotiebre, tarantantiebre\n",
      "    Fueron los 4 hijos\n",
      "    Tijo, Cotijo, Petijo y Tarantantijo\n",
      "    y trajeron la liebre\n",
      "    Gotiebre, pericotiebre, tarantantiebre.\n",
      "    Esta es la historia de la madre\n",
      "    loable, pericotable, tarantantable\n",
      "    que tenía 4 hijos\n",
      "    Tijo, Cotijo, Petijo y Tarantantijo.\n"
     ]
    }
   ],
   "source": [
    "# Open tralenguas files with correct encoding (utf-8)\n",
    "with open('trabalenguas.txt', 'r', encoding='utf-8') as f:\n",
    "    trabalenguas_contents = f.read()\n",
    "    print(trabalenguas_contents)"
   ]
  },
  {
   "cell_type": "markdown",
   "metadata": {},
   "source": []
  },
  {
   "cell_type": "code",
   "execution_count": 8,
   "metadata": {},
   "outputs": [
    {
     "data": {
      "text/plain": [
       "['Tres tristes tigres tragaban trigo en un trigal en tres tristes trastos.\\n    En tres tristes trastos, tragaban trigo en un trigal, tres tristes tigres.',\n",
       " 'El cielo está enladrillado\\n    ¿Quién lo desenladrillará?\\n    El desenladrillador que lo desenladrille\\n    Buen desenladrillador será.',\n",
       " 'Pégame, pegó a Juan.\\n    ¿Quien pegó a Juan?\\n    Pégame.',\n",
       " 'Pablito clavó un clavito en la calva de un calvito,\\n    en la calva de un calvito,\\n    clavó un clavito Pablito.',\n",
       " 'El cielo está encurubinquincado\\n    ¿Quién lo desencurubinquinquizará?\\n    El desencurubinquinquizador que lo desencurubinquinquice\\n    Buen desencurubinquinquizador será.',\n",
       " 'Guerra tenía una parra y Parra tenía una perra;\\n    la perra de Parra rompió la parra de Guerra y Guerra aporreó con la porra a la perra.\\n    Si la perra de Parra no hubiera roto la parra de Guerra, Guerra no hubiera aporreado con la porra a la perra de Parra...',\n",
       " 'Si tu gusto gustara del gusto que gusta mi gusto,\\n    mi gusto gustaría del gusto que gusta tu gusto,\\n    pero como tu gusto no gusta del gusto que gusta mi gusto,\\n    mi gusto no gusta del gusto que gusta tu gusto.',\n",
       " 'Marichucena techaba su choza,\\n    y un techador que por allí pasaba le dijo:\\n    Marichucena, ¿techas tu choza o techas la ajena?\\n    Ni techo mi choza ni techo la ajena que techo la choza de Marichucena.',\n",
       " 'El volcán del parangaracutimiricuaro se quiere desparangaracutirimicuar,\\n    ¿Quién será el gran desparangaracutirimicuador\\n    que logre desparangaricutirimicuar al volcán del parangaracutimiricuaro?',\n",
       " 'Salió, el Sábalo sabio, salió el sábado.',\n",
       " 'La razón de la sinrazón que a mi razón se hace,\\n    de tal manera mi razón enfurece que con razón\\n    me quejo de la vuestra fermosura.',\n",
       " 'Paco peco chico rico le gritaba como loco a su tío Federico\\n    y este dijo: poco a poco paco peco poco pico.',\n",
       " 'Si Pancha plancha con cuatro planchas, ¿con cuantas planchas plancha Pancha?',\n",
       " 'Tras tres tristes trineos, triste trota Tristán.',\n",
       " 'El cielo está encancarabincantimpamperulizado,\\n    ¿Quién lo desencancarabincantimpamperulizará?\\n    El desencancarabincantimpamperulizador\\n    que lo desencancarabincantimpamperulize,\\n    buen desencancarabincantimpamperulizador será.',\n",
       " 'Compadre cómpreme un coco,\\n    Compadre no compro coco,\\n    porque como poco coco como,\\n    poco coco compro.',\n",
       " 'Si cien sierras sierran cien cipreses seiscientas sierras sierran seiscientos cipreses.']"
      ]
     },
     "execution_count": 8,
     "metadata": {},
     "output_type": "execute_result"
    }
   ],
   "source": [
    "import re\n",
    "\n",
    " # Use regular expression to extract trabalenguas enclosed within \"\"\n",
    "trabalenguas_split = re.findall(r'\"(.*?)\"', trabalenguas_contents, re.DOTALL)\n",
    "trabalenguas_split "
   ]
  },
  {
   "cell_type": "markdown",
   "metadata": {},
   "source": [
    "Retirando todos los caracteres de tipo \\n en trabalenguas_split "
   ]
  },
  {
   "cell_type": "code",
   "execution_count": 10,
   "metadata": {},
   "outputs": [
    {
     "data": {
      "text/plain": [
       "['Tres tristes tigres tragaban trigo en un trigal en tres tristes trastos    En tres tristes trastos tragaban trigo en un trigal tres tristes tigres',\n",
       " 'El cielo está enladrillado    ¿Quién lo desenladrillará?    El desenladrillador que lo desenladrille    Buen desenladrillador será',\n",
       " 'Pégame pegó a Juan    ¿Quien pegó a Juan?    Pégame',\n",
       " 'Pablito clavó un clavito en la calva de un calvito    en la calva de un calvito    clavó un clavito Pablito',\n",
       " 'El cielo está encurubinquincado    ¿Quién lo desencurubinquinquizará?    El desencurubinquinquizador que lo desencurubinquinquice    Buen desencurubinquinquizador será',\n",
       " 'Guerra tenía una parra y Parra tenía una perra;    la perra de Parra rompió la parra de Guerra y Guerra aporreó con la porra a la perra    Si la perra de Parra no hubiera roto la parra de Guerra Guerra no hubiera aporreado con la porra a la perra de Parra',\n",
       " 'Si tu gusto gustara del gusto que gusta mi gusto    mi gusto gustaría del gusto que gusta tu gusto    pero como tu gusto no gusta del gusto que gusta mi gusto    mi gusto no gusta del gusto que gusta tu gusto',\n",
       " 'Marichucena techaba su choza    y un techador que por allí pasaba le dijo:    Marichucena ¿techas tu choza o techas la ajena?    Ni techo mi choza ni techo la ajena que techo la choza de Marichucena',\n",
       " 'El volcán del parangaracutimiricuaro se quiere desparangaracutirimicuar    ¿Quién será el gran desparangaracutirimicuador    que logre desparangaricutirimicuar al volcán del parangaracutimiricuaro?',\n",
       " 'Salió el Sábalo sabio salió el sábado',\n",
       " 'La razón de la sinrazón que a mi razón se hace    de tal manera mi razón enfurece que con razón    me quejo de la vuestra fermosura',\n",
       " 'Paco peco chico rico le gritaba como loco a su tío Federico    y este dijo: poco a poco paco peco poco pico',\n",
       " 'Si Pancha plancha con cuatro planchas ¿con cuantas planchas plancha Pancha?',\n",
       " 'Tras tres tristes trineos triste trota Tristán',\n",
       " 'El cielo está encancarabincantimpamperulizado    ¿Quién lo desencancarabincantimpamperulizará?    El desencancarabincantimpamperulizador    que lo desencancarabincantimpamperulize    buen desencancarabincantimpamperulizador será',\n",
       " 'Compadre cómpreme un coco    Compadre no compro coco    porque como poco coco como    poco coco compro',\n",
       " 'Si cien sierras sierran cien cipreses seiscientas sierras sierran seiscientos cipreses']"
      ]
     },
     "execution_count": 10,
     "metadata": {},
     "output_type": "execute_result"
    }
   ],
   "source": [
    "trabalenguas_split_ajusado  = [t.replace('\\n','').replace('.',''). replace(',','') for t in trabalenguas_split]\n",
    "trabalenguas_split_ajusado"
   ]
  },
  {
   "cell_type": "markdown",
   "metadata": {},
   "source": []
  },
  {
   "cell_type": "code",
   "execution_count": 12,
   "metadata": {},
   "outputs": [
    {
     "data": {
      "text/plain": [
       "['Tres tristes tigres tragaban trigo en un trigal en tres tristes trastos En tres tristes trastos tragaban trigo en un trigal tres tristes tigres',\n",
       " 'El cielo está enladrillado ¿Quién lo desenladrillará? El desenladrillador que lo desenladrille Buen desenladrillador será',\n",
       " 'Pégame pegó a Juan ¿Quien pegó a Juan? Pégame',\n",
       " 'Pablito clavó un clavito en la calva de un calvito en la calva de un calvito clavó un clavito Pablito',\n",
       " 'El cielo está encurubinquincado ¿Quién lo desencurubinquinquizará? El desencurubinquinquizador que lo desencurubinquinquice Buen desencurubinquinquizador será',\n",
       " 'Guerra tenía una parra y Parra tenía una perra; la perra de Parra rompió la parra de Guerra y Guerra aporreó con la porra a la perra Si la perra de Parra no hubiera roto la parra de Guerra Guerra no hubiera aporreado con la porra a la perra de Parra',\n",
       " 'Si tu gusto gustara del gusto que gusta mi gusto mi gusto gustaría del gusto que gusta tu gusto pero como tu gusto no gusta del gusto que gusta mi gusto mi gusto no gusta del gusto que gusta tu gusto',\n",
       " 'Marichucena techaba su choza y un techador que por allí pasaba le dijo: Marichucena ¿techas tu choza o techas la ajena? Ni techo mi choza ni techo la ajena que techo la choza de Marichucena',\n",
       " 'El volcán del parangaracutimiricuaro se quiere desparangaracutirimicuar ¿Quién será el gran desparangaracutirimicuador que logre desparangaricutirimicuar al volcán del parangaracutimiricuaro?',\n",
       " 'Salió el Sábalo sabio salió el sábado',\n",
       " 'La razón de la sinrazón que a mi razón se hace de tal manera mi razón enfurece que con razón me quejo de la vuestra fermosura',\n",
       " 'Paco peco chico rico le gritaba como loco a su tío Federico y este dijo: poco a poco paco peco poco pico',\n",
       " 'Si Pancha plancha con cuatro planchas ¿con cuantas planchas plancha Pancha?',\n",
       " 'Tras tres tristes trineos triste trota Tristán',\n",
       " 'El cielo está encancarabincantimpamperulizado ¿Quién lo desencancarabincantimpamperulizará? El desencancarabincantimpamperulizador que lo desencancarabincantimpamperulize buen desencancarabincantimpamperulizador será',\n",
       " 'Compadre cómpreme un coco Compadre no compro coco porque como poco coco como poco coco compro',\n",
       " 'Si cien sierras sierran cien cipreses seiscientas sierras sierran seiscientos cipreses']"
      ]
     },
     "execution_count": 12,
     "metadata": {},
     "output_type": "execute_result"
    }
   ],
   "source": [
    "trabalenguas_ajustado_trimmed = [' '.join(trabalengua.split()) for trabalengua in trabalenguas_split_ajusado]\n",
    "trabalenguas_ajustado_trimmed\n",
    "\n"
   ]
  },
  {
   "cell_type": "markdown",
   "metadata": {},
   "source": []
  },
  {
   "cell_type": "code",
   "execution_count": 3,
   "metadata": {},
   "outputs": [],
   "source": [
    "import re\n",
    "\n",
    "# Open files\n",
    "with open('trabalenguas.txt', 'r') as f:\n",
    "  contents = f.read()\n",
    "\n",
    "with open('new_trabalenguas.txt', 'w') as f:\n",
    "\n",
    "  # Loop through and write each one to new file \n",
    "  for t in trabalenguas:\n",
    "    f.write(t + '\\n')"
   ]
  },
  {
   "cell_type": "markdown",
   "metadata": {},
   "source": []
  }
 ],
 "metadata": {
  "kernelspec": {
   "display_name": "Python 3",
   "language": "python",
   "name": "python3"
  },
  "language_info": {
   "codemirror_mode": {
    "name": "ipython",
    "version": 3
   },
   "file_extension": ".py",
   "mimetype": "text/x-python",
   "name": "python",
   "nbconvert_exporter": "python",
   "pygments_lexer": "ipython3",
   "version": "3.10.5"
  },
  "orig_nbformat": 4
 },
 "nbformat": 4,
 "nbformat_minor": 2
}
