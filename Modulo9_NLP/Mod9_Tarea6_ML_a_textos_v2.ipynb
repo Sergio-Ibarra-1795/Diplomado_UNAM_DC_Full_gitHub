{
  "cells": [
    {
      "cell_type": "markdown",
      "source": [
        "#### <font color=\"#03997A\"> Diplomado en Ciencia de datos UNAM </font>\n",
        "\n",
        "##### <font color=\"#03997A\"> MI: Luis Enrique Argota V.  </font>\n",
        "\n",
        "##### <font color=\"#03997A\"> Modulo 9 Natural Language Procesing </font>\n",
        "\n",
        "##### <font color=\"#03997A\"> Tarea 4 - Apredizaje Supervisado para Clasificación de Textos\n",
        "##### <font color=\"#03997A\"> Equipo 1:\n",
        "- Sergio Ibarra Ramírez\n",
        "- Yafte Aaron Flores Morales\n",
        "- Esteban Bracamontes Orozco\n",
        "\n",
        "</font>"
      ],
      "metadata": {
        "id": "csAaMMd3QKVi"
      }
    },
    {
      "cell_type": "code",
      "execution_count": 247,
      "metadata": {
        "id": "iUMAYzPqcHYL"
      },
      "outputs": [],
      "source": [
        "import re\n",
        "import pandas as pd\n",
        "import numpy as np\n",
        "import nltk\n",
        "from nltk import *\n",
        "\n",
        "from sklearn.feature_extraction.text import CountVectorizer, TfidfVectorizer\n",
        "from sklearn.naive_bayes import MultinomialNB\n",
        "from sklearn.metrics import accuracy_score, roc_auc_score, f1_score\n",
        "\n",
        "from sklearn.preprocessing import MinMaxScaler"
      ]
    },
    {
      "cell_type": "markdown",
      "metadata": {
        "id": "OYoOmlr-cHYO"
      },
      "source": [
        "# 1. Preprocesamiento"
      ]
    },
    {
      "cell_type": "code",
      "execution_count": 248,
      "metadata": {
        "id": "Cy_fA5BTcHYP"
      },
      "outputs": [],
      "source": [
        "corpus_train_esA = pd.read_csv('/content/train_es.tsv',delimiter='\\t',encoding='utf-8')\n",
        "corpus_dev_esA = pd.read_csv('/content/dev_es.tsv',delimiter='\\t',encoding='utf-8')"
      ]
    },
    {
      "cell_type": "markdown",
      "metadata": {
        "id": "lVwdxX0HcHYP"
      },
      "source": [
        "### Limpieza en los datos\n",
        "* Cambiar todas las palabras de mayúsculas a minúsculas\n",
        "* Se han eliminado las '@' de @USUARIO con el fin de facilitar el etiquetado morfológico\n",
        "* Quitar los links\n",
        "* Quitar los emojis\n",
        "* Eliminar las stopwords\n",
        "* Se han reemplazado todos los números por el símbolo '0'\n",
        "* Quitar los signos de puntuación y quitar espacios (tabuladores, etc)"
      ]
    },
    {
      "cell_type": "code",
      "execution_count": 249,
      "metadata": {
        "id": "LQe_IMgVcHYR"
      },
      "outputs": [],
      "source": [
        "pattern_URL=\"(https?:\\/\\/(?:www\\.|(?!www))[a-zA-Z0-9][a-zA-Z0-9-]+[a-zA-Z0-9]\\.[^\\s]{2,}|www\\.[a-zA-Z0-9][a-zA-Z0-9-]+[a-zA-Z0-9]\\.[^\\s]{2,}|https?:\\/\\/(?:www\\.|(?!www))[a-zA-Z0-9]\\.[^\\s]{2,}|www\\.[a-zA-Z0-9]\\.[^\\s]{2,})\"\n",
        "\n",
        "def procesar(file, namefile):\n",
        "    file[file.columns[1]] = [clean_text(i) for i in file[file.columns[1]]]\n",
        "    file.to_csv(namefile, sep='\\t', encoding='utf-8', index=False)\n",
        "    return file\n",
        "\n",
        "def clean_text(text):\n",
        "    text = text.lower()\n",
        "    #text=re.sub(\"@([A-Za-z0-9_]{1,15})\", \"@USUARIO\", text)\n",
        "    text=re.sub(\"@([A-Za-z0-9_]{1,15})\", \" \", text)\n",
        "    text=re.sub(pattern_URL, \" \", text)\n",
        "\n",
        "    text= remove_emoji(text)\n",
        "    text= remove_stopwords(text)\n",
        "    text=re.sub(\"\\d+\", \"0\", text)\n",
        "    # text=re.sub(\"\\d+\", \" \", text)\n",
        "\n",
        "    text=re.sub(r\" +\", \" \", re.sub(r\"\\t\", \" \", re.sub(r\"\\n+\", \"\\n\", re.sub('(?:[.,\\/!$%?¿?!¡\\^&\\*;:{}=><\\-_`~()”“\"\\'\\|])', \" \",text))))\n",
        "    text = text.strip()\n",
        "    return text\n",
        "\n",
        "def remove_stopwords(text):\n",
        "    stopwords=set(nltk.corpus.stopwords.words(\"spanish\"))\n",
        "    for i in stopwords:\n",
        "        text = re.sub(r\"\\b%s\\b\" % i, \" \", text)\n",
        "    return text\n",
        "\n",
        "def remove_emoji(text):\n",
        "    emoji_pattern = re.compile(\"[\"\n",
        "                               \"\\U0001F600-\\U0001F64F\"  # emoticons\n",
        "                               \"\\U0001F300-\\U0001F5FF\"  # symbols & pictographs\n",
        "                               \"\\U0001F680-\\U0001F6FF\"  # transport & map symbols\n",
        "                               \"\\U0001F1E0-\\U0001F1FF\"  # flags (iOS)\n",
        "                               \"\\U00002702-\\U000027B0\"\n",
        "                               \"\\U000024C2-\\U0001F251\"\n",
        "                               \"\\U0001f926-\\U0001f937\"\n",
        "                               \"\\u200d\"\n",
        "                               \"\\u2640-\\u2642\"\n",
        "                               \"\\U0001F1F2-\\U0001F1F4\"  # Macau flag\n",
        "                               \"\\U0001F1E6-\\U0001F1FF\"  # flags\n",
        "                               \"\\U0001F600-\\U0001F64F\"\n",
        "                               \"\\U0001F1F2\"\n",
        "                               \"\\U0001F1F4\"\n",
        "                               \"\\U0001F620\"\n",
        "                               \"]+\", flags=re.UNICODE)\n",
        "    text = emoji_pattern.sub(r'', text) # no emoji\n",
        "    return text"
      ]
    },
    {
      "cell_type": "markdown",
      "metadata": {
        "id": "SSpTmdwBcHYT"
      },
      "source": [
        "### Guardando el corpus ya procesado A"
      ]
    },
    {
      "cell_type": "code",
      "execution_count": 250,
      "metadata": {
        "colab": {
          "base_uri": "https://localhost:8080/"
        },
        "id": "HaXGn87JcHYT",
        "outputId": "a83f978f-b0e0-4080-ad6a-571ebe0f9488"
      },
      "outputs": [
        {
          "output_type": "stream",
          "name": "stderr",
          "text": [
            "[nltk_data] Downloading package stopwords to /root/nltk_data...\n",
            "[nltk_data]   Package stopwords is already up-to-date!\n"
          ]
        }
      ],
      "source": [
        "nltk.download('stopwords')\n",
        "corpus_train_esA = procesar(corpus_train_esA, \"/content/train_es_cleanA.tsv\")\n",
        "corpus_dev_esA = procesar(corpus_dev_esA, \"/content/dev_es_cleanA.tsv\")"
      ]
    },
    {
      "cell_type": "code",
      "execution_count": 251,
      "metadata": {
        "id": "VVLEgZ_OcHYU"
      },
      "outputs": [],
      "source": [
        "#Leyendo el corpus ya procesado-limpio A\n",
        "train_idA = corpus_train_esA[corpus_train_esA.columns[0]]\n",
        "X_train_textA = corpus_train_esA[corpus_train_esA.columns[1]].fillna(' ')\n",
        "y_train_hsA = corpus_train_esA[corpus_train_esA.columns[2]]\n",
        "\n",
        "test_idA = corpus_dev_esA[corpus_train_esA.columns[0]]\n",
        "X_test_textA = corpus_dev_esA[corpus_dev_esA.columns[1]].fillna(' ')\n",
        "y_test_hsA = corpus_dev_esA[corpus_dev_esA.columns[2]]"
      ]
    },
    {
      "cell_type": "code",
      "execution_count": 252,
      "metadata": {
        "colab": {
          "base_uri": "https://localhost:8080/"
        },
        "id": "ZF3yrEXgcHYU",
        "outputId": "0bd136c0-1eb5-4efe-f4f4-b9fc252ea21d"
      },
      "outputs": [
        {
          "output_type": "stream",
          "name": "stdout",
          "text": [
            "4469 4469\n",
            "500 500\n"
          ]
        }
      ],
      "source": [
        "print( len(X_train_textA), len(y_train_hsA) )\n",
        "\n",
        "print( len(X_test_textA), len(y_test_hsA) )"
      ]
    },
    {
      "cell_type": "markdown",
      "source": [
        "## Primera técnica de procesamiento de texto: CountVectorizer (No utlizada)"
      ],
      "metadata": {
        "id": "gmOBBvF-W2Lk"
      }
    },
    {
      "cell_type": "code",
      "execution_count": 253,
      "metadata": {
        "colab": {
          "base_uri": "https://localhost:8080/"
        },
        "id": "8AKOvVLecHYW",
        "outputId": "4d3d2622-03f2-4e77-d499-8cf218f995c0"
      },
      "outputs": [
        {
          "output_type": "stream",
          "name": "stdout",
          "text": [
            "(4469, 1745)\n",
            "(500, 1745)\n"
          ]
        }
      ],
      "source": [
        "cvectorizer = CountVectorizer(\n",
        "    # lowercase=True,\n",
        "    #stop_words=[word.decode('utf-8') for word in nltk.corpus.stopwords.words('spanish')],\n",
        "    #token_pattern=r'\\b\\w+\\b', #selects tokens of 2 or more alphanumeric characters\n",
        "    ngram_range=(1,2),#n-grams de palabras n = 1 a n = 3 (unigramas, bigramas y trigramas)\n",
        "    min_df=5,#ignorando los términos que tienen una frecuencia de documento estrictamente inferior a 5\n",
        ").fit(X_train_textA)\n",
        "\n",
        "X_train_cvectorized = cvectorizer.transform(X_train_textA).toarray()\n",
        "print(X_train_cvectorized.shape)\n",
        "\n",
        "X_test_cvectorized = cvectorizer.transform(X_test_textA).toarray()\n",
        "print(X_test_cvectorized.shape)"
      ]
    },
    {
      "cell_type": "markdown",
      "source": [
        "## Segunda técnica de procesamiento de texto: TfidfVectorizer (Utilizada)"
      ],
      "metadata": {
        "id": "my3ynCdPXBcc"
      }
    },
    {
      "cell_type": "code",
      "execution_count": 254,
      "metadata": {
        "colab": {
          "base_uri": "https://localhost:8080/"
        },
        "id": "62bqb54DcHYW",
        "outputId": "8b6c8de9-f1bd-4ae3-ea4f-5cd6b9aa97d0"
      },
      "outputs": [
        {
          "output_type": "stream",
          "name": "stdout",
          "text": [
            "(4469, 1745)\n",
            "(500, 1745)\n"
          ]
        }
      ],
      "source": [
        "tvectorizer = TfidfVectorizer(\n",
        "    # lowercase=True,\n",
        "    #stop_words=[word.decode('utf-8') for word in nltk.corpus.stopwords.words('spanish')],\n",
        "    #token_pattern=r'\\b\\w+\\b', #selects tokens of 2 or more alphanumeric characters\n",
        "    ngram_range=(1,2),#n-grams de palabras n = 1 a n = 3 (unigramas, bigramas y trigramas)\n",
        "    min_df=5,#ignorando los términos que tienen una frecuencia de documento estrictamente inferior a 5\n",
        ").fit(X_train_textA)\n",
        "\n",
        "X_train_tvectorized = tvectorizer.transform(X_train_textA).toarray()\n",
        "print(X_train_tvectorized.shape)\n",
        "\n",
        "X_test_tvectorized = tvectorizer.transform(X_test_textA).toarray()\n",
        "print(X_test_tvectorized.shape)"
      ]
    },
    {
      "cell_type": "markdown",
      "source": [
        "# 2. Modelos"
      ],
      "metadata": {
        "id": "-AhO0AKiXQJv"
      }
    },
    {
      "cell_type": "markdown",
      "source": [
        "### (1) Ejecución de Modelo Multinomial"
      ],
      "metadata": {
        "id": "sKirphD8jpwf"
      }
    },
    {
      "cell_type": "code",
      "source": [
        "#Etapa Entrenamiento\n",
        "clf1 = MultinomialNB() #Modelo\n",
        "clf1.fit(X_train_tvectorized, y_train_hsA)\n",
        "\n",
        "#Etapa Prueba\n",
        "predictions = clf1.predict(X_test_tvectorized)\n",
        "\n",
        "#Metricas\n",
        "exactitud_MULTI = accuracy_score(y_test_hsA, predictions)\n",
        "f1_MULTI = f1_score(y_test_hsA, predictions)\n",
        "auc_MULTI = roc_auc_score(y_test_hsA, predictions)\n",
        "print( 'Accuracy',  exactitud_MULTI )\n",
        "print( 'AUC', f1_MULTI )\n",
        "print( 'F1', auc_MULTI )"
      ],
      "metadata": {
        "colab": {
          "base_uri": "https://localhost:8080/"
        },
        "id": "n6AkPg12ds-8",
        "outputId": "976f6f5c-c58b-4cc4-fdf7-fc4018bf002a"
      },
      "execution_count": 255,
      "outputs": [
        {
          "output_type": "stream",
          "name": "stdout",
          "text": [
            "Accuracy 0.772\n",
            "AUC 0.7135678391959798\n",
            "F1 0.7586687406831292\n"
          ]
        }
      ]
    },
    {
      "cell_type": "markdown",
      "source": [
        "### (2) Ejecución de Modelo SVC"
      ],
      "metadata": {
        "id": "nITY64bvfZsg"
      }
    },
    {
      "cell_type": "code",
      "source": [
        "def add_feature(X, feature_to_add):\n",
        "    \"\"\"\n",
        "    Returns sparse feature matrix with added feature.\n",
        "    feature_to_add can also be a list of features.\n",
        "    \"\"\"\n",
        "    from scipy.sparse import csr_matrix, hstack\n",
        "    return hstack([X, csr_matrix(feature_to_add).T], 'csr')"
      ],
      "metadata": {
        "id": "2b6rGz_7mgqw"
      },
      "execution_count": 256,
      "outputs": []
    },
    {
      "cell_type": "code",
      "source": [
        "from sklearn.svm import SVC, LinearSVC\n",
        "\n",
        "#Etapa Entrenamiento\n",
        "X_train_vectorized = add_feature(X_train_tvectorized, X_train_textA.str.len())\n",
        "model = SVC(C=100) # con regularización 'C = 100'\n",
        "model.fit(X_train_vectorized, y_train_hsA)\n",
        "\n",
        "#Etapa Prueba\n",
        "X_test_vectorized = add_feature(X_test_tvectorized, X_test_textA.str.len())\n",
        "predictions = model.predict(X_test_vectorized)\n",
        "\n",
        "#Metricas\n",
        "exactitud_svc = accuracy_score(y_test_hsA, predictions)\n",
        "f1_svc = f1_score(y_test_hsA, predictions)\n",
        "auc_svc = roc_auc_score(y_test_hsA, predictions)\n",
        "print( 'Accuracy',  exactitud_svc )\n",
        "print( 'AUC', f1_svc )\n",
        "print( 'F1', auc_svc )"
      ],
      "metadata": {
        "colab": {
          "base_uri": "https://localhost:8080/"
        },
        "id": "aJgnULK2ffOe",
        "outputId": "a4a2bfeb-de33-4791-9975-679b42e3beac"
      },
      "execution_count": 257,
      "outputs": [
        {
          "output_type": "stream",
          "name": "stdout",
          "text": [
            "Accuracy 0.612\n",
            "AUC 0.33561643835616434\n",
            "F1 0.5725905761876985\n"
          ]
        }
      ]
    },
    {
      "cell_type": "markdown",
      "source": [
        "### (3) Ejecución de Modelo Árboles de Clasificación"
      ],
      "metadata": {
        "id": "cmfrFxbZrJH9"
      }
    },
    {
      "cell_type": "code",
      "source": [
        "from sklearn.tree import DecisionTreeClassifier\n",
        "\n",
        "#Etapa Entrenamiento\n",
        "X_train_vectorized = add_feature(X_train_tvectorized, X_train_textA.str.len() )\n",
        "X_train_vectorized = add_feature(X_train_tvectorized, X_train_textA.str.count('\\d') )\n",
        "arbol = DecisionTreeClassifier(max_depth=2)\n",
        "arbol.fit(X_train_vectorized,y_train_hsA)\n",
        "\n",
        "#Etapa Prueba\n",
        "X_test_vectorized = add_feature(X_test_tvectorized, X_test_textA.str.len())\n",
        "X_test_vectorized = add_feature(X_test_tvectorized, X_test_textA.str.count('\\d'))\n",
        "predictions = arbol.predict(X_test_vectorized)\n",
        "\n",
        "#Metricas\n",
        "exactitud_arbol = accuracy_score(y_test_hsA, predictions)\n",
        "f1_arbol = f1_score(y_test_hsA, predictions)\n",
        "auc_arbol = roc_auc_score(y_test_hsA, predictions)\n",
        "print( 'Accuracy',  exactitud_arbol )\n",
        "print( 'AUC', f1_arbol )\n",
        "print( 'F1', auc_arbol )"
      ],
      "metadata": {
        "id": "5vL3zcRLsEeW",
        "colab": {
          "base_uri": "https://localhost:8080/"
        },
        "outputId": "960551be-1826-4b99-d2e9-502ae8fa081e"
      },
      "execution_count": 258,
      "outputs": [
        {
          "output_type": "stream",
          "name": "stdout",
          "text": [
            "Accuracy 0.66\n",
            "AUC 0.4585987261146497\n",
            "F1 0.6261909391405794\n"
          ]
        }
      ]
    },
    {
      "cell_type": "markdown",
      "source": [
        "### (4) Ejecución de Modelo KNN"
      ],
      "metadata": {
        "id": "SikVwWY9uc6M"
      }
    },
    {
      "cell_type": "code",
      "source": [
        "from sklearn.neighbors import KNeighborsClassifier\n",
        "\n",
        "#Etapa Entrenamiento\n",
        "X_train_vectorized = add_feature(X_train_tvectorized, X_train_textA.str.len())\n",
        "X_train_vectorized = add_feature(X_train_tvectorized, X_train_textA.str.count('\\d'))\n",
        "modelo = KNeighborsClassifier(n_neighbors=5)\n",
        "modelo.fit(X_train_vectorized,y_train_hsA)\n",
        "\n",
        "#Etapa Prueba\n",
        "X_test_vectorized = add_feature(X_test_tvectorized, X_test_textA.str.len())\n",
        "X_test_vectorized = add_feature(X_test_tvectorized, X_test_textA.str.count('\\d'))\n",
        "predictions = modelo.predict(X_test_vectorized)\n",
        "\n",
        "#Metricas\n",
        "exactitud_knn = accuracy_score(y_test_hsA, predictions)\n",
        "f1_knn = f1_score(y_test_hsA, predictions)\n",
        "auc_knn = roc_auc_score(y_test_hsA, predictions)\n",
        "print( 'Accuracy',  exactitud_knn )\n",
        "print( 'AUC', f1_knn )\n",
        "print( 'F1', auc_knn )"
      ],
      "metadata": {
        "id": "uZ4tyzVZujJZ",
        "colab": {
          "base_uri": "https://localhost:8080/"
        },
        "outputId": "8652caa6-4a2c-4c86-8ab8-c95e4bdf84aa"
      },
      "execution_count": 259,
      "outputs": [
        {
          "output_type": "stream",
          "name": "stdout",
          "text": [
            "Accuracy 0.654\n",
            "AUC 0.44372990353697744\n",
            "F1 0.6194341823838226\n"
          ]
        }
      ]
    },
    {
      "cell_type": "markdown",
      "source": [
        "# Tabla de comparación"
      ],
      "metadata": {
        "id": "Ud3rJNqEOOPJ"
      }
    },
    {
      "cell_type": "code",
      "source": [
        "# Construimos la tabla para comparar los métodos\n",
        "import pandas as pd\n",
        "\n",
        "tabla = pd.DataFrame()\n",
        "\n",
        "tabla['Exactitud'] = None\n",
        "tabla['F1'] = None\n",
        "tabla['AUC'] = None\n",
        "\n",
        "tabla.loc['Multinomial'] = [exactitud_MULTI, f1_MULTI, auc_MULTI]\n",
        "tabla.loc['SVC'] = [exactitud_svc,f1_svc,auc_svc]\n",
        "tabla.loc['Arboles '] = [exactitud_arbol,f1_arbol,auc_arbol]\n",
        "tabla.loc['KNN'] = [exactitud_knn,f1_knn,auc_knn]\n",
        "tabla"
      ],
      "metadata": {
        "colab": {
          "base_uri": "https://localhost:8080/",
          "height": 174
        },
        "id": "4d8ggRC2ONfi",
        "outputId": "0c2308b2-6195-4147-940d-e3bf960a0224"
      },
      "execution_count": 260,
      "outputs": [
        {
          "output_type": "execute_result",
          "data": {
            "text/plain": [
              "             Exactitud        F1       AUC\n",
              "Multinomial      0.772  0.713568  0.758669\n",
              "SVC              0.612  0.335616  0.572591\n",
              "Arboles          0.660  0.458599  0.626191\n",
              "KNN              0.654  0.443730  0.619434"
            ],
            "text/html": [
              "\n",
              "  <div id=\"df-9ea6b171-e2f6-4dec-bb01-93019ef6a11c\" class=\"colab-df-container\">\n",
              "    <div>\n",
              "<style scoped>\n",
              "    .dataframe tbody tr th:only-of-type {\n",
              "        vertical-align: middle;\n",
              "    }\n",
              "\n",
              "    .dataframe tbody tr th {\n",
              "        vertical-align: top;\n",
              "    }\n",
              "\n",
              "    .dataframe thead th {\n",
              "        text-align: right;\n",
              "    }\n",
              "</style>\n",
              "<table border=\"1\" class=\"dataframe\">\n",
              "  <thead>\n",
              "    <tr style=\"text-align: right;\">\n",
              "      <th></th>\n",
              "      <th>Exactitud</th>\n",
              "      <th>F1</th>\n",
              "      <th>AUC</th>\n",
              "    </tr>\n",
              "  </thead>\n",
              "  <tbody>\n",
              "    <tr>\n",
              "      <th>Multinomial</th>\n",
              "      <td>0.772</td>\n",
              "      <td>0.713568</td>\n",
              "      <td>0.758669</td>\n",
              "    </tr>\n",
              "    <tr>\n",
              "      <th>SVC</th>\n",
              "      <td>0.612</td>\n",
              "      <td>0.335616</td>\n",
              "      <td>0.572591</td>\n",
              "    </tr>\n",
              "    <tr>\n",
              "      <th>Arboles</th>\n",
              "      <td>0.660</td>\n",
              "      <td>0.458599</td>\n",
              "      <td>0.626191</td>\n",
              "    </tr>\n",
              "    <tr>\n",
              "      <th>KNN</th>\n",
              "      <td>0.654</td>\n",
              "      <td>0.443730</td>\n",
              "      <td>0.619434</td>\n",
              "    </tr>\n",
              "  </tbody>\n",
              "</table>\n",
              "</div>\n",
              "    <div class=\"colab-df-buttons\">\n",
              "\n",
              "  <div class=\"colab-df-container\">\n",
              "    <button class=\"colab-df-convert\" onclick=\"convertToInteractive('df-9ea6b171-e2f6-4dec-bb01-93019ef6a11c')\"\n",
              "            title=\"Convert this dataframe to an interactive table.\"\n",
              "            style=\"display:none;\">\n",
              "\n",
              "  <svg xmlns=\"http://www.w3.org/2000/svg\" height=\"24px\" viewBox=\"0 -960 960 960\">\n",
              "    <path d=\"M120-120v-720h720v720H120Zm60-500h600v-160H180v160Zm220 220h160v-160H400v160Zm0 220h160v-160H400v160ZM180-400h160v-160H180v160Zm440 0h160v-160H620v160ZM180-180h160v-160H180v160Zm440 0h160v-160H620v160Z\"/>\n",
              "  </svg>\n",
              "    </button>\n",
              "\n",
              "  <style>\n",
              "    .colab-df-container {\n",
              "      display:flex;\n",
              "      gap: 12px;\n",
              "    }\n",
              "\n",
              "    .colab-df-convert {\n",
              "      background-color: #E8F0FE;\n",
              "      border: none;\n",
              "      border-radius: 50%;\n",
              "      cursor: pointer;\n",
              "      display: none;\n",
              "      fill: #1967D2;\n",
              "      height: 32px;\n",
              "      padding: 0 0 0 0;\n",
              "      width: 32px;\n",
              "    }\n",
              "\n",
              "    .colab-df-convert:hover {\n",
              "      background-color: #E2EBFA;\n",
              "      box-shadow: 0px 1px 2px rgba(60, 64, 67, 0.3), 0px 1px 3px 1px rgba(60, 64, 67, 0.15);\n",
              "      fill: #174EA6;\n",
              "    }\n",
              "\n",
              "    .colab-df-buttons div {\n",
              "      margin-bottom: 4px;\n",
              "    }\n",
              "\n",
              "    [theme=dark] .colab-df-convert {\n",
              "      background-color: #3B4455;\n",
              "      fill: #D2E3FC;\n",
              "    }\n",
              "\n",
              "    [theme=dark] .colab-df-convert:hover {\n",
              "      background-color: #434B5C;\n",
              "      box-shadow: 0px 1px 3px 1px rgba(0, 0, 0, 0.15);\n",
              "      filter: drop-shadow(0px 1px 2px rgba(0, 0, 0, 0.3));\n",
              "      fill: #FFFFFF;\n",
              "    }\n",
              "  </style>\n",
              "\n",
              "    <script>\n",
              "      const buttonEl =\n",
              "        document.querySelector('#df-9ea6b171-e2f6-4dec-bb01-93019ef6a11c button.colab-df-convert');\n",
              "      buttonEl.style.display =\n",
              "        google.colab.kernel.accessAllowed ? 'block' : 'none';\n",
              "\n",
              "      async function convertToInteractive(key) {\n",
              "        const element = document.querySelector('#df-9ea6b171-e2f6-4dec-bb01-93019ef6a11c');\n",
              "        const dataTable =\n",
              "          await google.colab.kernel.invokeFunction('convertToInteractive',\n",
              "                                                    [key], {});\n",
              "        if (!dataTable) return;\n",
              "\n",
              "        const docLinkHtml = 'Like what you see? Visit the ' +\n",
              "          '<a target=\"_blank\" href=https://colab.research.google.com/notebooks/data_table.ipynb>data table notebook</a>'\n",
              "          + ' to learn more about interactive tables.';\n",
              "        element.innerHTML = '';\n",
              "        dataTable['output_type'] = 'display_data';\n",
              "        await google.colab.output.renderOutput(dataTable, element);\n",
              "        const docLink = document.createElement('div');\n",
              "        docLink.innerHTML = docLinkHtml;\n",
              "        element.appendChild(docLink);\n",
              "      }\n",
              "    </script>\n",
              "  </div>\n",
              "\n",
              "    </div>\n",
              "  </div>\n"
            ]
          },
          "metadata": {},
          "execution_count": 260
        }
      ]
    }
  ],
  "metadata": {
    "kernelspec": {
      "display_name": "Python 3",
      "language": "python",
      "name": "python3"
    },
    "language_info": {
      "codemirror_mode": {
        "name": "ipython",
        "version": 3
      },
      "file_extension": ".py",
      "mimetype": "text/x-python",
      "name": "python",
      "nbconvert_exporter": "python",
      "pygments_lexer": "ipython3",
      "version": "3.7.4"
    },
    "colab": {
      "provenance": []
    }
  },
  "nbformat": 4,
  "nbformat_minor": 0
}