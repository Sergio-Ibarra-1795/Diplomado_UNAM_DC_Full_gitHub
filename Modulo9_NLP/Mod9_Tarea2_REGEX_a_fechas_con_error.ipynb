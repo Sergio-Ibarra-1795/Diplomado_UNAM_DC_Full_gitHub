{
 "cells": [
  {
   "cell_type": "markdown",
   "metadata": {},
   "source": [
    "#### <font color=\"#03997A\"> Diplomado en Ciencia de datos UNAM </font>\n",
    "\n",
    "##### <font color=\"#03997A\"> MI: Luis Enrique Aorta V.  </font>\n",
    "\n",
    "##### <font color=\"#03997A\"> Modulo 9 Natural Language Procesing </font>\n",
    "\n",
    "##### <font color=\"#03997A\"> Tarea 2- REGEX para normalizacion de fechas Alumno: Ibarra Ramírez Sergio </font>"
   ]
  },
  {
   "cell_type": "markdown",
   "metadata": {},
   "source": []
  },
  {
   "cell_type": "code",
   "execution_count": 24,
   "metadata": {},
   "outputs": [
    {
     "name": "stdout",
     "output_type": "stream",
     "text": [
      "03/01/1974\n",
      "01/01/1979\n",
      "02/01/1983\n",
      "04/01/1986\n",
      "01/01/1989\n",
      "12/01/1998\n",
      "09/01/1999\n",
      "05/01/2004\n",
      "05/01/2006\n",
      "01/01/2008\n",
      "01/01/2010\n"
     ]
    }
   ],
   "source": [
    "import re\n",
    "from datetime import datetime\n",
    "\n",
    "def normalize_year(year):\n",
    "    if len(year) == 2:\n",
    "        year = '19' + year if int(year) >= 90 else '20' + year\n",
    "    return year\n",
    "\n",
    "def normalize_date(date_str):\n",
    "    date_str = date_str.replace('.', '').replace(',', '').replace('-', ' ').replace('/', ' ')\n",
    "    \n",
    "    # Check if the date string matches a variety of date patterns\n",
    "    date_patterns = [\n",
    "        r'(\\d{1,2})/(\\d{1,2})/(\\d{2})',\n",
    "        r'(\\d{1,2})/(\\d{1,2})/(\\d{4})',\n",
    "        r'(\\d{1,2})-(\\d{1,2})-(\\d{4})',\n",
    "        r'(\\d{1,2}) (\\d{1,2}), (\\d{4})',\n",
    "        r'(\\d{1,2}) ([A-Za-z]+), (\\d{4})',\n",
    "        r'([A-Za-z]+) (\\d{1,2}), (\\d{4})',\n",
    "        r'(\\d{1,2}) ([A-Za-z]+) (\\d{4})',\n",
    "        r'(\\d{1,2}) ([A-Za-z]+) (\\d{2})',\n",
    "        r'([A-Za-z]+) (\\d{4})',\n",
    "        r'(\\d{4})'\n",
    "    ]\n",
    "    \n",
    "    for pattern in date_patterns:\n",
    "        match = re.match(pattern, date_str)\n",
    "        if match:\n",
    "            groups = match.groups()\n",
    "            if len(groups) == 3:\n",
    "                month, day, year = groups\n",
    "                try:\n",
    "                    month = int(month)\n",
    "                    day = int(day)\n",
    "                    year = normalize_year(year)\n",
    "                    return f'{month:02d}/{day:02d}/{year}'\n",
    "                except ValueError:\n",
    "                    pass\n",
    "            elif len(groups) == 2:\n",
    "                # Handle month and year without day\n",
    "                month, year = groups\n",
    "                try:\n",
    "                    month = int(month) if month.isdigit() else datetime.strptime(month, '%B').month\n",
    "                    year = normalize_year(year)\n",
    "                    return f'{month:02d}/01/{year}'\n",
    "                except ValueError:\n",
    "                    pass\n",
    "            elif len(groups) == 1:\n",
    "                # Handle year only\n",
    "                year = normalize_year(groups[0])\n",
    "                return f'01/01/{year}'\n",
    "\n",
    "    return None\n",
    "\n",
    "def process_dates(filename):\n",
    "    with open(filename, 'r') as file:\n",
    "        dates = file.readlines()\n",
    "    \n",
    "    normalized_dates = []\n",
    "    for date_str in dates:\n",
    "        normalized_date = normalize_date(date_str.strip())\n",
    "        if normalized_date:\n",
    "            normalized_dates.append(normalized_date)\n",
    "    \n",
    "    sorted_dates = sorted(normalized_dates, key=lambda x: datetime.strptime(x, '%m/%d/%Y'))\n",
    "    \n",
    "    return sorted_dates\n",
    "\n",
    "filename = 'dates.txt'\n",
    "sorted_dates = process_dates(filename)\n",
    "for date in sorted_dates:\n",
    "    print(date)\n",
    "\n"
   ]
  },
  {
   "cell_type": "markdown",
   "metadata": {},
   "source": []
  },
  {
   "cell_type": "code",
   "execution_count": 25,
   "metadata": {},
   "outputs": [
    {
     "data": {
      "text/plain": [
       "['03/01/1974',\n",
       " '01/01/1979',\n",
       " '02/01/1983',\n",
       " '04/01/1986',\n",
       " '01/01/1989',\n",
       " '12/01/1998',\n",
       " '09/01/1999',\n",
       " '05/01/2004',\n",
       " '05/01/2006',\n",
       " '01/01/2008',\n",
       " '01/01/2010']"
      ]
     },
     "execution_count": 25,
     "metadata": {},
     "output_type": "execute_result"
    }
   ],
   "source": [
    "process_dates(filename = 'dates.txt')"
   ]
  },
  {
   "cell_type": "markdown",
   "metadata": {},
   "source": []
  },
  {
   "cell_type": "code",
   "execution_count": null,
   "metadata": {},
   "outputs": [],
   "source": [
    "import re\n",
    "\n",
    "def extract_dates(filename):\n",
    "  dates = []\n",
    "  date_regex = re.compile(r'\\d+/\\d+/\\d+') \n",
    "\n",
    "  with open(filename) as f:\n",
    "    for line in f:\n",
    "      found_dates = date_regex.findall(line)\n",
    "      dates.extend(found_dates)\n",
    "\n",
    "  return dates\n",
    "\n",
    "dates = extract_dates('dates.txt')\n",
    "print(dates)"
   ]
  },
  {
   "cell_type": "markdown",
   "metadata": {},
   "source": []
  },
  {
   "cell_type": "code",
   "execution_count": null,
   "metadata": {},
   "outputs": [],
   "source": [
    "import re\n",
    "\n",
    "def extract_dates2(filename):\n",
    "  dates = []\n",
    "  # Add alternation for month name or number\n",
    "  date_regex = re.compile(r'((\\d{1,2} [A-Za-z]{3,9} \\d{2,4})|(\\d{1,2}/\\d{1,2}/\\d{2,4}))')\n",
    "  \n",
    "  with open(filename) as f:\n",
    "    for line in f:\n",
    "      found_dates = date_regex.findall(line)\n",
    "      for date in found_dates:\n",
    "        dates.append(date[0]) # Append first capturing group\n",
    "\n",
    "  return dates\n",
    "\n",
    "dates2 = extract_dates2('dates.txt')\n",
    "print(dates2)"
   ]
  }
 ],
 "metadata": {
  "kernelspec": {
   "display_name": "Python 3",
   "language": "python",
   "name": "python3"
  },
  "language_info": {
   "codemirror_mode": {
    "name": "ipython",
    "version": 3
   },
   "file_extension": ".py",
   "mimetype": "text/x-python",
   "name": "python",
   "nbconvert_exporter": "python",
   "pygments_lexer": "ipython3",
   "version": "3.10.5"
  },
  "orig_nbformat": 4
 },
 "nbformat": 4,
 "nbformat_minor": 2
}
