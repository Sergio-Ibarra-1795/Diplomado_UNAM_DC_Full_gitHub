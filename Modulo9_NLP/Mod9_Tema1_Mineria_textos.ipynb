{
 "cells": [
  {
   "cell_type": "markdown",
   "metadata": {},
   "source": [
    "#### <font color=\"#03997A\"> Diplomado en Ciencia de datos UNAM </font>\n",
    "\n",
    "##### <font color=\"#03997A\"> MI: Luis Enrique Aorta V.  </font>\n",
    "\n",
    "##### <font color=\"#03997A\"> Modulo 9 Natural Language Procesing </font>\n",
    "\n",
    "##### <font color=\"#03997A\"> Tema 1- Introducción a la minería de datos Alumno: Ibarra Ramírez Sergio </font>"
   ]
  },
  {
   "cell_type": "markdown",
   "metadata": {
    "id": "C4eUtEA3oJUX"
   },
   "source": [
    "## Trabajando con texto"
   ]
  },
  {
   "cell_type": "code",
   "execution_count": 1,
   "metadata": {
    "id": "jhd3czTcoJUh"
   },
   "outputs": [
    {
     "data": {
      "text/plain": [
       "'\"Por mi raza hablará el espíritu\" significa la convicción de la UNAM de que \"la raza elaborará una cultura de tendencias nuevas, de esencia espiritual y libres\", explicó Vasconcelos al presentar la propuesta.'"
      ]
     },
     "execution_count": 1,
     "metadata": {},
     "output_type": "execute_result"
    }
   ],
   "source": [
    "text1 = '\"Por mi raza hablará el espíritu\" significa la convicción de la UNAM de que '\\\n",
    "    '\"la raza elaborará una cultura de tendencias nuevas, de esencia espiritual y libres\", '\\\n",
    "    'explicó Vasconcelos al presentar la propuesta.'\n",
    "text1"
   ]
  },
  {
   "cell_type": "code",
   "execution_count": 2,
   "metadata": {
    "id": "mDu0Q9YIoJUk"
   },
   "outputs": [
    {
     "data": {
      "text/plain": [
       "208"
      ]
     },
     "execution_count": 2,
     "metadata": {},
     "output_type": "execute_result"
    }
   ],
   "source": [
    "len(text1) # La longitud de texto1"
   ]
  },
  {
   "cell_type": "code",
   "execution_count": 3,
   "metadata": {
    "id": "VcFkxo6EoJUm"
   },
   "outputs": [
    {
     "data": {
      "text/plain": [
       "33"
      ]
     },
     "execution_count": 3,
     "metadata": {},
     "output_type": "execute_result"
    }
   ],
   "source": [
    "text2 = text1.split(' ') # Retorna la list de palabras en texto2, separando por ' '.\n",
    "\n",
    "len(text2)"
   ]
  },
  {
   "cell_type": "code",
   "execution_count": 4,
   "metadata": {
    "id": "dOVITSS2oJUm"
   },
   "outputs": [
    {
     "data": {
      "text/plain": [
       "['\"Por',\n",
       " 'mi',\n",
       " 'raza',\n",
       " 'hablará',\n",
       " 'el',\n",
       " 'espíritu\"',\n",
       " 'significa',\n",
       " 'la',\n",
       " 'convicción',\n",
       " 'de',\n",
       " 'la',\n",
       " 'UNAM',\n",
       " 'de',\n",
       " 'que',\n",
       " '\"la',\n",
       " 'raza',\n",
       " 'elaborará',\n",
       " 'una',\n",
       " 'cultura',\n",
       " 'de',\n",
       " 'tendencias',\n",
       " 'nuevas,',\n",
       " 'de',\n",
       " 'esencia',\n",
       " 'espiritual',\n",
       " 'y',\n",
       " 'libres\",',\n",
       " 'explicó',\n",
       " 'Vasconcelos',\n",
       " 'al',\n",
       " 'presentar',\n",
       " 'la',\n",
       " 'propuesta.']"
      ]
     },
     "execution_count": 4,
     "metadata": {},
     "output_type": "execute_result"
    }
   ],
   "source": [
    "text2"
   ]
  },
  {
   "cell_type": "markdown",
   "metadata": {
    "id": "dp7W6bn1oJUm"
   },
   "source": [
    "## Funciones de comparación de palabras\n",
    "<ul>\n",
    "    <li>s.startswith(t)</li>\n",
    "    <li>s.endswith(t)</li>\n",
    "    <li>t in s</li>\n",
    "    <li>s.isupper()</li>\n",
    "    <li>s.islower()</li>\n",
    "    <li>s.istitle()()</li>\n",
    "    <li>s.isalpha()</li>\n",
    "    <li>s.isdigit()</li>\n",
    "    <li>s.isalnum()</li>\n",
    "</ul>\n",
    "\n",
    "## Operaciones de cadena\n",
    "<ul>\n",
    "    <li>s.upper()</li>\n",
    "    <li>s.lower()</li>\n",
    "    <li>s.titlecase()</li>\n",
    "    <li>s.split(t)</li>\n",
    "    <li>s.splitlines()</li>\n",
    "    <li>s.join(t)</li>\n",
    "    <li>s.strip()</li>\n",
    "    <li>s.rstrip()</li>\n",
    "    <li>s.find(t)</li>\n",
    "    <li>s.rfind(t)</li>\n",
    "    <li>s.replace(u, v)</li>\n",
    "</ul>\n",
    "\n",
    "\n",
    "<a>https://www.w3schools.com/python/python_ref_string.asp</a> <br>\n",
    "<a>https://www.programiz.com/python-programming/methods/string</a>"
   ]
  },
  {
   "cell_type": "markdown",
   "metadata": {
    "id": "c757kfS0oJUo"
   },
   "source": [
    "### Buscando palabras específicas"
   ]
  },
  {
   "cell_type": "markdown",
   "metadata": {
    "id": "QYlW-2uAoJUp"
   },
   "source": [
    "#### Palabras que tienen mas de 5 letras en texto2"
   ]
  },
  {
   "cell_type": "code",
   "execution_count": 5,
   "metadata": {
    "id": "eTAPFl4OoJUp"
   },
   "outputs": [
    {
     "data": {
      "text/plain": [
       "['hablará',\n",
       " 'espíritu\"',\n",
       " 'significa',\n",
       " 'convicción',\n",
       " 'elaborará',\n",
       " 'cultura',\n",
       " 'tendencias',\n",
       " 'nuevas,',\n",
       " 'esencia',\n",
       " 'espiritual',\n",
       " 'libres\",',\n",
       " 'explicó',\n",
       " 'Vasconcelos',\n",
       " 'presentar',\n",
       " 'propuesta.']"
      ]
     },
     "execution_count": 5,
     "metadata": {},
     "output_type": "execute_result"
    }
   ],
   "source": [
    "[w for w in text2 if len(w) > 5] # Palabras que tienen mas de 5 letras en texto2"
   ]
  },
  {
   "cell_type": "markdown",
   "metadata": {
    "id": "QYlW-2uAoJUp"
   },
   "source": [
    "#### Palabras con la primera letra en mayúsculas en texto2"
   ]
  },
  {
   "cell_type": "code",
   "execution_count": 6,
   "metadata": {},
   "outputs": [
    {
     "data": {
      "text/plain": [
       "['\"Por', 'Vasconcelos']"
      ]
     },
     "execution_count": 6,
     "metadata": {},
     "output_type": "execute_result"
    }
   ],
   "source": [
    "[w for w in text2 if w.istitle()] # Palabras con la primera letra en mayúsculas en texto2"
   ]
  },
  {
   "cell_type": "markdown",
   "metadata": {
    "id": "QYlW-2uAoJUp"
   },
   "source": [
    "#### Palabras en texto2 que terminan en 's'"
   ]
  },
  {
   "cell_type": "code",
   "execution_count": 7,
   "metadata": {},
   "outputs": [
    {
     "data": {
      "text/plain": [
       "['tendencias', 'Vasconcelos']"
      ]
     },
     "execution_count": 7,
     "metadata": {},
     "output_type": "execute_result"
    }
   ],
   "source": [
    "[w for w in text2 if w.endswith('s')] # Palabras en texto2 que terminan en 's'"
   ]
  },
  {
   "cell_type": "markdown",
   "metadata": {
    "id": "gTb1y27KoJUr"
   },
   "source": [
    "¿Por qué no toma la palabra <b>nuevas</b> o <b>libres</b>?"
   ]
  },
  {
   "cell_type": "code",
   "execution_count": 8,
   "metadata": {},
   "outputs": [
    {
     "data": {
      "text/plain": [
       "['\"Por',\n",
       " 'mi',\n",
       " 'raza',\n",
       " 'hablará',\n",
       " 'el',\n",
       " 'espíritu\"',\n",
       " 'significa',\n",
       " 'la',\n",
       " 'convicción',\n",
       " 'de',\n",
       " 'la',\n",
       " 'UNAM',\n",
       " 'de',\n",
       " 'que',\n",
       " '\"la',\n",
       " 'raza',\n",
       " 'elaborará',\n",
       " 'una',\n",
       " 'cultura',\n",
       " 'de',\n",
       " 'tendencias',\n",
       " 'nuevas,',\n",
       " 'de',\n",
       " 'esencia',\n",
       " 'espiritual',\n",
       " 'y',\n",
       " 'libres\",',\n",
       " 'explicó',\n",
       " 'Vasconcelos',\n",
       " 'al',\n",
       " 'presentar',\n",
       " 'la',\n",
       " 'propuesta.']"
      ]
     },
     "execution_count": 8,
     "metadata": {},
     "output_type": "execute_result"
    }
   ],
   "source": [
    "text2"
   ]
  },
  {
   "cell_type": "code",
   "execution_count": null,
   "metadata": {},
   "outputs": [],
   "source": []
  },
  {
   "cell_type": "code",
   "execution_count": null,
   "metadata": {},
   "outputs": [],
   "source": []
  },
  {
   "cell_type": "markdown",
   "metadata": {
    "id": "0blwTQ7JoJUt"
   },
   "source": [
    "### De palabras a caracteres"
   ]
  },
  {
   "cell_type": "code",
   "execution_count": 11,
   "metadata": {
    "id": "FYdf4YiNoJUt"
   },
   "outputs": [
    {
     "data": {
      "text/plain": [
       "['social', 'cultural']"
      ]
     },
     "execution_count": 11,
     "metadata": {},
     "output_type": "execute_result"
    }
   ],
   "source": [
    "text4 = 'social-cultural'\n",
    "text5 = text4.split('-')\n",
    "text5"
   ]
  },
  {
   "cell_type": "code",
   "execution_count": 9,
   "metadata": {
    "id": "rEgFrvf6oJUu"
   },
   "outputs": [
    {
     "data": {
      "text/plain": [
       "'social-cultural'"
      ]
     },
     "execution_count": 9,
     "metadata": {},
     "output_type": "execute_result"
    }
   ],
   "source": [
    "'-'.join(text5)"
   ]
  },
  {
   "cell_type": "code",
   "execution_count": 12,
   "metadata": {
    "id": "Mc9qavl-oJUv"
   },
   "outputs": [
    {
     "ename": "ValueError",
     "evalue": "empty separator",
     "output_type": "error",
     "traceback": [
      "\u001b[1;31m---------------------------------------------------------------------------\u001b[0m",
      "\u001b[1;31mValueError\u001b[0m                                Traceback (most recent call last)",
      "\u001b[1;32m<ipython-input-12-d56e19bae474>\u001b[0m in \u001b[0;36m<module>\u001b[1;34m\u001b[0m\n\u001b[1;32m----> 1\u001b[1;33m \u001b[0mtext4\u001b[0m\u001b[1;33m.\u001b[0m\u001b[0msplit\u001b[0m\u001b[1;33m(\u001b[0m\u001b[1;34m''\u001b[0m\u001b[1;33m)\u001b[0m \u001b[1;31m#forma incorrecta de separar por caracteres\u001b[0m\u001b[1;33m\u001b[0m\u001b[1;33m\u001b[0m\u001b[0m\n\u001b[0m",
      "\u001b[1;31mValueError\u001b[0m: empty separator"
     ]
    }
   ],
   "source": [
    "text4.split('') #forma incorrecta de separar por caracteres"
   ]
  },
  {
   "cell_type": "code",
   "execution_count": 11,
   "metadata": {
    "id": "nAcUieW0oJUw"
   },
   "outputs": [
    {
     "data": {
      "text/plain": [
       "['s', 'o', 'c', 'i', 'a', 'l', '-', 'c', 'u', 'l', 't', 'u', 'r', 'a', 'l']"
      ]
     },
     "execution_count": 11,
     "metadata": {},
     "output_type": "execute_result"
    }
   ],
   "source": [
    "list(text4)"
   ]
  },
  {
   "cell_type": "code",
   "execution_count": 12,
   "metadata": {
    "id": "q3ly1N5poJUw"
   },
   "outputs": [
    {
     "data": {
      "text/plain": [
       "['s', 'o', 'c', 'i', 'a', 'l', '-', 'c', 'u', 'l', 't', 'u', 'r', 'a', 'l']"
      ]
     },
     "execution_count": 12,
     "metadata": {},
     "output_type": "execute_result"
    }
   ],
   "source": [
    "[c for c in text4]"
   ]
  },
  {
   "cell_type": "markdown",
   "metadata": {
    "id": "QYd6fgCNoJUw"
   },
   "source": [
    "Retomar el text1 para buscar palabras que terminan en 's'<br>\n",
    "<b>Sugerencia:</b> Para eliminar signos de puntuación usar la función <b>punctuation</b> de la librería <b>string</b>"
   ]
  },
  {
   "cell_type": "code",
   "execution_count": 13,
   "metadata": {
    "id": "g8KlmeEpoJUx",
    "outputId": "79d92ad4-f281-4e55-ac0c-2d111ba4d75a"
   },
   "outputs": [
    {
     "data": {
      "text/plain": [
       "'!\"#$%&\\'()*+,-./:;<=>?@[\\\\]^_`{|}~'"
      ]
     },
     "execution_count": 13,
     "metadata": {},
     "output_type": "execute_result"
    }
   ],
   "source": [
    "import string\n",
    "punct = string.punctuation # Signos de puntuación del inglés\n",
    "punct"
   ]
  },
  {
   "cell_type": "code",
   "execution_count": 17,
   "metadata": {
    "id": "45o5ai8goJU0"
   },
   "outputs": [
    {
     "name": "stdout",
     "output_type": "stream",
     "text": [
      "Por mi raza hablará el espíritu significa la convicción de la UNAM de que la raza elaborará una cultura de tendencias nuevas de esencia espiritual y libres explicó Vasconcelos al presentar la propuesta \n",
      "\n",
      "\n",
      "Por mi raza hablará el espíritu significa la convicción de la UNAM de que la raza elaborará una cultura de tendencias nuevas de esencia espiritual y libres explicó Vasconcelos al presentar la propuesta\n"
     ]
    },
    {
     "data": {
      "text/plain": [
       "['tendencias', 'nuevas', 'libres', 'Vasconcelos']"
      ]
     },
     "execution_count": 17,
     "metadata": {},
     "output_type": "execute_result"
    }
   ],
   "source": [
    "print(text1, '\\n\\n')\n",
    "\n",
    "for p in punct:\n",
    "    text1 = text1.replace(p, '')\n",
    "print(text1)\n",
    "\n",
    "text2 = text1.split(' ')\n",
    "[w for w in text2 if w.endswith('s')]"
   ]
  },
  {
   "cell_type": "markdown",
   "metadata": {
    "id": "FIobhVX-oJU1"
   },
   "source": [
    "### Eliminar repetidas"
   ]
  },
  {
   "cell_type": "code",
   "execution_count": 18,
   "metadata": {
    "id": "58NQyU3AoJU1"
   },
   "outputs": [
    {
     "data": {
      "text/plain": [
       "6"
      ]
     },
     "execution_count": 18,
     "metadata": {},
     "output_type": "execute_result"
    }
   ],
   "source": [
    "# Podemos encontrar palabras unicas usando `set()`.\n",
    "\n",
    "text5 = 'Llovía y llovía como nunca llovía'\n",
    "text6 = text5.split(' ')\n",
    "\n",
    "len(text6)"
   ]
  },
  {
   "cell_type": "code",
   "execution_count": 19,
   "metadata": {},
   "outputs": [
    {
     "data": {
      "text/plain": [
       "['Llovía', 'y', 'llovía', 'como', 'nunca', 'llovía']"
      ]
     },
     "execution_count": 19,
     "metadata": {},
     "output_type": "execute_result"
    }
   ],
   "source": [
    "text6"
   ]
  },
  {
   "cell_type": "code",
   "execution_count": 20,
   "metadata": {
    "id": "-kZgEmOMoJU2"
   },
   "outputs": [
    {
     "data": {
      "text/plain": [
       "5"
      ]
     },
     "execution_count": 20,
     "metadata": {},
     "output_type": "execute_result"
    }
   ],
   "source": [
    "len(set(text6))"
   ]
  },
  {
   "cell_type": "code",
   "execution_count": 21,
   "metadata": {
    "id": "AecP8FGsoJU3"
   },
   "outputs": [
    {
     "data": {
      "text/plain": [
       "{'Llovía', 'como', 'llovía', 'nunca', 'y'}"
      ]
     },
     "execution_count": 21,
     "metadata": {},
     "output_type": "execute_result"
    }
   ],
   "source": [
    "set(text6)"
   ]
  },
  {
   "cell_type": "code",
   "execution_count": 22,
   "metadata": {
    "id": "U6PlIes9oJU3"
   },
   "outputs": [
    {
     "data": {
      "text/plain": [
       "4"
      ]
     },
     "execution_count": 22,
     "metadata": {},
     "output_type": "execute_result"
    }
   ],
   "source": [
    "len(set([w.lower() for w in text6])) # .lower convierte la cadena a minusculas."
   ]
  },
  {
   "cell_type": "code",
   "execution_count": 23,
   "metadata": {
    "id": "DpAeiZncoJU3"
   },
   "outputs": [
    {
     "data": {
      "text/plain": [
       "{'como', 'llovía', 'nunca', 'y'}"
      ]
     },
     "execution_count": 23,
     "metadata": {},
     "output_type": "execute_result"
    }
   ],
   "source": [
    "set([w.lower() for w in text6])"
   ]
  },
  {
   "cell_type": "markdown",
   "metadata": {
    "id": "sA9g9jGpoJU4"
   },
   "source": [
    "### Limpieza de textos"
   ]
  },
  {
   "cell_type": "code",
   "execution_count": 24,
   "metadata": {
    "id": "HSaMYPmpoJU4"
   },
   "outputs": [
    {
     "data": {
      "text/plain": [
       "['',\n",
       " '',\n",
       " '',\n",
       " 'El',\n",
       " 'significado',\n",
       " 'del',\n",
       " 'lema',\n",
       " 'de',\n",
       " 'la',\n",
       " 'UNAM',\n",
       " 'es',\n",
       " 'unir',\n",
       " 'a',\n",
       " 'toda',\n",
       " 'América',\n",
       " 'Latina',\n",
       " 'bajo',\n",
       " 'la',\n",
       " 'misma',\n",
       " 'identidad',\n",
       " 'política',\n",
       " 'y',\n",
       " 'cultural',\n",
       " '']"
      ]
     },
     "execution_count": 24,
     "metadata": {},
     "output_type": "execute_result"
    }
   ],
   "source": [
    "text7 = '   El significado del lema de la UNAM es unir a toda América Latina bajo la misma identidad política y cultural '\n",
    "text7.split(' ')"
   ]
  },
  {
   "cell_type": "code",
   "execution_count": 25,
   "metadata": {
    "id": "GBGDOdNQoJU4"
   },
   "outputs": [
    {
     "data": {
      "text/plain": [
       "'El significado del lema de la UNAM es unir a toda América Latina bajo la misma identidad política y cultural'"
      ]
     },
     "execution_count": 25,
     "metadata": {},
     "output_type": "execute_result"
    }
   ],
   "source": [
    "text8 = text7.strip()\n",
    "text8"
   ]
  },
  {
   "cell_type": "code",
   "execution_count": 26,
   "metadata": {
    "id": "3lCLmXCjoJU4"
   },
   "outputs": [
    {
     "data": {
      "text/plain": [
       "['El',\n",
       " 'significado',\n",
       " 'del',\n",
       " 'lema',\n",
       " 'de',\n",
       " 'la',\n",
       " 'UNAM',\n",
       " 'es',\n",
       " 'unir',\n",
       " 'a',\n",
       " 'toda',\n",
       " 'América',\n",
       " 'Latina',\n",
       " 'bajo',\n",
       " 'la',\n",
       " 'misma',\n",
       " 'identidad',\n",
       " 'política',\n",
       " 'y',\n",
       " 'cultural']"
      ]
     },
     "execution_count": 26,
     "metadata": {},
     "output_type": "execute_result"
    }
   ],
   "source": [
    "text8.split(' ')"
   ]
  },
  {
   "cell_type": "markdown",
   "metadata": {
    "id": "WBnDCSbyoJU5"
   },
   "source": [
    "### Modificando el texto"
   ]
  },
  {
   "cell_type": "code",
   "execution_count": 27,
   "metadata": {
    "id": "npnBwLW1oJU5"
   },
   "outputs": [
    {
     "data": {
      "text/plain": [
       "'El significado del lema de la UNAM es unir a toda América Latina bajo la misma identidad política y cultural'"
      ]
     },
     "execution_count": 27,
     "metadata": {},
     "output_type": "execute_result"
    }
   ],
   "source": [
    "text8"
   ]
  },
  {
   "cell_type": "code",
   "execution_count": 28,
   "metadata": {
    "id": "q3QLax2UoJU5"
   },
   "outputs": [
    {
     "data": {
      "text/plain": [
       "108"
      ]
     },
     "execution_count": 28,
     "metadata": {},
     "output_type": "execute_result"
    }
   ],
   "source": [
    "len(text8)"
   ]
  },
  {
   "cell_type": "code",
   "execution_count": 29,
   "metadata": {
    "id": "zNx84FCfoJU6"
   },
   "outputs": [
    {
     "data": {
      "text/plain": [
       "1"
      ]
     },
     "execution_count": 29,
     "metadata": {},
     "output_type": "execute_result"
    }
   ],
   "source": [
    "text8.find('l')"
   ]
  },
  {
   "cell_type": "code",
   "execution_count": 30,
   "metadata": {
    "id": "GUQ-zTdnoJU6"
   },
   "outputs": [
    {
     "data": {
      "text/plain": [
       "107"
      ]
     },
     "execution_count": 30,
     "metadata": {},
     "output_type": "execute_result"
    }
   ],
   "source": [
    "text8.rfind('l')"
   ]
  },
  {
   "cell_type": "code",
   "execution_count": 31,
   "metadata": {
    "id": "4tX84VMroJU6"
   },
   "outputs": [
    {
     "data": {
      "text/plain": [
       "'El significadO del lema de la UNAM es unir a tOda América Latina bajO la misma identidad pOlítica y cultural'"
      ]
     },
     "execution_count": 31,
     "metadata": {},
     "output_type": "execute_result"
    }
   ],
   "source": [
    "text8.replace('o', 'O')"
   ]
  },
  {
   "cell_type": "markdown",
   "metadata": {
    "id": "tCV5FdqVoJU6"
   },
   "source": [
    "## Operaciones de archivos\n",
    "\n",
    "f = open(filename, mode)\n",
    "<ul>\n",
    "    <li>f.readline()</li>\n",
    "    <li>f.read()</li>\n",
    "    <li>f.read(n)</li>\n",
    "    <li>for line in f: doSomething(line)</li>\n",
    "    <li>f.seek(n)</li>\n",
    "    <li>f.write(message)</li>\n",
    "    <li>f.close()</li>\n",
    "    <li>f.closed</li>\n",
    "</ul>\n",
    "\n",
    "<a>https://realpython.com/read-write-files-python/</a><br>\n",
    "<a>https://www.tutorialspoint.com/python/python_files_io.htm</a>"
   ]
  },
  {
   "cell_type": "markdown",
   "metadata": {
    "id": "jsPjf_nyoJU7"
   },
   "source": [
    "### Manejo de textos más grandes"
   ]
  },
  {
   "cell_type": "code",
   "execution_count": null,
   "metadata": {
    "id": "UUdPdQ8DoRSp"
   },
   "outputs": [],
   "source": [
    "# Activar Google Drive de forma local\n",
    "\n",
    "from google.colab import drive\n",
    "drive.mount('/content/drive')\n",
    "\n",
    "# Lectura de archivos línea por línea\n",
    "f = open('/content/drive/My Drive/Modulo 9 Mineria de textos/trabalenguas.txt', 'r')\n",
    "f.readline()"
   ]
  },
  {
   "cell_type": "code",
   "execution_count": 32,
   "metadata": {
    "id": "5B1ktk7eoJU7"
   },
   "outputs": [
    {
     "data": {
      "text/plain": [
       "3259"
      ]
     },
     "execution_count": 32,
     "metadata": {},
     "output_type": "execute_result"
    }
   ],
   "source": [
    "f = open('trabalenguas.txt', 'r')\n",
    "\n",
    "# Lectura del archivo completo\n",
    "f.seek(0) # reposicionar el \"puntero de lectura\" en un archivo abierto a la posición inicial (el byte 0) del archivo\n",
    "text9 = f.read() # Devuelve una cadena de caracteres que contiene los datos leídos del archivo.\n",
    "\n",
    "# text9\n",
    "len(text9)"
   ]
  },
  {
   "cell_type": "code",
   "execution_count": 31,
   "metadata": {
    "id": "QVPLaW5aoJU7"
   },
   "outputs": [
    {
     "data": {
      "text/plain": [
       "86"
      ]
     },
     "execution_count": 31,
     "metadata": {},
     "output_type": "execute_result"
    }
   ],
   "source": [
    "text10 = text9.splitlines()\n",
    "# text10\n",
    "len(text10)"
   ]
  },
  {
   "cell_type": "code",
   "execution_count": 32,
   "metadata": {
    "id": "fFLcnRRqoJU8"
   },
   "outputs": [
    {
     "data": {
      "text/plain": [
       "'    \"Tres tristes tigres tragaban trigo en un trigal en tres tristes trastos.'"
      ]
     },
     "execution_count": 32,
     "metadata": {},
     "output_type": "execute_result"
    }
   ],
   "source": [
    "text10[0]"
   ]
  },
  {
   "cell_type": "markdown",
   "metadata": {
    "id": "ZV5tWKyDoJU8"
   },
   "source": [
    "<b>¿Cómo removemos el último carácter que indica el retorno de línea?</b>"
   ]
  },
  {
   "cell_type": "code",
   "execution_count": 33,
   "metadata": {
    "id": "UBXji09-oJU8"
   },
   "outputs": [
    {
     "data": {
      "text/plain": [
       "'\"Tres tristes tigres tragaban trigo en un trigal en tres tristes trastos.'"
      ]
     },
     "execution_count": 33,
     "metadata": {},
     "output_type": "execute_result"
    }
   ],
   "source": [
    "text10[0].lstrip() # Eliminar a la izquierda\n",
    "text10[0].rstrip() # Eliminar a la derecha\n",
    "text10[0].strip() # Elimina hacia ambos lados"
   ]
  },
  {
   "cell_type": "markdown",
   "metadata": {
    "id": "NawZ_R4PoJU8"
   },
   "source": [
    "### Procesamiento de texto"
   ]
  },
  {
   "cell_type": "code",
   "execution_count": 34,
   "metadata": {
    "id": "T-cMGZqOoJU9"
   },
   "outputs": [
    {
     "data": {
      "text/plain": [
       "['Mañana',\n",
       " 'presenta',\n",
       " '#CDMX',\n",
       " 'plan',\n",
       " 'para',\n",
       " 'segunda',\n",
       " 'fase',\n",
       " 'de',\n",
       " 'la',\n",
       " '#SputnikV',\n",
       " 'en',\n",
       " 'tres',\n",
       " 'alcaldías.',\n",
       " 'Se',\n",
       " 'aplicará',\n",
       " 'a',\n",
       " '#AdultosMayores',\n",
       " 'en',\n",
       " '@IztacalcoAl,',\n",
       " '@Alc_Tlahuac',\n",
       " 'y',\n",
       " '@XochimilcoAl,',\n",
       " 'pues',\n",
       " 'debe',\n",
       " 'hacerse',\n",
       " 'entre',\n",
       " '21',\n",
       " 'y',\n",
       " '35',\n",
       " 'días',\n",
       " 'después',\n",
       " 'de',\n",
       " 'la',\n",
       " 'primera',\n",
       " 'dosis.',\n",
       " '#PlanetaCoronavirus',\n",
       " '#Covid19']"
      ]
     },
     "execution_count": 34,
     "metadata": {},
     "output_type": "execute_result"
    }
   ],
   "source": [
    "tweet = 'Mañana presenta #CDMX plan para segunda fase de la #SputnikV en tres alcaldías. \\\n",
    "Se aplicará a #AdultosMayores en @IztacalcoAl, @Alc_Tlahuac y @XochimilcoAl, \\\n",
    "pues debe hacerse entre 21 y 35 días después de la primera dosis. #PlanetaCoronavirus #Covid19'\n",
    "\n",
    "# Lista de palabras\n",
    "list_tweet = tweet.split(' ')\n",
    "\n",
    "list_tweet"
   ]
  },
  {
   "cell_type": "code",
   "execution_count": 35,
   "metadata": {
    "id": "n6ArNguIoJU9"
   },
   "outputs": [
    {
     "data": {
      "text/plain": [
       "['#CDMX', '#SputnikV', '#AdultosMayores', '#PlanetaCoronavirus', '#Covid19']"
      ]
     },
     "execution_count": 35,
     "metadata": {},
     "output_type": "execute_result"
    }
   ],
   "source": [
    "# Encontrando hastags #:\n",
    "[w for w in list_tweet if w.startswith('#')]"
   ]
  },
  {
   "cell_type": "code",
   "execution_count": 36,
   "metadata": {
    "id": "evA5s6J9oJU9",
    "outputId": "1130dde0-48e2-4db3-9377-5284e5e6db1e"
   },
   "outputs": [
    {
     "data": {
      "text/plain": [
       "['@IztacalcoAl,', '@Alc_Tlahuac', '@XochimilcoAl,']"
      ]
     },
     "execution_count": 36,
     "metadata": {},
     "output_type": "execute_result"
    }
   ],
   "source": [
    "# Encontrando menciones @:\n",
    "[w for w in list_tweet if w.startswith('@')]"
   ]
  },
  {
   "cell_type": "markdown",
   "metadata": {
    "id": "0f8k_ZbLoJU-"
   },
   "source": [
    "<br>\n",
    "\n",
    "Podemos usar expresiones regulares para ayudarnos con un análisis más complejo. \n",
    "\n",
    "Por ejemplo, `'@ [A-Za-z0-9 _] +'` devolverá todas las palabras que:\n",
    "* comience con `'@'` y son seguidos por al menos uno:\n",
    "* letra mayúscula (`'A-Z'`)\n",
    "* letra minúscula (`'a-z'`)\n",
    "* número (`'0-9'`)\n",
    "* o subrayado (`'_'`)"
   ]
  },
  {
   "cell_type": "code",
   "execution_count": 42,
   "metadata": {
    "id": "pY4hi4mpoJU-",
    "outputId": "9f2fd33b-4c13-489e-9049-5170836055e7"
   },
   "outputs": [
    {
     "data": {
      "text/plain": [
       "['@IztacalcoAl,', '@Alc_Tlahuac', '@XochimilcoAl,']"
      ]
     },
     "execution_count": 42,
     "metadata": {},
     "output_type": "execute_result"
    }
   ],
   "source": [
    "import re # import re - a module that provides support for regular expressions\n",
    "\n",
    "[w for w in tweet.split(' ') if re.search('@[A-Za-z0-9_]+', w)]"
   ]
  },
  {
   "cell_type": "markdown",
   "metadata": {
    "id": "VF2dCW2AoJU_"
   },
   "source": [
    "## Tarea"
   ]
  },
  {
   "attachments": {},
   "cell_type": "markdown",
   "metadata": {
    "id": "Tztq4ggmoJU_"
   },
   "source": [
    "#### A)\tCrear una función en Python que:\n",
    "1.\tPermita leer un archivo (por ejemplo: trabalenguas.txt y/o frases_famosas.txt)\n",
    "2.\tExtraer de forma correcta cada texto correspondiente a un trabalenguas y/o una frase famosa, guardándolo en una nueva línea.\n",
    "3.\tFinalmente, guarde los textos extraídos en un único y nuevo archivo.\n",
    "<br><b>Para identificar que un texto es correcto y aceptado, se debe tener en cuenta lo siguiente:</b> \n",
    "<br>. En el archivo trabalenguas.txt, los trabalenguas están denotados entre comillas.\n",
    "<br>. En el archivo frases_famosas.txt, las frases famosas están denotadas entre guiones.\n",
    "\n",
    "\n",
    "#### B)\tIndagar en las diferencias de implementación entre Python2 y Python3. Profundice con respecto a la codificación de caracteres."
   ]
  },
  {
   "cell_type": "code",
   "execution_count": null,
   "metadata": {
    "id": "Hh8fJ70SoJVA"
   },
   "outputs": [],
   "source": []
  },
  {
   "cell_type": "code",
   "execution_count": null,
   "metadata": {
    "id": "D_WDlG80oJVA"
   },
   "outputs": [],
   "source": []
  },
  {
   "cell_type": "code",
   "execution_count": null,
   "metadata": {
    "id": "8R3TYw5YoJVA"
   },
   "outputs": [],
   "source": []
  }
 ],
 "metadata": {
  "colab": {
   "collapsed_sections": [
    "FIobhVX-oJU1",
    "sA9g9jGpoJU4",
    "WBnDCSbyoJU5",
    "NawZ_R4PoJU8"
   ],
   "name": "Practica(es)-Introducción al procesamiento de textos.ipynb",
   "provenance": []
  },
  "kernelspec": {
   "display_name": "Python 3",
   "language": "python",
   "name": "python3"
  },
  "language_info": {
   "codemirror_mode": {
    "name": "ipython",
    "version": 3
   },
   "file_extension": ".py",
   "mimetype": "text/x-python",
   "name": "python",
   "nbconvert_exporter": "python",
   "pygments_lexer": "ipython3",
   "version": "3.10.5"
  }
 },
 "nbformat": 4,
 "nbformat_minor": 1
}
