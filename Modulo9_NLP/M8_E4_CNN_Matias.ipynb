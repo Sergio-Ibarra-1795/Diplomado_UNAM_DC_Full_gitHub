{
  "nbformat": 4,
  "nbformat_minor": 0,
  "metadata": {
    "colab": {
      "provenance": [],
      "gpuType": "T4"
    },
    "kernelspec": {
      "name": "python3",
      "display_name": "Python 3"
    },
    "language_info": {
      "name": "python"
    },
    "accelerator": "GPU"
  },
  "cells": [
    {
      "cell_type": "markdown",
      "source": [
        " <font color=\"#16D09A \"> Diplomado: Ciencia de datos </font>\n",
        "## <font color=\"#1657D0 \"> Modulo 8 </font>\n",
        "### <font color=\"#5F16D1 \"> Ejercicio 4 </font>\n",
        "### Erick Arturo Arce Guadarrama\n",
        "### Sergio Ibarra\n",
        "### Fructuoso Matías García"
      ],
      "metadata": {
        "id": "p-VM44Y5cLIL"
      }
    },
    {
      "cell_type": "code",
      "execution_count": null,
      "metadata": {
        "colab": {
          "base_uri": "https://localhost:8080/"
        },
        "id": "_qPwejk9bLWB",
        "outputId": "e62dfaeb-5428-4186-a341-99349c884b88"
      },
      "outputs": [
        {
          "output_type": "stream",
          "name": "stderr",
          "text": [
            "/usr/local/lib/python3.10/dist-packages/sklearn/datasets/_openml.py:968: FutureWarning: The default value of `parser` will change from `'liac-arff'` to `'auto'` in 1.4. You can set `parser='auto'` to silence this warning. Therefore, an `ImportError` will be raised from 1.4 if the dataset is dense and pandas is not installed. Note that the pandas parser may return different data types. See the Notes Section in fetch_openml's API doc for details.\n",
            "  warn(\n",
            "/usr/local/lib/python3.10/dist-packages/sklearn/preprocessing/_encoders.py:868: FutureWarning: `sparse` was renamed to `sparse_output` in version 1.2 and will be removed in 1.4. `sparse_output` is ignored unless you leave `sparse` to its default value.\n",
            "  warnings.warn(\n"
          ]
        }
      ],
      "source": [
        "import tensorflow as tf\n",
        "from sklearn.datasets import fetch_openml\n",
        "from sklearn.preprocessing import normalize\n",
        "from sklearn.preprocessing import OneHotEncoder\n",
        "\n",
        "X,y = fetch_openml('mnist_784', as_frame=False, return_X_y=True)\n",
        "\n",
        "X = normalize(X).reshape(-1,28,28,1)\n",
        "\n",
        "X_train = X[:60000]\n",
        "X_test = X[60000:]\n",
        "y_train = y[:60000]\n",
        "y_test = y[60000:]\n",
        "\n",
        "codificador = OneHotEncoder(handle_unknown='ignore',sparse=False)\n",
        "y_train = codificador.fit_transform(y_train.reshape(-1,1))\n",
        "y_test = codificador.transform(y_test.reshape(-1,1))\n",
        "\n",
        "X_train = tf.constant(X_train, dtype=tf.float32)\n",
        "X_test = tf.constant(X_test, dtype=tf.float32)\n",
        "y_train = tf.constant(y_train, dtype=tf.float32)\n",
        "y_test = tf.constant(y_test, dtype=tf.float32)\n",
        "\n",
        "train_dataset = tf.data.Dataset.from_tensor_slices((X_train, y_train))\n",
        "batch_size = 100 # Hiperparámetro\n",
        "train_dataset = train_dataset.shuffle(batch_size).batch(batch_size)"
      ]
    },
    {
      "cell_type": "code",
      "source": [
        "b = tf.Variable(tf.random.normal([10]))\n",
        "W = tf.Variable(tf.random.normal([1568,10]))\n",
        "\n",
        "filtros1 = tf.Variable(tf.random.normal([4,4,1,16])) # (alto,ancho,canales,num_filtros)\n",
        "b_conv1 = tf.Variable(tf.random.normal([16]))\n",
        "\n",
        "filtros2 = tf.Variable(tf.random.normal([4,4,16,32])) # (alto,ancho,canales,num_filtros)\n",
        "b_conv2 = tf.Variable(tf.random.normal([32]))\n",
        "\n",
        "optimizador = tf.keras.optimizers.experimental.SGD(learning_rate=0.002)\n",
        "\n",
        "epochs = 60\n",
        "\n",
        "for _ in range(epochs):\n",
        "  loss_epoch = 0\n",
        "  for x,y in train_dataset:\n",
        "    with tf.GradientTape() as gt:\n",
        "\n",
        "      salida_conv1 = tf.nn.conv2d(x,filtros1,[1,2,2,1],\"SAME\")\n",
        "      salida_conv1 += b_conv1\n",
        "      salida_activacion1 = tf.nn.relu(salida_conv1) # Capa no lineal intermedia\n",
        "\n",
        "      salida_conv2 = tf.nn.conv2d(salida_activacion1,filtros2,[1,2,2,1],\"SAME\")\n",
        "      salida_conv2 += b_conv2\n",
        "      salida_activacion2 =tf.nn.relu(salida_conv2) # necesita el relu?\n",
        "\n",
        "      salidaPlana = tf.reshape(salida_activacion2,[-1,1568])\n",
        "\n",
        "      operacion_matricial = tf.matmul(salidaPlana,W)+b # Primera capa\n",
        "\n",
        "      x_ent = tf.nn.softmax_cross_entropy_with_logits(\n",
        "          logits = operacion_matricial,\n",
        "          labels = y\n",
        "      )\n",
        "\n",
        "      loss = tf.reduce_mean(x_ent)\n",
        "      optimizador.minimize(loss,[W,b,filtros1,b_conv1, filtros2, b_conv2],gt) # Poderosa\n",
        "\n",
        "    loss_epoch += loss/len(train_dataset)\n",
        "  print(loss_epoch)"
      ],
      "metadata": {
        "colab": {
          "base_uri": "https://localhost:8080/"
        },
        "id": "B5VTkZCDbS4J",
        "outputId": "ef853a9a-11a3-41af-a7c0-d4055165f981"
      },
      "execution_count": null,
      "outputs": [
        {
          "output_type": "stream",
          "name": "stdout",
          "text": [
            "tf.Tensor(11.356759, shape=(), dtype=float32)\n",
            "tf.Tensor(2.5747757, shape=(), dtype=float32)\n",
            "tf.Tensor(2.3592997, shape=(), dtype=float32)\n",
            "tf.Tensor(2.2953591, shape=(), dtype=float32)\n",
            "tf.Tensor(2.2659328, shape=(), dtype=float32)\n",
            "tf.Tensor(2.2458215, shape=(), dtype=float32)\n",
            "tf.Tensor(2.229413, shape=(), dtype=float32)\n",
            "tf.Tensor(2.2112844, shape=(), dtype=float32)\n",
            "tf.Tensor(2.1911883, shape=(), dtype=float32)\n",
            "tf.Tensor(2.1694503, shape=(), dtype=float32)\n",
            "tf.Tensor(2.1464489, shape=(), dtype=float32)\n",
            "tf.Tensor(2.123598, shape=(), dtype=float32)\n",
            "tf.Tensor(2.0865335, shape=(), dtype=float32)\n",
            "tf.Tensor(2.0221734, shape=(), dtype=float32)\n",
            "tf.Tensor(1.958233, shape=(), dtype=float32)\n",
            "tf.Tensor(1.8976915, shape=(), dtype=float32)\n",
            "tf.Tensor(1.8342621, shape=(), dtype=float32)\n",
            "tf.Tensor(1.771094, shape=(), dtype=float32)\n",
            "tf.Tensor(1.708878, shape=(), dtype=float32)\n",
            "tf.Tensor(1.6529038, shape=(), dtype=float32)\n",
            "tf.Tensor(1.5911179, shape=(), dtype=float32)\n",
            "tf.Tensor(1.5322872, shape=(), dtype=float32)\n",
            "tf.Tensor(1.4767929, shape=(), dtype=float32)\n",
            "tf.Tensor(1.4233257, shape=(), dtype=float32)\n",
            "tf.Tensor(1.3708984, shape=(), dtype=float32)\n",
            "tf.Tensor(1.3235242, shape=(), dtype=float32)\n",
            "tf.Tensor(1.275335, shape=(), dtype=float32)\n",
            "tf.Tensor(1.234734, shape=(), dtype=float32)\n",
            "tf.Tensor(1.1945546, shape=(), dtype=float32)\n",
            "tf.Tensor(1.1561815, shape=(), dtype=float32)\n",
            "tf.Tensor(1.1210612, shape=(), dtype=float32)\n",
            "tf.Tensor(1.0882268, shape=(), dtype=float32)\n",
            "tf.Tensor(1.0591846, shape=(), dtype=float32)\n",
            "tf.Tensor(1.031123, shape=(), dtype=float32)\n",
            "tf.Tensor(1.0054882, shape=(), dtype=float32)\n",
            "tf.Tensor(0.9804519, shape=(), dtype=float32)\n",
            "tf.Tensor(0.9566183, shape=(), dtype=float32)\n",
            "tf.Tensor(0.93548733, shape=(), dtype=float32)\n",
            "tf.Tensor(0.91639584, shape=(), dtype=float32)\n",
            "tf.Tensor(0.89817303, shape=(), dtype=float32)\n",
            "tf.Tensor(0.8800525, shape=(), dtype=float32)\n",
            "tf.Tensor(0.8638889, shape=(), dtype=float32)\n",
            "tf.Tensor(0.8475803, shape=(), dtype=float32)\n",
            "tf.Tensor(0.8325763, shape=(), dtype=float32)\n",
            "tf.Tensor(0.81901485, shape=(), dtype=float32)\n",
            "tf.Tensor(0.80588096, shape=(), dtype=float32)\n",
            "tf.Tensor(0.79338557, shape=(), dtype=float32)\n",
            "tf.Tensor(0.78143233, shape=(), dtype=float32)\n",
            "tf.Tensor(0.7700983, shape=(), dtype=float32)\n",
            "tf.Tensor(0.75905985, shape=(), dtype=float32)\n",
            "tf.Tensor(0.74891025, shape=(), dtype=float32)\n",
            "tf.Tensor(0.73794776, shape=(), dtype=float32)\n",
            "tf.Tensor(0.7293638, shape=(), dtype=float32)\n",
            "tf.Tensor(0.71980774, shape=(), dtype=float32)\n",
            "tf.Tensor(0.71135765, shape=(), dtype=float32)\n",
            "tf.Tensor(0.7032646, shape=(), dtype=float32)\n",
            "tf.Tensor(0.6945479, shape=(), dtype=float32)\n",
            "tf.Tensor(0.6871917, shape=(), dtype=float32)\n",
            "tf.Tensor(0.6791177, shape=(), dtype=float32)\n",
            "tf.Tensor(0.67241615, shape=(), dtype=float32)\n"
          ]
        }
      ]
    },
    {
      "cell_type": "code",
      "source": [
        "salida_conv1 = tf.nn.conv2d(X_test,filtros1,[1,2,2,1],\"SAME\")\n",
        "salida_conv1 += b_conv1\n",
        "salida_activacion1 = tf.nn.relu(salida_conv1) # Capa no lineal intermedia\n",
        "salida_conv2 = tf.nn.conv2d(salida_activacion1,filtros2,[1,2,2,1],\"SAME\")\n",
        "salida_conv2 += b_conv2\n",
        "salida_activacion2 =tf.nn.relu(salida_conv2) # necesita el relu?\n",
        "\n",
        "salidaPlana = tf.reshape(salida_activacion2,[-1,1568])\n",
        "\n",
        "operacion_matricial = tf.matmul(salidaPlana,W)+b # última capa\n",
        "\n",
        "probs = tf.nn.softmax(operacion_matricial)\n",
        "\n",
        "max_preds = tf.argmax(probs,1)\n",
        "max_trues = tf.argmax(y_test,1)\n",
        "\n",
        "numCorrectos = tf.equal(max_preds,max_trues)\n",
        "acc = tf.reduce_mean(tf.cast(numCorrectos,tf.float32)) # Tengo que convertirlo porque el original es booleano\n",
        "print(acc)"
      ],
      "metadata": {
        "colab": {
          "base_uri": "https://localhost:8080/"
        },
        "id": "OV_QpjQRg0v3",
        "outputId": "5d4874f1-7521-426e-a051-dfa2182f7878"
      },
      "execution_count": null,
      "outputs": [
        {
          "output_type": "stream",
          "name": "stdout",
          "text": [
            "tf.Tensor(0.8021, shape=(), dtype=float32)\n"
          ]
        }
      ]
    }
  ]
}