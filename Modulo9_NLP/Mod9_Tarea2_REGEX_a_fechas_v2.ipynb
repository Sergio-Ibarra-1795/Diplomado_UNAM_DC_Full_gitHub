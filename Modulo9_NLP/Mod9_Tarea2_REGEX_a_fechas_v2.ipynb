{
 "cells": [
  {
   "cell_type": "markdown",
   "metadata": {},
   "source": [
    "#### <font color=\"#03997A\"> Diplomado en Ciencia de datos UNAM </font>\n",
    "\n",
    "##### <font color=\"#03997A\"> MI: Luis Enrique Aorta V.  </font>\n",
    "\n",
    "##### <font color=\"#03997A\"> Modulo 9 Natural Language Procesing </font>\n",
    "\n",
    "##### <font color=\"#03997A\"> Tarea 2- REGEX para normalizacion de fechas Alumno: Ibarra Ramírez Sergio </font>"
   ]
  },
  {
   "cell_type": "markdown",
   "metadata": {},
   "source": []
  },
  {
   "cell_type": "code",
   "execution_count": 47,
   "metadata": {},
   "outputs": [],
   "source": [
    "import re\n",
    "\n",
    "def extract_dates3(filename):\n",
    "  dates = []\n",
    "\n",
    "  # Match more date patterns \n",
    "  date_regex = re.compile(r'(((\\d{1,2} [A-Za-z]{3,9} \\d{2,4})|(\\d{1,2}/\\d{1,2}/\\d{2,4})|(\\d{1,2}/\\d{4})|(\\d{1,2}|\\w{3,9}) (\\d{4})|(\\w{3,9} \\d{2,4})))')\n",
    "\n",
    "  with open(filename) as f:\n",
    "    for line in f:\n",
    "      found_dates = date_regex.findall(line)  \n",
    "      for date in found_dates:\n",
    "        dates.append(date[0])\n",
    "\n",
    "  return dates"
   ]
  },
  {
   "cell_type": "code",
   "execution_count": 48,
   "metadata": {},
   "outputs": [
    {
     "name": "stdout",
     "output_type": "stream",
     "text": [
      "['03/25/93', '6/18/85', '7/8/71', '9/27/75', '2/6/96', '7/06/79', '5/18/78', '10/24/89', '3/7/86', '4/10/71', '5/11/85', '4/09/75', '8/01/98', '1/26/72', '5/24/1990', '1/25/2011', '4/12/82', '10/13/1976', '4/24/98', '5/21/77', '7/21/98', '10/21/79', '3/03/90', '2/11/76', '07/25/1984', '9/22/89', '9/02/76', '9/12/71', '10/24/86', '03/31/1985', '7/20/72', '4/12/87', '06/20/91', '5/12/2012', '3/15/83', '2/14/73', '5/24/88', '7/27/1986', '6/24/87', '8/14/94', '4/13/2002', '8/16/82', '2/15/1998', '7/15/91', '06/12/94', '9/17/84', '2/28/75', 'since 11', '5/24/91', '6/13/92', '7/11/71', '12/26/86', '10/11/1987', '3/14/95', '12/01/73', '12/5/2010', '08/20/1982', '7/24/95', '8/06/83', '02/22/92', '6/28/87', '07/29/1994', '08/11/78', '10/29/91', '7/6/91', '1/21/87', 'resection 11', '3/1985', '7/04/82', '7/11/77', 'luoxetine 500', 'B12 363', '9/36/308', '4/12/74', '09/19/81', '9/6/79', '12/5/87', '01/05/1999', '4/22/80', '10/04/98', 'last 10', '6/29/81', '8/04/78', '7/07/1974', '09/14/2000', '5/18/71', '8/09/1981', '6/05/93', 'from 290', '8/9/97', '12/8/82', '8/26/89', '10/13/95', '4/19/91', '04/08/2004', '9/20/76', '12/08/1990', '4/11/1974', '7/18/86', '3/31/91', '5/13/72', '11/14/83', '8/16/92', '10/05/97', '07/18/2002', '9/22/82', '2/24/74', '2/03/78', '2/11/2006', '8/22/83', '5/04/74', '7/20/2011', '6/17/95', '6/10/72', '10/16/82', '12/15/92', '12/8/97', '4/05/89', '12/04/87', '6/20/77', '4/27/2006', '07/17/92', '12/22/98', '10/02/96', '11/05/90', '5/04/77', '2/27/96', '24 Jan 2001', '10 Sep 2004', '26 May 1982', '28 June 2002', '06 May 1972', '25 Oct 1987', '14 Oct 1996', '30 Nov 2007', '28 June 1994', '14 Jan 1981', '10 Oct 1985', '11 February 1985', '10 Feb 1983', '05 Feb 1992', 'ssee 21', 'Oct 2012', '14 Feb 1995', '30 May 2016', '22 Jan 1996', '14 Oct 1992', '06 Oct 2003', '18 Oct 1999', '11 Nov 2004', '30 May 2001', '02 Feb 1978', 'luoxetine 20', 'bupropion 150', '09 Sep 1989', '12 March 1980', '22 June 1990', '28 Sep 2015', '13 Jan 1972', '06 Mar 1974', '10 Oct 1974', '26 May 1974', 'starting 10', 'Feb 1990', '23 Aug 2000', '26 May 2001', 'see 21', 'Oct 2007', '19 Oct 2016', 'dON 05', 'Mar 1974', '29 Jan 1994', 'see 21', 'Oct 1978', '18 August 1975', 'Abilify 20', '11 Nov 1996', '01 Oct 1979', '13 Oct 1986', 'see 21', 'Oct 1995', '24 Jan 2011', '04 Oct 1972', '23 Aug 1993', 'bupropion 150', '18 Oct 2006', '04 Dec 1988', 'ertraline 200', '21 Oct 1983', '26 May 2010', '18 Jan 1990', '15 Jun 1985', '10 Dec 1982', '09 Dec 1988', '18 August 1995', 'eby 13', 'June 1974', 'bupropion 150', '26 May 2008', '11 Nov 2002', 'see 17', 'Aug 1985', '13 Oct 2016', '14 Jan 2008', '12 March 2004', 'ssee 21', 'Oct 1977', '10 Aug 2000', '30 Nov 1972', '06 May 1993', '18 Jan 1995', 'April 11', 'May 30', 'Feb 18', 'February 18', 'Jan 24', 'July 26', 'December 23', 'May 15', 'September 06', 'Jan 27', 'October 23', 'August 12', 'September 01', 'July 25', 'August 11', 'April 17', 'July 24', 'QTc 496', 'July 11', 'age 11', 'age 11', 'August 14', 'Nov 11', 'June 13', 'May 14', 'Dec 14', 'June 25', 'Oct 18', 'May 15', 'was 20', 'October 14', 'after 20', 'July 25', 'June 15', 'January 07', 'September 1985', 'June 2011', 'was 12', 'May 1986', 'May 2016', 'July 1977', 'Jul 2003', 'pOct 2015', 'trazadone 50', 'ellbutrin 150', 'Seroquel 50', 'Zoloft 100', 'May 1995', 'was 18', 'February 1976', 'January 1995', 'Feb 1978', 'nlafaxine 37', 'May 2004', 'Nov 2010', 'Sep 2012', 'lNovember 1990', 'July 1981', 'May 1983', 'Trazodone 50', 'July 1995', 'April 1993', 'May 2005', 'December 1998', 'Jan 2007', 'Feb 2016', 'age 12', 'August 1979', 'Oct 2014', 'IAug 1988', 'Sep 2015', 'Apr 1976', 'Nov 1979', 'February 2000', 'Oct 1986', 'Jun 2002', 'September 1981', 'June 2007', 'age 10', 'age 25', 'Drinking 12', 'age 25', 'age 21', 'age 25', 'April 1989', 'age 16', 'September 1999', 'Oct 1980', 'Dec 2009', 'July 1992', 'Ely 708', 'August 2008', 'age 84', 'ages 11', 'ages 14', 'Feb 1993', 'Zoloft 100', 'April 1985', 'September 1984', 'April 1986', 'Apr 2007', 'September 1974', 'Sep 2013', 'Zoloft 50', 'July 1985', 'yAug 2004', 'May 2012', 'lost 18', 'from 128', 'weighed 98', 'AFeb 1977', 'Jan 1987', 'sSep 1983', 'January 2013', 'Mar 2010', 'August 2009', 'Sep 2007', 'December 2011', 'Jan 2004', 'November 1995', 'September 2008', 'February 1983', 'March 1983', 'Aug 1979', 'for 50', 'over 50', 'Jan 2009', 'Janaury 1993', 'March 1974', 'January 1994', 'Dec 1992', 'November 2004', 'age 20', 'age 25', 'January 1977', 'Mar 2002', 'Feb 2000', 'July 2006', 'Feb 1994', 'April 1977', 'Oct 1992', 'Prozac 20', 'until 10', 'February 1989', 'Decemeber 1978', 'January 2007', 'Jun 1976', 'lost 40', 'May 2011', 'age 18', 'Woriking 63', 'Jan 1978', 'July 1975', 'age 16', 'November 2012', 'October 1991', 'age 79', 'March 1973', 'October 1996', 'Jun 2007', 'lost 80', 'October 1995', 'April 1999', 'April 1988', 'dose 40', 'December 1993', 'June 1974', 'sNovember 1997', 'July 1986', 'February 1973', 'March 1978', 'Dec 2007', 'May 1980', 'Nov 2007', 'March 1976', '6/1998', '6/2005', 'weighed 120', '10/1973', '9/2005', '03/1980', '12/2005', '5/1987', '5/2004', 'pleasant 28', '8/1974', '3/1986', '10/1997', '3/1993', '3/1981', '9/2003', '10/1993', 'LVEF 60', '1/1983', '7/1994', '12/2008', '10/1980', '8/2003', '12/1975', 'since 11', '7/1997', '7/2014', '9/2001', '8/1986', '1/1978', '9/1975', '1/2009', '5/1995', '8/1989', 'sleeve 11', '06/1973', '2/1999', '6/2001', 'twins 12', '8/2009', '7/1973', '1/2014', '09/1975', 'since 12', '5/1999', '7/1989', '7/2009', '11/1998', '3/1995', '2/2009', '08/1988', '4/2007', '5/2000', '4/2012', 'started 10', '2/1977', '8/2008', '2/1983', '5/1979', '1/1992', 'gerd 11', 'Since 12', '4/1974', 'resection 10', '10/1986', '03/1973', '12/1994', '8/1999', 'placed 10', '10/1994', '01/2007', '8/2010', 'QTc 433', '03/1990', '11/2016', '4/2004', '2/1973', '7/1987', '8/2000', '8/1975', '5/1977', '3/2000', 'calling 911', '9/1984', '4/1973', 'udication 12', 'rednisone 60', '4/1979', '7/2004', '11/1984', 'for 30', '5/2016', '12/2007', '11/1982', '06/1981', 'QTc 445', '4/2013', '4/1999', '5/2006', '10/1978', 'edication 12', '2/1974', '11/1986', '4/1983', 'Since 10', '6/1989', '9/1980', '9/1992', '9/2000', '7/1981', '1/2008', '4/2002', '7/1985', '5/2010', '8/2002', '1/1994', 'done 12', 'age 16', '3/2003', '7/1991', '7/1982', 'for 20', 'sSince 1998', 'quit 2012', 'Age 16', 'attempt 2011', 'since 1997', 'call 911', 'call 911', 'call 911', 'Disorders 300', 'since 1996', 'delivery 1992', 'phrectomy 1977', 'for 35', 'B12 969']\n"
     ]
    }
   ],
   "source": [
    "dates = extract_dates3('dates.txt')\n",
    "print(dates)"
   ]
  },
  {
   "cell_type": "code",
   "execution_count": 49,
   "metadata": {},
   "outputs": [
    {
     "data": {
      "text/plain": [
       "522"
      ]
     },
     "execution_count": 49,
     "metadata": {},
     "output_type": "execute_result"
    }
   ],
   "source": [
    "len(dates)"
   ]
  },
  {
   "cell_type": "markdown",
   "metadata": {},
   "source": []
  },
  {
   "cell_type": "code",
   "execution_count": 50,
   "metadata": {},
   "outputs": [],
   "source": [
    "import re\n",
    "\n",
    "dates = dates # list of dates\n",
    "\n",
    "# Words to filter out\n",
    "filter_words = [r'\\bdelivery\\b', r'\\bphrectomy\\b', r'\\bfor\\b', r'\\bB12\\b', r'\\bAge\\b', r'\\bage\\b', r'\\bsince\\b', r'\\battempt\\b', r'\\bcall\\b', r'\\bDisorders\\b', r'\\bTrazodone\\b', r'\\bDrinking\\b', r'\\bEly\\b', r'\\bZoloft\\b', r'\\bfrom\\b', r'\\blost\\b', r'\\bweighed\\b', r'\\bWoriking\\b', r'\\bweighed\\b', r'\\bpleasant\\b', r'\\bsleeve\\b', r'\\bstarted\\b', r'\\bresection\\b', r'\\bplaced\\b', r'\\budication\\b', r'\\brednisone\\b', r'\\bedication\\b', r'\\bdone\\b', r'\\bSince\\b', r'\\bquit\\b', r'\\boxetine\\b', r'\\bssee\\b', r'\\bluoxetine\\b', r'\\bbupropion\\b', r'\\bstarting\\b', r'\\bsee\\b', r'\\bAbilify\\b', r'\\bertraline\\b', r'\\beby\\b', r'\\bbupropion\\b', r'\\bssee\\b', r'\\bwas\\b', r'\\btrazadone\\b', r'\\bellbutrin\\b', r'\\bSeroquel\\b', r'\\bZoloft\\b', r'\\bnlafaxine\\b', r'\\bEly\\b', r'\\bZolof\\b', r'\\bweighed\\b', r'\\btwins\\b', r'\\bsleeve\\b', r'\\bpleasant\\b', r'\\budication\\b', r'\\brednisone\\b', r'\\bQTc\\b', r'\\bedication\\b', r'\\bSince\\b', r'\\bsSince\\b',    r'\\bdON\\b',  r'\\bafter\\b',  r'\\bpOct\\b',  r'\\bover\\b',  r'\\bProzac\\b',  r'\\buntil',  r'\\bcalling\\b', r'\\bgerd\\b',  r'\\bLIVEF\\b',  r'\\bdose\\b', r'\\blast\\b', r'\\bages\\b']\n",
    "\n",
    "# Build regex\n",
    "filter_regex = re.compile('|'.join(filter_words))\n",
    "\n",
    "\n",
    "# Filter the list \n",
    "cleaned_dates = [d for d in dates if not filter_regex.search(d)]"
   ]
  },
  {
   "cell_type": "code",
   "execution_count": 51,
   "metadata": {},
   "outputs": [],
   "source": [
    "#import re\n",
    "#dates = dates3 # list of dates \n",
    "# Words to filter out\n",
    "#filter_words = ['delivery', 'phrectomy', 'for', 'B12', 'Age', 'age', 'since', 'attempt', 'call', 'Disorders', 'Trazodone', 'Drinking', 'Ely', 'Zoloft', 'from', 'lost', 'weighed', 'Woriking', 'weighed', 'pleasant', 'sleeve', 'started', 'resection', 'placed', 'udication', 'rednisone', 'edication', 'done', 'Since', 'quit', 'oxetine',  'ssee', 'luoxetine', 'bupropion', 'starting', 'see' , 'Abilify', 'ertraline', 'eby' , 'bupropion' , 'ssee', 'was' ,  'trazadone', 'ellbutrin', 'Seroquel', 'Zoloft', 'nlafaxine', 'Ely', 'Zolof', 'weighed', 'twins', 'sleeve', 'pleasant' , 'udication', 'rednisone' , 'QTc', 'edication', 'Since', 'sSince' ]\n",
    "# Compile regex OR'ing the words  \n",
    "#filter_regex = re.compile(r'delivery|phrectomy|for|B12|Age|age|since|attempt|call|Disorders|Trazodone|Drinking| Ely| Zoloft| from| lost| weighed| Woriking| weighed| pleasant| sleeve| started| resection| placed| udication| rednisone| edication| done| Since| quit  | ssee|luoxetine, bupropion| starting|see | Abilify| ertraline|eby | bupropion , ssee| was |trazadone| ellbutrin| Seroquel| Zoloft| nlafaxine|Ely|Zolof|weighed| twins| sleeve| pleasant | udication| rednisone | QTc| edication|Since| sSince')\n",
    "# Filter the list \n",
    "#cleaned_dates = [d for d in dates if not filter_regex.search(d)]"
   ]
  },
  {
   "cell_type": "code",
   "execution_count": 52,
   "metadata": {},
   "outputs": [
    {
     "name": "stdout",
     "output_type": "stream",
     "text": [
      "['03/25/93', '6/18/85', '7/8/71', '9/27/75', '2/6/96', '7/06/79', '5/18/78', '10/24/89', '3/7/86', '4/10/71', '5/11/85', '4/09/75', '8/01/98', '1/26/72', '5/24/1990', '1/25/2011', '4/12/82', '10/13/1976', '4/24/98', '5/21/77', '7/21/98', '10/21/79', '3/03/90', '2/11/76', '07/25/1984', '9/22/89', '9/02/76', '9/12/71', '10/24/86', '03/31/1985', '7/20/72', '4/12/87', '06/20/91', '5/12/2012', '3/15/83', '2/14/73', '5/24/88', '7/27/1986', '6/24/87', '8/14/94', '4/13/2002', '8/16/82', '2/15/1998', '7/15/91', '06/12/94', '9/17/84', '2/28/75', '5/24/91', '6/13/92', '7/11/71', '12/26/86', '10/11/1987', '3/14/95', '12/01/73', '12/5/2010', '08/20/1982', '7/24/95', '8/06/83', '02/22/92', '6/28/87', '07/29/1994', '08/11/78', '10/29/91', '7/6/91', '1/21/87', '3/1985', '7/04/82', '7/11/77', '9/36/308', '4/12/74', '09/19/81', '9/6/79', '12/5/87', '01/05/1999', '4/22/80', '10/04/98', '6/29/81', '8/04/78', '7/07/1974', '09/14/2000', '5/18/71', '8/09/1981', '6/05/93', '8/9/97', '12/8/82', '8/26/89', '10/13/95', '4/19/91', '04/08/2004', '9/20/76', '12/08/1990', '4/11/1974', '7/18/86', '3/31/91', '5/13/72', '11/14/83', '8/16/92', '10/05/97', '07/18/2002', '9/22/82', '2/24/74', '2/03/78', '2/11/2006', '8/22/83', '5/04/74', '7/20/2011', '6/17/95', '6/10/72', '10/16/82', '12/15/92', '12/8/97', '4/05/89', '12/04/87', '6/20/77', '4/27/2006', '07/17/92', '12/22/98', '10/02/96', '11/05/90', '5/04/77', '2/27/96', '24 Jan 2001', '10 Sep 2004', '26 May 1982', '28 June 2002', '06 May 1972', '25 Oct 1987', '14 Oct 1996', '30 Nov 2007', '28 June 1994', '14 Jan 1981', '10 Oct 1985', '11 February 1985', '10 Feb 1983', '05 Feb 1992', 'Oct 2012', '14 Feb 1995', '30 May 2016', '22 Jan 1996', '14 Oct 1992', '06 Oct 2003', '18 Oct 1999', '11 Nov 2004', '30 May 2001', '02 Feb 1978', '09 Sep 1989', '12 March 1980', '22 June 1990', '28 Sep 2015', '13 Jan 1972', '06 Mar 1974', '10 Oct 1974', '26 May 1974', 'Feb 1990', '23 Aug 2000', '26 May 2001', 'Oct 2007', '19 Oct 2016', 'Mar 1974', '29 Jan 1994', 'Oct 1978', '18 August 1975', '11 Nov 1996', '01 Oct 1979', '13 Oct 1986', 'Oct 1995', '24 Jan 2011', '04 Oct 1972', '23 Aug 1993', '18 Oct 2006', '04 Dec 1988', '21 Oct 1983', '26 May 2010', '18 Jan 1990', '15 Jun 1985', '10 Dec 1982', '09 Dec 1988', '18 August 1995', 'June 1974', '26 May 2008', '11 Nov 2002', 'Aug 1985', '13 Oct 2016', '14 Jan 2008', '12 March 2004', 'Oct 1977', '10 Aug 2000', '30 Nov 1972', '06 May 1993', '18 Jan 1995', 'April 11', 'May 30', 'Feb 18', 'February 18', 'Jan 24', 'July 26', 'December 23', 'May 15', 'September 06', 'Jan 27', 'October 23', 'August 12', 'September 01', 'July 25', 'August 11', 'April 17', 'July 24', 'July 11', 'August 14', 'Nov 11', 'June 13', 'May 14', 'Dec 14', 'June 25', 'Oct 18', 'May 15', 'October 14', 'July 25', 'June 15', 'January 07', 'September 1985', 'June 2011', 'May 1986', 'May 2016', 'July 1977', 'Jul 2003', 'May 1995', 'February 1976', 'January 1995', 'Feb 1978', 'May 2004', 'Nov 2010', 'Sep 2012', 'lNovember 1990', 'July 1981', 'May 1983', 'July 1995', 'April 1993', 'May 2005', 'December 1998', 'Jan 2007', 'Feb 2016', 'August 1979', 'Oct 2014', 'IAug 1988', 'Sep 2015', 'Apr 1976', 'Nov 1979', 'February 2000', 'Oct 1986', 'Jun 2002', 'September 1981', 'June 2007', 'April 1989', 'September 1999', 'Oct 1980', 'Dec 2009', 'July 1992', 'August 2008', 'Feb 1993', 'April 1985', 'September 1984', 'April 1986', 'Apr 2007', 'September 1974', 'Sep 2013', 'July 1985', 'yAug 2004', 'May 2012', 'AFeb 1977', 'Jan 1987', 'sSep 1983', 'January 2013', 'Mar 2010', 'August 2009', 'Sep 2007', 'December 2011', 'Jan 2004', 'November 1995', 'September 2008', 'February 1983', 'March 1983', 'Aug 1979', 'Jan 2009', 'Janaury 1993', 'March 1974', 'January 1994', 'Dec 1992', 'November 2004', 'January 1977', 'Mar 2002', 'Feb 2000', 'July 2006', 'Feb 1994', 'April 1977', 'Oct 1992', 'February 1989', 'Decemeber 1978', 'January 2007', 'Jun 1976', 'May 2011', 'Jan 1978', 'July 1975', 'November 2012', 'October 1991', 'March 1973', 'October 1996', 'Jun 2007', 'October 1995', 'April 1999', 'April 1988', 'December 1993', 'June 1974', 'sNovember 1997', 'July 1986', 'February 1973', 'March 1978', 'Dec 2007', 'May 1980', 'Nov 2007', 'March 1976', '6/1998', '6/2005', '10/1973', '9/2005', '03/1980', '12/2005', '5/1987', '5/2004', '8/1974', '3/1986', '10/1997', '3/1993', '3/1981', '9/2003', '10/1993', 'LVEF 60', '1/1983', '7/1994', '12/2008', '10/1980', '8/2003', '12/1975', '7/1997', '7/2014', '9/2001', '8/1986', '1/1978', '9/1975', '1/2009', '5/1995', '8/1989', '06/1973', '2/1999', '6/2001', '8/2009', '7/1973', '1/2014', '09/1975', '5/1999', '7/1989', '7/2009', '11/1998', '3/1995', '2/2009', '08/1988', '4/2007', '5/2000', '4/2012', '2/1977', '8/2008', '2/1983', '5/1979', '1/1992', '4/1974', '10/1986', '03/1973', '12/1994', '8/1999', '10/1994', '01/2007', '8/2010', '03/1990', '11/2016', '4/2004', '2/1973', '7/1987', '8/2000', '8/1975', '5/1977', '3/2000', '9/1984', '4/1973', '4/1979', '7/2004', '11/1984', '5/2016', '12/2007', '11/1982', '06/1981', '4/2013', '4/1999', '5/2006', '10/1978', '2/1974', '11/1986', '4/1983', '6/1989', '9/1980', '9/1992', '9/2000', '7/1981', '1/2008', '4/2002', '7/1985', '5/2010', '8/2002', '1/1994', '3/2003', '7/1991', '7/1982']\n"
     ]
    }
   ],
   "source": [
    "print(cleaned_dates)"
   ]
  },
  {
   "cell_type": "code",
   "execution_count": 53,
   "metadata": {},
   "outputs": [
    {
     "data": {
      "text/plain": [
       "421"
      ]
     },
     "execution_count": 53,
     "metadata": {},
     "output_type": "execute_result"
    }
   ],
   "source": [
    "len(cleaned_dates)"
   ]
  },
  {
   "cell_type": "markdown",
   "metadata": {},
   "source": []
  },
  {
   "cell_type": "code",
   "execution_count": 57,
   "metadata": {},
   "outputs": [
    {
     "ename": "ValueError",
     "evalue": "Unknown format code 'd' for object of type 'str'",
     "output_type": "error",
     "traceback": [
      "\u001b[1;31m---------------------------------------------------------------------------\u001b[0m",
      "\u001b[1;31mValueError\u001b[0m                                Traceback (most recent call last)",
      "\u001b[1;32mc:\\Users\\llell\\Documents\\SIR_Personal\\Diplomado_DC_UNAM\\Diplomado_DC_UNAM_Full\\Modulo9_NLP\\Mod9_Tarea2_REGEX_a_fechas_v2.ipynb Cell 12\u001b[0m in \u001b[0;36m<cell line: 8>\u001b[1;34m()\u001b[0m\n\u001b[0;32m     <a href='vscode-notebook-cell:/c%3A/Users/llell/Documents/SIR_Personal/Diplomado_DC_UNAM/Diplomado_DC_UNAM_Full/Modulo9_NLP/Mod9_Tarea2_REGEX_a_fechas_v2.ipynb#X22sZmlsZQ%3D%3D?line=24'>25</a>\u001b[0m   \u001b[39mexcept\u001b[39;00m \u001b[39mValueError\u001b[39;00m:\n\u001b[0;32m     <a href='vscode-notebook-cell:/c%3A/Users/llell/Documents/SIR_Personal/Diplomado_DC_UNAM/Diplomado_DC_UNAM_Full/Modulo9_NLP/Mod9_Tarea2_REGEX_a_fechas_v2.ipynb#X22sZmlsZQ%3D%3D?line=25'>26</a>\u001b[0m     \u001b[39mpass\u001b[39;00m\n\u001b[1;32m---> <a href='vscode-notebook-cell:/c%3A/Users/llell/Documents/SIR_Personal/Diplomado_DC_UNAM/Diplomado_DC_UNAM_Full/Modulo9_NLP/Mod9_Tarea2_REGEX_a_fechas_v2.ipynb#X22sZmlsZQ%3D%3D?line=26'>27</a>\u001b[0m   corrected_dates\u001b[39m.\u001b[39mappend(\u001b[39mf\u001b[39m\u001b[39m'\u001b[39m\u001b[39m{\u001b[39;00mm\u001b[39m:\u001b[39;00m\u001b[39m02d\u001b[39m\u001b[39m}\u001b[39;00m\u001b[39m/\u001b[39m\u001b[39m{\u001b[39;00md\u001b[39m}\u001b[39;00m\u001b[39m/00\u001b[39m\u001b[39m'\u001b[39m)\n\u001b[0;32m     <a href='vscode-notebook-cell:/c%3A/Users/llell/Documents/SIR_Personal/Diplomado_DC_UNAM/Diplomado_DC_UNAM_Full/Modulo9_NLP/Mod9_Tarea2_REGEX_a_fechas_v2.ipynb#X22sZmlsZQ%3D%3D?line=28'>29</a>\u001b[0m \u001b[39melif\u001b[39;00m re\u001b[39m.\u001b[39mfullmatch(\u001b[39mr\u001b[39m\u001b[39m'\u001b[39m\u001b[39m\\\u001b[39m\u001b[39mw+ \u001b[39m\u001b[39m\\\u001b[39m\u001b[39md+\u001b[39m\u001b[39m'\u001b[39m, date):\n\u001b[0;32m     <a href='vscode-notebook-cell:/c%3A/Users/llell/Documents/SIR_Personal/Diplomado_DC_UNAM/Diplomado_DC_UNAM_Full/Modulo9_NLP/Mod9_Tarea2_REGEX_a_fechas_v2.ipynb#X22sZmlsZQ%3D%3D?line=29'>30</a>\u001b[0m   m, d \u001b[39m=\u001b[39m date\u001b[39m.\u001b[39msplit(\u001b[39m'\u001b[39m\u001b[39m \u001b[39m\u001b[39m'\u001b[39m)\n",
      "\u001b[1;31mValueError\u001b[0m: Unknown format code 'd' for object of type 'str'"
     ]
    }
   ],
   "source": [
    "import re\n",
    "from datetime import datetime\n",
    "\n",
    "cleaned_dates\n",
    "\n",
    "corrected_dates = []\n",
    "\n",
    "for date in cleaned_dates:\n",
    "\n",
    "  if re.fullmatch(r'\\d+/\\d+/\\d+', date):\n",
    "    corrected_dates.append(date)\n",
    "\n",
    "  elif re.fullmatch(r'\\d+/\\d+', date):\n",
    "    m, d = date.split('/')\n",
    "    corrected_dates.append(f'{m}/{d}/00')\n",
    "\n",
    "  elif re.fullmatch(r'\\d+/\\d+', date):\n",
    "    m, y = date.split('/')  \n",
    "    corrected_dates.append(f'{m}/01/{y}')\n",
    "\n",
    "  elif re.fullmatch(r'\\w+ \\d+', date):\n",
    "    m, d = date.split(' ')\n",
    "    try:\n",
    "      m = datetime.strptime(m, '%B').month\n",
    "    except ValueError:\n",
    "      pass\n",
    "    corrected_dates.append(f'{m:02d}/{d}/00')\n",
    "\n",
    "  elif re.fullmatch(r'\\w+ \\d+', date):\n",
    "    m, d = date.split(' ')\n",
    "    corrected_dates.append(f'{m}/{d}/00') \n",
    "        \n",
    "print(corrected_dates)"
   ]
  },
  {
   "cell_type": "markdown",
   "metadata": {},
   "source": []
  },
  {
   "cell_type": "markdown",
   "metadata": {},
   "source": []
  },
  {
   "cell_type": "code",
   "execution_count": 58,
   "metadata": {},
   "outputs": [],
   "source": [
    "import re\n",
    "from datetime import datetime\n",
    "\n",
    "\n",
    "def translate_date(date_str):\n",
    "    # Regular expressions for different date formats\n",
    "    patterns = [\n",
    "        r'(\\d{1,2})/(\\d{1,2})/(\\d{2})\\b',                 # MM/DD/YY\n",
    "        r'(\\d{1,2})/(\\d{1,2})/(\\d{4})\\b',                 # MM/DD/YYYY\n",
    "        r'(\\d{1,2})/(\\d{4})\\b',                           # MM/YYYY\n",
    "        r'(\\d{4})\\b',                                     # YYYY\n",
    "        r'(\\d{1,2}) (\\w{3}) (\\d{4})\\b',                    # DD MMM YYYY\n",
    "        r'(\\d{2}) (\\w{3}) (\\d{4})\\b',                      # DD MMM YYYY (without leading zero)\n",
    "        r'(\\w+) (\\d{4})\\b',                                # Month YYYY\n",
    "        r'(\\w+) (\\d{1,2})\\b',                              # Month DD\n",
    "        r'\\w*(\\d+)\\w*\\b',                                  # Extract just the year (e.g., LVEF 60)\n",
    "    ]\n",
    "    \n",
    "    replacements = [\n",
    "        r'\\1/\\2/\\3',                                      # MM/DD/YY\n",
    "        r'\\1/\\2/\\3',                                      # MM/DD/YYYY\n",
    "        r'\\1/01/\\2',                                      # MM/YYYY\n",
    "        r'01/01/\\1',                                      # YYYY\n",
    "        r'\\1 \\2 \\3',                                      # DD MMM YYYY\n",
    "        r'\\1 \\2 \\3',                                      # DD MMM YYYY (without leading zero)\n",
    "        r'01 \\1 \\2',                                      # Month YYYY\n",
    "        r'\\1 01 \\2',                                      # Month DD\n",
    "        r'01/01/\\1',                                      # Extracted year\n",
    "    ]\n",
    "    \n",
    "    for pattern, replacement in zip(patterns, replacements):\n",
    "        date_str = re.sub(pattern, replacement, date_str)\n",
    "    \n",
    "    try:\n",
    "        date_obj = datetime.strptime(date_str, '%m/%d/%y')\n",
    "        return date_obj.strftime('%m/%d/%y')\n",
    "    except ValueError:\n",
    "        return None\n",
    "\n",
    "\n"
   ]
  },
  {
   "cell_type": "code",
   "execution_count": 59,
   "metadata": {},
   "outputs": [
    {
     "name": "stdout",
     "output_type": "stream",
     "text": [
      "[None, None, None, None, None, None, None, None, None, None, None, None, None, None, None, None, None, None, None, None, None, None, None, None, None, None, None, None, None, None, None, None, None, None, None, None, None, None, None, None, None, None, None, None, None, None, None, None, None, None, None, None, None, None, None, None, None, None, None, None, None, None, None, None, None, None, None, None, None, None, None, None, None, None, None, None, None, None, None, None, None, None, None, None, None, None, None, None, None, None, None, None, None, None, None, None, None, None, None, None, None, None, None, None, None, None, None, None, None, None, None, None, None, None, None, None, None, None, None, None, None, None, None, None, None, None, None, None, None, None, None, None, None, None, None, None, None, None, None, None, None, None, None, None, None, None, None, None, None, None, None, None, None, None, None, None, None, None, None, None, None, None, None, None, None, None, None, None, None, None, None, None, None, None, None, None, None, None, None, None, None, None, None, None, None, None, None, None, None, None, None, None, None, None, None, None, None, None, None, None, None, None, None, None, None, None, None, None, None, None, None, None, None, None, None, None, None, None, None, None, None, None, None, None, None, None, None, None, None, None, None, None, None, None, None, None, None, None, None, None, None, None, None, None, None, None, None, None, None, None, None, None, None, None, None, None, None, None, None, None, None, None, None, None, None, None, None, None, None, None, None, None, None, None, None, None, None, None, None, None, None, None, None, None, None, None, None, None, None, None, None, None, None, None, None, None, None, None, None, None, None, None, None, None, None, None, None, None, None, None, None, None, None, None, None, None, None, None, None, None, None, None, None, None, None, None, None, None, None, None, None, None, None, None, None, None, None, None, None, None, None, None, None, None, None, None, None, None, None, None, None, None, None, None, None, None, None, None, None, None, None, None, None, None, None, None, None, None, None, None, None, None, None, None, None, None, None, None, None, None, None, None, None, None, None, None, None, None, None, None, None, None, None, None, None, None, None, None, None, None, None, None, None, None, None, None, None, None, None, None, None, None, None, None, None, None, None, None, None, None, None]\n"
     ]
    }
   ],
   "source": [
    "# Translated and corrected list of dates\n",
    "corrected_dates = [translate_date(date) for date in cleaned_dates]\n",
    "\n",
    "print(corrected_dates)"
   ]
  }
 ],
 "metadata": {
  "kernelspec": {
   "display_name": "Python 3",
   "language": "python",
   "name": "python3"
  },
  "language_info": {
   "codemirror_mode": {
    "name": "ipython",
    "version": 3
   },
   "file_extension": ".py",
   "mimetype": "text/x-python",
   "name": "python",
   "nbconvert_exporter": "python",
   "pygments_lexer": "ipython3",
   "version": "3.10.5"
  },
  "orig_nbformat": 4
 },
 "nbformat": 4,
 "nbformat_minor": 2
}
