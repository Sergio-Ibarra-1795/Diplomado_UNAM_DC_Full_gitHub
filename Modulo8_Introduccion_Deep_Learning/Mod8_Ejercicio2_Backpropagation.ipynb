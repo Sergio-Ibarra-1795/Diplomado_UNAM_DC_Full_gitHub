{
 "cells": [
  {
   "cell_type": "markdown",
   "metadata": {},
   "source": [
    "#### <font color=\"#03997A\"> Diplomado en Ciencia de datos UNAM </font>\n",
    "\n",
    "##### <font color=\"#03997A\"> Dr: Alejandro Pimentel  </font>\n",
    "\n",
    "##### <font color=\"#03997A\"> Modulo 8 Introducción al Deep Learning </font>\n",
    "\n",
    "##### <font color=\"#03997A\"> Ejercico de tema 2 Backpropagation  Alumno: Ibarra Ramírez Sergio </font>"
   ]
  },
  {
   "cell_type": "markdown",
   "metadata": {},
   "source": []
  },
  {
   "cell_type": "markdown",
   "metadata": {},
   "source": []
  },
  {
   "cell_type": "code",
   "execution_count": 1,
   "metadata": {},
   "outputs": [],
   "source": [
    "import random\n",
    "random.seed(2023)\n",
    "\n",
    "lr = 0.1\n",
    "\n",
    "lista_indices = [0,1,2,3]\n",
    "\n",
    "x_train = [\n",
    "    (1, 0,\t1,\t0),\n",
    "    (1, 0,\t0,\t0),\n",
    "    (1, 0,\t1,\t1),\n",
    "    (1, 0,\t0,\t1),\n",
    "    (1, 1,\t0,\t0\t),\n",
    "    (1, 1,\t1,\t0),\n",
    "    (1, 1,\t0,\t1),\n",
    "    (1, 1,\t1,\t1\t)\n",
    "]\n",
    "\n",
    "# Cambiamos la salida a one-hot\n",
    "y_train = [\n",
    "    (0,\t1,\t0,\t0),\n",
    "    (1, 0,\t0,\t0),\n",
    "    (0,\t1,\t0,\t0),\n",
    "    (1,\t0,\t0,\t0),\n",
    "    (0,\t1,\t0,\t0),\n",
    "    (0,\t0,  1,\t0),\n",
    "    (0,\t1,\t0,\t0),\n",
    "    (0,\t0,\t0,\t1),\n",
    "]"
   ]
  },
  {
   "cell_type": "code",
   "execution_count": 2,
   "metadata": {},
   "outputs": [],
   "source": [
    "def genera_pesos(num_entradas):\n",
    "  pesos = [0]\n",
    "  for i in range(num_entradas):\n",
    "    pesos.append(random.uniform(-1,1))\n",
    "  return pesos"
   ]
  },
  {
   "cell_type": "code",
   "execution_count": 3,
   "metadata": {},
   "outputs": [
    {
     "data": {
      "text/plain": [
       "[[0, -0.2341561510915824, 0.9437241769815645, 0.6876348464076729],\n",
       " [0, -0.35943872315862, 0.14205147226820958, -0.3255295808113874],\n",
       " [0, -0.7999046029971777, -0.752240707709926, -0.3932557577131788],\n",
       " [0, 0.39357846277644915, 0.4367290217816242, -0.3976837221083269]]"
      ]
     },
     "execution_count": 3,
     "metadata": {},
     "output_type": "execute_result"
    }
   ],
   "source": [
    "l1_w = [genera_pesos(3),genera_pesos(3),genera_pesos(3),genera_pesos(3)]\n",
    "l1_w"
   ]
  },
  {
   "cell_type": "code",
   "execution_count": 4,
   "metadata": {},
   "outputs": [],
   "source": [
    "def mostrar_pesos(lista_w):\n",
    "    for i,W in enumerate(lista_w):\n",
    "        print(\"Neurona \", i, end=\": \")\n",
    "        for j,w in enumerate(W):\n",
    "            print(f'w{j} =', '%.2f' % w, end=\", \")\n",
    "        print()\n",
    "    print(\"-\"*20)"
   ]
  },
  {
   "cell_type": "code",
   "execution_count": 5,
   "metadata": {},
   "outputs": [
    {
     "name": "stdout",
     "output_type": "stream",
     "text": [
      "Neurona  0: w0 = 0.00, w1 = -0.23, w2 = 0.94, w3 = 0.69, \n",
      "Neurona  1: w0 = 0.00, w1 = -0.36, w2 = 0.14, w3 = -0.33, \n",
      "Neurona  2: w0 = 0.00, w1 = -0.80, w2 = -0.75, w3 = -0.39, \n",
      "Neurona  3: w0 = 0.00, w1 = 0.39, w2 = 0.44, w3 = -0.40, \n",
      "--------------------\n"
     ]
    }
   ],
   "source": [
    "mostrar_pesos(l1_w)"
   ]
  },
  {
   "cell_type": "code",
   "execution_count": 6,
   "metadata": {},
   "outputs": [],
   "source": [
    "import math\n",
    "\n",
    "def forward_pass(l1_w,X):\n",
    "  l1_y = []\n",
    "  for W in l1_w:\n",
    "    y=0\n",
    "    for x,w in zip(X,W):\n",
    "      y += w*x\n",
    "\n",
    "    l1_y.append(y) #logits\n",
    "\n",
    "  # Softmax\n",
    "  l2_y = []\n",
    "  denominador = 0\n",
    "  for x in l1_y:\n",
    "    denominador += math.exp(x)\n",
    "  for l2_x in l1_y:\n",
    "    numerador = math.exp(l2_x)\n",
    "    l2_y.append(numerador/denominador)\n",
    "\n",
    "  return l2_y"
   ]
  },
  {
   "cell_type": "code",
   "execution_count": 7,
   "metadata": {},
   "outputs": [],
   "source": [
    "def backward_pass(y_true,fwd_result,X):\n",
    "  grads = [[0 for i in X] for j in fwd_result]\n",
    "  for a,valor in enumerate(y_true):\n",
    "    if valor: # Identifica la salida correcta\n",
    "      for j, prob in enumerate(fwd_result):\n",
    "        for i,x in enumerate(X):\n",
    "          if a == j:\n",
    "            grad = x*(prob-1)\n",
    "          else:\n",
    "            grad = prob*x\n",
    "          grads[j][i] += grad\n",
    "    else: # Si no se trata de la clase correcta  no se hace nada\n",
    "      pass\n",
    "  return grads"
   ]
  },
  {
   "cell_type": "code",
   "execution_count": 8,
   "metadata": {},
   "outputs": [],
   "source": [
    "def actualizacion(l1_w,grads,L):\n",
    "  nuevos_w = [[w for w in W] for W in l1_w] # nuevos_w = l1_w # si hago esto, las dos variables en realidad serían la misma\n",
    "  for j,W in enumerate(l1_w):\n",
    "    for i,w in enumerate(W):\n",
    "      nuevos_w[j][i] += - L * grads[j][i]\n",
    "  return nuevos_w"
   ]
  },
  {
   "cell_type": "code",
   "execution_count": 9,
   "metadata": {},
   "outputs": [
    {
     "name": "stdout",
     "output_type": "stream",
     "text": [
      "Neurona  0: w0 = 0.00, w1 = -0.23, w2 = 0.94, w3 = 0.69, \n",
      "Neurona  1: w0 = 0.00, w1 = -0.36, w2 = 0.14, w3 = -0.33, \n",
      "Neurona  2: w0 = 0.00, w1 = -0.80, w2 = -0.75, w3 = -0.39, \n",
      "Neurona  3: w0 = 0.00, w1 = 0.39, w2 = 0.44, w3 = -0.40, \n",
      "--------------------\n",
      "Neurona  0: w0 = 0.01, w1 = -0.23, w2 = 0.83, w3 = 0.67, \n",
      "Neurona  1: w0 = 0.13, w1 = -0.36, w2 = 0.31, w3 = -0.25, \n",
      "Neurona  2: w0 = -0.05, w1 = -0.80, w2 = -0.76, w3 = -0.41, \n",
      "Neurona  3: w0 = -0.08, w1 = 0.39, w2 = 0.40, w3 = -0.43, \n",
      "--------------------\n",
      "Neurona  0: w0 = 0.03, w1 = -0.23, w2 = 0.72, w3 = 0.65, \n",
      "Neurona  1: w0 = 0.23, w1 = -0.36, w2 = 0.47, w3 = -0.19, \n",
      "Neurona  2: w0 = -0.11, w1 = -0.80, w2 = -0.78, w3 = -0.43, \n",
      "Neurona  3: w0 = -0.16, w1 = 0.39, w2 = 0.36, w3 = -0.46, \n",
      "--------------------\n",
      "Neurona  0: w0 = 0.06, w1 = -0.23, w2 = 0.63, w3 = 0.65, \n",
      "Neurona  1: w0 = 0.32, w1 = -0.36, w2 = 0.61, w3 = -0.14, \n",
      "Neurona  2: w0 = -0.15, w1 = -0.80, w2 = -0.79, w3 = -0.45, \n",
      "Neurona  3: w0 = -0.22, w1 = 0.39, w2 = 0.33, w3 = -0.48, \n",
      "--------------------\n",
      "Neurona  0: w0 = 0.10, w1 = -0.23, w2 = 0.54, w3 = 0.64, \n",
      "Neurona  1: w0 = 0.38, w1 = -0.36, w2 = 0.73, w3 = -0.10, \n",
      "Neurona  2: w0 = -0.20, w1 = -0.80, w2 = -0.80, w3 = -0.47, \n",
      "Neurona  3: w0 = -0.28, w1 = 0.39, w2 = 0.30, w3 = -0.50, \n",
      "--------------------\n",
      "Neurona  0: w0 = 0.14, w1 = -0.23, w2 = 0.46, w3 = 0.65, \n",
      "Neurona  1: w0 = 0.43, w1 = -0.36, w2 = 0.85, w3 = -0.07, \n",
      "Neurona  2: w0 = -0.24, w1 = -0.80, w2 = -0.81, w3 = -0.48, \n",
      "Neurona  3: w0 = -0.34, w1 = 0.39, w2 = 0.27, w3 = -0.52, \n",
      "--------------------\n",
      "Neurona  0: w0 = 0.20, w1 = -0.23, w2 = 0.38, w3 = 0.65, \n",
      "Neurona  1: w0 = 0.46, w1 = -0.36, w2 = 0.95, w3 = -0.05, \n",
      "Neurona  2: w0 = -0.27, w1 = -0.80, w2 = -0.82, w3 = -0.50, \n",
      "Neurona  3: w0 = -0.38, w1 = 0.39, w2 = 0.25, w3 = -0.54, \n",
      "--------------------\n",
      "Neurona  0: w0 = 0.25, w1 = -0.23, w2 = 0.32, w3 = 0.66, \n",
      "Neurona  1: w0 = 0.49, w1 = -0.36, w2 = 1.04, w3 = -0.03, \n",
      "Neurona  2: w0 = -0.31, w1 = -0.80, w2 = -0.82, w3 = -0.51, \n",
      "Neurona  3: w0 = -0.43, w1 = 0.39, w2 = 0.23, w3 = -0.55, \n",
      "--------------------\n",
      "Neurona  0: w0 = 0.31, w1 = -0.23, w2 = 0.25, w3 = 0.67, \n",
      "Neurona  1: w0 = 0.50, w1 = -0.36, w2 = 1.13, w3 = -0.01, \n",
      "Neurona  2: w0 = -0.34, w1 = -0.80, w2 = -0.83, w3 = -0.52, \n",
      "Neurona  3: w0 = -0.47, w1 = 0.39, w2 = 0.22, w3 = -0.57, \n",
      "--------------------\n",
      "Neurona  0: w0 = 0.36, w1 = -0.23, w2 = 0.19, w3 = 0.68, \n",
      "Neurona  1: w0 = 0.51, w1 = -0.36, w2 = 1.21, w3 = 0.00, \n",
      "Neurona  2: w0 = -0.37, w1 = -0.80, w2 = -0.83, w3 = -0.53, \n",
      "Neurona  3: w0 = -0.50, w1 = 0.39, w2 = 0.20, w3 = -0.58, \n",
      "--------------------\n",
      "Neurona  0: w0 = 0.42, w1 = -0.23, w2 = 0.14, w3 = 0.69, \n",
      "Neurona  1: w0 = 0.52, w1 = -0.36, w2 = 1.28, w3 = 0.01, \n",
      "Neurona  2: w0 = -0.40, w1 = -0.80, w2 = -0.84, w3 = -0.54, \n",
      "Neurona  3: w0 = -0.54, w1 = 0.39, w2 = 0.19, w3 = -0.59, \n",
      "--------------------\n",
      "Neurona  0: w0 = 0.48, w1 = -0.23, w2 = 0.08, w3 = 0.70, \n",
      "Neurona  1: w0 = 0.52, w1 = -0.36, w2 = 1.36, w3 = 0.02, \n",
      "Neurona  2: w0 = -0.43, w1 = -0.80, w2 = -0.85, w3 = -0.55, \n",
      "Neurona  3: w0 = -0.57, w1 = 0.39, w2 = 0.18, w3 = -0.60, \n",
      "--------------------\n",
      "Neurona  0: w0 = 0.53, w1 = -0.23, w2 = 0.03, w3 = 0.71, \n",
      "Neurona  1: w0 = 0.52, w1 = -0.36, w2 = 1.42, w3 = 0.03, \n",
      "Neurona  2: w0 = -0.45, w1 = -0.80, w2 = -0.85, w3 = -0.56, \n",
      "Neurona  3: w0 = -0.60, w1 = 0.39, w2 = 0.17, w3 = -0.61, \n",
      "--------------------\n"
     ]
    }
   ],
   "source": [
    "iters = 0\n",
    "while True:\n",
    "  if iters > 1000: break # por si acaso\n",
    "  mostrar_pesos(l1_w)\n",
    "  iters+=1\n",
    "  correcto = True\n",
    "\n",
    "  random.shuffle(lista_indices)\n",
    "  for i in lista_indices:\n",
    "    # Revisar si el modelo ya esta bien\n",
    "    h_y = forward_pass(l1_w,x_train[i])\n",
    "    max_hy = h_y.index(max(h_y))\n",
    "    y = y_train[i]\n",
    "    max_y = y.index(max(y))\n",
    "    if max_y != max_hy:\n",
    "      correcto = False\n",
    "\n",
    "  if correcto: break\n",
    "\n",
    "  nuevos_w = [[w for w in W] for W in l1_w]\n",
    "\n",
    "  # Back Propagation\n",
    "  for i in lista_indices:\n",
    "    h_y = forward_pass(l1_w,x_train[i])\n",
    "    grads = backward_pass(y_train[i],h_y,x_train[i])\n",
    "    nuevos_w = actualizacion(nuevos_w,grads,lr)\n",
    "\n",
    "  l1_w = nuevos_w"
   ]
  },
  {
   "cell_type": "code",
   "execution_count": 10,
   "metadata": {},
   "outputs": [
    {
     "data": {
      "text/plain": [
       "[0.5911114987629432,\n",
       " 0.2953503409131192,\n",
       " 0.06219317710034775,\n",
       " 0.051344983223589886]"
      ]
     },
     "execution_count": 10,
     "metadata": {},
     "output_type": "execute_result"
    }
   ],
   "source": [
    "forward_pass(l1_w,x_train[i])"
   ]
  },
  {
   "cell_type": "code",
   "execution_count": 11,
   "metadata": {},
   "outputs": [
    {
     "data": {
      "text/plain": [
       "(1, 0, 0, 1)"
      ]
     },
     "execution_count": 11,
     "metadata": {},
     "output_type": "execute_result"
    }
   ],
   "source": [
    "x_train[i]"
   ]
  },
  {
   "cell_type": "code",
   "execution_count": 12,
   "metadata": {},
   "outputs": [
    {
     "data": {
      "text/plain": [
       "(1, 0, 0, 0)"
      ]
     },
     "execution_count": 12,
     "metadata": {},
     "output_type": "execute_result"
    }
   ],
   "source": [
    "y_train[i]"
   ]
  }
 ],
 "metadata": {
  "kernelspec": {
   "display_name": "Python 3",
   "language": "python",
   "name": "python3"
  },
  "language_info": {
   "codemirror_mode": {
    "name": "ipython",
    "version": 3
   },
   "file_extension": ".py",
   "mimetype": "text/x-python",
   "name": "python",
   "nbconvert_exporter": "python",
   "pygments_lexer": "ipython3",
   "version": "3.10.7"
  },
  "orig_nbformat": 4
 },
 "nbformat": 4,
 "nbformat_minor": 2
}
