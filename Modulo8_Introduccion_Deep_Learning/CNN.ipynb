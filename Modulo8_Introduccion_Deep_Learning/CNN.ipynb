{
 "cells": [
  {
   "cell_type": "markdown",
   "metadata": {},
   "source": [
    "#### <font color=\"#03997A\"> Diplomado en Ciencia de datos UNAM </font>\n",
    "\n",
    "##### <font color=\"#03997A\"> Dr: Alejandro Pimentel  </font>\n",
    "\n",
    "##### <font color=\"#03997A\"> Modulo 8 Introducción al Deep Learning </font>\n",
    "\n",
    "##### <font color=\"#03997A\"> Tema 4 CNN  Alumno: Ibarra Ramírez Sergio </font>"
   ]
  },
  {
   "cell_type": "code",
   "execution_count": 1,
   "metadata": {},
   "outputs": [
    {
     "name": "stderr",
     "output_type": "stream",
     "text": [
      "c:\\Users\\Sergio\\AppData\\Local\\Programs\\Python\\Python310\\lib\\site-packages\\sklearn\\datasets\\_openml.py:968: FutureWarning: The default value of `parser` will change from `'liac-arff'` to `'auto'` in 1.4. You can set `parser='auto'` to silence this warning. Therefore, an `ImportError` will be raised from 1.4 if the dataset is dense and pandas is not installed. Note that the pandas parser may return different data types. See the Notes Section in fetch_openml's API doc for details.\n",
      "  warn(\n",
      "c:\\Users\\Sergio\\AppData\\Local\\Programs\\Python\\Python310\\lib\\site-packages\\sklearn\\preprocessing\\_encoders.py:868: FutureWarning: `sparse` was renamed to `sparse_output` in version 1.2 and will be removed in 1.4. `sparse_output` is ignored unless you leave `sparse` to its default value.\n",
      "  warnings.warn(\n"
     ]
    }
   ],
   "source": [
    "import tensorflow as tf\n",
    "from sklearn.datasets import fetch_openml\n",
    "from sklearn.preprocessing import normalize\n",
    "from sklearn.preprocessing import OneHotEncoder\n",
    "\n",
    "X,y = fetch_openml('mnist_784', as_frame=False, return_X_y=True)\n",
    "\n",
    "X = normalize(X).reshape(-1,28,28,1)\n",
    "\n",
    "X_train = X[:60000]\n",
    "X_test = X[60000:]\n",
    "y_train = y[:60000]\n",
    "y_test = y[60000:]\n",
    "\n",
    "codificador = OneHotEncoder(handle_unknown='ignore',sparse=False)\n",
    "y_train = codificador.fit_transform(y_train.reshape(-1,1))\n",
    "y_test = codificador.transform(y_test.reshape(-1,1))\n",
    "\n",
    "X_train = tf.constant(X_train, dtype=tf.float32)\n",
    "X_test = tf.constant(X_test, dtype=tf.float32)\n",
    "y_train = tf.constant(y_train, dtype=tf.float32)\n",
    "y_test = tf.constant(y_test, dtype=tf.float32)\n",
    "\n",
    "train_dataset = tf.data.Dataset.from_tensor_slices((X_train, y_train))\n",
    "batch_size = 100 # Hiperparámetro\n",
    "train_dataset = train_dataset.shuffle(batch_size).batch(batch_size)"
   ]
  },
  {
   "cell_type": "markdown",
   "metadata": {},
   "source": [
    "Definicion y entrenamiento de una CNN de una capa "
   ]
  },
  {
   "cell_type": "code",
   "execution_count": 2,
   "metadata": {},
   "outputs": [
    {
     "name": "stdout",
     "output_type": "stream",
     "text": [
      "tf.Tensor(8.785183, shape=(), dtype=float32)\n",
      "tf.Tensor(0.65871847, shape=(), dtype=float32)\n",
      "tf.Tensor(0.53738683, shape=(), dtype=float32)\n",
      "tf.Tensor(0.48027182, shape=(), dtype=float32)\n",
      "tf.Tensor(0.4459387, shape=(), dtype=float32)\n",
      "tf.Tensor(0.4228714, shape=(), dtype=float32)\n",
      "tf.Tensor(0.40497893, shape=(), dtype=float32)\n",
      "tf.Tensor(0.39178798, shape=(), dtype=float32)\n",
      "tf.Tensor(0.38067207, shape=(), dtype=float32)\n",
      "tf.Tensor(0.37256306, shape=(), dtype=float32)\n"
     ]
    }
   ],
   "source": [
    "b = tf.Variable(tf.random.normal([10]))\n",
    "W = tf.Variable(tf.random.normal([1568,10]))\n",
    "\n",
    "filtros = tf.Variable(tf.random.normal([4,4,1,8])) # (alto,ancho,canales,num_filtros)\n",
    "b_conv = tf.Variable(tf.random.normal([8]))\n",
    "\n",
    "optimizador = tf.keras.optimizers.experimental.SGD(learning_rate=0.1)\n",
    "\n",
    "epochs = 10\n",
    "\n",
    "for _ in range(epochs):\n",
    "  loss_epoch = 0\n",
    "  for x,y in train_dataset:\n",
    "    with tf.GradientTape() as gt:\n",
    "      # Capa1\n",
    "      salida_conv = tf.nn.conv2d(x,filtros,[1,2,2,1],\"SAME\")\n",
    "      salida_conv += b_conv\n",
    "\n",
    "      # Omití la activación no lineal\n",
    "\n",
    "\n",
    "      # Capa Final\n",
    "      #  Se aplana la salida de la capa anteior\n",
    "      salidaPlana = tf.reshape(salida_conv,[-1,1568])\n",
    "      operacion_matricial = tf.matmul(salidaPlana,W)+b\n",
    "\n",
    "      x_ent = tf.nn.softmax_cross_entropy_with_logits(\n",
    "          logits = operacion_matricial,\n",
    "          labels = y\n",
    "      )\n",
    "\n",
    "      loss = tf.reduce_mean(x_ent)\n",
    "      optimizador.minimize(loss,[W,b,filtros,b_conv],gt) # Poderosa\n",
    "\n",
    "    loss_epoch += loss/len(train_dataset)\n",
    "  print(loss_epoch)"
   ]
  },
  {
   "cell_type": "markdown",
   "metadata": {},
   "source": [
    "Uso de de una CNN de una capa "
   ]
  },
  {
   "cell_type": "code",
   "execution_count": 3,
   "metadata": {},
   "outputs": [
    {
     "name": "stdout",
     "output_type": "stream",
     "text": [
      "tf.Tensor(0.8936, shape=(), dtype=float32)\n"
     ]
    }
   ],
   "source": [
    "salida_conv = tf.nn.conv2d(X_test,filtros,[1,2,2,1],\"SAME\")\n",
    "salida_conv += b_conv\n",
    "salidaPlana = tf.reshape(salida_conv,[-1,1568])\n",
    "\n",
    "operacion_matricial = tf.matmul(salidaPlana,W)+b\n",
    "\n",
    "probs = tf.nn.softmax(operacion_matricial)\n",
    "\n",
    "max_preds = tf.argmax(probs,1)\n",
    "max_trues = tf.argmax(y_test,1)\n",
    "\n",
    "numCorrectos = tf.equal(max_preds,max_trues)\n",
    "acc = tf.reduce_mean(tf.cast(numCorrectos,tf.float32)) # Tengo que convertirlo porque el original es booleano\n",
    "print(acc)"
   ]
  }
 ],
 "metadata": {
  "kernelspec": {
   "display_name": "Python 3",
   "language": "python",
   "name": "python3"
  },
  "language_info": {
   "codemirror_mode": {
    "name": "ipython",
    "version": 3
   },
   "file_extension": ".py",
   "mimetype": "text/x-python",
   "name": "python",
   "nbconvert_exporter": "python",
   "pygments_lexer": "ipython3",
   "version": "3.10.5"
  },
  "orig_nbformat": 4
 },
 "nbformat": 4,
 "nbformat_minor": 2
}
