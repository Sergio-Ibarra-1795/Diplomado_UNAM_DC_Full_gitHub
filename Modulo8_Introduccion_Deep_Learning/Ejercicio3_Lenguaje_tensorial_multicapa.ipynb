{
 "cells": [
  {
   "cell_type": "markdown",
   "metadata": {},
   "source": [
    "#### <font color=\"#03997A\"> Diplomado en Ciencia de datos UNAM </font>\n",
    "\n",
    "##### <font color=\"#03997A\"> Dr: Alejandro Pimentel  </font>\n",
    "\n",
    "##### <font color=\"#03997A\"> Modulo 8 Introducción al Deep Learning </font>\n",
    "\n",
    "##### <font color=\"#03997A\"> Tema 3 Representación de operaciones matriciales en lenguaje tensorial (apliado a clasicación de imagenes)    Alumno: Ibarra Ramírez Sergio </font>"
   ]
  },
  {
   "cell_type": "markdown",
   "metadata": {},
   "source": [
    "La data será tomada de: MNIST handwritten digit database, Yann LeCun, Corinna Cortes and Chris Burges"
   ]
  },
  {
   "cell_type": "markdown",
   "metadata": {},
   "source": [
    "Se descargará la data de los digitos escritos a mano"
   ]
  },
  {
   "cell_type": "code",
   "execution_count": 1,
   "metadata": {},
   "outputs": [
    {
     "name": "stdout",
     "output_type": "stream",
     "text": [
      "Downloaded train-images-idx3-ubyte.gz\n",
      "Downloaded train-labels-idx1-ubyte.gz\n",
      "Downloaded t10k-images-idx3-ubyte.gz\n",
      "Downloaded t10k-labels-idx1-ubyte.gz\n"
     ]
    }
   ],
   "source": [
    "import requests\n",
    "\n",
    "urls = [\n",
    "    \"http://yann.lecun.com/exdb/mnist/train-images-idx3-ubyte.gz\",\n",
    "    \"http://yann.lecun.com/exdb/mnist/train-labels-idx1-ubyte.gz\",\n",
    "    \"http://yann.lecun.com/exdb/mnist/t10k-images-idx3-ubyte.gz\",\n",
    "    \"http://yann.lecun.com/exdb/mnist/t10k-labels-idx1-ubyte.gz\"\n",
    "]\n",
    "\n",
    "for url in urls:\n",
    "    filename = url.split(\"/\")[-1]  # Extract the filename from the URL\n",
    "    response = requests.get(url)\n",
    "    with open(filename, \"wb\") as f:\n",
    "        f.write(response.content)\n",
    "    print(f\"Downloaded {filename}\")\n"
   ]
  },
  {
   "cell_type": "markdown",
   "metadata": {},
   "source": [
    "Se deben descomprimir los datos pues están en modo .gz"
   ]
  },
  {
   "cell_type": "markdown",
   "metadata": {},
   "source": []
  },
  {
   "cell_type": "code",
   "execution_count": 2,
   "metadata": {},
   "outputs": [],
   "source": [
    "import idx2numpy\n",
    "\n",
    "ruta_train_images = 'train-images-idx3-ubyte'\n",
    "ruta_train_labels = 'train-labels-idx1-ubyte'\n",
    "ruta_test_images = 't10k-images-idx3-ubyte'\n",
    "ruta_test_labels = 't10k-labels-idx1-ubyte'\n",
    "\n",
    "train_images = idx2numpy.convert_from_file(ruta_train_images)\n",
    "train_labels = idx2numpy.convert_from_file(ruta_train_labels)\n",
    "test_images = idx2numpy.convert_from_file(ruta_test_images)\n",
    "test_labels = idx2numpy.convert_from_file(ruta_test_labels)"
   ]
  },
  {
   "cell_type": "code",
   "execution_count": 3,
   "metadata": {},
   "outputs": [
    {
     "data": {
      "text/plain": [
       "array([7, 2, 1, ..., 4, 5, 6], dtype=uint8)"
      ]
     },
     "execution_count": 3,
     "metadata": {},
     "output_type": "execute_result"
    }
   ],
   "source": [
    "test_labels"
   ]
  },
  {
   "cell_type": "code",
   "execution_count": 4,
   "metadata": {},
   "outputs": [
    {
     "name": "stdout",
     "output_type": "stream",
     "text": [
      "(60000, 28, 28)\n",
      "(60000,)\n",
      "(10000, 28, 28)\n",
      "(10000,)\n"
     ]
    }
   ],
   "source": [
    "print(train_images.shape)\n",
    "print(train_labels.shape)\n",
    "print(test_images.shape)\n",
    "print(test_labels.shape)"
   ]
  },
  {
   "cell_type": "markdown",
   "metadata": {},
   "source": [
    "Para intentar visualizar los datos "
   ]
  },
  {
   "cell_type": "code",
   "execution_count": 5,
   "metadata": {},
   "outputs": [
    {
     "data": {
      "image/png": "[encoded data removed]",
      "text/plain": [
       "<Figure size 432x288 with 5 Axes>"
      ]
     },
     "metadata": {},
     "output_type": "display_data"
    }
   ],
   "source": [
    "import matplotlib.pyplot as plt\n",
    "\n",
    "imagenes_mostrar = train_images[:5] # unas 5\n",
    "labels_mostrar = train_labels[:5]\n",
    "for i, (img,label) in enumerate(zip(imagenes_mostrar,labels_mostrar)):\n",
    "    plt.subplot(151 + i) #esto es para que las ponga lado a lado, se interpreta cada dígito (1: renglon, 5:columnas, x: el indice en el que se va poniendo)\n",
    "    plt.imshow(img)\n",
    "    plt.xticks([])\n",
    "    plt.yticks([])\n",
    "    plt.title(label)"
   ]
  },
  {
   "cell_type": "code",
   "execution_count": 6,
   "metadata": {},
   "outputs": [
    {
     "data": {
      "text/plain": [
       "(60000, 784)"
      ]
     },
     "execution_count": 6,
     "metadata": {},
     "output_type": "execute_result"
    }
   ],
   "source": [
    "train_images.reshape([-1,784]).shape"
   ]
  },
  {
   "cell_type": "markdown",
   "metadata": {},
   "source": [
    "Volvemos a importar los datos y normalizarlos "
   ]
  },
  {
   "cell_type": "code",
   "execution_count": 7,
   "metadata": {},
   "outputs": [
    {
     "name": "stderr",
     "output_type": "stream",
     "text": [
      "c:\\Users\\Sergio\\AppData\\Local\\Programs\\Python\\Python310\\lib\\site-packages\\sklearn\\datasets\\_openml.py:968: FutureWarning: The default value of `parser` will change from `'liac-arff'` to `'auto'` in 1.4. You can set `parser='auto'` to silence this warning. Therefore, an `ImportError` will be raised from 1.4 if the dataset is dense and pandas is not installed. Note that the pandas parser may return different data types. See the Notes Section in fetch_openml's API doc for details.\n",
      "  warn(\n"
     ]
    }
   ],
   "source": [
    "from sklearn.datasets import fetch_openml\n",
    "from sklearn.preprocessing import normalize\n",
    "\n",
    "X,y = fetch_openml('mnist_784', as_frame=False, return_X_y=True)"
   ]
  },
  {
   "cell_type": "code",
   "execution_count": 8,
   "metadata": {},
   "outputs": [],
   "source": [
    "X = normalize(X)"
   ]
  },
  {
   "cell_type": "code",
   "execution_count": 9,
   "metadata": {},
   "outputs": [],
   "source": [
    "X_train = X[:60000]\n",
    "X_test = X[60000:]\n",
    "y_train = y[:60000]\n",
    "y_test = y[60000:]"
   ]
  },
  {
   "cell_type": "code",
   "execution_count": 10,
   "metadata": {},
   "outputs": [
    {
     "data": {
      "text/plain": [
       "(60000, 784)"
      ]
     },
     "execution_count": 10,
     "metadata": {},
     "output_type": "execute_result"
    }
   ],
   "source": [
    "X_train.shape"
   ]
  },
  {
   "cell_type": "code",
   "execution_count": 11,
   "metadata": {},
   "outputs": [
    {
     "data": {
      "text/plain": [
       "(60000,)"
      ]
     },
     "execution_count": 11,
     "metadata": {},
     "output_type": "execute_result"
    }
   ],
   "source": [
    "y_train.shape"
   ]
  },
  {
   "cell_type": "markdown",
   "metadata": {},
   "source": [
    "##### Vamos a hacer Encoding de nuestros datos de entrnamiento "
   ]
  },
  {
   "cell_type": "code",
   "execution_count": 12,
   "metadata": {},
   "outputs": [
    {
     "name": "stderr",
     "output_type": "stream",
     "text": [
      "c:\\Users\\Sergio\\AppData\\Local\\Programs\\Python\\Python310\\lib\\site-packages\\sklearn\\preprocessing\\_encoders.py:868: FutureWarning: `sparse` was renamed to `sparse_output` in version 1.2 and will be removed in 1.4. `sparse_output` is ignored unless you leave `sparse` to its default value.\n",
      "  warnings.warn(\n"
     ]
    }
   ],
   "source": [
    "from sklearn.preprocessing import OneHotEncoder\n",
    "\n",
    "codificador = OneHotEncoder(handle_unknown='ignore',sparse=False)\n",
    "y_train = codificador.fit_transform(y_train.reshape(-1,1))\n",
    "y_test = codificador.transform(y_test.reshape(-1,1))"
   ]
  },
  {
   "cell_type": "markdown",
   "metadata": {},
   "source": [
    "#### Uso de Tensorflow para operaciones matriciales en redes neuronales "
   ]
  },
  {
   "cell_type": "code",
   "execution_count": 13,
   "metadata": {},
   "outputs": [],
   "source": [
    "import tensorflow as tf"
   ]
  },
  {
   "cell_type": "markdown",
   "metadata": {},
   "source": [
    "##### Preparación del dataset"
   ]
  },
  {
   "cell_type": "code",
   "execution_count": 14,
   "metadata": {},
   "outputs": [],
   "source": [
    "X_train = tf.constant(X_train, dtype=tf.float32)\n",
    "X_test = tf.constant(X_test, dtype=tf.float32)\n",
    "y_train = tf.constant(y_train, dtype=tf.float32)\n",
    "y_test = tf.constant(y_test, dtype=tf.float32)"
   ]
  },
  {
   "cell_type": "code",
   "execution_count": 15,
   "metadata": {},
   "outputs": [
    {
     "data": {
      "text/plain": [
       "<_TensorSliceDataset element_spec=(TensorSpec(shape=(784,), dtype=tf.float32, name=None), TensorSpec(shape=(10,), dtype=tf.float32, name=None))>"
      ]
     },
     "execution_count": 15,
     "metadata": {},
     "output_type": "execute_result"
    }
   ],
   "source": [
    "train_dataset = tf.data.Dataset.from_tensor_slices((X_train, y_train))\n",
    "train_dataset"
   ]
  },
  {
   "cell_type": "code",
   "execution_count": 16,
   "metadata": {},
   "outputs": [],
   "source": [
    "batch_size = 100 # Hiperparámetro\n",
    "train_dataset = train_dataset.shuffle(batch_size).batch(batch_size)"
   ]
  },
  {
   "cell_type": "markdown",
   "metadata": {},
   "source": [
    "### Si no se normaliza la entrada el calculo del gradiente, es decir, de la pendiente puede dar pasos muy grandes y pasos muy chicos que probocan que la ted no converga  "
   ]
  },
  {
   "cell_type": "markdown",
   "metadata": {},
   "source": [
    "Otra cosa que se debe verificar es el learning rate "
   ]
  },
  {
   "cell_type": "markdown",
   "metadata": {},
   "source": [
    "## Red multicapa  "
   ]
  },
  {
   "cell_type": "markdown",
   "metadata": {},
   "source": [
    "Se va requerir un juego de pesos por cada capa que se agrega"
   ]
  },
  {
   "cell_type": "code",
   "execution_count": 25,
   "metadata": {},
   "outputs": [
    {
     "data": {
      "text/plain": [
       "<tf.Variable 'Variable:0' shape=(784, 100) dtype=float32, numpy=\n",
       "array([[-0.5869398 ,  0.7050576 , -0.35582685, ..., -1.1209118 ,\n",
       "        -1.1095564 , -1.203286  ],\n",
       "       [ 0.9300066 ,  0.5270253 , -0.62044954, ..., -0.15377265,\n",
       "         0.65100896, -2.9515123 ],\n",
       "       [-1.3420908 , -2.1561484 ,  0.5046944 , ...,  0.53189   ,\n",
       "         0.85732305, -1.5788636 ],\n",
       "       ...,\n",
       "       [ 1.6549932 , -0.29119   ,  0.30019945, ..., -0.62216073,\n",
       "        -1.5143024 , -0.2395874 ],\n",
       "       [ 1.2634319 ,  3.3268197 ,  0.5217027 , ...,  1.3708354 ,\n",
       "         0.94002986, -0.7263301 ],\n",
       "       [ 2.9727304 ,  0.9074828 ,  0.3695789 , ...,  1.6051044 ,\n",
       "         0.09117821,  0.9603046 ]], dtype=float32)>"
      ]
     },
     "execution_count": 25,
     "metadata": {},
     "output_type": "execute_result"
    }
   ],
   "source": [
    "b1 = tf.Variable(tf.random.normal([100]))\n",
    "W1 = tf.Variable(tf.random.normal([784,100]))\n",
    "W1"
   ]
  },
  {
   "cell_type": "markdown",
   "metadata": {},
   "source": [
    "Por lo tanto se agregam los de la capa 2\n",
    "El numero de neuronas en un parametro libre a a justar.\n",
    "Pero la salida de una capa l son las mimsmas que la entrada de una capa l+1 \n",
    "Por ejemplo"
   ]
  },
  {
   "cell_type": "code",
   "execution_count": 26,
   "metadata": {},
   "outputs": [
    {
     "data": {
      "text/plain": [
       "<tf.Variable 'Variable:0' shape=(100, 10) dtype=float32, numpy=\n",
       "array([[ 4.21367764e-01, -1.65581703e+00,  2.05151573e-01,\n",
       "        -5.16583383e-01, -2.06110859e+00,  9.87200558e-01,\n",
       "        -5.53487659e-01,  1.11810124e+00,  8.64786446e-01,\n",
       "        -2.62024522e-01],\n",
       "       [ 1.11708760e+00,  7.61228148e-05, -3.72769654e-01,\n",
       "         4.25275564e-01, -1.14438124e-01, -7.73250878e-01,\n",
       "         3.57533127e-01, -9.88471210e-01,  7.30752528e-01,\n",
       "         1.09424090e+00],\n",
       "       [ 4.62678783e-02, -1.98370799e-01, -1.55637056e-01,\n",
       "         1.03255630e+00, -4.47560787e-01,  6.81961715e-01,\n",
       "         2.01975441e+00, -2.00690937e+00, -5.78869760e-01,\n",
       "         1.35221839e+00],\n",
       "       [ 1.60979915e+00, -1.53859798e-02, -3.89440730e-02,\n",
       "        -9.09681559e-01, -1.20768875e-01,  5.38890004e-01,\n",
       "         1.38422239e+00,  9.62033749e-01, -1.24821424e+00,\n",
       "        -2.34933734e+00],\n",
       "       [-3.85080904e-01,  6.23557866e-01, -4.15118754e-01,\n",
       "        -1.47132826e+00,  2.41801524e+00,  8.64456519e-02,\n",
       "        -1.83904886e+00,  5.40919304e-01,  1.64718366e+00,\n",
       "        -1.01428080e+00],\n",
       "       [ 2.33917093e+00, -7.43097842e-01,  1.73033559e+00,\n",
       "        -9.44892824e-01,  1.20579112e+00,  2.05703124e-01,\n",
       "         3.34232301e-01,  1.18065119e+00, -1.36639500e+00,\n",
       "        -1.65514743e+00],\n",
       "       [ 1.20370351e-02, -1.09065509e+00,  1.08621907e+00,\n",
       "         1.54296622e-01,  5.99449813e-01, -4.96230423e-01,\n",
       "        -9.04193282e-01,  1.62511027e+00,  2.98387855e-01,\n",
       "        -2.17136836e+00],\n",
       "       [-5.45175970e-01,  1.94179976e+00,  4.32082802e-01,\n",
       "         1.38575241e-01,  1.39081264e+00,  3.71570617e-01,\n",
       "        -1.66472185e+00,  3.74466479e-01,  4.15814191e-01,\n",
       "        -1.78789997e+00],\n",
       "       [ 2.10948658e+00,  6.25193715e-01,  9.62502778e-01,\n",
       "         2.02548787e-01, -2.71177828e-01, -2.10501790e+00,\n",
       "         1.67199716e-01,  5.25130451e-01, -1.43531477e+00,\n",
       "         1.27212846e+00],\n",
       "       [ 2.58570218e+00,  6.88731968e-01,  8.30913186e-01,\n",
       "         2.46929264e+00,  2.01883391e-01, -4.39114690e-01,\n",
       "        -2.95460343e-01, -2.17632920e-01,  1.39804053e+00,\n",
       "         1.31105936e+00],\n",
       "       [-3.27433556e-01, -1.19243336e+00, -2.87817661e-02,\n",
       "         5.44306993e-01,  7.84919202e-01, -1.30044961e+00,\n",
       "        -7.13544860e-02, -4.97692019e-01,  1.36641586e+00,\n",
       "         1.32415998e+00],\n",
       "       [-5.26574314e-01,  2.21394822e-01, -1.99109042e+00,\n",
       "        -2.25137264e-01, -7.54139274e-02,  4.00218308e-01,\n",
       "         6.67050421e-01,  2.83935457e-01,  6.56562209e-01,\n",
       "        -3.40662569e-01],\n",
       "       [-7.64706910e-01,  2.14622259e-01,  4.92191523e-01,\n",
       "         7.88950026e-01,  9.76468682e-01,  2.20541024e+00,\n",
       "        -1.69838858e+00,  2.64820129e-01, -1.05864000e+00,\n",
       "        -8.26038301e-01],\n",
       "       [-4.82209116e-01,  2.70975858e-01,  1.63778029e-02,\n",
       "        -4.65923324e-02, -8.77259970e-01, -3.99800204e-02,\n",
       "        -1.71863914e+00,  3.75256734e-03,  1.70654309e+00,\n",
       "        -5.35291620e-02],\n",
       "       [-7.27972984e-01, -6.20659292e-01,  1.35279441e+00,\n",
       "        -8.69839847e-01, -4.51905608e-01, -4.72272009e-01,\n",
       "        -5.55353522e-01, -2.83304542e-01,  7.00684130e-01,\n",
       "        -1.51229060e+00],\n",
       "       [-2.41707325e+00,  1.66775197e-01,  1.74283135e+00,\n",
       "        -1.76961958e-01, -6.59351945e-01, -9.83631909e-01,\n",
       "        -1.06648302e+00, -3.21629834e+00, -5.90878069e-01,\n",
       "         3.52554500e-01],\n",
       "       [-2.64577627e+00,  2.40414238e+00, -3.71200182e-02,\n",
       "        -9.94809747e-01, -1.25650012e+00, -8.02204311e-01,\n",
       "         6.71244562e-01, -4.45078701e-01, -5.47385991e-01,\n",
       "        -4.90918070e-01],\n",
       "       [ 3.26438904e-01,  1.49711823e+00, -1.92272401e+00,\n",
       "        -4.63794470e-01,  4.41863179e-01, -4.20005351e-01,\n",
       "         1.58131301e+00, -1.25603163e+00,  7.55376458e-01,\n",
       "         7.28400052e-02],\n",
       "       [ 1.39441240e+00, -1.29668683e-01,  2.26813585e-01,\n",
       "         1.23888576e+00, -3.03613216e-01,  1.26866126e+00,\n",
       "         1.37483871e+00, -1.31648517e+00,  6.91693783e-01,\n",
       "        -1.72485936e+00],\n",
       "       [ 3.40974241e-01,  1.10560393e+00,  2.82798815e+00,\n",
       "         2.16167003e-01,  6.71595395e-01, -4.74237293e-01,\n",
       "        -7.48103619e-01,  4.84398842e-01, -2.90658712e-01,\n",
       "        -1.07506955e+00],\n",
       "       [ 7.45385647e-01, -8.57913494e-01, -2.05794007e-01,\n",
       "         6.08298965e-02, -6.63800180e-01, -1.26382136e+00,\n",
       "         1.26816928e+00,  5.22596240e-01,  1.41725624e+00,\n",
       "         1.69118658e-01],\n",
       "       [ 6.21103704e-01,  1.88380763e-01, -2.29778197e-02,\n",
       "        -2.09854174e+00,  1.53706104e-01,  6.91790938e-01,\n",
       "         1.69157907e-01,  3.03126693e-01, -8.24947894e-01,\n",
       "         1.20276785e+00],\n",
       "       [-7.71428108e-01, -1.19877088e+00, -4.73218828e-01,\n",
       "         6.60945714e-01,  1.07965064e+00,  2.76796464e-02,\n",
       "        -1.82839942e+00,  1.70307970e+00, -4.91468579e-01,\n",
       "         1.95089471e+00],\n",
       "       [ 2.66653717e-01, -5.85167527e-01, -7.68212855e-01,\n",
       "         9.18397903e-01, -1.20413208e+00, -1.91635434e-02,\n",
       "         2.81070501e-01,  2.00575781e+00,  1.79805219e+00,\n",
       "        -4.18669492e-01],\n",
       "       [-3.74595970e-01,  7.70381570e-01, -8.89131486e-01,\n",
       "        -4.82574582e-01,  6.54567301e-01, -5.69536984e-01,\n",
       "        -1.46674886e-01, -9.73127484e-01,  1.67400491e+00,\n",
       "        -8.66784513e-01],\n",
       "       [-3.56038958e-01,  1.91471338e+00,  3.45994800e-01,\n",
       "         9.94104564e-01, -8.28634262e-01,  3.21305722e-01,\n",
       "        -4.96404916e-01,  1.41742110e+00, -1.19515848e+00,\n",
       "         2.72666126e-01],\n",
       "       [-1.98710606e-01, -8.86211932e-01, -4.25814092e-01,\n",
       "         4.33688521e-01, -4.72230911e-02, -2.16251433e-01,\n",
       "        -1.50638366e+00,  1.79853034e+00, -9.67439890e-01,\n",
       "        -6.25834405e-01],\n",
       "       [-3.52050900e-01,  5.64026177e-01,  1.14773381e+00,\n",
       "         5.38237207e-03,  6.37936354e-01,  1.67310044e-01,\n",
       "        -9.89554003e-02, -4.50781062e-02, -1.20191857e-01,\n",
       "        -6.08417094e-01],\n",
       "       [-3.96703362e-01,  1.38529614e-01, -1.02206194e+00,\n",
       "         2.85346150e+00, -4.11495954e-01,  4.02572095e-01,\n",
       "        -7.82305673e-02, -3.75768930e-01, -2.37597823e+00,\n",
       "        -2.19980240e+00],\n",
       "       [-2.54940987e-01, -1.93080708e-01, -8.93556833e-01,\n",
       "         1.68918324e+00,  1.09238601e+00,  2.80093938e-01,\n",
       "         1.35935414e+00,  3.78659099e-01,  2.11326480e+00,\n",
       "         1.49904132e-01],\n",
       "       [ 2.04351559e-01,  3.16730052e-01, -1.43810049e-01,\n",
       "         9.22952354e-01,  2.67764032e-01, -1.00210714e+00,\n",
       "        -1.07133448e+00,  6.61395252e-01,  3.83043945e-01,\n",
       "         8.39515567e-01],\n",
       "       [-1.77106309e+00, -3.50915343e-01,  1.54864037e+00,\n",
       "         7.41041422e-01,  6.44015312e-01,  6.07901812e-01,\n",
       "        -1.10642564e+00, -1.64296877e+00, -4.42628026e-01,\n",
       "        -2.62919277e-01],\n",
       "       [-1.10322523e+00,  1.12406589e-01, -4.62959260e-01,\n",
       "        -1.15740693e+00,  6.17125332e-01, -8.73768032e-01,\n",
       "         9.42112327e-01, -4.25755531e-01,  4.38896686e-01,\n",
       "         7.20042944e-01],\n",
       "       [ 2.39835456e-01,  7.65196085e-01,  6.00550950e-01,\n",
       "         2.55713910e-01, -3.00615877e-01,  8.43608320e-01,\n",
       "        -2.08391577e-01,  1.51491058e+00,  2.84970760e-01,\n",
       "        -1.31257939e+00],\n",
       "       [-1.99844754e+00,  9.28377062e-02, -8.43343735e-01,\n",
       "         1.14900267e+00,  1.01272881e+00, -3.98705214e-01,\n",
       "        -8.77666593e-01,  9.63672757e-01, -3.32932293e-01,\n",
       "         1.13390155e-01],\n",
       "       [ 2.16964670e-02, -1.76715064e+00,  1.07796383e+00,\n",
       "        -4.24905449e-01, -3.05135518e-01, -2.33687595e-01,\n",
       "        -9.08730209e-01, -7.52402604e-01, -4.09114540e-01,\n",
       "         1.66352975e+00],\n",
       "       [ 6.28437459e-01, -1.32029414e+00, -1.41693854e+00,\n",
       "        -1.20195806e+00,  1.89350709e-01,  5.30680478e-01,\n",
       "        -4.51009959e-01, -1.27117050e+00,  3.63199502e-01,\n",
       "        -4.20130223e-01],\n",
       "       [-1.36747420e+00, -1.28478396e+00,  2.98508644e-01,\n",
       "         3.72881979e-01,  1.53248441e+00, -2.04758763e+00,\n",
       "         2.04621658e-01, -6.54290378e-01, -1.00543225e+00,\n",
       "         1.60899043e+00],\n",
       "       [-1.53422284e+00,  1.31354049e-01,  1.53681445e+00,\n",
       "         4.93320674e-01,  5.36360681e-01, -3.36083263e-01,\n",
       "         1.36166096e-01, -7.65438378e-01, -1.05616796e+00,\n",
       "         6.83506072e-01],\n",
       "       [-2.51949042e-01,  1.57339537e+00, -1.08534837e+00,\n",
       "         4.06798095e-01, -2.89446443e-01, -9.18636799e-01,\n",
       "         7.82623112e-01, -1.11633980e+00, -1.16863263e+00,\n",
       "         6.22133195e-01],\n",
       "       [-6.06065691e-01, -5.08868515e-01, -5.09583540e-02,\n",
       "        -5.37134528e-01,  1.06694531e+00, -1.01597202e+00,\n",
       "        -8.02604198e-01, -1.85748577e+00,  1.90599680e-01,\n",
       "        -1.12223625e-01],\n",
       "       [ 2.49732360e-01, -1.03956807e+00,  2.67797995e+00,\n",
       "        -9.42026973e-01,  3.69183123e-01,  5.51705360e-01,\n",
       "        -1.88262355e+00, -2.05610469e-01, -1.78399146e+00,\n",
       "        -1.84057295e+00],\n",
       "       [ 1.97869313e+00,  1.19004393e+00,  1.50900459e+00,\n",
       "         1.06162179e+00, -8.13129663e-01, -1.39132693e-01,\n",
       "        -7.61628032e-01,  1.53226823e-01,  3.70198637e-01,\n",
       "        -5.17600775e-01],\n",
       "       [ 4.78943177e-02,  1.79810524e+00, -1.41421854e+00,\n",
       "        -1.31293267e-01, -9.38074768e-01,  6.03945136e-01,\n",
       "        -1.18373848e-01, -6.07622005e-02,  1.52960606e-02,\n",
       "        -1.01860726e+00],\n",
       "       [ 2.78158754e-01,  1.61336124e+00,  1.22312570e+00,\n",
       "         5.05864859e-01, -7.73423374e-01,  9.86080706e-01,\n",
       "         1.07696161e-01,  7.79251039e-01, -3.47698152e-01,\n",
       "         4.58910733e-01],\n",
       "       [-3.26115131e-01, -1.27029913e-02,  8.69131804e-01,\n",
       "        -5.88038623e-01, -8.59070063e-01,  8.46095204e-01,\n",
       "         1.42561126e+00, -8.11883807e-01, -8.29307556e-01,\n",
       "        -6.63464665e-01],\n",
       "       [ 2.16408873e+00,  1.08168471e+00, -2.39848197e-01,\n",
       "         3.35615158e-01, -1.18836015e-01, -1.41650414e+00,\n",
       "         9.95633781e-01, -3.36469382e-01,  3.92854176e-02,\n",
       "         8.97873819e-01],\n",
       "       [-2.80738324e-01,  8.16493392e-01,  6.15430772e-01,\n",
       "        -2.35793805e+00, -5.40435970e-01, -1.03367853e+00,\n",
       "         2.66679382e+00, -5.62279820e-01, -1.90406650e-01,\n",
       "         3.80502492e-01],\n",
       "       [ 1.03294611e+00, -2.69623667e-01,  4.70771790e-01,\n",
       "         3.25164884e-01,  2.20223293e-01,  5.48673868e-01,\n",
       "        -8.82754177e-02,  3.88034075e-01,  2.75910556e-01,\n",
       "         1.30823880e-01],\n",
       "       [ 6.61526740e-01,  3.77170555e-02, -1.10806441e+00,\n",
       "         2.23549157e-01, -1.68276265e-01,  2.79278338e-01,\n",
       "         5.31912267e-01, -5.40175438e-01,  6.46492422e-01,\n",
       "        -5.25298536e-01],\n",
       "       [-3.15954238e-01,  1.05682623e+00, -5.23950338e-01,\n",
       "         5.74070334e-01, -3.31309378e-01, -8.62488806e-01,\n",
       "         1.37765396e+00,  2.20277727e-01,  2.52396435e-01,\n",
       "        -9.00588632e-01],\n",
       "       [-4.18924570e-01,  2.04333425e+00, -7.47413695e-01,\n",
       "        -5.73773026e-01,  1.88311386e+00, -1.79579604e+00,\n",
       "         1.33588409e+00,  5.69140732e-01,  1.24186027e+00,\n",
       "        -6.71402991e-01],\n",
       "       [-2.86825061e-01, -4.22769606e-01, -1.45706904e+00,\n",
       "         1.81705818e-01, -1.49749708e+00, -4.27860439e-01,\n",
       "         1.34329057e+00, -5.79361379e-01,  1.70269835e+00,\n",
       "        -4.77321297e-01],\n",
       "       [ 6.78091466e-01, -5.28065026e-01, -8.40308070e-01,\n",
       "        -6.36773109e-01,  2.74191231e-01,  1.23344767e+00,\n",
       "         1.79230958e-01, -2.02274285e-02,  9.97004330e-01,\n",
       "         9.90431756e-02],\n",
       "       [-1.47644055e+00,  2.07529902e-01, -1.18109751e+00,\n",
       "         2.45904312e-01,  1.14934921e+00,  4.84106034e-01,\n",
       "         9.33426380e-01, -2.88579917e+00, -1.07350981e+00,\n",
       "         3.18255156e-01],\n",
       "       [-9.30612862e-01, -1.02506351e+00,  8.56396914e-01,\n",
       "        -5.34235597e-01, -9.96180236e-01,  2.17697516e-01,\n",
       "        -2.02544838e-01,  4.68150258e-01, -1.04573250e-01,\n",
       "        -5.20131946e-01],\n",
       "       [-1.47751540e-01, -1.33713990e-01, -8.68937373e-01,\n",
       "        -7.62173891e-01, -1.83862936e+00, -1.03561258e+00,\n",
       "        -8.65152359e-01, -1.25586057e+00, -4.24630791e-01,\n",
       "         1.56970572e+00],\n",
       "       [-1.20507568e-01,  1.61046255e+00,  1.59586132e+00,\n",
       "         1.26965141e+00,  3.64393443e-01, -1.07172644e+00,\n",
       "         1.61386526e+00, -8.66712868e-01,  4.29128468e-01,\n",
       "         7.54895747e-01],\n",
       "       [ 7.38571882e-01, -2.05242014e+00, -2.97013760e-01,\n",
       "        -9.27901924e-01, -1.57488465e+00, -1.12421072e+00,\n",
       "        -5.04299045e-01,  1.74312842e+00,  7.60595202e-01,\n",
       "         7.45374739e-01],\n",
       "       [ 2.27879867e-01, -1.35675728e-01, -5.41737676e-01,\n",
       "        -2.20115733e+00, -9.10914096e-04,  5.96671641e-01,\n",
       "         2.09591329e-01, -2.33389556e-01, -2.18204832e+00,\n",
       "         2.55101228e+00],\n",
       "       [-1.38079524e+00, -1.75652638e-01, -1.26030529e+00,\n",
       "        -2.13889077e-01,  6.88648820e-01, -3.03751111e-01,\n",
       "         2.90738404e-01, -4.92466331e-01,  1.56521666e+00,\n",
       "        -2.49294257e+00],\n",
       "       [ 7.64397144e-01, -2.52051115e+00,  4.00734037e-01,\n",
       "        -9.23061490e-01, -6.76789343e-01, -9.28010345e-01,\n",
       "         5.73302805e-01, -1.39646983e+00, -2.31939697e+00,\n",
       "         8.53487290e-03],\n",
       "       [ 9.05067027e-01, -4.47743714e-01, -1.23690152e+00,\n",
       "         1.17553461e+00, -2.96654254e-01,  7.47039258e-01,\n",
       "        -6.31420791e-01, -7.42884874e-01, -2.75434226e-01,\n",
       "        -1.72730005e+00],\n",
       "       [ 3.38817835e-01,  2.10032508e-01,  1.04722714e+00,\n",
       "         9.91804153e-02,  1.77178776e+00,  4.47087437e-02,\n",
       "         3.06448984e+00, -1.14423394e+00, -1.78304613e+00,\n",
       "         1.98522890e+00],\n",
       "       [ 1.91032207e+00, -2.05924213e-01, -1.25539958e+00,\n",
       "         1.19977582e+00, -1.16471395e-01, -1.61784161e-02,\n",
       "        -4.44295883e-01, -3.63961411e+00, -2.68930817e+00,\n",
       "        -1.08021259e+00],\n",
       "       [-6.76839530e-01,  5.76193571e-01, -1.29332626e+00,\n",
       "        -2.32415724e+00, -5.10633767e-01, -4.58530366e-01,\n",
       "        -1.11356497e+00,  2.32332468e+00, -6.38766110e-01,\n",
       "        -1.19564354e+00],\n",
       "       [ 9.71836150e-01,  2.27730691e-01, -4.82221603e-01,\n",
       "        -5.82839191e-01, -8.52792636e-02,  4.36023146e-01,\n",
       "         2.05709243e+00, -1.67933273e+00,  3.01287675e+00,\n",
       "        -1.01580404e-01],\n",
       "       [ 2.82381982e-01, -1.74088049e+00, -6.36524558e-01,\n",
       "        -1.38246012e+00,  1.39655149e+00,  1.40401077e+00,\n",
       "        -1.45159984e+00,  9.26168114e-02, -4.60305989e-01,\n",
       "         1.05420768e+00],\n",
       "       [ 9.04051840e-01,  2.28075266e-01,  1.39889789e+00,\n",
       "        -7.93156743e-01,  1.29164326e+00,  3.55546713e-01,\n",
       "         3.41993779e-01,  8.64518166e-01, -6.57119989e-01,\n",
       "         1.28023756e+00],\n",
       "       [ 8.83929491e-01, -1.15054786e+00,  2.18343869e-01,\n",
       "        -1.18859723e-01, -1.26693356e+00, -8.70567560e-01,\n",
       "        -1.51652187e-01, -3.04648131e-01, -1.21429300e+00,\n",
       "         2.64633799e+00],\n",
       "       [-6.49232507e-01, -6.10136807e-01, -6.89456522e-01,\n",
       "        -4.13929731e-01, -8.24941173e-02,  3.74451876e-01,\n",
       "        -4.21261340e-01, -5.22798486e-03,  1.35027242e+00,\n",
       "         2.45286435e-01],\n",
       "       [ 8.30742240e-01, -1.21747009e-01,  2.12255090e-01,\n",
       "        -9.25037742e-01, -1.01475370e+00, -3.20864439e-01,\n",
       "         3.38926345e-01, -6.30453944e-01, -2.73027122e-01,\n",
       "         9.43000793e-01],\n",
       "       [-6.84549689e-01, -6.43551290e-01, -1.86307669e+00,\n",
       "        -3.91506642e-01, -1.30370545e+00, -2.06324172e+00,\n",
       "         1.94911349e+00, -1.12420635e-03,  4.80215937e-01,\n",
       "        -8.28910649e-01],\n",
       "       [ 1.41427314e+00, -3.05411160e-01,  1.01701069e+00,\n",
       "        -1.73938835e+00,  8.58525559e-03,  1.76848844e-01,\n",
       "         3.61086726e-01,  3.65991414e-01, -1.36812761e-01,\n",
       "         2.79731989e-01],\n",
       "       [-1.18495798e+00, -2.33231235e+00, -7.30386898e-02,\n",
       "         2.12193489e-01,  8.51882041e-01, -1.41486943e+00,\n",
       "        -4.05731767e-01,  9.29191113e-01, -1.89505315e+00,\n",
       "         6.92150712e-01],\n",
       "       [ 2.48475462e-01,  8.41724992e-01,  1.71406198e+00,\n",
       "         1.56356382e+00, -1.56344920e-01,  1.03103375e+00,\n",
       "        -1.90096885e-01, -8.43913615e-01, -7.45112538e-01,\n",
       "         2.13496372e-01],\n",
       "       [-5.70642531e-01, -8.15817475e-01,  1.15174031e+00,\n",
       "         1.40176237e-01, -2.78323054e-01, -1.58820665e+00,\n",
       "         1.65868890e+00, -8.50957394e-01, -1.33506203e+00,\n",
       "         1.37145531e+00],\n",
       "       [-6.49032712e-01,  9.79119763e-02,  1.01646972e+00,\n",
       "         2.01911116e+00,  3.07026714e-01,  5.85640132e-01,\n",
       "         6.49764061e-01,  1.18585803e-01, -3.21443826e-01,\n",
       "         5.98867893e-01],\n",
       "       [ 2.92962585e-02, -2.62247413e-01,  7.26683557e-01,\n",
       "         1.04655015e+00, -5.75783372e-01,  3.15643024e+00,\n",
       "        -1.22826509e-01, -7.58578718e-01, -5.07053852e-01,\n",
       "        -8.68701339e-01],\n",
       "       [ 8.41663837e-01,  1.45010781e+00,  8.61396253e-01,\n",
       "        -3.79629523e-01, -1.21557546e+00,  1.84001565e+00,\n",
       "         6.66001499e-01, -1.57300246e+00, -8.48690689e-01,\n",
       "         3.40952754e-01],\n",
       "       [ 5.45273542e-01, -1.18859023e-01, -1.30023375e-01,\n",
       "         9.08569992e-01, -2.24802732e-01, -8.11337292e-01,\n",
       "         1.16528487e+00, -1.91452056e-02, -3.91358107e-01,\n",
       "         7.97499776e-01],\n",
       "       [ 4.75735605e-01, -5.08273721e-01,  5.96728206e-01,\n",
       "        -2.90912747e-01, -1.95443287e-01, -2.15014637e-01,\n",
       "         8.27863455e-01, -1.60197422e-01,  1.41326737e+00,\n",
       "        -1.42592919e+00],\n",
       "       [-4.39172953e-01,  3.53695601e-01,  8.11651886e-01,\n",
       "         1.86276591e+00, -1.41596401e+00, -6.40530229e-01,\n",
       "        -1.48754811e+00, -2.09647703e+00,  4.90047485e-01,\n",
       "        -7.81210482e-01],\n",
       "       [ 1.73142534e-02,  1.90266025e+00, -9.15327013e-01,\n",
       "        -2.27295685e+00,  3.67199183e-02,  7.86311030e-01,\n",
       "        -1.98339999e+00,  1.64410293e-01, -3.34443264e-02,\n",
       "         1.99664092e+00],\n",
       "       [ 1.19629967e+00,  1.24976888e-01, -6.36575699e-01,\n",
       "        -9.42203522e-01,  6.37567602e-03, -4.98336673e-01,\n",
       "         1.59903836e+00,  6.62398100e-01,  3.35512199e-02,\n",
       "        -4.20781702e-01],\n",
       "       [-3.51679549e-02,  1.91542760e-01,  7.87248015e-01,\n",
       "        -1.05188437e-01, -3.65103155e-01,  1.66088557e+00,\n",
       "        -3.78962487e-01,  9.01375189e-02,  4.14027795e-02,\n",
       "         9.21267509e-01],\n",
       "       [-8.19018483e-01, -9.34242606e-01, -8.40743065e-01,\n",
       "        -3.28656852e-01,  5.88484704e-01, -1.37268543e-01,\n",
       "        -1.20476389e+00,  1.19111240e+00,  4.19957668e-01,\n",
       "        -2.06145197e-01],\n",
       "       [ 9.74129617e-01, -4.37515914e-01, -9.40276921e-01,\n",
       "         1.33864224e+00,  4.92961884e-01, -1.54281402e+00,\n",
       "        -2.83351522e-02,  1.40045094e+00,  3.09532881e-02,\n",
       "        -1.66173530e+00],\n",
       "       [-1.02641213e+00,  1.23591200e-01,  3.23288381e-01,\n",
       "        -6.72750950e-01, -5.39232850e-01, -6.49013147e-02,\n",
       "        -4.86669511e-01,  1.15267527e+00, -1.73438489e-02,\n",
       "         8.46654028e-02],\n",
       "       [-5.60835838e-01,  6.90915465e-01, -1.89779210e+00,\n",
       "         7.02809155e-01, -1.79645288e+00, -8.93604875e-01,\n",
       "         4.48068678e-01,  3.86907876e-01, -1.72225431e-01,\n",
       "         3.88837546e-01],\n",
       "       [ 4.40684110e-01,  9.33393776e-01,  4.21576917e-01,\n",
       "         1.42830145e+00, -2.14549065e+00, -4.16052431e-01,\n",
       "        -4.63729382e-01,  7.57895410e-01,  2.77339578e-01,\n",
       "         1.83135951e+00],\n",
       "       [ 3.47569972e-01,  2.11940393e-01, -2.18051291e+00,\n",
       "         5.12911260e-01,  1.21303546e+00,  8.16218138e-01,\n",
       "        -2.16732073e+00,  5.12357652e-01,  9.93429482e-01,\n",
       "        -1.75441992e+00],\n",
       "       [ 1.24293125e+00, -8.82568896e-01, -3.88903826e-01,\n",
       "        -1.97515345e+00,  1.44152951e+00,  2.97428966e-01,\n",
       "        -7.97767267e-02,  2.42027417e-01,  1.93810797e+00,\n",
       "        -1.97547770e+00],\n",
       "       [ 9.44177330e-01, -2.44037181e-01, -3.46079439e-01,\n",
       "        -2.00543594e+00, -6.42997324e-02,  1.02276444e+00,\n",
       "        -5.97508609e-01, -2.00622940e+00, -6.71958029e-02,\n",
       "         4.83714938e-01],\n",
       "       [-3.72738898e-01,  7.81407416e-01,  1.12819707e+00,\n",
       "         3.10512692e-01, -5.21506488e-01,  3.16271156e-01,\n",
       "         1.55448651e+00, -3.41168195e-01,  3.72005887e-02,\n",
       "         2.09439874e-01],\n",
       "       [-2.48140335e+00, -1.46596670e-01, -1.71555027e-01,\n",
       "        -1.54665828e+00,  3.55589688e-01,  8.72967839e-02,\n",
       "        -1.30528891e+00, -4.81354356e-01, -6.10727131e-01,\n",
       "         1.38753569e+00],\n",
       "       [-5.93192637e-01, -1.38201523e+00,  3.34723562e-01,\n",
       "         8.01585734e-01, -1.54191983e+00,  8.92420948e-01,\n",
       "         1.09723568e+00,  1.23831046e+00, -8.22402954e-01,\n",
       "        -2.21166658e+00],\n",
       "       [ 8.46278787e-01,  1.11991131e+00, -8.88785124e-01,\n",
       "         6.15902185e-01, -2.40006351e+00,  3.18013757e-01,\n",
       "         2.08340263e+00, -5.31921625e-01,  7.04425633e-01,\n",
       "         1.83684921e+00],\n",
       "       [-7.86705017e-01, -3.99660647e-01,  7.61868298e-01,\n",
       "         7.60646999e-01, -3.46404403e-01, -5.23740411e-01,\n",
       "        -1.82352707e-01, -4.63402808e-01, -2.09442869e-01,\n",
       "         8.71336460e-01],\n",
       "       [-1.35210648e-01,  4.38782454e-01, -8.40287060e-02,\n",
       "         9.20508385e-01, -1.05101955e+00, -2.95023471e-01,\n",
       "         7.96058416e-01, -5.34305036e-01,  4.06642914e-01,\n",
       "        -6.72248960e-01]], dtype=float32)>"
      ]
     },
     "execution_count": 26,
     "metadata": {},
     "output_type": "execute_result"
    }
   ],
   "source": [
    "b2 = tf.Variable(tf.random.normal([10]))\n",
    "W2 = tf.Variable(tf.random.normal([100,10]))\n",
    "W2"
   ]
  },
  {
   "cell_type": "markdown",
   "metadata": {},
   "source": [
    "Recordar que es necesario tener entre capa y capa una función de activación no lineal "
   ]
  },
  {
   "cell_type": "code",
   "execution_count": 27,
   "metadata": {},
   "outputs": [],
   "source": [
    "optimizador = tf.keras.optimizers.experimental.SGD(learning_rate=0.1)\n"
   ]
  },
  {
   "cell_type": "code",
   "execution_count": 20,
   "metadata": {},
   "outputs": [
    {
     "name": "stdout",
     "output_type": "stream",
     "text": [
      "tf.Tensor(1.6361781, shape=(), dtype=float32)\n",
      "tf.Tensor(0.6673584, shape=(), dtype=float32)\n",
      "tf.Tensor(0.5395781, shape=(), dtype=float32)\n",
      "tf.Tensor(0.47548464, shape=(), dtype=float32)\n",
      "tf.Tensor(0.43467414, shape=(), dtype=float32)\n",
      "tf.Tensor(0.40595, shape=(), dtype=float32)\n",
      "tf.Tensor(0.3839376, shape=(), dtype=float32)\n",
      "tf.Tensor(0.36651787, shape=(), dtype=float32)\n",
      "tf.Tensor(0.35213965, shape=(), dtype=float32)\n",
      "tf.Tensor(0.3398551, shape=(), dtype=float32)\n"
     ]
    }
   ],
   "source": [
    "epochs = 10\n",
    "for _ in range(epochs):\n",
    "  loss_epoch = 0\n",
    "  for x,y in train_dataset: # Es un batch\n",
    "    with tf.GradientTape() as gt:\n",
    "      # Forward\n",
    "      operacion_matricial = tf.matmul(x,W1)+b1 # Primera capa\n",
    "      capa1 = tf.nn.relu(operacion_matricial)\n",
    "\n",
    "      capa2 = tf.matmul(capa1,W2)+b2\n",
    "\n",
    "      probs = tf.nn.softmax(capa2)\n",
    "\n",
    "        # Loss\n",
    "      prob_as = probs*y # Probabilidades de las clases correctas (a)\n",
    "      vec_probs = tf.reduce_sum(prob_as,axis=1)\n",
    "      x_ent = -tf.math.log(vec_probs)\n",
    "      loss = tf.reduce_mean(x_ent)\n",
    "\n",
    "      # Backward\n",
    "      optimizador.minimize(loss,[W1,b1,W2,b2],gt) # No olvidar cuáles son los parámetros a ajustar\n",
    "\n",
    "    loss_epoch += loss/len(train_dataset)\n",
    "  print(loss_epoch)"
   ]
  },
  {
   "cell_type": "markdown",
   "metadata": {},
   "source": []
  },
  {
   "cell_type": "code",
   "execution_count": 21,
   "metadata": {},
   "outputs": [
    {
     "name": "stdout",
     "output_type": "stream",
     "text": [
      "tf.Tensor(0.9008, shape=(), dtype=float32)\n"
     ]
    }
   ],
   "source": [
    "# Salida\n",
    "operacion_matricial = tf.matmul(X_test,W1)+b1\n",
    "capa1 = tf.nn.relu(operacion_matricial)\n",
    "\n",
    "capa2 = tf.matmul(capa1,W2)+b2\n",
    "\n",
    "probs = tf.nn.softmax(capa2)\n",
    "\n",
    "# Comparación\n",
    "max_preds = tf.argmax(probs,1)\n",
    "max_trues = tf.argmax(y_test,1)\n",
    "\n",
    "numCorrectos = tf.equal(max_preds,max_trues)\n",
    "acc = tf.reduce_mean(tf.cast(numCorrectos,tf.float32))\n",
    "print(acc)"
   ]
  },
  {
   "cell_type": "markdown",
   "metadata": {},
   "source": [
    " # Agregando función de activación a la segunda capa "
   ]
  },
  {
   "cell_type": "code",
   "execution_count": 28,
   "metadata": {},
   "outputs": [
    {
     "name": "stdout",
     "output_type": "stream",
     "text": [
      "tf.Tensor(2.010554, shape=(), dtype=float32)\n",
      "tf.Tensor(1.6242188, shape=(), dtype=float32)\n",
      "tf.Tensor(1.4916096, shape=(), dtype=float32)\n",
      "tf.Tensor(1.4310433, shape=(), dtype=float32)\n",
      "tf.Tensor(1.3865687, shape=(), dtype=float32)\n",
      "tf.Tensor(1.3044662, shape=(), dtype=float32)\n",
      "tf.Tensor(1.231862, shape=(), dtype=float32)\n",
      "tf.Tensor(1.199813, shape=(), dtype=float32)\n",
      "tf.Tensor(1.1814293, shape=(), dtype=float32)\n",
      "tf.Tensor(1.1684906, shape=(), dtype=float32)\n"
     ]
    }
   ],
   "source": [
    "epochs = 10\n",
    "for _ in range(epochs):\n",
    "  loss_epoch = 0\n",
    "  for x,y in train_dataset: # Es un batch\n",
    "    with tf.GradientTape() as gt:\n",
    "      # Forward\n",
    "      operacion_matricial = tf.matmul(x,W1)+b1 # Primera capa\n",
    "      capa1 = tf.nn.relu(operacion_matricial)\n",
    "\n",
    "      operacion_matricial2 = tf.matmul(capa1,W2)+b2 # Primera capa\n",
    "      capa2 = tf.nn.relu(operacion_matricial2)\n",
    "\n",
    "      probs = tf.nn.softmax(capa2)\n",
    "\n",
    "        # Loss\n",
    "      prob_as = probs*y # Probabilidades de las clases correctas (a)\n",
    "      vec_probs = tf.reduce_sum(prob_as,axis=1)\n",
    "      x_ent = -tf.math.log(vec_probs)\n",
    "      loss = tf.reduce_mean(x_ent)\n",
    "\n",
    "      # Backward\n",
    "      optimizador.minimize(loss,[W1,b1,W2,b2],gt) # No olvidar cuáles son los parámetros a ajustar\n",
    "\n",
    "    loss_epoch += loss/len(train_dataset)\n",
    "  print(loss_epoch)"
   ]
  },
  {
   "cell_type": "code",
   "execution_count": 29,
   "metadata": {},
   "outputs": [
    {
     "name": "stdout",
     "output_type": "stream",
     "text": [
      "tf.Tensor(0.5595, shape=(), dtype=float32)\n"
     ]
    }
   ],
   "source": [
    "# Salida\n",
    "operacion_matricial = tf.matmul(X_test,W1)+b1\n",
    "capa1 = tf.nn.relu(operacion_matricial)\n",
    "\n",
    "capa1 = tf.nn.relu(operacion_matricial)\n",
    "\n",
    "operacion_matricial2 = tf.matmul(capa1,W2)+b2 # Primera capa\n",
    "capa2 = tf.nn.relu(operacion_matricial2)\n",
    "\n",
    "\n",
    "probs = tf.nn.softmax(capa2)\n",
    "\n",
    "# Comparación\n",
    "max_preds = tf.argmax(probs,1)\n",
    "max_trues = tf.argmax(y_test,1)\n",
    "\n",
    "numCorrectos = tf.equal(max_preds,max_trues)\n",
    "acc = tf.reduce_mean(tf.cast(numCorrectos,tf.float32))\n",
    "print(acc)"
   ]
  },
  {
   "cell_type": "markdown",
   "metadata": {},
   "source": [
    "En este caso agregar una función RELU a la segunda capa no mejoró la accuracy de la clasificación de números y en este caso el SOFTMAX está recibiendo la salida de la capa2 y si ya tiene valores muy pequeños y afecta al calculo de la probabilidad "
   ]
  }
 ],
 "metadata": {
  "kernelspec": {
   "display_name": "Python 3",
   "language": "python",
   "name": "python3"
  },
  "language_info": {
   "codemirror_mode": {
    "name": "ipython",
    "version": 3
   },
   "file_extension": ".py",
   "mimetype": "text/x-python",
   "name": "python",
   "nbconvert_exporter": "python",
   "pygments_lexer": "ipython3",
   "version": "3.10.5"
  },
  "orig_nbformat": 4
 },
 "nbformat": 4,
 "nbformat_minor": 2
}
