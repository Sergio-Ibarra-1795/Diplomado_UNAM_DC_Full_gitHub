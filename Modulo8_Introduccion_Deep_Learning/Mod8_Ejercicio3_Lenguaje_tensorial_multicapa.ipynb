{
 "cells": [
  {
   "cell_type": "markdown",
   "metadata": {},
   "source": [
    "#### <font color=\"#03997A\"> Diplomado en Ciencia de datos UNAM </font>\n",
    "\n",
    "##### <font color=\"#03997A\"> Dr: Alejandro Pimentel  </font>\n",
    "\n",
    "##### <font color=\"#03997A\"> Modulo 8 Introducción al Deep Learning </font>\n",
    "\n",
    "##### <font color=\"#03997A\"> Tema 3 Representación de operaciones matriciales en lenguaje tensorial (aplicado a clasicación de imagenes de numeros)    Alumno: Ibarra Ramírez Sergio </font>"
   ]
  },
  {
   "cell_type": "markdown",
   "metadata": {},
   "source": [
    "La data será tomada de: MNIST handwritten digit database, Yann LeCun, Corinna Cortes and Chris Burges"
   ]
  },
  {
   "cell_type": "markdown",
   "metadata": {},
   "source": [
    "Se descargará la data de los digitos escritos a mano"
   ]
  },
  {
   "cell_type": "code",
   "execution_count": 24,
   "metadata": {},
   "outputs": [
    {
     "name": "stdout",
     "output_type": "stream",
     "text": [
      "Downloaded train-images-idx3-ubyte.gz\n",
      "Downloaded train-labels-idx1-ubyte.gz\n",
      "Downloaded t10k-images-idx3-ubyte.gz\n",
      "Downloaded t10k-labels-idx1-ubyte.gz\n"
     ]
    }
   ],
   "source": [
    "import requests\n",
    "\n",
    "urls = [\n",
    "    \"http://yann.lecun.com/exdb/mnist/train-images-idx3-ubyte.gz\",\n",
    "    \"http://yann.lecun.com/exdb/mnist/train-labels-idx1-ubyte.gz\",\n",
    "    \"http://yann.lecun.com/exdb/mnist/t10k-images-idx3-ubyte.gz\",\n",
    "    \"http://yann.lecun.com/exdb/mnist/t10k-labels-idx1-ubyte.gz\"\n",
    "]\n",
    "\n",
    "for url in urls:\n",
    "    filename = url.split(\"/\")[-1]  # Extract the filename from the URL\n",
    "    response = requests.get(url)\n",
    "    with open(filename, \"wb\") as f:\n",
    "        f.write(response.content)\n",
    "    print(f\"Downloaded {filename}\")\n"
   ]
  },
  {
   "cell_type": "markdown",
   "metadata": {},
   "source": [
    "Se deben descomprimir los datos pues están en modo .gz"
   ]
  },
  {
   "cell_type": "markdown",
   "metadata": {},
   "source": []
  },
  {
   "cell_type": "code",
   "execution_count": 25,
   "metadata": {},
   "outputs": [],
   "source": [
    "import idx2numpy\n",
    "\n",
    "ruta_train_images = 'train-images-idx3-ubyte'\n",
    "ruta_train_labels = 'train-labels-idx1-ubyte'\n",
    "ruta_test_images = 't10k-images-idx3-ubyte'\n",
    "ruta_test_labels = 't10k-labels-idx1-ubyte'\n",
    "\n",
    "train_images = idx2numpy.convert_from_file(ruta_train_images)\n",
    "train_labels = idx2numpy.convert_from_file(ruta_train_labels)\n",
    "test_images = idx2numpy.convert_from_file(ruta_test_images)\n",
    "test_labels = idx2numpy.convert_from_file(ruta_test_labels)"
   ]
  },
  {
   "cell_type": "code",
   "execution_count": 26,
   "metadata": {},
   "outputs": [
    {
     "data": {
      "text/plain": [
       "array([7, 2, 1, ..., 4, 5, 6], dtype=uint8)"
      ]
     },
     "execution_count": 26,
     "metadata": {},
     "output_type": "execute_result"
    }
   ],
   "source": [
    "test_labels"
   ]
  },
  {
   "cell_type": "code",
   "execution_count": 27,
   "metadata": {},
   "outputs": [
    {
     "name": "stdout",
     "output_type": "stream",
     "text": [
      "(60000, 28, 28)\n",
      "(60000,)\n",
      "(10000, 28, 28)\n",
      "(10000,)\n"
     ]
    }
   ],
   "source": [
    "print(train_images.shape)\n",
    "print(train_labels.shape)\n",
    "print(test_images.shape)\n",
    "print(test_labels.shape)"
   ]
  },
  {
   "cell_type": "markdown",
   "metadata": {},
   "source": [
    "Para intentar visualizar los datos "
   ]
  },
  {
   "cell_type": "code",
   "execution_count": 28,
   "metadata": {},
   "outputs": [
    {
     "data": {
      "image/png": "[encoded data removed]",
      "text/plain": [
       "<Figure size 432x288 with 5 Axes>"
      ]
     },
     "metadata": {},
     "output_type": "display_data"
    }
   ],
   "source": [
    "import matplotlib.pyplot as plt\n",
    "\n",
    "imagenes_mostrar = train_images[:5] # unas 5\n",
    "labels_mostrar = train_labels[:5]\n",
    "for i, (img,label) in enumerate(zip(imagenes_mostrar,labels_mostrar)):\n",
    "    plt.subplot(151 + i) #esto es para que las ponga lado a lado, se interpreta cada dígito (1: renglon, 5:columnas, x: el indice en el que se va poniendo)\n",
    "    plt.imshow(img)\n",
    "    plt.xticks([])\n",
    "    plt.yticks([])\n",
    "    plt.title(label)"
   ]
  },
  {
   "cell_type": "code",
   "execution_count": 29,
   "metadata": {},
   "outputs": [
    {
     "data": {
      "text/plain": [
       "(60000, 784)"
      ]
     },
     "execution_count": 29,
     "metadata": {},
     "output_type": "execute_result"
    }
   ],
   "source": [
    "train_images.reshape([-1,784]).shape"
   ]
  },
  {
   "cell_type": "markdown",
   "metadata": {},
   "source": [
    "Volvemos a importar los datos y normalizarlos "
   ]
  },
  {
   "cell_type": "code",
   "execution_count": 30,
   "metadata": {},
   "outputs": [
    {
     "name": "stderr",
     "output_type": "stream",
     "text": [
      "c:\\Users\\Sergio\\AppData\\Local\\Programs\\Python\\Python310\\lib\\site-packages\\sklearn\\datasets\\_openml.py:968: FutureWarning: The default value of `parser` will change from `'liac-arff'` to `'auto'` in 1.4. You can set `parser='auto'` to silence this warning. Therefore, an `ImportError` will be raised from 1.4 if the dataset is dense and pandas is not installed. Note that the pandas parser may return different data types. See the Notes Section in fetch_openml's API doc for details.\n",
      "  warn(\n"
     ]
    }
   ],
   "source": [
    "from sklearn.datasets import fetch_openml\n",
    "from sklearn.preprocessing import normalize\n",
    "\n",
    "X,y = fetch_openml('mnist_784', as_frame=False, return_X_y=True)"
   ]
  },
  {
   "cell_type": "code",
   "execution_count": 31,
   "metadata": {},
   "outputs": [
    {
     "data": {
      "text/plain": [
       "array([[0., 0., 0., ..., 0., 0., 0.],\n",
       "       [0., 0., 0., ..., 0., 0., 0.],\n",
       "       [0., 0., 0., ..., 0., 0., 0.],\n",
       "       ...,\n",
       "       [0., 0., 0., ..., 0., 0., 0.],\n",
       "       [0., 0., 0., ..., 0., 0., 0.],\n",
       "       [0., 0., 0., ..., 0., 0., 0.]])"
      ]
     },
     "execution_count": 31,
     "metadata": {},
     "output_type": "execute_result"
    }
   ],
   "source": [
    "X"
   ]
  },
  {
   "cell_type": "code",
   "execution_count": 32,
   "metadata": {},
   "outputs": [
    {
     "data": {
      "text/plain": [
       "(70000, 784)"
      ]
     },
     "execution_count": 32,
     "metadata": {},
     "output_type": "execute_result"
    }
   ],
   "source": [
    "X.shape"
   ]
  },
  {
   "cell_type": "code",
   "execution_count": 33,
   "metadata": {},
   "outputs": [
    {
     "data": {
      "text/plain": [
       "(70000,)"
      ]
     },
     "execution_count": 33,
     "metadata": {},
     "output_type": "execute_result"
    }
   ],
   "source": [
    "y.shape"
   ]
  },
  {
   "cell_type": "code",
   "execution_count": 34,
   "metadata": {},
   "outputs": [],
   "source": [
    "X = normalize(X)"
   ]
  },
  {
   "cell_type": "code",
   "execution_count": 35,
   "metadata": {},
   "outputs": [],
   "source": [
    "X_train = X[:60000]\n",
    "X_test = X[60000:]\n",
    "y_train = y[:60000]\n",
    "y_test = y[60000:]"
   ]
  },
  {
   "cell_type": "code",
   "execution_count": 36,
   "metadata": {},
   "outputs": [
    {
     "data": {
      "text/plain": [
       "array([[0., 0., 0., ..., 0., 0., 0.],\n",
       "       [0., 0., 0., ..., 0., 0., 0.],\n",
       "       [0., 0., 0., ..., 0., 0., 0.],\n",
       "       ...,\n",
       "       [0., 0., 0., ..., 0., 0., 0.],\n",
       "       [0., 0., 0., ..., 0., 0., 0.],\n",
       "       [0., 0., 0., ..., 0., 0., 0.]])"
      ]
     },
     "execution_count": 36,
     "metadata": {},
     "output_type": "execute_result"
    }
   ],
   "source": [
    "X_train"
   ]
  },
  {
   "cell_type": "code",
   "execution_count": 37,
   "metadata": {},
   "outputs": [
    {
     "data": {
      "text/plain": [
       "(60000, 784)"
      ]
     },
     "execution_count": 37,
     "metadata": {},
     "output_type": "execute_result"
    }
   ],
   "source": [
    "X_train.shape"
   ]
  },
  {
   "cell_type": "code",
   "execution_count": 38,
   "metadata": {},
   "outputs": [
    {
     "data": {
      "text/plain": [
       "(60000,)"
      ]
     },
     "execution_count": 38,
     "metadata": {},
     "output_type": "execute_result"
    }
   ],
   "source": [
    "y_train.shape"
   ]
  },
  {
   "cell_type": "markdown",
   "metadata": {},
   "source": [
    "##### Vamos a hacer Encoding de nuestros datos de entrnamiento "
   ]
  },
  {
   "cell_type": "code",
   "execution_count": 39,
   "metadata": {},
   "outputs": [
    {
     "name": "stderr",
     "output_type": "stream",
     "text": [
      "c:\\Users\\Sergio\\AppData\\Local\\Programs\\Python\\Python310\\lib\\site-packages\\sklearn\\preprocessing\\_encoders.py:868: FutureWarning: `sparse` was renamed to `sparse_output` in version 1.2 and will be removed in 1.4. `sparse_output` is ignored unless you leave `sparse` to its default value.\n",
      "  warnings.warn(\n"
     ]
    }
   ],
   "source": [
    "from sklearn.preprocessing import OneHotEncoder\n",
    "\n",
    "codificador = OneHotEncoder(handle_unknown='ignore',sparse=False)\n",
    "y_train = codificador.fit_transform(y_train.reshape(-1,1))\n",
    "y_test = codificador.transform(y_test.reshape(-1,1))"
   ]
  },
  {
   "cell_type": "markdown",
   "metadata": {},
   "source": [
    "#### Uso de Tensorflow para operaciones matriciales en redes neuronales "
   ]
  },
  {
   "cell_type": "code",
   "execution_count": 40,
   "metadata": {},
   "outputs": [],
   "source": [
    "import tensorflow as tf"
   ]
  },
  {
   "cell_type": "markdown",
   "metadata": {},
   "source": [
    "##### Preparación del dataset"
   ]
  },
  {
   "cell_type": "code",
   "execution_count": 41,
   "metadata": {},
   "outputs": [],
   "source": [
    "X_train = tf.constant(X_train, dtype=tf.float32)\n",
    "X_test = tf.constant(X_test, dtype=tf.float32)\n",
    "y_train = tf.constant(y_train, dtype=tf.float32)\n",
    "y_test = tf.constant(y_test, dtype=tf.float32)"
   ]
  },
  {
   "cell_type": "code",
   "execution_count": 42,
   "metadata": {},
   "outputs": [
    {
     "data": {
      "text/plain": [
       "<_TensorSliceDataset element_spec=(TensorSpec(shape=(784,), dtype=tf.float32, name=None), TensorSpec(shape=(10,), dtype=tf.float32, name=None))>"
      ]
     },
     "execution_count": 42,
     "metadata": {},
     "output_type": "execute_result"
    }
   ],
   "source": [
    "train_dataset = tf.data.Dataset.from_tensor_slices((X_train, y_train))\n",
    "train_dataset"
   ]
  },
  {
   "cell_type": "code",
   "execution_count": 43,
   "metadata": {},
   "outputs": [],
   "source": [
    "batch_size = 100 # Hiperparámetro\n",
    "train_dataset = train_dataset.shuffle(batch_size).batch(batch_size)"
   ]
  },
  {
   "cell_type": "markdown",
   "metadata": {},
   "source": [
    "### Si no se normaliza la entrada el calculo del gradiente, es decir, de la pendiente puede provocar \"pasos muy grandes\" en cierta dirección y \"pasos muy chicos\" en otra, lo que podría dificultar y/o impedir la conversión del algoritmo del descenco del gradiente"
   ]
  },
  {
   "cell_type": "markdown",
   "metadata": {},
   "source": [
    "Otra cosa que se debe verificar es el learning rate "
   ]
  },
  {
   "cell_type": "markdown",
   "metadata": {},
   "source": [
    "## Red multicapa  "
   ]
  },
  {
   "cell_type": "markdown",
   "metadata": {},
   "source": [
    "Se va requerir un juego de pesos por cada capa que se agrega"
   ]
  },
  {
   "cell_type": "code",
   "execution_count": 19,
   "metadata": {},
   "outputs": [
    {
     "data": {
      "text/plain": [
       "<tf.Variable 'Variable:0' shape=(784, 100) dtype=float32, numpy=\n",
       "array([[-0.29167536, -0.41995493,  1.0119617 , ..., -0.47638288,\n",
       "         0.2933027 ,  1.0440025 ],\n",
       "       [ 1.5352141 ,  2.0317655 , -0.95383745, ..., -0.08907662,\n",
       "         1.6766299 ,  1.2369276 ],\n",
       "       [-0.57103926, -1.490749  ,  0.21295835, ..., -2.4531808 ,\n",
       "         0.16458488,  1.4764191 ],\n",
       "       ...,\n",
       "       [-0.16405097, -0.26322296,  2.965719  , ..., -0.16414678,\n",
       "         0.25119546, -1.7322811 ],\n",
       "       [ 0.58999014,  1.2022154 ,  0.11109366, ..., -2.00684   ,\n",
       "        -1.6691767 , -0.58229494],\n",
       "       [ 0.20810874,  0.29348165, -0.60216534, ...,  0.56528324,\n",
       "         0.66681886, -1.0743164 ]], dtype=float32)>"
      ]
     },
     "execution_count": 19,
     "metadata": {},
     "output_type": "execute_result"
    }
   ],
   "source": [
    "b1 = tf.Variable(tf.random.normal([100]))\n",
    "W1 = tf.Variable(tf.random.normal([784,100]))\n",
    "W1"
   ]
  },
  {
   "cell_type": "code",
   "execution_count": 20,
   "metadata": {},
   "outputs": [
    {
     "data": {
      "text/plain": [
       "<tf.Variable 'Variable:0' shape=(100, 10) dtype=float32, numpy=\n",
       "array([[ 2.45277330e-01,  3.45116198e-01, -3.41964573e-01,\n",
       "        -1.01242709e+00, -5.53543270e-01, -1.15337408e+00,\n",
       "         1.37621999e+00, -1.39781260e+00, -1.04342186e+00,\n",
       "        -4.64849353e-01],\n",
       "       [ 1.13468587e+00,  4.43222165e-01,  9.89424050e-01,\n",
       "        -3.04644614e-01,  4.28517938e-01, -7.99076706e-02,\n",
       "        -1.05278563e+00, -8.66714239e-01, -3.40859666e-02,\n",
       "        -1.75310576e+00],\n",
       "       [ 1.74385607e+00,  1.18213606e+00,  7.25450873e-01,\n",
       "        -1.92813918e-01,  1.90840773e-02,  5.81369221e-01,\n",
       "         5.23419797e-01,  1.41246930e-01,  7.60499001e-01,\n",
       "         1.69682264e-01],\n",
       "       [ 1.57605428e-02, -1.85647750e+00,  6.53909326e-01,\n",
       "         7.53739536e-01,  1.63813442e-01,  1.77272606e+00,\n",
       "        -6.40285790e-01,  3.05746943e-01, -1.05290556e+00,\n",
       "         8.19672227e-01],\n",
       "       [-8.66268218e-01, -2.12488800e-01, -6.17010713e-01,\n",
       "        -1.26475358e+00, -3.54583859e-01,  2.44931996e-01,\n",
       "         1.70423472e+00, -2.07146123e-01, -1.56500146e-01,\n",
       "        -3.85313541e-01],\n",
       "       [-3.96866471e-01,  1.15124142e+00,  3.44841748e-01,\n",
       "        -8.93270850e-01,  4.75738585e-01,  1.22330523e+00,\n",
       "         4.83830601e-01,  9.74996030e-01, -1.31687999e+00,\n",
       "        -2.06958365e+00],\n",
       "       [ 2.62552381e-01, -1.61162639e+00,  1.60459161e+00,\n",
       "         3.32355440e-01, -8.90350640e-01,  1.83685935e+00,\n",
       "         6.69262707e-02,  2.42744192e-01, -1.21880054e+00,\n",
       "         7.91925728e-01],\n",
       "       [ 4.55111593e-01, -8.27057481e-01, -1.15081120e+00,\n",
       "         8.82124007e-01, -1.18098509e+00,  2.33091879e+00,\n",
       "         4.99505363e-02, -4.76259977e-01, -6.48720443e-01,\n",
       "        -1.02934921e+00],\n",
       "       [ 9.61679399e-01, -6.26542628e-01, -1.85938656e-01,\n",
       "         6.65749423e-03, -1.50761795e+00,  1.45800567e+00,\n",
       "         2.36616254e-01, -1.80177420e-01, -1.59924316e+00,\n",
       "        -9.06561222e-03],\n",
       "       [-1.99719346e+00,  6.83944583e-01, -1.14942670e+00,\n",
       "        -1.86470759e+00,  1.44330347e+00,  8.88141692e-01,\n",
       "        -1.73987973e+00,  1.10462391e+00, -1.17729211e+00,\n",
       "        -1.44680664e-01],\n",
       "       [ 1.12479411e-01, -9.58509088e-01,  1.11918044e+00,\n",
       "         2.43222073e-01, -2.45950177e-01, -3.50273013e-01,\n",
       "         5.92185259e-01,  3.62032324e-01, -8.74593258e-01,\n",
       "         3.57095420e-01],\n",
       "       [ 1.57365942e+00,  1.38316250e+00,  4.22160983e-01,\n",
       "         3.00953407e-02, -8.66401136e-01, -9.29056033e-02,\n",
       "        -3.72436009e-02,  1.17583001e+00, -8.20692360e-01,\n",
       "         1.24457693e+00],\n",
       "       [ 1.42606091e+00,  6.90730035e-01,  8.03253472e-01,\n",
       "         8.78203101e-03, -3.26520979e-01,  3.67827445e-01,\n",
       "        -6.95379853e-01, -1.35568291e-01, -3.79239827e-01,\n",
       "         4.36076820e-01],\n",
       "       [-6.90821230e-01, -5.68967283e-01, -2.20216244e-01,\n",
       "        -2.70622969e-01, -4.81964618e-01,  7.36006320e-01,\n",
       "        -2.05263853e+00, -1.22533810e+00,  2.41366482e+00,\n",
       "        -9.85845089e-01],\n",
       "       [-1.30801046e+00,  2.23812535e-01, -9.86780345e-01,\n",
       "        -3.51514667e-02,  2.26383522e-01,  1.35131013e+00,\n",
       "         4.29362923e-01,  3.63071471e-01, -1.61407447e+00,\n",
       "        -5.19305825e-01],\n",
       "       [-6.51262850e-02, -1.29039407e+00,  7.16964126e-01,\n",
       "        -5.08005440e-01,  1.04374915e-01, -6.16777092e-02,\n",
       "        -7.16731921e-02, -3.29764545e-01,  5.91927528e-01,\n",
       "        -1.04168937e-01],\n",
       "       [-1.27668035e+00, -2.49335364e-01,  1.15122640e+00,\n",
       "        -5.29107273e-01, -8.59786093e-01, -1.14310479e+00,\n",
       "        -1.66800117e+00, -7.13987291e-01, -1.25294313e-01,\n",
       "         1.26196599e+00],\n",
       "       [-5.64280808e-01,  4.70912009e-01,  2.60886937e-01,\n",
       "        -3.92599940e-01, -1.12569499e+00,  1.32911050e+00,\n",
       "        -9.02745605e-01, -1.96162444e-02, -1.66596305e+00,\n",
       "        -1.27409190e-01],\n",
       "       [ 5.80667853e-01,  2.90427279e+00,  1.54710725e-01,\n",
       "         3.57737064e-01,  6.18134141e-01, -8.21052134e-01,\n",
       "        -9.97444391e-01,  1.69994581e+00, -1.49345756e+00,\n",
       "        -4.41064626e-01],\n",
       "       [ 3.63028020e-01,  1.02511299e+00,  1.44168019e+00,\n",
       "        -5.96952200e-01,  1.84002638e+00, -5.64260781e-01,\n",
       "         2.02064562e+00, -1.13912618e+00, -9.56873238e-01,\n",
       "         7.57915437e-01],\n",
       "       [ 1.04300320e+00,  7.94384003e-01, -4.69600081e-01,\n",
       "         9.22185481e-01, -9.86118972e-01,  4.80786949e-01,\n",
       "        -1.20766747e+00,  6.40899718e-01, -1.28577197e+00,\n",
       "        -1.92318940e+00],\n",
       "       [ 2.96574056e-01, -1.45527160e+00,  3.04079562e-01,\n",
       "        -1.21162784e+00,  5.00019729e-01,  1.77343264e-01,\n",
       "         1.50376058e+00, -9.27222490e-01,  4.51223671e-01,\n",
       "        -5.16421854e-01],\n",
       "       [ 8.52319181e-01,  6.15514398e-01,  7.55164146e-01,\n",
       "         1.42893583e-01, -1.38835394e+00, -1.22662377e+00,\n",
       "         1.77729356e+00, -6.21276438e-01,  1.50945032e+00,\n",
       "        -7.54614413e-01],\n",
       "       [ 5.85726023e-01,  3.26367199e-01, -4.54665780e-01,\n",
       "        -5.07824607e-02,  1.85723531e+00, -2.46760637e-01,\n",
       "         2.67162442e-01, -3.95691037e-01, -9.10569057e-02,\n",
       "        -2.01758552e+00],\n",
       "       [ 1.00881386e+00, -1.46315002e+00,  9.51977313e-01,\n",
       "         7.28961706e-01, -2.82778054e-01, -5.20712249e-02,\n",
       "         1.92651439e+00,  1.38563621e+00, -2.69755125e-01,\n",
       "         5.61629720e-02],\n",
       "       [ 1.76545775e+00, -1.06518245e+00, -6.72415614e-01,\n",
       "         8.91745463e-02, -3.19064140e-01,  1.18629241e+00,\n",
       "         2.16628718e+00,  1.10641730e+00, -1.36247003e+00,\n",
       "        -1.42118621e+00],\n",
       "       [-1.57826960e-01, -1.78575051e+00, -4.65596318e-01,\n",
       "         7.33316004e-01, -2.07741213e+00, -6.29885912e-01,\n",
       "        -1.32801652e+00, -8.71024013e-01, -8.06884527e-01,\n",
       "        -1.32802808e+00],\n",
       "       [-1.28579721e-01, -2.15991601e-01,  4.07543391e-01,\n",
       "        -1.78977895e+00,  1.88192666e-01,  6.47889078e-01,\n",
       "         2.86236823e-01, -8.79796922e-01, -7.85398841e-01,\n",
       "         1.22436345e+00],\n",
       "       [-9.03949812e-02,  6.59327924e-01, -4.41303477e-02,\n",
       "        -8.87337863e-01,  7.35598624e-01,  7.69667447e-01,\n",
       "        -7.10968733e-01,  2.21992955e-01, -5.19193187e-02,\n",
       "        -5.07689357e-01],\n",
       "       [ 1.87166154e-01, -4.56475675e-01, -1.15567601e+00,\n",
       "        -2.49789312e-01, -7.40378797e-01,  8.47724155e-02,\n",
       "         6.18969321e-01,  2.03942642e-01, -9.72882092e-01,\n",
       "         1.50770748e+00],\n",
       "       [-1.00230408e+00,  4.81369197e-01, -8.90461326e-01,\n",
       "         4.45470333e-01,  5.95105402e-02, -1.64080930e+00,\n",
       "        -1.42858350e+00, -2.32157946e-01, -3.04190540e+00,\n",
       "        -2.22810030e-01],\n",
       "       [-6.01853132e-01,  7.28520453e-01,  2.85762828e-03,\n",
       "         4.95280325e-01, -1.46264303e+00,  5.69670975e-01,\n",
       "        -4.43317205e-01, -1.21012338e-01,  6.08345628e-01,\n",
       "         1.33789822e-01],\n",
       "       [ 1.07416272e+00, -1.54935956e+00, -1.48052359e+00,\n",
       "        -4.35535282e-01, -2.41585827e+00,  7.90103674e-01,\n",
       "         8.30753624e-01,  4.97477978e-01,  1.70283413e+00,\n",
       "         8.65741491e-01],\n",
       "       [ 4.71583068e-01,  8.27342033e-01, -6.45659208e-01,\n",
       "         9.04439911e-02,  2.06981134e+00, -7.05498934e-01,\n",
       "        -9.33020115e-01, -3.56644064e-01, -5.17131329e-01,\n",
       "         1.15506327e+00],\n",
       "       [-1.26809227e+00, -1.41262782e+00,  1.73633039e+00,\n",
       "        -3.49688351e-01, -1.89702165e+00,  1.60063803e+00,\n",
       "         8.00295651e-01,  2.06621706e-01, -7.79193342e-01,\n",
       "         1.39161482e-01],\n",
       "       [ 4.27471727e-01, -1.42787904e-01,  7.77145207e-01,\n",
       "        -5.11978209e-01,  4.51012462e-01, -1.38706732e+00,\n",
       "         2.24537820e-01, -4.60605443e-01, -8.51665020e-01,\n",
       "         7.81194448e-01],\n",
       "       [-1.32568300e+00, -9.87332463e-01, -7.75378823e-01,\n",
       "         9.05229926e-01, -3.42049032e-01, -1.55889183e-01,\n",
       "        -1.47573066e+00,  1.72713935e+00, -2.43552640e-01,\n",
       "         2.62174869e+00],\n",
       "       [ 6.47633612e-01, -1.27023971e+00,  1.04406142e+00,\n",
       "         2.17638874e+00,  8.02512169e-01, -2.10733756e-01,\n",
       "        -5.65879107e-01, -6.19100392e-01,  4.82809454e-01,\n",
       "        -1.32386231e+00],\n",
       "       [-3.48052084e-02,  1.46144176e+00,  3.06922108e-01,\n",
       "        -1.82112157e+00, -3.79993647e-01,  7.72902250e-01,\n",
       "         1.70337602e-01, -2.56896287e-01,  6.79934472e-02,\n",
       "        -9.95393455e-01],\n",
       "       [-1.11786449e+00,  3.90855163e-01,  1.06953263e+00,\n",
       "         2.25744709e-01,  1.67924178e+00, -2.83541024e-01,\n",
       "        -1.78848958e+00, -8.93273294e-01,  2.50182033e-01,\n",
       "        -4.97452050e-01],\n",
       "       [-3.76370370e-01, -1.37459254e+00, -5.63010514e-01,\n",
       "         2.31930137e-01, -1.32469666e+00, -9.99085784e-01,\n",
       "        -5.62380135e-01, -1.24449492e+00, -1.59898877e-01,\n",
       "        -1.60941586e-01],\n",
       "       [ 3.98806900e-01,  2.81956106e-01, -1.59329259e+00,\n",
       "        -7.22296238e-01,  1.01988876e+00,  1.30171550e-03,\n",
       "        -5.84060431e-01,  1.64390647e+00, -5.55018485e-01,\n",
       "        -2.10302263e-01],\n",
       "       [ 6.48580849e-01,  4.71023619e-01, -2.43050084e-01,\n",
       "         1.13309479e+00,  2.00194430e+00, -2.09251449e-01,\n",
       "         4.01466429e-01,  5.79941094e-01, -5.76124370e-01,\n",
       "        -5.48818767e-01],\n",
       "       [ 4.13450122e-01, -5.73943257e-01, -1.81233728e+00,\n",
       "         2.05512583e-01,  3.35649461e-01, -4.40807380e-02,\n",
       "         6.27602458e-01,  3.98762465e-01, -1.11558795e+00,\n",
       "         7.29795992e-01],\n",
       "       [ 3.56902033e-01, -1.31165540e+00, -9.72850800e-01,\n",
       "         3.23548347e-01,  3.61592621e-01,  1.76039841e-02,\n",
       "        -6.00870728e-01,  1.36329627e+00,  1.08592498e+00,\n",
       "         6.31500840e-01],\n",
       "       [ 4.85035598e-01, -8.24730933e-01,  1.29038012e+00,\n",
       "         1.04534400e+00, -5.43072701e-01,  1.09292708e-01,\n",
       "        -9.71517801e-01, -1.28791571e+00,  1.20780945e+00,\n",
       "         2.66293108e-01],\n",
       "       [-1.72901022e+00, -5.51590383e-01, -9.64495480e-01,\n",
       "        -1.39012694e+00, -1.81909990e+00, -1.14683032e+00,\n",
       "        -7.13556886e-01, -5.93443587e-03, -8.63025963e-01,\n",
       "         5.28366983e-01],\n",
       "       [-9.12297964e-01, -2.62955427e+00, -5.98331809e-01,\n",
       "        -5.94030678e-01,  1.08739066e+00, -8.61713469e-01,\n",
       "        -3.18169504e-01,  1.55867264e-01,  4.24538672e-01,\n",
       "         1.32974818e-01],\n",
       "       [-1.41704893e+00, -2.18484979e-02,  4.11497355e-02,\n",
       "         1.57327032e+00,  6.99434757e-01, -4.74971920e-01,\n",
       "         1.40249455e+00,  9.22658071e-02, -3.03899169e+00,\n",
       "        -6.19287565e-02],\n",
       "       [-1.44754723e-01,  1.23658955e+00, -1.17117798e+00,\n",
       "        -8.75909030e-01,  4.34594870e-01,  4.43126529e-01,\n",
       "         1.20428002e+00, -2.79288907e-02,  1.43158472e+00,\n",
       "         6.57997131e-01],\n",
       "       [-3.36489052e-01,  5.63200593e-01,  1.05299580e+00,\n",
       "        -3.41164052e-01,  2.18858004e+00,  9.65102255e-01,\n",
       "         9.68144536e-01,  8.13137367e-03,  4.86738861e-01,\n",
       "         1.29086781e+00],\n",
       "       [ 1.64793909e+00,  7.71037161e-01,  5.52504182e-01,\n",
       "         1.14765264e-01,  4.35510606e-01,  8.90361488e-01,\n",
       "        -2.37943006e+00, -2.18334866e+00,  1.30645180e+00,\n",
       "         5.00362337e-01],\n",
       "       [-1.63739586e+00,  7.61883438e-01, -1.96450961e+00,\n",
       "        -2.35467821e-01,  2.34455511e-01, -8.36399376e-01,\n",
       "        -5.58604486e-02, -8.00575987e-02,  6.07934356e-01,\n",
       "        -1.12333930e+00],\n",
       "       [ 9.18356180e-01, -1.55473590e+00, -8.11244369e-01,\n",
       "         2.43848467e+00, -1.91701040e-01,  4.12318110e-02,\n",
       "         1.79039526e+00, -2.65078521e+00, -1.70617867e+00,\n",
       "        -1.63122743e-01],\n",
       "       [-2.48131558e-01, -1.84629095e+00, -7.30452120e-01,\n",
       "         2.49423051e+00,  3.67879570e-01,  7.92275488e-01,\n",
       "         3.04565072e-01,  9.31148529e-01, -8.67076337e-01,\n",
       "        -1.03233385e+00],\n",
       "       [-8.18725705e-01, -3.26752931e-01,  4.43594456e-01,\n",
       "        -9.32773948e-01,  1.56909144e+00,  7.87864804e-01,\n",
       "        -3.58192593e-01, -1.12195909e+00,  6.21368706e-01,\n",
       "         5.21468341e-01],\n",
       "       [-1.10256124e+00,  3.99935931e-01, -4.61089700e-01,\n",
       "        -1.07528245e+00,  8.65381598e-01, -3.97023261e-01,\n",
       "         2.98269130e-02, -4.95850176e-01,  1.74092519e+00,\n",
       "         1.28364873e+00],\n",
       "       [ 2.25723103e-01,  8.56579483e-01,  6.27817988e-01,\n",
       "        -6.32314682e-01,  1.31561112e+00,  8.07777643e-01,\n",
       "        -4.95873511e-01, -6.30011410e-02,  4.96361554e-01,\n",
       "        -1.09812343e+00],\n",
       "       [ 5.24196506e-01,  1.25576365e+00,  5.67844808e-01,\n",
       "        -1.04679942e+00, -2.62552053e-01,  2.09902334e+00,\n",
       "        -1.00418520e+00, -1.41602859e-01,  2.45653391e-01,\n",
       "         7.67502069e-01],\n",
       "       [-9.78401154e-02,  2.26019454e+00,  1.59917378e+00,\n",
       "        -9.61538672e-01,  1.39768302e+00,  1.23958409e-01,\n",
       "         2.82646537e-01, -8.07945132e-01, -9.49120894e-02,\n",
       "        -5.97348988e-01],\n",
       "       [-1.77370584e+00,  3.01389277e-01, -8.59627545e-01,\n",
       "        -6.78395569e-01,  2.71093875e-01, -5.52664399e-02,\n",
       "        -8.10726106e-01, -3.20219040e-01, -1.12992033e-01,\n",
       "        -8.45424652e-01],\n",
       "       [-1.90962583e-01,  2.31605411e-01,  8.12632978e-01,\n",
       "         1.04633164e+00,  1.00550020e+00,  5.40286660e-01,\n",
       "        -1.50809658e+00, -3.49868834e-01, -4.81065631e-01,\n",
       "         9.09442961e-01],\n",
       "       [ 6.84072495e-01, -4.36400533e-01, -6.59904420e-01,\n",
       "        -2.70392120e-01,  4.72327530e-01,  3.95285904e-01,\n",
       "         1.08275139e+00,  3.09510529e-01, -1.37751412e+00,\n",
       "        -4.97896284e-01],\n",
       "       [ 8.12005997e-01, -4.34519611e-02,  7.28225291e-01,\n",
       "         1.12776339e+00,  7.56546259e-01,  9.66979414e-02,\n",
       "        -1.82254291e+00, -7.45700747e-02, -4.62492436e-01,\n",
       "        -2.92140335e-01],\n",
       "       [-1.02414988e-01,  1.85463369e+00, -2.07107484e-01,\n",
       "         4.11482006e-01,  1.42004359e+00,  2.77533740e-01,\n",
       "        -1.61764264e+00, -4.27845120e-02,  5.85564256e-01,\n",
       "        -1.41017288e-01],\n",
       "       [ 6.67621732e-01,  8.68042782e-02,  2.83157919e-02,\n",
       "         7.86819160e-01,  8.31903636e-01, -1.03341484e+00,\n",
       "         4.61843014e-01,  2.14826298e+00,  1.17780471e+00,\n",
       "        -2.28381801e+00],\n",
       "       [-1.64068907e-01, -1.66261518e+00, -3.91722023e-02,\n",
       "         7.45499805e-02, -1.81336367e+00,  1.01425433e+00,\n",
       "         1.21985495e+00, -3.98785323e-01,  6.28609955e-02,\n",
       "         4.83499557e-01],\n",
       "       [-2.38695428e-01,  3.48032862e-01, -1.00004709e+00,\n",
       "         9.51177716e-01,  1.52157271e+00,  4.21045214e-01,\n",
       "        -6.81812227e-01,  4.21494305e-01,  1.55553329e+00,\n",
       "         1.69406009e+00],\n",
       "       [-1.09747553e+00, -5.41889250e-01, -4.09999251e-01,\n",
       "        -6.86054409e-01, -3.40665698e-01,  1.27007473e+00,\n",
       "         4.81774867e-01,  1.98636615e+00, -8.03573489e-01,\n",
       "        -4.87092048e-01],\n",
       "       [-2.97339368e+00,  6.32265568e-01,  1.34450471e+00,\n",
       "        -1.82762593e-01, -7.65921175e-01,  3.81389380e-01,\n",
       "         5.77173948e-01,  1.44388723e+00,  3.00745070e-01,\n",
       "         1.53570935e-01],\n",
       "       [ 2.10148931e+00, -5.34541190e-01, -3.31536859e-01,\n",
       "         1.77308515e-01, -1.87757266e+00,  7.78377382e-03,\n",
       "        -1.39103845e-01,  2.00580303e-02,  1.73457399e-01,\n",
       "         1.15034544e+00],\n",
       "       [-3.91820163e-01,  1.66457891e-01,  1.06927347e+00,\n",
       "         6.42905831e-01, -5.07019162e-01, -1.12657063e-02,\n",
       "        -9.22550380e-01, -3.13571393e-02,  2.38946602e-01,\n",
       "         1.34145305e-01],\n",
       "       [ 6.27745330e-01, -6.39368236e-01, -7.63411224e-01,\n",
       "         2.35300469e+00,  7.61136949e-01, -8.72260273e-01,\n",
       "         3.14048171e-01,  2.62716413e-01,  4.19297457e-01,\n",
       "         1.03180766e+00],\n",
       "       [-5.41479886e-01, -1.36477575e-01, -8.25923145e-01,\n",
       "         5.70370734e-01,  7.65212893e-01,  6.25625491e-01,\n",
       "         3.14341933e-01, -4.00412738e-01,  8.06730241e-02,\n",
       "         2.19471073e+00],\n",
       "       [ 9.38974679e-01,  3.97555709e-01, -6.44511759e-01,\n",
       "         2.78667063e-01, -7.86828816e-01,  8.30757856e-01,\n",
       "        -6.77784562e-01, -1.25606906e+00,  6.51326835e-01,\n",
       "        -4.38324988e-01],\n",
       "       [-4.19847757e-01, -1.03806770e+00,  4.76455450e-01,\n",
       "        -9.69945043e-02,  7.51340806e-01,  6.27137795e-02,\n",
       "         2.40539700e-01,  3.02198172e-01, -3.48807096e-01,\n",
       "        -2.08126616e+00],\n",
       "       [ 3.01780820e-01,  5.88250577e-01, -8.52541506e-01,\n",
       "         1.28871173e-01,  9.80860591e-02,  4.40697283e-01,\n",
       "        -2.90088117e-01, -4.33852412e-02,  2.69665997e-02,\n",
       "        -6.10410929e-01],\n",
       "       [ 2.04920135e-02,  3.46906871e-01,  1.12458956e+00,\n",
       "         7.34130964e-02, -4.45849478e-01, -6.08514190e-01,\n",
       "         2.07716867e-01,  4.78036940e-01,  1.03605723e+00,\n",
       "        -6.25764251e-01],\n",
       "       [-4.60939825e-01, -5.36514759e-01,  8.97627056e-01,\n",
       "         4.80743706e-01, -6.78453669e-02,  2.08378024e-02,\n",
       "         3.10537398e-01, -3.87069106e-01, -3.94099206e-01,\n",
       "         6.28326654e-01],\n",
       "       [ 2.06554866e+00, -5.86146414e-01,  1.34423092e-01,\n",
       "         6.88993990e-01, -4.79362905e-01, -1.60485983e+00,\n",
       "        -1.55982506e+00, -9.98574018e-01, -1.36165142e+00,\n",
       "         8.37619483e-01],\n",
       "       [ 2.22688818e+00, -3.25458914e-01, -3.75614971e-01,\n",
       "        -5.32710850e-01, -1.87542450e+00,  1.24573755e+00,\n",
       "         1.04587150e+00,  1.37106323e+00, -3.96082476e-02,\n",
       "         1.43485987e+00],\n",
       "       [-4.96863902e-01,  6.26284242e-01,  1.59692752e+00,\n",
       "        -2.25647020e+00,  8.98052335e-01, -3.25371414e-01,\n",
       "        -3.12382430e-01,  4.46272612e-01,  5.19704461e-01,\n",
       "         1.02082157e+00],\n",
       "       [-2.01988006e+00, -7.43332326e-01,  8.76218602e-02,\n",
       "         7.32809007e-01, -1.79989398e-01, -4.80225205e-01,\n",
       "         5.86688578e-01,  6.73982978e-01,  4.34100688e-01,\n",
       "         5.63506544e-01],\n",
       "       [-1.37877071e+00,  1.70398116e+00, -3.82579088e-01,\n",
       "         1.24627161e+00,  2.57415116e-01, -4.74206023e-02,\n",
       "        -8.24752986e-01,  2.12776691e-01,  2.59410679e-01,\n",
       "         4.29550171e-01],\n",
       "       [ 1.09165931e+00,  2.16376042e+00, -8.33582059e-02,\n",
       "         1.25878334e-01,  7.15069830e-01,  4.26799476e-01,\n",
       "        -2.86754549e-01, -4.50755507e-01,  2.78307408e-01,\n",
       "        -4.72285807e-01],\n",
       "       [-6.98275030e-01, -1.25711107e+00,  5.72156999e-03,\n",
       "         1.08689976e+00, -8.89077038e-02,  1.10737383e+00,\n",
       "        -6.95805073e-01,  1.06838524e+00, -6.36790335e-01,\n",
       "         5.98813117e-01],\n",
       "       [-5.86153686e-01, -1.45979679e+00, -2.03935647e+00,\n",
       "        -2.27840018e+00,  1.56691217e+00, -9.87285912e-01,\n",
       "         8.79673243e-01,  2.12613750e+00, -4.14561838e-01,\n",
       "        -3.09877515e-01],\n",
       "       [ 2.06746310e-01, -3.80097479e-01,  3.34745377e-01,\n",
       "        -4.90937054e-01,  9.34456170e-01, -2.02303573e-01,\n",
       "         1.42807722e+00,  8.99884462e-01, -2.01659858e-01,\n",
       "        -2.72929966e-02],\n",
       "       [-7.46985137e-01,  2.57871628e+00, -1.30560434e+00,\n",
       "         6.54529512e-01,  7.93480039e-01, -5.41447043e-01,\n",
       "         7.61016607e-01, -7.36656070e-01,  3.45236361e-01,\n",
       "         1.42175114e+00],\n",
       "       [ 3.77789557e-01, -4.85915720e-01, -1.11557949e+00,\n",
       "        -1.86292470e-01,  1.93016934e+00,  6.67203903e-01,\n",
       "         4.84311700e-01,  9.65787053e-01, -3.66049141e-01,\n",
       "        -8.96267176e-01],\n",
       "       [ 1.06611431e+00,  6.99588299e-01, -5.32283448e-02,\n",
       "        -1.35799181e+00, -9.96340036e-01,  1.12223947e+00,\n",
       "        -1.02051055e+00,  1.00635779e+00,  1.37095499e+00,\n",
       "         8.23147237e-01],\n",
       "       [-9.15546834e-01,  8.85075271e-01,  1.01706229e-01,\n",
       "        -1.38811028e+00,  4.59268361e-01,  2.11309120e-01,\n",
       "         1.91100442e+00, -1.57509494e+00,  2.59854150e+00,\n",
       "        -1.96634567e+00],\n",
       "       [ 4.49242890e-01,  8.19047213e-01, -1.84796143e+00,\n",
       "        -9.58801866e-01,  1.12153268e+00,  1.16842464e-01,\n",
       "         5.11030495e-01, -1.73996782e+00,  1.49756896e+00,\n",
       "         4.45984244e-01],\n",
       "       [-1.48985994e+00,  1.95447469e+00,  1.26335621e-01,\n",
       "         1.19461870e+00, -1.36349273e+00,  9.18343842e-01,\n",
       "         9.92791355e-01, -9.61142600e-01, -1.22990084e+00,\n",
       "        -2.87436340e-02],\n",
       "       [ 7.62800813e-01, -2.08943415e+00,  3.36835116e-01,\n",
       "         1.29317617e+00,  1.34048402e+00, -1.46513546e+00,\n",
       "        -7.02255428e-01,  6.85155243e-02, -2.03783488e+00,\n",
       "        -1.91594255e+00],\n",
       "       [ 1.09157227e-01, -2.41020128e-01, -8.29910412e-02,\n",
       "         9.64149177e-01, -1.22283709e+00, -1.76376617e+00,\n",
       "         5.32062173e-01,  4.08584028e-02, -2.96158224e-01,\n",
       "        -1.61537361e+00],\n",
       "       [ 2.18805045e-01, -2.44417191e+00, -1.47878215e-01,\n",
       "        -1.18528433e-01,  2.97896862e-01,  8.34411681e-01,\n",
       "         1.93861783e+00, -4.73742425e-01, -1.23642480e+00,\n",
       "         9.06935990e-01],\n",
       "       [-1.15756549e-01,  1.99705565e+00, -1.91019803e-01,\n",
       "        -1.34826815e+00,  3.05134535e-01, -1.51049218e-03,\n",
       "         5.36559001e-02,  9.05499935e-01, -3.31716985e-01,\n",
       "         2.45094702e-01],\n",
       "       [-1.67572334e-01,  4.58356261e-01,  5.53313410e-03,\n",
       "         1.29873049e+00,  2.82211423e-01,  1.05793703e+00,\n",
       "        -1.05334485e+00, -2.20359508e-02,  3.17088962e-01,\n",
       "        -5.50779374e-03],\n",
       "       [-7.06037819e-01,  9.52100039e-01,  6.24668002e-01,\n",
       "         9.41707075e-01,  7.53937885e-02,  3.12269837e-01,\n",
       "        -5.70572615e-01, -1.26734227e-01, -1.54566720e-01,\n",
       "         4.81767505e-01]], dtype=float32)>"
      ]
     },
     "execution_count": 20,
     "metadata": {},
     "output_type": "execute_result"
    }
   ],
   "source": [
    "b2 = tf.Variable(tf.random.normal([10]))\n",
    "W2 = tf.Variable(tf.random.normal([100,10]))\n",
    "W2"
   ]
  },
  {
   "cell_type": "markdown",
   "metadata": {},
   "source": [
    "Recordar que es necesario tener entre capa y capa una función de activación no lineal "
   ]
  },
  {
   "cell_type": "code",
   "execution_count": 21,
   "metadata": {},
   "outputs": [],
   "source": [
    "optimizador = tf.keras.optimizers.experimental.SGD(learning_rate=0.1)\n"
   ]
  },
  {
   "cell_type": "code",
   "execution_count": 22,
   "metadata": {},
   "outputs": [
    {
     "name": "stdout",
     "output_type": "stream",
     "text": [
      "tf.Tensor(nan, shape=(), dtype=float32)\n",
      "tf.Tensor(nan, shape=(), dtype=float32)\n",
      "tf.Tensor(nan, shape=(), dtype=float32)\n",
      "tf.Tensor(nan, shape=(), dtype=float32)\n",
      "tf.Tensor(nan, shape=(), dtype=float32)\n",
      "tf.Tensor(nan, shape=(), dtype=float32)\n",
      "tf.Tensor(nan, shape=(), dtype=float32)\n",
      "tf.Tensor(nan, shape=(), dtype=float32)\n",
      "tf.Tensor(nan, shape=(), dtype=float32)\n",
      "tf.Tensor(nan, shape=(), dtype=float32)\n"
     ]
    }
   ],
   "source": [
    "epochs = 10\n",
    "for _ in range(epochs):\n",
    "  loss_epoch = 0\n",
    "  for x,y in train_dataset: # Es un batch\n",
    "    with tf.GradientTape() as gt:\n",
    "      # Forward\n",
    "      operacion_matricial = tf.matmul(x,W1)+b1 # Primera capa\n",
    "      capa1 = tf.nn.relu(operacion_matricial)\n",
    "\n",
    "      capa2 = tf.matmul(capa1,W2)+b2\n",
    "\n",
    "      probs = tf.nn.softmax(capa2)\n",
    "\n",
    "        # Loss\n",
    "      prob_as = probs*y # Probabilidades de las clases correctas (a)\n",
    "      vec_probs = tf.reduce_sum(prob_as,axis=1)\n",
    "      x_ent = -tf.math.log(vec_probs)\n",
    "      loss = tf.reduce_mean(x_ent)\n",
    "\n",
    "      # Backward\n",
    "      optimizador.minimize(loss,[W1,b1,W2,b2],gt) # No olvidar cuáles son los parámetros a ajustar\n",
    "\n",
    "    loss_epoch += loss/len(train_dataset)\n",
    "  print(loss_epoch)"
   ]
  },
  {
   "cell_type": "markdown",
   "metadata": {},
   "source": []
  },
  {
   "cell_type": "code",
   "execution_count": 23,
   "metadata": {},
   "outputs": [
    {
     "name": "stdout",
     "output_type": "stream",
     "text": [
      "tf.Tensor(0.098, shape=(), dtype=float32)\n"
     ]
    }
   ],
   "source": [
    "# Salida\n",
    "operacion_matricial = tf.matmul(X_test,W1)+b1\n",
    "capa1 = tf.nn.relu(operacion_matricial)\n",
    "\n",
    "capa2 = tf.matmul(capa1,W2)+b2\n",
    "\n",
    "probs = tf.nn.softmax(capa2)\n",
    "\n",
    "# Comparación\n",
    "max_preds = tf.argmax(probs,1)\n",
    "max_trues = tf.argmax(y_test,1)\n",
    "\n",
    "numCorrectos = tf.equal(max_preds,max_trues)\n",
    "acc = tf.reduce_mean(tf.cast(numCorrectos,tf.float32))\n",
    "print(acc)"
   ]
  },
  {
   "cell_type": "markdown",
   "metadata": {},
   "source": [
    "### En nuestro caso el no NORMALIZAR LOS DATOS redujo el accuracy de un ~90% a un ~9% lo cual evidentemente refleja dificultades encontrando puntos optimos adecuados "
   ]
  },
  {
   "cell_type": "markdown",
   "metadata": {},
   "source": [
    " # Agregando función de activación a la segunda capa "
   ]
  },
  {
   "cell_type": "code",
   "execution_count": 44,
   "metadata": {},
   "outputs": [
    {
     "name": "stdout",
     "output_type": "stream",
     "text": [
      "tf.Tensor(nan, shape=(), dtype=float32)\n",
      "tf.Tensor(nan, shape=(), dtype=float32)\n",
      "tf.Tensor(nan, shape=(), dtype=float32)\n",
      "tf.Tensor(nan, shape=(), dtype=float32)\n",
      "tf.Tensor(nan, shape=(), dtype=float32)\n",
      "tf.Tensor(nan, shape=(), dtype=float32)\n",
      "tf.Tensor(nan, shape=(), dtype=float32)\n",
      "tf.Tensor(nan, shape=(), dtype=float32)\n",
      "tf.Tensor(nan, shape=(), dtype=float32)\n",
      "tf.Tensor(nan, shape=(), dtype=float32)\n"
     ]
    }
   ],
   "source": [
    "epochs = 10\n",
    "for _ in range(epochs):\n",
    "  loss_epoch = 0\n",
    "  for x,y in train_dataset: # Es un batch\n",
    "    with tf.GradientTape() as gt:\n",
    "      # Forward\n",
    "      operacion_matricial = tf.matmul(x,W1)+b1 # Primera capa\n",
    "      capa1 = tf.nn.relu(operacion_matricial)\n",
    "\n",
    "      operacion_matricial2 = tf.matmul(capa1,W2)+b2 # Primera capa\n",
    "      capa2 = tf.nn.relu(operacion_matricial2)\n",
    "\n",
    "      probs = tf.nn.softmax(capa2)\n",
    "\n",
    "        # Loss\n",
    "      prob_as = probs*y # Probabilidades de las clases correctas (a)\n",
    "      vec_probs = tf.reduce_sum(prob_as,axis=1)\n",
    "      x_ent = -tf.math.log(vec_probs)\n",
    "      loss = tf.reduce_mean(x_ent)\n",
    "\n",
    "      # Backward\n",
    "      optimizador.minimize(loss,[W1,b1,W2,b2],gt) # No olvidar cuáles son los parámetros a ajustar\n",
    "\n",
    "    loss_epoch += loss/len(train_dataset)\n",
    "  print(loss_epoch)"
   ]
  },
  {
   "cell_type": "code",
   "execution_count": 46,
   "metadata": {},
   "outputs": [
    {
     "name": "stdout",
     "output_type": "stream",
     "text": [
      "tf.Tensor(0.098, shape=(), dtype=float32)\n"
     ]
    }
   ],
   "source": [
    "# Salida\n",
    "operacion_matricial = tf.matmul(X_test,W1)+b1\n",
    "capa1 = tf.nn.relu(operacion_matricial)\n",
    "\n",
    "capa1 = tf.nn.relu(operacion_matricial)\n",
    "\n",
    "operacion_matricial2 = tf.matmul(capa1,W2)+b2 # Primera capa\n",
    "capa2 = tf.nn.relu(operacion_matricial2)\n",
    "\n",
    "\n",
    "probs = tf.nn.softmax(capa2)\n",
    "\n",
    "# Comparación\n",
    "max_preds = tf.argmax(probs,1)\n",
    "max_trues = tf.argmax(y_test,1)\n",
    "\n",
    "numCorrectos = tf.equal(max_preds,max_trues)\n",
    "acc = tf.reduce_mean(tf.cast(numCorrectos,tf.float32))\n",
    "print(acc)"
   ]
  },
  {
   "cell_type": "markdown",
   "metadata": {},
   "source": [
    "En este caso agregar una función RELU a la segunda capa no mejoró la accuracy de la clasificación de números. Esto puede deberse a que la última capa de nuestra red es de tipo SOFTMAX y está recibiendo la salida de la capa2, en caso de que esta salida tenga valores muy pequeños (provocados por el caso de la red por una segunda funcón tipo RELU) esto podría afectar al calculo de la probabilidad final de cada elemento.\n",
    " Se pudiera entender como si SOFTMAX fuera yá la función de activación de la segunda capa y ya no sería neceista agregar otra bajo función de activación a esta arquitectura, solo en el caso, por ejemplo de agregar una tercera capa con solo SOFTMAX y una segunda con RELU. \n",
    " En este caso el agregar esa segunda capa con funcion de activacion tipo RELU redujo mucho el accuracy del modelo e hizo que se tardara mucho en converger"
   ]
  },
  {
   "cell_type": "markdown",
   "metadata": {},
   "source": [
    "### Uso de un modelo en Tensorflow "
   ]
  },
  {
   "cell_type": "code",
   "execution_count": 47,
   "metadata": {},
   "outputs": [
    {
     "name": "stdout",
     "output_type": "stream",
     "text": [
      "Model: \"model\"\n",
      "_________________________________________________________________\n",
      " Layer (type)                Output Shape              Param #   \n",
      "=================================================================\n",
      " input_1 (InputLayer)        [(None, 784)]             0         \n",
      "                                                                 \n",
      " dense (Dense)               (None, 100)               78500     \n",
      "                                                                 \n",
      " dense_1 (Dense)             (None, 10)                1010      \n",
      "                                                                 \n",
      "=================================================================\n",
      "Total params: 79510 (310.59 KB)\n",
      "Trainable params: 79510 (310.59 KB)\n",
      "Non-trainable params: 0 (0.00 Byte)\n",
      "_________________________________________________________________\n"
     ]
    }
   ],
   "source": [
    "# Defino las capas y conexiones\n",
    "entradas = tf.keras.Input(shape=(784,)) # No hay aún matriz de pesos\n",
    "\n",
    "capa1 = tf.keras.layers.Dense(100,activation=\"relu\")(entradas) # Infiere la forma de la matriz\n",
    "#capa2 = tf.keras.layers.Dense(50,activation=\"sigmoid\")(capa1)\n",
    "capa3 = tf.keras.layers.Dense(10,activation=\"softmax\")(capa1)\n",
    "\n",
    "modelo_multicapa = tf.keras.Model(inputs = entradas, outputs = capa3)\n",
    "\n",
    "modelo_multicapa.compile(optimizer=\"SGD\",\n",
    "               loss=\"categorical_crossentropy\")\n",
    "\n",
    "modelo_multicapa.summary()"
   ]
  },
  {
   "cell_type": "code",
   "execution_count": 48,
   "metadata": {},
   "outputs": [],
   "source": [
    "modelo_multicapa.compile(optimizer=\"SGD\",\n",
    "               loss=\"categorical_crossentropy\",\n",
    "               metrics=[\"accuracy\"])"
   ]
  },
  {
   "cell_type": "code",
   "execution_count": 49,
   "metadata": {},
   "outputs": [
    {
     "name": "stdout",
     "output_type": "stream",
     "text": [
      "313/313 [==============================] - 14s 3ms/step - loss: 2.3040 - accuracy: 0.1212\n",
      "0.12120000272989273\n"
     ]
    }
   ],
   "source": [
    "loss_multicapa, acc_multicapa = modelo_multicapa.evaluate(X_test,y_test)\n",
    "\n",
    "print(acc_multicapa)"
   ]
  }
 ],
 "metadata": {
  "kernelspec": {
   "display_name": "Python 3",
   "language": "python",
   "name": "python3"
  },
  "language_info": {
   "codemirror_mode": {
    "name": "ipython",
    "version": 3
   },
   "file_extension": ".py",
   "mimetype": "text/x-python",
   "name": "python",
   "nbconvert_exporter": "python",
   "pygments_lexer": "ipython3",
   "version": "3.10.5"
  },
  "orig_nbformat": 4
 },
 "nbformat": 4,
 "nbformat_minor": 2
}
