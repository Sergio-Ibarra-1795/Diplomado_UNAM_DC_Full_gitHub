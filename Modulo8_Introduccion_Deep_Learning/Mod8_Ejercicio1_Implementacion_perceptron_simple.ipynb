{
 "cells": [
  {
   "cell_type": "markdown",
   "metadata": {},
   "source": [
    "#### <font color=\"#03997A\"> Diplomado en Ciencia de datos UNAM </font>\n",
    "\n",
    "##### <font color=\"#03997A\"> Dr: Alejandro Pimentel  </font>\n",
    "\n",
    "##### <font color=\"#03997A\"> Modulo 8 Introducción al Deep Learning </font>\n",
    "\n",
    "##### <font color=\"#03997A\"> Ejercicio 1 Perceptron  aplicado a tabla XOR Alumno: Ibarra Ramírez Sergio </font>"
   ]
  },
  {
   "cell_type": "markdown",
   "metadata": {},
   "source": [
    "#### Se define el primer perceptron "
   ]
  },
  {
   "cell_type": "code",
   "execution_count": 1,
   "metadata": {},
   "outputs": [],
   "source": [
    "import random\n",
    "random.seed(2023)\n",
    "\n",
    "def mostrar_pesos(w):\n",
    "    print('b =', '%.1f' % w[0],\n",
    "          'w1 =', '%.1f' % w[1],\n",
    "          'w2 =', '%.1f' % w[2]\n",
    "         )\n",
    "\n",
    "lr = 0.1\n",
    "\n",
    "lista_indices = [0,1,2,3]\n",
    "\n",
    "x_train_perceptron1 = [\n",
    "    (1,-1,-1),\n",
    "    (1,-1,1),\n",
    "    (1,1,-1),\n",
    "    (1,1,1)\n",
    "]\n",
    "\n",
    "y_train_perceptron1 = [\n",
    "    -1,\n",
    "    1,\n",
    "    1,\n",
    "    1\n",
    "]"
   ]
  },
  {
   "cell_type": "code",
   "execution_count": 2,
   "metadata": {},
   "outputs": [
    {
     "data": {
      "text/plain": [
       "[-0.2341561510915824, 0.9437241769815645, 0.6876348464076729]"
      ]
     },
     "execution_count": 2,
     "metadata": {},
     "output_type": "execute_result"
    }
   ],
   "source": [
    "# Paso 1: definir pesos aleatorios\n",
    "w_perceptron1 = [random.uniform(-1, 1),\n",
    "     random.uniform(-1, 1),\n",
    "    random.uniform(-1, 1),]\n",
    "w_perceptron1"
   ]
  },
  {
   "cell_type": "markdown",
   "metadata": {},
   "source": [
    "Se define la función que calcula la salida dados un vector de pesos w y un vector de entradas x <de la misma dimensión>"
   ]
  },
  {
   "cell_type": "code",
   "execution_count": 3,
   "metadata": {},
   "outputs": [],
   "source": [
    "def calcula_salida(w,x):\n",
    "  suma = 0\n",
    "  for i in range(len(w)):\n",
    "    suma += x[i]*w[i]\n",
    "  if suma < 0:\n",
    "    return -1\n",
    "  else:\n",
    "    return 1"
   ]
  },
  {
   "cell_type": "code",
   "execution_count": 4,
   "metadata": {},
   "outputs": [
    {
     "name": "stdout",
     "output_type": "stream",
     "text": [
      "b = -0.2 w1 = 0.9 w2 = 0.7\n",
      "(1, -1, -1)\n",
      "-1\n",
      "(1, -1, 1)\n",
      "-1\n",
      "(1, 1, 1)\n",
      "1\n",
      "(1, 1, -1)\n",
      "-1\n",
      "b = -0.0 w1 = 0.9 w2 = 0.7\n",
      "(1, 1, 1)\n",
      "1\n",
      "(1, -1, 1)\n",
      "-1\n",
      "(1, 1, -1)\n",
      "1\n",
      "(1, -1, -1)\n",
      "-1\n",
      "b = 0.1 w1 = 0.8 w2 = 0.8\n",
      "(1, -1, 1)\n",
      "1\n",
      "(1, -1, -1)\n",
      "-1\n",
      "(1, 1, 1)\n",
      "1\n",
      "(1, 1, -1)\n",
      "1\n"
     ]
    }
   ],
   "source": [
    "correcto = False\n",
    "while not correcto:\n",
    "  # Muestra los pesos actualizados en cada iteración\n",
    "  mostrar_pesos(w_perceptron1)\n",
    "  correcto = True\n",
    "  # Elige un número entre 0 y 3 (pues en este caso tenemos 4 posibles entradas con 4 posibles salidas)\n",
    "  random.shuffle(lista_indices)\n",
    "  # Entonces para cada número que eligío entre el 0 y el 3 tomá al par x_train_perceptron1[i], y_train_perceptron1[i] para definir los pesos  \n",
    "  for i in lista_indices:\n",
    "    x_1 = x_train_perceptron1[i]\n",
    "    print(x_1)\n",
    "    y_1 = y_train_perceptron1[i]\n",
    "\n",
    "    # Calcula la saluda con la función calcula_salida los pesos del percentron 1 y la x que se eligió arriba \n",
    "    y_p1 = calcula_salida( w_perceptron1,x_1)\n",
    "    print(y_p1)\n",
    "\n",
    "    # Verificar si son iguales\n",
    "    if y_1 != y_p1:\n",
    "      # Si la y_p <que es la y calculada> NO es igual a la y_train[i-esima previamente elegida]\n",
    "      for j in range(len( w_perceptron1)):\n",
    "        # Actualiza el peso del perceptron con \n",
    "        w_perceptron1[j]+= lr* y_1 * x_1[j] ## Paso de la muerte\n",
    "\n",
    "      correcto = False"
   ]
  },
  {
   "cell_type": "code",
   "execution_count": 8,
   "metadata": {},
   "outputs": [
    {
     "data": {
      "text/plain": [
       "(1, -1, -1)"
      ]
     },
     "execution_count": 8,
     "metadata": {},
     "output_type": "execute_result"
    }
   ],
   "source": [
    "x_1_0 = x_train_perceptron1[0]\n",
    "x_1_0\n"
   ]
  },
  {
   "cell_type": "code",
   "execution_count": 6,
   "metadata": {},
   "outputs": [
    {
     "data": {
      "text/plain": [
       "[0.06584384890841763, 0.8437241769815645, 0.7876348464076729]"
      ]
     },
     "execution_count": 6,
     "metadata": {},
     "output_type": "execute_result"
    }
   ],
   "source": [
    "w_perceptron1"
   ]
  },
  {
   "cell_type": "code",
   "execution_count": 9,
   "metadata": {},
   "outputs": [
    {
     "data": {
      "text/plain": [
       "-1"
      ]
     },
     "execution_count": 9,
     "metadata": {},
     "output_type": "execute_result"
    }
   ],
   "source": [
    "\n",
    "y_p1_0 = calcula_salida( w_perceptron1,x_1_0)\n",
    "y_p1_0"
   ]
  },
  {
   "cell_type": "code",
   "execution_count": 7,
   "metadata": {},
   "outputs": [
    {
     "data": {
      "text/plain": [
       "-1"
      ]
     },
     "execution_count": 7,
     "metadata": {},
     "output_type": "execute_result"
    }
   ],
   "source": [
    "\n",
    "y_p1_1 = calcula_salida( w_perceptron1,[1,-1,-1])\n",
    "y_p1_1"
   ]
  },
  {
   "cell_type": "markdown",
   "metadata": {},
   "source": [
    "#### Se define el segundo perceptron "
   ]
  },
  {
   "cell_type": "code",
   "execution_count": 10,
   "metadata": {},
   "outputs": [],
   "source": [
    "import random\n",
    "random.seed(2023)\n",
    "\n",
    "def mostrar_pesos(w):\n",
    "    print('b =', '%.1f' % w[0],\n",
    "          'w1 =', '%.1f' % w[1],\n",
    "          'w2 =', '%.1f' % w[2]\n",
    "         )\n",
    "\n",
    "lr = 0.1\n",
    "\n",
    "lista_indices = [0,1,2,3]\n",
    "\n",
    "x_train_perceptron2 = [\n",
    "    (1,-1,-1),\n",
    "    (1,-1,1),\n",
    "    (1,1,-1),\n",
    "    (1,1,1)\n",
    "]\n",
    "\n",
    "y_train_perceptron2 = [\n",
    "    1,\n",
    "    1,\n",
    "    1,\n",
    "    -1\n",
    "]"
   ]
  },
  {
   "cell_type": "code",
   "execution_count": 11,
   "metadata": {},
   "outputs": [],
   "source": [
    "# Paso 1: definir pesos aleatorios\n",
    "w_perceptron2 = [random.uniform(-1, 1),\n",
    "     random.uniform(-1, 1),\n",
    "    random.uniform(-1, 1),]"
   ]
  },
  {
   "cell_type": "code",
   "execution_count": 11,
   "metadata": {},
   "outputs": [],
   "source": [
    "def calcula_salida(w,x):\n",
    "  suma = 0\n",
    "  for i in range(len(w)):\n",
    "    suma += x[i]*w[i]\n",
    "  if suma < 0:\n",
    "    return -1\n",
    "  else:\n",
    "    return 1"
   ]
  },
  {
   "cell_type": "code",
   "execution_count": 12,
   "metadata": {},
   "outputs": [
    {
     "name": "stdout",
     "output_type": "stream",
     "text": [
      "b = -0.2 w1 = 0.9 w2 = 0.7\n",
      "(1, -1, -1)\n",
      "-1\n",
      "(1, -1, 1)\n",
      "-1\n",
      "(1, 1, 1)\n",
      "1\n",
      "(1, 1, -1)\n",
      "-1\n",
      "b = -0.0 w1 = 0.7 w2 = 0.5\n",
      "(1, 1, 1)\n",
      "1\n",
      "(1, -1, 1)\n",
      "-1\n",
      "(1, 1, -1)\n",
      "1\n",
      "(1, -1, -1)\n",
      "-1\n",
      "b = 0.1 w1 = 0.4 w2 = 0.4\n",
      "(1, -1, 1)\n",
      "1\n",
      "(1, -1, -1)\n",
      "-1\n",
      "(1, 1, 1)\n",
      "1\n",
      "(1, 1, -1)\n",
      "1\n",
      "b = 0.1 w1 = 0.2 w2 = 0.2\n",
      "(1, 1, -1)\n",
      "1\n",
      "(1, -1, 1)\n",
      "1\n",
      "(1, 1, 1)\n",
      "1\n",
      "(1, -1, -1)\n",
      "-1\n",
      "b = 0.1 w1 = 0.0 w2 = -0.0\n",
      "(1, 1, 1)\n",
      "1\n",
      "(1, 1, -1)\n",
      "1\n",
      "(1, -1, -1)\n",
      "1\n",
      "(1, -1, 1)\n",
      "-1\n",
      "b = 0.1 w1 = -0.2 w2 = -0.0\n",
      "(1, -1, 1)\n",
      "1\n",
      "(1, 1, 1)\n",
      "-1\n",
      "(1, -1, -1)\n",
      "1\n",
      "(1, 1, -1)\n",
      "-1\n",
      "b = 0.2 w1 = -0.1 w2 = -0.1\n",
      "(1, -1, -1)\n",
      "1\n",
      "(1, 1, -1)\n",
      "1\n",
      "(1, -1, 1)\n",
      "1\n",
      "(1, 1, 1)\n",
      "-1\n"
     ]
    }
   ],
   "source": [
    "correcto = False\n",
    "while not correcto:\n",
    "  mostrar_pesos(w_perceptron2)\n",
    "  correcto = True\n",
    "  random.shuffle(lista_indices)\n",
    "  for i in lista_indices:\n",
    "    x_2 = x_train_perceptron2[i]\n",
    "    print(x_2)\n",
    "    y_2 = y_train_perceptron2[i]\n",
    "\n",
    "    y_p2 = calcula_salida( w_perceptron2,x_2)\n",
    "    print(y_p2)\n",
    "\n",
    "    # Verificar si son iguales\n",
    "    if y_2 != y_p2:\n",
    "      for j in range(len( w_perceptron2)):\n",
    "        w_perceptron2[j]+= lr* y_2 * x_2[j] ## Paso de la muerte\n",
    "\n",
    "      correcto = False"
   ]
  },
  {
   "cell_type": "markdown",
   "metadata": {},
   "source": [
    "Algortimo del Perceptron 3 "
   ]
  },
  {
   "cell_type": "markdown",
   "metadata": {},
   "source": []
  },
  {
   "cell_type": "code",
   "execution_count": 59,
   "metadata": {},
   "outputs": [
    {
     "name": "stdout",
     "output_type": "stream",
     "text": [
      "Training Perceptron 1 (AND Gate)\n",
      "b = -0.2 w1 = 0.9 w2 = 0.7\n",
      "b = -0.1 w1 = 0.8 w2 = 0.8\n",
      "b = 0.1 w1 = 0.8 w2 = 0.8\n",
      "\n",
      "Training Perceptron 2 (OR Gate)\n",
      "b = -0.4 w1 = 0.1 w2 = -0.3\n",
      "b = -0.2 w1 = -0.1 w2 = -0.3\n",
      "b = -0.1 w1 = -0.2 w2 = -0.2\n",
      "b = 0.1 w1 = -0.2 w2 = -0.2\n",
      "\n",
      "Combining Perceptron 1 and 2 to create Perceptron 3 (XOR Gate)\n",
      "b = -0.1 w1 = 0.5 w2 = -0.5\n"
     ]
    }
   ],
   "source": [
    "import random\n",
    "random.seed(2023)\n",
    "\n",
    "def mostrar_pesos(w):\n",
    "    print('b =', '%.1f' % w[0],\n",
    "          'w1 =', '%.1f' % w[1],\n",
    "          'w2 =', '%.1f' % w[2]\n",
    "         )\n",
    "\n",
    "lr = 0.1\n",
    "\n",
    "lista_indices = [0, 1, 2, 3]\n",
    "\n",
    "x_train_perceptron1 = [\n",
    "    (1, -1, -1),\n",
    "    (1, -1, 1),\n",
    "    (1, 1, -1),\n",
    "    (1, 1, 1)\n",
    "]\n",
    "\n",
    "y_train_perceptron1 = [\n",
    "    -1,\n",
    "    1,\n",
    "    1,\n",
    "    1\n",
    "]\n",
    "\n",
    "x_train_perceptron2 = [\n",
    "    (1, -1, -1),\n",
    "    (1, -1, 1),\n",
    "    (1, 1, -1),\n",
    "    (1, 1, 1)\n",
    "]\n",
    "\n",
    "y_train_perceptron2 = [\n",
    "    1,\n",
    "    1,\n",
    "    1,\n",
    "    -1\n",
    "]\n",
    "\n",
    "def calcula_salida(w, x):\n",
    "    suma = 0\n",
    "    for i in range(len(w)):\n",
    "        suma += x[i] * w[i]\n",
    "    if suma < 0:\n",
    "        return -1\n",
    "    else:\n",
    "        return 1\n",
    "\n",
    "# Paso 1: definir pesos aleatorios\n",
    "w_perceptron1 = [random.uniform(-1, 1),\n",
    "                 random.uniform(-1, 1),\n",
    "                 random.uniform(-1, 1)]\n",
    "\n",
    "w_perceptron2 = [random.uniform(-1, 1),\n",
    "                 random.uniform(-1, 1),\n",
    "                 random.uniform(-1, 1)]\n",
    "\n",
    "# Train AND perceptron\n",
    "def train_perceptron_and():\n",
    "    correcto = False\n",
    "    while not correcto:\n",
    "        mostrar_pesos(w_perceptron1)\n",
    "        correcto = True\n",
    "        random.shuffle(lista_indices)\n",
    "        for i in lista_indices:\n",
    "            x = x_train_perceptron1[i]\n",
    "            y = y_train_perceptron1[i]\n",
    "\n",
    "            y_p = calcula_salida(w_perceptron1, x)\n",
    "\n",
    "            if y != y_p:\n",
    "                for j in range(len(w_perceptron1)):\n",
    "                    w_perceptron1[j] += lr * y * x[j]\n",
    "                correcto = False\n",
    "\n",
    "# Train OR perceptron\n",
    "def train_perceptron_or():\n",
    "    correcto = False\n",
    "    while not correcto:\n",
    "        mostrar_pesos(w_perceptron2)\n",
    "        correcto = True\n",
    "        random.shuffle(lista_indices)\n",
    "        for i in lista_indices:\n",
    "            x = x_train_perceptron2[i]\n",
    "            y = y_train_perceptron2[i]\n",
    "\n",
    "            y_p = calcula_salida(w_perceptron2, x)\n",
    "\n",
    "            if y != y_p:\n",
    "                for j in range(len(w_perceptron2)):\n",
    "                    w_perceptron2[j] += lr * y * x[j]\n",
    "                correcto = False\n",
    "\n",
    "# Combine AND and OR perceptrons to create XOR perceptron\n",
    "def combine_and_or_to_xor():\n",
    "    w_perceptron_xor = [random.uniform(-1, 1),\n",
    "                        random.uniform(-1, 1),\n",
    "                        random.uniform(-1, 1)]\n",
    "\n",
    "    for i in range(len(w_perceptron_xor)):\n",
    "        w_perceptron_xor[i] = (-w_perceptron1[i] + w_perceptron2[i]) / 2\n",
    "        \n",
    "        if w_perceptron_xor[1] * w_perceptron_xor[2] >0:\n",
    "        # Change one of them to have the opposite sign\n",
    "         w_perceptron_xor[1] = -w_perceptron_xor[1]\n",
    "         # w_perceptron_xor[0] = w_perceptron_xor[0] - 0.1\n",
    "\n",
    "    w_perceptron_xor[0] = w_perceptron_xor[0] - 0.1\n",
    "         \n",
    "         \n",
    "\n",
    "    return w_perceptron_xor\n",
    "\n",
    "print(\"Training Perceptron 1 (AND Gate)\")\n",
    "train_perceptron_and()\n",
    "\n",
    "print(\"\\nTraining Perceptron 2 (OR Gate)\")\n",
    "train_perceptron_or()\n",
    "\n",
    "print(\"\\nCombining Perceptron 1 and 2 to create Perceptron 3 (XOR Gate)\")\n",
    "w_perceptron3 = combine_and_or_to_xor()\n",
    "\n",
    "mostrar_pesos(w_perceptron3)\n"
   ]
  },
  {
   "cell_type": "code",
   "execution_count": 62,
   "metadata": {},
   "outputs": [
    {
     "name": "stdout",
     "output_type": "stream",
     "text": [
      "Output of the XOR gate for input (1, 1): -1\n"
     ]
    }
   ],
   "source": [
    "# Using the third perceptron (XOR gate) with input (1, 1)\n",
    "input_xor = (1, -1, -1)  # Add the bias term (1) to the input\n",
    "output_xor = calcula_salida(w_perceptron3, input_xor)\n",
    "\n",
    "print(\"Output of the XOR gate for input (1, 1):\", output_xor)"
   ]
  },
  {
   "cell_type": "markdown",
   "metadata": {},
   "source": []
  },
  {
   "cell_type": "code",
   "execution_count": null,
   "metadata": {},
   "outputs": [],
   "source": [
    "# Combine the two perceptrons to create a third one for XOR\n",
    "def combined_perceptron(inputs):\n",
    "    output1 = calcula_salida(w_perceptron1,inputs)\n",
    "    output2 = calcula_salida(w_perceptron2,inputs)\n",
    "\n",
    "    # Create a new input list with the outputs from perceptron1 and perceptron2\n",
    "    new_inputs = [1, output1, output2]\n",
    "\n",
    "    # Define weights for the third perceptron\n",
    "    w_perceptron3 = [random.uniform(-1, 1),\n",
    "                     random.uniform(-1, 1),\n",
    "                     random.uniform(-1, 1)]\n",
    "\n",
    "    # Train the third perceptron\n",
    "    correcto = False\n",
    "    while not correcto:\n",
    "        correcto = True\n",
    "        random.shuffle(lista_indices)\n",
    "        for i in lista_indices:\n",
    "            x = new_inputs\n",
    "            y = y_train_perceptron1[i]  # Use y_train_perceptron1 for the combined perceptron\n",
    "\n",
    "            y_p = calcula_salida(w_perceptron3, x)\n",
    "\n",
    "            if y != y_p:\n",
    "                for j in range(len(w_perceptron3)):\n",
    "                    w_perceptron3[j] += lr * y * x[j]\n",
    "\n",
    "                correcto = False\n",
    "\n",
    "    return w_perceptron3\n",
    "\n",
    "\n",
    "# Call the combined perceptron with appropriate inputs\n",
    "inputs_for_combined_perceptron = [1, -1, -1]  # Replace these inputs with the XOR inputs you want to test\n",
    "w_perceptron3_combined = combined_perceptron(inputs_for_combined_perceptron)\n",
    "mostrar_pesos(w_perceptron3_combined)\n",
    "\n",
    "# Now, you can use the third perceptron (w_perceptron3_combined) to make predictions for XOR inputs.\n",
    "# You can define a function similar to `calcula_salida` to calculate the output for the third perceptron using sigmoid function."
   ]
  }
 ],
 "metadata": {
  "kernelspec": {
   "display_name": "Python 3",
   "language": "python",
   "name": "python3"
  },
  "language_info": {
   "codemirror_mode": {
    "name": "ipython",
    "version": 3
   },
   "file_extension": ".py",
   "mimetype": "text/x-python",
   "name": "python",
   "nbconvert_exporter": "python",
   "pygments_lexer": "ipython3",
   "version": "3.10.7"
  },
  "orig_nbformat": 4
 },
 "nbformat": 4,
 "nbformat_minor": 2
}
