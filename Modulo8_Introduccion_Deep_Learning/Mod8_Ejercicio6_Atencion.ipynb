{
 "cells": [
  {
   "cell_type": "markdown",
   "metadata": {},
   "source": [
    "#### <font color=\"#03997A\"> Diplomado en Ciencia de datos UNAM </font>\n",
    "\n",
    "##### <font color=\"#03997A\"> Dr: Alejandro Pimentel  </font>\n",
    "\n",
    "##### <font color=\"#03997A\"> Modulo 8 Introducción al Deep Learning </font>\n",
    "\n",
    "##### <font color=\"#03997A\"> Ejercicio 6 Atención  Alumno: Ibarra Ramírez Sergio </font>"
   ]
  },
  {
   "cell_type": "markdown",
   "metadata": {},
   "source": [
    "## Pregunta1 \n",
    "Inicialmente, nosotros separamos nuestros modelos de codificador y decodificador, esta es una práctica común.\n",
    "Explica qué ventajas se pueden lograr al tener los dos modelos por separado."
   ]
  },
  {
   "cell_type": "markdown",
   "metadata": {},
   "source": [
    "La principal ventaja de separar las redes de codificador y decodiciador es que. El proceso de codificación, permite hacer una transformación de palabras a números o vectores de números y con ello tener codificado en un lenguaje matemático la expresión escrita, es decir, resultaría de mucho interes codificar todas las palabras del idioma inges y asignar a cada una un número o característica dentro de un vector que me permita leer con el lenguaje matemático un concepto abstracto como el idioma inglés.\n",
    "\n",
    "Y entonces habiendo hecho este primer paso de CODIFICACIÓN del idioma inglés, el vector o matriz de cñodigos resultante puede fungir como input de VARIOS decodificadores que por ejemplo, tengan la tarea de traducir del inglés al francés, español, alemñan, etc, etc. Todos ellos necesitan como input la matriz codificada del idioma inglés para con otra red aplicar la decodificación especñifica a su propio idioma. De esta manera se evita tener que entrar una red de codificación cada que se requiera el inglés como base y ademñas se asegura universalidad en los inputs the todos los decodificadores que neceisten como codificador uno de  palabras del inglés "
   ]
  },
  {
   "cell_type": "markdown",
   "metadata": {},
   "source": [
    "## Pregunta2\n",
    "En la práctica, se ha encontrado que agregar al codificador su misma entrada recorrida como salida para el backward (es decir, predecir las siguientes palabras a partir de las anteriores) logra pequeñas mejoras del sistema en general.\n",
    "Explica por qué podría darse esto."
   ]
  },
  {
   "cell_type": "markdown",
   "metadata": {},
   "source": [
    "Al proporcionar la salida del codificador como entrada al decodificador, se está inyectando información contextual adicional en el proceso de generación de la secuencia. Esto permite que el decodificador tenga en cuenta no solo las palabras generadas anteriormente, sino también las características clave de la entrada original. Esto es especialmente útil en tareas de generación de lenguaje natural, donde la coherencia y el contexto son cruciales\n",
    "En muchas tareas, la información en la salida del codificador ya contiene una representación procesada y enriquecida de la entrada original. Al alimentar esta información de nuevo al decodificador, se está aprovechando el conocimiento previamente aprendido durante la codificación para guiar la generación."
   ]
  },
  {
   "cell_type": "markdown",
   "metadata": {},
   "source": [
    "## Pregunta3\n",
    "En nuestra implementación, no tenemos una capa de Embeddings para el decodificador.\n",
    "Por qué?\n",
    "En qué casos sería necesario incluir una capa de embeddings?"
   ]
  },
  {
   "cell_type": "markdown",
   "metadata": {},
   "source": [
    "Se usa embeding en el codificador pues es necesario asignar a cada elemento un número dentro de la matriz de embedings, es parte del proceso de trasnformación de lenguaje humano a lenguaje matemático. Por otra parte el decodificador lleva a cabo una especie de proceso inverso en el que toma como inputs las matrices cofificadas y trata de asignar a cada elemento en la matriz la palabras que le corresponde según la lógica del decoficiador, por lo tanto en el decodificador ya no es necesario ese proceso de asignción de IDs que ya se hizo en el codificador  "
   ]
  }
 ],
 "metadata": {
  "language_info": {
   "name": "python"
  },
  "orig_nbformat": 4
 },
 "nbformat": 4,
 "nbformat_minor": 2
}
