{
 "cells": [
  {
   "cell_type": "markdown",
   "metadata": {},
   "source": [
    "#### <font color=\"#03997A\"> Diplomado en Ciencia de datos UNAM </font>\n",
    "\n",
    "##### <font color=\"#03997A\"> Dr: Alejandro Pimentel  </font>\n",
    "\n",
    "##### <font color=\"#03997A\"> Modulo 8 Introducción al Deep Learning </font>\n",
    "\n",
    "\n",
    "##### <font color=\"#03997A\"> Tema 6\n",
    "Encoder-Decoer & ATENCIÓN Alumno: Ibarra Ramírez Sergio </font>"
   ]
  },
  {
   "cell_type": "markdown",
   "metadata": {},
   "source": []
  },
  {
   "cell_type": "markdown",
   "metadata": {},
   "source": [
    "## Traducción "
   ]
  },
  {
   "cell_type": "code",
   "execution_count": 1,
   "metadata": {},
   "outputs": [
    {
     "ename": "FileNotFoundError",
     "evalue": "[Errno 2] No such file or directory: 'train.en'",
     "output_type": "error",
     "traceback": [
      "\u001b[1;31m---------------------------------------------------------------------------\u001b[0m",
      "\u001b[1;31mFileNotFoundError\u001b[0m                         Traceback (most recent call last)",
      "\u001b[1;32mc:\\Users\\Sergio\\Documents\\SIR_Personal_Dell\\Diplomado_DC_UNAM\\Diplomado_DC_UNAM_FULL_Dell\\Diplomado_UNAM_DC_Full\\Modulo8_Introduccion_Deep_Learning\\Ejercicio6_Atencion_en_traduccion.ipynb Cell 4\u001b[0m in \u001b[0;36m<cell line: 7>\u001b[1;34m()\u001b[0m\n\u001b[0;32m      <a href='vscode-notebook-cell:/c%3A/Users/Sergio/Documents/SIR_Personal_Dell/Diplomado_DC_UNAM/Diplomado_DC_UNAM_FULL_Dell/Diplomado_UNAM_DC_Full/Modulo8_Introduccion_Deep_Learning/Ejercicio6_Atencion_en_traduccion.ipynb#X44sZmlsZQ%3D%3D?line=3'>4</a>\u001b[0m archivo_eng_test \u001b[39m=\u001b[39m \u001b[39m\"\u001b[39m\u001b[39mval.en\u001b[39m\u001b[39m\"\u001b[39m\n\u001b[0;32m      <a href='vscode-notebook-cell:/c%3A/Users/Sergio/Documents/SIR_Personal_Dell/Diplomado_DC_UNAM/Diplomado_DC_UNAM_FULL_Dell/Diplomado_UNAM_DC_Full/Modulo8_Introduccion_Deep_Learning/Ejercicio6_Atencion_en_traduccion.ipynb#X44sZmlsZQ%3D%3D?line=4'>5</a>\u001b[0m archivo_fr_test \u001b[39m=\u001b[39m \u001b[39m\"\u001b[39m\u001b[39mval.en\u001b[39m\u001b[39m\"\u001b[39m\n\u001b[1;32m----> <a href='vscode-notebook-cell:/c%3A/Users/Sergio/Documents/SIR_Personal_Dell/Diplomado_DC_UNAM/Diplomado_DC_UNAM_FULL_Dell/Diplomado_UNAM_DC_Full/Modulo8_Introduccion_Deep_Learning/Ejercicio6_Atencion_en_traduccion.ipynb#X44sZmlsZQ%3D%3D?line=6'>7</a>\u001b[0m \u001b[39mwith\u001b[39;00m \u001b[39mopen\u001b[39;49m(archivo_eng_train) \u001b[39mas\u001b[39;00m archivo:\n\u001b[0;32m      <a href='vscode-notebook-cell:/c%3A/Users/Sergio/Documents/SIR_Personal_Dell/Diplomado_DC_UNAM/Diplomado_DC_UNAM_FULL_Dell/Diplomado_UNAM_DC_Full/Modulo8_Introduccion_Deep_Learning/Ejercicio6_Atencion_en_traduccion.ipynb#X44sZmlsZQ%3D%3D?line=7'>8</a>\u001b[0m     contenido_eng \u001b[39m=\u001b[39m archivo\u001b[39m.\u001b[39mread()\u001b[39m.\u001b[39mlower()\n\u001b[0;32m      <a href='vscode-notebook-cell:/c%3A/Users/Sergio/Documents/SIR_Personal_Dell/Diplomado_DC_UNAM/Diplomado_DC_UNAM_FULL_Dell/Diplomado_UNAM_DC_Full/Modulo8_Introduccion_Deep_Learning/Ejercicio6_Atencion_en_traduccion.ipynb#X44sZmlsZQ%3D%3D?line=8'>9</a>\u001b[0m     textos_eng_train \u001b[39m=\u001b[39m contenido_eng\u001b[39m.\u001b[39msplit(\u001b[39m'\u001b[39m\u001b[39m\\n\u001b[39;00m\u001b[39m'\u001b[39m)\n",
      "\u001b[1;31mFileNotFoundError\u001b[0m: [Errno 2] No such file or directory: 'train.en'"
     ]
    }
   ],
   "source": [
    "archivo_eng_train = \"train.en\"\n",
    "archivo_fr_train = \"train.fr\"\n",
    "\n",
    "archivo_eng_test = \"val.en\"\n",
    "archivo_fr_test = \"val.en\"\n",
    "\n",
    "with open(archivo_eng_train) as archivo:\n",
    "    contenido_eng = archivo.read().lower()\n",
    "    textos_eng_train = contenido_eng.split('\\n')\n",
    "\n",
    "with open(archivo_fr_train) as archivo:\n",
    "    contenido_fr = archivo.read().lower()\n",
    "    textos_fr_train = contenido_fr.split('\\n')\n",
    "\n",
    "with open(archivo_eng_test) as archivo:\n",
    "    contenido_eng = archivo.read().lower()\n",
    "    textos_eng_test = contenido_eng.split('\\n')\n",
    "\n",
    "with open(archivo_fr_test) as archivo:\n",
    "    contenido_fr = archivo.read().lower()\n",
    "    textos_fr_test = contenido_fr.split('\\n')"
   ]
  },
  {
   "cell_type": "markdown",
   "metadata": {},
   "source": []
  },
  {
   "cell_type": "code",
   "execution_count": null,
   "metadata": {},
   "outputs": [],
   "source": [
    "import nltk\n",
    "\n",
    "tokenizador = nltk.tokenize.RegexpTokenizer(r'\\w+')\n",
    "\n",
    "textos_eng_train = [tokenizador.tokenize(texto) for texto in textos_eng_train]\n",
    "textos_fr_train = [tokenizador.tokenize(texto) for texto in textos_fr_train]\n",
    "\n",
    "textos_eng_test = [tokenizador.tokenize(texto) for texto in textos_eng_test]\n",
    "textos_fr_test = [tokenizador.tokenize(texto) for texto in textos_fr_test]\n",
    "textos_fr_test"
   ]
  },
  {
   "cell_type": "code",
   "execution_count": null,
   "metadata": {},
   "outputs": [],
   "source": [
    "max_len = max(len(tokens) for tokens in textos_fr_train)\n",
    "max_len"
   ]
  },
  {
   "cell_type": "code",
   "execution_count": null,
   "metadata": {},
   "outputs": [],
   "source": [
    "max_oracion = 10"
   ]
  },
  {
   "cell_type": "code",
   "execution_count": null,
   "metadata": {},
   "outputs": [],
   "source": [
    "from tensorflow.keras.preprocessing.text import Tokenizer\n",
    "\n",
    "tokenizador_eng = Tokenizer(num_words=num_palabras,oov_token=\"UNK\")\n",
    "tokenizador_fr = Tokenizer(num_words=num_palabras,oov_token=\"UNK\")\n",
    "\n",
    "tokenizador_eng.fit_on_texts(textos_eng_train)\n",
    "tokenizador_fr.fit_on_texts(textos_fr_train)\n",
    "\n",
    "X_eng = tokenizador_eng.texts_to_sequences(textos_eng_train)\n",
    "X_fr = tokenizador_fr.texts_to_sequences(textos_fr_train)\n",
    "\n",
    "from tensorflow.keras.preprocessing.sequence import pad_sequences\n",
    "\n",
    "X_eng = pad_sequences(X_eng, maxlen=max_oracion, padding='post')\n",
    "X_fr = pad_sequences(X_fr, maxlen=max_oracion, padding='post')"
   ]
  },
  {
   "cell_type": "code",
   "execution_count": null,
   "metadata": {},
   "outputs": [],
   "source": [
    "modelo_cod_decod.compile(optimizer=\"adam\",\n",
    "               loss=\"sparse_categorical_crossentropy\",\n",
    "               metrics=[\"accuracy\"])"
   ]
  }
 ],
 "metadata": {
  "kernelspec": {
   "display_name": "Python 3",
   "language": "python",
   "name": "python3"
  },
  "language_info": {
   "codemirror_mode": {
    "name": "ipython",
    "version": 3
   },
   "file_extension": ".py",
   "mimetype": "text/x-python",
   "name": "python",
   "nbconvert_exporter": "python",
   "pygments_lexer": "ipython3",
   "version": "3.10.5"
  },
  "orig_nbformat": 4
 },
 "nbformat": 4,
 "nbformat_minor": 2
}
