{
 "cells": [
  {
   "cell_type": "markdown",
   "metadata": {},
   "source": [
    "#### <font color=\"#03997A\"> Diplomado en Ciencia de datos UNAM </font>\n",
    "\n",
    "##### <font color=\"#03997A\"> Dr: Alejandro Pimentel  </font>\n",
    "\n",
    "##### <font color=\"#03997A\"> Modulo 8 Introducción al Deep Learning </font>\n",
    "\n",
    "##### <font color=\"#03997A\"> Tema 3 Representación de operaciones matriciales en lenguaje tensorial (apliado a clasicación de imagenes)    Alumno: Ibarra Ramírez Sergio </font>"
   ]
  },
  {
   "cell_type": "markdown",
   "metadata": {},
   "source": [
    "La data será tomada de: MNIST handwritten digit database, Yann LeCun, Corinna Cortes and Chris Burges"
   ]
  },
  {
   "cell_type": "markdown",
   "metadata": {},
   "source": [
    "Se descargará la data de los digitos escritos a mano"
   ]
  },
  {
   "cell_type": "code",
   "execution_count": 35,
   "metadata": {},
   "outputs": [
    {
     "name": "stderr",
     "output_type": "stream",
     "text": [
      "\"wget\" no se reconoce como un comando interno o externo,\n",
      "programa o archivo por lotes ejecutable.\n",
      "\"wget\" no se reconoce como un comando interno o externo,\n",
      "programa o archivo por lotes ejecutable.\n",
      "\"wget\" no se reconoce como un comando interno o externo,\n",
      "programa o archivo por lotes ejecutable.\n",
      "\"wget\" no se reconoce como un comando interno o externo,\n",
      "programa o archivo por lotes ejecutable.\n"
     ]
    }
   ],
   "source": [
    "!wget http://yann.lecun.com/exdb/mnist/train-images-idx3-ubyte.gz\n",
    "!wget http://yann.lecun.com/exdb/mnist/train-labels-idx1-ubyte.gz\n",
    "!wget http://yann.lecun.com/exdb/mnist/t10k-images-idx3-ubyte.gz\n",
    "!wget http://yann.lecun.com/exdb/mnist/t10k-labels-idx1-ubyte.gz"
   ]
  },
  {
   "cell_type": "code",
   "execution_count": 36,
   "metadata": {},
   "outputs": [
    {
     "name": "stdout",
     "output_type": "stream",
     "text": [
      "Downloaded train-images-idx3-ubyte.gz\n",
      "Downloaded train-labels-idx1-ubyte.gz\n",
      "Downloaded t10k-images-idx3-ubyte.gz\n",
      "Downloaded t10k-labels-idx1-ubyte.gz\n"
     ]
    }
   ],
   "source": [
    "import requests\n",
    "\n",
    "urls = [\n",
    "    \"http://yann.lecun.com/exdb/mnist/train-images-idx3-ubyte.gz\",\n",
    "    \"http://yann.lecun.com/exdb/mnist/train-labels-idx1-ubyte.gz\",\n",
    "    \"http://yann.lecun.com/exdb/mnist/t10k-images-idx3-ubyte.gz\",\n",
    "    \"http://yann.lecun.com/exdb/mnist/t10k-labels-idx1-ubyte.gz\"\n",
    "]\n",
    "\n",
    "for url in urls:\n",
    "    filename = url.split(\"/\")[-1]  # Extract the filename from the URL\n",
    "    response = requests.get(url)\n",
    "    with open(filename, \"wb\") as f:\n",
    "        f.write(response.content)\n",
    "    print(f\"Downloaded {filename}\")\n"
   ]
  },
  {
   "cell_type": "markdown",
   "metadata": {},
   "source": [
    "Se deben descomprimir los datos pues están en modo .gz"
   ]
  },
  {
   "cell_type": "code",
   "execution_count": 37,
   "metadata": {},
   "outputs": [
    {
     "name": "stderr",
     "output_type": "stream",
     "text": [
      "gzip: train-images-idx3-ubyte already exists;\tnot overwritten\n",
      "gzip: train-labels-idx1-ubyte already exists;\tnot overwritten\n",
      "gzip: t10k-images-idx3-ubyte already exists;\tnot overwritten\n",
      "gzip: t10k-labels-idx1-ubyte already exists;\tnot overwritten\n"
     ]
    }
   ],
   "source": [
    "!gzip -d train-images-idx3-ubyte.gz\n",
    "!gzip -d train-labels-idx1-ubyte.gz\n",
    "!gzip -d t10k-images-idx3-ubyte.gz\n",
    "!gzip -d t10k-labels-idx1-ubyte.gz"
   ]
  },
  {
   "cell_type": "markdown",
   "metadata": {},
   "source": []
  },
  {
   "cell_type": "code",
   "execution_count": 38,
   "metadata": {},
   "outputs": [
    {
     "name": "stdout",
     "output_type": "stream",
     "text": [
      "Downloaded train-images-idx3-ubyte.gz\n",
      "Unzipped train-images-idx3-ubyte.gz\n",
      "Downloaded train-labels-idx1-ubyte.gz\n",
      "Unzipped train-labels-idx1-ubyte.gz\n",
      "Downloaded t10k-images-idx3-ubyte.gz\n",
      "Unzipped t10k-images-idx3-ubyte.gz\n",
      "Downloaded t10k-labels-idx1-ubyte.gz\n",
      "Unzipped t10k-labels-idx1-ubyte.gz\n"
     ]
    }
   ],
   "source": [
    "import requests\n",
    "import gzip\n",
    "import shutil\n",
    "\n",
    "urls = [\n",
    "    \"http://yann.lecun.com/exdb/mnist/train-images-idx3-ubyte.gz\",\n",
    "    \"http://yann.lecun.com/exdb/mnist/train-labels-idx1-ubyte.gz\",\n",
    "    \"http://yann.lecun.com/exdb/mnist/t10k-images-idx3-ubyte.gz\",\n",
    "    \"http://yann.lecun.com/exdb/mnist/t10k-labels-idx1-ubyte.gz\"\n",
    "]\n",
    "\n",
    "for url in urls:\n",
    "    filename = url.split(\"/\")[-1]  # Extract the filename from the URL\n",
    "    response = requests.get(url)\n",
    "    with open(filename, \"wb\") as f:\n",
    "        f.write(response.content)\n",
    "    print(f\"Downloaded {filename}\")\n",
    "    \n",
    "    # Unzip the file\n",
    "    with gzip.open(filename, \"rb\") as f_in:\n",
    "        with open(filename[:-3], \"wb\") as f_out:  # Remove the .gz extension from the filename\n",
    "            shutil.copyfileobj(f_in, f_out)\n",
    "    print(f\"Unzipped {filename}\")\n"
   ]
  },
  {
   "cell_type": "markdown",
   "metadata": {},
   "source": [
    "Debemos guardar las imagenes en variables "
   ]
  },
  {
   "cell_type": "code",
   "execution_count": 39,
   "metadata": {},
   "outputs": [],
   "source": [
    "import idx2numpy\n",
    "\n",
    "ruta_train_images = 'train-images-idx3-ubyte'\n",
    "ruta_train_labels = 'train-labels-idx1-ubyte'\n",
    "ruta_test_images = 't10k-images-idx3-ubyte'\n",
    "ruta_test_labels = 't10k-labels-idx1-ubyte'\n",
    "\n",
    "train_images = idx2numpy.convert_from_file(ruta_train_images)\n",
    "train_labels = idx2numpy.convert_from_file(ruta_train_labels)\n",
    "test_images = idx2numpy.convert_from_file(ruta_test_images)\n",
    "test_labels = idx2numpy.convert_from_file(ruta_test_labels)"
   ]
  },
  {
   "cell_type": "code",
   "execution_count": 40,
   "metadata": {},
   "outputs": [
    {
     "data": {
      "text/plain": [
       "array([7, 2, 1, ..., 4, 5, 6], dtype=uint8)"
      ]
     },
     "execution_count": 40,
     "metadata": {},
     "output_type": "execute_result"
    }
   ],
   "source": [
    "test_labels"
   ]
  },
  {
   "cell_type": "code",
   "execution_count": 41,
   "metadata": {},
   "outputs": [
    {
     "name": "stdout",
     "output_type": "stream",
     "text": [
      "(60000, 28, 28)\n",
      "(60000,)\n",
      "(10000, 28, 28)\n",
      "(10000,)\n"
     ]
    }
   ],
   "source": [
    "print(train_images.shape)\n",
    "print(train_labels.shape)\n",
    "print(test_images.shape)\n",
    "print(test_labels.shape)"
   ]
  },
  {
   "cell_type": "markdown",
   "metadata": {},
   "source": [
    "Para intentar visualizar los datos "
   ]
  },
  {
   "cell_type": "code",
   "execution_count": 42,
   "metadata": {},
   "outputs": [
    {
     "data": {
      "image/png": "[encoded data removed]",
      "text/plain": [
       "<Figure size 432x288 with 5 Axes>"
      ]
     },
     "metadata": {},
     "output_type": "display_data"
    }
   ],
   "source": [
    "import matplotlib.pyplot as plt\n",
    "\n",
    "imagenes_mostrar = train_images[:5] # unas 5\n",
    "labels_mostrar = train_labels[:5]\n",
    "for i, (img,label) in enumerate(zip(imagenes_mostrar,labels_mostrar)):\n",
    "    plt.subplot(151 + i) #esto es para que las ponga lado a lado, se interpreta cada dígito (1: renglon, 5:columnas, x: el indice en el que se va poniendo)\n",
    "    plt.imshow(img)\n",
    "    plt.xticks([])\n",
    "    plt.yticks([])\n",
    "    plt.title(label)"
   ]
  },
  {
   "cell_type": "code",
   "execution_count": 43,
   "metadata": {},
   "outputs": [
    {
     "data": {
      "text/plain": [
       "(60000, 784)"
      ]
     },
     "execution_count": 43,
     "metadata": {},
     "output_type": "execute_result"
    }
   ],
   "source": [
    "train_images.reshape([-1,784]).shape"
   ]
  },
  {
   "cell_type": "markdown",
   "metadata": {},
   "source": [
    "Volvemos a importar los datos y normalizarlos "
   ]
  },
  {
   "cell_type": "code",
   "execution_count": 44,
   "metadata": {},
   "outputs": [
    {
     "name": "stderr",
     "output_type": "stream",
     "text": [
      "c:\\Users\\Sergio\\AppData\\Local\\Programs\\Python\\Python310\\lib\\site-packages\\sklearn\\datasets\\_openml.py:968: FutureWarning: The default value of `parser` will change from `'liac-arff'` to `'auto'` in 1.4. You can set `parser='auto'` to silence this warning. Therefore, an `ImportError` will be raised from 1.4 if the dataset is dense and pandas is not installed. Note that the pandas parser may return different data types. See the Notes Section in fetch_openml's API doc for details.\n",
      "  warn(\n"
     ]
    }
   ],
   "source": [
    "from sklearn.datasets import fetch_openml\n",
    "from sklearn.preprocessing import normalize\n",
    "\n",
    "X,y = fetch_openml('mnist_784', as_frame=False, return_X_y=True)"
   ]
  },
  {
   "cell_type": "code",
   "execution_count": 45,
   "metadata": {},
   "outputs": [],
   "source": [
    "X = normalize(X)"
   ]
  },
  {
   "cell_type": "code",
   "execution_count": 46,
   "metadata": {},
   "outputs": [],
   "source": [
    "X_train = X[:60000]\n",
    "X_test = X[60000:]\n",
    "y_train = y[:60000]\n",
    "y_test = y[60000:]"
   ]
  },
  {
   "cell_type": "code",
   "execution_count": 47,
   "metadata": {},
   "outputs": [
    {
     "data": {
      "text/plain": [
       "(60000, 784)"
      ]
     },
     "execution_count": 47,
     "metadata": {},
     "output_type": "execute_result"
    }
   ],
   "source": [
    "X_train.shape"
   ]
  },
  {
   "cell_type": "code",
   "execution_count": 48,
   "metadata": {},
   "outputs": [
    {
     "data": {
      "text/plain": [
       "(60000,)"
      ]
     },
     "execution_count": 48,
     "metadata": {},
     "output_type": "execute_result"
    }
   ],
   "source": [
    "y_train.shape"
   ]
  },
  {
   "cell_type": "markdown",
   "metadata": {},
   "source": [
    "##### Vamos a hacer Encoding de nuestros datos de entrnamiento "
   ]
  },
  {
   "cell_type": "code",
   "execution_count": 49,
   "metadata": {},
   "outputs": [
    {
     "name": "stderr",
     "output_type": "stream",
     "text": [
      "c:\\Users\\Sergio\\AppData\\Local\\Programs\\Python\\Python310\\lib\\site-packages\\sklearn\\preprocessing\\_encoders.py:868: FutureWarning: `sparse` was renamed to `sparse_output` in version 1.2 and will be removed in 1.4. `sparse_output` is ignored unless you leave `sparse` to its default value.\n",
      "  warnings.warn(\n"
     ]
    }
   ],
   "source": [
    "from sklearn.preprocessing import OneHotEncoder\n",
    "\n",
    "codificador = OneHotEncoder(handle_unknown='ignore',sparse=False)\n",
    "y_train = codificador.fit_transform(y_train.reshape(-1,1))\n",
    "y_test = codificador.transform(y_test.reshape(-1,1))"
   ]
  },
  {
   "cell_type": "markdown",
   "metadata": {},
   "source": [
    "#### Uso de Tensorflow para operaciones matriciales en redes neuronales "
   ]
  },
  {
   "cell_type": "code",
   "execution_count": 50,
   "metadata": {},
   "outputs": [],
   "source": [
    "import tensorflow as tf"
   ]
  },
  {
   "cell_type": "markdown",
   "metadata": {},
   "source": [
    "##### Preparación del dataset"
   ]
  },
  {
   "cell_type": "code",
   "execution_count": 51,
   "metadata": {},
   "outputs": [],
   "source": [
    "X_train = tf.constant(X_train, dtype=tf.float32)\n",
    "X_test = tf.constant(X_test, dtype=tf.float32)\n",
    "y_train = tf.constant(y_train, dtype=tf.float32)\n",
    "y_test = tf.constant(y_test, dtype=tf.float32)"
   ]
  },
  {
   "cell_type": "code",
   "execution_count": 52,
   "metadata": {},
   "outputs": [
    {
     "data": {
      "text/plain": [
       "<_TensorSliceDataset element_spec=(TensorSpec(shape=(784,), dtype=tf.float32, name=None), TensorSpec(shape=(10,), dtype=tf.float32, name=None))>"
      ]
     },
     "execution_count": 52,
     "metadata": {},
     "output_type": "execute_result"
    }
   ],
   "source": [
    "train_dataset = tf.data.Dataset.from_tensor_slices((X_train, y_train))\n",
    "train_dataset"
   ]
  },
  {
   "cell_type": "code",
   "execution_count": 53,
   "metadata": {},
   "outputs": [],
   "source": [
    "batch_size = 100 # Hiperparámetro\n",
    "train_dataset = train_dataset.shuffle(batch_size).batch(batch_size)"
   ]
  },
  {
   "cell_type": "markdown",
   "metadata": {},
   "source": [
    "##### Preparación variables"
   ]
  },
  {
   "cell_type": "code",
   "execution_count": 17,
   "metadata": {},
   "outputs": [
    {
     "data": {
      "text/plain": [
       "<tf.Variable 'Variable:0' shape=(784, 10) dtype=float32, numpy=\n",
       "array([[-0.30753258, -1.2149626 , -1.9931554 , ...,  0.13749386,\n",
       "         2.0993571 , -0.37690735],\n",
       "       [-0.06764327,  0.49559096, -0.29431745, ..., -0.40764785,\n",
       "         0.78381425,  0.47021767],\n",
       "       [-0.7162544 , -0.32125425, -1.6100748 , ...,  0.23286887,\n",
       "         0.26749995,  1.322216  ],\n",
       "       ...,\n",
       "       [ 0.20663024, -0.7190787 ,  0.1175336 , ..., -0.62844926,\n",
       "        -0.5854526 , -1.1917955 ],\n",
       "       [ 0.6415726 ,  0.8884698 , -0.44208544, ..., -0.5167156 ,\n",
       "         0.30139846,  1.6096809 ],\n",
       "       [ 0.5068232 , -0.99827564, -0.07359977, ..., -0.03207283,\n",
       "         1.4565719 ,  1.9155548 ]], dtype=float32)>"
      ]
     },
     "execution_count": 17,
     "metadata": {},
     "output_type": "execute_result"
    }
   ],
   "source": [
    "b = tf.Variable(tf.random.normal([10]))\n",
    "W = tf.Variable(tf.random.normal([784,10]))\n",
    "W"
   ]
  },
  {
   "cell_type": "markdown",
   "metadata": {},
   "source": [
    "Una vez que se definan las constantes y varibles se debe usar un optimizador (Nosotros sabemusar el stochastich gradient descent)"
   ]
  },
  {
   "cell_type": "code",
   "execution_count": 18,
   "metadata": {},
   "outputs": [
    {
     "data": {
      "text/plain": [
       "<keras.src.optimizers.sgd.SGD at 0x1deb4de3760>"
      ]
     },
     "execution_count": 18,
     "metadata": {},
     "output_type": "execute_result"
    }
   ],
   "source": [
    "optimizador = tf.keras.optimizers.experimental.SGD(learning_rate=0.1)\n",
    "optimizador\n"
   ]
  },
  {
   "cell_type": "markdown",
   "metadata": {},
   "source": [
    "Se entrena como tal a la red (recordando que cada que se recorre el train y teast por completo 1 vez se habrá terminado 1 epoch)"
   ]
  },
  {
   "cell_type": "code",
   "execution_count": 23,
   "metadata": {},
   "outputs": [
    {
     "name": "stdout",
     "output_type": "stream",
     "text": [
      "tf.Tensor(2.1756396, shape=(), dtype=float32)\n",
      "tf.Tensor(1.656294, shape=(), dtype=float32)\n",
      "tf.Tensor(1.3567187, shape=(), dtype=float32)\n",
      "tf.Tensor(1.1640776, shape=(), dtype=float32)\n",
      "tf.Tensor(1.03269, shape=(), dtype=float32)\n",
      "tf.Tensor(0.93807155, shape=(), dtype=float32)\n",
      "tf.Tensor(0.8668094, shape=(), dtype=float32)\n",
      "tf.Tensor(0.81120795, shape=(), dtype=float32)\n",
      "tf.Tensor(0.76654804, shape=(), dtype=float32)\n",
      "tf.Tensor(0.72984254, shape=(), dtype=float32)\n"
     ]
    }
   ],
   "source": [
    "epochs = 10\n",
    "for _ in range(epochs):\n",
    "  loss_epoch = 0\n",
    "  for x,y in train_dataset:\n",
    "    with tf.GradientTape() as gt:\n",
    "      operacion_matricial = tf.matmul(x,W)+b\n",
    "      probs = tf.nn.softmax(operacion_matricial)\n",
    "\n",
    "      prob_as = probs*y\n",
    "      vec_probs = tf.reduce_sum(prob_as,axis=1)\n",
    "      x_ent = -tf.math.log(vec_probs)\n",
    "      loss = tf.reduce_mean(x_ent)\n",
    "      optimizador.minimize(loss,[W,b],gt) # Poderosa\n",
    "\n",
    "    loss_epoch += loss/len(train_dataset)\n",
    "  print(loss_epoch)"
   ]
  },
  {
   "cell_type": "markdown",
   "metadata": {},
   "source": [
    "Predicción del test - y TEIENDO LOS VALORES DE w Y B OPTIMOS SE HACE DE NUEVO EL FORWARD PARA ENCONTRAR LA PROBABILIDAD DEL ARRAY DE 10 QUE ASIGNO EL MODELOS EN CADA CASO"
   ]
  },
  {
   "cell_type": "code",
   "execution_count": 24,
   "metadata": {},
   "outputs": [
    {
     "name": "stdout",
     "output_type": "stream",
     "text": [
      "tf.Tensor(0.8354, shape=(), dtype=float32)\n"
     ]
    }
   ],
   "source": [
    "# Salida\n",
    "operacion_matricial = tf.matmul(X_test,W)+b\n",
    "probs = tf.nn.softmax(operacion_matricial)\n",
    "\n",
    "# Comparación\n",
    "max_preds = tf.argmax(probs,1)\n",
    "max_trues = tf.argmax(y_test,1)\n",
    "\n",
    "numCorrectos = tf.equal(max_preds,max_trues)\n",
    "acc = tf.reduce_mean(tf.cast(numCorrectos,tf.float32))\n",
    "print(acc)"
   ]
  },
  {
   "cell_type": "markdown",
   "metadata": {},
   "source": [
    "Las probabilidades de cada entrada del test está almacenado en probs "
   ]
  },
  {
   "cell_type": "code",
   "execution_count": 28,
   "metadata": {},
   "outputs": [
    {
     "data": {
      "text/plain": [
       "<tf.Tensor: shape=(), dtype=int64, numpy=2>"
      ]
     },
     "execution_count": 28,
     "metadata": {},
     "output_type": "execute_result"
    }
   ],
   "source": [
    "tf.argmax(probs[1])"
   ]
  },
  {
   "cell_type": "markdown",
   "metadata": {},
   "source": []
  },
  {
   "cell_type": "markdown",
   "metadata": {},
   "source": [
    "## Red multicapa  "
   ]
  },
  {
   "cell_type": "markdown",
   "metadata": {},
   "source": [
    "Se va requerir un juego de pesos por cada capa que se agrega"
   ]
  },
  {
   "cell_type": "code",
   "execution_count": 19,
   "metadata": {},
   "outputs": [
    {
     "data": {
      "text/plain": [
       "<tf.Variable 'Variable:0' shape=(784, 100) dtype=float32, numpy=\n",
       "array([[-1.0655898 ,  0.5867856 ,  0.10278023, ..., -0.67171293,\n",
       "         1.0557408 , -0.29290366],\n",
       "       [-0.01960463,  3.14933   , -0.76875454, ..., -0.10600251,\n",
       "         0.8589007 , -0.3688518 ],\n",
       "       [-0.14322668, -1.0788453 ,  0.89401436, ..., -0.93378145,\n",
       "        -0.26838753,  0.61136794],\n",
       "       ...,\n",
       "       [ 0.15409707, -1.173028  , -0.21940331, ...,  0.03382182,\n",
       "        -0.01626117, -0.06933744],\n",
       "       [ 0.53452945,  1.6555804 ,  0.00797502, ...,  0.79151964,\n",
       "        -0.49383244, -2.0725996 ],\n",
       "       [ 0.7187016 , -0.1269963 ,  0.4467561 , ...,  0.33816636,\n",
       "        -0.6230622 , -1.2263203 ]], dtype=float32)>"
      ]
     },
     "execution_count": 19,
     "metadata": {},
     "output_type": "execute_result"
    }
   ],
   "source": [
    "b1 = tf.Variable(tf.random.normal([100]))\n",
    "W1 = tf.Variable(tf.random.normal([784,100]))\n",
    "W1"
   ]
  },
  {
   "cell_type": "markdown",
   "metadata": {},
   "source": [
    "Por lo tanto se agregam los de la capa 2\n",
    "El numero de neuronas en un parametro libre a a justar.\n",
    "Pero la salida de una capa l son las mimsmas que la entrada de una capa l+1 \n",
    "Por ejemplo"
   ]
  },
  {
   "cell_type": "code",
   "execution_count": 20,
   "metadata": {},
   "outputs": [
    {
     "data": {
      "text/plain": [
       "<tf.Variable 'Variable:0' shape=(100, 10) dtype=float32, numpy=\n",
       "array([[-9.88353137e-03,  9.36933517e-01,  6.56131506e-01,\n",
       "        -1.69056296e+00,  2.59717196e-01,  4.22680050e-01,\n",
       "         5.43487668e-01,  4.69151646e-01, -6.61247373e-01,\n",
       "        -9.02418911e-01],\n",
       "       [-8.57270539e-01,  2.54323602e-01, -8.25115442e-01,\n",
       "        -1.41898108e+00, -3.20903093e-01, -5.17130017e-01,\n",
       "         1.75811157e-01, -2.28767097e-01,  9.77552906e-02,\n",
       "        -4.32990015e-01],\n",
       "       [-1.54011345e+00, -5.28988779e-01, -8.49090278e-01,\n",
       "         8.90005291e-01, -1.53810427e-01,  6.72276914e-01,\n",
       "        -5.43877125e-01, -2.30838013e+00,  9.97328699e-01,\n",
       "        -8.33864152e-01],\n",
       "       [-1.69103789e+00,  1.55457532e+00, -1.40280604e+00,\n",
       "        -2.61505961e-01,  5.12895644e-01,  4.32088226e-01,\n",
       "        -2.04270577e+00,  3.20805728e-01, -7.20988512e-01,\n",
       "         1.13052714e+00],\n",
       "       [-9.85208035e-01,  1.47641510e-01,  5.71585953e-01,\n",
       "         9.71475720e-01,  1.05501604e+00,  1.51857769e+00,\n",
       "        -2.99331069e-01,  3.89999270e-01, -1.00038297e-01,\n",
       "        -3.88023466e-01],\n",
       "       [-1.74229443e-01, -2.06509456e-01, -1.39677393e+00,\n",
       "        -3.20452511e-01, -1.36243427e+00, -6.38809577e-02,\n",
       "         1.46007228e+00, -9.70719159e-02,  9.98048306e-01,\n",
       "         1.89495355e-01],\n",
       "       [-4.84021276e-01,  4.13872689e-01,  1.05189562e-01,\n",
       "        -9.04894829e-01, -6.34007007e-02, -2.78425608e-02,\n",
       "         9.83518481e-01,  1.84287810e+00,  1.81273627e+00,\n",
       "         1.49179149e+00],\n",
       "       [-1.23250973e+00, -1.42790425e+00,  9.66275692e-01,\n",
       "        -1.64078009e+00,  9.47215378e-01,  4.54160988e-01,\n",
       "        -1.25934029e+00,  4.42885250e-01, -7.89967835e-01,\n",
       "        -9.58593965e-01],\n",
       "       [-1.12659073e+00, -1.63443351e+00,  1.68341982e+00,\n",
       "         4.97299850e-01, -1.46206573e-01, -5.86591847e-02,\n",
       "        -5.61975539e-02,  8.10242593e-01,  5.77572525e-01,\n",
       "         1.71315908e-01],\n",
       "       [-3.44252288e-02,  3.79052222e-01,  1.49737030e-01,\n",
       "        -8.31753314e-01,  1.01244271e+00, -5.32350481e-01,\n",
       "         7.40501359e-02, -1.33975947e+00,  1.32858098e+00,\n",
       "        -4.02892381e-01],\n",
       "       [ 1.31768420e-01,  1.61594927e+00, -2.81016159e+00,\n",
       "        -5.74710369e-01, -2.77874756e+00,  2.16404632e-01,\n",
       "        -4.25993264e-01, -2.10557163e-01, -7.76348054e-01,\n",
       "        -9.84665990e-01],\n",
       "       [-6.63369954e-01,  1.29027355e+00,  1.00243604e+00,\n",
       "         1.62308359e+00,  1.10669577e+00, -2.09612226e+00,\n",
       "         1.35903239e+00, -1.83468270e+00,  6.57029927e-01,\n",
       "         1.80358076e+00],\n",
       "       [-1.29466033e+00, -3.66065294e-01, -1.80712670e-01,\n",
       "        -2.42785406e+00, -3.64829004e-01,  8.38757306e-02,\n",
       "        -1.30155468e+00, -3.61760408e-01,  4.85005736e-01,\n",
       "        -1.43039629e-01],\n",
       "       [ 1.13301682e+00,  2.24119455e-01,  9.42297459e-01,\n",
       "         2.25503340e-01, -7.00254619e-01,  1.04419255e+00,\n",
       "         8.33096743e-01, -5.90141155e-02, -2.14267448e-01,\n",
       "        -3.77353251e-01],\n",
       "       [ 4.44710732e-01,  1.16310334e+00, -1.09850955e+00,\n",
       "        -2.69916207e-01,  6.50865078e-01, -1.00325835e+00,\n",
       "        -1.11855006e+00, -3.65209550e-01, -2.60179162e-01,\n",
       "         1.32865548e+00],\n",
       "       [-8.01324725e-01, -7.95471430e-01,  4.54019636e-01,\n",
       "         5.39377749e-01, -6.32942736e-01, -2.49115169e-01,\n",
       "         9.80740666e-01, -6.90080464e-01,  2.54305434e+00,\n",
       "        -1.69642246e+00],\n",
       "       [-7.21049607e-02,  2.27226645e-01,  8.19342673e-01,\n",
       "        -2.92200089e-01, -4.88807052e-01, -1.54541039e+00,\n",
       "        -8.24911445e-02,  2.39666820e-01,  8.25128376e-01,\n",
       "        -2.67517418e-01],\n",
       "       [-3.97627205e-01,  1.13868499e+00, -3.92884552e-01,\n",
       "        -7.08261788e-01, -3.89738053e-01,  1.43169737e+00,\n",
       "         4.21781480e-01,  1.15283541e-01,  7.23321021e-01,\n",
       "         5.38685203e-01],\n",
       "       [-1.56801450e+00, -5.49489796e-01,  9.91870821e-01,\n",
       "         3.71954411e-01,  5.16021609e-01, -2.63372159e+00,\n",
       "        -8.38314891e-01, -9.82877791e-01,  1.73468435e+00,\n",
       "         1.14951289e+00],\n",
       "       [-7.44835556e-01,  1.77868698e-02,  2.78809637e-01,\n",
       "        -2.89401919e-01,  3.06323200e-01,  1.51335585e+00,\n",
       "        -6.27449691e-01,  5.73176593e-02,  5.25898635e-01,\n",
       "        -1.00833678e+00],\n",
       "       [-9.03294504e-01, -1.29644132e+00,  5.56053996e-01,\n",
       "        -5.07710695e-01,  2.25304022e-01,  1.13114762e+00,\n",
       "         2.27273035e+00, -1.83283973e+00, -1.79153115e-01,\n",
       "         7.67461002e-01],\n",
       "       [ 1.46360981e+00, -8.93101037e-01,  1.37829316e+00,\n",
       "        -4.91283685e-01, -1.24891456e-02,  2.67815173e-01,\n",
       "         4.18445170e-01, -7.69073784e-01, -1.47120738e+00,\n",
       "        -3.62036824e-01],\n",
       "       [-2.50351262e+00, -1.11989212e+00,  9.18867767e-01,\n",
       "        -1.65463996e+00,  1.53168869e+00,  9.60434496e-01,\n",
       "        -4.95691329e-01,  1.33312356e+00,  4.23844904e-01,\n",
       "         1.03888381e+00],\n",
       "       [ 9.91672754e-01, -1.51351482e-01, -4.46186632e-01,\n",
       "         1.31470814e-01, -3.89042556e-01, -4.20890540e-01,\n",
       "         1.23173416e+00, -5.97705171e-02, -1.12793100e+00,\n",
       "         1.25070855e-01],\n",
       "       [ 6.44255161e-01,  3.79847944e-01, -9.89910185e-01,\n",
       "        -7.14779854e-01,  7.34148264e-01,  2.56314039e-01,\n",
       "        -1.07190239e+00, -2.18938425e-01, -2.40598177e-03,\n",
       "        -1.05631888e+00],\n",
       "       [ 9.68373239e-01, -3.97310764e-01, -1.27131391e+00,\n",
       "        -1.37201428e+00,  3.87256294e-01,  3.15674216e-01,\n",
       "        -4.41628695e-01, -1.11463547e+00,  8.70867133e-01,\n",
       "        -4.43262637e-01],\n",
       "       [ 9.88321066e-01, -1.26691306e+00,  3.75355780e-01,\n",
       "        -4.17289063e-02, -9.07321125e-02, -7.08053783e-02,\n",
       "         9.71189439e-02,  1.49800912e-01,  1.93854892e+00,\n",
       "        -6.88486993e-01],\n",
       "       [-4.62675631e-01,  6.79536343e-01, -3.66810858e-01,\n",
       "         4.27691042e-01, -1.86906740e-01, -9.48084235e-01,\n",
       "        -1.32142127e+00, -9.14828062e-01,  7.02916861e-01,\n",
       "        -2.06852958e-01],\n",
       "       [ 1.08012855e+00,  3.84645984e-02, -1.55822799e-01,\n",
       "         7.00452328e-01, -8.71562183e-01, -4.37945127e-01,\n",
       "         1.71032763e+00, -1.25172094e-01, -3.35488290e-01,\n",
       "         7.70824552e-01],\n",
       "       [-2.44369221e+00,  8.40609729e-01, -2.37749055e-01,\n",
       "        -9.68524069e-03,  1.25185943e+00, -1.96358716e+00,\n",
       "         4.46884595e-02,  2.54726410e+00, -1.31341711e-01,\n",
       "         4.25574422e-01],\n",
       "       [ 4.32411164e-01, -2.04383686e-01, -1.30697715e+00,\n",
       "        -4.45029736e-01,  1.48116440e-01,  7.06028521e-01,\n",
       "         5.68469107e-01,  1.53771424e+00,  3.12008649e-01,\n",
       "        -1.12494266e+00],\n",
       "       [ 1.31496876e-01, -3.42454195e-01, -5.70199013e-01,\n",
       "        -2.05573058e+00, -1.46730816e+00, -4.39621925e-01,\n",
       "         1.06126666e+00,  7.45999813e-01, -1.24422446e-01,\n",
       "         5.01817524e-01],\n",
       "       [ 1.26664992e-02,  6.47482276e-02, -2.92853918e-03,\n",
       "         7.65243232e-01, -7.19673812e-01,  3.26293916e-01,\n",
       "         1.57807922e+00, -3.16581821e+00, -2.30383325e+00,\n",
       "         1.38614273e+00],\n",
       "       [-7.24884748e-01, -9.38616395e-02, -8.96862149e-01,\n",
       "        -1.25997138e+00, -1.11336505e+00,  7.63746262e-01,\n",
       "        -2.55525678e-01, -7.37555265e-01, -1.65989131e-01,\n",
       "         7.11858332e-01],\n",
       "       [ 4.96968240e-01, -1.63605738e+00, -9.06513214e-01,\n",
       "         6.38908029e-01,  1.72694504e-01,  5.01396120e-01,\n",
       "         3.62298340e-01, -1.46572804e+00,  4.06201363e-01,\n",
       "        -7.62919411e-02],\n",
       "       [-8.99422765e-01, -1.02427697e+00, -3.68668884e-01,\n",
       "         1.78663564e+00, -6.25055611e-01, -7.35542476e-01,\n",
       "        -3.62001956e-02, -8.29051256e-01, -3.37690741e-01,\n",
       "         8.47704172e-01],\n",
       "       [-4.50445831e-01,  6.54214799e-01,  2.94666260e-01,\n",
       "         6.00661755e-01, -6.63794100e-01, -7.68524855e-02,\n",
       "        -6.03944898e-01, -1.03767656e-01, -9.28658783e-01,\n",
       "         1.02707303e+00],\n",
       "       [ 5.68795383e-01,  1.55694354e+00,  1.48712921e+00,\n",
       "        -2.28933588e-01, -8.76016796e-01,  1.68925822e+00,\n",
       "         1.97742462e+00,  1.31866988e-02,  8.41571748e-01,\n",
       "         2.08995533e+00],\n",
       "       [ 4.30307053e-02, -1.50127304e+00, -2.70110559e+00,\n",
       "         2.30401121e-02, -4.74393189e-01,  3.95849794e-02,\n",
       "         1.28909731e+00,  1.79586291e-01, -3.17439467e-01,\n",
       "        -3.73240486e-02],\n",
       "       [-6.35966003e-01,  7.02631831e-01,  2.39920235e+00,\n",
       "         1.06014299e+00,  1.69118428e+00,  1.57955587e+00,\n",
       "         6.97274029e-01, -4.96265441e-01,  6.12352073e-01,\n",
       "         9.04838085e-01],\n",
       "       [-2.51268792e+00, -1.62814474e+00, -1.75924063e+00,\n",
       "        -6.40826046e-01, -1.65875232e+00, -1.91701245e+00,\n",
       "         1.61585343e+00, -2.88527757e-01, -9.01801586e-01,\n",
       "         8.14370215e-01],\n",
       "       [-2.48480606e+00, -1.20056927e+00, -8.97889853e-01,\n",
       "        -1.40638030e+00, -4.17393953e-01, -5.71478486e-01,\n",
       "         1.80801606e+00,  2.39887815e-02, -1.54988968e+00,\n",
       "        -2.01911539e-01],\n",
       "       [-9.43368614e-01, -1.44707692e+00, -1.30538499e+00,\n",
       "        -1.50648069e+00, -2.16797829e+00,  1.74998033e+00,\n",
       "        -2.72606701e-01, -1.58849847e+00, -1.03425443e-01,\n",
       "         4.62497026e-01],\n",
       "       [ 5.26765827e-03,  2.98626631e-01, -3.38526428e-01,\n",
       "         2.35283226e-01,  9.38655972e-01, -4.63656962e-01,\n",
       "        -1.76700652e+00, -2.73922831e-01,  3.09213728e-01,\n",
       "         2.41949543e-01],\n",
       "       [-1.32851076e+00,  4.43262935e-01, -4.26448226e-01,\n",
       "        -1.24457633e+00,  2.70261383e+00, -2.01591730e-01,\n",
       "         8.37709486e-01,  7.18144774e-01, -1.15383232e+00,\n",
       "        -1.33547688e+00],\n",
       "       [-1.09858239e+00, -1.98468804e+00,  3.01476270e-01,\n",
       "        -1.92760468e-01,  1.46099830e+00,  1.70200899e-01,\n",
       "        -3.00457150e-01, -8.80994022e-01,  1.91558719e+00,\n",
       "         3.36608648e-01],\n",
       "       [ 7.52030313e-02,  4.20719862e-01,  3.30418974e-01,\n",
       "         1.00939095e+00, -8.40827167e-01,  2.59012938e-01,\n",
       "         1.24263859e+00,  6.64603829e-01, -6.56893730e-01,\n",
       "         1.23847342e+00],\n",
       "       [-1.93208086e+00,  1.21044195e+00,  1.30481517e+00,\n",
       "        -4.36439097e-01, -8.72047246e-01,  9.72854495e-01,\n",
       "        -1.54147696e+00,  5.26082933e-01,  2.17827702e+00,\n",
       "         1.52864650e-01],\n",
       "       [-5.40046282e-02, -3.09604883e-01, -4.10135984e-01,\n",
       "        -3.27141210e-02, -7.71531284e-01, -1.67446780e+00,\n",
       "        -8.48453045e-01, -3.50093186e-01, -5.28689742e-01,\n",
       "        -2.15562254e-01],\n",
       "       [ 8.32369864e-01,  4.39752519e-01,  1.53232777e+00,\n",
       "         1.88322306e-01, -1.85756981e+00, -1.23937058e+00,\n",
       "         2.58908868e+00, -1.25004125e+00, -9.78166938e-01,\n",
       "        -8.99930358e-01],\n",
       "       [-1.89663261e-01, -2.85927624e-01,  8.94198120e-01,\n",
       "        -1.34543014e+00, -8.01639184e-02,  3.40947181e-01,\n",
       "        -9.97549370e-02, -7.94731259e-01,  1.07484974e-01,\n",
       "        -9.22279119e-01],\n",
       "       [-7.08637834e-01,  9.30037737e-01,  5.80767691e-01,\n",
       "         1.06882405e+00, -1.15445602e+00, -1.16357319e-01,\n",
       "         3.95757377e-01,  1.12536013e+00,  1.24340451e+00,\n",
       "        -1.26000464e+00],\n",
       "       [ 1.28269982e+00,  4.05045897e-01, -4.72192228e-01,\n",
       "         1.11470006e-01,  1.63132444e-01,  8.06487679e-01,\n",
       "         7.52445161e-01, -3.34389389e-01, -1.49475830e-03,\n",
       "         2.97449291e-01],\n",
       "       [ 4.93079200e-02, -1.41322291e+00, -3.17132324e-01,\n",
       "        -1.13926396e-01, -7.03657448e-01,  9.21427071e-01,\n",
       "         4.50037986e-01, -1.27559376e+00, -9.16636527e-01,\n",
       "        -1.66714180e+00],\n",
       "       [-3.70747745e-01, -1.47408199e+00, -7.48277724e-01,\n",
       "         2.29666591e-01, -9.40875232e-01, -1.94295251e+00,\n",
       "        -9.21267033e-01, -8.29364061e-01,  2.56177378e+00,\n",
       "        -3.69835228e-01],\n",
       "       [ 4.72208202e-01, -4.49766278e-01,  5.63089699e-02,\n",
       "         1.82212636e-01, -1.20537400e+00,  9.99929190e-01,\n",
       "         5.86003482e-01,  1.30468488e+00,  1.08169854e+00,\n",
       "        -1.20197415e+00],\n",
       "       [-4.77108144e-04,  1.49867928e+00, -8.58218193e-01,\n",
       "         6.65879667e-01, -1.00791955e+00, -1.65555084e+00,\n",
       "        -5.65079868e-01, -2.69744873e-01,  1.48333979e+00,\n",
       "         4.98340130e-01],\n",
       "       [-1.14475107e+00,  5.23463488e-01,  7.27672279e-01,\n",
       "        -4.00054216e-01, -4.96996976e-02,  6.48799613e-02,\n",
       "         1.44022477e+00,  6.52962267e-01,  6.12041771e-01,\n",
       "        -8.17578971e-01],\n",
       "       [-2.15754379e-02, -1.07834148e+00,  1.13289797e+00,\n",
       "         7.45643973e-01, -9.80857313e-01,  1.41449618e+00,\n",
       "         5.86637199e-01, -5.54625988e-01, -7.79046893e-01,\n",
       "        -2.38307081e-02],\n",
       "       [-9.97353911e-01, -1.64492667e+00, -2.42045403e-01,\n",
       "        -2.70646840e-01,  6.19440854e-01,  1.93047523e+00,\n",
       "         1.35770547e+00, -9.93516684e-01,  2.49606919e+00,\n",
       "         1.54512793e-01],\n",
       "       [-1.78074062e+00, -6.75370395e-01, -1.18948174e+00,\n",
       "        -1.69231439e+00,  2.55762696e+00,  9.32256579e-01,\n",
       "         7.40677655e-01,  3.55086684e-01,  1.41697109e-01,\n",
       "         5.78061521e-01],\n",
       "       [-7.62975395e-01, -1.55966783e+00, -1.69575727e+00,\n",
       "         1.83473146e+00, -8.26378241e-02,  1.48656154e+00,\n",
       "         2.43982148e+00,  1.10395873e+00, -3.82807106e-01,\n",
       "         1.36141872e+00],\n",
       "       [-1.61657035e+00,  1.56258070e+00, -6.45542800e-01,\n",
       "         4.55387861e-01, -3.99795741e-01, -7.53685951e-01,\n",
       "        -6.39071882e-01,  5.57684526e-02,  1.20401704e+00,\n",
       "        -2.60436028e-01],\n",
       "       [-5.49063563e-01,  1.82919014e+00, -1.00827384e+00,\n",
       "        -4.31980431e-01, -2.35651787e-02,  2.64470816e-01,\n",
       "        -4.29749817e-01,  1.21860111e+00,  2.14286521e-01,\n",
       "        -6.11782074e-01],\n",
       "       [-3.39735627e-01, -1.99648631e+00, -3.16047505e-03,\n",
       "        -1.85782403e-01,  7.26706922e-01, -1.22737288e+00,\n",
       "        -1.23225391e+00, -1.21743369e+00,  6.78119004e-01,\n",
       "         1.50362968e+00],\n",
       "       [-6.86395049e-01, -1.25070345e+00, -1.58911169e-01,\n",
       "        -1.72239506e+00,  5.09664714e-01, -2.28586817e+00,\n",
       "        -9.25762832e-01,  6.23892963e-01, -1.41860753e-01,\n",
       "         3.25633973e-01],\n",
       "       [ 9.05698717e-01,  1.41696155e+00,  1.12080193e+00,\n",
       "        -4.34830993e-01, -1.24189287e-01,  1.69936383e+00,\n",
       "        -8.88411343e-01, -1.17256367e+00,  4.53313679e-01,\n",
       "        -1.35599673e+00],\n",
       "       [-1.05832092e-01,  5.10235310e-01, -5.09592056e-01,\n",
       "        -8.26789618e-01, -1.39217639e+00,  6.10165477e-01,\n",
       "         3.87992948e-01,  1.60617578e+00,  2.58650124e-01,\n",
       "        -2.66364098e-01],\n",
       "       [-9.90652759e-03,  4.25679892e-01,  3.78741533e-01,\n",
       "        -2.21928284e-01, -2.05444932e+00, -2.98146784e-01,\n",
       "         8.23833719e-02,  1.15093827e+00, -5.80144882e-01,\n",
       "        -1.32560587e+00],\n",
       "       [-6.16279781e-01,  5.97464383e-01,  1.66955185e+00,\n",
       "        -5.18320441e-01,  3.09406132e-01,  8.80091012e-01,\n",
       "         1.37073123e+00,  5.44650733e-01,  3.04015660e+00,\n",
       "         1.30948639e+00],\n",
       "       [ 1.34340429e+00, -7.30319977e-01,  9.47938263e-01,\n",
       "         7.91669309e-01, -1.99313894e-01,  3.03572178e+00,\n",
       "         1.88384652e+00, -7.69641936e-01, -4.23492417e-02,\n",
       "         9.62039649e-01],\n",
       "       [ 2.57221013e-01,  1.54092163e-03, -1.13967347e+00,\n",
       "         1.57582030e-01, -1.50371802e+00, -1.91681468e+00,\n",
       "        -1.31730330e+00,  1.71599948e+00, -1.28405869e+00,\n",
       "        -3.05393410e+00],\n",
       "       [ 1.16993022e+00,  1.10865045e+00,  4.55845952e-01,\n",
       "         2.36446929e+00, -5.19710600e-01,  9.76833463e-01,\n",
       "        -1.93824136e+00,  1.95591468e-02,  2.24874377e+00,\n",
       "         2.19063354e+00],\n",
       "       [ 6.89817250e-01,  1.23066592e+00, -1.27029490e+00,\n",
       "        -2.08055124e-01,  7.95404539e-02, -9.59285557e-01,\n",
       "         2.91676521e-01, -9.85276222e-01, -2.55472243e-01,\n",
       "         8.40938449e-01],\n",
       "       [ 1.67141700e+00, -7.90302396e-01, -6.89900458e-01,\n",
       "         4.87817794e-01,  1.25420392e+00, -4.15782839e-01,\n",
       "         1.91845560e+00,  5.86028457e-01,  1.85633972e-01,\n",
       "        -2.90228105e+00],\n",
       "       [-5.72490871e-01,  4.75905351e-02, -2.60388851e-03,\n",
       "         3.22272815e-03, -1.30796897e+00,  1.05167961e+00,\n",
       "         1.32784232e-01, -9.84552979e-01,  4.41364974e-01,\n",
       "         5.04579961e-01],\n",
       "       [ 3.26369442e-02,  3.46426278e-01,  1.31091028e-01,\n",
       "        -1.09845662e+00, -9.02029499e-02, -5.06256104e-01,\n",
       "         4.43516552e-01,  3.13677937e-01, -2.81765103e-01,\n",
       "        -3.60932142e-01],\n",
       "       [ 9.40759838e-01, -3.11034352e-01, -7.64798403e-01,\n",
       "         1.41650331e+00, -2.37589076e-01,  1.26915053e-01,\n",
       "        -5.17390847e-01,  5.48071325e-01,  1.47346449e+00,\n",
       "         1.59781903e-01],\n",
       "       [-2.59061545e-01, -1.32488918e+00,  1.12263215e+00,\n",
       "        -1.06870949e+00,  4.87960666e-01,  2.07954335e+00,\n",
       "         1.13897169e+00,  3.22184324e-01, -8.81764710e-01,\n",
       "        -1.97714198e+00],\n",
       "       [-7.57939577e-01, -1.02420294e+00, -1.60310674e+00,\n",
       "         1.92805195e+00, -3.31994683e-01, -7.42435098e-01,\n",
       "         2.46094346e+00,  1.88368928e+00, -1.86566246e+00,\n",
       "         1.29596508e+00],\n",
       "       [-8.04872215e-01, -6.27504945e-01, -7.45851159e-01,\n",
       "        -8.09563816e-01, -3.68473142e-01, -7.79680014e-01,\n",
       "        -6.42540097e-01,  2.81314164e-01,  1.26805073e-02,\n",
       "        -1.75939545e-01],\n",
       "       [ 2.12344483e-01, -1.25058639e+00, -1.23183930e+00,\n",
       "         1.10324740e+00, -6.78211749e-01, -6.22533023e-01,\n",
       "        -9.19768989e-01, -4.23472404e-01, -1.80454329e-01,\n",
       "        -1.47267962e+00],\n",
       "       [-5.88107435e-03, -4.82683659e-01,  3.54195029e-01,\n",
       "        -2.40026146e-01, -1.16453314e+00, -1.96545291e+00,\n",
       "        -5.99584401e-01,  5.82901001e-01,  7.61533976e-01,\n",
       "         4.91774827e-01],\n",
       "       [-3.27571034e-02, -6.01481318e-01, -6.72595680e-01,\n",
       "        -4.31823581e-01,  4.03151095e-01, -3.03120404e-01,\n",
       "         8.17499518e-01,  5.80123961e-01, -2.62901902e+00,\n",
       "        -2.55183965e-01],\n",
       "       [-4.86535996e-01,  3.45854521e+00,  1.93033397e-01,\n",
       "        -1.99523759e+00, -2.36543462e-01,  1.27005637e+00,\n",
       "         7.88881838e-01, -1.28804421e+00,  1.17501783e+00,\n",
       "        -1.05579543e+00],\n",
       "       [ 1.64532769e+00,  9.25391018e-01,  1.31788278e+00,\n",
       "        -5.98532744e-02,  1.92783564e-01,  1.08489960e-01,\n",
       "         1.19775617e+00,  1.19161391e+00, -1.31094038e+00,\n",
       "        -5.61509311e-01],\n",
       "       [ 2.46128631e+00,  6.19117990e-02,  1.40159512e+00,\n",
       "         1.56335318e+00, -1.56364191e+00,  4.86345381e-01,\n",
       "        -1.83545125e+00,  1.22619605e+00,  3.58750850e-01,\n",
       "        -1.56940114e+00],\n",
       "       [ 8.14467371e-01, -5.68421543e-01, -1.07814085e+00,\n",
       "        -4.88995194e-01,  4.44531977e-01, -2.23612547e+00,\n",
       "        -2.11683273e+00,  1.07443786e+00, -2.04808021e+00,\n",
       "         9.30266023e-01],\n",
       "       [ 3.00704181e-01,  7.47226059e-01, -1.62154174e+00,\n",
       "        -7.70345449e-01,  6.18255615e-01, -6.49044141e-02,\n",
       "        -2.87825763e-01,  2.73492962e-01, -2.03928873e-01,\n",
       "         1.07588267e+00],\n",
       "       [ 1.48659658e+00,  9.79283676e-02,  1.87903631e+00,\n",
       "        -1.14132142e+00,  1.62736684e-01,  1.36531162e+00,\n",
       "        -8.01596105e-01, -6.11924291e-01,  1.57408571e+00,\n",
       "        -7.19686747e-01],\n",
       "       [-7.46084988e-01, -2.09283754e-01, -7.74928153e-01,\n",
       "        -1.44434512e+00,  4.90569443e-01, -1.76864922e+00,\n",
       "         1.24353923e-01, -1.70528924e+00,  8.70912969e-01,\n",
       "        -1.77800095e+00],\n",
       "       [-4.94512349e-01, -2.34747246e-01, -1.00283372e+00,\n",
       "        -1.10880089e+00, -5.99833071e-01,  2.57211626e-01,\n",
       "         1.41613877e+00,  8.36905658e-01, -1.29321992e+00,\n",
       "        -5.37459850e-01],\n",
       "       [ 3.70118499e-01, -3.18640739e-01,  1.31688380e+00,\n",
       "        -5.54790080e-01, -1.25894189e-01,  2.86374748e-01,\n",
       "         6.09696865e-01, -8.27327430e-01, -5.35691440e-01,\n",
       "         1.46643117e-01],\n",
       "       [-2.42502928e+00,  5.09375572e-01,  1.12345254e+00,\n",
       "        -1.53681397e+00,  2.20083863e-01, -2.44481310e-01,\n",
       "         2.07102442e+00, -1.42884469e+00, -1.69036776e-01,\n",
       "         7.36353874e-01],\n",
       "       [ 8.03040087e-01, -2.44606996e+00,  3.39810729e-01,\n",
       "         1.49411231e-01, -1.08161342e+00, -1.68624485e+00,\n",
       "         1.13322949e+00,  4.18660007e-02,  2.08766246e+00,\n",
       "        -1.24233401e+00],\n",
       "       [-9.56326067e-01,  3.77081752e-01, -3.62866580e-01,\n",
       "        -1.71392724e-01, -2.33314499e-01, -8.30270708e-01,\n",
       "        -3.50452006e-01,  1.59721479e-01, -5.03813386e-01,\n",
       "         6.45440340e-01],\n",
       "       [ 1.80592048e+00,  1.13520122e+00, -1.20349252e+00,\n",
       "         7.95600116e-01,  1.12027788e+00, -1.31386435e+00,\n",
       "        -9.83297080e-02, -1.35260582e-01,  1.54154134e+00,\n",
       "         1.13103974e+00],\n",
       "       [ 8.07253182e-01,  2.34697485e+00, -8.19016516e-01,\n",
       "         1.56016469e-01, -1.82403553e+00,  1.13418341e-01,\n",
       "         3.82365525e-01,  3.03277999e-01,  1.21744108e+00,\n",
       "        -1.57322019e-01],\n",
       "       [ 4.54176992e-01,  4.86621648e-01,  1.23611593e+00,\n",
       "        -3.28695565e-01,  2.48618746e+00,  8.17326605e-01,\n",
       "        -8.99123251e-02,  5.62437832e-01, -1.22269261e+00,\n",
       "         1.02458239e+00],\n",
       "       [-3.76202017e-02, -6.48461103e-01,  1.24783659e+00,\n",
       "        -2.67068744e-01,  1.40731418e+00,  1.31837797e+00,\n",
       "        -7.53574431e-01, -5.90083182e-01, -7.84669042e-01,\n",
       "         6.44733727e-01]], dtype=float32)>"
      ]
     },
     "execution_count": 20,
     "metadata": {},
     "output_type": "execute_result"
    }
   ],
   "source": [
    "b2 = tf.Variable(tf.random.normal([10]))\n",
    "W2 = tf.Variable(tf.random.normal([100,10]))\n",
    "W2"
   ]
  },
  {
   "cell_type": "markdown",
   "metadata": {},
   "source": [
    "Recordar que es necesario tener entre capa y capa una función de activación no lineal "
   ]
  },
  {
   "cell_type": "code",
   "execution_count": null,
   "metadata": {},
   "outputs": [],
   "source": [
    "optimizador = tf.keras.optimizers.experimental.SGD(learning_rate=0.1)\n"
   ]
  },
  {
   "cell_type": "code",
   "execution_count": 54,
   "metadata": {},
   "outputs": [],
   "source": [
    "b1 = tf.Variable(tf.random.normal([100]))\n",
    "W1 = tf.Variable(tf.random.normal([784,100]))\n",
    "\n",
    "b2 = tf.Variable(tf.random.normal([10]))\n",
    "W2 = tf.Variable(tf.random.normal([100,10]))"
   ]
  },
  {
   "cell_type": "code",
   "execution_count": 55,
   "metadata": {},
   "outputs": [],
   "source": [
    "optimizador = tf.keras.optimizers.experimental.SGD(learning_rate=0.1)\n"
   ]
  },
  {
   "cell_type": "code",
   "execution_count": 56,
   "metadata": {},
   "outputs": [
    {
     "name": "stdout",
     "output_type": "stream",
     "text": [
      "tf.Tensor(1.5095205, shape=(), dtype=float32)\n",
      "tf.Tensor(0.64862704, shape=(), dtype=float32)\n",
      "tf.Tensor(0.52807236, shape=(), dtype=float32)\n",
      "tf.Tensor(0.46942532, shape=(), dtype=float32)\n",
      "tf.Tensor(0.4320433, shape=(), dtype=float32)\n",
      "tf.Tensor(0.405429, shape=(), dtype=float32)\n",
      "tf.Tensor(0.38450548, shape=(), dtype=float32)\n",
      "tf.Tensor(0.36773553, shape=(), dtype=float32)\n",
      "tf.Tensor(0.3536484, shape=(), dtype=float32)\n",
      "tf.Tensor(0.34167346, shape=(), dtype=float32)\n"
     ]
    }
   ],
   "source": [
    "epochs = 10\n",
    "for _ in range(epochs):\n",
    "  loss_epoch = 0\n",
    "  for x,y in train_dataset: # Es un batch\n",
    "    with tf.GradientTape() as gt:\n",
    "      # Forward\n",
    "      operacion_matricial = tf.matmul(x,W1)+b1 # Primera capa\n",
    "      capa1 = tf.nn.relu(operacion_matricial)\n",
    "\n",
    "      capa2 = tf.matmul(capa1,W2)+b2\n",
    "\n",
    "      probs = tf.nn.softmax(capa2)\n",
    "\n",
    "        # Loss\n",
    "      prob_as = probs*y # Probabilidades de las clases correctas (a)\n",
    "      vec_probs = tf.reduce_sum(prob_as,axis=1)\n",
    "      x_ent = -tf.math.log(vec_probs)\n",
    "      loss = tf.reduce_mean(x_ent)\n",
    "\n",
    "      # Backward\n",
    "      optimizador.minimize(loss,[W1,b1,W2,b2],gt) # No olvidar cuáles son los parámetros a ajustar\n",
    "\n",
    "    loss_epoch += loss/len(train_dataset)\n",
    "  print(loss_epoch)"
   ]
  },
  {
   "cell_type": "markdown",
   "metadata": {},
   "source": []
  },
  {
   "cell_type": "code",
   "execution_count": 57,
   "metadata": {},
   "outputs": [
    {
     "name": "stdout",
     "output_type": "stream",
     "text": [
      "tf.Tensor(0.8991, shape=(), dtype=float32)\n"
     ]
    }
   ],
   "source": [
    "# Salida\n",
    "operacion_matricial = tf.matmul(X_test,W1)+b1\n",
    "capa1 = tf.nn.relu(operacion_matricial)\n",
    "\n",
    "capa2 = tf.matmul(capa1,W2)+b2\n",
    "\n",
    "probs = tf.nn.softmax(capa2)\n",
    "\n",
    "# Comparación\n",
    "max_preds = tf.argmax(probs,1)\n",
    "max_trues = tf.argmax(y_test,1)\n",
    "\n",
    "numCorrectos = tf.equal(max_preds,max_trues)\n",
    "acc = tf.reduce_mean(tf.cast(numCorrectos,tf.float32))\n",
    "print(acc)"
   ]
  }
 ],
 "metadata": {
  "kernelspec": {
   "display_name": "Python 3",
   "language": "python",
   "name": "python3"
  },
  "language_info": {
   "codemirror_mode": {
    "name": "ipython",
    "version": 3
   },
   "file_extension": ".py",
   "mimetype": "text/x-python",
   "name": "python",
   "nbconvert_exporter": "python",
   "pygments_lexer": "ipython3",
   "version": "3.10.5"
  },
  "orig_nbformat": 4
 },
 "nbformat": 4,
 "nbformat_minor": 2
}
