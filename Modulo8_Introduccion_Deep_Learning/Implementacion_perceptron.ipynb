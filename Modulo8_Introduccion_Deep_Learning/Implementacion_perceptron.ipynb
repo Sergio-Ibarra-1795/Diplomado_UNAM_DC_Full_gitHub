{
 "cells": [
  {
   "cell_type": "markdown",
   "metadata": {},
   "source": [
    "#### <font color=\"#03997A\"> Diplomado en Ciencia de datos UNAM </font>\n",
    "\n",
    "##### <font color=\"#03997A\"> Dr:  </font>\n",
    "\n",
    "##### <font color=\"#03997A\"> Modulo 8 Introducción al Deep Learning </font>\n",
    "\n",
    "##### <font color=\"#03997A\"> Tema 1 Perceptron  Alumno: Ibarra Ramírez Sergio </font>"
   ]
  },
  {
   "cell_type": "markdown",
   "metadata": {},
   "source": [
    "¿Como se calcula la salida dado un vecto de pesos W y un vector de entradas X "
   ]
  },
  {
   "cell_type": "code",
   "execution_count": 9,
   "metadata": {},
   "outputs": [],
   "source": [
    "def calcula_salida(w,x):\n",
    "  suma = 0\n",
    "  for i in range(len(w)):\n",
    "    suma += x[i]*w[i]\n",
    "  if suma < 0:\n",
    "    return -1\n",
    "  else:\n",
    "    return 1"
   ]
  },
  {
   "cell_type": "markdown",
   "metadata": {},
   "source": [
    "En este caso el profe definió el vector de pesos W "
   ]
  },
  {
   "cell_type": "code",
   "execution_count": null,
   "metadata": {},
   "outputs": [],
   "source": [
    "w = [0.9,-0.6,-0.5] #¿Cómo??"
   ]
  },
  {
   "cell_type": "markdown",
   "metadata": {},
   "source": [
    "Y definió la tabla de arriba en código "
   ]
  },
  {
   "cell_type": "code",
   "execution_count": null,
   "metadata": {},
   "outputs": [],
   "source": [
    "print(\"-1 , -1 : \",calcula_salida(w,[1,-1,-1]))\n",
    "print(\" 1 , -1 : \",calcula_salida(w,[1,1,-1]))\n",
    "print(\"-1 ,  1 : \",calcula_salida(w,[1,-1,1]))\n",
    "print(\" 1 ,  1 : \",calcula_salida(w,[1,1,1]))"
   ]
  },
  {
   "cell_type": "markdown",
   "metadata": {},
   "source": [
    "##### IMPLEMENTACIÓN DEL ALGORITMO DE PERCEPTRON "
   ]
  },
  {
   "cell_type": "code",
   "execution_count": 1,
   "metadata": {},
   "outputs": [],
   "source": [
    "import random\n",
    "random.seed(2023)\n",
    "\n",
    "def mostrar_pesos(w):\n",
    "    print('b =', '%.1f' % w[0],\n",
    "          'w1 =', '%.1f' % w[1],\n",
    "          'w2 =', '%.1f' % w[2]\n",
    "         )\n",
    "\n",
    "## Se define la taza de aprendizaje\n",
    "lr = 0.1\n",
    "\n",
    "\"Para llevar a cabo el paso 2 de Sleccionar una entreda al azar con su respectiva salida\"\n",
    "lista_indices = [0,1,2,3]\n",
    "\n",
    "x_train = [\n",
    "    (1,-1,-1),\n",
    "    (1,-1,1),\n",
    "    (1,1,-1),\n",
    "    (1,1,1)\n",
    "]\n",
    "\n",
    "y_train = [\n",
    "    1,\n",
    "    1,\n",
    "    1,\n",
    "    -1\n",
    "]"
   ]
  },
  {
   "cell_type": "code",
   "execution_count": 4,
   "metadata": {},
   "outputs": [],
   "source": [
    "# Paso 1: definir pesos aleatorios\n",
    "w = [random.uniform(-1, 1),\n",
    "     random.uniform(-1, 1),\n",
    "    random.uniform(-1, 1),]"
   ]
  },
  {
   "cell_type": "code",
   "execution_count": 10,
   "metadata": {},
   "outputs": [
    {
     "name": "stdout",
     "output_type": "stream",
     "text": [
      "b = 0.3 w1 = 0.6 w2 = 0.3\n",
      "b = 0.3 w1 = 0.6 w2 = 0.3\n",
      "b = 0.2 w1 = 0.5 w2 = 0.2\n",
      "b = 0.3 w1 = 0.4 w2 = 0.3\n",
      "b = 0.4 w1 = 0.3 w2 = 0.2\n",
      "b = 0.4 w1 = 0.3 w2 = 0.2\n",
      "b = 0.3 w1 = 0.2 w2 = 0.1\n",
      "b = 0.3 w1 = 0.2 w2 = 0.1\n",
      "b = 0.4 w1 = 0.1 w2 = 0.0\n",
      "b = 0.4 w1 = 0.1 w2 = 0.0\n",
      "b = 0.3 w1 = -0.0 w2 = -0.1\n",
      "b = 0.3 w1 = -0.0 w2 = -0.1\n",
      "b = 0.3 w1 = -0.0 w2 = -0.1\n",
      "b = 0.2 w1 = -0.1 w2 = -0.2\n",
      "b = 0.2 w1 = -0.1 w2 = -0.2\n",
      "b = 0.2 w1 = -0.1 w2 = -0.2\n",
      "b = 0.2 w1 = -0.1 w2 = -0.2\n",
      "b = 0.2 w1 = -0.1 w2 = -0.2\n",
      "b = 0.2 w1 = -0.1 w2 = -0.2\n",
      "b = 0.2 w1 = -0.1 w2 = -0.2\n"
     ]
    }
   ],
   "source": [
    "correcto = False\n",
    "\n",
    "while not correcto:\n",
    "  correcto = True\n",
    "  random.shuffle(lista_indices)\n",
    "  for i in lista_indices:\n",
    "    mostrar_pesos(w)\n",
    "    x = x_train[i]\n",
    "    y = y_train[i]\n",
    "\n",
    "    y_p = calcula_salida(w,x)\n",
    "\n",
    "    # Verificar si son iguales\n",
    "    if y != y_p:\n",
    "      for j in range(len(w)):\n",
    "        w[j]+= lr * y * x[j]\n",
    "\n",
    "      correcto = False"
   ]
  },
  {
   "cell_type": "code",
   "execution_count": 12,
   "metadata": {},
   "outputs": [
    {
     "name": "stdout",
     "output_type": "stream",
     "text": [
      "b = 0.2 w1 = -0.1 w2 = -0.2\n"
     ]
    }
   ],
   "source": [
    "correcto = False\n",
    "\n",
    "while not correcto:\n",
    "  mostrar_pesos(w)\n",
    "  correcto = True\n",
    "  random.shuffle(lista_indices)\n",
    "  for i in lista_indices:\n",
    "    x = x_train[i]\n",
    "    y = y_train[i]\n",
    "\n",
    "    y_p = calcula_salida(w,x)\n",
    "\n",
    "    # Verificar si son iguales\n",
    "    if y != y_p:\n",
    "      for j in range(len(w)):\n",
    "        w[j]+= lr * y * x[j]\n",
    "\n",
    "      correcto = False"
   ]
  }
 ],
 "metadata": {
  "kernelspec": {
   "display_name": "Python 3",
   "language": "python",
   "name": "python3"
  },
  "language_info": {
   "codemirror_mode": {
    "name": "ipython",
    "version": 3
   },
   "file_extension": ".py",
   "mimetype": "text/x-python",
   "name": "python",
   "nbconvert_exporter": "python",
   "pygments_lexer": "ipython3",
   "version": "3.10.5"
  },
  "orig_nbformat": 4
 },
 "nbformat": 4,
 "nbformat_minor": 2
}
