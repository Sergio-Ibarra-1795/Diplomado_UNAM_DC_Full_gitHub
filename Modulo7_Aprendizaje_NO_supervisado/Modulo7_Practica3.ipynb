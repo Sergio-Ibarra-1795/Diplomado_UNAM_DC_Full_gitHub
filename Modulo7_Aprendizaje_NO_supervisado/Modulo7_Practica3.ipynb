{
 "cells": [
  {
   "cell_type": "markdown",
   "metadata": {},
   "source": [
    "#### <font color=\"#03997A\"> Diplomado en Ciencia de datos UNAM </font>\n",
    "\n",
    "##### <font color=\"#03997A\"> Dr: Eduardo Espinosa A. </font>\n",
    "\n",
    "##### <font color=\"#03997A\"> Modulo 7 Aprendizaje de Maquina NO supervisado </font>\n",
    "\n",
    "##### <font color=\"#03997A\"> Temas 6 y 7: Identificación de anomalias y ManiFold learning\n",
    "##### Alumno: Ibarra Ramírez Sergio </font>"
   ]
  },
  {
   "cell_type": "markdown",
   "metadata": {},
   "source": [
    "### Detección de anomalias "
   ]
  },
  {
   "cell_type": "markdown",
   "metadata": {},
   "source": [
    "Existen muchos métodos más para encontrar valores atípicos en conjuntos de datos, la tarea consiste en buscar al menos otros dos y presentarlos con la idea intuitiva básica y un ejemplo en un documento que se entregará en Moodle"
   ]
  },
  {
   "cell_type": "markdown",
   "metadata": {},
   "source": [
    "##### Método Z-Score para detección de valores atípicos "
   ]
  },
  {
   "cell_type": "markdown",
   "metadata": {},
   "source": [
    "Teoría matemática: El método Z-Score detecta valores atípicos calculando el número de desviaciones estándar que un punto de datos se encuentra lejos de la media. Los puntos de datos que se encuentran fuera de un umbral especificado (a menudo 2 o 3 desviaciones estándar) se consideran valores atípicos."
   ]
  },
  {
   "cell_type": "markdown",
   "metadata": {},
   "source": [
    "Ejemplo:\n",
    "\n",
    "Si la media de una población es 100 y la desviación estándar es 15, entonces un punto de datos con un valor de 120 se considera un valor atípico, ya que se encuentra 2 desviaciones estándar por encima de la media.\n",
    "\n",
    "Formula:\n",
    "\n",
    "La fórmula para calcular el método Z-Score es:\n",
    "\n",
    "z = (x - μ) / σ\n",
    "\n",
    "donde:<br>\n",
    "z = el valor Z-Score <br>\n",
    "x = el valor del punto de datos<br>\n",
    "μ = la media de la población<br>\n",
    "σ = la desviación estándar de la población"
   ]
  },
  {
   "cell_type": "markdown",
   "metadata": {},
   "source": [
    "Ejemplo de Implementación del método Z-Score para detección de valores atípicos "
   ]
  },
  {
   "cell_type": "code",
   "execution_count": 1,
   "metadata": {},
   "outputs": [],
   "source": [
    "import numpy as np\n",
    "\n",
    "def find_anomalies_zscore(data, threshold=3):\n",
    "    anomalies = []\n",
    "    data_mean = np.mean(data)\n",
    "    data_std = np.std(data)\n",
    "    z_scores = [(d - data_mean) / data_std for d in data]\n",
    "    for i, z in enumerate(z_scores):\n",
    "        if np.abs(z) > threshold:\n",
    "            anomalies.append(data[i])\n",
    "    return anomalies"
   ]
  },
  {
   "cell_type": "markdown",
   "metadata": {},
   "source": [
    "##### Método Modified Z-Score (MAD) para detección de valores atípicos "
   ]
  },
  {
   "cell_type": "markdown",
   "metadata": {},
   "source": [
    "Teoría matemática: El método MAD (Modificación del método Z-Score), también conocido como el método de la desviación absoluta mediana (MAD), utiliza la mediana y la desviación absoluta mediana para detectar valores atípicos. Mide la desviación de cada punto de datos de la mediana en términos de la desviación absoluta mediana. Los puntos de datos que se encuentran fuera de un umbral especificado (a menudo 2 o 3 MADs) se consideran valores atípicos.\n",
    "\n",
    "La fórmula para calcular el método Modified Z-Score es: <br>\n",
    "\n",
    "z = 0.6745 * (x - x̄) / MAD\n",
    "\n",
    "donde: <br>\n",
    "\n",
    "z = el valor Modified Z-Score <br>\n",
    "x = el valor del punto de datos <br>\n",
    "x̄ = la mediana de la población <br>\n",
    "MAD = la desviación absoluta mediana de la población<br> \n",
    "El Modified Z-Score se calcula de manera similar al Z-Score, pero en lugar de usar la media de la población, se usa la mediana. Esto hace que el Modified Z-Score sea menos sensible a los valores atípicos, lo que lo hace más robusto."
   ]
  },
  {
   "cell_type": "markdown",
   "metadata": {},
   "source": [
    "Ejemplo de Implementación del método Modified Z-Score (MAD) para detección de valores atípicos "
   ]
  },
  {
   "cell_type": "code",
   "execution_count": 2,
   "metadata": {},
   "outputs": [],
   "source": [
    "import numpy as np\n",
    "\n",
    "def find_anomalies_mad(data, threshold=3):\n",
    "    anomalies = []\n",
    "    data_median = np.median(data)\n",
    "    median_abs_deviation = np.median(np.abs(data - data_median))\n",
    "    modified_z_scores = [0.6745 * (d - data_median) / median_abs_deviation for d in data]\n",
    "    for i, z in enumerate(modified_z_scores):\n",
    "        if np.abs(z) > threshold:\n",
    "            anomalies.append(data[i])\n",
    "    return anomalies"
   ]
  },
  {
   "cell_type": "markdown",
   "metadata": {},
   "source": [
    "#### Aplicación de algoritmos de detección de anomalias "
   ]
  },
  {
   "cell_type": "markdown",
   "metadata": {},
   "source": [
    "Aplique al menos tres de los métodos vistos en la sesión o de los provistos por usted a alguno de los conjuntos de datos de las prácticas anteriores"
   ]
  },
  {
   "cell_type": "code",
   "execution_count": 5,
   "metadata": {},
   "outputs": [
    {
     "data": {
      "text/html": [
       "<div>\n",
       "<style scoped>\n",
       "    .dataframe tbody tr th:only-of-type {\n",
       "        vertical-align: middle;\n",
       "    }\n",
       "\n",
       "    .dataframe tbody tr th {\n",
       "        vertical-align: top;\n",
       "    }\n",
       "\n",
       "    .dataframe thead th {\n",
       "        text-align: right;\n",
       "    }\n",
       "</style>\n",
       "<table border=\"1\" class=\"dataframe\">\n",
       "  <thead>\n",
       "    <tr style=\"text-align: right;\">\n",
       "      <th></th>\n",
       "      <th>Channel</th>\n",
       "      <th>Region</th>\n",
       "      <th>Fresh</th>\n",
       "      <th>Milk</th>\n",
       "      <th>Grocery</th>\n",
       "      <th>Frozen</th>\n",
       "      <th>Detergents_Paper</th>\n",
       "      <th>Delicassen</th>\n",
       "    </tr>\n",
       "  </thead>\n",
       "  <tbody>\n",
       "    <tr>\n",
       "      <th>0</th>\n",
       "      <td>2</td>\n",
       "      <td>3</td>\n",
       "      <td>12669</td>\n",
       "      <td>9656</td>\n",
       "      <td>7561</td>\n",
       "      <td>214</td>\n",
       "      <td>2674</td>\n",
       "      <td>1338</td>\n",
       "    </tr>\n",
       "    <tr>\n",
       "      <th>1</th>\n",
       "      <td>2</td>\n",
       "      <td>3</td>\n",
       "      <td>7057</td>\n",
       "      <td>9810</td>\n",
       "      <td>9568</td>\n",
       "      <td>1762</td>\n",
       "      <td>3293</td>\n",
       "      <td>1776</td>\n",
       "    </tr>\n",
       "    <tr>\n",
       "      <th>2</th>\n",
       "      <td>2</td>\n",
       "      <td>3</td>\n",
       "      <td>6353</td>\n",
       "      <td>8808</td>\n",
       "      <td>7684</td>\n",
       "      <td>2405</td>\n",
       "      <td>3516</td>\n",
       "      <td>7844</td>\n",
       "    </tr>\n",
       "    <tr>\n",
       "      <th>3</th>\n",
       "      <td>1</td>\n",
       "      <td>3</td>\n",
       "      <td>13265</td>\n",
       "      <td>1196</td>\n",
       "      <td>4221</td>\n",
       "      <td>6404</td>\n",
       "      <td>507</td>\n",
       "      <td>1788</td>\n",
       "    </tr>\n",
       "  </tbody>\n",
       "</table>\n",
       "</div>"
      ],
      "text/plain": [
       "   Channel  Region  Fresh  Milk  Grocery  Frozen  Detergents_Paper  Delicassen\n",
       "0        2       3  12669  9656     7561     214              2674        1338\n",
       "1        2       3   7057  9810     9568    1762              3293        1776\n",
       "2        2       3   6353  8808     7684    2405              3516        7844\n",
       "3        1       3  13265  1196     4221    6404               507        1788"
      ]
     },
     "execution_count": 5,
     "metadata": {},
     "output_type": "execute_result"
    }
   ],
   "source": [
    "import pandas as pd \n",
    "\n",
    "url = 'https://bit.ly/2COHM14'\n",
    "data_para_anomalies = pd.read_csv(url)\n",
    "data_para_anomalies.head(4)"
   ]
  },
  {
   "cell_type": "markdown",
   "metadata": {},
   "source": [
    "Ejemplo de implementación del algoritmo Z-score para detección de anomalias con la data de Groseries (Fresh)"
   ]
  },
  {
   "cell_type": "code",
   "execution_count": 9,
   "metadata": {},
   "outputs": [
    {
     "data": {
      "text/plain": [
       "count       440.000000\n",
       "mean      12000.297727\n",
       "std       12647.328865\n",
       "min           3.000000\n",
       "25%        3127.750000\n",
       "50%        8504.000000\n",
       "75%       16933.750000\n",
       "max      112151.000000\n",
       "Name: Fresh, dtype: float64"
      ]
     },
     "execution_count": 9,
     "metadata": {},
     "output_type": "execute_result"
    }
   ],
   "source": [
    "data_para_anomalies['Fresh'].describe()"
   ]
  },
  {
   "cell_type": "code",
   "execution_count": 6,
   "metadata": {},
   "outputs": [
    {
     "data": {
      "text/plain": [
       "[56159, 56082, 76237, 112151, 56083, 53205, 68951]"
      ]
     },
     "execution_count": 6,
     "metadata": {},
     "output_type": "execute_result"
    }
   ],
   "source": [
    "find_anomalies_zscore(data_para_anomalies['Fresh'], threshold=3)"
   ]
  },
  {
   "cell_type": "markdown",
   "metadata": {},
   "source": [
    "Ejemplo de implementación del algoritmo Modified Z-score (MAD)  para detección de anomalias con la data de Groseries (Fresh)"
   ]
  },
  {
   "cell_type": "code",
   "execution_count": 7,
   "metadata": {},
   "outputs": [
    {
     "data": {
      "text/plain": [
       "[43088,\n",
       " 56159,\n",
       " 44466,\n",
       " 40721,\n",
       " 35942,\n",
       " 43265,\n",
       " 56082,\n",
       " 36050,\n",
       " 76237,\n",
       " 42312,\n",
       " 37036,\n",
       " 45640,\n",
       " 112151,\n",
       " 36847,\n",
       " 47493,\n",
       " 56083,\n",
       " 53205,\n",
       " 36817,\n",
       " 49063,\n",
       " 68951,\n",
       " 40254,\n",
       " 42786,\n",
       " 39679,\n",
       " 38793,\n",
       " 39228]"
      ]
     },
     "execution_count": 7,
     "metadata": {},
     "output_type": "execute_result"
    }
   ],
   "source": [
    "find_anomalies_mad(data_para_anomalies['Fresh'], threshold=3)"
   ]
  },
  {
   "cell_type": "markdown",
   "metadata": {},
   "source": [
    "Se observa como el método Modified Z-score basado en la mediana, es capáz de detéctar más valores atípicos que el Z-socre 'normal' "
   ]
  },
  {
   "cell_type": "markdown",
   "metadata": {},
   "source": [
    "Ejemplo de implementación del algoritmo Rango Interquartilico  para detección de anomalias con la data de Groseries (Fresh)"
   ]
  },
  {
   "cell_type": "code",
   "execution_count": 12,
   "metadata": {},
   "outputs": [],
   "source": [
    "import numpy as np\n",
    "from scipy.stats import iqr\n",
    "\n",
    "def find_anomalies_iqr(data, k=1.5):\n",
    "    anomalies = []\n",
    "    q1 = np.percentile(data, 25)\n",
    "    q3 = np.percentile(data, 75)\n",
    "    iqr_value = iqr(data)\n",
    "    lower_bound = q1 - k * iqr_value\n",
    "    upper_bound = q3 + k * iqr_value\n",
    "    for d in data:\n",
    "        if d < lower_bound or d > upper_bound:\n",
    "            anomalies.append(d)\n",
    "    return anomalies"
   ]
  },
  {
   "cell_type": "code",
   "execution_count": 13,
   "metadata": {},
   "outputs": [
    {
     "data": {
      "text/plain": [
       "[43088,\n",
       " 56159,\n",
       " 44466,\n",
       " 40721,\n",
       " 43265,\n",
       " 56082,\n",
       " 76237,\n",
       " 42312,\n",
       " 45640,\n",
       " 112151,\n",
       " 47493,\n",
       " 56083,\n",
       " 53205,\n",
       " 49063,\n",
       " 68951,\n",
       " 40254,\n",
       " 42786,\n",
       " 39679,\n",
       " 38793,\n",
       " 39228]"
      ]
     },
     "execution_count": 13,
     "metadata": {},
     "output_type": "execute_result"
    }
   ],
   "source": [
    "find_anomalies_iqr(data_para_anomalies['Fresh'])"
   ]
  },
  {
   "cell_type": "markdown",
   "metadata": {},
   "source": [
    "Se observa como el algoritmo de IQR otorga resultados similares al algoritmo Modified Z-score "
   ]
  },
  {
   "cell_type": "markdown",
   "metadata": {},
   "source": [
    "### Técnicas de ManifoldLearning "
   ]
  },
  {
   "cell_type": "markdown",
   "metadata": {},
   "source": [
    "Utiliza el conjunto de datos load_digits que consta de 1797 muestras que representan números con 64 características de brillo en cada pixel"
   ]
  },
  {
   "cell_type": "code",
   "execution_count": 14,
   "metadata": {},
   "outputs": [
    {
     "data": {
      "text/plain": [
       "(1797, 64)"
      ]
     },
     "execution_count": 14,
     "metadata": {},
     "output_type": "execute_result"
    }
   ],
   "source": [
    "from sklearn.datasets import load_digits\n",
    "digits = load_digits()\n",
    "digits.data.shape"
   ]
  },
  {
   "cell_type": "code",
   "execution_count": 19,
   "metadata": {},
   "outputs": [
    {
     "data": {
      "text/plain": [
       "array([[ 0.,  0.,  5., ...,  0.,  0.,  0.],\n",
       "       [ 0.,  0.,  0., ..., 10.,  0.,  0.],\n",
       "       [ 0.,  0.,  0., ..., 16.,  9.,  0.],\n",
       "       ...,\n",
       "       [ 0.,  0.,  1., ...,  6.,  0.,  0.],\n",
       "       [ 0.,  0.,  2., ..., 12.,  0.,  0.],\n",
       "       [ 0.,  0., 10., ..., 12.,  1.,  0.]])"
      ]
     },
     "execution_count": 19,
     "metadata": {},
     "output_type": "execute_result"
    }
   ],
   "source": [
    "digits.data"
   ]
  },
  {
   "cell_type": "code",
   "execution_count": 22,
   "metadata": {},
   "outputs": [
    {
     "data": {
      "image/png": "[encoded data removed]",
      "text/plain": [
       "<Figure size 576x432 with 2 Axes>"
      ]
     },
     "metadata": {
      "needs_background": "light"
     },
     "output_type": "display_data"
    }
   ],
   "source": [
    "from sklearn.datasets import load_digits\n",
    "from sklearn.decomposition import KernelPCA\n",
    "from sklearn.preprocessing import StandardScaler\n",
    "import matplotlib.pyplot as plt\n",
    "\n",
    "# Load the digits dataset\n",
    "digits = load_digits()\n",
    "\n",
    "# Preprocess the data by scaling the features\n",
    "scaler = StandardScaler()\n",
    "scaled_digits = scaler.fit_transform(digits.data)\n",
    "\n",
    "# Apply Kernel PCA for dimensionality reduction\n",
    "kpca = KernelPCA(n_components=16, kernel='rbf', gamma=15)\n",
    "kpca_digits = kpca.fit_transform(scaled_digits)\n",
    "\n",
    "# Plot the transformed data\n",
    "plt.figure(figsize=(8, 6))\n",
    "plt.scatter(kpca_digits[:, 0], kpca_digits[:, 1], c=digits.target, cmap='viridis')\n",
    "plt.xlabel('Component 1')\n",
    "plt.ylabel('Component 2')\n",
    "plt.title('Kernel PCA - Digits Dataset')\n",
    "plt.colorbar()\n",
    "plt.show()\n"
   ]
  },
  {
   "cell_type": "markdown",
   "metadata": {},
   "source": [
    "Aplica al menos dos técnicas de Manifold Learning revisadas para reducir su dimensionalidad, verificar la exactitud de los modelos con ayuda del accuracy_score"
   ]
  },
  {
   "cell_type": "markdown",
   "metadata": {},
   "source": [
    "Ejemplo de uso del Kernel  rbf "
   ]
  },
  {
   "cell_type": "code",
   "execution_count": 24,
   "metadata": {},
   "outputs": [
    {
     "name": "stdout",
     "output_type": "stream",
     "text": [
      "Accuracy: 0.07777777777777778\n"
     ]
    }
   ],
   "source": [
    "from sklearn.datasets import load_digits\n",
    "from sklearn.decomposition import KernelPCA\n",
    "from sklearn.preprocessing import StandardScaler\n",
    "from sklearn.model_selection import train_test_split\n",
    "from sklearn.svm import SVC\n",
    "from sklearn.metrics import accuracy_score\n",
    "\n",
    "# Load the digits dataset\n",
    "digits = load_digits()\n",
    "\n",
    "# Preprocess the data by scaling the features\n",
    "scaler = StandardScaler()\n",
    "scaled_digits = scaler.fit_transform(digits.data)\n",
    "\n",
    "# Apply Kernel PCA for dimensionality reduction\n",
    "kpca = KernelPCA(n_components=16, kernel='rbf', gamma=15)\n",
    "kpca_digits = kpca.fit_transform(scaled_digits)\n",
    "\n",
    "# Split the data into training and testing sets\n",
    "X_train, X_test, y_train, y_test = train_test_split(kpca_digits, digits.target, test_size=0.2, random_state=42)\n",
    "\n",
    "# Train a classification model on the transformed data\n",
    "clf = SVC()\n",
    "clf.fit(X_train, y_train)\n",
    "\n",
    "# Predict the labels for the test set\n",
    "y_pred = clf.predict(X_test)\n",
    "\n",
    "# Evaluate the accuracy of the classification model\n",
    "accuracy = accuracy_score(y_test, y_pred)\n",
    "print(\"Accuracy:\", accuracy)\n"
   ]
  },
  {
   "cell_type": "markdown",
   "metadata": {},
   "source": [
    "Ahora se usará el Kernel Sigmoid "
   ]
  },
  {
   "cell_type": "code",
   "execution_count": 25,
   "metadata": {},
   "outputs": [
    {
     "name": "stdout",
     "output_type": "stream",
     "text": [
      "Accuracy: 0.9833333333333333\n"
     ]
    }
   ],
   "source": [
    "from sklearn.datasets import load_digits\n",
    "from sklearn.decomposition import KernelPCA\n",
    "from sklearn.preprocessing import StandardScaler\n",
    "from sklearn.model_selection import train_test_split\n",
    "from sklearn.svm import SVC\n",
    "from sklearn.metrics import accuracy_score\n",
    "\n",
    "# Load the digits dataset\n",
    "digits = load_digits()\n",
    "\n",
    "# Preprocess the data by scaling the features\n",
    "scaler = StandardScaler()\n",
    "scaled_digits = scaler.fit_transform(digits.data)\n",
    "\n",
    "# Apply Kernel PCA for dimensionality reduction with a different kernel and gamma\n",
    "kpca = KernelPCA(n_components=16, kernel='sigmoid', gamma=0.001)\n",
    "kpca_digits = kpca.fit_transform(scaled_digits)\n",
    "\n",
    "# Split the data into training and testing sets\n",
    "X_train, X_test, y_train, y_test = train_test_split(kpca_digits, digits.target, test_size=0.2, random_state=42)\n",
    "\n",
    "# Train a classification model on the transformed data\n",
    "clf = SVC()\n",
    "clf.fit(X_train, y_train)\n",
    "\n",
    "# Predict the labels for the test set\n",
    "y_pred = clf.predict(X_test)\n",
    "\n",
    "# Evaluate the accuracy of the classification model\n",
    "accuracy = accuracy_score(y_test, y_pred)\n",
    "print(\"Accuracy:\", accuracy)\n"
   ]
  },
  {
   "cell_type": "markdown",
   "metadata": {},
   "source": [
    "Es claro como para el caso de digits, se pudo reducor el número de componentes de 64 a 16 y usando el kernel sigmoide obtener un accuracy de casi 99% "
   ]
  }
 ],
 "metadata": {
  "kernelspec": {
   "display_name": "Python 3",
   "language": "python",
   "name": "python3"
  },
  "language_info": {
   "codemirror_mode": {
    "name": "ipython",
    "version": 3
   },
   "file_extension": ".py",
   "mimetype": "text/x-python",
   "name": "python",
   "nbconvert_exporter": "python",
   "pygments_lexer": "ipython3",
   "version": "3.10.5"
  },
  "orig_nbformat": 4
 },
 "nbformat": 4,
 "nbformat_minor": 2
}
