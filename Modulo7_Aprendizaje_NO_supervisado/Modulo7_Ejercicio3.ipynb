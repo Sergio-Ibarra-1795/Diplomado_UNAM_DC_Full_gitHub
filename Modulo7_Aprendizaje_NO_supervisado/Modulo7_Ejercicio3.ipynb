{
 "cells": [
  {
   "cell_type": "markdown",
   "metadata": {},
   "source": [
    "#### <font color=\"#03997A\"> Diplomado en Ciencia de datos UNAM </font>\n",
    "\n",
    "##### <font color=\"#03997A\"> Dr: Eduardo Espinosa A. </font>\n",
    "\n",
    "##### <font color=\"#03997A\"> Modulo 7 Aprendizaje de Maquina NO supervisado </font>\n",
    "\n",
    "##### <font color=\"#03997A\"> Temas 6 y 7: Identificación de anomalias y ManiFold learning\n",
    "##### Alumno: Ibarra Ramírez Sergio </font>"
   ]
  },
  {
   "cell_type": "markdown",
   "metadata": {},
   "source": [
    "#### Tema 6 Detección  de novedades y valores atípicos "
   ]
  },
  {
   "cell_type": "code",
   "execution_count": 1,
   "metadata": {},
   "outputs": [],
   "source": [
    "import numpy as np\n",
    "import matplotlib.pyplot as plt "
   ]
  },
  {
   "cell_type": "code",
   "execution_count": 2,
   "metadata": {},
   "outputs": [],
   "source": [
    "## Generamos datos ficticios con distribución normal, escalados y centrados en 20\n",
    "\n",
    "data_normal1 = np.random.randn(50000) * 20 +20 "
   ]
  },
  {
   "cell_type": "markdown",
   "metadata": {},
   "source": [
    "##### Ejemplo de detección de anomalias basadas en desviación estandar "
   ]
  },
  {
   "cell_type": "code",
   "execution_count": 3,
   "metadata": {},
   "outputs": [],
   "source": [
    "def find_anomalies(data, cut=3):\n",
    "    ## Donde data es una lista de datos\n",
    "    ## Y cut =n denota el número de desviaciones estandar para hacer el corte\n",
    "\n",
    "    ## Inicializamos la lista donde se irán almacenando las anomalias\n",
    "    anomalies = []\n",
    "\n",
    "    ## Establecer limites superior e inferoor de datos 'NO anomalos'\n",
    "\n",
    "    ## Se calcula la desviación estandar de la data dada como parámetro\n",
    "    data_std = np.std(data)\n",
    "    ## Se calcula la media de la data dada como parámetro\n",
    "    data_mean = np.mean(data)\n",
    "\n",
    "    ## El curte es cut veces la desviación estandar\n",
    "    anomaly_cut = data_std * cut\n",
    "\n",
    "\n",
    "    ## Limites inferior y superior es la media + el anomaly_cut\n",
    "    low_limit = data_mean - anomaly_cut\n",
    "    upp_limit = data_mean + anomaly_cut\n",
    "\n",
    "    ## Detección de anomalias\n",
    "\n",
    "    # Para cada elemento en la lista de data\n",
    "    for d in data: \n",
    "        # Si el valor de dicho elemento es mayor o menor que los limites superior e inferior respectivamente\n",
    "        if d>upp_limit or d < low_limit:\n",
    "            # Agregarlo a la lista de anomalias\n",
    "            anomalies.append(d)\n",
    "    return anomalies"
   ]
  },
  {
   "cell_type": "code",
   "execution_count": 4,
   "metadata": {},
   "outputs": [
    {
     "data": {
      "text/plain": [
       "[83.76161964535444,\n",
       " 82.43104442219692,\n",
       " -47.5208400940048,\n",
       " -46.34767530780759,\n",
       " 82.13979667047855,\n",
       " 91.35885019029371,\n",
       " -43.73601903642563,\n",
       " 86.75690893754137,\n",
       " -40.71556421021005,\n",
       " 107.76146844299574,\n",
       " -41.941089675347065,\n",
       " 82.32677803097141,\n",
       " 81.43093835728652,\n",
       " -42.904358650491545,\n",
       " 86.06714522619917,\n",
       " 82.53640838273475,\n",
       " -42.148935724000786,\n",
       " -45.67537130733426,\n",
       " 95.5614532397822,\n",
       " 81.83333080469598,\n",
       " 80.64666314987579,\n",
       " -46.53341101013247,\n",
       " -41.068726664496936,\n",
       " 80.42936250049111,\n",
       " 84.23270638758243,\n",
       " 88.41663700497918,\n",
       " 82.02574332460864,\n",
       " 81.94943600321037,\n",
       " -43.31529582696245,\n",
       " -41.09365693351801,\n",
       " 93.63532569054408,\n",
       " -49.71507404636375,\n",
       " 94.91654626076284,\n",
       " 81.16842366796661,\n",
       " 83.03284400348544,\n",
       " -45.55989782257467,\n",
       " -40.08768559680428,\n",
       " 82.51628852205471,\n",
       " -44.54108882836934,\n",
       " 94.41366714146581,\n",
       " -43.49717188961223,\n",
       " -40.26027885610445,\n",
       " -47.76794007513979,\n",
       " -40.54724506085091,\n",
       " -46.789646565993664,\n",
       " 86.43009588982163,\n",
       " -49.64323695832044,\n",
       " 82.32461432245061,\n",
       " -42.18476385262039,\n",
       " -48.13530966937408,\n",
       " 84.8080607569529,\n",
       " -39.96804019723676,\n",
       " 80.45431984609374,\n",
       " 80.3182770806049,\n",
       " 106.1797599627286,\n",
       " -45.145394158957515,\n",
       " -39.971397432471825,\n",
       " -53.401654738266245,\n",
       " -47.89199436664563,\n",
       " 81.91926247601964,\n",
       " -42.02770468758789,\n",
       " 88.28792560522305,\n",
       " 84.59620495339765,\n",
       " -47.63640443101312,\n",
       " -54.16837478556735,\n",
       " 81.36306843239882,\n",
       " -47.76192683096474,\n",
       " 82.95805138658737,\n",
       " -45.85978501576864,\n",
       " 81.17478871756732,\n",
       " 92.36979602529681,\n",
       " 85.58526340229105,\n",
       " 81.15659328499845,\n",
       " 82.77614077991521,\n",
       " -47.81652037315641,\n",
       " -40.58589239315257,\n",
       " 83.48551396255304,\n",
       " 83.22945580214248,\n",
       " 88.54624336904507,\n",
       " 85.35698708388796,\n",
       " 83.85034109918357,\n",
       " 85.06801034044852,\n",
       " 92.24984898443968,\n",
       " -51.60869533680996,\n",
       " 81.64682875097675,\n",
       " -53.78563734363223,\n",
       " -40.13151192260012,\n",
       " 82.20942137456447,\n",
       " 81.60326389792863,\n",
       " -54.1826473396369,\n",
       " -44.3212858317022,\n",
       " 80.61213274113445,\n",
       " 88.85770138444168,\n",
       " 84.23547208799175,\n",
       " -48.57354381125478,\n",
       " 90.42414964755126,\n",
       " 84.86199651686742,\n",
       " 88.3072480192262,\n",
       " 86.00284735834842,\n",
       " 84.91971284972178,\n",
       " -43.34071034390327,\n",
       " 86.50579569613195,\n",
       " -43.90427071897718,\n",
       " -55.74873148665981,\n",
       " -42.811194402041586,\n",
       " -52.6417805048828,\n",
       " -49.02821679149882,\n",
       " 80.78240508312831,\n",
       " -60.89033102529993,\n",
       " 84.36406371203101,\n",
       " -41.44016518561814,\n",
       " -45.51543869308114,\n",
       " 87.74085022733303,\n",
       " -40.2624226017722,\n",
       " -43.591468390497134,\n",
       " 97.56891921116149,\n",
       " -49.81625663515247,\n",
       " 97.24823828568422,\n",
       " 83.7827529989372,\n",
       " 81.57569540107494,\n",
       " -43.18263805393066,\n",
       " -41.97974390250242,\n",
       " -52.7136273895365,\n",
       " 88.21742800409865,\n",
       " -48.313112360829564,\n",
       " -41.979896023299816,\n",
       " -43.42782958051966,\n",
       " -39.81771512563214,\n",
       " 80.54387049741501,\n",
       " -45.283526538710404,\n",
       " 85.62109996525268,\n",
       " -48.194705892587905,\n",
       " 83.75133200905003,\n",
       " 80.14851199294834,\n",
       " 83.02446165735466,\n",
       " -40.02142587337112,\n",
       " -39.802856679920204,\n",
       " -42.57805555080076,\n",
       " -58.924552112212936,\n",
       " 84.33368386382041,\n",
       " 83.23796018974498,\n",
       " 91.41015647043102,\n",
       " -47.62013278737072,\n",
       " -43.57312594133827,\n",
       " -45.60046453275406,\n",
       " -42.03701377651734,\n",
       " -41.63251738474169,\n",
       " -45.12379424660743,\n",
       " -50.626691354968244,\n",
       " 80.07591186363022,\n",
       " -40.78065822380366,\n",
       " 92.21175925418984,\n",
       " -58.07754792046967]"
      ]
     },
     "execution_count": 4,
     "metadata": {},
     "output_type": "execute_result"
    }
   ],
   "source": [
    "## Usamos la función find_anomalies\n",
    "find_anomalies(data_normal1, cut=3)"
   ]
  },
  {
   "cell_type": "markdown",
   "metadata": {},
   "source": [
    "Graficamos nuestro conjunto de datos original"
   ]
  },
  {
   "cell_type": "markdown",
   "metadata": {},
   "source": [
    "- Primero con gráffica de histograma "
   ]
  },
  {
   "cell_type": "code",
   "execution_count": 5,
   "metadata": {},
   "outputs": [
    {
     "data": {
      "text/plain": [
       "(array([4.0000e+01, 4.2100e+02, 2.7790e+03, 9.1550e+03, 1.5849e+04,\n",
       "        1.3940e+04, 6.2650e+03, 1.3800e+03, 1.5800e+02, 1.3000e+01]),\n",
       " array([-60.89033103, -44.02515108, -27.15997113, -10.29479118,\n",
       "          6.57038876,  23.43556871,  40.30074866,  57.1659286 ,\n",
       "         74.03110855,  90.8962885 , 107.76146844]),\n",
       " <BarContainer object of 10 artists>)"
      ]
     },
     "execution_count": 5,
     "metadata": {},
     "output_type": "execute_result"
    },
    {
     "data": {
      "image/png": "[encoded data removed]",
      "text/plain": [
       "<Figure size 432x288 with 1 Axes>"
      ]
     },
     "metadata": {
      "needs_background": "light"
     },
     "output_type": "display_data"
    }
   ],
   "source": [
    "plt.hist(data_normal1)"
   ]
  },
  {
   "cell_type": "markdown",
   "metadata": {},
   "source": [
    "Veamos tambien la gráfica de quantil-quantil"
   ]
  },
  {
   "cell_type": "code",
   "execution_count": 6,
   "metadata": {},
   "outputs": [
    {
     "data": {
      "image/png": "[encoded data removed]",
      "text/plain": [
       "<Figure size 432x288 with 1 Axes>"
      ]
     },
     "metadata": {
      "needs_background": "light"
     },
     "output_type": "display_data"
    }
   ],
   "source": [
    "import pylab \n",
    "import scipy.stats as stats\n",
    "stats.probplot(data_normal1, dist='norm', plot=pylab)\n",
    "pylab.show()"
   ]
  },
  {
   "cell_type": "markdown",
   "metadata": {},
   "source": [
    "Prueba de normalidad de los datos con la prueba de shapiro cuyo H0 indica que la variable SI ES NORMAL "
   ]
  },
  {
   "cell_type": "code",
   "execution_count": 7,
   "metadata": {},
   "outputs": [
    {
     "name": "stdout",
     "output_type": "stream",
     "text": [
      "0.950758159160614\n"
     ]
    },
    {
     "name": "stderr",
     "output_type": "stream",
     "text": [
      "c:\\Users\\Sergio\\AppData\\Local\\Programs\\Python\\Python310\\lib\\site-packages\\scipy\\stats\\_morestats.py:1800: UserWarning: p-value may not be accurate for N > 5000.\n",
      "  warnings.warn(\"p-value may not be accurate for N > 5000.\")\n"
     ]
    }
   ],
   "source": [
    "from scipy.stats import shapiro\n",
    "est, p_value = shapiro(data_normal1)\n",
    "print(p_value)"
   ]
  },
  {
   "cell_type": "code",
   "execution_count": 8,
   "metadata": {},
   "outputs": [
    {
     "name": "stdout",
     "output_type": "stream",
     "text": [
      "0.9999701976776123\n"
     ]
    }
   ],
   "source": [
    "print(est)"
   ]
  },
  {
   "cell_type": "markdown",
   "metadata": {},
   "source": [
    "##### Ejemplo de detección de anomalias basadas en Rango Interquartilico y box-plot"
   ]
  },
  {
   "cell_type": "code",
   "execution_count": 9,
   "metadata": {},
   "outputs": [],
   "source": [
    "## BOXPLOT \n",
    "import pandas as pd\n",
    "import numpy as no \n",
    "import matplotlib.pyplot as plt "
   ]
  },
  {
   "cell_type": "markdown",
   "metadata": {},
   "source": [
    "Generaremos de nuevo un conjunto de datos para el caso de detección de valores anomalos por Rango Interquartilico "
   ]
  },
  {
   "cell_type": "code",
   "execution_count": 10,
   "metadata": {},
   "outputs": [
    {
     "data": {
      "text/html": [
       "<div>\n",
       "<style scoped>\n",
       "    .dataframe tbody tr th:only-of-type {\n",
       "        vertical-align: middle;\n",
       "    }\n",
       "\n",
       "    .dataframe tbody tr th {\n",
       "        vertical-align: top;\n",
       "    }\n",
       "\n",
       "    .dataframe thead th {\n",
       "        text-align: right;\n",
       "    }\n",
       "</style>\n",
       "<table border=\"1\" class=\"dataframe\">\n",
       "  <thead>\n",
       "    <tr style=\"text-align: right;\">\n",
       "      <th></th>\n",
       "      <th>random</th>\n",
       "    </tr>\n",
       "  </thead>\n",
       "  <tbody>\n",
       "    <tr>\n",
       "      <th>0</th>\n",
       "      <td>27.122800</td>\n",
       "    </tr>\n",
       "    <tr>\n",
       "      <th>1</th>\n",
       "      <td>42.557973</td>\n",
       "    </tr>\n",
       "    <tr>\n",
       "      <th>2</th>\n",
       "      <td>31.380466</td>\n",
       "    </tr>\n",
       "    <tr>\n",
       "      <th>3</th>\n",
       "      <td>17.832263</td>\n",
       "    </tr>\n",
       "    <tr>\n",
       "      <th>4</th>\n",
       "      <td>51.247667</td>\n",
       "    </tr>\n",
       "  </tbody>\n",
       "</table>\n",
       "</div>"
      ],
      "text/plain": [
       "      random\n",
       "0  27.122800\n",
       "1  42.557973\n",
       "2  31.380466\n",
       "3  17.832263\n",
       "4  51.247667"
      ]
     },
     "execution_count": 10,
     "metadata": {},
     "output_type": "execute_result"
    }
   ],
   "source": [
    "data_normal2 = np.random.randn(50000) * 20 +20 \n",
    "\n",
    "## Convertimos los números aleatorios en un DF \n",
    "data_normal2 = pd.DataFrame(data_normal2, columns=['random'])\n",
    "data_normal2.head(5)"
   ]
  },
  {
   "cell_type": "markdown",
   "metadata": {},
   "source": [
    "Vamos a usar el blox plot para el caso de data_normal2"
   ]
  },
  {
   "cell_type": "code",
   "execution_count": 11,
   "metadata": {},
   "outputs": [
    {
     "data": {
      "text/plain": [
       "<AxesSubplot:>"
      ]
     },
     "execution_count": 11,
     "metadata": {},
     "output_type": "execute_result"
    },
    {
     "data": {
      "image/png": "[encoded data removed]",
      "text/plain": [
       "<Figure size 432x288 with 1 Axes>"
      ]
     },
     "metadata": {
      "needs_background": "light"
     },
     "output_type": "display_data"
    }
   ],
   "source": [
    "import seaborn as sns \n",
    "sns.boxplot(data_normal2)"
   ]
  },
  {
   "cell_type": "markdown",
   "metadata": {},
   "source": [
    "Ahora vamos a usar el boxplot para datos no normales"
   ]
  },
  {
   "cell_type": "code",
   "execution_count": 12,
   "metadata": {},
   "outputs": [
    {
     "data": {
      "text/html": [
       "<div>\n",
       "<style scoped>\n",
       "    .dataframe tbody tr th:only-of-type {\n",
       "        vertical-align: middle;\n",
       "    }\n",
       "\n",
       "    .dataframe tbody tr th {\n",
       "        vertical-align: top;\n",
       "    }\n",
       "\n",
       "    .dataframe thead th {\n",
       "        text-align: right;\n",
       "    }\n",
       "</style>\n",
       "<table border=\"1\" class=\"dataframe\">\n",
       "  <thead>\n",
       "    <tr style=\"text-align: right;\">\n",
       "      <th></th>\n",
       "      <th>Date</th>\n",
       "      <th>MSFT</th>\n",
       "      <th>F</th>\n",
       "      <th>BAC</th>\n",
       "    </tr>\n",
       "  </thead>\n",
       "  <tbody>\n",
       "    <tr>\n",
       "      <th>0</th>\n",
       "      <td>1/3/2007</td>\n",
       "      <td>29.860001</td>\n",
       "      <td>7.51</td>\n",
       "      <td>53.330002</td>\n",
       "    </tr>\n",
       "    <tr>\n",
       "      <th>1</th>\n",
       "      <td>1/4/2007</td>\n",
       "      <td>29.809999</td>\n",
       "      <td>7.70</td>\n",
       "      <td>53.669998</td>\n",
       "    </tr>\n",
       "    <tr>\n",
       "      <th>2</th>\n",
       "      <td>1/5/2007</td>\n",
       "      <td>29.639999</td>\n",
       "      <td>7.62</td>\n",
       "      <td>53.240002</td>\n",
       "    </tr>\n",
       "    <tr>\n",
       "      <th>3</th>\n",
       "      <td>1/8/2007</td>\n",
       "      <td>29.930000</td>\n",
       "      <td>7.73</td>\n",
       "      <td>53.450001</td>\n",
       "    </tr>\n",
       "    <tr>\n",
       "      <th>4</th>\n",
       "      <td>1/9/2007</td>\n",
       "      <td>29.959999</td>\n",
       "      <td>7.79</td>\n",
       "      <td>53.500000</td>\n",
       "    </tr>\n",
       "  </tbody>\n",
       "</table>\n",
       "</div>"
      ],
      "text/plain": [
       "       Date       MSFT     F        BAC\n",
       "0  1/3/2007  29.860001  7.51  53.330002\n",
       "1  1/4/2007  29.809999  7.70  53.669998\n",
       "2  1/5/2007  29.639999  7.62  53.240002\n",
       "3  1/8/2007  29.930000  7.73  53.450001\n",
       "4  1/9/2007  29.959999  7.79  53.500000"
      ]
     },
     "execution_count": 12,
     "metadata": {},
     "output_type": "execute_result"
    }
   ],
   "source": [
    "url = 'http://dicyg.fi-c.unam.mx:8080/lalo/pypcd/presentaciones/stocks.csv'\n",
    "stocks = pd.read_csv(url, header='infer')\n",
    "stocks.head(5)"
   ]
  },
  {
   "cell_type": "markdown",
   "metadata": {},
   "source": [
    "Y aplicamos ahora el box plot para estos datos de stocks"
   ]
  },
  {
   "cell_type": "code",
   "execution_count": 13,
   "metadata": {},
   "outputs": [
    {
     "data": {
      "text/plain": [
       "<AxesSubplot:>"
      ]
     },
     "execution_count": 13,
     "metadata": {},
     "output_type": "execute_result"
    },
    {
     "data": {
      "image/png": "[encoded data removed]",
      "text/plain": [
       "<Figure size 432x288 with 1 Axes>"
      ]
     },
     "metadata": {
      "needs_background": "light"
     },
     "output_type": "display_data"
    }
   ],
   "source": [
    "sns.boxplot(stocks)"
   ]
  },
  {
   "cell_type": "markdown",
   "metadata": {},
   "source": [
    "Vamos a aplicar nosotros el algoritmo de Rango Interquartilico "
   ]
  },
  {
   "cell_type": "code",
   "execution_count": 14,
   "metadata": {},
   "outputs": [],
   "source": [
    "import numpy as np \n",
    "from sklearn.datasets import make_blobs \n",
    "\n",
    "##Se usa una especie de 'variable muda _'\n",
    "\n",
    "X,_ = make_blobs (n_samples=300, n_features=2, centers=1, shuffle=True, random_state=1)\n",
    "\n",
    "##Función para detectar anomalias 'usando el rango Inter'\n",
    "\n",
    "def anomaly_indexes(X):\n",
    "\n",
    "    ## Se definen los Quartiles\n",
    "    Q1,Q3 = np.percentile(X, [25,75])\n",
    "    ## Se calcula el rango interquartilico\n",
    "    IQR = Q3-Q1\n",
    "\n",
    "    ## Se definen los limites superior e inferior\n",
    "    low_limit = Q1 -1.5*IQR\n",
    "    upp_limit = Q3 +1.5*IQR\n",
    "\n",
    "    ## Se detectan las anomalias para cada valor de X siendo mayor o menor a lso limites establecidos\n",
    "    ## NOS RETORNA LOS INDICES de los valores que cumplan esa condición \n",
    "    anomalies = np.where((X<low_limit)| (X>upp_limit))\n",
    "    return anomalies "
   ]
  },
  {
   "cell_type": "code",
   "execution_count": 15,
   "metadata": {},
   "outputs": [
    {
     "name": "stdout",
     "output_type": "stream",
     "text": [
      "Indices de las anomalies en x: (array([ 17,  87, 128, 241, 263], dtype=int64),)\n",
      "Indices de las anomalies en x: [[-4.16600056  2.29232595]\n",
      " [-4.45264491  6.34401868]\n",
      " [-4.07306291  2.62892349]\n",
      " [ 0.8687658   4.15785509]\n",
      " [ 1.37129721  5.23107449]]\n"
     ]
    }
   ],
   "source": [
    "print('Indices de las anomalies en x:', anomaly_indexes(X[:,0]))\n",
    "print('Indices de las anomalies en x:', X[anomaly_indexes(X[:,0])])"
   ]
  },
  {
   "cell_type": "markdown",
   "metadata": {},
   "source": [
    "Uso de la función anomaly_indexes para el caso de stocks['BAC']"
   ]
  },
  {
   "cell_type": "code",
   "execution_count": 16,
   "metadata": {},
   "outputs": [
    {
     "data": {
      "text/plain": [
       "(array([  0,   1,   2,   3,   4,   5,   6,   7,   8,   9,  10,  11,  12,\n",
       "         13,  14,  15,  16,  17,  18,  19,  20,  21,  22,  23,  24,  25,\n",
       "         26,  27,  28,  29,  30,  31,  32,  33,  34,  35,  36,  37,  38,\n",
       "         39,  40,  41,  42,  43,  44,  45,  46,  47,  48,  49,  50,  51,\n",
       "         52,  53,  54,  55,  56,  57,  58,  59,  60,  61,  62,  63,  64,\n",
       "         65,  66,  67,  68,  69,  70,  71,  72,  73,  74,  75,  76,  77,\n",
       "         78,  79,  80,  81,  82,  83,  84,  85,  86,  87,  88,  89,  90,\n",
       "         91,  92,  93,  94,  95,  96,  97,  98,  99, 100, 101, 102, 103,\n",
       "        104, 105, 106, 107, 108, 109, 110, 111, 112, 113, 114, 115, 116,\n",
       "        117, 118, 119, 120, 121, 122, 123, 124, 125, 126, 127, 128, 129,\n",
       "        130, 131, 132, 133, 134, 135, 136, 137, 138, 139, 140, 141, 142,\n",
       "        143, 144, 145, 146, 147, 148, 149, 150, 151, 152, 153, 154, 155,\n",
       "        156, 157, 158, 159, 160, 161, 162, 163, 164, 165, 166, 167, 168,\n",
       "        169, 170, 171, 172, 173, 174, 175, 176, 177, 178, 179, 180, 181,\n",
       "        182, 183, 184, 185, 186, 187, 188, 189, 190, 191, 192, 193, 194,\n",
       "        195, 196, 197, 198, 199, 200, 201, 202, 203, 204, 205, 206, 207,\n",
       "        208, 209, 210, 211, 212, 213, 214, 215, 216, 217, 218, 219, 220,\n",
       "        221, 222, 223, 224, 225, 226, 227, 228, 229, 230, 231, 232, 233,\n",
       "        234, 235, 236, 237, 238, 239, 240, 241, 242, 243, 244, 245, 246,\n",
       "        247, 248, 249, 250, 251, 252, 253, 254, 255, 256, 257, 258, 259,\n",
       "        260, 261, 262, 263, 264, 265, 266, 267, 268, 269, 270, 271, 272,\n",
       "        273, 274, 275, 276, 277, 278, 279, 280, 281, 282, 283, 284, 285,\n",
       "        286, 287, 288, 289, 290, 291, 292, 293, 294, 295, 296, 297, 298,\n",
       "        299, 300, 301, 302, 303, 304, 305, 306, 307, 308, 309, 310, 311,\n",
       "        312, 313, 314, 315, 316, 317, 318, 319, 320, 321, 322, 323, 324,\n",
       "        325, 326, 327, 328, 329, 330, 331, 332, 333, 334, 335, 336, 337,\n",
       "        338, 339, 340, 341, 342, 343, 344, 345, 346, 347, 348, 349, 350,\n",
       "        351, 352, 353, 354, 355, 356, 357, 358, 359, 360, 361, 362, 363,\n",
       "        364, 365, 366, 367, 368, 369, 370, 371, 372, 387, 388, 389, 390,\n",
       "        391, 392, 393, 394, 395, 396, 397, 398, 399, 400, 401, 402, 403,\n",
       "        404, 405, 406, 407, 408, 409, 410, 411, 412, 413, 414, 415, 416,\n",
       "        417, 418, 419, 420, 421, 422, 423, 424, 425, 426, 427, 428, 429,\n",
       "        430, 431, 432, 433, 434, 435, 436, 437, 438, 439, 440, 441, 442,\n",
       "        443, 449, 536, 537, 538, 542, 543, 544, 545, 546, 547, 548],\n",
       "       dtype=int64),)"
      ]
     },
     "execution_count": 16,
     "metadata": {},
     "output_type": "execute_result"
    }
   ],
   "source": [
    "anomaly_indexes(stocks['BAC'])"
   ]
  },
  {
   "cell_type": "markdown",
   "metadata": {},
   "source": [
    "##### Density Base Spatial Clustering para deteccion de anomalias "
   ]
  },
  {
   "cell_type": "code",
   "execution_count": 17,
   "metadata": {},
   "outputs": [],
   "source": [
    "import numpy as np\n",
    "from sklearn.cluster import DBSCAN\n",
    "np.random.seed(1)\n",
    "data_para_DBscan = np.random.randn(50000,2)*20 + 20 "
   ]
  },
  {
   "cell_type": "markdown",
   "metadata": {},
   "source": [
    "Se aplica el algoritmo de DBscan para detección de anomalias, definiendo min_samples (umbral de puntos en cluster) y eps (tamaño de clusters)"
   ]
  },
  {
   "cell_type": "code",
   "execution_count": 18,
   "metadata": {},
   "outputs": [
    {
     "data": {
      "text/plain": [
       "94"
      ]
     },
     "execution_count": 18,
     "metadata": {},
     "output_type": "execute_result"
    }
   ],
   "source": [
    "anomalies_dbscan = DBSCAN(min_samples=2, eps=3)\n",
    "clusters_dbscan = anomalies_dbscan.fit_predict(data_para_DBscan)\n",
    "\n",
    "## Se obtiene aquellos puntos o clusters con solo 1 etiqueta \n",
    "list(clusters_dbscan).count(-1)"
   ]
  },
  {
   "cell_type": "markdown",
   "metadata": {},
   "source": [
    "Otro ejemplo de uso de algoritmo de detección de anomalias "
   ]
  },
  {
   "cell_type": "code",
   "execution_count": 19,
   "metadata": {},
   "outputs": [],
   "source": [
    "from sklearn.cluster import DBSCAN \n",
    "from collections import Counter "
   ]
  },
  {
   "cell_type": "code",
   "execution_count": 20,
   "metadata": {},
   "outputs": [
    {
     "data": {
      "text/html": [
       "<div>\n",
       "<style scoped>\n",
       "    .dataframe tbody tr th:only-of-type {\n",
       "        vertical-align: middle;\n",
       "    }\n",
       "\n",
       "    .dataframe tbody tr th {\n",
       "        vertical-align: top;\n",
       "    }\n",
       "\n",
       "    .dataframe thead th {\n",
       "        text-align: right;\n",
       "    }\n",
       "</style>\n",
       "<table border=\"1\" class=\"dataframe\">\n",
       "  <thead>\n",
       "    <tr style=\"text-align: right;\">\n",
       "      <th></th>\n",
       "      <th>type1</th>\n",
       "      <th>fixed acidity</th>\n",
       "      <th>volatile acidity</th>\n",
       "      <th>citric acid</th>\n",
       "      <th>residual sugar</th>\n",
       "      <th>chlorides</th>\n",
       "      <th>free sulfur dioxide</th>\n",
       "      <th>total sulfur dioxide</th>\n",
       "      <th>density</th>\n",
       "      <th>pH</th>\n",
       "      <th>sulphates</th>\n",
       "      <th>alcohol</th>\n",
       "      <th>quality</th>\n",
       "    </tr>\n",
       "  </thead>\n",
       "  <tbody>\n",
       "    <tr>\n",
       "      <th>0</th>\n",
       "      <td>white</td>\n",
       "      <td>7.0</td>\n",
       "      <td>0.27</td>\n",
       "      <td>0.36</td>\n",
       "      <td>20.7</td>\n",
       "      <td>0.045</td>\n",
       "      <td>45.0</td>\n",
       "      <td>170.0</td>\n",
       "      <td>1.0010</td>\n",
       "      <td>3.00</td>\n",
       "      <td>0.45</td>\n",
       "      <td>8.8</td>\n",
       "      <td>6</td>\n",
       "    </tr>\n",
       "    <tr>\n",
       "      <th>1</th>\n",
       "      <td>white</td>\n",
       "      <td>6.3</td>\n",
       "      <td>0.30</td>\n",
       "      <td>0.34</td>\n",
       "      <td>1.6</td>\n",
       "      <td>0.049</td>\n",
       "      <td>14.0</td>\n",
       "      <td>132.0</td>\n",
       "      <td>0.9940</td>\n",
       "      <td>3.30</td>\n",
       "      <td>0.49</td>\n",
       "      <td>9.5</td>\n",
       "      <td>6</td>\n",
       "    </tr>\n",
       "    <tr>\n",
       "      <th>2</th>\n",
       "      <td>white</td>\n",
       "      <td>8.1</td>\n",
       "      <td>0.28</td>\n",
       "      <td>0.40</td>\n",
       "      <td>6.9</td>\n",
       "      <td>0.050</td>\n",
       "      <td>30.0</td>\n",
       "      <td>97.0</td>\n",
       "      <td>0.9951</td>\n",
       "      <td>3.26</td>\n",
       "      <td>0.44</td>\n",
       "      <td>10.1</td>\n",
       "      <td>6</td>\n",
       "    </tr>\n",
       "    <tr>\n",
       "      <th>3</th>\n",
       "      <td>white</td>\n",
       "      <td>7.2</td>\n",
       "      <td>0.23</td>\n",
       "      <td>0.32</td>\n",
       "      <td>8.5</td>\n",
       "      <td>0.058</td>\n",
       "      <td>47.0</td>\n",
       "      <td>186.0</td>\n",
       "      <td>0.9956</td>\n",
       "      <td>3.19</td>\n",
       "      <td>0.40</td>\n",
       "      <td>9.9</td>\n",
       "      <td>6</td>\n",
       "    </tr>\n",
       "    <tr>\n",
       "      <th>4</th>\n",
       "      <td>white</td>\n",
       "      <td>7.2</td>\n",
       "      <td>0.23</td>\n",
       "      <td>0.32</td>\n",
       "      <td>8.5</td>\n",
       "      <td>0.058</td>\n",
       "      <td>47.0</td>\n",
       "      <td>186.0</td>\n",
       "      <td>0.9956</td>\n",
       "      <td>3.19</td>\n",
       "      <td>0.40</td>\n",
       "      <td>9.9</td>\n",
       "      <td>6</td>\n",
       "    </tr>\n",
       "  </tbody>\n",
       "</table>\n",
       "</div>"
      ],
      "text/plain": [
       "   type1  fixed acidity  volatile acidity  citric acid  residual sugar  \\\n",
       "0  white            7.0              0.27         0.36            20.7   \n",
       "1  white            6.3              0.30         0.34             1.6   \n",
       "2  white            8.1              0.28         0.40             6.9   \n",
       "3  white            7.2              0.23         0.32             8.5   \n",
       "4  white            7.2              0.23         0.32             8.5   \n",
       "\n",
       "   chlorides  free sulfur dioxide  total sulfur dioxide  density    pH  \\\n",
       "0      0.045                 45.0                 170.0   1.0010  3.00   \n",
       "1      0.049                 14.0                 132.0   0.9940  3.30   \n",
       "2      0.050                 30.0                  97.0   0.9951  3.26   \n",
       "3      0.058                 47.0                 186.0   0.9956  3.19   \n",
       "4      0.058                 47.0                 186.0   0.9956  3.19   \n",
       "\n",
       "   sulphates  alcohol  quality  \n",
       "0       0.45      8.8        6  \n",
       "1       0.49      9.5        6  \n",
       "2       0.44     10.1        6  \n",
       "3       0.40      9.9        6  \n",
       "4       0.40      9.9        6  "
      ]
     },
     "execution_count": 20,
     "metadata": {},
     "output_type": "execute_result"
    }
   ],
   "source": [
    "df_para_DBscan = pd.read_csv(\"https://bit.ly/3arouNg\")\n",
    "df_para_DBscan.head(5)"
   ]
  },
  {
   "cell_type": "markdown",
   "metadata": {},
   "source": [
    "Solo se usarán las colunmas fixed acidity y volatile acidity "
   ]
  },
  {
   "cell_type": "code",
   "execution_count": 21,
   "metadata": {},
   "outputs": [
    {
     "data": {
      "text/html": [
       "<div>\n",
       "<style scoped>\n",
       "    .dataframe tbody tr th:only-of-type {\n",
       "        vertical-align: middle;\n",
       "    }\n",
       "\n",
       "    .dataframe tbody tr th {\n",
       "        vertical-align: top;\n",
       "    }\n",
       "\n",
       "    .dataframe thead th {\n",
       "        text-align: right;\n",
       "    }\n",
       "</style>\n",
       "<table border=\"1\" class=\"dataframe\">\n",
       "  <thead>\n",
       "    <tr style=\"text-align: right;\">\n",
       "      <th></th>\n",
       "      <th>fixed acidity</th>\n",
       "      <th>volatile acidity</th>\n",
       "    </tr>\n",
       "  </thead>\n",
       "  <tbody>\n",
       "    <tr>\n",
       "      <th>0</th>\n",
       "      <td>7.0</td>\n",
       "      <td>0.27</td>\n",
       "    </tr>\n",
       "    <tr>\n",
       "      <th>1</th>\n",
       "      <td>6.3</td>\n",
       "      <td>0.30</td>\n",
       "    </tr>\n",
       "    <tr>\n",
       "      <th>2</th>\n",
       "      <td>8.1</td>\n",
       "      <td>0.28</td>\n",
       "    </tr>\n",
       "    <tr>\n",
       "      <th>3</th>\n",
       "      <td>7.2</td>\n",
       "      <td>0.23</td>\n",
       "    </tr>\n",
       "    <tr>\n",
       "      <th>4</th>\n",
       "      <td>7.2</td>\n",
       "      <td>0.23</td>\n",
       "    </tr>\n",
       "  </tbody>\n",
       "</table>\n",
       "</div>"
      ],
      "text/plain": [
       "   fixed acidity  volatile acidity\n",
       "0            7.0              0.27\n",
       "1            6.3              0.30\n",
       "2            8.1              0.28\n",
       "3            7.2              0.23\n",
       "4            7.2              0.23"
      ]
     },
     "execution_count": 21,
     "metadata": {},
     "output_type": "execute_result"
    }
   ],
   "source": [
    "data_para_DBscan = df_para_DBscan.iloc[:,1:3]\n",
    "data_para_DBscan.head(5)"
   ]
  },
  {
   "cell_type": "code",
   "execution_count": 22,
   "metadata": {},
   "outputs": [
    {
     "data": {
      "text/html": [
       "<style>#sk-container-id-1 {color: black;background-color: white;}#sk-container-id-1 pre{padding: 0;}#sk-container-id-1 div.sk-toggleable {background-color: white;}#sk-container-id-1 label.sk-toggleable__label {cursor: pointer;display: block;width: 100%;margin-bottom: 0;padding: 0.3em;box-sizing: border-box;text-align: center;}#sk-container-id-1 label.sk-toggleable__label-arrow:before {content: \"▸\";float: left;margin-right: 0.25em;color: #696969;}#sk-container-id-1 label.sk-toggleable__label-arrow:hover:before {color: black;}#sk-container-id-1 div.sk-estimator:hover label.sk-toggleable__label-arrow:before {color: black;}#sk-container-id-1 div.sk-toggleable__content {max-height: 0;max-width: 0;overflow: hidden;text-align: left;background-color: #f0f8ff;}#sk-container-id-1 div.sk-toggleable__content pre {margin: 0.2em;color: black;border-radius: 0.25em;background-color: #f0f8ff;}#sk-container-id-1 input.sk-toggleable__control:checked~div.sk-toggleable__content {max-height: 200px;max-width: 100%;overflow: auto;}#sk-container-id-1 input.sk-toggleable__control:checked~label.sk-toggleable__label-arrow:before {content: \"▾\";}#sk-container-id-1 div.sk-estimator input.sk-toggleable__control:checked~label.sk-toggleable__label {background-color: #d4ebff;}#sk-container-id-1 div.sk-label input.sk-toggleable__control:checked~label.sk-toggleable__label {background-color: #d4ebff;}#sk-container-id-1 input.sk-hidden--visually {border: 0;clip: rect(1px 1px 1px 1px);clip: rect(1px, 1px, 1px, 1px);height: 1px;margin: -1px;overflow: hidden;padding: 0;position: absolute;width: 1px;}#sk-container-id-1 div.sk-estimator {font-family: monospace;background-color: #f0f8ff;border: 1px dotted black;border-radius: 0.25em;box-sizing: border-box;margin-bottom: 0.5em;}#sk-container-id-1 div.sk-estimator:hover {background-color: #d4ebff;}#sk-container-id-1 div.sk-parallel-item::after {content: \"\";width: 100%;border-bottom: 1px solid gray;flex-grow: 1;}#sk-container-id-1 div.sk-label:hover label.sk-toggleable__label {background-color: #d4ebff;}#sk-container-id-1 div.sk-serial::before {content: \"\";position: absolute;border-left: 1px solid gray;box-sizing: border-box;top: 0;bottom: 0;left: 50%;z-index: 0;}#sk-container-id-1 div.sk-serial {display: flex;flex-direction: column;align-items: center;background-color: white;padding-right: 0.2em;padding-left: 0.2em;position: relative;}#sk-container-id-1 div.sk-item {position: relative;z-index: 1;}#sk-container-id-1 div.sk-parallel {display: flex;align-items: stretch;justify-content: center;background-color: white;position: relative;}#sk-container-id-1 div.sk-item::before, #sk-container-id-1 div.sk-parallel-item::before {content: \"\";position: absolute;border-left: 1px solid gray;box-sizing: border-box;top: 0;bottom: 0;left: 50%;z-index: -1;}#sk-container-id-1 div.sk-parallel-item {display: flex;flex-direction: column;z-index: 1;position: relative;background-color: white;}#sk-container-id-1 div.sk-parallel-item:first-child::after {align-self: flex-end;width: 50%;}#sk-container-id-1 div.sk-parallel-item:last-child::after {align-self: flex-start;width: 50%;}#sk-container-id-1 div.sk-parallel-item:only-child::after {width: 0;}#sk-container-id-1 div.sk-dashed-wrapped {border: 1px dashed gray;margin: 0 0.4em 0.5em 0.4em;box-sizing: border-box;padding-bottom: 0.4em;background-color: white;}#sk-container-id-1 div.sk-label label {font-family: monospace;font-weight: bold;display: inline-block;line-height: 1.2em;}#sk-container-id-1 div.sk-label-container {text-align: center;}#sk-container-id-1 div.sk-container {/* jupyter's `normalize.less` sets `[hidden] { display: none; }` but bootstrap.min.css set `[hidden] { display: none !important; }` so we also need the `!important` here to be able to override the default hidden behavior on the sphinx rendered scikit-learn.org. See: https://github.com/scikit-learn/scikit-learn/issues/21755 */display: inline-block !important;position: relative;}#sk-container-id-1 div.sk-text-repr-fallback {display: none;}</style><div id=\"sk-container-id-1\" class=\"sk-top-container\"><div class=\"sk-text-repr-fallback\"><pre>DBSCAN(eps=0.2, min_samples=20)</pre><b>In a Jupyter environment, please rerun this cell to show the HTML representation or trust the notebook. <br />On GitHub, the HTML representation is unable to render, please try loading this page with nbviewer.org.</b></div><div class=\"sk-container\" hidden><div class=\"sk-item\"><div class=\"sk-estimator sk-toggleable\"><input class=\"sk-toggleable__control sk-hidden--visually\" id=\"sk-estimator-id-1\" type=\"checkbox\" checked><label for=\"sk-estimator-id-1\" class=\"sk-toggleable__label sk-toggleable__label-arrow\">DBSCAN</label><div class=\"sk-toggleable__content\"><pre>DBSCAN(eps=0.2, min_samples=20)</pre></div></div></div></div></div>"
      ],
      "text/plain": [
       "DBSCAN(eps=0.2, min_samples=20)"
      ]
     },
     "execution_count": 22,
     "metadata": {},
     "output_type": "execute_result"
    }
   ],
   "source": [
    "dbsacn_acidity = DBSCAN(eps=0.2, min_samples=20).fit(data_para_DBscan)\n",
    "dbsacn_acidity"
   ]
  },
  {
   "cell_type": "code",
   "execution_count": 23,
   "metadata": {},
   "outputs": [
    {
     "name": "stdout",
     "output_type": "stream",
     "text": [
      "Counter({0: 6281, -1: 117, 1: 40, 2: 25})\n",
      "      fixed acidity  volatile acidity\n",
      "1502           14.2             0.270\n",
      "1927            9.9             1.005\n",
      "2130            9.8             0.930\n",
      "2297            4.6             0.445\n",
      "2601            4.5             0.190\n",
      "...             ...               ...\n",
      "6131            6.3             1.020\n",
      "6169            7.6             1.580\n",
      "6182            8.0             1.180\n",
      "6409           11.1             0.440\n",
      "6414           11.2             0.400\n",
      "\n",
      "[117 rows x 2 columns]\n"
     ]
    }
   ],
   "source": [
    "print(Counter(dbsacn_acidity.labels_))\n",
    "anom_acidity = pd.DataFrame(data_para_DBscan)\n",
    "print(anom_acidity[dbsacn_acidity.labels_==-1])"
   ]
  },
  {
   "cell_type": "markdown",
   "metadata": {},
   "source": [
    "Vamos a graficar el resultado de DBSCAN para acidity "
   ]
  },
  {
   "cell_type": "code",
   "execution_count": 24,
   "metadata": {},
   "outputs": [
    {
     "data": {
      "text/plain": [
       "Text(0.5, 1.0, 'DBSCAN aplicado a datos de acidity')"
      ]
     },
     "execution_count": 24,
     "metadata": {},
     "output_type": "execute_result"
    },
    {
     "data": {
      "image/png": "[encoded data removed]",
      "text/plain": [
       "<Figure size 432x288 with 1 Axes>"
      ]
     },
     "metadata": {
      "needs_background": "light"
     },
     "output_type": "display_data"
    }
   ],
   "source": [
    "fig = plt.figure()\n",
    "##Se define X,y Iniciales   ,  X,Y finales\n",
    "ax = fig.add_axes([0.1,0.1,2.3,2])\n",
    "colors = dbsacn_acidity.labels_\n",
    "## Se grafican los valores de la primer y la segunda columna \n",
    "ax.scatter(data_para_DBscan.iloc[:,0].values,data_para_DBscan.iloc[:,1].values, c=colors, s=100)\n",
    "ax.set_xlabel('fixed acidity')\n",
    "ax.set_ylabel('volatile acidity')\n",
    "plt.title('DBSCAN aplicado a datos de acidity')"
   ]
  },
  {
   "cell_type": "markdown",
   "metadata": {},
   "source": []
  },
  {
   "cell_type": "markdown",
   "metadata": {},
   "source": [
    "#### Tema 7 Manifold Learning "
   ]
  },
  {
   "cell_type": "code",
   "execution_count": 25,
   "metadata": {},
   "outputs": [],
   "source": [
    "import matplotlib \n",
    "import scipy \n",
    "from scipy.spatial.distance import pdist, squareform \n",
    "from scipy.linalg import eigh\n",
    "import numpy as np\n",
    "import matplotlib.pyplot as plt"
   ]
  },
  {
   "cell_type": "markdown",
   "metadata": {},
   "source": [
    "Se define la función que aplica el Kernel PCA "
   ]
  },
  {
   "cell_type": "code",
   "execution_count": 26,
   "metadata": {},
   "outputs": [],
   "source": [
    "def rbf_kpca (X, gamma, n_components):\n",
    "    ##1. CREACIÓN DE LA MATRIZ DE DISTANCIA O DE NUCLEOS\n",
    "\n",
    "    ##Se calculan las distancias cuadraticas entre todas las parejas de puntos\n",
    "    ## Obtenemos una lista de distancias\n",
    "    sq_dists = pdist(X,'sqeuclidean') \n",
    "    ## Convertimos la lista a una matriz de distancias\n",
    "    mat_sq_dists = squareform(sq_dists)\n",
    "    ## Vamos a aplicar la exponencial para obtener la lalamda matriz de nueclos K \n",
    "    ## K es entonces la matriz nxn de distancias\n",
    "    K = np.exp(-gamma * mat_sq_dists)\n",
    "\n",
    "\n",
    "    ##2. Centrar la Matriz K de nucleos \n",
    "    N = K.shape[0]\n",
    "    ## Esta es la que se llama 1n \n",
    "    one_n = np.ones((N,N)) /N \n",
    "    ## Ahora si aplicamos como tal el centrado de la matriz K \n",
    "    K = K - one_n.dot(K) - K.dot(one_n) + one_n.dot(K).dot(one_n)\n",
    "\n",
    "\n",
    "    ## 3. Obtenemos los eigenvectores y valores de la matriz centrada\n",
    "    eigenvals, eigenvecs = eigh(K) ## Devuelve los eigenvecs en forma ascendente\n",
    "    ## Se 'invierten los eigenvecs' para obtenerr solos k primeros (que serian los Princpal Components variables)\n",
    "    eigenvals, egenvecs = eigenvals[::-1], eigenvecs[:,::-1]\n",
    "\n",
    "    ##Eigenvectors\n",
    "    alphas = np.column_stack([eigenvecs[:,i] for i in range(n_components)]) \n",
    "\n",
    "    ##Eigenvalues\n",
    "    lamdas = np.column_stack([eigenvals[i] for i in range(n_components)]) \n",
    "    return alphas, lamdas"
   ]
  },
  {
   "cell_type": "markdown",
   "metadata": {},
   "source": [
    "Importamos el conjunto NO LINEALMENTE SEPARABLE DE make_moons"
   ]
  },
  {
   "cell_type": "code",
   "execution_count": 27,
   "metadata": {},
   "outputs": [
    {
     "data": {
      "text/plain": [
       "<matplotlib.collections.PathCollection at 0x27feb408be0>"
      ]
     },
     "execution_count": 27,
     "metadata": {},
     "output_type": "execute_result"
    },
    {
     "data": {
      "image/png": "[encoded data removed]",
      "text/plain": [
       "<Figure size 432x288 with 1 Axes>"
      ]
     },
     "metadata": {
      "needs_background": "light"
     },
     "output_type": "display_data"
    }
   ],
   "source": [
    "## Generador de medias lunas \n",
    "from sklearn.datasets import make_moons\n",
    "X, y = make_moons(n_samples=100, random_state=123)\n",
    "\n",
    "#Todos los x cuyo valor de y seea cero 0 uno y la prieimer y segunda columna de eso \n",
    "plt.scatter(X[y==0,0], X[y==0,1], color='red', marker='^', alpha =0.5)\n",
    "\n",
    "plt.scatter(X[y==1,0], X[y==1,1], color='blue', marker='o', alpha =0.5)"
   ]
  },
  {
   "cell_type": "markdown",
   "metadata": {},
   "source": [
    "##### Vamos a aplicar el 'PCA NORMAL' al conjunto make_moons"
   ]
  },
  {
   "cell_type": "code",
   "execution_count": 28,
   "metadata": {},
   "outputs": [
    {
     "data": {
      "text/plain": [
       "array([[-0.2795509 ,  0.34303617],\n",
       "       [-0.42251533, -0.6083743 ],\n",
       "       [-1.11143524, -0.31056455],\n",
       "       [ 0.91009606,  0.4682757 ],\n",
       "       [ 0.01356142, -0.5194961 ],\n",
       "       [-0.55258909, -0.08452989],\n",
       "       [-0.40741947,  0.19974865],\n",
       "       [ 0.55258909,  0.08452989],\n",
       "       [-1.0649998 , -0.3547569 ],\n",
       "       [-0.44363426,  0.14685533],\n",
       "       [ 0.61319152,  0.58547722],\n",
       "       [-0.106304  , -0.5647979 ],\n",
       "       [-0.79597451, -0.52655299],\n",
       "       [ 0.1800669 , -0.42380069],\n",
       "       [ 0.67533755,  0.56975829],\n",
       "       [ 1.38981501, -0.25483572],\n",
       "       [-0.8539697 , -0.49924418],\n",
       "       [ 1.32278775, -0.00802077],\n",
       "       [ 0.36789019, -0.250213  ],\n",
       "       [-0.73634878, -0.55008994],\n",
       "       [ 1.23247827,  0.16146635],\n",
       "       [-1.32278775,  0.00802077],\n",
       "       [ 0.35841461,  0.60781552],\n",
       "       [ 0.96412295,  0.43377483],\n",
       "       [ 1.0649998 ,  0.3547569 ],\n",
       "       [-1.37903292,  0.19164584],\n",
       "       [-1.23247827, -0.16146635],\n",
       "       [-0.23110388,  0.38501356],\n",
       "       [ 0.47638576, -0.0917504 ],\n",
       "       [ 1.37903292, -0.19164584],\n",
       "       [ 0.48652015,  0.60482498],\n",
       "       [-1.3642244 ,  0.1292766 ],\n",
       "       [ 1.15494387,  0.26348786],\n",
       "       [-0.35841461, -0.60781552],\n",
       "       [-1.19534688, -0.21372029],\n",
       "       [-1.29632989, -0.05036755],\n",
       "       [-1.39764333,  0.44672216],\n",
       "       [-1.38236553,  0.57394857],\n",
       "       [ 0.07107173, -0.4911804 ],\n",
       "       [-0.07107173,  0.4911804 ],\n",
       "       [ 0.42251533,  0.6083743 ],\n",
       "       [-1.34545029,  0.06798429],\n",
       "       [ 1.29632989,  0.05036755],\n",
       "       [ 0.23110388, -0.38501356],\n",
       "       [-0.53097533, -0.02418041],\n",
       "       [-0.67533755, -0.56975829],\n",
       "       [-0.12664968,  0.45923818],\n",
       "       [-0.96412295, -0.43377483],\n",
       "       [ 0.04564492,  0.54406893],\n",
       "       [ 0.44363426, -0.14685533],\n",
       "       [ 0.16816656,  0.58159785],\n",
       "       [ 0.79597451,  0.52655299],\n",
       "       [ 0.53097533,  0.02418041],\n",
       "       [ 1.39764333, -0.44672216],\n",
       "       [-0.36789019,  0.250213  ],\n",
       "       [-1.36864655,  0.63656649],\n",
       "       [ 1.01582835,  0.39588333],\n",
       "       [ 1.39913937, -0.38263646],\n",
       "       [-0.55016605, -0.59718215],\n",
       "       [ 1.39652635, -0.31858658],\n",
       "       [ 0.106304  ,  0.5647979 ],\n",
       "       [-1.39913937,  0.38263646],\n",
       "       [ 0.29448139,  0.60315094],\n",
       "       [-0.01356142,  0.5194961 ],\n",
       "       [ 0.55016605,  0.59718215],\n",
       "       [-0.1800669 ,  0.42380069],\n",
       "       [ 0.2795509 , -0.34303617],\n",
       "       [-0.48652015, -0.60482498],\n",
       "       [-0.04564492, -0.54406893],\n",
       "       [-0.47638576,  0.0917504 ],\n",
       "       [ 1.3642244 , -0.1292766 ],\n",
       "       [ 1.19534688,  0.21372029],\n",
       "       [ 0.8539697 ,  0.49924418],\n",
       "       [ 0.50553939, -0.03466029],\n",
       "       [-0.32520887,  0.29804102],\n",
       "       [ 1.36864655, -0.63656649],\n",
       "       [ 0.12664968, -0.45923818],\n",
       "       [-1.39652635,  0.31858658],\n",
       "       [-1.35094381,  0.69817678],\n",
       "       [ 1.34545029, -0.06798429],\n",
       "       [-0.50553939,  0.03466029],\n",
       "       [-0.23097839, -0.59439973],\n",
       "       [ 0.40741947, -0.19974865],\n",
       "       [ 1.35094381, -0.69817678],\n",
       "       [-0.29448139, -0.60315094],\n",
       "       [-1.01582835, -0.39588333],\n",
       "       [ 1.26618544,  0.10694075],\n",
       "       [-0.91009606, -0.4682757 ],\n",
       "       [-1.39204439,  0.51058033],\n",
       "       [ 0.73634878,  0.55008994],\n",
       "       [ 1.39204439, -0.51058033],\n",
       "       [ 1.11143524,  0.31056455],\n",
       "       [-0.61319152, -0.58547722],\n",
       "       [ 1.38236553, -0.57394857],\n",
       "       [-1.26618544, -0.10694075],\n",
       "       [ 0.32520887, -0.29804102],\n",
       "       [-1.15494387, -0.26348786],\n",
       "       [ 0.23097839,  0.59439973],\n",
       "       [-1.38981501,  0.25483572],\n",
       "       [-0.16816656, -0.58159785]])"
      ]
     },
     "execution_count": 28,
     "metadata": {},
     "output_type": "execute_result"
    }
   ],
   "source": [
    "from sklearn.decomposition import PCA\n",
    "pca = PCA(n_components=2)\n",
    "X_pca_normal = pca.fit_transform(X)\n",
    "X_pca_normal"
   ]
  },
  {
   "cell_type": "markdown",
   "metadata": {},
   "source": [
    "Se muestra como el PCA NO ES LINEALMENTE SEPARABLE "
   ]
  },
  {
   "cell_type": "code",
   "execution_count": 29,
   "metadata": {},
   "outputs": [
    {
     "data": {
      "image/png": "[encoded data removed]",
      "text/plain": [
       "<Figure size 720x288 with 2 Axes>"
      ]
     },
     "metadata": {
      "needs_background": "light"
     },
     "output_type": "display_data"
    }
   ],
   "source": [
    "fig,ax = plt.subplots(nrows=1, ncols=2, figsize=(10,4))\n",
    "ax[0].scatter(X_pca_normal[y==0,0], X_pca_normal[y==0,1], color='red', marker='^', alpha=0.5)\n",
    "ax[0].scatter(X_pca_normal[y==1,0], X_pca_normal[y==1,1], color='blue', marker='o', alpha =0.5)\n",
    "ax[1].scatter(X_pca_normal[y==0,0], np.zeros((50,1)) +0.02, color='red', marker='^', alpha=0.5)\n",
    "ax[1].scatter(X_pca_normal[y==1,0], np.zeros((50,1)) +0.02, color='blue', marker='o', alpha=0.5)\n",
    "ax[1].set_ylim([-1,1])\n",
    "ax[0].set_xlabel('PC1')\n",
    "ax[0].set_ylabel('PC2')\n",
    "ax[1].set_xlabel('PC1')\n",
    "plt.show()"
   ]
  },
  {
   "cell_type": "markdown",
   "metadata": {},
   "source": [
    "Ahora si vamos a aplicar el Kernel PCA que habiamos cosntruido anteriormente"
   ]
  },
  {
   "cell_type": "code",
   "execution_count": 30,
   "metadata": {},
   "outputs": [
    {
     "data": {
      "text/plain": [
       "array([[-9.99164520e-02,  2.37866748e-03],\n",
       "       [-1.00506911e-01,  2.24770790e-01],\n",
       "       [-1.00562363e-01,  1.78220395e-01],\n",
       "       [-9.96176109e-02,  2.42105705e-02],\n",
       "       [-9.98162928e-02, -1.03275159e-01],\n",
       "       [-9.99994521e-02, -2.38910659e-04],\n",
       "       [-1.00018829e-01, -7.95025543e-04],\n",
       "       [-9.99995057e-02, -2.30170492e-04],\n",
       "       [-9.93908296e-02, -1.95771704e-01],\n",
       "       [-9.99899592e-02,  2.67536165e-05],\n",
       "       [-1.00435334e-01, -2.60300032e-02],\n",
       "       [-9.97316426e-02, -1.42165492e-01],\n",
       "       [-1.00693071e-01,  2.49504310e-01],\n",
       "       [-1.00084348e-01,  5.08129143e-02],\n",
       "       [-9.95684292e-02,  2.58774053e-02],\n",
       "       [-9.99765741e-02,  1.48266928e-03],\n",
       "       [-9.93023485e-02, -2.44167271e-01],\n",
       "       [-9.99005574e-02,  6.68392830e-03],\n",
       "       [-1.00015494e-01,  9.82548522e-03],\n",
       "       [-9.93190746e-02, -2.52965545e-01],\n",
       "       [-1.00188071e-01, -1.29402988e-02],\n",
       "       [-1.00211903e-01,  6.59185844e-02],\n",
       "       [-1.00421283e-01, -2.19607818e-02],\n",
       "       [-1.00361210e-01, -2.35687388e-02],\n",
       "       [-1.00311672e-01, -2.06205686e-02],\n",
       "       [-9.99189645e-02, -2.56724412e-02],\n",
       "       [-9.96085498e-02, -1.21701478e-01],\n",
       "       [-1.00115127e-01, -4.02378583e-03],\n",
       "       [-9.99977961e-02, -1.31207998e-03],\n",
       "       [-1.00035566e-01, -2.89930795e-03],\n",
       "       [-1.00435539e-01, -2.45124906e-02],\n",
       "       [-1.00116571e-01,  3.65463131e-02],\n",
       "       [-1.00252222e-01, -1.69600333e-02],\n",
       "       [-9.95394285e-02, -2.11975243e-01],\n",
       "       [-1.00451473e-01,  1.40716562e-01],\n",
       "       [-9.97305256e-02, -8.37863250e-02],\n",
       "       [-9.99915152e-02, -2.80732458e-03],\n",
       "       [-9.99984530e-02, -5.76006325e-04],\n",
       "       [-1.00145672e-01,  8.41145479e-02],\n",
       "       [-9.97682754e-02,  8.34283170e-03],\n",
       "       [-9.95685687e-02,  2.28744501e-02],\n",
       "       [-9.98381635e-02, -5.06863054e-02],\n",
       "       [-1.00126225e-01, -8.98236608e-03],\n",
       "       [-9.99384978e-02, -3.75200840e-02],\n",
       "       [-9.99997977e-02, -2.48006475e-04],\n",
       "       [-1.00658035e-01,  2.52571459e-01],\n",
       "       [-1.00190920e-01, -7.03772475e-03],\n",
       "       [-9.93261669e-02, -2.24557052e-01],\n",
       "       [-9.96933354e-02,  1.22393159e-02],\n",
       "       [-1.00003650e-01,  2.39197713e-03],\n",
       "       [-9.96327470e-02,  1.62216126e-02],\n",
       "       [-9.95868832e-02,  2.56326679e-02],\n",
       "       [-9.99993637e-02, -3.19684966e-04],\n",
       "       [-1.00002836e-01, -5.06905002e-04],\n",
       "       [-9.99649527e-02,  7.80158360e-04],\n",
       "       [-9.99997262e-02, -1.63240766e-04],\n",
       "       [-9.96610774e-02,  2.17224900e-02],\n",
       "       [-9.99923496e-02,  3.18845306e-04],\n",
       "       [-1.00592689e-01,  2.44102796e-01],\n",
       "       [-1.00012931e-01, -1.27065269e-03],\n",
       "       [-1.00338166e-01, -1.47259127e-02],\n",
       "       [-1.00016214e-01,  5.12185844e-03],\n",
       "       [-9.95912386e-02,  1.98827576e-02],\n",
       "       [-1.00269441e-01, -1.07336013e-02],\n",
       "       [-9.95619112e-02,  2.49309185e-02],\n",
       "       [-9.98471792e-02,  4.94563236e-03],\n",
       "       [-1.00041199e-01,  2.55753245e-02],\n",
       "       [-9.94472701e-02, -2.36196214e-01],\n",
       "       [-1.00223424e-01,  1.22161680e-01],\n",
       "       [-1.00003464e-01, -3.48562811e-04],\n",
       "       [-9.99463037e-02,  3.60868266e-03],\n",
       "       [-9.97786599e-02,  1.44900687e-02],\n",
       "       [-1.00398316e-01, -2.55439526e-02],\n",
       "       [-1.00000040e-01,  1.07693117e-04],\n",
       "       [-1.00055265e-01, -1.93963775e-03],\n",
       "       [-9.99993962e-02, -2.32024331e-04],\n",
       "       [-9.98861851e-02, -6.71116252e-02],\n",
       "       [-9.99685413e-02, -1.01159614e-02],\n",
       "       [-9.99994617e-02, -2.49176049e-04],\n",
       "       [-1.00073727e-01, -5.51905408e-03],\n",
       "       [-9.99981750e-02, -2.04649125e-04],\n",
       "       [-9.96370803e-02, -1.79642719e-01],\n",
       "       [-9.99908141e-02, -5.71881165e-03],\n",
       "       [-9.99995014e-02, -2.40847561e-04],\n",
       "       [-1.00410840e-01,  1.96177949e-01],\n",
       "       [-1.00645333e-01,  2.10693183e-01],\n",
       "       [-9.98425837e-02,  1.04461002e-02],\n",
       "       [-1.00689967e-01,  2.35153189e-01],\n",
       "       [-1.00002715e-01,  8.01927814e-04],\n",
       "       [-1.00422812e-01, -2.63851352e-02],\n",
       "       [-9.99981614e-02, -1.31854591e-04],\n",
       "       [-9.97160625e-02,  1.83794668e-02],\n",
       "       [-9.93704239e-02, -2.50238603e-01],\n",
       "       [-9.99999101e-02, -2.74627979e-04],\n",
       "       [-1.00328667e-01,  1.01910198e-01],\n",
       "       [-9.99726563e-02, -1.70054255e-02],\n",
       "       [-9.94894766e-02, -1.60358846e-01],\n",
       "       [-1.00389450e-01, -1.85956618e-02],\n",
       "       [-1.00051416e-01,  1.62464035e-02],\n",
       "       [-1.00313761e-01,  1.60849330e-01]])"
      ]
     },
     "execution_count": 30,
     "metadata": {},
     "output_type": "execute_result"
    }
   ],
   "source": [
    "## La X_pca_K almacena las alfas, y la l las lamdas \n",
    "X_pca_K,l = rbf_kpca(X, gamma=15, n_components=2)\n",
    "X_pca_K"
   ]
  },
  {
   "cell_type": "markdown",
   "metadata": {},
   "source": [
    "Se grafica el resultado de X_pca_K"
   ]
  },
  {
   "cell_type": "code",
   "execution_count": 31,
   "metadata": {},
   "outputs": [
    {
     "data": {
      "image/png": "[encoded data removed]",
      "text/plain": [
       "<Figure size 720x288 with 2 Axes>"
      ]
     },
     "metadata": {
      "needs_background": "light"
     },
     "output_type": "display_data"
    }
   ],
   "source": [
    "fig,ax = plt.subplots(nrows=1, ncols=2, figsize=(10,4))\n",
    "ax[0].scatter(X_pca_K[y==0,0], X_pca_K[y==0,1], color='red', marker='^', alpha=0.5)\n",
    "ax[0].scatter(X_pca_K[y==1,0], X_pca_K[y==1,1], color='blue', marker='o', alpha =0.5)\n",
    "ax[1].scatter(X_pca_K[y==0,0], np.zeros((50,1)) +0.02, color='red', marker='^', alpha=0.5)\n",
    "ax[1].scatter(X_pca_K[y==1,0], np.zeros((50,1)) -0.02, color='blue', marker='o', alpha=0.5)\n",
    "ax[1].set_ylim([-1,1])\n",
    "ax[0].set_xlabel('PC1')\n",
    "ax[0].set_ylabel('PC2')\n",
    "ax[1].set_xlabel('PC1')\n",
    "plt.show()"
   ]
  },
  {
   "cell_type": "markdown",
   "metadata": {},
   "source": [
    "Vamos a variar el valor de gamma "
   ]
  },
  {
   "cell_type": "code",
   "execution_count": null,
   "metadata": {},
   "outputs": [],
   "source": [
    "X_pca_K,l = rbf_kpca(X, gamma=10, n_components=2)\n",
    "fig,ax = plt.subplots(nrows=1, ncols=2, figsize=(10,4))\n",
    "ax[0].scatter(X_pca_K[y==0,0], X_pca_K[y==0,1], color='red', marker='^', alpha=0.5)\n",
    "ax[0].scatter(X_pca_K[y==1,0], X_pca_K[y==1,1], color='blue', marker='o', alpha =0.5)\n",
    "ax[1].scatter(X_pca_K[y==0,0], np.zeros((50,1)) +0.02, color='red', marker='^', alpha=0.5)\n",
    "ax[1].scatter(X_pca_K[y==1,0], np.zeros((50,1)) +0.02, color='blue', marker='o', alpha=0.5)\n",
    "ax[1].set_ylim([-1,1])\n",
    "ax[0].set_xlabel('PC1')\n",
    "ax[0].set_ylabel('PC2')\n",
    "ax[1].set_xlabel('PC1')\n",
    "plt.show()"
   ]
  },
  {
   "cell_type": "markdown",
   "metadata": {},
   "source": [
    "#### Ejemplo de implementacion de Manifold con linrerias de sk.learn "
   ]
  },
  {
   "cell_type": "markdown",
   "metadata": {},
   "source": [
    "Importamos los datos "
   ]
  },
  {
   "cell_type": "code",
   "execution_count": 32,
   "metadata": {},
   "outputs": [],
   "source": [
    "from sklearn.datasets import make_moons\n",
    "X,y = make_moons(n_samples=100, random_state=123)"
   ]
  },
  {
   "cell_type": "markdown",
   "metadata": {},
   "source": [
    "Creamos y entrenamos el modelo PCA Manifold de sklearn"
   ]
  },
  {
   "cell_type": "code",
   "execution_count": 33,
   "metadata": {},
   "outputs": [
    {
     "data": {
      "text/plain": [
       "array([[-0.19813012, -0.32893502],\n",
       "       [ 0.35038479, -0.18363537],\n",
       "       [ 0.33278344,  0.27303406],\n",
       "       [-0.35861834,  0.13787481],\n",
       "       [ 0.27947114, -0.34646117],\n",
       "       [-0.03231269, -0.09992664],\n",
       "       [-0.1402958 , -0.26393352],\n",
       "       [ 0.03231269, -0.09992664],\n",
       "       [ 0.34107928,  0.24384492],\n",
       "       [-0.11997571, -0.23460267],\n",
       "       [-0.36284598, -0.06785758],\n",
       "       [ 0.30536789, -0.32022674],\n",
       "       [ 0.36407185,  0.05708143],\n",
       "       [ 0.23323782, -0.35027498],\n",
       "       [-0.36450698, -0.02649036],\n",
       "       [-0.19110122,  0.31758295],\n",
       "       [ 0.3619725 ,  0.09811911],\n",
       "       [-0.25930323,  0.35789694],\n",
       "       [ 0.16016551, -0.28967584],\n",
       "       [ 0.36491625,  0.01534889],\n",
       "       [-0.30089306,  0.33640228],\n",
       "       [ 0.25930323,  0.35789694],\n",
       "       [-0.34376065, -0.21775298],\n",
       "       [-0.35401236,  0.17577444],\n",
       "       [-0.34107928,  0.24384492],\n",
       "       [ 0.20934501,  0.33483988],\n",
       "       [ 0.30089306,  0.33640228],\n",
       "       [-0.21607303, -0.34193845],\n",
       "       [ 0.09932993, -0.20228953],\n",
       "       [-0.20934501,  0.33483988],\n",
       "       [-0.35577988, -0.14695458],\n",
       "       [ 0.22683311,  0.34741261],\n",
       "       [-0.3232991 ,  0.29841965],\n",
       "       [ 0.34376065, -0.21775298],\n",
       "       [ 0.31265694,  0.31964198],\n",
       "       [ 0.27416866,  0.35566406],\n",
       "       [ 0.13245717,  0.2402938 ],\n",
       "       [ 0.09146283,  0.17247526],\n",
       "       [ 0.2649936 , -0.35255318],\n",
       "       [-0.2649936 , -0.35255318],\n",
       "       [-0.35038479, -0.18363537],\n",
       "       [ 0.2435057 ,  0.35513358],\n",
       "       [-0.27416866,  0.35566406],\n",
       "       [ 0.21607303, -0.34193845],\n",
       "       [-0.05656415, -0.13318112],\n",
       "       [ 0.36450698, -0.02649036],\n",
       "       [-0.24956408, -0.35382994],\n",
       "       [ 0.35401236,  0.17577444],\n",
       "       [-0.29294509, -0.33563662],\n",
       "       [ 0.11997571, -0.23460267],\n",
       "       [-0.31669638, -0.30044048],\n",
       "       [-0.36407185,  0.05708143],\n",
       "       [ 0.05656415, -0.13318112],\n",
       "       [-0.13245717,  0.2402938 ],\n",
       "       [-0.16016551, -0.28967584],\n",
       "       [ 0.07156393,  0.13691659],\n",
       "       [-0.3481618 ,  0.2112689 ],\n",
       "       [-0.1525819 ,  0.26997043],\n",
       "       [ 0.3599357 , -0.10819164],\n",
       "       [-0.17215982,  0.29586483],\n",
       "       [-0.30536789, -0.32022674],\n",
       "       [ 0.1525819 ,  0.26997043],\n",
       "       [-0.33592278, -0.24885957],\n",
       "       [-0.27947114, -0.34646117],\n",
       "       [-0.3599357 , -0.10819164],\n",
       "       [-0.23323782, -0.35027498],\n",
       "       [ 0.19813012, -0.32893502],\n",
       "       [ 0.35577988, -0.14695458],\n",
       "       [ 0.29294509, -0.33563662],\n",
       "       [-0.09932993, -0.20228953],\n",
       "       [-0.22683311,  0.34741261],\n",
       "       [-0.31265694,  0.31964198],\n",
       "       [-0.3619725 ,  0.09811911],\n",
       "       [ 0.07835894, -0.16798017],\n",
       "       [-0.17947161, -0.31143848],\n",
       "       [-0.07156393,  0.13691659],\n",
       "       [ 0.24956408, -0.35382994],\n",
       "       [ 0.17215982,  0.29586483],\n",
       "       [ 0.05311441,  0.10282916],\n",
       "       [-0.2435057 ,  0.35513358],\n",
       "       [-0.07835894, -0.16798017],\n",
       "       [ 0.32689231, -0.27654473],\n",
       "       [ 0.1402958 , -0.26393352],\n",
       "       [-0.05311441,  0.10282916],\n",
       "       [ 0.33592278, -0.24885957],\n",
       "       [ 0.3481618 ,  0.2112689 ],\n",
       "       [-0.28804847,  0.34846578],\n",
       "       [ 0.35861834,  0.13787481],\n",
       "       [ 0.11196462,  0.207455  ],\n",
       "       [-0.36491625,  0.01534889],\n",
       "       [-0.11196462,  0.207455  ],\n",
       "       [-0.33278344,  0.27303406],\n",
       "       [ 0.36284598, -0.06785758],\n",
       "       [-0.09146283,  0.17247526],\n",
       "       [ 0.28804847,  0.34846578],\n",
       "       [ 0.17947161, -0.31143848],\n",
       "       [ 0.3232991 ,  0.29841965],\n",
       "       [-0.32689231, -0.27654473],\n",
       "       [ 0.19110122,  0.31758295],\n",
       "       [ 0.31669638, -0.30044048]])"
      ]
     },
     "execution_count": 33,
     "metadata": {},
     "output_type": "execute_result"
    }
   ],
   "source": [
    "## Con PCA Manifold de sklearn \n",
    "\n",
    "from sklearn.decomposition import KernelPCA\n",
    "kpca = KernelPCA(n_components=2, kernel='rbf', gamma=15)\n",
    "X_kpca = kpca.fit_transform(X) \n",
    "X_kpca"
   ]
  },
  {
   "cell_type": "markdown",
   "metadata": {},
   "source": [
    "Graficamos el reusltado del PCA Kernel del sklearn"
   ]
  },
  {
   "cell_type": "code",
   "execution_count": 34,
   "metadata": {},
   "outputs": [
    {
     "data": {
      "image/png": "[encoded data removed]",
      "text/plain": [
       "<Figure size 720x288 with 2 Axes>"
      ]
     },
     "metadata": {
      "needs_background": "light"
     },
     "output_type": "display_data"
    }
   ],
   "source": [
    "fig,ax = plt.subplots(nrows=1, ncols=2, figsize=(10,4))\n",
    "ax[0].scatter(X_kpca[y==0,0], X_kpca[y==0,1], color='red', marker='^', alpha=0.5)\n",
    "ax[0].scatter(X_kpca[y==1,0], X_kpca[y==1,1], color='blue', marker='o', alpha =0.5)\n",
    "ax[1].scatter(X_kpca[y==0,0], np.zeros((50,1)) +0.02, color='red', marker='^', alpha=0.5)\n",
    "ax[1].scatter(X_kpca[y==1,0], np.zeros((50,1)) +0.02, color='blue', marker='o', alpha=0.5)\n",
    "ax[1].set_ylim([-1,1])\n",
    "ax[0].set_xlabel('PC1')\n",
    "ax[0].set_ylabel('PC2')\n",
    "ax[1].set_xlabel('PC1')\n",
    "plt.show()"
   ]
  }
 ],
 "metadata": {
  "kernelspec": {
   "display_name": "Python 3",
   "language": "python",
   "name": "python3"
  },
  "language_info": {
   "codemirror_mode": {
    "name": "ipython",
    "version": 3
   },
   "file_extension": ".py",
   "mimetype": "text/x-python",
   "name": "python",
   "nbconvert_exporter": "python",
   "pygments_lexer": "ipython3",
   "version": "3.10.5"
  },
  "orig_nbformat": 4
 },
 "nbformat": 4,
 "nbformat_minor": 2
}
