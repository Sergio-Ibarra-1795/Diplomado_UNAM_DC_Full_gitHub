{
 "cells": [
  {
   "attachments": {},
   "cell_type": "markdown",
   "metadata": {},
   "source": [
    "#### <font color=\"#03997A\"> Diplomado en Ciencia de datos UNAM </font>\n",
    "\n",
    "##### <font color=\"#03997A\"> Dr: Eduardo Espinosa A. </font>\n",
    "\n",
    "##### <font color=\"#03997A\"> Modulo 7 Aprendizaje de Maquina NO supervisado </font>\n",
    "\n",
    "##### <font color=\"#03997A\"> Practica 1 </font>\n",
    "\n",
    "##### <font color=\"#03997A\"> Temas 4 y 5: Agrupamiento / Clustering con el método Reglas de Asociación y PCA \n",
    "##### Alumno: Ibarra Ramírez Sergio </font>"
   ]
  },
  {
   "attachments": {},
   "cell_type": "markdown",
   "metadata": {},
   "source": [
    "#### Reglas de asociación:  Utilizando el conjunto de datos Online Retail:\n",
    "https://archive.ics.uci.edu/ml/datasets/online+retail\n",
    "Obtener el conjunto de artículos frecuentes así como reglas de asociación que se puedan extraer del\n",
    "mismo"
   ]
  },
  {
   "cell_type": "code",
   "execution_count": 1,
   "metadata": {},
   "outputs": [
    {
     "data": {
      "text/html": [
       "<div>\n",
       "<style scoped>\n",
       "    .dataframe tbody tr th:only-of-type {\n",
       "        vertical-align: middle;\n",
       "    }\n",
       "\n",
       "    .dataframe tbody tr th {\n",
       "        vertical-align: top;\n",
       "    }\n",
       "\n",
       "    .dataframe thead th {\n",
       "        text-align: right;\n",
       "    }\n",
       "</style>\n",
       "<table border=\"1\" class=\"dataframe\">\n",
       "  <thead>\n",
       "    <tr style=\"text-align: right;\">\n",
       "      <th></th>\n",
       "      <th>InvoiceNo</th>\n",
       "      <th>StockCode</th>\n",
       "      <th>Description</th>\n",
       "      <th>Quantity</th>\n",
       "      <th>InvoiceDate</th>\n",
       "      <th>UnitPrice</th>\n",
       "      <th>CustomerID</th>\n",
       "      <th>Country</th>\n",
       "    </tr>\n",
       "  </thead>\n",
       "  <tbody>\n",
       "    <tr>\n",
       "      <th>0</th>\n",
       "      <td>536365</td>\n",
       "      <td>85123A</td>\n",
       "      <td>WHITE HANGING HEART T-LIGHT HOLDER</td>\n",
       "      <td>6</td>\n",
       "      <td>2010-12-01 08:26:00</td>\n",
       "      <td>2.55</td>\n",
       "      <td>17850.0</td>\n",
       "      <td>United Kingdom</td>\n",
       "    </tr>\n",
       "    <tr>\n",
       "      <th>1</th>\n",
       "      <td>536365</td>\n",
       "      <td>71053</td>\n",
       "      <td>WHITE METAL LANTERN</td>\n",
       "      <td>6</td>\n",
       "      <td>2010-12-01 08:26:00</td>\n",
       "      <td>3.39</td>\n",
       "      <td>17850.0</td>\n",
       "      <td>United Kingdom</td>\n",
       "    </tr>\n",
       "    <tr>\n",
       "      <th>2</th>\n",
       "      <td>536365</td>\n",
       "      <td>84406B</td>\n",
       "      <td>CREAM CUPID HEARTS COAT HANGER</td>\n",
       "      <td>8</td>\n",
       "      <td>2010-12-01 08:26:00</td>\n",
       "      <td>2.75</td>\n",
       "      <td>17850.0</td>\n",
       "      <td>United Kingdom</td>\n",
       "    </tr>\n",
       "    <tr>\n",
       "      <th>3</th>\n",
       "      <td>536365</td>\n",
       "      <td>84029G</td>\n",
       "      <td>KNITTED UNION FLAG HOT WATER BOTTLE</td>\n",
       "      <td>6</td>\n",
       "      <td>2010-12-01 08:26:00</td>\n",
       "      <td>3.39</td>\n",
       "      <td>17850.0</td>\n",
       "      <td>United Kingdom</td>\n",
       "    </tr>\n",
       "    <tr>\n",
       "      <th>4</th>\n",
       "      <td>536365</td>\n",
       "      <td>84029E</td>\n",
       "      <td>RED WOOLLY HOTTIE WHITE HEART.</td>\n",
       "      <td>6</td>\n",
       "      <td>2010-12-01 08:26:00</td>\n",
       "      <td>3.39</td>\n",
       "      <td>17850.0</td>\n",
       "      <td>United Kingdom</td>\n",
       "    </tr>\n",
       "  </tbody>\n",
       "</table>\n",
       "</div>"
      ],
      "text/plain": [
       "  InvoiceNo StockCode                          Description  Quantity  \\\n",
       "0    536365    85123A   WHITE HANGING HEART T-LIGHT HOLDER         6   \n",
       "1    536365     71053                  WHITE METAL LANTERN         6   \n",
       "2    536365    84406B       CREAM CUPID HEARTS COAT HANGER         8   \n",
       "3    536365    84029G  KNITTED UNION FLAG HOT WATER BOTTLE         6   \n",
       "4    536365    84029E       RED WOOLLY HOTTIE WHITE HEART.         6   \n",
       "\n",
       "          InvoiceDate  UnitPrice  CustomerID         Country  \n",
       "0 2010-12-01 08:26:00       2.55     17850.0  United Kingdom  \n",
       "1 2010-12-01 08:26:00       3.39     17850.0  United Kingdom  \n",
       "2 2010-12-01 08:26:00       2.75     17850.0  United Kingdom  \n",
       "3 2010-12-01 08:26:00       3.39     17850.0  United Kingdom  \n",
       "4 2010-12-01 08:26:00       3.39     17850.0  United Kingdom  "
      ]
     },
     "execution_count": 1,
     "metadata": {},
     "output_type": "execute_result"
    }
   ],
   "source": [
    "import pandas as pd\n",
    "\n",
    "retail = pd.read_excel('Online Retail.xlsx')\n",
    "retail.head(5)"
   ]
  },
  {
   "attachments": {},
   "cell_type": "markdown",
   "metadata": {},
   "source": [
    "Vamos a 'limpiar' un poco la data de retail "
   ]
  },
  {
   "cell_type": "code",
   "execution_count": 2,
   "metadata": {},
   "outputs": [
    {
     "name": "stdout",
     "output_type": "stream",
     "text": [
      "<class 'pandas.core.frame.DataFrame'>\n",
      "Int64Index: 406829 entries, 0 to 541908\n",
      "Data columns (total 10 columns):\n",
      " #   Column       Non-Null Count   Dtype         \n",
      "---  ------       --------------   -----         \n",
      " 0   InvoiceNo    397924 non-null  float64       \n",
      " 1   StockCode    406829 non-null  object        \n",
      " 2   Description  406829 non-null  category      \n",
      " 3   Quantity     406829 non-null  int64         \n",
      " 4   InvoiceDate  406829 non-null  datetime64[ns]\n",
      " 5   UnitPrice    406829 non-null  float64       \n",
      " 6   CustomerID   406829 non-null  float64       \n",
      " 7   Country      406829 non-null  category      \n",
      " 8   Date         406829 non-null  datetime64[ns]\n",
      " 9   Time         406829 non-null  object        \n",
      "dtypes: category(2), datetime64[ns](2), float64(3), int64(1), object(2)\n",
      "memory usage: 29.3+ MB\n",
      "None\n"
     ]
    }
   ],
   "source": [
    "# Drop rows with missing values\n",
    "retail = retail.dropna()\n",
    "\n",
    "# Convert the 'Description' column to a factor (categorical) variable\n",
    "retail['Description'] = retail['Description'].astype('category')\n",
    "\n",
    "# Convert the 'Country' column to a factor (categorical) variable\n",
    "retail['Country'] = retail['Country'].astype('category')\n",
    "\n",
    "# Convert the 'InvoiceDate' column to a date format\n",
    "retail['Date'] = pd.to_datetime(retail['InvoiceDate'])\n",
    "\n",
    "# Extract the time from the 'InvoiceDate' column\n",
    "retail['Time'] = retail['InvoiceDate'].dt.strftime('%H:%M:%S')\n",
    "\n",
    "# Convert the 'InvoiceNo' column to numeric\n",
    "retail['InvoiceNo'] = pd.to_numeric(retail['InvoiceNo'], errors='coerce')\n",
    "\n",
    "# Display the summary of the DataFrame\n",
    "print(retail.info())"
   ]
  },
  {
   "cell_type": "code",
   "execution_count": 3,
   "metadata": {},
   "outputs": [
    {
     "data": {
      "text/html": [
       "<div>\n",
       "<style scoped>\n",
       "    .dataframe tbody tr th:only-of-type {\n",
       "        vertical-align: middle;\n",
       "    }\n",
       "\n",
       "    .dataframe tbody tr th {\n",
       "        vertical-align: top;\n",
       "    }\n",
       "\n",
       "    .dataframe thead th {\n",
       "        text-align: right;\n",
       "    }\n",
       "</style>\n",
       "<table border=\"1\" class=\"dataframe\">\n",
       "  <thead>\n",
       "    <tr style=\"text-align: right;\">\n",
       "      <th></th>\n",
       "      <th>InvoiceNo</th>\n",
       "      <th>StockCode</th>\n",
       "      <th>Description</th>\n",
       "      <th>Quantity</th>\n",
       "      <th>InvoiceDate</th>\n",
       "      <th>UnitPrice</th>\n",
       "      <th>CustomerID</th>\n",
       "      <th>Country</th>\n",
       "      <th>Date</th>\n",
       "      <th>Time</th>\n",
       "    </tr>\n",
       "  </thead>\n",
       "  <tbody>\n",
       "    <tr>\n",
       "      <th>0</th>\n",
       "      <td>536365.0</td>\n",
       "      <td>85123A</td>\n",
       "      <td>WHITE HANGING HEART T-LIGHT HOLDER</td>\n",
       "      <td>6</td>\n",
       "      <td>2010-12-01 08:26:00</td>\n",
       "      <td>2.55</td>\n",
       "      <td>17850.0</td>\n",
       "      <td>United Kingdom</td>\n",
       "      <td>2010-12-01 08:26:00</td>\n",
       "      <td>08:26:00</td>\n",
       "    </tr>\n",
       "    <tr>\n",
       "      <th>1</th>\n",
       "      <td>536365.0</td>\n",
       "      <td>71053</td>\n",
       "      <td>WHITE METAL LANTERN</td>\n",
       "      <td>6</td>\n",
       "      <td>2010-12-01 08:26:00</td>\n",
       "      <td>3.39</td>\n",
       "      <td>17850.0</td>\n",
       "      <td>United Kingdom</td>\n",
       "      <td>2010-12-01 08:26:00</td>\n",
       "      <td>08:26:00</td>\n",
       "    </tr>\n",
       "    <tr>\n",
       "      <th>2</th>\n",
       "      <td>536365.0</td>\n",
       "      <td>84406B</td>\n",
       "      <td>CREAM CUPID HEARTS COAT HANGER</td>\n",
       "      <td>8</td>\n",
       "      <td>2010-12-01 08:26:00</td>\n",
       "      <td>2.75</td>\n",
       "      <td>17850.0</td>\n",
       "      <td>United Kingdom</td>\n",
       "      <td>2010-12-01 08:26:00</td>\n",
       "      <td>08:26:00</td>\n",
       "    </tr>\n",
       "    <tr>\n",
       "      <th>3</th>\n",
       "      <td>536365.0</td>\n",
       "      <td>84029G</td>\n",
       "      <td>KNITTED UNION FLAG HOT WATER BOTTLE</td>\n",
       "      <td>6</td>\n",
       "      <td>2010-12-01 08:26:00</td>\n",
       "      <td>3.39</td>\n",
       "      <td>17850.0</td>\n",
       "      <td>United Kingdom</td>\n",
       "      <td>2010-12-01 08:26:00</td>\n",
       "      <td>08:26:00</td>\n",
       "    </tr>\n",
       "    <tr>\n",
       "      <th>4</th>\n",
       "      <td>536365.0</td>\n",
       "      <td>84029E</td>\n",
       "      <td>RED WOOLLY HOTTIE WHITE HEART.</td>\n",
       "      <td>6</td>\n",
       "      <td>2010-12-01 08:26:00</td>\n",
       "      <td>3.39</td>\n",
       "      <td>17850.0</td>\n",
       "      <td>United Kingdom</td>\n",
       "      <td>2010-12-01 08:26:00</td>\n",
       "      <td>08:26:00</td>\n",
       "    </tr>\n",
       "  </tbody>\n",
       "</table>\n",
       "</div>"
      ],
      "text/plain": [
       "   InvoiceNo StockCode                          Description  Quantity  \\\n",
       "0   536365.0    85123A   WHITE HANGING HEART T-LIGHT HOLDER         6   \n",
       "1   536365.0     71053                  WHITE METAL LANTERN         6   \n",
       "2   536365.0    84406B       CREAM CUPID HEARTS COAT HANGER         8   \n",
       "3   536365.0    84029G  KNITTED UNION FLAG HOT WATER BOTTLE         6   \n",
       "4   536365.0    84029E       RED WOOLLY HOTTIE WHITE HEART.         6   \n",
       "\n",
       "          InvoiceDate  UnitPrice  CustomerID         Country  \\\n",
       "0 2010-12-01 08:26:00       2.55     17850.0  United Kingdom   \n",
       "1 2010-12-01 08:26:00       3.39     17850.0  United Kingdom   \n",
       "2 2010-12-01 08:26:00       2.75     17850.0  United Kingdom   \n",
       "3 2010-12-01 08:26:00       3.39     17850.0  United Kingdom   \n",
       "4 2010-12-01 08:26:00       3.39     17850.0  United Kingdom   \n",
       "\n",
       "                 Date      Time  \n",
       "0 2010-12-01 08:26:00  08:26:00  \n",
       "1 2010-12-01 08:26:00  08:26:00  \n",
       "2 2010-12-01 08:26:00  08:26:00  \n",
       "3 2010-12-01 08:26:00  08:26:00  \n",
       "4 2010-12-01 08:26:00  08:26:00  "
      ]
     },
     "execution_count": 3,
     "metadata": {},
     "output_type": "execute_result"
    }
   ],
   "source": [
    "retail.head(5)"
   ]
  },
  {
   "attachments": {},
   "cell_type": "markdown",
   "metadata": {},
   "source": [
    "#### ¿ A qué hora la gente compra normalmente online? "
   ]
  },
  {
   "cell_type": "code",
   "execution_count": 7,
   "metadata": {},
   "outputs": [
    {
     "data": {
      "image/png": "[encoded data removed]",
      "text/plain": [
       "<Figure size 720x432 with 1 Axes>"
      ]
     },
     "metadata": {
      "needs_background": "light"
     },
     "output_type": "display_data"
    }
   ],
   "source": [
    "import pandas as pd\n",
    "import matplotlib.pyplot as plt\n",
    "\n",
    "# Convert 'Time' column to datetime type\n",
    "retail['Time'] = pd.to_datetime(retail['Time'])\n",
    "\n",
    "# Categorize 'Time' column into 24-hour segments\n",
    "retail['Time_Category'] = pd.cut(retail['Time'].dt.hour, bins=24, labels=False)\n",
    "\n",
    "# Plot a histogram of the 'Time_Category' column\n",
    "plt.figure(figsize=(10, 6))\n",
    "retail['Time_Category'].value_counts().sort_index().plot(kind='bar', color='indianred', edgecolor='black')\n",
    "plt.xlabel('Time')\n",
    "plt.ylabel('Count')\n",
    "plt.title('Frequency of Online Purchases by Time')\n",
    "plt.xticks(rotation=90)\n",
    "plt.show()\n"
   ]
  },
  {
   "attachments": {},
   "cell_type": "markdown",
   "metadata": {},
   "source": [
    "#### ¿ Cuántos objetos son comprados en promedio por cada cliente? "
   ]
  },
  {
   "cell_type": "code",
   "execution_count": 12,
   "metadata": {},
   "outputs": [
    {
     "data": {
      "text/plain": [
       "1.000000     279\n",
       "12.000000    262\n",
       "10.000000    208\n",
       "6.000000     168\n",
       "24.000000    168\n",
       "            ... \n",
       "32.333333      1\n",
       "19.147059      1\n",
       "15.392857      1\n",
       "4.325000       1\n",
       "13.238095      1\n",
       "Name: Quantity, Length: 7165, dtype: int64"
      ]
     },
     "execution_count": 12,
     "metadata": {},
     "output_type": "execute_result"
    }
   ],
   "source": [
    "# Group by 'InvoiceNo' and calculate the mean of 'Quantity' for each group\n",
    "n_items = retail.groupby('InvoiceNo')['Quantity'].mean()\n",
    "n_items.value_counts()"
   ]
  },
  {
   "cell_type": "code",
   "execution_count": 14,
   "metadata": {},
   "outputs": [
    {
     "data": {
      "image/png": "[encoded data removed]",
      "text/plain": [
       "<Figure size 720x432 with 1 Axes>"
      ]
     },
     "metadata": {
      "needs_background": "light"
     },
     "output_type": "display_data"
    }
   ],
   "source": [
    "import pandas as pd\n",
    "import matplotlib.pyplot as plt\n",
    "\n",
    "# Group by 'InvoiceNo' and calculate the mean of 'Quantity' for each group\n",
    "n_items = retail.groupby('InvoiceNo')['Quantity'].mean()\n",
    "n_items_count = n_items.value_counts()\n",
    "# Plot a histogram of the number of items purchased per customer\n",
    "plt.figure(figsize=(10, 6))\n",
    "plt.hist(n_items_count, color='indianred', bins=100)\n",
    "plt.xlabel('Number of Items')\n",
    "plt.xlim(0, 40)  # Set the x-axis limits to 0 and 1000\n",
    "plt.ylabel('Count')\n",
    "plt.title('Number of Items Purchased per Customer')\n",
    "plt.axvline(x=80, color='black', linestyle='--')  # Add a vertical line at x=80\n",
    "plt.show()\n"
   ]
  },
  {
   "attachments": {},
   "cell_type": "markdown",
   "metadata": {},
   "source": [
    "¿Cuáles son los 10 artticulos más vendidos? "
   ]
  },
  {
   "cell_type": "code",
   "execution_count": 15,
   "metadata": {},
   "outputs": [
    {
     "data": {
      "image/png": "[encoded data removed]",
      "text/plain": [
       "<Figure size 720x432 with 1 Axes>"
      ]
     },
     "metadata": {
      "needs_background": "light"
     },
     "output_type": "display_data"
    }
   ],
   "source": [
    "import pandas as pd\n",
    "import matplotlib.pyplot as plt\n",
    "\n",
    "# Group by 'StockCode' and 'Description' and calculate the count for each group\n",
    "top_sellers = retail.groupby(['StockCode', 'Description']).size().reset_index(name='count')\n",
    "\n",
    "# Sort by descending count\n",
    "top_sellers = top_sellers.sort_values(by='count', ascending=False)\n",
    "\n",
    "# Plot the top 10 best sellers\n",
    "top_10 = top_sellers.head(10)\n",
    "\n",
    "plt.figure(figsize=(10, 6))\n",
    "plt.barh(top_10['Description'], top_10['count'], color='indianred')\n",
    "plt.xlabel('Count')\n",
    "plt.ylabel('Description')\n",
    "plt.title('Top 10 Best Sellers')\n",
    "plt.gca().invert_yaxis()  # Invert the y-axis to show highest count at the top\n",
    "plt.show()\n"
   ]
  },
  {
   "attachments": {},
   "cell_type": "markdown",
   "metadata": {},
   "source": [
    "#### Implementando reglas de asociación "
   ]
  },
  {
   "attachments": {},
   "cell_type": "markdown",
   "metadata": {},
   "source": [
    "Before using any rule mining algorithm, we need to transform the data from the data frame format, into transactions such that we have all the items bought together in one row."
   ]
  },
  {
   "cell_type": "code",
   "execution_count": 16,
   "metadata": {},
   "outputs": [
    {
     "data": {
      "text/html": [
       "<div>\n",
       "<style scoped>\n",
       "    .dataframe tbody tr th:only-of-type {\n",
       "        vertical-align: middle;\n",
       "    }\n",
       "\n",
       "    .dataframe tbody tr th {\n",
       "        vertical-align: top;\n",
       "    }\n",
       "\n",
       "    .dataframe thead th {\n",
       "        text-align: right;\n",
       "    }\n",
       "</style>\n",
       "<table border=\"1\" class=\"dataframe\">\n",
       "  <thead>\n",
       "    <tr style=\"text-align: right;\">\n",
       "      <th></th>\n",
       "      <th>CustomerID</th>\n",
       "      <th>Date</th>\n",
       "      <th>Description</th>\n",
       "    </tr>\n",
       "  </thead>\n",
       "  <tbody>\n",
       "    <tr>\n",
       "      <th>0</th>\n",
       "      <td>12346.0</td>\n",
       "      <td>2011-01-18 10:01:00</td>\n",
       "      <td>MEDIUM CERAMIC TOP STORAGE JAR</td>\n",
       "    </tr>\n",
       "    <tr>\n",
       "      <th>1</th>\n",
       "      <td>12346.0</td>\n",
       "      <td>2011-01-18 10:17:00</td>\n",
       "      <td>MEDIUM CERAMIC TOP STORAGE JAR</td>\n",
       "    </tr>\n",
       "    <tr>\n",
       "      <th>2</th>\n",
       "      <td>12347.0</td>\n",
       "      <td>2010-12-07 14:57:00</td>\n",
       "      <td>BLACK CANDELABRA T-LIGHT HOLDER,AIRLINE BAG VI...</td>\n",
       "    </tr>\n",
       "    <tr>\n",
       "      <th>3</th>\n",
       "      <td>12347.0</td>\n",
       "      <td>2011-01-26 14:30:00</td>\n",
       "      <td>PINK NEW BAROQUECANDLESTICK CANDLE,BLUE NEW BA...</td>\n",
       "    </tr>\n",
       "    <tr>\n",
       "      <th>4</th>\n",
       "      <td>12347.0</td>\n",
       "      <td>2011-04-07 10:43:00</td>\n",
       "      <td>AIRLINE BAG VINTAGE JET SET WHITE,AIRLINE BAG ...</td>\n",
       "    </tr>\n",
       "    <tr>\n",
       "      <th>...</th>\n",
       "      <td>...</td>\n",
       "      <td>...</td>\n",
       "      <td>...</td>\n",
       "    </tr>\n",
       "    <tr>\n",
       "      <th>22029</th>\n",
       "      <td>18283.0</td>\n",
       "      <td>2011-11-30 12:59:00</td>\n",
       "      <td>SET OF 6 SNACK LOAF BAKING CASES,10 COLOUR SPA...</td>\n",
       "    </tr>\n",
       "    <tr>\n",
       "      <th>22030</th>\n",
       "      <td>18283.0</td>\n",
       "      <td>2011-12-06 12:02:00</td>\n",
       "      <td>FELTCRAFT HAIRBAND RED AND BLUE,PACK OF 12 DOL...</td>\n",
       "    </tr>\n",
       "    <tr>\n",
       "      <th>22031</th>\n",
       "      <td>18287.0</td>\n",
       "      <td>2011-05-22 10:39:00</td>\n",
       "      <td>SMALL PURPLE BABUSHKA NOTEBOOK ,SMALL RED BABU...</td>\n",
       "    </tr>\n",
       "    <tr>\n",
       "      <th>22032</th>\n",
       "      <td>18287.0</td>\n",
       "      <td>2011-10-12 10:23:00</td>\n",
       "      <td>HAND WARMER OWL DESIGN,SET OF 3 WOODEN SLEIGH ...</td>\n",
       "    </tr>\n",
       "    <tr>\n",
       "      <th>22033</th>\n",
       "      <td>18287.0</td>\n",
       "      <td>2011-10-28 09:29:00</td>\n",
       "      <td>SET OF 3 WOODEN SLEIGH DECORATIONS,PAINTED MET...</td>\n",
       "    </tr>\n",
       "  </tbody>\n",
       "</table>\n",
       "<p>22034 rows × 3 columns</p>\n",
       "</div>"
      ],
      "text/plain": [
       "       CustomerID                Date  \\\n",
       "0         12346.0 2011-01-18 10:01:00   \n",
       "1         12346.0 2011-01-18 10:17:00   \n",
       "2         12347.0 2010-12-07 14:57:00   \n",
       "3         12347.0 2011-01-26 14:30:00   \n",
       "4         12347.0 2011-04-07 10:43:00   \n",
       "...           ...                 ...   \n",
       "22029     18283.0 2011-11-30 12:59:00   \n",
       "22030     18283.0 2011-12-06 12:02:00   \n",
       "22031     18287.0 2011-05-22 10:39:00   \n",
       "22032     18287.0 2011-10-12 10:23:00   \n",
       "22033     18287.0 2011-10-28 09:29:00   \n",
       "\n",
       "                                             Description  \n",
       "0                         MEDIUM CERAMIC TOP STORAGE JAR  \n",
       "1                         MEDIUM CERAMIC TOP STORAGE JAR  \n",
       "2      BLACK CANDELABRA T-LIGHT HOLDER,AIRLINE BAG VI...  \n",
       "3      PINK NEW BAROQUECANDLESTICK CANDLE,BLUE NEW BA...  \n",
       "4      AIRLINE BAG VINTAGE JET SET WHITE,AIRLINE BAG ...  \n",
       "...                                                  ...  \n",
       "22029  SET OF 6 SNACK LOAF BAKING CASES,10 COLOUR SPA...  \n",
       "22030  FELTCRAFT HAIRBAND RED AND BLUE,PACK OF 12 DOL...  \n",
       "22031  SMALL PURPLE BABUSHKA NOTEBOOK ,SMALL RED BABU...  \n",
       "22032  HAND WARMER OWL DESIGN,SET OF 3 WOODEN SLEIGH ...  \n",
       "22033  SET OF 3 WOODEN SLEIGH DECORATIONS,PAINTED MET...  \n",
       "\n",
       "[22034 rows x 3 columns]"
      ]
     },
     "execution_count": 16,
     "metadata": {},
     "output_type": "execute_result"
    }
   ],
   "source": [
    "import pandas as pd\n",
    "\n",
    "# Sort the retail data by 'CustomerID'\n",
    "retail_sorted = retail.sort_values(by='CustomerID')\n",
    "\n",
    "# Group by 'CustomerID' and 'Date' and concatenate the 'Description' values\n",
    "itemList = retail.groupby(['CustomerID', 'Date'])['Description'].apply(lambda x: ','.join(x)).reset_index()\n",
    "itemList"
   ]
  }
 ],
 "metadata": {
  "kernelspec": {
   "display_name": "Python 3",
   "language": "python",
   "name": "python3"
  },
  "language_info": {
   "codemirror_mode": {
    "name": "ipython",
    "version": 3
   },
   "file_extension": ".py",
   "mimetype": "text/x-python",
   "name": "python",
   "nbconvert_exporter": "python",
   "pygments_lexer": "ipython3",
   "version": "3.10.5"
  },
  "orig_nbformat": 4
 },
 "nbformat": 4,
 "nbformat_minor": 2
}
