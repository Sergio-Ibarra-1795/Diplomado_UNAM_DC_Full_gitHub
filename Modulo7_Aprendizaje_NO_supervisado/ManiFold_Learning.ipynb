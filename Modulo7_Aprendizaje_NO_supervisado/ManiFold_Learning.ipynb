{
 "cells": [
  {
   "attachments": {},
   "cell_type": "markdown",
   "metadata": {},
   "source": [
    "#### <font color=\"#03997A\"> Diplomado en Ciencia de datos UNAM </font>\n",
    "\n",
    "##### <font color=\"#03997A\"> Dr: Eduardo Espinosa A. </font>\n",
    "\n",
    "##### <font color=\"#03997A\"> Modulo 7 Aprendizaje de Maquina NO supervisado </font>\n",
    "\n",
    "##### <font color=\"#03997A\"> Tema 6 Manifold (Kernel PCA) Alumno: Ibarra Ramírez Sergio </font>"
   ]
  },
  {
   "attachments": {},
   "cell_type": "markdown",
   "metadata": {},
   "source": [
    "Ejemplo de Kernel PCA con RBF o Gaussiano"
   ]
  },
  {
   "cell_type": "code",
   "execution_count": 28,
   "metadata": {},
   "outputs": [],
   "source": [
    "import matplotlib \n",
    "import scipy \n",
    "from scipy.spatial.distance import pdist, squareform \n",
    "from scipy.linalg import eigh\n",
    "import numpy as np\n",
    "import matplotlib.pyplot as plt\n"
   ]
  },
  {
   "attachments": {},
   "cell_type": "markdown",
   "metadata": {},
   "source": [
    "Se define la función que aplica el Kernel PCA "
   ]
  },
  {
   "cell_type": "code",
   "execution_count": 43,
   "metadata": {},
   "outputs": [],
   "source": [
    "def rbf_kpca (X, gamma, n_components):\n",
    "    ##1. CREACIÓN DE LA MATRIZ DE DISTANCIA O DE NUCLEOS\n",
    "\n",
    "    ##Se calculan las distancias cuadraticas entre todas las parejas de puntos\n",
    "    ## Obtenemos una lista de distancias\n",
    "    sq_dists = pdist(X,'sqeuclidean') \n",
    "    ## Convertimos la lista a una matriz de distancias\n",
    "    mat_sq_dists = squareform(sq_dists)\n",
    "    ## Vamos a aplicar la exponencial para obtener la lalamda matriz de nueclos K \n",
    "    ## K es entonces la matriz nxn de distancias\n",
    "    K = np.exp(-gamma * mat_sq_dists)\n",
    "\n",
    "\n",
    "    ##2. Centrar la Matriz K de nucleos \n",
    "    N = K.shape[0]\n",
    "    ## Esta es la que se llama 1n \n",
    "    one_n = np.ones((N,N)) /N \n",
    "    ## Ahora si aplicamos como tal el centrado de la matriz K \n",
    "    K = K - one_n.dot(K) - K.dot(one_n) + one_n.dot(K).dot(one_n)\n",
    "\n",
    "\n",
    "    ## 3. Obtenemos los eigenvectores y valores de la matriz centrada\n",
    "    eigenvals, eigenvecs = eigh(K) ## Devuelve los eigenvecs en forma ascendente\n",
    "    ## Se 'invierten los eigenvecs' para obtenerr solos k primeros (que serian los Princpal Components variables)\n",
    "    eigenvals, egenvecs = eigenvals[::-1], eigenvecs[:,::-1]\n",
    "\n",
    "    ##Eigenvectors\n",
    "    alphas = np.column_stack([eigenvecs[:,i] for i in range(n_components)]) \n",
    "\n",
    "    ##Eigenvalues\n",
    "    lamdas = np.column_stack([eigenvals[i] for i in range(n_components)]) \n",
    "    return alphas, lamdas"
   ]
  },
  {
   "attachments": {},
   "cell_type": "markdown",
   "metadata": {},
   "source": [
    "Importamos el conjunto NO LINEALMENTE SEPARABLE DE make_moons"
   ]
  },
  {
   "cell_type": "code",
   "execution_count": 31,
   "metadata": {},
   "outputs": [
    {
     "data": {
      "text/plain": [
       "<matplotlib.collections.PathCollection at 0x2637f9e4b20>"
      ]
     },
     "execution_count": 31,
     "metadata": {},
     "output_type": "execute_result"
    },
    {
     "data": {
      "image/png": "[encoded data removed]",
      "text/plain": [
       "<Figure size 432x288 with 1 Axes>"
      ]
     },
     "metadata": {
      "needs_background": "light"
     },
     "output_type": "display_data"
    }
   ],
   "source": [
    "## Generador de medias lunas \n",
    "from sklearn.datasets import make_moons\n",
    "X, y = make_moons(n_samples=100, random_state=123)\n",
    "\n",
    "#Todos los x cuyo valor de y seea cero 0 uno y la prieimer y segunda columna de eso \n",
    "plt.scatter(X[y==0,0], X[y==0,1], color='red', marker='^', alpha =0.5)\n",
    "\n",
    "plt.scatter(X[y==1,0], X[y==1,1], color='blue', marker='o', alpha =0.5)"
   ]
  },
  {
   "attachments": {},
   "cell_type": "markdown",
   "metadata": {},
   "source": [
    "##### Vamos a aplicar el 'PCA NORMAL' al conjunto make_moons"
   ]
  },
  {
   "cell_type": "code",
   "execution_count": 32,
   "metadata": {},
   "outputs": [
    {
     "data": {
      "text/plain": [
       "array([[-0.2795509 ,  0.34303617],\n",
       "       [-0.42251533, -0.6083743 ],\n",
       "       [-1.11143524, -0.31056455],\n",
       "       [ 0.91009606,  0.4682757 ],\n",
       "       [ 0.01356142, -0.5194961 ],\n",
       "       [-0.55258909, -0.08452989],\n",
       "       [-0.40741947,  0.19974865],\n",
       "       [ 0.55258909,  0.08452989],\n",
       "       [-1.0649998 , -0.3547569 ],\n",
       "       [-0.44363426,  0.14685533],\n",
       "       [ 0.61319152,  0.58547722],\n",
       "       [-0.106304  , -0.5647979 ],\n",
       "       [-0.79597451, -0.52655299],\n",
       "       [ 0.1800669 , -0.42380069],\n",
       "       [ 0.67533755,  0.56975829],\n",
       "       [ 1.38981501, -0.25483572],\n",
       "       [-0.8539697 , -0.49924418],\n",
       "       [ 1.32278775, -0.00802077],\n",
       "       [ 0.36789019, -0.250213  ],\n",
       "       [-0.73634878, -0.55008994],\n",
       "       [ 1.23247827,  0.16146635],\n",
       "       [-1.32278775,  0.00802077],\n",
       "       [ 0.35841461,  0.60781552],\n",
       "       [ 0.96412295,  0.43377483],\n",
       "       [ 1.0649998 ,  0.3547569 ],\n",
       "       [-1.37903292,  0.19164584],\n",
       "       [-1.23247827, -0.16146635],\n",
       "       [-0.23110388,  0.38501356],\n",
       "       [ 0.47638576, -0.0917504 ],\n",
       "       [ 1.37903292, -0.19164584],\n",
       "       [ 0.48652015,  0.60482498],\n",
       "       [-1.3642244 ,  0.1292766 ],\n",
       "       [ 1.15494387,  0.26348786],\n",
       "       [-0.35841461, -0.60781552],\n",
       "       [-1.19534688, -0.21372029],\n",
       "       [-1.29632989, -0.05036755],\n",
       "       [-1.39764333,  0.44672216],\n",
       "       [-1.38236553,  0.57394857],\n",
       "       [ 0.07107173, -0.4911804 ],\n",
       "       [-0.07107173,  0.4911804 ],\n",
       "       [ 0.42251533,  0.6083743 ],\n",
       "       [-1.34545029,  0.06798429],\n",
       "       [ 1.29632989,  0.05036755],\n",
       "       [ 0.23110388, -0.38501356],\n",
       "       [-0.53097533, -0.02418041],\n",
       "       [-0.67533755, -0.56975829],\n",
       "       [-0.12664968,  0.45923818],\n",
       "       [-0.96412295, -0.43377483],\n",
       "       [ 0.04564492,  0.54406893],\n",
       "       [ 0.44363426, -0.14685533],\n",
       "       [ 0.16816656,  0.58159785],\n",
       "       [ 0.79597451,  0.52655299],\n",
       "       [ 0.53097533,  0.02418041],\n",
       "       [ 1.39764333, -0.44672216],\n",
       "       [-0.36789019,  0.250213  ],\n",
       "       [-1.36864655,  0.63656649],\n",
       "       [ 1.01582835,  0.39588333],\n",
       "       [ 1.39913937, -0.38263646],\n",
       "       [-0.55016605, -0.59718215],\n",
       "       [ 1.39652635, -0.31858658],\n",
       "       [ 0.106304  ,  0.5647979 ],\n",
       "       [-1.39913937,  0.38263646],\n",
       "       [ 0.29448139,  0.60315094],\n",
       "       [-0.01356142,  0.5194961 ],\n",
       "       [ 0.55016605,  0.59718215],\n",
       "       [-0.1800669 ,  0.42380069],\n",
       "       [ 0.2795509 , -0.34303617],\n",
       "       [-0.48652015, -0.60482498],\n",
       "       [-0.04564492, -0.54406893],\n",
       "       [-0.47638576,  0.0917504 ],\n",
       "       [ 1.3642244 , -0.1292766 ],\n",
       "       [ 1.19534688,  0.21372029],\n",
       "       [ 0.8539697 ,  0.49924418],\n",
       "       [ 0.50553939, -0.03466029],\n",
       "       [-0.32520887,  0.29804102],\n",
       "       [ 1.36864655, -0.63656649],\n",
       "       [ 0.12664968, -0.45923818],\n",
       "       [-1.39652635,  0.31858658],\n",
       "       [-1.35094381,  0.69817678],\n",
       "       [ 1.34545029, -0.06798429],\n",
       "       [-0.50553939,  0.03466029],\n",
       "       [-0.23097839, -0.59439973],\n",
       "       [ 0.40741947, -0.19974865],\n",
       "       [ 1.35094381, -0.69817678],\n",
       "       [-0.29448139, -0.60315094],\n",
       "       [-1.01582835, -0.39588333],\n",
       "       [ 1.26618544,  0.10694075],\n",
       "       [-0.91009606, -0.4682757 ],\n",
       "       [-1.39204439,  0.51058033],\n",
       "       [ 0.73634878,  0.55008994],\n",
       "       [ 1.39204439, -0.51058033],\n",
       "       [ 1.11143524,  0.31056455],\n",
       "       [-0.61319152, -0.58547722],\n",
       "       [ 1.38236553, -0.57394857],\n",
       "       [-1.26618544, -0.10694075],\n",
       "       [ 0.32520887, -0.29804102],\n",
       "       [-1.15494387, -0.26348786],\n",
       "       [ 0.23097839,  0.59439973],\n",
       "       [-1.38981501,  0.25483572],\n",
       "       [-0.16816656, -0.58159785]])"
      ]
     },
     "execution_count": 32,
     "metadata": {},
     "output_type": "execute_result"
    }
   ],
   "source": [
    "from sklearn.decomposition import PCA\n",
    "pca = PCA(n_components=2)\n",
    "X_pca_normal = pca.fit_transform(X)\n",
    "X_pca_normal"
   ]
  },
  {
   "attachments": {},
   "cell_type": "markdown",
   "metadata": {},
   "source": [
    "Se muestra como el PCA NO ES LINEALMENTE SEPARABLE "
   ]
  },
  {
   "cell_type": "code",
   "execution_count": 33,
   "metadata": {},
   "outputs": [
    {
     "data": {
      "image/png": "[encoded data removed]",
      "text/plain": [
       "<Figure size 720x288 with 2 Axes>"
      ]
     },
     "metadata": {
      "needs_background": "light"
     },
     "output_type": "display_data"
    }
   ],
   "source": [
    "fig,ax = plt.subplots(nrows=1, ncols=2, figsize=(10,4))\n",
    "ax[0].scatter(X_pca_normal[y==0,0], X_pca_normal[y==0,1], color='red', marker='^', alpha=0.5)\n",
    "ax[0].scatter(X_pca_normal[y==1,0], X_pca_normal[y==1,1], color='blue', marker='o', alpha =0.5)\n",
    "ax[1].scatter(X_pca_normal[y==0,0], np.zeros((50,1)) +0.02, color='red', marker='^', alpha=0.5)\n",
    "ax[1].scatter(X_pca_normal[y==1,0], np.zeros((50,1)) +0.02, color='blue', marker='o', alpha=0.5)\n",
    "ax[1].set_ylim([-1,1])\n",
    "ax[0].set_xlabel('PC1')\n",
    "ax[0].set_ylabel('PC2')\n",
    "ax[1].set_xlabel('PC1')\n",
    "plt.show()"
   ]
  },
  {
   "attachments": {},
   "cell_type": "markdown",
   "metadata": {},
   "source": [
    "Ahora si vamos a aplicar el Kernel PCA que habiamos cosntruido anteriormente"
   ]
  },
  {
   "cell_type": "code",
   "execution_count": 44,
   "metadata": {},
   "outputs": [
    {
     "data": {
      "text/plain": [
       "array([[ 7.54499940e-19,  0.00000000e+00],\n",
       "       [-1.30291290e-16,  2.66289402e-16],\n",
       "       [ 1.26953693e-16, -3.05004458e-15],\n",
       "       [-8.58105306e-17,  1.42203789e-15],\n",
       "       [ 2.81529628e-17, -8.42502646e-16],\n",
       "       [ 5.67960542e-16,  1.71997372e-15],\n",
       "       [-2.48535577e-16,  9.29689321e-18],\n",
       "       [-4.15640734e-18,  5.96065415e-16],\n",
       "       [-4.05752302e-18,  1.24084454e-16],\n",
       "       [-3.40700172e-18,  9.86054911e-17],\n",
       "       [-3.34437421e-18,  9.81347035e-17],\n",
       "       [-3.05760061e-18,  7.76874910e-17],\n",
       "       [-3.32066991e-18,  7.92981091e-17],\n",
       "       [-3.38316551e-18,  8.10351836e-17],\n",
       "       [-3.83024014e-18,  7.83594196e-17],\n",
       "       [-3.05998404e-06, -8.77064471e-05],\n",
       "       [-3.49269752e-18,  1.13469282e-16],\n",
       "       [-3.30868547e-11, -1.90462085e-09],\n",
       "       [-2.81988217e-18,  1.14891226e-16],\n",
       "       [-2.81896234e-18,  1.17520416e-16],\n",
       "       [-1.30089797e-15, -1.10976982e-13],\n",
       "       [ 3.30868526e-11,  1.90462095e-09],\n",
       "       [-4.25354497e-18,  1.16666806e-16],\n",
       "       [-4.25354497e-18,  8.02105077e-17],\n",
       "       [-2.95250236e-18,  8.10773400e-17],\n",
       "       [ 2.27758564e-07,  7.96292858e-06],\n",
       "       [ 1.30071424e-15,  1.10991342e-13],\n",
       "       [-3.30420635e-18,  1.00515544e-16],\n",
       "       [-3.32418441e-18,  1.01354725e-16],\n",
       "       [-2.27758564e-07, -7.96292858e-06],\n",
       "       [-3.21785534e-18,  1.01796150e-16],\n",
       "       [ 1.41365455e-08,  5.92046280e-07],\n",
       "       [-2.94938511e-18, -2.25922970e-17],\n",
       "       [-3.27779615e-18,  1.01847240e-16],\n",
       "       [ 3.37708502e-17,  3.41531525e-15],\n",
       "       [ 1.27897771e-12,  8.47714065e-11],\n",
       "       [ 2.24805976e-03,  2.98431981e-02],\n",
       "       [ 6.18070032e-02,  3.46956605e-01],\n",
       "       [-4.52098221e-18,  1.35331432e-16],\n",
       "       [-4.21671209e-18,  1.23336588e-16],\n",
       "       [-4.46413836e-18,  1.23264106e-16],\n",
       "       [ 7.40144479e-10,  3.65775606e-08],\n",
       "       [-1.27898052e-12, -8.47712879e-11],\n",
       "       [-4.35119199e-18,  1.18918697e-16],\n",
       "       [-4.37117006e-18,  1.19975789e-16],\n",
       "       [-4.17152158e-18,  1.17576240e-16],\n",
       "       [-4.29571119e-18,  1.15651460e-16],\n",
       "       [-3.76143854e-18,  1.19392167e-16],\n",
       "       [-4.41249586e-18,  1.20488528e-16],\n",
       "       [-2.91405486e-18,  1.19601587e-16],\n",
       "       [-4.17421489e-18,  1.19907274e-16],\n",
       "       [-4.31500104e-18,  1.16062987e-16],\n",
       "       [-4.51093696e-18,  1.15964774e-16],\n",
       "       [-2.24805976e-03, -2.98431981e-02],\n",
       "       [-3.13199382e-18,  1.20259747e-16],\n",
       "       [ 2.28771826e-01,  5.59017172e-01],\n",
       "       [-3.29199040e-18,  7.48765307e-17],\n",
       "       [-3.06963613e-04, -5.47864129e-03],\n",
       "       [-3.49656214e-18,  9.87646903e-17],\n",
       "       [-3.39141688e-05, -7.78875232e-04],\n",
       "       [-3.13755249e-18,  9.68475483e-17],\n",
       "       [ 3.06963613e-04,  5.47864129e-03],\n",
       "       [-2.27985825e-18,  9.89803585e-17],\n",
       "       [-2.19551954e-18,  1.40018159e-16],\n",
       "       [-2.62920041e-18,  1.39149834e-16],\n",
       "       [-3.49656214e-18,  1.39475412e-16],\n",
       "       [-3.13755249e-18,  1.37857495e-16],\n",
       "       [-3.35964059e-18,  1.17265186e-16],\n",
       "       [-3.39435567e-18,  1.38139519e-16],\n",
       "       [-3.49323338e-18,  1.39096800e-16],\n",
       "       [-1.41365455e-08, -5.92046280e-07],\n",
       "       [-3.75088649e-17, -3.25135859e-15],\n",
       "       [-3.17751524e-18,  1.60949921e-16],\n",
       "       [-2.31015350e-18,  1.62303786e-16],\n",
       "       [-2.23511836e-18,  1.59818505e-16],\n",
       "       [-2.28771826e-01, -5.59017172e-01],\n",
       "       [-2.42083683e-18,  1.39615665e-16],\n",
       "       [ 3.39141688e-05,  7.78875232e-04],\n",
       "       [ 6.66080857e-01, -2.26710648e-01],\n",
       "       [-7.40144483e-10, -3.65775605e-08],\n",
       "       [-2.15555679e-18,  1.58919525e-16],\n",
       "       [-2.11560066e-18,  1.57512106e-16],\n",
       "       [-2.15030912e-18,  1.58593722e-16],\n",
       "       [-6.66080857e-01,  2.26710648e-01],\n",
       "       [-2.89087396e-18,  1.51452609e-16],\n",
       "       [-2.45719309e-18,  1.36571828e-16],\n",
       "       [-4.33201064e-14, -3.27087694e-12],\n",
       "       [-2.66848090e-18,  1.46457111e-16],\n",
       "       [ 1.32093926e-02,  1.21663270e-01],\n",
       "       [-2.62395274e-18,  1.47072241e-16],\n",
       "       [-1.32093926e-02, -1.21663270e-01],\n",
       "       [-2.80607809e-18,  1.41923796e-16],\n",
       "       [-3.02291853e-18,  1.41993164e-16],\n",
       "       [-6.18070032e-02, -3.46956605e-01],\n",
       "       [ 4.33133318e-14,  3.27092853e-12],\n",
       "       [-2.50895485e-18,  1.47230143e-16],\n",
       "       [-2.51570424e-18,  2.41051363e-16],\n",
       "       [-2.29211441e-18,  1.44648066e-16],\n",
       "       [ 3.05998404e-06,  8.77064471e-05],\n",
       "       [-2.50826663e-18,  1.44174156e-16]])"
      ]
     },
     "execution_count": 44,
     "metadata": {},
     "output_type": "execute_result"
    }
   ],
   "source": [
    "## La X_pca_K almacena las alfas, y la l las lamdas \n",
    "X_pca_K,l = rbf_kpca(X, gamma=15, n_components=2)\n",
    "X_pca_K"
   ]
  },
  {
   "attachments": {},
   "cell_type": "markdown",
   "metadata": {},
   "source": [
    "Se grafica el resultado de X_pca_K"
   ]
  },
  {
   "cell_type": "code",
   "execution_count": 45,
   "metadata": {},
   "outputs": [
    {
     "data": {
      "image/png": "[encoded data removed]",
      "text/plain": [
       "<Figure size 720x288 with 2 Axes>"
      ]
     },
     "metadata": {
      "needs_background": "light"
     },
     "output_type": "display_data"
    }
   ],
   "source": [
    "fig,ax = plt.subplots(nrows=1, ncols=2, figsize=(10,4))\n",
    "ax[0].scatter(X_pca_K[y==0,0], X_pca_K[y==0,1], color='red', marker='^', alpha=0.5)\n",
    "ax[0].scatter(X_pca_K[y==1,0], X_pca_K[y==1,1], color='blue', marker='o', alpha =0.5)\n",
    "ax[1].scatter(X_pca_K[y==0,0], np.zeros((50,1)) +0.02, color='red', marker='^', alpha=0.5)\n",
    "ax[1].scatter(X_pca_K[y==1,0], np.zeros((50,1)) -0.02, color='blue', marker='o', alpha=0.5)\n",
    "ax[1].set_ylim([-1,1])\n",
    "ax[0].set_xlabel('PC1')\n",
    "ax[0].set_ylabel('PC2')\n",
    "ax[1].set_xlabel('PC1')\n",
    "plt.show()"
   ]
  },
  {
   "attachments": {},
   "cell_type": "markdown",
   "metadata": {},
   "source": [
    "Vamos a variar el valor de gamma "
   ]
  },
  {
   "cell_type": "code",
   "execution_count": 36,
   "metadata": {},
   "outputs": [
    {
     "data": {
      "image/png": "[encoded data removed]",
      "text/plain": [
       "<Figure size 720x288 with 2 Axes>"
      ]
     },
     "metadata": {
      "needs_background": "light"
     },
     "output_type": "display_data"
    }
   ],
   "source": [
    "X_pca_K,l = rbf_kpca(X, gamma=10, n_components=2)\n",
    "fig,ax = plt.subplots(nrows=1, ncols=2, figsize=(10,4))\n",
    "ax[0].scatter(X_pca_K[y==0,0], X_pca_K[y==0,1], color='red', marker='^', alpha=0.5)\n",
    "ax[0].scatter(X_pca_K[y==1,0], X_pca_K[y==1,1], color='blue', marker='o', alpha =0.5)\n",
    "ax[1].scatter(X_pca_K[y==0,0], np.zeros((50,1)) +0.02, color='red', marker='^', alpha=0.5)\n",
    "ax[1].scatter(X_pca_K[y==1,0], np.zeros((50,1)) +0.02, color='blue', marker='o', alpha=0.5)\n",
    "ax[1].set_ylim([-1,1])\n",
    "ax[0].set_xlabel('PC1')\n",
    "ax[0].set_ylabel('PC2')\n",
    "ax[1].set_xlabel('PC1')\n",
    "plt.show()"
   ]
  },
  {
   "attachments": {},
   "cell_type": "markdown",
   "metadata": {},
   "source": [
    "#### Ejemplo de implementacion de Manifold con linrerias de sk.learn "
   ]
  },
  {
   "attachments": {},
   "cell_type": "markdown",
   "metadata": {},
   "source": [
    "Importamos los datos "
   ]
  },
  {
   "cell_type": "code",
   "execution_count": null,
   "metadata": {},
   "outputs": [],
   "source": [
    "from sklearn.datasets import make_moons\n",
    "X,y = make_moons(n_samples=100, random_state=123)"
   ]
  },
  {
   "attachments": {},
   "cell_type": "markdown",
   "metadata": {},
   "source": [
    "Creamos y entrenamos el modelo PCA Manifold de sklearn"
   ]
  },
  {
   "cell_type": "code",
   "execution_count": 37,
   "metadata": {},
   "outputs": [
    {
     "data": {
      "text/plain": [
       "array([[-0.19813012, -0.32893502],\n",
       "       [ 0.35038479, -0.18363537],\n",
       "       [ 0.33278344,  0.27303406],\n",
       "       [-0.35861834,  0.13787481],\n",
       "       [ 0.27947114, -0.34646117],\n",
       "       [-0.03231269, -0.09992664],\n",
       "       [-0.1402958 , -0.26393352],\n",
       "       [ 0.03231269, -0.09992664],\n",
       "       [ 0.34107928,  0.24384492],\n",
       "       [-0.11997571, -0.23460267],\n",
       "       [-0.36284598, -0.06785758],\n",
       "       [ 0.30536789, -0.32022674],\n",
       "       [ 0.36407185,  0.05708143],\n",
       "       [ 0.23323782, -0.35027498],\n",
       "       [-0.36450698, -0.02649036],\n",
       "       [-0.19110122,  0.31758295],\n",
       "       [ 0.3619725 ,  0.09811911],\n",
       "       [-0.25930323,  0.35789694],\n",
       "       [ 0.16016551, -0.28967584],\n",
       "       [ 0.36491625,  0.01534889],\n",
       "       [-0.30089306,  0.33640228],\n",
       "       [ 0.25930323,  0.35789694],\n",
       "       [-0.34376065, -0.21775298],\n",
       "       [-0.35401236,  0.17577444],\n",
       "       [-0.34107928,  0.24384492],\n",
       "       [ 0.20934501,  0.33483988],\n",
       "       [ 0.30089306,  0.33640228],\n",
       "       [-0.21607303, -0.34193845],\n",
       "       [ 0.09932993, -0.20228953],\n",
       "       [-0.20934501,  0.33483988],\n",
       "       [-0.35577988, -0.14695458],\n",
       "       [ 0.22683311,  0.34741261],\n",
       "       [-0.3232991 ,  0.29841965],\n",
       "       [ 0.34376065, -0.21775298],\n",
       "       [ 0.31265694,  0.31964198],\n",
       "       [ 0.27416866,  0.35566406],\n",
       "       [ 0.13245717,  0.2402938 ],\n",
       "       [ 0.09146283,  0.17247526],\n",
       "       [ 0.2649936 , -0.35255318],\n",
       "       [-0.2649936 , -0.35255318],\n",
       "       [-0.35038479, -0.18363537],\n",
       "       [ 0.2435057 ,  0.35513358],\n",
       "       [-0.27416866,  0.35566406],\n",
       "       [ 0.21607303, -0.34193845],\n",
       "       [-0.05656415, -0.13318112],\n",
       "       [ 0.36450698, -0.02649036],\n",
       "       [-0.24956408, -0.35382994],\n",
       "       [ 0.35401236,  0.17577444],\n",
       "       [-0.29294509, -0.33563662],\n",
       "       [ 0.11997571, -0.23460267],\n",
       "       [-0.31669638, -0.30044048],\n",
       "       [-0.36407185,  0.05708143],\n",
       "       [ 0.05656415, -0.13318112],\n",
       "       [-0.13245717,  0.2402938 ],\n",
       "       [-0.16016551, -0.28967584],\n",
       "       [ 0.07156393,  0.13691659],\n",
       "       [-0.3481618 ,  0.2112689 ],\n",
       "       [-0.1525819 ,  0.26997043],\n",
       "       [ 0.3599357 , -0.10819164],\n",
       "       [-0.17215982,  0.29586483],\n",
       "       [-0.30536789, -0.32022674],\n",
       "       [ 0.1525819 ,  0.26997043],\n",
       "       [-0.33592278, -0.24885957],\n",
       "       [-0.27947114, -0.34646117],\n",
       "       [-0.3599357 , -0.10819164],\n",
       "       [-0.23323782, -0.35027498],\n",
       "       [ 0.19813012, -0.32893502],\n",
       "       [ 0.35577988, -0.14695458],\n",
       "       [ 0.29294509, -0.33563662],\n",
       "       [-0.09932993, -0.20228953],\n",
       "       [-0.22683311,  0.34741261],\n",
       "       [-0.31265694,  0.31964198],\n",
       "       [-0.3619725 ,  0.09811911],\n",
       "       [ 0.07835894, -0.16798017],\n",
       "       [-0.17947161, -0.31143848],\n",
       "       [-0.07156393,  0.13691659],\n",
       "       [ 0.24956408, -0.35382994],\n",
       "       [ 0.17215982,  0.29586483],\n",
       "       [ 0.05311441,  0.10282916],\n",
       "       [-0.2435057 ,  0.35513358],\n",
       "       [-0.07835894, -0.16798017],\n",
       "       [ 0.32689231, -0.27654473],\n",
       "       [ 0.1402958 , -0.26393352],\n",
       "       [-0.05311441,  0.10282916],\n",
       "       [ 0.33592278, -0.24885957],\n",
       "       [ 0.3481618 ,  0.2112689 ],\n",
       "       [-0.28804847,  0.34846578],\n",
       "       [ 0.35861834,  0.13787481],\n",
       "       [ 0.11196462,  0.207455  ],\n",
       "       [-0.36491625,  0.01534889],\n",
       "       [-0.11196462,  0.207455  ],\n",
       "       [-0.33278344,  0.27303406],\n",
       "       [ 0.36284598, -0.06785758],\n",
       "       [-0.09146283,  0.17247526],\n",
       "       [ 0.28804847,  0.34846578],\n",
       "       [ 0.17947161, -0.31143848],\n",
       "       [ 0.3232991 ,  0.29841965],\n",
       "       [-0.32689231, -0.27654473],\n",
       "       [ 0.19110122,  0.31758295],\n",
       "       [ 0.31669638, -0.30044048]])"
      ]
     },
     "execution_count": 37,
     "metadata": {},
     "output_type": "execute_result"
    }
   ],
   "source": [
    "## Con PCA Manifold de sklearn \n",
    "\n",
    "from sklearn.decomposition import KernelPCA\n",
    "kpca = KernelPCA(n_components=2, kernel='rbf', gamma=15)\n",
    "X_kpca = kpca.fit_transform(X) \n",
    "X_kpca"
   ]
  },
  {
   "attachments": {},
   "cell_type": "markdown",
   "metadata": {},
   "source": [
    "Graficamos el reusltado del PCA Kernel del sklearn"
   ]
  },
  {
   "cell_type": "code",
   "execution_count": 38,
   "metadata": {},
   "outputs": [
    {
     "data": {
      "image/png": "[encoded data removed]",
      "text/plain": [
       "<Figure size 720x288 with 2 Axes>"
      ]
     },
     "metadata": {
      "needs_background": "light"
     },
     "output_type": "display_data"
    }
   ],
   "source": [
    "fig,ax = plt.subplots(nrows=1, ncols=2, figsize=(10,4))\n",
    "ax[0].scatter(X_kpca[y==0,0], X_kpca[y==0,1], color='red', marker='^', alpha=0.5)\n",
    "ax[0].scatter(X_kpca[y==1,0], X_kpca[y==1,1], color='blue', marker='o', alpha =0.5)\n",
    "ax[1].scatter(X_kpca[y==0,0], np.zeros((50,1)) +0.02, color='red', marker='^', alpha=0.5)\n",
    "ax[1].scatter(X_kpca[y==1,0], np.zeros((50,1)) +0.02, color='blue', marker='o', alpha=0.5)\n",
    "ax[1].set_ylim([-1,1])\n",
    "ax[0].set_xlabel('PC1')\n",
    "ax[0].set_ylabel('PC2')\n",
    "ax[1].set_xlabel('PC1')\n",
    "plt.show()"
   ]
  }
 ],
 "metadata": {
  "kernelspec": {
   "display_name": "Python 3",
   "language": "python",
   "name": "python3"
  },
  "language_info": {
   "codemirror_mode": {
    "name": "ipython",
    "version": 3
   },
   "file_extension": ".py",
   "mimetype": "text/x-python",
   "name": "python",
   "nbconvert_exporter": "python",
   "pygments_lexer": "ipython3",
   "version": "3.10.5"
  },
  "orig_nbformat": 4
 },
 "nbformat": 4,
 "nbformat_minor": 2
}
