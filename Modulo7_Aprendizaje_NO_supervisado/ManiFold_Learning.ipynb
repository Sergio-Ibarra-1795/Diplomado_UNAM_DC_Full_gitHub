{
 "cells": [
  {
   "attachments": {},
   "cell_type": "markdown",
   "metadata": {},
   "source": [
    "#### <font color=\"#03997A\"> Diplomado en Ciencia de datos UNAM </font>\n",
    "\n",
    "##### <font color=\"#03997A\"> Dr: Eduardo Espinosa A. </font>\n",
    "\n",
    "##### <font color=\"#03997A\"> Modulo 7 Aprendizaje de Maquina NO supervisado </font>\n",
    "\n",
    "##### <font color=\"#03997A\"> Tema 6 Manifold (Kernel PCA) Alumno: Ibarra Ramírez Sergio </font>"
   ]
  },
  {
   "attachments": {},
   "cell_type": "markdown",
   "metadata": {},
   "source": [
    "Ejemplo de Kernel PCA con RBF o Gaussiano"
   ]
  },
  {
   "cell_type": "code",
   "execution_count": 28,
   "metadata": {},
   "outputs": [],
   "source": [
    "import matplotlib \n",
    "import scipy \n",
    "from scipy.spatial.distance import pdist, squareform \n",
    "from scipy.linalg import eigh\n",
    "import numpy as np\n",
    "import matplotlib.pyplot as plt\n"
   ]
  },
  {
   "attachments": {},
   "cell_type": "markdown",
   "metadata": {},
   "source": [
    "Se define la función que aplica el Kernel PCA "
   ]
  },
  {
   "cell_type": "code",
   "execution_count": 30,
   "metadata": {},
   "outputs": [],
   "source": [
    "def rbf_kpca (X, gamma, n_components):\n",
    "    ##1. CREACIÓN DE LA MATRIZ DE DISTANCIA O DE NUCLEOS\n",
    "\n",
    "    ##Se calculan las distancias cuadraticas entre todas las parejas de puntos\n",
    "    ## Obtenemos una lista de distancias\n",
    "    sq_dists = pdist(X,'sqeuclidean') \n",
    "    ## Convertimos la lista a una matriz de distancias\n",
    "    mat_sq_dists = squareform(sq_dists)\n",
    "    ## Vamos a aplicar la exponencial para obtener la lalamda matriz de nueclos K \n",
    "    ## K es entonces la matriz nxn de distancias\n",
    "    K = np.exp(-gamma * mat_sq_dists)\n",
    "\n",
    "\n",
    "    ##2. Centrar la Matriz K de nucleos \n",
    "    N = K.shape[0]\n",
    "    ## Esta es la que se llama 1n \n",
    "    one_n = np.ones((N,N)) /N \n",
    "    ## Ahora si aplicamos como tal el centrado de la matriz K \n",
    "    K = K -one_n.dot(K) - K.dot(one_n) + one_n.dot(K).dot(one_n)\n",
    "\n",
    "\n",
    "    ## 3. Obtenemos los eigenvectores y valores de la matriz centrada\n",
    "    eigenvals, eigenvecs = eigh(K) ## Devuelve los eigenvecs en forma ascendente\n",
    "    ## Se 'invierten los eigenvecs' para obtenerr solos k primeros (que serian los Princpal Components variables)\n",
    "    eigenvals, egenvecs = eigenvals[::-1], eigenvecs[:,::-1]\n",
    "\n",
    "    ##Eigenvectors\n",
    "    alphas = np.column_stack([eigenvecs[:,i] for i in range(n_components)]) \n",
    "\n",
    "    ##Eigenvalues\n",
    "    lamdas = np.column_stack([eigenvals[i] for i in range(n_components)]) \n",
    "    return alphas, lamdas"
   ]
  },
  {
   "attachments": {},
   "cell_type": "markdown",
   "metadata": {},
   "source": [
    "Importamos el conjunto NO LINEALMENTE SEPARABLE DE make_moons"
   ]
  },
  {
   "cell_type": "code",
   "execution_count": 31,
   "metadata": {},
   "outputs": [
    {
     "data": {
      "text/plain": [
       "<matplotlib.collections.PathCollection at 0x2637f9e4b20>"
      ]
     },
     "execution_count": 31,
     "metadata": {},
     "output_type": "execute_result"
    },
    {
     "data": {
      "image/png": "[encoded data removed]",
      "text/plain": [
       "<Figure size 432x288 with 1 Axes>"
      ]
     },
     "metadata": {
      "needs_background": "light"
     },
     "output_type": "display_data"
    }
   ],
   "source": [
    "## Generador de medias lunas \n",
    "from sklearn.datasets import make_moons\n",
    "X, y = make_moons(n_samples=100, random_state=123)\n",
    "\n",
    "#Todos los x cuyo valor de y seea cero 0 uno y la prieimer y segunda columna de eso \n",
    "plt.scatter(X[y==0,0], X[y==0,1], color='red', marker='^', alpha =0.5)\n",
    "\n",
    "plt.scatter(X[y==1,0], X[y==1,1], color='blue', marker='o', alpha =0.5)"
   ]
  },
  {
   "attachments": {},
   "cell_type": "markdown",
   "metadata": {},
   "source": [
    "##### Vamos a aplicar el 'PCA NORMAL' al conjunto make_moons"
   ]
  },
  {
   "cell_type": "code",
   "execution_count": 32,
   "metadata": {},
   "outputs": [
    {
     "data": {
      "text/plain": [
       "array([[-0.2795509 ,  0.34303617],\n",
       "       [-0.42251533, -0.6083743 ],\n",
       "       [-1.11143524, -0.31056455],\n",
       "       [ 0.91009606,  0.4682757 ],\n",
       "       [ 0.01356142, -0.5194961 ],\n",
       "       [-0.55258909, -0.08452989],\n",
       "       [-0.40741947,  0.19974865],\n",
       "       [ 0.55258909,  0.08452989],\n",
       "       [-1.0649998 , -0.3547569 ],\n",
       "       [-0.44363426,  0.14685533],\n",
       "       [ 0.61319152,  0.58547722],\n",
       "       [-0.106304  , -0.5647979 ],\n",
       "       [-0.79597451, -0.52655299],\n",
       "       [ 0.1800669 , -0.42380069],\n",
       "       [ 0.67533755,  0.56975829],\n",
       "       [ 1.38981501, -0.25483572],\n",
       "       [-0.8539697 , -0.49924418],\n",
       "       [ 1.32278775, -0.00802077],\n",
       "       [ 0.36789019, -0.250213  ],\n",
       "       [-0.73634878, -0.55008994],\n",
       "       [ 1.23247827,  0.16146635],\n",
       "       [-1.32278775,  0.00802077],\n",
       "       [ 0.35841461,  0.60781552],\n",
       "       [ 0.96412295,  0.43377483],\n",
       "       [ 1.0649998 ,  0.3547569 ],\n",
       "       [-1.37903292,  0.19164584],\n",
       "       [-1.23247827, -0.16146635],\n",
       "       [-0.23110388,  0.38501356],\n",
       "       [ 0.47638576, -0.0917504 ],\n",
       "       [ 1.37903292, -0.19164584],\n",
       "       [ 0.48652015,  0.60482498],\n",
       "       [-1.3642244 ,  0.1292766 ],\n",
       "       [ 1.15494387,  0.26348786],\n",
       "       [-0.35841461, -0.60781552],\n",
       "       [-1.19534688, -0.21372029],\n",
       "       [-1.29632989, -0.05036755],\n",
       "       [-1.39764333,  0.44672216],\n",
       "       [-1.38236553,  0.57394857],\n",
       "       [ 0.07107173, -0.4911804 ],\n",
       "       [-0.07107173,  0.4911804 ],\n",
       "       [ 0.42251533,  0.6083743 ],\n",
       "       [-1.34545029,  0.06798429],\n",
       "       [ 1.29632989,  0.05036755],\n",
       "       [ 0.23110388, -0.38501356],\n",
       "       [-0.53097533, -0.02418041],\n",
       "       [-0.67533755, -0.56975829],\n",
       "       [-0.12664968,  0.45923818],\n",
       "       [-0.96412295, -0.43377483],\n",
       "       [ 0.04564492,  0.54406893],\n",
       "       [ 0.44363426, -0.14685533],\n",
       "       [ 0.16816656,  0.58159785],\n",
       "       [ 0.79597451,  0.52655299],\n",
       "       [ 0.53097533,  0.02418041],\n",
       "       [ 1.39764333, -0.44672216],\n",
       "       [-0.36789019,  0.250213  ],\n",
       "       [-1.36864655,  0.63656649],\n",
       "       [ 1.01582835,  0.39588333],\n",
       "       [ 1.39913937, -0.38263646],\n",
       "       [-0.55016605, -0.59718215],\n",
       "       [ 1.39652635, -0.31858658],\n",
       "       [ 0.106304  ,  0.5647979 ],\n",
       "       [-1.39913937,  0.38263646],\n",
       "       [ 0.29448139,  0.60315094],\n",
       "       [-0.01356142,  0.5194961 ],\n",
       "       [ 0.55016605,  0.59718215],\n",
       "       [-0.1800669 ,  0.42380069],\n",
       "       [ 0.2795509 , -0.34303617],\n",
       "       [-0.48652015, -0.60482498],\n",
       "       [-0.04564492, -0.54406893],\n",
       "       [-0.47638576,  0.0917504 ],\n",
       "       [ 1.3642244 , -0.1292766 ],\n",
       "       [ 1.19534688,  0.21372029],\n",
       "       [ 0.8539697 ,  0.49924418],\n",
       "       [ 0.50553939, -0.03466029],\n",
       "       [-0.32520887,  0.29804102],\n",
       "       [ 1.36864655, -0.63656649],\n",
       "       [ 0.12664968, -0.45923818],\n",
       "       [-1.39652635,  0.31858658],\n",
       "       [-1.35094381,  0.69817678],\n",
       "       [ 1.34545029, -0.06798429],\n",
       "       [-0.50553939,  0.03466029],\n",
       "       [-0.23097839, -0.59439973],\n",
       "       [ 0.40741947, -0.19974865],\n",
       "       [ 1.35094381, -0.69817678],\n",
       "       [-0.29448139, -0.60315094],\n",
       "       [-1.01582835, -0.39588333],\n",
       "       [ 1.26618544,  0.10694075],\n",
       "       [-0.91009606, -0.4682757 ],\n",
       "       [-1.39204439,  0.51058033],\n",
       "       [ 0.73634878,  0.55008994],\n",
       "       [ 1.39204439, -0.51058033],\n",
       "       [ 1.11143524,  0.31056455],\n",
       "       [-0.61319152, -0.58547722],\n",
       "       [ 1.38236553, -0.57394857],\n",
       "       [-1.26618544, -0.10694075],\n",
       "       [ 0.32520887, -0.29804102],\n",
       "       [-1.15494387, -0.26348786],\n",
       "       [ 0.23097839,  0.59439973],\n",
       "       [-1.38981501,  0.25483572],\n",
       "       [-0.16816656, -0.58159785]])"
      ]
     },
     "execution_count": 32,
     "metadata": {},
     "output_type": "execute_result"
    }
   ],
   "source": [
    "from sklearn.decomposition import PCA\n",
    "pca = PCA(n_components=2)\n",
    "X_pca_normal = pca.fit_transform(X)\n",
    "X_pca_normal"
   ]
  },
  {
   "attachments": {},
   "cell_type": "markdown",
   "metadata": {},
   "source": [
    "Se muestra como el PCA NO ES LINEALMENTE SEPARABLE "
   ]
  },
  {
   "cell_type": "code",
   "execution_count": 33,
   "metadata": {},
   "outputs": [
    {
     "data": {
      "image/png": "[encoded data removed]",
      "text/plain": [
       "<Figure size 720x288 with 2 Axes>"
      ]
     },
     "metadata": {
      "needs_background": "light"
     },
     "output_type": "display_data"
    }
   ],
   "source": [
    "fig,ax = plt.subplots(nrows=1, ncols=2, figsize=(10,4))\n",
    "ax[0].scatter(X_pca_normal[y==0,0], X_pca_normal[y==0,1], color='red', marker='^', alpha=0.5)\n",
    "ax[0].scatter(X_pca_normal[y==1,0], X_pca_normal[y==1,1], color='blue', marker='o', alpha =0.5)\n",
    "ax[1].scatter(X_pca_normal[y==0,0], np.zeros((50,1)) +0.02, color='red', marker='^', alpha=0.5)\n",
    "ax[1].scatter(X_pca_normal[y==1,0], np.zeros((50,1)) +0.02, color='blue', marker='o', alpha=0.5)\n",
    "ax[1].set_ylim([-1,1])\n",
    "ax[0].set_xlabel('PC1')\n",
    "ax[0].set_ylabel('PC2')\n",
    "ax[1].set_xlabel('PC1')\n",
    "plt.show()"
   ]
  },
  {
   "attachments": {},
   "cell_type": "markdown",
   "metadata": {},
   "source": [
    "Ahora si vamos a aplicar el Kernel PCA que habiamos cosntruido anteriormente"
   ]
  },
  {
   "cell_type": "code",
   "execution_count": 34,
   "metadata": {},
   "outputs": [
    {
     "data": {
      "text/plain": [
       "array([[-9.99164520e-02,  2.37866748e-03],\n",
       "       [-1.00506911e-01,  2.24770790e-01],\n",
       "       [-1.00562363e-01,  1.78220395e-01],\n",
       "       [-9.96176109e-02,  2.42105705e-02],\n",
       "       [-9.98162928e-02, -1.03275159e-01],\n",
       "       [-9.99994521e-02, -2.38910659e-04],\n",
       "       [-1.00018829e-01, -7.95025543e-04],\n",
       "       [-9.99995057e-02, -2.30170492e-04],\n",
       "       [-9.93908296e-02, -1.95771704e-01],\n",
       "       [-9.99899592e-02,  2.67536165e-05],\n",
       "       [-1.00435334e-01, -2.60300032e-02],\n",
       "       [-9.97316426e-02, -1.42165492e-01],\n",
       "       [-1.00693071e-01,  2.49504310e-01],\n",
       "       [-1.00084348e-01,  5.08129143e-02],\n",
       "       [-9.95684292e-02,  2.58774053e-02],\n",
       "       [-9.99765741e-02,  1.48266928e-03],\n",
       "       [-9.93023485e-02, -2.44167271e-01],\n",
       "       [-9.99005574e-02,  6.68392830e-03],\n",
       "       [-1.00015494e-01,  9.82548522e-03],\n",
       "       [-9.93190746e-02, -2.52965545e-01],\n",
       "       [-1.00188071e-01, -1.29402988e-02],\n",
       "       [-1.00211903e-01,  6.59185844e-02],\n",
       "       [-1.00421283e-01, -2.19607818e-02],\n",
       "       [-1.00361210e-01, -2.35687388e-02],\n",
       "       [-1.00311672e-01, -2.06205686e-02],\n",
       "       [-9.99189645e-02, -2.56724412e-02],\n",
       "       [-9.96085498e-02, -1.21701478e-01],\n",
       "       [-1.00115127e-01, -4.02378583e-03],\n",
       "       [-9.99977961e-02, -1.31207998e-03],\n",
       "       [-1.00035566e-01, -2.89930795e-03],\n",
       "       [-1.00435539e-01, -2.45124906e-02],\n",
       "       [-1.00116571e-01,  3.65463131e-02],\n",
       "       [-1.00252222e-01, -1.69600333e-02],\n",
       "       [-9.95394285e-02, -2.11975243e-01],\n",
       "       [-1.00451473e-01,  1.40716562e-01],\n",
       "       [-9.97305256e-02, -8.37863250e-02],\n",
       "       [-9.99915152e-02, -2.80732458e-03],\n",
       "       [-9.99984530e-02, -5.76006325e-04],\n",
       "       [-1.00145672e-01,  8.41145479e-02],\n",
       "       [-9.97682754e-02,  8.34283170e-03],\n",
       "       [-9.95685687e-02,  2.28744501e-02],\n",
       "       [-9.98381635e-02, -5.06863054e-02],\n",
       "       [-1.00126225e-01, -8.98236608e-03],\n",
       "       [-9.99384978e-02, -3.75200840e-02],\n",
       "       [-9.99997977e-02, -2.48006475e-04],\n",
       "       [-1.00658035e-01,  2.52571459e-01],\n",
       "       [-1.00190920e-01, -7.03772475e-03],\n",
       "       [-9.93261669e-02, -2.24557052e-01],\n",
       "       [-9.96933354e-02,  1.22393159e-02],\n",
       "       [-1.00003650e-01,  2.39197713e-03],\n",
       "       [-9.96327470e-02,  1.62216126e-02],\n",
       "       [-9.95868832e-02,  2.56326679e-02],\n",
       "       [-9.99993637e-02, -3.19684966e-04],\n",
       "       [-1.00002836e-01, -5.06905002e-04],\n",
       "       [-9.99649527e-02,  7.80158360e-04],\n",
       "       [-9.99997262e-02, -1.63240766e-04],\n",
       "       [-9.96610774e-02,  2.17224900e-02],\n",
       "       [-9.99923496e-02,  3.18845306e-04],\n",
       "       [-1.00592689e-01,  2.44102796e-01],\n",
       "       [-1.00012931e-01, -1.27065269e-03],\n",
       "       [-1.00338166e-01, -1.47259127e-02],\n",
       "       [-1.00016214e-01,  5.12185844e-03],\n",
       "       [-9.95912386e-02,  1.98827576e-02],\n",
       "       [-1.00269441e-01, -1.07336013e-02],\n",
       "       [-9.95619112e-02,  2.49309185e-02],\n",
       "       [-9.98471792e-02,  4.94563236e-03],\n",
       "       [-1.00041199e-01,  2.55753245e-02],\n",
       "       [-9.94472701e-02, -2.36196214e-01],\n",
       "       [-1.00223424e-01,  1.22161680e-01],\n",
       "       [-1.00003464e-01, -3.48562811e-04],\n",
       "       [-9.99463037e-02,  3.60868266e-03],\n",
       "       [-9.97786599e-02,  1.44900687e-02],\n",
       "       [-1.00398316e-01, -2.55439526e-02],\n",
       "       [-1.00000040e-01,  1.07693117e-04],\n",
       "       [-1.00055265e-01, -1.93963775e-03],\n",
       "       [-9.99993962e-02, -2.32024331e-04],\n",
       "       [-9.98861851e-02, -6.71116252e-02],\n",
       "       [-9.99685413e-02, -1.01159614e-02],\n",
       "       [-9.99994617e-02, -2.49176049e-04],\n",
       "       [-1.00073727e-01, -5.51905408e-03],\n",
       "       [-9.99981750e-02, -2.04649125e-04],\n",
       "       [-9.96370803e-02, -1.79642719e-01],\n",
       "       [-9.99908141e-02, -5.71881165e-03],\n",
       "       [-9.99995014e-02, -2.40847561e-04],\n",
       "       [-1.00410840e-01,  1.96177949e-01],\n",
       "       [-1.00645333e-01,  2.10693183e-01],\n",
       "       [-9.98425837e-02,  1.04461002e-02],\n",
       "       [-1.00689967e-01,  2.35153189e-01],\n",
       "       [-1.00002715e-01,  8.01927814e-04],\n",
       "       [-1.00422812e-01, -2.63851352e-02],\n",
       "       [-9.99981614e-02, -1.31854591e-04],\n",
       "       [-9.97160625e-02,  1.83794668e-02],\n",
       "       [-9.93704239e-02, -2.50238603e-01],\n",
       "       [-9.99999101e-02, -2.74627979e-04],\n",
       "       [-1.00328667e-01,  1.01910198e-01],\n",
       "       [-9.99726563e-02, -1.70054255e-02],\n",
       "       [-9.94894766e-02, -1.60358846e-01],\n",
       "       [-1.00389450e-01, -1.85956618e-02],\n",
       "       [-1.00051416e-01,  1.62464035e-02],\n",
       "       [-1.00313761e-01,  1.60849330e-01]])"
      ]
     },
     "execution_count": 34,
     "metadata": {},
     "output_type": "execute_result"
    }
   ],
   "source": [
    "## La X_pca_K almacena las alfas, y la l las lamdas \n",
    "X_pca_K,l = rbf_kpca(X, gamma=15, n_components=2)\n",
    "X_pca_K"
   ]
  },
  {
   "attachments": {},
   "cell_type": "markdown",
   "metadata": {},
   "source": [
    "Se grafica el resultado de X_pca_K"
   ]
  },
  {
   "cell_type": "code",
   "execution_count": 35,
   "metadata": {},
   "outputs": [
    {
     "data": {
      "image/png": "[encoded data removed]",
      "text/plain": [
       "<Figure size 720x288 with 2 Axes>"
      ]
     },
     "metadata": {
      "needs_background": "light"
     },
     "output_type": "display_data"
    }
   ],
   "source": [
    "fig,ax = plt.subplots(nrows=1, ncols=2, figsize=(10,4))\n",
    "ax[0].scatter(X_pca_K[y==0,0], X_pca_K[y==0,1], color='red', marker='^', alpha=0.5)\n",
    "ax[0].scatter(X_pca_K[y==1,0], X_pca_K[y==1,1], color='blue', marker='o', alpha =0.5)\n",
    "ax[1].scatter(X_pca_K[y==0,0], np.zeros((50,1)) +0.02, color='red', marker='^', alpha=0.5)\n",
    "ax[1].scatter(X_pca_K[y==1,0], np.zeros((50,1)) +0.02, color='blue', marker='o', alpha=0.5)\n",
    "ax[1].set_ylim([-1,1])\n",
    "ax[0].set_xlabel('PC1')\n",
    "ax[0].set_ylabel('PC2')\n",
    "ax[1].set_xlabel('PC1')\n",
    "plt.show()"
   ]
  },
  {
   "attachments": {},
   "cell_type": "markdown",
   "metadata": {},
   "source": [
    "Vamos a variar el valor de gamma "
   ]
  },
  {
   "cell_type": "code",
   "execution_count": 36,
   "metadata": {},
   "outputs": [
    {
     "data": {
      "image/png": "[encoded data removed]",
      "text/plain": [
       "<Figure size 720x288 with 2 Axes>"
      ]
     },
     "metadata": {
      "needs_background": "light"
     },
     "output_type": "display_data"
    }
   ],
   "source": [
    "X_pca_K,l = rbf_kpca(X, gamma=10, n_components=2)\n",
    "fig,ax = plt.subplots(nrows=1, ncols=2, figsize=(10,4))\n",
    "ax[0].scatter(X_pca_K[y==0,0], X_pca_K[y==0,1], color='red', marker='^', alpha=0.5)\n",
    "ax[0].scatter(X_pca_K[y==1,0], X_pca_K[y==1,1], color='blue', marker='o', alpha =0.5)\n",
    "ax[1].scatter(X_pca_K[y==0,0], np.zeros((50,1)) +0.02, color='red', marker='^', alpha=0.5)\n",
    "ax[1].scatter(X_pca_K[y==1,0], np.zeros((50,1)) +0.02, color='blue', marker='o', alpha=0.5)\n",
    "ax[1].set_ylim([-1,1])\n",
    "ax[0].set_xlabel('PC1')\n",
    "ax[0].set_ylabel('PC2')\n",
    "ax[1].set_xlabel('PC1')\n",
    "plt.show()"
   ]
  },
  {
   "attachments": {},
   "cell_type": "markdown",
   "metadata": {},
   "source": [
    "#### Ejemplo de implementacion de Manifold con linrerias de sk.learn "
   ]
  },
  {
   "attachments": {},
   "cell_type": "markdown",
   "metadata": {},
   "source": [
    "Importamos los datos "
   ]
  },
  {
   "cell_type": "code",
   "execution_count": null,
   "metadata": {},
   "outputs": [],
   "source": [
    "from sklearn.datasets import make_moons\n",
    "X,y = make_moons(n_samples=100, random_state=123)"
   ]
  },
  {
   "attachments": {},
   "cell_type": "markdown",
   "metadata": {},
   "source": [
    "Creamos y entrenamos el modelo PCA Manifold de sklearn"
   ]
  },
  {
   "cell_type": "code",
   "execution_count": 37,
   "metadata": {},
   "outputs": [
    {
     "data": {
      "text/plain": [
       "array([[-0.19813012, -0.32893502],\n",
       "       [ 0.35038479, -0.18363537],\n",
       "       [ 0.33278344,  0.27303406],\n",
       "       [-0.35861834,  0.13787481],\n",
       "       [ 0.27947114, -0.34646117],\n",
       "       [-0.03231269, -0.09992664],\n",
       "       [-0.1402958 , -0.26393352],\n",
       "       [ 0.03231269, -0.09992664],\n",
       "       [ 0.34107928,  0.24384492],\n",
       "       [-0.11997571, -0.23460267],\n",
       "       [-0.36284598, -0.06785758],\n",
       "       [ 0.30536789, -0.32022674],\n",
       "       [ 0.36407185,  0.05708143],\n",
       "       [ 0.23323782, -0.35027498],\n",
       "       [-0.36450698, -0.02649036],\n",
       "       [-0.19110122,  0.31758295],\n",
       "       [ 0.3619725 ,  0.09811911],\n",
       "       [-0.25930323,  0.35789694],\n",
       "       [ 0.16016551, -0.28967584],\n",
       "       [ 0.36491625,  0.01534889],\n",
       "       [-0.30089306,  0.33640228],\n",
       "       [ 0.25930323,  0.35789694],\n",
       "       [-0.34376065, -0.21775298],\n",
       "       [-0.35401236,  0.17577444],\n",
       "       [-0.34107928,  0.24384492],\n",
       "       [ 0.20934501,  0.33483988],\n",
       "       [ 0.30089306,  0.33640228],\n",
       "       [-0.21607303, -0.34193845],\n",
       "       [ 0.09932993, -0.20228953],\n",
       "       [-0.20934501,  0.33483988],\n",
       "       [-0.35577988, -0.14695458],\n",
       "       [ 0.22683311,  0.34741261],\n",
       "       [-0.3232991 ,  0.29841965],\n",
       "       [ 0.34376065, -0.21775298],\n",
       "       [ 0.31265694,  0.31964198],\n",
       "       [ 0.27416866,  0.35566406],\n",
       "       [ 0.13245717,  0.2402938 ],\n",
       "       [ 0.09146283,  0.17247526],\n",
       "       [ 0.2649936 , -0.35255318],\n",
       "       [-0.2649936 , -0.35255318],\n",
       "       [-0.35038479, -0.18363537],\n",
       "       [ 0.2435057 ,  0.35513358],\n",
       "       [-0.27416866,  0.35566406],\n",
       "       [ 0.21607303, -0.34193845],\n",
       "       [-0.05656415, -0.13318112],\n",
       "       [ 0.36450698, -0.02649036],\n",
       "       [-0.24956408, -0.35382994],\n",
       "       [ 0.35401236,  0.17577444],\n",
       "       [-0.29294509, -0.33563662],\n",
       "       [ 0.11997571, -0.23460267],\n",
       "       [-0.31669638, -0.30044048],\n",
       "       [-0.36407185,  0.05708143],\n",
       "       [ 0.05656415, -0.13318112],\n",
       "       [-0.13245717,  0.2402938 ],\n",
       "       [-0.16016551, -0.28967584],\n",
       "       [ 0.07156393,  0.13691659],\n",
       "       [-0.3481618 ,  0.2112689 ],\n",
       "       [-0.1525819 ,  0.26997043],\n",
       "       [ 0.3599357 , -0.10819164],\n",
       "       [-0.17215982,  0.29586483],\n",
       "       [-0.30536789, -0.32022674],\n",
       "       [ 0.1525819 ,  0.26997043],\n",
       "       [-0.33592278, -0.24885957],\n",
       "       [-0.27947114, -0.34646117],\n",
       "       [-0.3599357 , -0.10819164],\n",
       "       [-0.23323782, -0.35027498],\n",
       "       [ 0.19813012, -0.32893502],\n",
       "       [ 0.35577988, -0.14695458],\n",
       "       [ 0.29294509, -0.33563662],\n",
       "       [-0.09932993, -0.20228953],\n",
       "       [-0.22683311,  0.34741261],\n",
       "       [-0.31265694,  0.31964198],\n",
       "       [-0.3619725 ,  0.09811911],\n",
       "       [ 0.07835894, -0.16798017],\n",
       "       [-0.17947161, -0.31143848],\n",
       "       [-0.07156393,  0.13691659],\n",
       "       [ 0.24956408, -0.35382994],\n",
       "       [ 0.17215982,  0.29586483],\n",
       "       [ 0.05311441,  0.10282916],\n",
       "       [-0.2435057 ,  0.35513358],\n",
       "       [-0.07835894, -0.16798017],\n",
       "       [ 0.32689231, -0.27654473],\n",
       "       [ 0.1402958 , -0.26393352],\n",
       "       [-0.05311441,  0.10282916],\n",
       "       [ 0.33592278, -0.24885957],\n",
       "       [ 0.3481618 ,  0.2112689 ],\n",
       "       [-0.28804847,  0.34846578],\n",
       "       [ 0.35861834,  0.13787481],\n",
       "       [ 0.11196462,  0.207455  ],\n",
       "       [-0.36491625,  0.01534889],\n",
       "       [-0.11196462,  0.207455  ],\n",
       "       [-0.33278344,  0.27303406],\n",
       "       [ 0.36284598, -0.06785758],\n",
       "       [-0.09146283,  0.17247526],\n",
       "       [ 0.28804847,  0.34846578],\n",
       "       [ 0.17947161, -0.31143848],\n",
       "       [ 0.3232991 ,  0.29841965],\n",
       "       [-0.32689231, -0.27654473],\n",
       "       [ 0.19110122,  0.31758295],\n",
       "       [ 0.31669638, -0.30044048]])"
      ]
     },
     "execution_count": 37,
     "metadata": {},
     "output_type": "execute_result"
    }
   ],
   "source": [
    "## Con PCA Manifold de sklearn \n",
    "\n",
    "from sklearn.decomposition import KernelPCA\n",
    "kpca = KernelPCA(n_components=2, kernel='rbf', gamma=15)\n",
    "X_kpca = kpca.fit_transform(X) \n",
    "X_kpca"
   ]
  },
  {
   "attachments": {},
   "cell_type": "markdown",
   "metadata": {},
   "source": [
    "Graficamos el reusltado del PCA Kernel del sklearn"
   ]
  },
  {
   "cell_type": "code",
   "execution_count": 38,
   "metadata": {},
   "outputs": [
    {
     "data": {
      "image/png": "[encoded data removed]",
      "text/plain": [
       "<Figure size 720x288 with 2 Axes>"
      ]
     },
     "metadata": {
      "needs_background": "light"
     },
     "output_type": "display_data"
    }
   ],
   "source": [
    "fig,ax = plt.subplots(nrows=1, ncols=2, figsize=(10,4))\n",
    "ax[0].scatter(X_kpca[y==0,0], X_kpca[y==0,1], color='red', marker='^', alpha=0.5)\n",
    "ax[0].scatter(X_kpca[y==1,0], X_kpca[y==1,1], color='blue', marker='o', alpha =0.5)\n",
    "ax[1].scatter(X_kpca[y==0,0], np.zeros((50,1)) +0.02, color='red', marker='^', alpha=0.5)\n",
    "ax[1].scatter(X_kpca[y==1,0], np.zeros((50,1)) +0.02, color='blue', marker='o', alpha=0.5)\n",
    "ax[1].set_ylim([-1,1])\n",
    "ax[0].set_xlabel('PC1')\n",
    "ax[0].set_ylabel('PC2')\n",
    "ax[1].set_xlabel('PC1')\n",
    "plt.show()"
   ]
  }
 ],
 "metadata": {
  "kernelspec": {
   "display_name": "Python 3",
   "language": "python",
   "name": "python3"
  },
  "language_info": {
   "codemirror_mode": {
    "name": "ipython",
    "version": 3
   },
   "file_extension": ".py",
   "mimetype": "text/x-python",
   "name": "python",
   "nbconvert_exporter": "python",
   "pygments_lexer": "ipython3",
   "version": "3.10.5"
  },
  "orig_nbformat": 4
 },
 "nbformat": 4,
 "nbformat_minor": 2
}
