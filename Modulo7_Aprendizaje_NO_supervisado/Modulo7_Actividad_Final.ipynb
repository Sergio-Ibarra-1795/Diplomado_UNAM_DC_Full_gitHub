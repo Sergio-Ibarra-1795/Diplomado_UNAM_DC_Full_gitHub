{
 "cells": [
  {
   "cell_type": "markdown",
   "metadata": {},
   "source": [
    "#### <font color=\"#03997A\"> Diplomado en Ciencia de datos UNAM </font>\n",
    "\n",
    "##### <font color=\"#03997A\"> Dr: Eduardo Espinosa A. </font>\n",
    "\n",
    "##### <font color=\"#03997A\"> Modulo 7 Aprendizaje de Maquina NO supervisado </font>\n",
    "\n",
    "##### <font color=\"#03997A\"> Actividad Final\n",
    "##### Alumno: Ibarra Ramírez Sergio </font>"
   ]
  },
  {
   "cell_type": "markdown",
   "metadata": {},
   "source": [
    "Vamos a importar la data de Breastcancer "
   ]
  },
  {
   "cell_type": "code",
   "execution_count": 29,
   "metadata": {},
   "outputs": [
    {
     "data": {
      "text/plain": [
       "{'data': array([[1.799e+01, 1.038e+01, 1.228e+02, ..., 2.654e-01, 4.601e-01,\n",
       "         1.189e-01],\n",
       "        [2.057e+01, 1.777e+01, 1.329e+02, ..., 1.860e-01, 2.750e-01,\n",
       "         8.902e-02],\n",
       "        [1.969e+01, 2.125e+01, 1.300e+02, ..., 2.430e-01, 3.613e-01,\n",
       "         8.758e-02],\n",
       "        ...,\n",
       "        [1.660e+01, 2.808e+01, 1.083e+02, ..., 1.418e-01, 2.218e-01,\n",
       "         7.820e-02],\n",
       "        [2.060e+01, 2.933e+01, 1.401e+02, ..., 2.650e-01, 4.087e-01,\n",
       "         1.240e-01],\n",
       "        [7.760e+00, 2.454e+01, 4.792e+01, ..., 0.000e+00, 2.871e-01,\n",
       "         7.039e-02]]),\n",
       " 'target': array([0, 0, 0, 0, 0, 0, 0, 0, 0, 0, 0, 0, 0, 0, 0, 0, 0, 0, 0, 1, 1, 1,\n",
       "        0, 0, 0, 0, 0, 0, 0, 0, 0, 0, 0, 0, 0, 0, 0, 1, 0, 0, 0, 0, 0, 0,\n",
       "        0, 0, 1, 0, 1, 1, 1, 1, 1, 0, 0, 1, 0, 0, 1, 1, 1, 1, 0, 1, 0, 0,\n",
       "        1, 1, 1, 1, 0, 1, 0, 0, 1, 0, 1, 0, 0, 1, 1, 1, 0, 0, 1, 0, 0, 0,\n",
       "        1, 1, 1, 0, 1, 1, 0, 0, 1, 1, 1, 0, 0, 1, 1, 1, 1, 0, 1, 1, 0, 1,\n",
       "        1, 1, 1, 1, 1, 1, 1, 0, 0, 0, 1, 0, 0, 1, 1, 1, 0, 0, 1, 0, 1, 0,\n",
       "        0, 1, 0, 0, 1, 1, 0, 1, 1, 0, 1, 1, 1, 1, 0, 1, 1, 1, 1, 1, 1, 1,\n",
       "        1, 1, 0, 1, 1, 1, 1, 0, 0, 1, 0, 1, 1, 0, 0, 1, 1, 0, 0, 1, 1, 1,\n",
       "        1, 0, 1, 1, 0, 0, 0, 1, 0, 1, 0, 1, 1, 1, 0, 1, 1, 0, 0, 1, 0, 0,\n",
       "        0, 0, 1, 0, 0, 0, 1, 0, 1, 0, 1, 1, 0, 1, 0, 0, 0, 0, 1, 1, 0, 0,\n",
       "        1, 1, 1, 0, 1, 1, 1, 1, 1, 0, 0, 1, 1, 0, 1, 1, 0, 0, 1, 0, 1, 1,\n",
       "        1, 1, 0, 1, 1, 1, 1, 1, 0, 1, 0, 0, 0, 0, 0, 0, 0, 0, 0, 0, 0, 0,\n",
       "        0, 0, 1, 1, 1, 1, 1, 1, 0, 1, 0, 1, 1, 0, 1, 1, 0, 1, 0, 0, 1, 1,\n",
       "        1, 1, 1, 1, 1, 1, 1, 1, 1, 1, 1, 0, 1, 1, 0, 1, 0, 1, 1, 1, 1, 1,\n",
       "        1, 1, 1, 1, 1, 1, 1, 1, 1, 0, 1, 1, 1, 0, 1, 0, 1, 1, 1, 1, 0, 0,\n",
       "        0, 1, 1, 1, 1, 0, 1, 0, 1, 0, 1, 1, 1, 0, 1, 1, 1, 1, 1, 1, 1, 0,\n",
       "        0, 0, 1, 1, 1, 1, 1, 1, 1, 1, 1, 1, 1, 0, 0, 1, 0, 0, 0, 1, 0, 0,\n",
       "        1, 1, 1, 1, 1, 0, 1, 1, 1, 1, 1, 0, 1, 1, 1, 0, 1, 1, 0, 0, 1, 1,\n",
       "        1, 1, 1, 1, 0, 1, 1, 1, 1, 1, 1, 1, 0, 1, 1, 1, 1, 1, 0, 1, 1, 0,\n",
       "        1, 1, 1, 1, 1, 1, 1, 1, 1, 1, 1, 1, 0, 1, 0, 0, 1, 0, 1, 1, 1, 1,\n",
       "        1, 0, 1, 1, 0, 1, 0, 1, 1, 0, 1, 0, 1, 1, 1, 1, 1, 1, 1, 1, 0, 0,\n",
       "        1, 1, 1, 1, 1, 1, 0, 1, 1, 1, 1, 1, 1, 1, 1, 1, 1, 0, 1, 1, 1, 1,\n",
       "        1, 1, 1, 0, 1, 0, 1, 1, 0, 1, 1, 1, 1, 1, 0, 0, 1, 0, 1, 0, 1, 1,\n",
       "        1, 1, 1, 0, 1, 1, 0, 1, 0, 1, 0, 0, 1, 1, 1, 0, 1, 1, 1, 1, 1, 1,\n",
       "        1, 1, 1, 1, 1, 0, 1, 0, 0, 1, 1, 1, 1, 1, 1, 1, 1, 1, 1, 1, 1, 1,\n",
       "        1, 1, 1, 1, 1, 1, 1, 1, 1, 1, 1, 1, 0, 0, 0, 0, 0, 0, 1]),\n",
       " 'frame': None,\n",
       " 'target_names': array(['malignant', 'benign'], dtype='<U9'),\n",
       " 'DESCR': '.. _breast_cancer_dataset:\\n\\nBreast cancer wisconsin (diagnostic) dataset\\n--------------------------------------------\\n\\n**Data Set Characteristics:**\\n\\n    :Number of Instances: 569\\n\\n    :Number of Attributes: 30 numeric, predictive attributes and the class\\n\\n    :Attribute Information:\\n        - radius (mean of distances from center to points on the perimeter)\\n        - texture (standard deviation of gray-scale values)\\n        - perimeter\\n        - area\\n        - smoothness (local variation in radius lengths)\\n        - compactness (perimeter^2 / area - 1.0)\\n        - concavity (severity of concave portions of the contour)\\n        - concave points (number of concave portions of the contour)\\n        - symmetry\\n        - fractal dimension (\"coastline approximation\" - 1)\\n\\n        The mean, standard error, and \"worst\" or largest (mean of the three\\n        worst/largest values) of these features were computed for each image,\\n        resulting in 30 features.  For instance, field 0 is Mean Radius, field\\n        10 is Radius SE, field 20 is Worst Radius.\\n\\n        - class:\\n                - WDBC-Malignant\\n                - WDBC-Benign\\n\\n    :Summary Statistics:\\n\\n    ===================================== ====== ======\\n                                           Min    Max\\n    ===================================== ====== ======\\n    radius (mean):                        6.981  28.11\\n    texture (mean):                       9.71   39.28\\n    perimeter (mean):                     43.79  188.5\\n    area (mean):                          143.5  2501.0\\n    smoothness (mean):                    0.053  0.163\\n    compactness (mean):                   0.019  0.345\\n    concavity (mean):                     0.0    0.427\\n    concave points (mean):                0.0    0.201\\n    symmetry (mean):                      0.106  0.304\\n    fractal dimension (mean):             0.05   0.097\\n    radius (standard error):              0.112  2.873\\n    texture (standard error):             0.36   4.885\\n    perimeter (standard error):           0.757  21.98\\n    area (standard error):                6.802  542.2\\n    smoothness (standard error):          0.002  0.031\\n    compactness (standard error):         0.002  0.135\\n    concavity (standard error):           0.0    0.396\\n    concave points (standard error):      0.0    0.053\\n    symmetry (standard error):            0.008  0.079\\n    fractal dimension (standard error):   0.001  0.03\\n    radius (worst):                       7.93   36.04\\n    texture (worst):                      12.02  49.54\\n    perimeter (worst):                    50.41  251.2\\n    area (worst):                         185.2  4254.0\\n    smoothness (worst):                   0.071  0.223\\n    compactness (worst):                  0.027  1.058\\n    concavity (worst):                    0.0    1.252\\n    concave points (worst):               0.0    0.291\\n    symmetry (worst):                     0.156  0.664\\n    fractal dimension (worst):            0.055  0.208\\n    ===================================== ====== ======\\n\\n    :Missing Attribute Values: None\\n\\n    :Class Distribution: 212 - Malignant, 357 - Benign\\n\\n    :Creator:  Dr. William H. Wolberg, W. Nick Street, Olvi L. Mangasarian\\n\\n    :Donor: Nick Street\\n\\n    :Date: November, 1995\\n\\nThis is a copy of UCI ML Breast Cancer Wisconsin (Diagnostic) datasets.\\nhttps://goo.gl/U2Uwz2\\n\\nFeatures are computed from a digitized image of a fine needle\\naspirate (FNA) of a breast mass.  They describe\\ncharacteristics of the cell nuclei present in the image.\\n\\nSeparating plane described above was obtained using\\nMultisurface Method-Tree (MSM-T) [K. P. Bennett, \"Decision Tree\\nConstruction Via Linear Programming.\" Proceedings of the 4th\\nMidwest Artificial Intelligence and Cognitive Science Society,\\npp. 97-101, 1992], a classification method which uses linear\\nprogramming to construct a decision tree.  Relevant features\\nwere selected using an exhaustive search in the space of 1-4\\nfeatures and 1-3 separating planes.\\n\\nThe actual linear program used to obtain the separating plane\\nin the 3-dimensional space is that described in:\\n[K. P. Bennett and O. L. Mangasarian: \"Robust Linear\\nProgramming Discrimination of Two Linearly Inseparable Sets\",\\nOptimization Methods and Software 1, 1992, 23-34].\\n\\nThis database is also available through the UW CS ftp server:\\n\\nftp ftp.cs.wisc.edu\\ncd math-prog/cpo-dataset/machine-learn/WDBC/\\n\\n.. topic:: References\\n\\n   - W.N. Street, W.H. Wolberg and O.L. Mangasarian. Nuclear feature extraction \\n     for breast tumor diagnosis. IS&T/SPIE 1993 International Symposium on \\n     Electronic Imaging: Science and Technology, volume 1905, pages 861-870,\\n     San Jose, CA, 1993.\\n   - O.L. Mangasarian, W.N. Street and W.H. Wolberg. Breast cancer diagnosis and \\n     prognosis via linear programming. Operations Research, 43(4), pages 570-577, \\n     July-August 1995.\\n   - W.H. Wolberg, W.N. Street, and O.L. Mangasarian. Machine learning techniques\\n     to diagnose breast cancer from fine-needle aspirates. Cancer Letters 77 (1994) \\n     163-171.',\n",
       " 'feature_names': array(['mean radius', 'mean texture', 'mean perimeter', 'mean area',\n",
       "        'mean smoothness', 'mean compactness', 'mean concavity',\n",
       "        'mean concave points', 'mean symmetry', 'mean fractal dimension',\n",
       "        'radius error', 'texture error', 'perimeter error', 'area error',\n",
       "        'smoothness error', 'compactness error', 'concavity error',\n",
       "        'concave points error', 'symmetry error',\n",
       "        'fractal dimension error', 'worst radius', 'worst texture',\n",
       "        'worst perimeter', 'worst area', 'worst smoothness',\n",
       "        'worst compactness', 'worst concavity', 'worst concave points',\n",
       "        'worst symmetry', 'worst fractal dimension'], dtype='<U23'),\n",
       " 'filename': 'breast_cancer.csv',\n",
       " 'data_module': 'sklearn.datasets.data'}"
      ]
     },
     "execution_count": 29,
     "metadata": {},
     "output_type": "execute_result"
    }
   ],
   "source": [
    "from sklearn.datasets import load_breast_cancer\n",
    "\n",
    "breast_cancer = load_breast_cancer()\n",
    "breast_cancer\n"
   ]
  },
  {
   "cell_type": "code",
   "execution_count": 3,
   "metadata": {},
   "outputs": [
    {
     "data": {
      "text/plain": [
       "'.. _breast_cancer_dataset:\\n\\nBreast cancer wisconsin (diagnostic) dataset\\n--------------------------------------------\\n\\n**Data Set Characteristics:**\\n\\n    :Number of Instances: 569\\n\\n    :Number of Attributes: 30 numeric, predictive attributes and the class\\n\\n    :Attribute Information:\\n        - radius (mean of distances from center to points on the perimeter)\\n        - texture (standard deviation of gray-scale values)\\n        - perimeter\\n        - area\\n        - smoothness (local variation in radius lengths)\\n        - compactness (perimeter^2 / area - 1.0)\\n        - concavity (severity of concave portions of the contour)\\n        - concave points (number of concave portions of the contour)\\n        - symmetry\\n        - fractal dimension (\"coastline approximation\" - 1)\\n\\n        The mean, standard error, and \"worst\" or largest (mean of the three\\n        worst/largest values) of these features were computed for each image,\\n        resulting in 30 features.  For instance, field 0 is Mean Radius, field\\n        10 is Radius SE, field 20 is Worst Radius.\\n\\n        - class:\\n                - WDBC-Malignant\\n                - WDBC-Benign\\n\\n    :Summary Statistics:\\n\\n    ===================================== ====== ======\\n                                           Min    Max\\n    ===================================== ====== ======\\n    radius (mean):                        6.981  28.11\\n    texture (mean):                       9.71   39.28\\n    perimeter (mean):                     43.79  188.5\\n    area (mean):                          143.5  2501.0\\n    smoothness (mean):                    0.053  0.163\\n    compactness (mean):                   0.019  0.345\\n    concavity (mean):                     0.0    0.427\\n    concave points (mean):                0.0    0.201\\n    symmetry (mean):                      0.106  0.304\\n    fractal dimension (mean):             0.05   0.097\\n    radius (standard error):              0.112  2.873\\n    texture (standard error):             0.36   4.885\\n    perimeter (standard error):           0.757  21.98\\n    area (standard error):                6.802  542.2\\n    smoothness (standard error):          0.002  0.031\\n    compactness (standard error):         0.002  0.135\\n    concavity (standard error):           0.0    0.396\\n    concave points (standard error):      0.0    0.053\\n    symmetry (standard error):            0.008  0.079\\n    fractal dimension (standard error):   0.001  0.03\\n    radius (worst):                       7.93   36.04\\n    texture (worst):                      12.02  49.54\\n    perimeter (worst):                    50.41  251.2\\n    area (worst):                         185.2  4254.0\\n    smoothness (worst):                   0.071  0.223\\n    compactness (worst):                  0.027  1.058\\n    concavity (worst):                    0.0    1.252\\n    concave points (worst):               0.0    0.291\\n    symmetry (worst):                     0.156  0.664\\n    fractal dimension (worst):            0.055  0.208\\n    ===================================== ====== ======\\n\\n    :Missing Attribute Values: None\\n\\n    :Class Distribution: 212 - Malignant, 357 - Benign\\n\\n    :Creator:  Dr. William H. Wolberg, W. Nick Street, Olvi L. Mangasarian\\n\\n    :Donor: Nick Street\\n\\n    :Date: November, 1995\\n\\nThis is a copy of UCI ML Breast Cancer Wisconsin (Diagnostic) datasets.\\nhttps://goo.gl/U2Uwz2\\n\\nFeatures are computed from a digitized image of a fine needle\\naspirate (FNA) of a breast mass.  They describe\\ncharacteristics of the cell nuclei present in the image.\\n\\nSeparating plane described above was obtained using\\nMultisurface Method-Tree (MSM-T) [K. P. Bennett, \"Decision Tree\\nConstruction Via Linear Programming.\" Proceedings of the 4th\\nMidwest Artificial Intelligence and Cognitive Science Society,\\npp. 97-101, 1992], a classification method which uses linear\\nprogramming to construct a decision tree.  Relevant features\\nwere selected using an exhaustive search in the space of 1-4\\nfeatures and 1-3 separating planes.\\n\\nThe actual linear program used to obtain the separating plane\\nin the 3-dimensional space is that described in:\\n[K. P. Bennett and O. L. Mangasarian: \"Robust Linear\\nProgramming Discrimination of Two Linearly Inseparable Sets\",\\nOptimization Methods and Software 1, 1992, 23-34].\\n\\nThis database is also available through the UW CS ftp server:\\n\\nftp ftp.cs.wisc.edu\\ncd math-prog/cpo-dataset/machine-learn/WDBC/\\n\\n.. topic:: References\\n\\n   - W.N. Street, W.H. Wolberg and O.L. Mangasarian. Nuclear feature extraction \\n     for breast tumor diagnosis. IS&T/SPIE 1993 International Symposium on \\n     Electronic Imaging: Science and Technology, volume 1905, pages 861-870,\\n     San Jose, CA, 1993.\\n   - O.L. Mangasarian, W.N. Street and W.H. Wolberg. Breast cancer diagnosis and \\n     prognosis via linear programming. Operations Research, 43(4), pages 570-577, \\n     July-August 1995.\\n   - W.H. Wolberg, W.N. Street, and O.L. Mangasarian. Machine learning techniques\\n     to diagnose breast cancer from fine-needle aspirates. Cancer Letters 77 (1994) \\n     163-171.'"
      ]
     },
     "execution_count": 3,
     "metadata": {},
     "output_type": "execute_result"
    }
   ],
   "source": [
    "breast_cancer.DESCR"
   ]
  },
  {
   "cell_type": "code",
   "execution_count": 30,
   "metadata": {},
   "outputs": [
    {
     "data": {
      "text/plain": [
       "array([[1.799e+01, 1.038e+01, 1.228e+02, ..., 2.654e-01, 4.601e-01,\n",
       "        1.189e-01],\n",
       "       [2.057e+01, 1.777e+01, 1.329e+02, ..., 1.860e-01, 2.750e-01,\n",
       "        8.902e-02],\n",
       "       [1.969e+01, 2.125e+01, 1.300e+02, ..., 2.430e-01, 3.613e-01,\n",
       "        8.758e-02],\n",
       "       ...,\n",
       "       [1.660e+01, 2.808e+01, 1.083e+02, ..., 1.418e-01, 2.218e-01,\n",
       "        7.820e-02],\n",
       "       [2.060e+01, 2.933e+01, 1.401e+02, ..., 2.650e-01, 4.087e-01,\n",
       "        1.240e-01],\n",
       "       [7.760e+00, 2.454e+01, 4.792e+01, ..., 0.000e+00, 2.871e-01,\n",
       "        7.039e-02]])"
      ]
     },
     "execution_count": 30,
     "metadata": {},
     "output_type": "execute_result"
    }
   ],
   "source": [
    "X_breast_cancer = breast_cancer.data  # Features\n",
    "X_breast_cancer\n"
   ]
  },
  {
   "cell_type": "code",
   "execution_count": 11,
   "metadata": {},
   "outputs": [
    {
     "data": {
      "text/plain": [
       "array([0, 0, 0, 0, 0, 0, 0, 0, 0, 0, 0, 0, 0, 0, 0, 0, 0, 0, 0, 1, 1, 1,\n",
       "       0, 0, 0, 0, 0, 0, 0, 0, 0, 0, 0, 0, 0, 0, 0, 1, 0, 0, 0, 0, 0, 0,\n",
       "       0, 0, 1, 0, 1, 1, 1, 1, 1, 0, 0, 1, 0, 0, 1, 1, 1, 1, 0, 1, 0, 0,\n",
       "       1, 1, 1, 1, 0, 1, 0, 0, 1, 0, 1, 0, 0, 1, 1, 1, 0, 0, 1, 0, 0, 0,\n",
       "       1, 1, 1, 0, 1, 1, 0, 0, 1, 1, 1, 0, 0, 1, 1, 1, 1, 0, 1, 1, 0, 1,\n",
       "       1, 1, 1, 1, 1, 1, 1, 0, 0, 0, 1, 0, 0, 1, 1, 1, 0, 0, 1, 0, 1, 0,\n",
       "       0, 1, 0, 0, 1, 1, 0, 1, 1, 0, 1, 1, 1, 1, 0, 1, 1, 1, 1, 1, 1, 1,\n",
       "       1, 1, 0, 1, 1, 1, 1, 0, 0, 1, 0, 1, 1, 0, 0, 1, 1, 0, 0, 1, 1, 1,\n",
       "       1, 0, 1, 1, 0, 0, 0, 1, 0, 1, 0, 1, 1, 1, 0, 1, 1, 0, 0, 1, 0, 0,\n",
       "       0, 0, 1, 0, 0, 0, 1, 0, 1, 0, 1, 1, 0, 1, 0, 0, 0, 0, 1, 1, 0, 0,\n",
       "       1, 1, 1, 0, 1, 1, 1, 1, 1, 0, 0, 1, 1, 0, 1, 1, 0, 0, 1, 0, 1, 1,\n",
       "       1, 1, 0, 1, 1, 1, 1, 1, 0, 1, 0, 0, 0, 0, 0, 0, 0, 0, 0, 0, 0, 0,\n",
       "       0, 0, 1, 1, 1, 1, 1, 1, 0, 1, 0, 1, 1, 0, 1, 1, 0, 1, 0, 0, 1, 1,\n",
       "       1, 1, 1, 1, 1, 1, 1, 1, 1, 1, 1, 0, 1, 1, 0, 1, 0, 1, 1, 1, 1, 1,\n",
       "       1, 1, 1, 1, 1, 1, 1, 1, 1, 0, 1, 1, 1, 0, 1, 0, 1, 1, 1, 1, 0, 0,\n",
       "       0, 1, 1, 1, 1, 0, 1, 0, 1, 0, 1, 1, 1, 0, 1, 1, 1, 1, 1, 1, 1, 0,\n",
       "       0, 0, 1, 1, 1, 1, 1, 1, 1, 1, 1, 1, 1, 0, 0, 1, 0, 0, 0, 1, 0, 0,\n",
       "       1, 1, 1, 1, 1, 0, 1, 1, 1, 1, 1, 0, 1, 1, 1, 0, 1, 1, 0, 0, 1, 1,\n",
       "       1, 1, 1, 1, 0, 1, 1, 1, 1, 1, 1, 1, 0, 1, 1, 1, 1, 1, 0, 1, 1, 0,\n",
       "       1, 1, 1, 1, 1, 1, 1, 1, 1, 1, 1, 1, 0, 1, 0, 0, 1, 0, 1, 1, 1, 1,\n",
       "       1, 0, 1, 1, 0, 1, 0, 1, 1, 0, 1, 0, 1, 1, 1, 1, 1, 1, 1, 1, 0, 0,\n",
       "       1, 1, 1, 1, 1, 1, 0, 1, 1, 1, 1, 1, 1, 1, 1, 1, 1, 0, 1, 1, 1, 1,\n",
       "       1, 1, 1, 0, 1, 0, 1, 1, 0, 1, 1, 1, 1, 1, 0, 0, 1, 0, 1, 0, 1, 1,\n",
       "       1, 1, 1, 0, 1, 1, 0, 1, 0, 1, 0, 0, 1, 1, 1, 0, 1, 1, 1, 1, 1, 1,\n",
       "       1, 1, 1, 1, 1, 0, 1, 0, 0, 1, 1, 1, 1, 1, 1, 1, 1, 1, 1, 1, 1, 1,\n",
       "       1, 1, 1, 1, 1, 1, 1, 1, 1, 1, 1, 1, 0, 0, 0, 0, 0, 0, 1])"
      ]
     },
     "execution_count": 11,
     "metadata": {},
     "output_type": "execute_result"
    }
   ],
   "source": [
    "y_breast_cancer = breast_cancer.target  # Target variable\n",
    "y_breast_cancer"
   ]
  },
  {
   "cell_type": "markdown",
   "metadata": {},
   "source": [
    "#### Gaussian Mixture Model implementado a data de breast_cancer"
   ]
  },
  {
   "cell_type": "code",
   "execution_count": 12,
   "metadata": {},
   "outputs": [
    {
     "data": {
      "text/plain": [
       "array([0, 0, 0, 0, 0, 0, 0, 0, 0, 0, 0, 0, 0, 1, 0, 0, 0, 0, 0, 1, 1, 1,\n",
       "       0, 0, 0, 0, 0, 0, 0, 0, 0, 0, 0, 0, 0, 0, 0, 1, 1, 0, 1, 1, 0, 0,\n",
       "       0, 0, 1, 0, 1, 1, 1, 1, 1, 0, 0, 1, 0, 0, 1, 1, 1, 1, 0, 1, 0, 0,\n",
       "       1, 1, 1, 1, 0, 1, 0, 1, 1, 0, 1, 0, 0, 1, 1, 0, 0, 0, 1, 0, 1, 0,\n",
       "       1, 1, 1, 1, 1, 1, 0, 0, 1, 1, 1, 1, 0, 1, 1, 1, 1, 0, 1, 1, 0, 1,\n",
       "       1, 1, 1, 1, 1, 1, 1, 0, 0, 0, 1, 0, 0, 1, 1, 1, 0, 0, 1, 0, 1, 0,\n",
       "       0, 1, 0, 1, 1, 1, 0, 1, 1, 0, 1, 1, 1, 1, 0, 1, 1, 1, 1, 1, 1, 1,\n",
       "       1, 1, 0, 0, 1, 1, 1, 0, 0, 1, 0, 1, 1, 0, 0, 1, 1, 0, 0, 1, 1, 1,\n",
       "       1, 0, 1, 1, 0, 0, 0, 1, 0, 1, 0, 1, 1, 1, 0, 1, 1, 0, 0, 1, 0, 0,\n",
       "       0, 0, 1, 0, 0, 0, 1, 0, 1, 0, 0, 1, 0, 1, 0, 1, 0, 1, 1, 1, 0, 0,\n",
       "       1, 1, 1, 0, 1, 1, 1, 0, 1, 0, 0, 1, 1, 0, 1, 1, 0, 0, 1, 0, 1, 1,\n",
       "       1, 1, 0, 1, 1, 0, 1, 1, 0, 1, 0, 0, 0, 1, 0, 0, 0, 0, 0, 0, 0, 1,\n",
       "       0, 0, 1, 1, 1, 1, 1, 1, 0, 1, 0, 1, 1, 0, 1, 1, 0, 1, 0, 0, 1, 1,\n",
       "       1, 1, 1, 1, 1, 1, 1, 1, 1, 1, 1, 1, 1, 1, 0, 1, 0, 1, 1, 1, 1, 1,\n",
       "       1, 1, 1, 1, 1, 1, 1, 1, 1, 0, 1, 1, 1, 0, 1, 0, 1, 1, 1, 1, 0, 0,\n",
       "       0, 1, 1, 1, 1, 0, 1, 0, 1, 0, 1, 1, 1, 0, 1, 1, 1, 1, 1, 1, 1, 0,\n",
       "       0, 0, 1, 1, 1, 1, 1, 1, 1, 1, 1, 1, 1, 0, 0, 1, 0, 0, 0, 1, 0, 0,\n",
       "       1, 0, 1, 1, 1, 0, 1, 1, 1, 1, 1, 1, 1, 1, 1, 0, 1, 1, 0, 0, 1, 1,\n",
       "       1, 1, 1, 1, 0, 1, 1, 1, 1, 1, 1, 1, 0, 1, 1, 1, 1, 1, 1, 1, 1, 0,\n",
       "       1, 1, 1, 0, 1, 1, 1, 1, 1, 1, 1, 1, 0, 1, 0, 0, 1, 0, 1, 1, 1, 1,\n",
       "       1, 0, 1, 1, 0, 1, 0, 1, 1, 0, 1, 0, 1, 1, 1, 1, 1, 1, 1, 1, 0, 0,\n",
       "       1, 1, 1, 0, 1, 1, 0, 1, 1, 1, 1, 1, 1, 1, 1, 1, 1, 0, 1, 1, 1, 1,\n",
       "       1, 1, 1, 0, 1, 0, 1, 0, 0, 1, 1, 1, 1, 1, 0, 0, 1, 0, 1, 0, 1, 1,\n",
       "       1, 1, 0, 0, 1, 1, 0, 1, 0, 1, 0, 0, 1, 1, 1, 0, 1, 1, 1, 1, 1, 1,\n",
       "       1, 1, 1, 1, 1, 0, 1, 0, 1, 1, 1, 1, 1, 0, 1, 1, 1, 1, 1, 1, 1, 1,\n",
       "       1, 1, 1, 1, 1, 1, 1, 1, 1, 1, 1, 1, 0, 0, 0, 0, 0, 0, 1],\n",
       "      dtype=int64)"
      ]
     },
     "execution_count": 12,
     "metadata": {},
     "output_type": "execute_result"
    }
   ],
   "source": [
    "from sklearn.mixture import GaussianMixture\n",
    "\n",
    "gmm = GaussianMixture(n_components=2)  # Set the desired number of clusters\n",
    "gmm_breast_cancer = gmm.fit(X_breast_cancer)\n",
    "labels_gmm_breast_cancer = gmm_breast_cancer.predict(X_breast_cancer)\n",
    "labels_gmm_breast_cancer"
   ]
  },
  {
   "cell_type": "markdown",
   "metadata": {},
   "source": [
    "Veamos que tal resutó nuestro modelo GMM para la clasificación de pacientes de breast_cancer "
   ]
  },
  {
   "cell_type": "code",
   "execution_count": 13,
   "metadata": {},
   "outputs": [
    {
     "data": {
      "text/plain": [
       "0.9507908611599297"
      ]
     },
     "execution_count": 13,
     "metadata": {},
     "output_type": "execute_result"
    }
   ],
   "source": [
    "from sklearn.metrics import accuracy_score\n",
    "accuracy_score(y_breast_cancer,labels_gmm_breast_cancer)"
   ]
  },
  {
   "cell_type": "markdown",
   "metadata": {},
   "source": [
    "El 95% de los casos son clasificados correctamente usando GMM model para la data de breast_cancer"
   ]
  },
  {
   "cell_type": "code",
   "execution_count": 14,
   "metadata": {},
   "outputs": [
    {
     "data": {
      "text/plain": [
       "0.953168044077135"
      ]
     },
     "execution_count": 14,
     "metadata": {},
     "output_type": "execute_result"
    }
   ],
   "source": [
    "from sklearn.metrics import precision_score\n",
    "\n",
    "precision_score(y_breast_cancer,labels_gmm_breast_cancer)"
   ]
  },
  {
   "cell_type": "markdown",
   "metadata": {},
   "source": [
    "#### PCA  Model implementado a data de breast_cancer"
   ]
  },
  {
   "cell_type": "code",
   "execution_count": 15,
   "metadata": {},
   "outputs": [
    {
     "data": {
      "text/plain": [
       "array([[1160.1425737 , -293.91754364],\n",
       "       [1269.12244319,   15.63018184],\n",
       "       [ 995.79388896,   39.15674324],\n",
       "       ...,\n",
       "       [ 314.50175618,   47.55352518],\n",
       "       [1124.85811531,   34.12922497],\n",
       "       [-771.52762188,  -88.64310636]])"
      ]
     },
     "execution_count": 15,
     "metadata": {},
     "output_type": "execute_result"
    }
   ],
   "source": []
  },
  {
   "cell_type": "markdown",
   "metadata": {},
   "source": [
    "Vamos a estandarizar las variables antes de aplivar el modelo PCA "
   ]
  },
  {
   "cell_type": "code",
   "execution_count": 25,
   "metadata": {},
   "outputs": [
    {
     "data": {
      "text/plain": [
       "array([[-0.34858709, -0.72893575, -0.37604236, ..., -0.10056399,\n",
       "         0.81722799,  0.7203713 ],\n",
       "       [-0.36911462,  2.19384349, -0.403318  , ..., -0.7298559 ,\n",
       "        -0.83218513, -0.6251055 ],\n",
       "       [-0.38964215, -1.39958897, -0.45488602, ..., -1.11714817,\n",
       "        -1.7959791 , -0.58086907],\n",
       "       ...,\n",
       "       [ 0.03557098, -0.24180587, -0.03168737, ..., -0.56939962,\n",
       "        -0.40019598, -0.37577291],\n",
       "       [ 0.64846439,  0.91824294,  0.72606407, ...,  1.74383228,\n",
       "         3.18007773,  0.73760627],\n",
       "       [ 2.22028673, -0.45025214,  2.08558438, ...,  1.08158262,\n",
       "        -0.60637262, -1.05483079]])"
      ]
     },
     "execution_count": 25,
     "metadata": {},
     "output_type": "execute_result"
    }
   ],
   "source": [
    "from tables import tests\n",
    "from sklearn.model_selection import train_test_split\n",
    "\n",
    "\n",
    "X_train_breast_cancer, X_test_breast_cancer, y_train_breast_cancer, y_test_breast_cancer = train_test_split(X_breast_cancer, y_breast_cancer, test_size=0.3)\n",
    "\n",
    "from sklearn.preprocessing import StandardScaler\n",
    "\n",
    "sc = StandardScaler()  # Add parentheses to initialize the StandardScaler object\n",
    "\n",
    "\n",
    "## Cuando uno ajusta el modelo se ajusta con los datos de entrenamienmt\n",
    "X_train_breast_cancer_std = sc.fit_transform(X_train_breast_cancer)  # Pass X_train as an argument to fit_transform()\n",
    "\n",
    "## Y para le prueba YA NO SE AJUSTE, SOLO SE TRANSFORMA\n",
    "X_test_breast_cancer_std = sc.transform(X_test_breast_cancer)\n",
    "\n",
    "X_train_breast_cancer_std"
   ]
  },
  {
   "cell_type": "markdown",
   "metadata": {},
   "source": [
    "Aplicamos el modelo PCA para reducir los componentes "
   ]
  },
  {
   "cell_type": "code",
   "execution_count": 26,
   "metadata": {},
   "outputs": [
    {
     "data": {
      "text/plain": [
       "array([[-5.90703951e-01,  1.92099168e+00,  1.40267306e+00,\n",
       "         1.07945077e-01, -1.59317408e+00],\n",
       "       [-4.12635836e+00, -1.32267589e+00,  8.74785669e-01,\n",
       "         8.87026593e-02, -6.05539849e-01],\n",
       "       [ 8.23215405e-01,  4.63569607e-01, -2.66664128e+00,\n",
       "        -9.19233504e-01, -7.62634495e-02],\n",
       "       [ 4.33817141e+00,  8.74231476e-01, -8.84701314e-01,\n",
       "         3.07903945e-02, -5.46224397e-01],\n",
       "       [ 6.66769612e+00, -1.74949750e+00,  7.47135264e-01,\n",
       "        -1.56642160e+00,  3.00701739e-01],\n",
       "       [ 6.30458771e+00, -6.89745873e-01, -1.74433950e-01,\n",
       "        -8.74947313e-01, -9.09576666e-01],\n",
       "       [ 3.90504817e-01,  2.26564829e+00,  5.59536029e-01,\n",
       "         1.37512278e-01, -8.94117882e-02],\n",
       "       [-4.64643801e+00, -7.07968190e-01,  1.23967773e-01,\n",
       "         4.00223780e-01,  5.83519193e-01],\n",
       "       [-1.25158070e+00, -1.79871715e+00,  5.44909939e-01,\n",
       "        -1.76525868e+00, -8.81515062e-02],\n",
       "       [ 4.49129119e+00, -5.15403968e+00, -4.63100692e-01,\n",
       "        -6.79487694e-01, -5.08767744e-01],\n",
       "       [ 9.30634651e+00, -5.86190463e-01,  2.87297612e-01,\n",
       "        -8.00849936e-01,  6.00453430e-01],\n",
       "       [-3.77989982e+00, -1.48714941e+00, -1.18746428e+00,\n",
       "         6.37016310e-01,  5.26971639e-01],\n",
       "       [-2.75837216e+00, -1.02488404e+00,  8.98592140e-01,\n",
       "        -1.00134698e+00, -1.11292127e-01],\n",
       "       [-4.43552383e-01,  1.32906786e+00, -9.99694749e-01,\n",
       "         2.20823690e-01,  4.85132273e-01],\n",
       "       [ 2.63814514e+00, -1.45466680e+00,  7.62052020e-01,\n",
       "        -2.27690348e+00,  1.31727434e+00],\n",
       "       [-1.37800807e+00,  3.76569882e+00,  1.47199856e+00,\n",
       "         2.91095960e-03, -2.30089018e-01],\n",
       "       [-3.20940646e-01,  1.88843615e-01, -5.54652190e-01,\n",
       "        -5.86886219e-01,  1.53168986e+00],\n",
       "       [ 4.62929809e-01,  1.24628436e+00,  2.19321113e+00,\n",
       "        -5.75704568e-01,  1.54010752e+00],\n",
       "       [ 4.52926044e+00,  4.95894012e+00, -2.92590404e+00,\n",
       "        -1.91885314e+00,  1.03760404e+00],\n",
       "       [ 3.31904639e+00,  3.44009351e+00, -3.18078550e+00,\n",
       "        -7.14486219e-01, -1.72797314e+00],\n",
       "       [ 6.12607766e+00,  3.48422267e+00, -3.08855255e+00,\n",
       "        -4.30965175e+00,  1.05734288e+00],\n",
       "       [-3.60778864e+00,  8.79541642e-01, -1.37242121e+00,\n",
       "         1.94078181e+00, -2.17113762e-01],\n",
       "       [ 4.89079885e+00,  3.39209871e+00, -1.67713818e+00,\n",
       "         1.74220789e+00, -5.03666417e-02],\n",
       "       [-3.23107681e+00, -3.10770065e+00,  1.76694201e-01,\n",
       "         7.16488125e-01,  4.75710784e-01],\n",
       "       [ 3.87374043e+00,  1.01769751e+00, -3.22494114e+00,\n",
       "        -4.76468198e+00, -1.37159177e+00],\n",
       "       [-8.48532620e-01, -1.63808792e+00, -2.45694690e-01,\n",
       "        -4.74668684e-01, -3.57808456e-01],\n",
       "       [-5.33762930e-01, -9.43697471e-01, -1.96001850e+00,\n",
       "        -2.14591377e+00, -7.36763333e-01],\n",
       "       [ 4.60642851e+00, -4.01440237e+00, -2.85464227e-03,\n",
       "        -2.56210457e-01,  7.24214211e-01],\n",
       "       [ 1.38184707e+00, -1.84895985e+00,  7.60422841e-01,\n",
       "        -2.16162713e+00,  1.59701361e+00],\n",
       "       [ 7.39654684e+00,  2.16754424e-01,  2.10483122e+00,\n",
       "         3.93903104e-01, -7.30685680e-01],\n",
       "       [-4.12922283e+00,  2.24859620e-01,  3.37974501e+00,\n",
       "        -2.78930278e+00, -2.52057133e+00],\n",
       "       [-5.33697643e-01,  7.22640356e-01, -5.49121412e-01,\n",
       "        -6.97484049e-02, -8.30543785e-02],\n",
       "       [ 3.93230079e+00, -9.22807229e-01,  4.89082933e-01,\n",
       "         1.40417672e+00,  6.08107060e-01],\n",
       "       [ 3.87241293e+00, -1.89565237e+00, -8.99368910e-01,\n",
       "         1.10387633e+00,  1.16302401e+00],\n",
       "       [-3.05616443e-01, -7.72899563e-01, -1.08224063e+00,\n",
       "        -2.15378991e-01,  2.12184590e-01],\n",
       "       [-5.51454344e+00, -6.09595276e-01,  1.66210916e+00,\n",
       "        -2.04300816e+00, -5.89233073e-01],\n",
       "       [-9.70172180e-01,  9.63230226e-01,  2.24723051e+00,\n",
       "         7.69675945e-02,  1.67352586e+00],\n",
       "       [ 8.03165778e-02,  7.35860973e+00, -3.40844562e-01,\n",
       "        -2.01918341e+00,  5.45287655e-01],\n",
       "       [ 9.30963933e+00,  2.13506666e+00,  2.28326791e+00,\n",
       "        -9.89845171e-01,  3.75204086e-01],\n",
       "       [-2.46567118e+00, -7.44888615e-01, -1.61126175e+00,\n",
       "        -1.40354112e-01,  4.67869997e-01],\n",
       "       [-3.18967412e-01,  7.85816218e+00,  3.25932771e+00,\n",
       "         1.73314297e+00,  3.05397417e+00],\n",
       "       [-6.00046011e-01, -2.53323985e+00, -1.85257795e+00,\n",
       "        -6.23377089e-01, -6.00002020e-02],\n",
       "       [ 4.90471529e+00, -9.42562898e-01, -1.53695367e-01,\n",
       "        -9.92971146e-01, -2.66213779e-01],\n",
       "       [-2.05217956e+00,  1.68655750e-01, -1.61482590e+00,\n",
       "         9.72247664e-01,  1.24941091e-01],\n",
       "       [-1.25762826e+00,  2.69430641e+00, -2.81099793e-01,\n",
       "         5.88568721e-01,  6.05687455e-01],\n",
       "       [ 6.70945570e+00, -3.41195406e+00,  2.60117574e+00,\n",
       "         1.51735065e+00,  3.20463593e-01],\n",
       "       [-3.01422033e+00, -6.41685646e-02,  5.56260917e-01,\n",
       "         1.73737865e-01,  9.81356710e-01],\n",
       "       [ 3.29711770e+00,  1.63892523e+00, -2.70948146e+00,\n",
       "         5.25703239e-01, -1.08072979e+00],\n",
       "       [ 4.14687919e+00, -1.79621046e+00,  1.25581345e+00,\n",
       "         2.94167520e+00,  1.09418802e+00],\n",
       "       [-3.50410365e+00, -5.83912002e-01,  5.59591900e-01,\n",
       "         4.31598822e-02,  1.32085669e-01],\n",
       "       [-3.36617577e+00, -9.13929636e-01, -8.60533747e-01,\n",
       "         1.21232604e+00,  5.04348234e-01],\n",
       "       [-2.09679005e+00,  1.73769689e+00,  1.84979941e+00,\n",
       "        -2.95248978e+00,  7.69344005e-02],\n",
       "       [ 3.58176560e-01,  1.79719990e+00,  2.53104415e+00,\n",
       "         2.04336783e+00, -8.89045813e-02],\n",
       "       [-2.40403656e+00, -1.35813717e+00, -3.25734006e-01,\n",
       "         2.31366236e-01,  7.57816608e-01],\n",
       "       [ 1.69129272e+01, -7.56443809e+00,  6.90895614e+00,\n",
       "         3.61155941e+00, -1.42464686e+00],\n",
       "       [-3.25255802e+00,  1.16300253e+00,  1.51366618e+00,\n",
       "         4.81851212e-02, -3.36770181e+00],\n",
       "       [ 1.12261668e+00,  1.15303536e+00, -5.93396784e-01,\n",
       "        -1.93235862e+00,  7.99298369e-01],\n",
       "       [-2.67194889e+00, -1.75478370e+00, -7.48967659e-01,\n",
       "        -1.78911570e-01,  1.35857643e+00],\n",
       "       [-3.01734652e+00, -5.73492236e-01,  2.90943208e-01,\n",
       "         6.90504410e-01, -7.00787085e-01],\n",
       "       [ 5.13140173e+00,  3.12076904e+00, -1.84498070e+00,\n",
       "        -1.23547262e+00,  2.74740679e+00],\n",
       "       [ 1.31608654e+01,  2.63290936e+00,  6.09747798e+00,\n",
       "         2.78229504e+00, -2.47589180e+00],\n",
       "       [-4.03282785e+00,  1.26981742e+00,  5.54159879e-03,\n",
       "         9.58681499e-01, -3.14788405e-01],\n",
       "       [-4.61257189e+00,  1.57059149e+00, -9.71592769e-02,\n",
       "         3.21557244e-01, -6.89801392e-01],\n",
       "       [-4.09810338e-01, -9.14921734e-01, -2.65509001e-01,\n",
       "        -7.29182286e-01,  1.33724805e+00],\n",
       "       [ 1.36350616e+00,  1.15573720e+00, -2.49437101e-01,\n",
       "         1.89580840e+00,  2.90158245e-01],\n",
       "       [-1.28752625e+00,  1.59865147e+00,  7.54855446e-01,\n",
       "        -1.08665028e+00,  3.61517579e-02],\n",
       "       [ 4.77003962e+00, -7.55774016e-01, -5.73605575e-01,\n",
       "         8.48903346e-01,  2.20128446e-01],\n",
       "       [ 2.34396362e+00,  4.63043085e+00,  1.52647620e+00,\n",
       "         5.81794334e-01,  2.59131013e+00],\n",
       "       [ 2.20469061e+00,  1.25732336e+00,  1.68315211e+00,\n",
       "         4.70932940e-01, -7.99518247e-01],\n",
       "       [ 2.83309183e+00,  6.51476870e-01, -2.06299170e+00,\n",
       "        -8.71366165e-02,  1.20640792e+00],\n",
       "       [ 5.18039015e+00, -2.77228441e+00,  1.08328553e+00,\n",
       "         5.88152379e-01, -4.59416523e-01],\n",
       "       [-1.46263363e+00,  3.70889810e-01,  5.01088528e-01,\n",
       "         7.08925137e-01, -2.73984525e+00],\n",
       "       [-2.69082602e-01, -5.63560812e-01, -1.44004162e+00,\n",
       "         7.69522009e-01,  1.81476241e+00],\n",
       "       [ 1.84343355e+00,  2.39530863e+00, -3.15892524e+00,\n",
       "        -2.12234849e-01, -1.09067780e+00],\n",
       "       [-1.40016093e+00, -1.54357116e+00,  3.67070441e-01,\n",
       "        -7.74961779e-01,  1.61232886e-01],\n",
       "       [-2.66749099e+00, -1.38567559e-01, -3.53102843e-01,\n",
       "         2.85952573e-02, -6.24443936e-02],\n",
       "       [-3.37799621e+00, -2.04534631e+00,  1.18611673e-01,\n",
       "         1.40834697e+00,  1.20447713e+00],\n",
       "       [-1.43066944e+00,  7.09152331e-01,  1.08973892e+00,\n",
       "        -2.17173236e-02,  1.01146875e+00],\n",
       "       [-4.70748292e+00, -3.67097791e-01,  5.25921296e-02,\n",
       "        -1.31362222e+00, -2.59205680e-01],\n",
       "       [-2.63385840e+00,  3.27472283e+00,  1.23531382e+00,\n",
       "        -3.52763106e-01, -2.66443616e+00],\n",
       "       [ 1.34602147e+00, -1.95796906e+00,  1.05277841e+00,\n",
       "         3.37152646e-01,  1.03568140e-01],\n",
       "       [ 5.16325237e+00,  2.48602753e+00, -1.98172974e+00,\n",
       "        -7.24159885e-01, -1.48852514e-01],\n",
       "       [-3.59388482e+00, -5.98198590e-01, -1.04539042e+00,\n",
       "         1.33093938e+00,  5.14517196e-01],\n",
       "       [ 3.21990006e+00,  7.52240815e-01, -3.50333466e+00,\n",
       "        -2.67393205e-01,  1.66502159e-02],\n",
       "       [-1.49658807e+00,  1.10932016e+00,  1.21968843e+00,\n",
       "        -2.15516360e+00,  3.22104760e+00],\n",
       "       [-9.00377901e-01, -2.11616714e+00,  1.71608371e+00,\n",
       "        -2.46458238e+00, -1.65666921e+00],\n",
       "       [-1.79280763e+00, -3.13680570e+00, -9.00333446e-01,\n",
       "        -1.18515880e+00,  7.95203250e-01],\n",
       "       [-2.47808928e+00,  3.37662745e+00, -1.94184277e+00,\n",
       "         1.00812535e+00, -2.36924744e-01],\n",
       "       [-3.14379132e+00, -2.16975237e+00, -2.11759899e-01,\n",
       "         9.22722361e-01,  1.39315888e+00],\n",
       "       [-1.22460443e+00,  4.29929046e+00, -7.44301931e-01,\n",
       "         1.00150451e+00, -8.76806537e-01],\n",
       "       [ 6.74310639e-01,  3.60878380e+00,  3.49661685e-01,\n",
       "         3.48211434e-01, -9.06394677e-01],\n",
       "       [-3.07789817e+00, -6.78867079e-01, -9.30832201e-01,\n",
       "         6.26364313e-01,  3.86293974e-01],\n",
       "       [ 6.31005834e+00,  5.26058176e+00,  2.99355284e-01,\n",
       "         8.68324836e-01, -6.33146944e-01],\n",
       "       [-3.06833363e+00, -8.45125759e-01, -2.29747292e+00,\n",
       "         1.15392739e+00,  5.50981962e-01],\n",
       "       [ 1.87912778e+00,  2.85345051e+00, -8.77767464e-01,\n",
       "        -2.98187817e+00, -9.73080290e-01],\n",
       "       [ 2.01539924e+00,  6.71952325e+00,  9.20763938e-01,\n",
       "        -8.32634520e-01,  4.45059254e+00],\n",
       "       [ 2.53869724e+00,  4.04768094e+00, -3.15301302e+00,\n",
       "         7.27842037e-01, -9.70206993e-01],\n",
       "       [-1.94762104e+00, -1.26359610e-01,  4.46017173e-01,\n",
       "        -6.50692103e-01, -1.00911497e+00],\n",
       "       [ 4.01904283e+00, -1.90290451e+00, -1.68616634e+00,\n",
       "         3.12593514e-01, -2.73437020e-01],\n",
       "       [ 3.52285510e+00, -1.21587624e+00,  7.23009184e-01,\n",
       "         1.20247980e+00, -7.11021235e-01],\n",
       "       [ 2.66243464e+00, -2.49336896e+00,  8.71525345e-01,\n",
       "        -6.23443282e-01, -1.96614439e-01],\n",
       "       [-3.47159345e+00,  1.39995936e+00, -1.83600088e-01,\n",
       "         4.95349665e-01, -1.72574576e+00],\n",
       "       [-1.91688107e+00,  9.57098308e-01, -2.10533922e-02,\n",
       "        -4.21017147e-01, -1.28571699e+00],\n",
       "       [-3.92065671e+00,  1.20513408e+00,  1.69727473e+00,\n",
       "        -1.24846664e-01, -1.50651522e+00],\n",
       "       [-1.51640289e+00, -1.18480173e+00, -2.50653948e-01,\n",
       "        -1.47715178e+00, -5.18894625e-02],\n",
       "       [-4.75764587e+00, -4.26356400e-01,  7.51171788e-01,\n",
       "         1.56470772e+00,  1.14129478e+00],\n",
       "       [-2.32418027e+00,  8.52428787e-01, -4.61504405e-01,\n",
       "         5.40880040e-01, -1.31255204e+00],\n",
       "       [-3.14414581e+00, -2.05439428e+00,  2.22790923e-01,\n",
       "        -1.73742659e+00, -3.69706048e-01],\n",
       "       [-2.76811312e+00, -1.65282564e+00, -4.01028781e-02,\n",
       "        -2.11879201e+00, -3.96892180e-01],\n",
       "       [-1.91069617e+00, -2.43557776e+00, -1.54622647e+00,\n",
       "         1.48386952e+00,  2.11684186e+00],\n",
       "       [-1.86861995e+00, -5.12435779e-01,  1.38931340e+00,\n",
       "         2.06594591e-01,  2.11131502e+00],\n",
       "       [-3.52581164e+00, -1.21389569e+00,  1.09248806e+00,\n",
       "        -4.45817301e-01, -2.90902976e-01],\n",
       "       [-3.57784213e+00,  1.00089133e+00,  1.34130077e-01,\n",
       "        -1.95847031e-01, -4.38943559e-01],\n",
       "       [-1.01308663e-01,  1.19833461e+00, -7.68829535e-01,\n",
       "         6.36265838e-01, -7.48752084e-01],\n",
       "       [-2.42841568e+00,  1.00467753e+00,  2.69804735e-01,\n",
       "        -2.31885892e-01, -1.04707174e+00],\n",
       "       [ 2.33783054e+00,  1.02404509e+00, -1.89720012e+00,\n",
       "        -8.42819520e-01, -6.20196573e-01],\n",
       "       [ 7.59967419e+00, -3.56876485e+00,  3.77143436e-02,\n",
       "         1.29643119e+00,  3.98449552e-01],\n",
       "       [-2.85459725e+00,  2.14579207e-01,  3.75368624e-01,\n",
       "         6.72969897e-01, -1.48959919e+00],\n",
       "       [-2.07667324e+00, -1.93330656e+00, -1.03724973e+00,\n",
       "        -1.19753840e+00,  2.02226672e-01],\n",
       "       [-1.91547641e+00,  2.65051829e+00, -1.14768095e+00,\n",
       "        -2.81045972e-01,  1.08096196e+00],\n",
       "       [ 6.45670763e+00, -1.97121972e+00, -1.47768455e+00,\n",
       "         9.40856226e-01, -2.70795347e-01],\n",
       "       [-2.80250177e+00,  2.42015670e+00,  3.99138145e-01,\n",
       "        -1.36978861e+00, -1.65172981e+00],\n",
       "       [-3.99115902e+00, -1.88643283e-01, -1.51702152e+00,\n",
       "         2.16610414e+00,  4.08602325e-01],\n",
       "       [-3.11013036e+00,  5.02232145e-01, -1.30924450e+00,\n",
       "         1.78273676e+00,  1.85442661e-01],\n",
       "       [-4.32435051e+00, -7.97799684e-01,  5.64960855e-01,\n",
       "         3.29733507e-01,  1.06907888e+00],\n",
       "       [-3.32521117e+00, -5.16016632e-01, -1.85322552e-01,\n",
       "        -5.23814426e-01, -3.88059958e-01],\n",
       "       [-2.15729874e+00, -3.24139078e-01, -1.12261991e+00,\n",
       "         1.24333723e-01, -2.34490884e-01],\n",
       "       [-3.98585725e+00,  1.05568798e+00,  2.02851385e-01,\n",
       "        -1.70327459e+00,  1.51117595e+00],\n",
       "       [ 2.95057340e+00, -3.89056113e-01, -1.79517644e+00,\n",
       "        -5.36996070e-01, -1.05808236e+00],\n",
       "       [ 7.30210249e+00,  1.03930176e+01, -3.52477478e+00,\n",
       "         3.90494679e-02, -3.29829653e+00],\n",
       "       [-6.66570067e-01,  3.07317492e-02, -1.32836815e+00,\n",
       "         2.29111063e+00,  2.79596390e-01],\n",
       "       [ 2.36881660e+00,  2.01501683e+00, -2.29884364e+00,\n",
       "        -4.57918492e-01, -6.86555229e-01],\n",
       "       [-3.74672735e+00, -1.33435134e+00,  1.72366885e+00,\n",
       "        -4.53304903e-01,  7.99807780e-02],\n",
       "       [ 3.19444018e+00,  4.70638916e+00,  5.63536733e+00,\n",
       "         2.86612794e-01,  4.18284540e+00],\n",
       "       [ 1.52734732e+00,  6.77884746e+00,  1.87124798e+00,\n",
       "        -1.21604403e-01,  8.99079292e-01],\n",
       "       [-3.28003887e+00,  5.48209781e-01, -1.04634496e+00,\n",
       "         7.64376969e-01, -3.84535673e-01],\n",
       "       [-1.69048007e+00,  1.11337440e+00, -2.36997934e-01,\n",
       "         1.17900519e+00, -1.19941532e+00],\n",
       "       [ 9.96115799e+00, -5.61350197e+00, -3.81127261e-01,\n",
       "         3.72554574e-01, -2.54697458e-01],\n",
       "       [ 7.39197461e+00, -1.97395003e+00,  1.24342915e+00,\n",
       "         7.88827991e-01,  7.91671043e-01],\n",
       "       [ 4.21459243e+00, -2.88417213e+00,  1.81084135e+00,\n",
       "         4.81195847e-01, -5.73228406e-01],\n",
       "       [-1.70291547e+00,  8.34992499e-01, -2.04218458e+00,\n",
       "        -7.58554977e-01, -7.16537788e-01],\n",
       "       [-3.43674867e+00,  8.59313871e-01,  1.71422939e+00,\n",
       "        -1.95394834e-02, -1.05265029e+00],\n",
       "       [-2.84400752e+00, -2.28655475e-01, -5.08519146e-01,\n",
       "        -2.28670134e-01, -5.57611571e-01],\n",
       "       [-1.36697011e+00, -1.79248774e-01, -9.86219012e-01,\n",
       "        -2.20203801e+00,  1.21506801e+00],\n",
       "       [ 6.50220615e+00,  1.07659439e+00, -3.52199775e-03,\n",
       "         2.48237176e+00,  2.47171933e-01],\n",
       "       [ 5.41517191e+00, -2.32948988e+00, -3.32019307e-01,\n",
       "         9.09237579e-01, -1.79567903e-01],\n",
       "       [-4.42915918e+00, -1.71818343e+00, -9.12764452e-01,\n",
       "         5.83805476e-01,  6.04008391e-01],\n",
       "       [ 2.77449660e-02, -8.44153132e-02, -1.80426761e+00,\n",
       "         1.23032147e+00,  4.59556343e-01],\n",
       "       [ 8.76380211e+00, -4.13494642e+00,  3.77871471e-01,\n",
       "        -2.79700213e-01, -3.56886462e-01],\n",
       "       [-2.57302250e+00, -6.29382110e-01, -6.28948892e-01,\n",
       "         2.07133917e-01,  4.97780520e-01],\n",
       "       [ 3.94950259e+00,  6.02310761e+00, -5.03093779e+00,\n",
       "        -1.47758836e+00, -7.17450168e-01],\n",
       "       [-2.77677365e+00, -9.26856542e-01, -4.21872741e-01,\n",
       "         3.23858852e-01,  5.31263473e-01],\n",
       "       [-4.01705595e+00, -1.28299453e+00,  5.17010023e-01,\n",
       "         8.40214333e-01,  2.08346761e-01],\n",
       "       [ 1.49269022e+00, -1.75285283e+00, -1.66709859e+00,\n",
       "         5.33051400e-01,  2.17618908e-01],\n",
       "       [-2.75773975e-01,  1.82746267e-01, -1.01921003e+00,\n",
       "        -4.56840448e-01,  1.36264134e+00],\n",
       "       [-1.80626077e+00,  1.50817074e+00, -1.28170895e+00,\n",
       "         1.60128819e+00, -7.18159868e-01],\n",
       "       [-3.85057595e+00,  6.09401796e-01,  8.90221488e-01,\n",
       "        -4.89720685e-01,  3.50613632e-02],\n",
       "       [-1.96774395e+00, -2.27745538e-01,  6.24443309e-01,\n",
       "        -4.98588897e-01,  9.31449700e-01],\n",
       "       [-7.00189621e-01,  1.90669761e+00, -6.69600206e-01,\n",
       "        -5.10554150e-01, -8.32587323e-01],\n",
       "       [-3.02443563e-01, -3.13360834e-01, -1.16364742e+00,\n",
       "         1.09714395e+00,  1.05250513e+00],\n",
       "       [-2.48194733e+00, -1.16853291e-02,  1.70452373e+00,\n",
       "         1.71478168e+00, -6.28966647e-01],\n",
       "       [ 4.25255281e+00,  2.99288915e+00, -3.04355667e+00,\n",
       "        -2.60193494e+00, -8.37067800e-01],\n",
       "       [-2.32377478e+00,  8.17458668e-01,  1.05706895e+00,\n",
       "        -1.49519560e-01, -3.99979452e-01],\n",
       "       [-6.73149071e-01, -3.02379930e+00,  1.58407677e+00,\n",
       "        -8.87171218e-01,  7.33688836e-01],\n",
       "       [-2.58230959e+00, -1.45621118e+00, -1.78931297e+00,\n",
       "         8.23582154e-01,  3.81124837e-01],\n",
       "       [ 9.01742381e+00, -3.39968008e+00, -5.90774723e-03,\n",
       "         1.26665804e+00,  4.48102221e-02],\n",
       "       [ 1.50327285e+00,  1.47046903e+00,  4.08975569e-01,\n",
       "         1.78238289e+00,  2.63862910e-01],\n",
       "       [-3.62918072e+00, -1.14596469e+00,  1.29635141e+00,\n",
       "         1.70096261e+00,  5.14843862e-02],\n",
       "       [ 1.38519679e+00,  4.95148797e+00, -8.40956444e-01,\n",
       "        -1.44148660e+00,  1.93427763e+00],\n",
       "       [ 3.41240660e+00, -8.48431668e-01,  2.63771318e+00,\n",
       "         4.89571368e-02,  2.71204641e-01],\n",
       "       [-3.98879971e+00,  8.58251502e-01,  1.98970308e+00,\n",
       "        -5.80991395e-01, -8.70787507e-01]])"
      ]
     },
     "execution_count": 26,
     "metadata": {},
     "output_type": "execute_result"
    }
   ],
   "source": [
    "from sklearn.decomposition import PCA\n",
    "\n",
    "## Se crea el objeto PCA defineidno el n_components con que 'nos quedaremos' \n",
    "pca = PCA(n_components=5)\n",
    "\n",
    "## Se entrena el modelo PCA \n",
    "\n",
    "X_train_PCA_breast_cancer = pca.fit_transform(X_train_breast_cancer_std)\n",
    "\n",
    "\n",
    "# Se hace la transformación / aplica el PCA ya entrenado para los X_test\n",
    "X_test_PCA_breast_cancer = pca.transform(X_test_breast_cancer_std)\n",
    "\n",
    "\n",
    "X_test_PCA_breast_cancer"
   ]
  },
  {
   "cell_type": "markdown",
   "metadata": {},
   "source": [
    "Ahora implementaremos un modelo de clasificación con las dimensiones más importantes"
   ]
  },
  {
   "cell_type": "code",
   "execution_count": 27,
   "metadata": {},
   "outputs": [
    {
     "data": {
      "text/plain": [
       "array([0, 0, 1, 1, 1, 1, 1, 0, 0, 1, 1, 0, 0, 0, 1, 1, 1, 1, 1, 1, 1, 0,\n",
       "       1, 0, 1, 0, 1, 1, 1, 1, 0, 0, 1, 1, 0, 0, 1, 1, 1, 0, 1, 1, 1, 0,\n",
       "       1, 1, 0, 1, 1, 0, 0, 1, 1, 0, 1, 0, 1, 0, 0, 1, 1, 0, 0, 0, 1, 1,\n",
       "       1, 1, 1, 1, 1, 1, 0, 1, 0, 0, 0, 1, 0, 0, 1, 1, 0, 1, 1, 0, 0, 1,\n",
       "       0, 1, 1, 0, 1, 0, 1, 1, 1, 0, 1, 1, 1, 0, 0, 0, 0, 0, 0, 0, 0, 0,\n",
       "       1, 0, 0, 0, 0, 1, 1, 0, 0, 1, 1, 0, 0, 0, 0, 0, 0, 1, 1, 1, 0, 1,\n",
       "       0, 1, 1, 0, 0, 1, 1, 1, 0, 0, 0, 0, 1, 1, 0, 0, 1, 0, 1, 0, 0, 1,\n",
       "       0, 0, 0, 0, 0, 0, 0, 1, 0, 1, 0, 1, 1, 0, 1, 1, 0], dtype=int64)"
      ]
     },
     "execution_count": 27,
     "metadata": {},
     "output_type": "execute_result"
    }
   ],
   "source": [
    "from sklearn.mixture import GaussianMixture\n",
    "\n",
    "gmm = GaussianMixture(n_components=2)  # Set the desired number of clusters\n",
    "gmm_breast_cancer_con_PCA = gmm.fit(X_train_PCA_breast_cancer)\n",
    "labels_gmm_breast_cancer_con_PCA = gmm_breast_cancer_con_PCA.predict(X_test_PCA_breast_cancer)\n",
    "labels_gmm_breast_cancer_con_PCA"
   ]
  },
  {
   "cell_type": "markdown",
   "metadata": {},
   "source": [
    "Veamos que tal resutó nuestro modelo GMM para la clasificación de pacientes de breast_cancer después de haber aplicado PCA "
   ]
  },
  {
   "cell_type": "code",
   "execution_count": 28,
   "metadata": {},
   "outputs": [
    {
     "data": {
      "text/plain": [
       "0.19298245614035087"
      ]
     },
     "execution_count": 28,
     "metadata": {},
     "output_type": "execute_result"
    }
   ],
   "source": [
    "from sklearn.metrics import accuracy_score\n",
    "accuracy_score(y_test_breast_cancer,labels_gmm_breast_cancer_con_PCA)"
   ]
  },
  {
   "cell_type": "markdown",
   "metadata": {},
   "source": [
    "Se redujo drásticamente el accuracy de clasificación al reducir componentes "
   ]
  },
  {
   "cell_type": "markdown",
   "metadata": {},
   "source": [
    "#### IQR Model implementado a data de breast_cancer para detectar valores atipicos"
   ]
  },
  {
   "cell_type": "code",
   "execution_count": 31,
   "metadata": {},
   "outputs": [
    {
     "name": "stdout",
     "output_type": "stream",
     "text": [
      "     mean radius  mean texture  mean perimeter  mean area  mean smoothness  \\\n",
      "0          17.99         10.38          122.80     1001.0          0.11840   \n",
      "1          20.57         17.77          132.90     1326.0          0.08474   \n",
      "2          19.69         21.25          130.00     1203.0          0.10960   \n",
      "3          11.42         20.38           77.58      386.1          0.14250   \n",
      "4          20.29         14.34          135.10     1297.0          0.10030   \n",
      "..           ...           ...             ...        ...              ...   \n",
      "564        21.56         22.39          142.00     1479.0          0.11100   \n",
      "565        20.13         28.25          131.20     1261.0          0.09780   \n",
      "566        16.60         28.08          108.30      858.1          0.08455   \n",
      "567        20.60         29.33          140.10     1265.0          0.11780   \n",
      "568         7.76         24.54           47.92      181.0          0.05263   \n",
      "\n",
      "     mean compactness  mean concavity  mean concave points  mean symmetry  \\\n",
      "0             0.27760         0.30010              0.14710         0.2419   \n",
      "1             0.07864         0.08690              0.07017         0.1812   \n",
      "2             0.15990         0.19740              0.12790         0.2069   \n",
      "3             0.28390         0.24140              0.10520         0.2597   \n",
      "4             0.13280         0.19800              0.10430         0.1809   \n",
      "..                ...             ...                  ...            ...   \n",
      "564           0.11590         0.24390              0.13890         0.1726   \n",
      "565           0.10340         0.14400              0.09791         0.1752   \n",
      "566           0.10230         0.09251              0.05302         0.1590   \n",
      "567           0.27700         0.35140              0.15200         0.2397   \n",
      "568           0.04362         0.00000              0.00000         0.1587   \n",
      "\n",
      "     mean fractal dimension  ...  worst radius  worst texture  \\\n",
      "0                   0.07871  ...        25.380          17.33   \n",
      "1                   0.05667  ...        24.990          23.41   \n",
      "2                   0.05999  ...        23.570          25.53   \n",
      "3                   0.09744  ...        14.910          26.50   \n",
      "4                   0.05883  ...        22.540          16.67   \n",
      "..                      ...  ...           ...            ...   \n",
      "564                 0.05623  ...        25.450          26.40   \n",
      "565                 0.05533  ...        23.690          38.25   \n",
      "566                 0.05648  ...        18.980          34.12   \n",
      "567                 0.07016  ...        25.740          39.42   \n",
      "568                 0.05884  ...         9.456          30.37   \n",
      "\n",
      "     worst perimeter  worst area  worst smoothness  worst compactness  \\\n",
      "0             184.60      2019.0           0.16220            0.66560   \n",
      "1             158.80      1956.0           0.12380            0.18660   \n",
      "2             152.50      1709.0           0.14440            0.42450   \n",
      "3              98.87       567.7           0.20980            0.86630   \n",
      "4             152.20      1575.0           0.13740            0.20500   \n",
      "..               ...         ...               ...                ...   \n",
      "564           166.10      2027.0           0.14100            0.21130   \n",
      "565           155.00      1731.0           0.11660            0.19220   \n",
      "566           126.70      1124.0           0.11390            0.30940   \n",
      "567           184.60      1821.0           0.16500            0.86810   \n",
      "568            59.16       268.6           0.08996            0.06444   \n",
      "\n",
      "     worst concavity  worst concave points  worst symmetry  \\\n",
      "0             0.7119                0.2654          0.4601   \n",
      "1             0.2416                0.1860          0.2750   \n",
      "2             0.4504                0.2430          0.3613   \n",
      "3             0.6869                0.2575          0.6638   \n",
      "4             0.4000                0.1625          0.2364   \n",
      "..               ...                   ...             ...   \n",
      "564           0.4107                0.2216          0.2060   \n",
      "565           0.3215                0.1628          0.2572   \n",
      "566           0.3403                0.1418          0.2218   \n",
      "567           0.9387                0.2650          0.4087   \n",
      "568           0.0000                0.0000          0.2871   \n",
      "\n",
      "     worst fractal dimension  \n",
      "0                    0.11890  \n",
      "1                    0.08902  \n",
      "2                    0.08758  \n",
      "3                    0.17300  \n",
      "4                    0.07678  \n",
      "..                       ...  \n",
      "564                  0.07115  \n",
      "565                  0.06637  \n",
      "566                  0.07820  \n",
      "567                  0.12400  \n",
      "568                  0.07039  \n",
      "\n",
      "[569 rows x 30 columns]\n"
     ]
    }
   ],
   "source": [
    "import pandas as pd\n",
    "from sklearn.datasets import load_breast_cancer\n",
    "\n",
    "# Load the Breast Cancer Wisconsin dataset\n",
    "breast_cancer = load_breast_cancer()\n",
    "\n",
    "# Extract the feature names\n",
    "feature_names = breast_cancer.feature_names\n",
    "\n",
    "# Create a DataFrame with the feature names and corresponding values\n",
    "df_X_breast_cancer = pd.DataFrame(breast_cancer.data, columns=feature_names)\n",
    "\n",
    "# Print the DataFrame\n",
    "print(df_X_breast_cancer)\n"
   ]
  },
  {
   "cell_type": "markdown",
   "metadata": {},
   "source": [
    "Vamos a implementar el IQR model para detectar valores atipicos "
   ]
  },
  {
   "cell_type": "code",
   "execution_count": 32,
   "metadata": {},
   "outputs": [
    {
     "name": "stdout",
     "output_type": "stream",
     "text": [
      "Outliers for mean radius: [28.11]\n",
      "Outliers for mean texture: [39.28]\n",
      "Outliers for mean perimeter: []\n",
      "Outliers for mean area: [1878.0, 2250.0, 2499.0, 2010.0, 2501.0]\n",
      "Outliers for mean smoothness: [0.1634]\n",
      "Outliers for mean compactness: [0.3454]\n",
      "Outliers for mean concavity: []\n",
      "Outliers for mean concave points: []\n",
      "Outliers for mean symmetry: [0.304]\n",
      "Outliers for mean fractal dimension: [0.09744, 0.09296, 0.09502, 0.09575]\n",
      "Outliers for radius error: [1.509, 1.296, 2.873, 1.292, 1.37, 2.547, 1.291]\n",
      "Outliers for texture error: [3.568, 4.885, 3.647, 3.896]\n",
      "Outliers for perimeter error: [11.07, 8.83, 8.649, 10.05, 9.807, 21.98, 10.12, 8.867, 9.424, 18.65, 9.635, 8.758]\n",
      "Outliers for area error: [153.4, 134.8, 170.0, 233.0, 128.7, 525.6, 155.8, 137.9, 138.5, 199.7, 156.8, 133.0, 130.8, 164.1, 153.1, 224.1, 130.2, 176.5, 542.2, 180.2, 139.9, 158.7]\n",
      "Outliers for smoothness error: [0.01721, 0.01835, 0.02333, 0.03113, 0.02075, 0.01736, 0.02177]\n",
      "Outliers for compactness error: [0.1006, 0.09368, 0.09806, 0.09586, 0.1354, 0.1064]\n",
      "Outliers for concavity error: [0.3038, 0.1435, 0.1278, 0.396, 0.1438, 0.1535]\n",
      "Outliers for concave points error: [0.0409, 0.05279, 0.03927]\n",
      "Outliers for symmetry error: [0.05963, 0.05333, 0.07895, 0.05014, 0.05168, 0.05628, 0.05113, 0.06146, 0.05543]\n",
      "Outliers for fractal dimension error: [0.01284, 0.02193, 0.01298, 0.01178, 0.02984, 0.01792, 0.01172, 0.01256, 0.02286, 0.0122, 0.01233]\n",
      "Outliers for worst radius: []\n",
      "Outliers for worst texture: []\n",
      "Outliers for worst perimeter: [251.2]\n",
      "Outliers for worst area: [3216.0, 2944.0, 3432.0, 2906.0, 3234.0, 3143.0, 4254.0]\n",
      "Outliers for worst smoothness: []\n",
      "Outliers for worst compactness: [1.058, 0.9327, 0.9379]\n",
      "Outliers for worst concavity: [1.252]\n",
      "Outliers for worst concave points: []\n",
      "Outliers for worst symmetry: [0.6638, 0.544, 0.5774, 0.5558]\n",
      "Outliers for worst fractal dimension: [0.173, 0.2075]\n"
     ]
    }
   ],
   "source": [
    "import numpy as np\n",
    "\n",
    "# Create a dictionary to store the outliers for each feature\n",
    "outliers_dict = {}\n",
    "\n",
    "# Iterate over each feature name\n",
    "for feature_name in df_X_breast_cancer.columns:\n",
    "    # Get the values of the current feature\n",
    "    data_feature = df_X_breast_cancer[feature_name]\n",
    "\n",
    "    # Implement the Interquartile method to detect outliers\n",
    "    def find_anomalies(data, cut=3):\n",
    "        q25 = np.percentile(data, 25)\n",
    "        q75 = np.percentile(data, 75)\n",
    "        iqr = q75 - q25\n",
    "        lower_limit = q25 - cut * iqr\n",
    "        upper_limit = q75 + cut * iqr\n",
    "        anomalies = [x for x in data if x < lower_limit or x > upper_limit]\n",
    "        return anomalies\n",
    "\n",
    "    # Detect outliers for the current feature\n",
    "    outliers_feature = find_anomalies(data_feature)\n",
    "\n",
    "    # Store the outliers in the dictionary\n",
    "    outliers_dict[feature_name] = outliers_feature\n",
    "\n",
    "# Print the dictionary of outliers for each feature\n",
    "for feature_name, outliers_feature in outliers_dict.items():\n",
    "    print(f\"Outliers for {feature_name}: {outliers_feature}\")\n"
   ]
  },
  {
   "cell_type": "markdown",
   "metadata": {},
   "source": [
    "#### KernelPCA Model implementado a data de breast_cancer para detectar valores atipicos"
   ]
  },
  {
   "cell_type": "code",
   "execution_count": 44,
   "metadata": {},
   "outputs": [
    {
     "data": {
      "text/plain": [
       "array([[-0.06170496,  0.26515857],\n",
       "       [ 0.33658793, -0.33866243],\n",
       "       [-0.20129333,  0.2230182 ],\n",
       "       [-0.37777813, -0.02690161],\n",
       "       [-0.26394186, -0.07129009],\n",
       "       [-0.32467162, -0.08591643],\n",
       "       [-0.13357562,  0.30008327],\n",
       "       [ 0.38202665, -0.29549999],\n",
       "       [ 0.12244889, -0.23664182],\n",
       "       [-0.2943852 , -0.09519811],\n",
       "       [-0.21047856, -0.04979202],\n",
       "       [ 0.41270803, -0.29932674],\n",
       "       [ 0.34913599, -0.28267989],\n",
       "       [ 0.03417483,  0.3549822 ],\n",
       "       [-0.29074451, -0.0724418 ],\n",
       "       [-0.15909041,  0.16755286],\n",
       "       [ 0.03536092,  0.17285789],\n",
       "       [-0.17519173,  0.00828445],\n",
       "       [-0.2189678 , -0.03754929],\n",
       "       [-0.25356211, -0.0023399 ],\n",
       "       [-0.20123405, -0.04366078],\n",
       "       [ 0.30016404,  0.28160734],\n",
       "       [-0.2144683 , -0.03905751],\n",
       "       [ 0.30718979, -0.51182429],\n",
       "       [-0.21792799, -0.03955861],\n",
       "       [ 0.1845054 , -0.07266553],\n",
       "       [-0.0293543 ,  0.04134108],\n",
       "       [-0.33743357, -0.11198527],\n",
       "       [-0.23127641, -0.10308687],\n",
       "       [-0.23834576, -0.06020162],\n",
       "       [-0.17017315, -0.06105139],\n",
       "       [ 0.14815281,  0.44757178],\n",
       "       [-0.36872292, -0.0800787 ],\n",
       "       [-0.29941634, -0.07440004],\n",
       "       [ 0.14923858,  0.15310906],\n",
       "       [-0.12241696, -0.1152738 ],\n",
       "       [-0.06569345,  0.06376515],\n",
       "       [-0.19818863, -0.03762626],\n",
       "       [-0.19540646, -0.04355885],\n",
       "       [ 0.51576549,  0.01013448],\n",
       "       [-0.19525559, -0.04325186],\n",
       "       [-0.11443679, -0.08024196],\n",
       "       [-0.35044649, -0.08612401],\n",
       "       [ 0.38275303,  0.36010201],\n",
       "       [ 0.02180574,  0.4414511 ],\n",
       "       [-0.22545464, -0.05753787],\n",
       "       [ 0.41103163, -0.06127048],\n",
       "       [-0.32075746,  0.04382095],\n",
       "       [-0.27152677, -0.07103501],\n",
       "       [ 0.38113071, -0.14036985],\n",
       "       [ 0.41866404, -0.08647659],\n",
       "       [-0.13596616,  0.0214208 ],\n",
       "       [-0.18884972,  0.00324202],\n",
       "       [ 0.54970681, -0.22655422],\n",
       "       [-0.19447593, -0.0432002 ],\n",
       "       [-0.09936521,  0.04303291],\n",
       "       [-0.215533  ,  0.12310791],\n",
       "       [ 0.38957337, -0.31780915],\n",
       "       [ 0.49234929, -0.0035537 ],\n",
       "       [-0.22415322, -0.03983573],\n",
       "       [-0.19448358, -0.04320322],\n",
       "       [ 0.1128998 ,  0.15796801],\n",
       "       [ 0.13306727,  0.13164065],\n",
       "       [ 0.10035721, -0.01992825],\n",
       "       [-0.18218358,  0.17709493],\n",
       "       [-0.01565558,  0.24472233],\n",
       "       [-0.32875797, -0.0740128 ],\n",
       "       [-0.20850365, -0.02604298],\n",
       "       [-0.2407294 ,  0.00796609],\n",
       "       [-0.32436946,  0.05535553],\n",
       "       [-0.34922402, -0.11030508],\n",
       "       [-0.02696347,  0.12957757],\n",
       "       [ 0.06126581,  0.09077447],\n",
       "       [-0.26763652,  0.12068085],\n",
       "       [ 0.24486269, -0.17743406],\n",
       "       [ 0.55983664,  0.09833097],\n",
       "       [ 0.29668425, -0.35716904],\n",
       "       [ 0.16606827,  0.13304555],\n",
       "       [ 0.2033952 , -0.1855813 ],\n",
       "       [-0.14812733,  0.10006486],\n",
       "       [-0.24590481, -0.10255936],\n",
       "       [-0.28179224, -0.03724884],\n",
       "       [ 0.51478947, -0.04195808],\n",
       "       [-0.29603638,  0.01682798],\n",
       "       [-0.14955813, -0.03141993],\n",
       "       [-0.1151273 , -0.12948279],\n",
       "       [ 0.16692787, -0.3904578 ],\n",
       "       [-0.09062834,  0.23570895],\n",
       "       [ 0.40221019, -0.43535048],\n",
       "       [-0.17584812,  0.10949786],\n",
       "       [-0.21122541,  0.10926613],\n",
       "       [ 0.60610159, -0.06296428],\n",
       "       [-0.19903428, -0.04354109],\n",
       "       [ 0.38442649,  0.01476397],\n",
       "       [-0.24685051,  0.03096712],\n",
       "       [-0.19775941, -0.04232874],\n",
       "       [-0.24547919,  0.02501285],\n",
       "       [ 0.23791281,  0.07502869],\n",
       "       [-0.42316159, -0.09817101],\n",
       "       [-0.39634172, -0.0884644 ],\n",
       "       [-0.29276505, -0.0865481 ],\n",
       "       [ 0.20656671,  0.33659572],\n",
       "       [ 0.21756882,  0.34652175],\n",
       "       [ 0.00163943,  0.07622585],\n",
       "       [ 0.27328503, -0.12185019],\n",
       "       [ 0.10706489, -0.18120123],\n",
       "       [ 0.29954256,  0.421312  ],\n",
       "       [ 0.23516234, -0.34991214],\n",
       "       [ 0.22380709, -0.27612661],\n",
       "       [ 0.15814892, -0.21445577],\n",
       "       [ 0.16513973, -0.13867718],\n",
       "       [ 0.35572755, -0.31066931],\n",
       "       [ 0.19339884,  0.19443832],\n",
       "       [-0.06613882,  0.2930028 ],\n",
       "       [ 0.22587342,  0.30798763],\n",
       "       [-0.31329026,  0.1154062 ],\n",
       "       [-0.2462124 , -0.06668717],\n",
       "       [ 0.28030811,  0.15200159],\n",
       "       [ 0.31896063, -0.27755371],\n",
       "       [-0.01544334,  0.25196623],\n",
       "       [-0.3090254 , -0.08682643],\n",
       "       [-0.03365488,  0.21934909],\n",
       "       [ 0.20066629, -0.02049173],\n",
       "       [ 0.41223226,  0.31073458],\n",
       "       [ 0.34875717, -0.31921584],\n",
       "       [ 0.50205739, -0.11045613],\n",
       "       [ 0.53519554,  0.2034824 ],\n",
       "       [ 0.03007744, -0.04378884],\n",
       "       [-0.29490689, -0.01569317],\n",
       "       [-0.19449511, -0.04320637],\n",
       "       [ 0.11106341,  0.28261084],\n",
       "       [-0.30333428,  0.12067806],\n",
       "       [ 0.08067013, -0.22140616],\n",
       "       [-0.19501   , -0.0433526 ],\n",
       "       [-0.19929809, -0.03638126],\n",
       "       [ 0.34687636,  0.25920071],\n",
       "       [ 0.22413751,  0.51918469],\n",
       "       [-0.20143222, -0.04627295],\n",
       "       [-0.24231753, -0.06377698],\n",
       "       [-0.31070159, -0.09641946],\n",
       "       [ 0.19854804,  0.39909235],\n",
       "       [ 0.03662605,  0.05538652],\n",
       "       [ 0.47873459,  0.09025147],\n",
       "       [ 0.0822118 , -0.00273784],\n",
       "       [-0.22995693, -0.05249983],\n",
       "       [-0.35035556, -0.10233249],\n",
       "       [ 0.36902079, -0.38926466],\n",
       "       [ 0.00314877,  0.22291913],\n",
       "       [-0.22354897, -0.05664695],\n",
       "       [ 0.64487685, -0.02427607],\n",
       "       [-0.20026195, -0.04196185],\n",
       "       [ 0.55118151, -0.17863434],\n",
       "       [ 0.36294272, -0.33929961],\n",
       "       [-0.27462166, -0.00328303],\n",
       "       [ 0.08214556,  0.22061327],\n",
       "       [ 0.16613543,  0.45875769],\n",
       "       [ 0.28996643,  0.01178252],\n",
       "       [ 0.16414511, -0.08458856],\n",
       "       [-0.0359249 ,  0.39915752],\n",
       "       [ 0.12730186,  0.25335979],\n",
       "       [ 0.0264479 ,  0.0080469 ],\n",
       "       [-0.24370203, -0.02967413],\n",
       "       [ 0.18085885,  0.2196994 ],\n",
       "       [-0.07407819, -0.21106366],\n",
       "       [ 0.46933771, -0.09469622],\n",
       "       [-0.21996756, -0.05466664],\n",
       "       [-0.21053676,  0.11328037],\n",
       "       [ 0.25058132, -0.21504713],\n",
       "       [-0.2123844 , -0.00486731],\n",
       "       [-0.27408917, -0.06741346],\n",
       "       [-0.08324325, -0.02038139]])"
      ]
     },
     "execution_count": 44,
     "metadata": {},
     "output_type": "execute_result"
    }
   ],
   "source": [
    "from sklearn.decomposition import KernelPCA\n",
    "\n",
    "kpca_rbf = KernelPCA(n_components=2, kernel='rbf', gamma=0.1)  # Set the desired kernel and parameters\n",
    "\n",
    "\n",
    "\n",
    "X_train_PCA_RBF_breast_cancer = kpca_rbf.fit_transform(X_train_breast_cancer_std)\n",
    "\n",
    "\n",
    "# Se hace la transformación / aplica el PCA ya entrenado para los X_test\n",
    "X_test_PCA_RBF_breast_cancer = kpca_rbf.transform(X_test_breast_cancer_std)\n",
    "\n",
    "\n",
    "X_test_PCA_RBF_breast_cancer\n"
   ]
  },
  {
   "cell_type": "markdown",
   "metadata": {},
   "source": [
    "Vamos a usar el modeo GMM con la data de breast_cancer reducida con KernelPCA"
   ]
  },
  {
   "cell_type": "code",
   "execution_count": 45,
   "metadata": {},
   "outputs": [
    {
     "data": {
      "text/plain": [
       "array([1, 1, 1, 0, 0, 0, 1, 1, 1, 0, 0, 1, 1, 1, 0, 1, 1, 0, 0, 0, 0, 1,\n",
       "       0, 1, 0, 1, 1, 0, 0, 0, 0, 1, 0, 0, 1, 1, 1, 0, 0, 1, 0, 1, 0, 1,\n",
       "       1, 0, 1, 1, 0, 1, 1, 0, 0, 1, 0, 0, 1, 1, 1, 0, 0, 1, 1, 1, 1, 1,\n",
       "       0, 0, 0, 1, 0, 1, 1, 1, 1, 1, 1, 1, 1, 1, 0, 0, 1, 0, 0, 1, 1, 1,\n",
       "       1, 1, 1, 1, 0, 1, 0, 0, 0, 1, 0, 0, 0, 1, 1, 1, 1, 1, 1, 1, 1, 1,\n",
       "       1, 1, 1, 1, 1, 1, 0, 1, 1, 1, 0, 1, 1, 1, 1, 1, 1, 1, 0, 0, 1, 1,\n",
       "       1, 0, 0, 1, 1, 0, 0, 0, 1, 1, 1, 1, 0, 0, 1, 1, 0, 1, 0, 1, 1, 0,\n",
       "       1, 1, 1, 1, 1, 1, 1, 0, 1, 1, 1, 0, 1, 1, 0, 0, 0], dtype=int64)"
      ]
     },
     "execution_count": 45,
     "metadata": {},
     "output_type": "execute_result"
    }
   ],
   "source": [
    "from sklearn.mixture import GaussianMixture\n",
    "\n",
    "gmm = GaussianMixture(n_components=2)  # Set the desired number of clusters\n",
    "gmm_breast_cancer_con_PCA_RBF = gmm.fit(X_train_PCA_RBF_breast_cancer)\n",
    "labels_gmm_breast_cancer_con_PCA_RBF = gmm_breast_cancer_con_PCA_RBF.predict(X_test_PCA_RBF_breast_cancer)\n",
    "labels_gmm_breast_cancer_con_PCA_RBF"
   ]
  },
  {
   "cell_type": "markdown",
   "metadata": {},
   "source": [
    "Se observa como aplicando el KernelPCA mejoró muchisimo la clasificación que con el PCA normal "
   ]
  },
  {
   "cell_type": "code",
   "execution_count": 46,
   "metadata": {},
   "outputs": [
    {
     "data": {
      "text/plain": [
       "0.847953216374269"
      ]
     },
     "execution_count": 46,
     "metadata": {},
     "output_type": "execute_result"
    }
   ],
   "source": [
    "from sklearn.metrics import accuracy_score\n",
    "accuracy_score(y_test_breast_cancer,labels_gmm_breast_cancer_con_PCA_RBF)"
   ]
  }
 ],
 "metadata": {
  "kernelspec": {
   "display_name": "Python 3",
   "language": "python",
   "name": "python3"
  },
  "language_info": {
   "codemirror_mode": {
    "name": "ipython",
    "version": 3
   },
   "file_extension": ".py",
   "mimetype": "text/x-python",
   "name": "python",
   "nbconvert_exporter": "python",
   "pygments_lexer": "ipython3",
   "version": "3.10.5"
  },
  "orig_nbformat": 4
 },
 "nbformat": 4,
 "nbformat_minor": 2
}
