{
 "cells": [
  {
   "attachments": {},
   "cell_type": "markdown",
   "metadata": {},
   "source": [
    "#### <font color=\"#03997A\"> Diplomado en Ciencia de datos UNAM </font>\n",
    "\n",
    "##### <font color=\"#03997A\"> Dr: Eduardo Espinosa A. </font>\n",
    "\n",
    "##### <font color=\"#03997A\"> Modulo 7 Aprendizaje de Maquina NO supervisado </font>\n",
    "\n",
    "##### <font color=\"#03997A\"> Tema 1 Agrupamiento / Clustering con el método K-means Alumno: Ibarra Ramírez Sergio </font>"
   ]
  },
  {
   "attachments": {},
   "cell_type": "markdown",
   "metadata": {},
   "source": [
    "Se importan librerias necesarias"
   ]
  },
  {
   "cell_type": "code",
   "execution_count": 3,
   "metadata": {},
   "outputs": [],
   "source": [
    "import numpy as np\n",
    "from matplotlib import pyplot as plt \n",
    "plt.rcParams['figure.figsize'] = (12,6)\n",
    "plt.style.use('ggplot')"
   ]
  },
  {
   "attachments": {},
   "cell_type": "markdown",
   "metadata": {},
   "source": [
    "Para utilizar la distancia Euclidiana "
   ]
  },
  {
   "cell_type": "code",
   "execution_count": 10,
   "metadata": {},
   "outputs": [
    {
     "data": {
      "text/plain": [
       "5.024937810560445"
      ]
     },
     "execution_count": 10,
     "metadata": {},
     "output_type": "execute_result"
    }
   ],
   "source": [
    "np.sqrt((8-3)**2 + (10-10.5)**2)"
   ]
  },
  {
   "attachments": {},
   "cell_type": "markdown",
   "metadata": {},
   "source": [
    "Otra forma de hacerlo es obteniendo la norma del vector construido como la diferencia de dos arreglos "
   ]
  },
  {
   "cell_type": "code",
   "execution_count": 11,
   "metadata": {},
   "outputs": [
    {
     "data": {
      "text/plain": [
       "5.024937810560445"
      ]
     },
     "execution_count": 11,
     "metadata": {},
     "output_type": "execute_result"
    }
   ],
   "source": [
    "np.linalg.norm(np.array([8, 10]) - np.array([3, 10.5]))"
   ]
  },
  {
   "attachments": {},
   "cell_type": "markdown",
   "metadata": {},
   "source": [
    "Definimos la data a clasificar y los centroides iniciales "
   ]
  },
  {
   "cell_type": "code",
   "execution_count": 13,
   "metadata": {},
   "outputs": [],
   "source": [
    "data = np.array([[8, 10], [3, 10.5], [7, 13.5], [5, 18], [5, 13], [6, 9], [9, 11], [3, 18], [8.5, 12], [8, 16]])\n",
    "C = np.array([[8, 10], [3, 10.5]])"
   ]
  },
  {
   "cell_type": "code",
   "execution_count": 14,
   "metadata": {},
   "outputs": [
    {
     "data": {
      "text/plain": [
       "<matplotlib.collections.PathCollection at 0x160c5408a00>"
      ]
     },
     "execution_count": 14,
     "metadata": {},
     "output_type": "execute_result"
    },
    {
     "data": {
      "image/png": "[encoded data removed]",
      "text/plain": [
       "<Figure size 432x288 with 1 Axes>"
      ]
     },
     "metadata": {
      "needs_background": "light"
     },
     "output_type": "display_data"
    }
   ],
   "source": [
    "## Grafica de centroides iniciales y la data a clasificar\n",
    "fig = plt.figure()\n",
    "plt.scatter(C[:,0],C[:,1], marker='*', s=200, c='k')\n",
    "plt.scatter(data[:,0], data[:,1])"
   ]
  },
  {
   "attachments": {},
   "cell_type": "markdown",
   "metadata": {},
   "source": [
    "Debemos calcular la distancia de cada punto a cada centroide y definir a que centroide pertenencen"
   ]
  },
  {
   "cell_type": "code",
   "execution_count": 15,
   "metadata": {},
   "outputs": [
    {
     "name": "stdout",
     "output_type": "stream",
     "text": [
      "[0. 1. 0. 1. 1. 0. 0. 1. 0. 0.]\n"
     ]
    },
    {
     "data": {
      "text/plain": [
       "[array([0.        , 5.02493781]),\n",
       " array([5.02493781, 0.        ]),\n",
       " array([3.64005494, 5.        ]),\n",
       " array([8.54400375, 7.76208735]),\n",
       " array([4.24264069, 3.20156212]),\n",
       " array([2.23606798, 3.35410197]),\n",
       " array([1.41421356, 6.02079729]),\n",
       " array([9.43398113, 7.5       ]),\n",
       " array([2.06155281, 5.70087713]),\n",
       " array([6.        , 7.43303437])]"
      ]
     },
     "execution_count": 15,
     "metadata": {},
     "output_type": "execute_result"
    }
   ],
   "source": [
    "distances = []\n",
    "clusters = np.zeros(len(data))\n",
    "\n",
    "\n",
    "\n",
    "#Vamos a definir una función que clacule distancias \n",
    "\n",
    "def dist (a,b,ax=1):\n",
    "    return np.linalg.norm(a-b, axis=ax)\n",
    "\n",
    "for i in range(len(data)):\n",
    "    ##Distance es un vector de dos \n",
    "    distance = dist(data[i], C)\n",
    "    distances.append(distance)\n",
    "    ## Indica 0 si la distance menor es al primero punto o 1 \n",
    "    cluster = np.argmin(distance)\n",
    "    clusters[i] = cluster\n",
    "\n",
    "print(clusters)\n",
    "distances\n"
   ]
  },
  {
   "attachments": {},
   "cell_type": "markdown",
   "metadata": {},
   "source": [
    "Ejemplo con otro centroide adicional"
   ]
  },
  {
   "cell_type": "code",
   "execution_count": 16,
   "metadata": {},
   "outputs": [],
   "source": [
    "data = np.array([[8, 10], [3, 10.5], [7, 13.5], [5, 18], [5, 13], [6, 9], [9, 11], [3, 18], [8.5, 12], [8, 16]])\n",
    "C2 = np.array([[8, 10], [3, 10.5], [6, 16]])"
   ]
  },
  {
   "cell_type": "code",
   "execution_count": 17,
   "metadata": {},
   "outputs": [
    {
     "name": "stdout",
     "output_type": "stream",
     "text": [
      "[0. 1. 2. 2. 2. 0. 0. 2. 0. 2.]\n"
     ]
    },
    {
     "data": {
      "text/plain": [
       "[array([0.        , 5.02493781, 6.32455532]),\n",
       " array([5.02493781, 0.        , 6.26498204]),\n",
       " array([3.64005494, 5.        , 2.6925824 ]),\n",
       " array([8.54400375, 7.76208735, 2.23606798]),\n",
       " array([4.24264069, 3.20156212, 3.16227766]),\n",
       " array([2.23606798, 3.35410197, 7.        ]),\n",
       " array([1.41421356, 6.02079729, 5.83095189]),\n",
       " array([9.43398113, 7.5       , 3.60555128]),\n",
       " array([2.06155281, 5.70087713, 4.71699057]),\n",
       " array([6.        , 7.43303437, 2.        ])]"
      ]
     },
     "execution_count": 17,
     "metadata": {},
     "output_type": "execute_result"
    }
   ],
   "source": [
    "distances2 = []\n",
    "clusters2 = np.zeros(len(data))\n",
    "\n",
    "\n",
    "\n",
    "#Vamos a definir una función que clacule distancias \n",
    "\n",
    "def dist (a,b,ax=1):\n",
    "    return np.linalg.norm(a-b, axis=ax)\n",
    "\n",
    "for i in range(len(data)):\n",
    "    ##Distance es un vector de dos \n",
    "    distance = dist(data[i], C2)\n",
    "    distances2.append(distance)\n",
    "    ## Indica 0 si la distance menor es al primero punto o 1 \n",
    "    cluster = np.argmin(distance)\n",
    "    clusters2[i] = cluster\n",
    "\n",
    "print(clusters2)\n",
    "distances2"
   ]
  },
  {
   "attachments": {},
   "cell_type": "markdown",
   "metadata": {},
   "source": [
    "Ahora, vamos a intentar implementar la segunda parte del algoritmo que recalcula los centroides "
   ]
  },
  {
   "cell_type": "code",
   "execution_count": 19,
   "metadata": {},
   "outputs": [
    {
     "name": "stdout",
     "output_type": "stream",
     "text": [
      "[0. 1. 0. 1. 1. 0. 0. 1. 0. 0.]\n"
     ]
    },
    {
     "data": {
      "text/plain": [
       "[array([0.        , 5.02493781]),\n",
       " array([5.02493781, 0.        ]),\n",
       " array([3.64005494, 5.        ]),\n",
       " array([8.54400375, 7.76208735]),\n",
       " array([4.24264069, 3.20156212]),\n",
       " array([2.23606798, 3.35410197]),\n",
       " array([1.41421356, 6.02079729]),\n",
       " array([9.43398113, 7.5       ]),\n",
       " array([2.06155281, 5.70087713]),\n",
       " array([6.        , 7.43303437])]"
      ]
     },
     "execution_count": 19,
     "metadata": {},
     "output_type": "execute_result"
    }
   ],
   "source": [
    "distances = []\n",
    "clusters = np.zeros(len(data))\n",
    "\n",
    "\n",
    "\n",
    "#Vamos a definir una función que clacule distancias \n",
    "\n",
    "def dist (a,b,ax=1):\n",
    "    return np.linalg.norm(a-b, axis=ax)\n",
    "\n",
    "for i in range(len(data)):\n",
    "    ##Distance es un vector de dos \n",
    "    distance = dist(data[i], C)\n",
    "    distances.append(distance)\n",
    "    ## Indica 0 si la distance menor es al primero punto o 1 \n",
    "    cluster = np.argmin(distance)\n",
    "    clusters[i] = cluster\n",
    "\n",
    "print(clusters)\n",
    "distances"
   ]
  },
  {
   "cell_type": "code",
   "execution_count": 22,
   "metadata": {},
   "outputs": [
    {
     "name": "stdout",
     "output_type": "stream",
     "text": [
      "[array([ 8., 10.]), array([ 7. , 13.5]), array([6., 9.]), array([ 9., 11.]), array([ 8.5, 12. ]), array([ 8., 16.])]\n",
      "[array([ 3. , 10.5]), array([ 5., 18.]), array([ 5., 13.]), array([ 3., 18.])]\n",
      "[[ 7.75       11.91666667]\n",
      " [ 4.         14.875     ]]\n"
     ]
    }
   ],
   "source": [
    "for i in range(len(C)):\n",
    "    ##Vamos a determinar que puntos pertenencen a cada cluster \n",
    "    ## Se ha´ra uso de list comprehensiotn (completando para todos los datos)\n",
    "    ## Se indica como se obtiene el elemento j-esimo para un ciclo for \n",
    "    points = [data[j] for j in range(len(data)) if clusters[j]==i]\n",
    "    print(points)\n",
    "    ##Se asigna al centroide determinado\n",
    "    C[i] = np.mean(points, axis=0)\n",
    "print(C)\n"
   ]
  },
  {
   "attachments": {},
   "cell_type": "markdown",
   "metadata": {},
   "source": [
    "Veamos ahora graficamente como se encuentran nuestros 'nuevos centroides' con respecto a nuestra data"
   ]
  },
  {
   "cell_type": "code",
   "execution_count": 24,
   "metadata": {},
   "outputs": [
    {
     "data": {
      "text/plain": [
       "<matplotlib.collections.PathCollection at 0x160c809e5f0>"
      ]
     },
     "execution_count": 24,
     "metadata": {},
     "output_type": "execute_result"
    },
    {
     "data": {
      "image/png": "[encoded data removed]",
      "text/plain": [
       "<Figure size 432x288 with 1 Axes>"
      ]
     },
     "metadata": {
      "needs_background": "light"
     },
     "output_type": "display_data"
    }
   ],
   "source": [
    "## Grafica de centroides iniciales y la data a clasificar\n",
    "fig = plt.figure()\n",
    "plt.scatter(C[:,0],C[:,1], marker='*', s=200, c='k')\n",
    "plt.scatter(data[:,0], data[:,1])"
   ]
  },
  {
   "attachments": {},
   "cell_type": "markdown",
   "metadata": {},
   "source": [
    "Ejemplo con otro centroide adicional (paso2 de recalcular centroides del algoritmo)"
   ]
  },
  {
   "cell_type": "code",
   "execution_count": null,
   "metadata": {},
   "outputs": [],
   "source": [
    "distances2 = []\n",
    "clusters2 = np.zeros(len(data))\n",
    "\n",
    "\n",
    "\n",
    "#Vamos a definir una función que clacule distancias \n",
    "\n",
    "def dist (a,b,ax=1):\n",
    "    return np.linalg.norm(a-b, axis=ax)\n",
    "\n",
    "for i in range(len(data)):\n",
    "    ##Distance es un vector de dos \n",
    "    distance = dist(data[i], C2)\n",
    "    distances2.append(distance)\n",
    "    ## Indica 0 si la distance menor es al primero punto o 1 \n",
    "    cluster = np.argmin(distance)\n",
    "    clusters2[i] = cluster\n",
    "\n",
    "print(clusters2)\n",
    "distances2"
   ]
  },
  {
   "cell_type": "code",
   "execution_count": 25,
   "metadata": {},
   "outputs": [
    {
     "name": "stdout",
     "output_type": "stream",
     "text": [
      "[array([ 8., 10.]), array([6., 9.]), array([ 9., 11.]), array([ 8.5, 12. ])]\n",
      "[array([ 3. , 10.5])]\n",
      "[array([ 7. , 13.5]), array([ 5., 18.]), array([ 5., 13.]), array([ 3., 18.]), array([ 8., 16.])]\n",
      "[[ 7.875 10.5  ]\n",
      " [ 3.    10.5  ]\n",
      " [ 5.6   15.7  ]]\n"
     ]
    }
   ],
   "source": [
    "for i in range(len(C2)):\n",
    "    ##Vamos a determinar que puntos pertenencen a cada cluster \n",
    "    ## Se ha´ra uso de list comprehensiotn (completando para todos los datos)\n",
    "    ## Se indica como se obtiene el elemento j-esimo para un ciclo for \n",
    "    points2 = [data[j] for j in range(len(data)) if clusters2[j]==i]\n",
    "    print(points2)\n",
    "    ##Se asigna al centroide determinado\n",
    "    C2[i] = np.mean(points2, axis=0)\n",
    "print(C2)"
   ]
  },
  {
   "cell_type": "code",
   "execution_count": 27,
   "metadata": {},
   "outputs": [
    {
     "data": {
      "text/plain": [
       "<matplotlib.collections.PathCollection at 0x160cb19c1c0>"
      ]
     },
     "execution_count": 27,
     "metadata": {},
     "output_type": "execute_result"
    },
    {
     "data": {
      "image/png": "[encoded data removed]",
      "text/plain": [
       "<Figure size 432x288 with 1 Axes>"
      ]
     },
     "metadata": {
      "needs_background": "light"
     },
     "output_type": "display_data"
    }
   ],
   "source": [
    "## Grafica de centroides iniciales y la data a clasificar\n",
    "fig = plt.figure()\n",
    "plt.scatter(C2[:,0],C2[:,1], marker='*', s=200, c='k')\n",
    "plt.scatter(data[:,0], data[:,1])"
   ]
  },
  {
   "attachments": {},
   "cell_type": "markdown",
   "metadata": {},
   "source": [
    "Algoritmo completo de k means implementado en Python "
   ]
  },
  {
   "cell_type": "code",
   "execution_count": 28,
   "metadata": {},
   "outputs": [],
   "source": [
    "import numpy as np\n",
    "\n",
    "data = np.array([[8, 10], [3, 10.5], [7, 13.5], [5, 18], [5, 13], [6, 9], [9, 11], [3, 18], [8.5, 12], [8, 16]])\n",
    "C = np.array([[8, 10], [3, 10.5]])\n"
   ]
  },
  {
   "cell_type": "code",
   "execution_count": 29,
   "metadata": {},
   "outputs": [
    {
     "name": "stdout",
     "output_type": "stream",
     "text": [
      "Final centroids:\n",
      "[[ 7.75       11.91666667]\n",
      " [ 4.         14.875     ]]\n"
     ]
    }
   ],
   "source": [
    "\n",
    "def dist(a, b, ax=1):\n",
    "    return np.linalg.norm(a - b, axis=ax)\n",
    "\n",
    "# Initial centroids\n",
    "prev_C = C.copy()\n",
    "\n",
    "while True:\n",
    "    distances = []\n",
    "    clusters = np.zeros(len(data))\n",
    "\n",
    "    for i in range(len(data)):\n",
    "        distance = dist(data[i], C)\n",
    "        distances.append(distance)\n",
    "        cluster = np.argmin(distance)\n",
    "        clusters[i] = cluster\n",
    "\n",
    "    for i in range(len(C)):\n",
    "        points = [data[j] for j in range(len(data)) if clusters[j] == i]\n",
    "        C[i] = np.mean(points, axis=0)\n",
    "\n",
    "    if np.linalg.norm(C - prev_C) <= 0.001:\n",
    "        break\n",
    "\n",
    "    prev_C = C.copy()\n",
    "\n",
    "print(\"Final centroids:\")\n",
    "print(C)\n"
   ]
  },
  {
   "attachments": {},
   "cell_type": "markdown",
   "metadata": {},
   "source": [
    "Algoritmo completo de k means implementado en Python  (para el caso de más de dos centroides)"
   ]
  },
  {
   "cell_type": "code",
   "execution_count": 30,
   "metadata": {},
   "outputs": [],
   "source": [
    "data = np.array([[8, 10], [3, 10.5], [7, 13.5], [5, 18], [5, 13], [6, 9], [9, 11], [3, 18], [8.5, 12], [8, 16]])\n",
    "C2 = np.array([[8, 10], [3, 10.5], [6, 16]])"
   ]
  },
  {
   "cell_type": "code",
   "execution_count": 31,
   "metadata": {},
   "outputs": [
    {
     "name": "stdout",
     "output_type": "stream",
     "text": [
      "Final centroids:\n",
      "[[ 7.75       11.91666667]\n",
      " [ 4.         14.875     ]\n",
      " [ 6.         16.        ]]\n"
     ]
    }
   ],
   "source": [
    "def dist(a, b, ax=1):\n",
    "    return np.linalg.norm(a - b, axis=ax)\n",
    "\n",
    "# Initial centroids\n",
    "prev_C2 = C2.copy()\n",
    "\n",
    "while True:\n",
    "    distances2 = []\n",
    "    clusters2 = np.zeros(len(data))\n",
    "\n",
    "    for i in range(len(data)):\n",
    "        distance = dist(data[i], C)\n",
    "        distances2.append(distance)\n",
    "        cluster = np.argmin(distance)\n",
    "        clusters2[i] = cluster\n",
    "\n",
    "    for i in range(len(C)):\n",
    "        points2 = [data[j] for j in range(len(data)) if clusters2[j] == i]\n",
    "        C2[i] = np.mean(points2, axis=0)\n",
    "\n",
    "    if np.linalg.norm(C2 - prev_C2) <= 0.001:\n",
    "        break\n",
    "\n",
    "    prev_C2 = C2.copy()\n",
    "\n",
    "print(\"Final centroids:\")\n",
    "print(C2)"
   ]
  }
 ],
 "metadata": {
  "kernelspec": {
   "display_name": "Python 3",
   "language": "python",
   "name": "python3"
  },
  "language_info": {
   "codemirror_mode": {
    "name": "ipython",
    "version": 3
   },
   "file_extension": ".py",
   "mimetype": "text/x-python",
   "name": "python",
   "nbconvert_exporter": "python",
   "pygments_lexer": "ipython3",
   "version": "3.10.5"
  },
  "orig_nbformat": 4
 },
 "nbformat": 4,
 "nbformat_minor": 2
}
