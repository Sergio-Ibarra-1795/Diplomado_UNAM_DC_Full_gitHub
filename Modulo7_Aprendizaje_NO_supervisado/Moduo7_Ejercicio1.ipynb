{
 "cells": [
  {
   "attachments": {},
   "cell_type": "markdown",
   "metadata": {},
   "source": [
    "#### <font color=\"#03997A\"> Diplomado en Ciencia de datos UNAM </font>\n",
    "\n",
    "##### <font color=\"#03997A\"> Dr: Eduardo Espinosa A. </font>\n",
    "\n",
    "##### <font color=\"#03997A\"> Modulo 7 Aprendizaje de Maquina NO supervisado </font>\n",
    "\n",
    "##### <font color=\"#03997A\"> Temas 1, 2 y 3: Agrupamiento / Clustering con el método K-means, Hierarchical clustering, GMM Models\n",
    "##### Alumno: Ibarra Ramírez Sergio </font>"
   ]
  },
  {
   "attachments": {},
   "cell_type": "markdown",
   "metadata": {},
   "source": [
    "### Agrupamiento / Clustering con el método K-means"
   ]
  },
  {
   "attachments": {},
   "cell_type": "markdown",
   "metadata": {},
   "source": [
    "#### Agrupamiento / Clustering con el método K-means (Implementación de cero en Python)"
   ]
  },
  {
   "attachments": {},
   "cell_type": "markdown",
   "metadata": {},
   "source": [
    "Se importan librerias necesarias"
   ]
  },
  {
   "cell_type": "code",
   "execution_count": 1,
   "metadata": {},
   "outputs": [],
   "source": [
    "import numpy as np\n",
    "from matplotlib import pyplot as plt \n",
    "plt.rcParams['figure.figsize'] = (12,6)\n",
    "plt.style.use('ggplot')"
   ]
  },
  {
   "attachments": {},
   "cell_type": "markdown",
   "metadata": {},
   "source": [
    "Definimos la data a clasificar y los centroides iniciales "
   ]
  },
  {
   "cell_type": "code",
   "execution_count": 2,
   "metadata": {},
   "outputs": [],
   "source": [
    "data = np.array([[8, 10], [3, 10.5], [7, 13.5], [5, 18], [5, 13], [6, 9], [9, 11], [3, 18], [8.5, 12], [8, 16]])\n",
    "C = np.array([[8, 10], [3, 10.5]])"
   ]
  },
  {
   "attachments": {},
   "cell_type": "markdown",
   "metadata": {},
   "source": [
    "Graficamos la data y los centroides iniciales"
   ]
  },
  {
   "cell_type": "code",
   "execution_count": 3,
   "metadata": {},
   "outputs": [
    {
     "data": {
      "text/plain": [
       "<matplotlib.collections.PathCollection at 0x23af452bc10>"
      ]
     },
     "execution_count": 3,
     "metadata": {},
     "output_type": "execute_result"
    },
    {
     "data": {
      "image/png": "[encoded data removed]",
      "text/plain": [
       "<Figure size 432x288 with 1 Axes>"
      ]
     },
     "metadata": {
      "needs_background": "light"
     },
     "output_type": "display_data"
    }
   ],
   "source": [
    "## Grafica de centroides iniciales y la data a clasificar\n",
    "fig = plt.figure()\n",
    "plt.scatter(C[:,0],C[:,1], marker='*', s=200, c='k')\n",
    "plt.scatter(data[:,0], data[:,1])"
   ]
  },
  {
   "attachments": {},
   "cell_type": "markdown",
   "metadata": {},
   "source": [
    "Debemos calcular la distancia de cada punto a cada centroide y definir a que centroide/cluster pertenencen cada uno de los punts"
   ]
  },
  {
   "cell_type": "code",
   "execution_count": 5,
   "metadata": {},
   "outputs": [
    {
     "name": "stdout",
     "output_type": "stream",
     "text": [
      "[0. 1. 0. 1. 1. 0. 0. 1. 0. 0.]\n"
     ]
    },
    {
     "data": {
      "text/plain": [
       "[array([0.        , 5.02493781]),\n",
       " array([5.02493781, 0.        ]),\n",
       " array([3.64005494, 5.        ]),\n",
       " array([8.54400375, 7.76208735]),\n",
       " array([4.24264069, 3.20156212]),\n",
       " array([2.23606798, 3.35410197]),\n",
       " array([1.41421356, 6.02079729]),\n",
       " array([9.43398113, 7.5       ]),\n",
       " array([2.06155281, 5.70087713]),\n",
       " array([6.        , 7.43303437])]"
      ]
     },
     "execution_count": 5,
     "metadata": {},
     "output_type": "execute_result"
    }
   ],
   "source": [
    "distances = []\n",
    "clusters = np.zeros(len(data))\n",
    "\n",
    "\n",
    "#Vamos a definir una función que clacule distancias \n",
    "\n",
    "def dist (a,b,ax=1):\n",
    "    return np.linalg.norm(a-b, axis=ax)\n",
    "\n",
    "for i in range(len(data)):\n",
    "    ##Distance es un vector de dos \n",
    "    distance = dist(data[i], C)\n",
    "    distances.append(distance)\n",
    "    ## Indica 0 si la distance menor es al primero punto o 1 \n",
    "    cluster = np.argmin(distance)\n",
    "    clusters[i] = cluster\n",
    "\n",
    "print(clusters)\n",
    "distances"
   ]
  },
  {
   "attachments": {},
   "cell_type": "markdown",
   "metadata": {},
   "source": [
    "Se observa como clusters es un array de enteros donde 0 - Pertenece al cluster 1 y 1: Pertenece al cluster 2.  Además distances es una tupla de arrays, donde cada array tiene 2 elementos [distancia_al_cluster1,distancia_al_cluster2] y se asigna a cada elemento en data al cluster del que esté a menor distancia "
   ]
  },
  {
   "attachments": {},
   "cell_type": "markdown",
   "metadata": {},
   "source": [
    "Ahora, vamos implementar la segunda parte del algoritmo que recalcula los centroides como la media de los puntos asignados a cada centroide"
   ]
  },
  {
   "cell_type": "code",
   "execution_count": 15,
   "metadata": {},
   "outputs": [
    {
     "data": {
      "text/plain": [
       "[array([ 8., 10.]),\n",
       " array([ 7. , 13.5]),\n",
       " array([6., 9.]),\n",
       " array([ 9., 11.]),\n",
       " array([ 8.5, 12. ]),\n",
       " array([ 8., 16.])]"
      ]
     },
     "execution_count": 15,
     "metadata": {},
     "output_type": "execute_result"
    }
   ],
   "source": [
    "desired_cluster = 0  # Specify the cluster index you want to investigate\n",
    "points_assigned_to_cluster = [data[i] for i in range(len(data)) if clusters[i] == desired_cluster]\n",
    "points_assigned_to_cluster"
   ]
  },
  {
   "cell_type": "code",
   "execution_count": 6,
   "metadata": {},
   "outputs": [
    {
     "name": "stdout",
     "output_type": "stream",
     "text": [
      "[array([ 8., 10.]), array([ 7. , 13.5]), array([6., 9.]), array([ 9., 11.]), array([ 8.5, 12. ]), array([ 8., 16.])]\n",
      "[array([ 3. , 10.5]), array([ 5., 18.]), array([ 5., 13.]), array([ 3., 18.])]\n",
      "[[ 7.75       11.91666667]\n",
      " [ 4.         14.875     ]]\n"
     ]
    }
   ],
   "source": [
    "for i in range(len(C)):\n",
    "    ##Vamos a determinar que puntos pertenencen a cada cluster \n",
    "    ## Se hará uso de list comprehensiotn \n",
    "    ## Para cada elemento j-esimo dentro de la list data, cada elemento en el rango data\n",
    "    ## Si el INDEX ese j-esimo elemento dentro de clusters es igual al del i-esimo\n",
    "    ## elemento iterado en esta list comprehension el punto se agrega a points \n",
    "    points = [data[j] for j in range(len(data)) if clusters[j]==i]\n",
    "    print(points)\n",
    "    ##Se asigna al centroide determinado\n",
    "    C[i] = np.mean(points, axis=0)\n",
    "print(C)"
   ]
  },
  {
   "attachments": {},
   "cell_type": "markdown",
   "metadata": {},
   "source": [
    "Note: [data[j] for j in range(len(data)) if clusters[j] == i] is used to gather the data points that belong to the current cluster C[i]. The list comprehension iterates over the range of indices of the data array, checks if the cluster assignment clusters[j] matches the current cluster index i, and if it does, it includes the corresponding data point data[j] in the points list."
   ]
  },
  {
   "attachments": {},
   "cell_type": "markdown",
   "metadata": {},
   "source": [
    "Donde points es una lista de arrelgos con todos los puntos \n",
    "Y C[i] es el nuevo centroide para cada cluster"
   ]
  },
  {
   "attachments": {},
   "cell_type": "markdown",
   "metadata": {},
   "source": [
    "Veamos ahora graficamente como se encuentran nuestros 'nuevos centroides' con respecto a nuestra data"
   ]
  },
  {
   "cell_type": "code",
   "execution_count": 20,
   "metadata": {},
   "outputs": [
    {
     "data": {
      "text/plain": [
       "<matplotlib.collections.PathCollection at 0x23af671ed40>"
      ]
     },
     "execution_count": 20,
     "metadata": {},
     "output_type": "execute_result"
    },
    {
     "data": {
      "image/png": "[encoded data removed]",
      "text/plain": [
       "<Figure size 432x288 with 1 Axes>"
      ]
     },
     "metadata": {
      "needs_background": "light"
     },
     "output_type": "display_data"
    }
   ],
   "source": [
    "## Grafica de nuevo centroides iniciales y la data a clasificar\n",
    "fig = plt.figure()\n",
    "plt.scatter(C[:,0],C[:,1], marker='*', s=200, c='k')\n",
    "plt.scatter(data[:,0], data[:,1])"
   ]
  },
  {
   "attachments": {},
   "cell_type": "markdown",
   "metadata": {},
   "source": [
    "Se observa claramente como el centroide 'de la izquiera' ahora está mucho más cercano a los puntos superiores."
   ]
  },
  {
   "attachments": {},
   "cell_type": "markdown",
   "metadata": {},
   "source": [
    "Y ahora entramos en un ciclo donde debemos re-calcular la distancia de cada punto a cada centroide 'nuevo' y definir a que centroide/cluster 'nuevo' pertenencen cada uno de los puntos y volver a recalcular los centroides como la media de los puntos asignados a él. Este ciclo se repite hasta que los nuevos centroides sean practicamente igual al anterior calculado.\n",
    "\n",
    "Esto se logrará con un ciclo while que haga la iteración anterior hasta que \n",
    "la diferencia en el centroide[i] y el centroide[i-1] sea mejor a un threshold definido, de por ejemplo 0.001. De la siguiente manera: \n",
    "\n",
    "prev_C = C.copy()\n",
    "\n",
    "    if np.linalg.norm(C - prev_C) <= 0.001:\n",
    "        break\n",
    "\n",
    "    prev_C = C.copy()"
   ]
  },
  {
   "attachments": {},
   "cell_type": "markdown",
   "metadata": {},
   "source": [
    "El código completo de la implementación de K-means quedaría entnces como: "
   ]
  },
  {
   "cell_type": "code",
   "execution_count": 21,
   "metadata": {},
   "outputs": [
    {
     "name": "stdout",
     "output_type": "stream",
     "text": [
      "Final centroids:\n",
      "[[ 7.75       11.91666667]\n",
      " [ 4.         14.875     ]]\n"
     ]
    }
   ],
   "source": [
    "## Calcula la distancia de cada punto con el otro\n",
    "def dist(a, b, ax=1):\n",
    "    return np.linalg.norm(a - b, axis=ax)\n",
    "\n",
    "# Initial centroids\n",
    "prev_C = C.copy()\n",
    "\n",
    "while True:\n",
    "    ##Inicializamos arrays de distancias y de clusters\n",
    "    distances = []\n",
    "    clusters = np.zeros(len(data))\n",
    "\n",
    "\n",
    "    ## Para cada punto en el array data\n",
    "    for i in range(len(data)):\n",
    "        ## Calcula la distancia del i-esimo punto al centroide C return np.linalg.norm(a - b, axis=ax)\n",
    "        distance = dist(data[i], C)\n",
    "        ##Guarda todas esas distancias en un array para cada punto en array de arrays de distancias, llamado distances\n",
    "        distances.append(distance)\n",
    "        ## Asig una un cluster para cada distancia, como la minima distancia de cada array\n",
    "        cluster = np.argmin(distance)\n",
    "        ## Se guarda cada cluster de cada punti i en el array de clusters \n",
    "        clusters[i] = cluster\n",
    "\n",
    "        ## Para cada punto dentro de nuestros Centroides\n",
    "    for i in range(len(C)):\n",
    "        ## Le asigna a cada punto su centroide en caso en que clusters[j] == i  \n",
    "        points = [data[j] for j in range(len(data)) if clusters[j] == i]\n",
    "        ## El controide es la distancia media de todos los puntos \n",
    "        C[i] = np.mean(points, axis=0)\n",
    "\n",
    "\n",
    "\n",
    "   ### Actualiza los centroides si la difernecia entre sus distancias es mayor a un threshold definido \n",
    "    if np.linalg.norm(C - prev_C) <= 0.001:\n",
    "        break\n",
    "\n",
    "\n",
    "    ## Atualiza el valor de C[i-1] como el calulado en el respectivo ciclo \n",
    "    prev_C = C.copy()\n",
    "\n",
    "print(\"Final centroids:\")\n",
    "print(C)\n"
   ]
  },
  {
   "attachments": {},
   "cell_type": "markdown",
   "metadata": {},
   "source": [
    "#### Agrupamiento / Clustering con el método K-means (Implementación con la libreria sklearn)"
   ]
  },
  {
   "attachments": {},
   "cell_type": "markdown",
   "metadata": {},
   "source": [
    "##### Ahora vamos a implementar el mismo algoritmo de K-medias pero con ayuda de SKLEARN "
   ]
  },
  {
   "attachments": {},
   "cell_type": "markdown",
   "metadata": {},
   "source": [
    "Vamos a importar los datos"
   ]
  },
  {
   "cell_type": "code",
   "execution_count": 22,
   "metadata": {},
   "outputs": [
    {
     "name": "stdout",
     "output_type": "stream",
     "text": [
      "(3000, 2)\n"
     ]
    },
    {
     "data": {
      "text/html": [
       "<div>\n",
       "<style scoped>\n",
       "    .dataframe tbody tr th:only-of-type {\n",
       "        vertical-align: middle;\n",
       "    }\n",
       "\n",
       "    .dataframe tbody tr th {\n",
       "        vertical-align: top;\n",
       "    }\n",
       "\n",
       "    .dataframe thead th {\n",
       "        text-align: right;\n",
       "    }\n",
       "</style>\n",
       "<table border=\"1\" class=\"dataframe\">\n",
       "  <thead>\n",
       "    <tr style=\"text-align: right;\">\n",
       "      <th></th>\n",
       "      <th>V1</th>\n",
       "      <th>V2</th>\n",
       "    </tr>\n",
       "  </thead>\n",
       "  <tbody>\n",
       "    <tr>\n",
       "      <th>0</th>\n",
       "      <td>2.072345</td>\n",
       "      <td>-3.241693</td>\n",
       "    </tr>\n",
       "    <tr>\n",
       "      <th>1</th>\n",
       "      <td>17.936710</td>\n",
       "      <td>15.784810</td>\n",
       "    </tr>\n",
       "    <tr>\n",
       "      <th>2</th>\n",
       "      <td>1.083576</td>\n",
       "      <td>7.319176</td>\n",
       "    </tr>\n",
       "    <tr>\n",
       "      <th>3</th>\n",
       "      <td>11.120670</td>\n",
       "      <td>14.406780</td>\n",
       "    </tr>\n",
       "    <tr>\n",
       "      <th>4</th>\n",
       "      <td>23.711550</td>\n",
       "      <td>2.557729</td>\n",
       "    </tr>\n",
       "  </tbody>\n",
       "</table>\n",
       "</div>"
      ],
      "text/plain": [
       "          V1         V2\n",
       "0   2.072345  -3.241693\n",
       "1  17.936710  15.784810\n",
       "2   1.083576   7.319176\n",
       "3  11.120670  14.406780\n",
       "4  23.711550   2.557729"
      ]
     },
     "execution_count": 22,
     "metadata": {},
     "output_type": "execute_result"
    }
   ],
   "source": [
    "import pandas as pd\n",
    "data_k_means_sklearn = pd.read_csv('http://dicyg.fi-c.unam.mx:8080/lalo/pypcd/presentaciones/xclara.csv')\n",
    "print(data_k_means_sklearn.shape)\n",
    "data_k_means_sklearn.head(5)"
   ]
  },
  {
   "attachments": {},
   "cell_type": "markdown",
   "metadata": {},
   "source": [
    "Asignamos cada punto sus coordenadas en el plano cartesiano como X1 y X2 y los graficamos"
   ]
  },
  {
   "cell_type": "code",
   "execution_count": 23,
   "metadata": {},
   "outputs": [
    {
     "data": {
      "text/plain": [
       "<matplotlib.collections.PathCollection at 0x23af906c280>"
      ]
     },
     "execution_count": 23,
     "metadata": {},
     "output_type": "execute_result"
    },
    {
     "data": {
      "image/png": "[encoded data removed]",
      "text/plain": [
       "<Figure size 432x288 with 1 Axes>"
      ]
     },
     "metadata": {
      "needs_background": "light"
     },
     "output_type": "display_data"
    }
   ],
   "source": [
    "import numpy as np\n",
    "from matplotlib import pyplot as plt \n",
    "\n",
    "\n",
    "x1 = data_k_means_sklearn.V1.values\n",
    "x2 = data_k_means_sklearn.V2.values\n",
    "X = np.array(list(zip(x1,x2)))\n",
    "plt.scatter(x1,x2,c='black', s=7)"
   ]
  },
  {
   "attachments": {},
   "cell_type": "markdown",
   "metadata": {},
   "source": [
    "Vamos a importar la libreria necesaria, se llama Kmeans \n",
    "Vamos a definir el objeto km, entrenarlo con nuestra data y obtener el cluster para cada punto "
   ]
  },
  {
   "cell_type": "code",
   "execution_count": 26,
   "metadata": {},
   "outputs": [
    {
     "name": "stderr",
     "output_type": "stream",
     "text": [
      "c:\\Users\\Sergio\\AppData\\Local\\Programs\\Python\\Python310\\lib\\site-packages\\sklearn\\cluster\\_kmeans.py:870: FutureWarning: The default value of `n_init` will change from 10 to 'auto' in 1.4. Set the value of `n_init` explicitly to suppress the warning\n",
      "  warnings.warn(\n"
     ]
    },
    {
     "data": {
      "text/plain": [
       "array([2, 2, 2, ..., 1, 1, 1])"
      ]
     },
     "execution_count": 26,
     "metadata": {},
     "output_type": "execute_result"
    }
   ],
   "source": [
    "from sklearn.cluster import KMeans\n",
    "\n",
    "## Creamos el objeto km \n",
    "km = KMeans(n_clusters=3)\n",
    "\n",
    "## Se entrena o ajusta el modelo\n",
    "km = km.fit(X)\n",
    "## Se guardan las etiquetas de las clases\n",
    "clusters_asignation_k_means_skelarn = km.predict(X)\n",
    "clusters_asignation_k_means_skelarn \n"
   ]
  },
  {
   "attachments": {},
   "cell_type": "markdown",
   "metadata": {},
   "source": [
    "Además se obtienen los Clusters finales "
   ]
  },
  {
   "cell_type": "code",
   "execution_count": 27,
   "metadata": {},
   "outputs": [
    {
     "data": {
      "text/plain": [
       "array([[ 40.68362784,  59.71589274],\n",
       "       [ 69.92418447, -10.11964119],\n",
       "       [  9.4780459 ,  10.686052  ]])"
      ]
     },
     "execution_count": 27,
     "metadata": {},
     "output_type": "execute_result"
    }
   ],
   "source": [
    "## Se definen los centroides\n",
    "C = km.cluster_centers_ \n",
    "C"
   ]
  },
  {
   "attachments": {},
   "cell_type": "markdown",
   "metadata": {},
   "source": [
    "Graficamos el resultado del Kmeans"
   ]
  },
  {
   "cell_type": "code",
   "execution_count": 28,
   "metadata": {},
   "outputs": [
    {
     "data": {
      "text/plain": [
       "<matplotlib.collections.PathCollection at 0x23a81471570>"
      ]
     },
     "execution_count": 28,
     "metadata": {},
     "output_type": "execute_result"
    },
    {
     "data": {
      "image/png": "[encoded data removed]",
      "text/plain": [
       "<Figure size 432x288 with 1 Axes>"
      ]
     },
     "metadata": {
      "needs_background": "light"
     },
     "output_type": "display_data"
    }
   ],
   "source": [
    "plt.scatter(X[:,0], X[:,1], c=y)\n",
    "plt.scatter(C[:,0], C[:,1], marker='*', s=200, c='k')"
   ]
  },
  {
   "attachments": {},
   "cell_type": "markdown",
   "metadata": {},
   "source": [
    "Para justar el hiperparámetro de n_clusters en el modelo K-means se debe hacer el algoritmo para diferentes n_clusters y verificar para cada uno de ellos, una especie de 'error' que sería el cuadrado de la distancia entre los puntos y su respectivo centroide, con el objetivo de encontrar la n_clusters que MINIMICE dicho 'error' o residuo. \n",
    "Este método se conoce como 'método del codo' y se puede implementar muy facul con la ayuda de las librerías de Python "
   ]
  },
  {
   "attachments": {},
   "cell_type": "markdown",
   "metadata": {},
   "source": [
    "##### Método del codo para evaluación de número óptimo de clusters en K means "
   ]
  },
  {
   "cell_type": "code",
   "execution_count": 29,
   "metadata": {},
   "outputs": [
    {
     "name": "stderr",
     "output_type": "stream",
     "text": [
      "c:\\Users\\Sergio\\AppData\\Local\\Programs\\Python\\Python310\\lib\\site-packages\\sklearn\\cluster\\_kmeans.py:870: FutureWarning: The default value of `n_init` will change from 10 to 'auto' in 1.4. Set the value of `n_init` explicitly to suppress the warning\n",
      "  warnings.warn(\n",
      "c:\\Users\\Sergio\\AppData\\Local\\Programs\\Python\\Python310\\lib\\site-packages\\sklearn\\cluster\\_kmeans.py:870: FutureWarning: The default value of `n_init` will change from 10 to 'auto' in 1.4. Set the value of `n_init` explicitly to suppress the warning\n",
      "  warnings.warn(\n",
      "c:\\Users\\Sergio\\AppData\\Local\\Programs\\Python\\Python310\\lib\\site-packages\\sklearn\\cluster\\_kmeans.py:870: FutureWarning: The default value of `n_init` will change from 10 to 'auto' in 1.4. Set the value of `n_init` explicitly to suppress the warning\n",
      "  warnings.warn(\n",
      "c:\\Users\\Sergio\\AppData\\Local\\Programs\\Python\\Python310\\lib\\site-packages\\sklearn\\cluster\\_kmeans.py:870: FutureWarning: The default value of `n_init` will change from 10 to 'auto' in 1.4. Set the value of `n_init` explicitly to suppress the warning\n",
      "  warnings.warn(\n",
      "c:\\Users\\Sergio\\AppData\\Local\\Programs\\Python\\Python310\\lib\\site-packages\\sklearn\\cluster\\_kmeans.py:870: FutureWarning: The default value of `n_init` will change from 10 to 'auto' in 1.4. Set the value of `n_init` explicitly to suppress the warning\n",
      "  warnings.warn(\n",
      "c:\\Users\\Sergio\\AppData\\Local\\Programs\\Python\\Python310\\lib\\site-packages\\sklearn\\cluster\\_kmeans.py:870: FutureWarning: The default value of `n_init` will change from 10 to 'auto' in 1.4. Set the value of `n_init` explicitly to suppress the warning\n",
      "  warnings.warn(\n",
      "c:\\Users\\Sergio\\AppData\\Local\\Programs\\Python\\Python310\\lib\\site-packages\\sklearn\\cluster\\_kmeans.py:870: FutureWarning: The default value of `n_init` will change from 10 to 'auto' in 1.4. Set the value of `n_init` explicitly to suppress the warning\n",
      "  warnings.warn(\n",
      "c:\\Users\\Sergio\\AppData\\Local\\Programs\\Python\\Python310\\lib\\site-packages\\sklearn\\cluster\\_kmeans.py:870: FutureWarning: The default value of `n_init` will change from 10 to 'auto' in 1.4. Set the value of `n_init` explicitly to suppress the warning\n",
      "  warnings.warn(\n",
      "c:\\Users\\Sergio\\AppData\\Local\\Programs\\Python\\Python310\\lib\\site-packages\\sklearn\\cluster\\_kmeans.py:870: FutureWarning: The default value of `n_init` will change from 10 to 'auto' in 1.4. Set the value of `n_init` explicitly to suppress the warning\n",
      "  warnings.warn(\n",
      "c:\\Users\\Sergio\\AppData\\Local\\Programs\\Python\\Python310\\lib\\site-packages\\sklearn\\cluster\\_kmeans.py:870: FutureWarning: The default value of `n_init` will change from 10 to 'auto' in 1.4. Set the value of `n_init` explicitly to suppress the warning\n",
      "  warnings.warn(\n"
     ]
    },
    {
     "data": {
      "image/png": "[encoded data removed]",
      "text/plain": [
       "<Figure size 576x396 with 2 Axes>"
      ]
     },
     "metadata": {},
     "output_type": "display_data"
    }
   ],
   "source": [
    "from sklearn.cluster import KMeans\n",
    "from sklearn.datasets import make_blobs\n",
    "from yellowbrick.cluster import KElbowVisualizer\n",
    "import matplotlib.pyplot as plt\n",
    "\n",
    "# Generating a random dataset\n",
    "X, y = make_blobs(n_samples=1000, n_features=12, centers=8, random_state=42)\n",
    "\n",
    "vis = KElbowVisualizer(KMeans(), k=(2, 12), timings=True)\n",
    "vis.fit(X)\n",
    "plt.xlabel('Number of clusters')\n",
    "plt.ylabel('Distortion')\n",
    "plt.show()"
   ]
  },
  {
   "attachments": {},
   "cell_type": "markdown",
   "metadata": {},
   "source": [
    "#### Comentarios generales sobre el método K-means. \n",
    "\n",
    "Ventajas: \n",
    "- Permite trabajar con datos de muchas variables \n",
    "- Tiene solamente un hiperparámetro a ajustar/definir (n_clusters)\n",
    "\n",
    "Desventajas: \n",
    "- Es muy sensible a la elección de centroides iniciales\n",
    "- En cada ciclo debe calcular la distancia de cada punto a cada centroide y eso puede generar mucho costo computacional \n",
    "- Puede no ser muy bueno si los datos 'no son tan linealmente separables'\n"
   ]
  },
  {
   "attachments": {},
   "cell_type": "markdown",
   "metadata": {},
   "source": []
  },
  {
   "attachments": {},
   "cell_type": "markdown",
   "metadata": {},
   "source": [
    "### Hierarchical Clustering o clustering jerarquico"
   ]
  },
  {
   "attachments": {},
   "cell_type": "markdown",
   "metadata": {},
   "source": [
    "#### Hierarchical Clustering (ejemplo 1)"
   ]
  },
  {
   "attachments": {},
   "cell_type": "markdown",
   "metadata": {},
   "source": [
    "Vamos a importar las librerias necesarias"
   ]
  },
  {
   "cell_type": "code",
   "execution_count": 30,
   "metadata": {},
   "outputs": [],
   "source": [
    "import pandas as pd\n",
    "import numpy as np\n",
    "import matplotlib.pyplot as plt "
   ]
  },
  {
   "attachments": {},
   "cell_type": "markdown",
   "metadata": {},
   "source": [
    "Importamos la data necesaria para aplicar el algoritmo de Cluster jerarquico "
   ]
  },
  {
   "cell_type": "code",
   "execution_count": 32,
   "metadata": {},
   "outputs": [
    {
     "data": {
      "text/html": [
       "<div>\n",
       "<style scoped>\n",
       "    .dataframe tbody tr th:only-of-type {\n",
       "        vertical-align: middle;\n",
       "    }\n",
       "\n",
       "    .dataframe tbody tr th {\n",
       "        vertical-align: top;\n",
       "    }\n",
       "\n",
       "    .dataframe thead th {\n",
       "        text-align: right;\n",
       "    }\n",
       "</style>\n",
       "<table border=\"1\" class=\"dataframe\">\n",
       "  <thead>\n",
       "    <tr style=\"text-align: right;\">\n",
       "      <th></th>\n",
       "      <th>Channel</th>\n",
       "      <th>Region</th>\n",
       "      <th>Fresh</th>\n",
       "      <th>Milk</th>\n",
       "      <th>Grocery</th>\n",
       "      <th>Frozen</th>\n",
       "      <th>Detergents_Paper</th>\n",
       "      <th>Delicassen</th>\n",
       "    </tr>\n",
       "  </thead>\n",
       "  <tbody>\n",
       "    <tr>\n",
       "      <th>0</th>\n",
       "      <td>2</td>\n",
       "      <td>3</td>\n",
       "      <td>12669</td>\n",
       "      <td>9656</td>\n",
       "      <td>7561</td>\n",
       "      <td>214</td>\n",
       "      <td>2674</td>\n",
       "      <td>1338</td>\n",
       "    </tr>\n",
       "    <tr>\n",
       "      <th>1</th>\n",
       "      <td>2</td>\n",
       "      <td>3</td>\n",
       "      <td>7057</td>\n",
       "      <td>9810</td>\n",
       "      <td>9568</td>\n",
       "      <td>1762</td>\n",
       "      <td>3293</td>\n",
       "      <td>1776</td>\n",
       "    </tr>\n",
       "    <tr>\n",
       "      <th>2</th>\n",
       "      <td>2</td>\n",
       "      <td>3</td>\n",
       "      <td>6353</td>\n",
       "      <td>8808</td>\n",
       "      <td>7684</td>\n",
       "      <td>2405</td>\n",
       "      <td>3516</td>\n",
       "      <td>7844</td>\n",
       "    </tr>\n",
       "    <tr>\n",
       "      <th>3</th>\n",
       "      <td>1</td>\n",
       "      <td>3</td>\n",
       "      <td>13265</td>\n",
       "      <td>1196</td>\n",
       "      <td>4221</td>\n",
       "      <td>6404</td>\n",
       "      <td>507</td>\n",
       "      <td>1788</td>\n",
       "    </tr>\n",
       "  </tbody>\n",
       "</table>\n",
       "</div>"
      ],
      "text/plain": [
       "   Channel  Region  Fresh  Milk  Grocery  Frozen  Detergents_Paper  Delicassen\n",
       "0        2       3  12669  9656     7561     214              2674        1338\n",
       "1        2       3   7057  9810     9568    1762              3293        1776\n",
       "2        2       3   6353  8808     7684    2405              3516        7844\n",
       "3        1       3  13265  1196     4221    6404               507        1788"
      ]
     },
     "execution_count": 32,
     "metadata": {},
     "output_type": "execute_result"
    }
   ],
   "source": [
    "url_jerarquico = 'https://bit.ly/2COHM14'\n",
    "data_jerarquico = pd.read_csv(url_jerarquico)\n",
    "data_jerarquico.head(4)"
   ]
  },
  {
   "attachments": {},
   "cell_type": "markdown",
   "metadata": {},
   "source": [
    "Vamos a normalizar los datos para tener una misma escala "
   ]
  },
  {
   "cell_type": "code",
   "execution_count": 33,
   "metadata": {},
   "outputs": [
    {
     "data": {
      "text/plain": [
       "array([[1.11821406e-04, 1.67732109e-04, 7.08332695e-01, ...,\n",
       "        1.19648904e-02, 1.49505220e-01, 7.48085205e-02],\n",
       "       [1.25321880e-04, 1.87982820e-04, 4.42198253e-01, ...,\n",
       "        1.10408576e-01, 2.06342475e-01, 1.11285829e-01],\n",
       "       [1.24839188e-04, 1.87258782e-04, 3.96551681e-01, ...,\n",
       "        1.50119124e-01, 2.19467293e-01, 4.89619296e-01],\n",
       "       ...,\n",
       "       [5.01633106e-05, 7.52449659e-05, 3.64461533e-01, ...,\n",
       "        1.09606834e-02, 3.72236846e-01, 4.68274505e-02],\n",
       "       [9.11309417e-05, 2.73392825e-04, 9.37737390e-01, ...,\n",
       "        9.45939175e-02, 1.53099982e-02, 1.93653251e-01],\n",
       "       [2.41225630e-04, 7.23676891e-04, 6.72295832e-01, ...,\n",
       "        1.56796660e-02, 1.15064626e-01, 1.25437328e-02]])"
      ]
     },
     "execution_count": 33,
     "metadata": {},
     "output_type": "execute_result"
    }
   ],
   "source": [
    "from numpy.linalg import norm\n",
    "from sklearn.preprocessing import normalize\n",
    "data_jerarquico_scaled = normalize(data_jerarquico)\n",
    "data_jerarquico_scaled"
   ]
  },
  {
   "attachments": {},
   "cell_type": "markdown",
   "metadata": {},
   "source": [
    "Vamos a formar un DataFrame con la data ya 'normalizada'"
   ]
  },
  {
   "cell_type": "code",
   "execution_count": 35,
   "metadata": {},
   "outputs": [
    {
     "data": {
      "text/html": [
       "<div>\n",
       "<style scoped>\n",
       "    .dataframe tbody tr th:only-of-type {\n",
       "        vertical-align: middle;\n",
       "    }\n",
       "\n",
       "    .dataframe tbody tr th {\n",
       "        vertical-align: top;\n",
       "    }\n",
       "\n",
       "    .dataframe thead th {\n",
       "        text-align: right;\n",
       "    }\n",
       "</style>\n",
       "<table border=\"1\" class=\"dataframe\">\n",
       "  <thead>\n",
       "    <tr style=\"text-align: right;\">\n",
       "      <th></th>\n",
       "      <th>Channel</th>\n",
       "      <th>Region</th>\n",
       "      <th>Fresh</th>\n",
       "      <th>Milk</th>\n",
       "      <th>Grocery</th>\n",
       "      <th>Frozen</th>\n",
       "      <th>Detergents_Paper</th>\n",
       "      <th>Delicassen</th>\n",
       "    </tr>\n",
       "  </thead>\n",
       "  <tbody>\n",
       "    <tr>\n",
       "      <th>0</th>\n",
       "      <td>0.000112</td>\n",
       "      <td>0.000168</td>\n",
       "      <td>0.708333</td>\n",
       "      <td>0.539874</td>\n",
       "      <td>0.422741</td>\n",
       "      <td>0.011965</td>\n",
       "      <td>0.149505</td>\n",
       "      <td>0.074809</td>\n",
       "    </tr>\n",
       "    <tr>\n",
       "      <th>1</th>\n",
       "      <td>0.000125</td>\n",
       "      <td>0.000188</td>\n",
       "      <td>0.442198</td>\n",
       "      <td>0.614704</td>\n",
       "      <td>0.599540</td>\n",
       "      <td>0.110409</td>\n",
       "      <td>0.206342</td>\n",
       "      <td>0.111286</td>\n",
       "    </tr>\n",
       "    <tr>\n",
       "      <th>2</th>\n",
       "      <td>0.000125</td>\n",
       "      <td>0.000187</td>\n",
       "      <td>0.396552</td>\n",
       "      <td>0.549792</td>\n",
       "      <td>0.479632</td>\n",
       "      <td>0.150119</td>\n",
       "      <td>0.219467</td>\n",
       "      <td>0.489619</td>\n",
       "    </tr>\n",
       "    <tr>\n",
       "      <th>3</th>\n",
       "      <td>0.000065</td>\n",
       "      <td>0.000194</td>\n",
       "      <td>0.856837</td>\n",
       "      <td>0.077254</td>\n",
       "      <td>0.272650</td>\n",
       "      <td>0.413659</td>\n",
       "      <td>0.032749</td>\n",
       "      <td>0.115494</td>\n",
       "    </tr>\n",
       "  </tbody>\n",
       "</table>\n",
       "</div>"
      ],
      "text/plain": [
       "    Channel    Region     Fresh      Milk   Grocery    Frozen  \\\n",
       "0  0.000112  0.000168  0.708333  0.539874  0.422741  0.011965   \n",
       "1  0.000125  0.000188  0.442198  0.614704  0.599540  0.110409   \n",
       "2  0.000125  0.000187  0.396552  0.549792  0.479632  0.150119   \n",
       "3  0.000065  0.000194  0.856837  0.077254  0.272650  0.413659   \n",
       "\n",
       "   Detergents_Paper  Delicassen  \n",
       "0          0.149505    0.074809  \n",
       "1          0.206342    0.111286  \n",
       "2          0.219467    0.489619  \n",
       "3          0.032749    0.115494  "
      ]
     },
     "execution_count": 35,
     "metadata": {},
     "output_type": "execute_result"
    }
   ],
   "source": [
    "data_jerarquico_scaled = pd.DataFrame(data_jerarquico_scaled, columns=data_jerarquico.columns)\n",
    "\n",
    "data_jerarquico_scaled.head(4)"
   ]
  },
  {
   "attachments": {},
   "cell_type": "markdown",
   "metadata": {},
   "source": [
    "Vamos a aplicar el modelo jerarquico y graficar el dendograma de clasificaicón y obtener el n_clusters 'óptimo' según el algoritmo scipy.cluster.hierarchy "
   ]
  },
  {
   "cell_type": "code",
   "execution_count": 36,
   "metadata": {},
   "outputs": [
    {
     "data": {
      "image/png": "[encoded data removed]",
      "text/plain": [
       "<Figure size 720x504 with 1 Axes>"
      ]
     },
     "metadata": {},
     "output_type": "display_data"
    }
   ],
   "source": [
    "import scipy.cluster.hierarchy as sch\n",
    "plt.figure(figsize=(10,7))\n",
    "plt.title('Dendograma')\n",
    "dendograma_jerarquico_ejemplo1 = sch.dendrogram(sch.linkage(data_jerarquico_scaled,method='ward'))"
   ]
  },
  {
   "attachments": {},
   "cell_type": "markdown",
   "metadata": {},
   "source": [
    "Ahora vamos a usar el n_clusters 'óptimo' que se obtuvo del dendograma para asignar a cada uno de nuestros puntos a uno u otro cluster "
   ]
  },
  {
   "cell_type": "code",
   "execution_count": 37,
   "metadata": {},
   "outputs": [
    {
     "name": "stderr",
     "output_type": "stream",
     "text": [
      "c:\\Users\\Sergio\\AppData\\Local\\Programs\\Python\\Python310\\lib\\site-packages\\sklearn\\cluster\\_agglomerative.py:983: FutureWarning: Attribute `affinity` was deprecated in version 1.2 and will be removed in 1.4. Use `metric` instead\n",
      "  warnings.warn(\n"
     ]
    },
    {
     "data": {
      "text/plain": [
       "array([1, 1, 1, 0, 0, 1, 0, 1, 1, 1, 1, 0, 0, 0, 0, 0, 1, 1, 0, 0, 0, 0,\n",
       "       0, 1, 0, 0, 0, 0, 1, 0, 0, 1, 0, 0, 1, 1, 0, 1, 1, 0, 0, 0, 1, 1,\n",
       "       1, 1, 1, 1, 1, 1, 0, 1, 0, 1, 0, 1, 1, 1, 0, 1, 0, 1, 1, 1, 0, 1,\n",
       "       1, 0, 1, 0, 0, 0, 0, 0, 1, 0, 0, 1, 0, 1, 0, 1, 1, 0, 0, 1, 1, 0,\n",
       "       0, 0, 0, 0, 1, 0, 1, 1, 1, 0, 0, 0, 1, 1, 1, 0, 0, 0, 1, 1, 1, 1,\n",
       "       0, 1, 0, 0, 0, 0, 0, 1, 0, 0, 0, 0, 0, 1, 0, 0, 0, 0, 1, 0, 0, 0,\n",
       "       0, 0, 0, 0, 1, 1, 0, 1, 0, 0, 0, 0, 0, 1, 0, 0, 0, 0, 0, 1, 0, 1,\n",
       "       0, 1, 1, 0, 1, 1, 1, 0, 0, 1, 1, 1, 1, 1, 0, 0, 1, 1, 1, 1, 1, 1,\n",
       "       0, 0, 0, 1, 0, 0, 1, 1, 1, 0, 0, 1, 1, 1, 0, 0, 0, 1, 0, 0, 0, 1,\n",
       "       0, 0, 1, 1, 0, 1, 1, 1, 0, 1, 1, 1, 0, 1, 0, 1, 1, 1, 1, 0, 1, 0,\n",
       "       0, 1, 0, 0, 0, 0, 0, 0, 1, 0, 0, 1, 0, 1, 0, 1, 0, 0, 0, 0, 0, 0,\n",
       "       0, 0, 1, 1, 0, 0, 0, 0, 0, 1, 0, 0, 1, 0, 0, 0, 0, 0, 0, 0, 0, 1,\n",
       "       1, 1, 1, 0, 1, 0, 0, 1, 1, 0, 1, 1, 0, 0, 0, 0, 1, 0, 0, 0, 0, 0,\n",
       "       0, 0, 0, 0, 1, 0, 1, 1, 0, 0, 0, 0, 1, 1, 0, 1, 1, 1, 1, 1, 1, 0,\n",
       "       0, 1, 0, 0, 1, 0, 0, 1, 0, 1, 0, 1, 1, 0, 0, 0, 0, 0, 0, 1, 0, 0,\n",
       "       0, 1, 0, 1, 0, 0, 0, 0, 0, 0, 1, 1, 1, 1, 0, 1, 1, 0, 1, 1, 0, 1,\n",
       "       1, 1, 0, 1, 0, 1, 1, 1, 0, 0, 1, 0, 0, 1, 0, 0, 0, 0, 0, 0, 1, 0,\n",
       "       0, 0, 1, 0, 1, 1, 0, 0, 0, 0, 1, 0, 1, 0, 0, 0, 0, 1, 1, 0, 0, 0,\n",
       "       1, 0, 0, 0, 0, 0, 0, 0, 0, 0, 0, 1, 0, 0, 0, 1, 1, 0, 0, 1, 1, 1,\n",
       "       1, 0, 1, 0, 0, 0, 0, 0, 1, 0, 1, 0, 1, 0, 0, 1, 0, 0, 0, 1, 0, 1],\n",
       "      dtype=int64)"
      ]
     },
     "execution_count": 37,
     "metadata": {},
     "output_type": "execute_result"
    }
   ],
   "source": [
    "from sklearn.cluster import AgglomerativeClustering\n",
    "\n",
    "cluster_jerarquico_ejemplo1 = AgglomerativeClustering(n_clusters=2, affinity='euclidean', linkage='ward')\n",
    "cluster_jerarquico_ejemplo1.fit_predict(data_jerarquico_scaled)"
   ]
  },
  {
   "attachments": {},
   "cell_type": "markdown",
   "metadata": {},
   "source": [
    "Vamos a graficar un ejemplo del clustering (reducido a dos variables)"
   ]
  },
  {
   "cell_type": "code",
   "execution_count": 38,
   "metadata": {},
   "outputs": [
    {
     "data": {
      "text/plain": [
       "<matplotlib.collections.PathCollection at 0x23a8a4dba60>"
      ]
     },
     "execution_count": 38,
     "metadata": {},
     "output_type": "execute_result"
    },
    {
     "data": {
      "image/png": "[encoded data removed]",
      "text/plain": [
       "<Figure size 360x288 with 1 Axes>"
      ]
     },
     "metadata": {},
     "output_type": "display_data"
    }
   ],
   "source": [
    "plt.figure(figsize=(5,4))\n",
    "plt.scatter(data_jerarquico_scaled.Milk, data_jerarquico_scaled.Grocery, c= cluster_jerarquico_ejemplo1.labels_, cmap='rainbow')"
   ]
  },
  {
   "attachments": {},
   "cell_type": "markdown",
   "metadata": {},
   "source": [
    "#### Hierarchical Clustering (ejemplo 2)"
   ]
  },
  {
   "attachments": {},
   "cell_type": "markdown",
   "metadata": {},
   "source": [
    "Importamos la data necesaria para aplicar el algoritmo de Cluster jerarquico (ejmeplo2)"
   ]
  },
  {
   "cell_type": "code",
   "execution_count": 49,
   "metadata": {},
   "outputs": [
    {
     "data": {
      "text/html": [
       "<div>\n",
       "<style scoped>\n",
       "    .dataframe tbody tr th:only-of-type {\n",
       "        vertical-align: middle;\n",
       "    }\n",
       "\n",
       "    .dataframe tbody tr th {\n",
       "        vertical-align: top;\n",
       "    }\n",
       "\n",
       "    .dataframe thead th {\n",
       "        text-align: right;\n",
       "    }\n",
       "</style>\n",
       "<table border=\"1\" class=\"dataframe\">\n",
       "  <thead>\n",
       "    <tr style=\"text-align: right;\">\n",
       "      <th></th>\n",
       "      <th>CustomerID</th>\n",
       "      <th>Genre</th>\n",
       "      <th>Age</th>\n",
       "      <th>Annual Income (k$)</th>\n",
       "      <th>Spending Score (1-100)</th>\n",
       "    </tr>\n",
       "  </thead>\n",
       "  <tbody>\n",
       "    <tr>\n",
       "      <th>0</th>\n",
       "      <td>1</td>\n",
       "      <td>Male</td>\n",
       "      <td>19</td>\n",
       "      <td>15</td>\n",
       "      <td>39</td>\n",
       "    </tr>\n",
       "    <tr>\n",
       "      <th>1</th>\n",
       "      <td>2</td>\n",
       "      <td>Male</td>\n",
       "      <td>21</td>\n",
       "      <td>15</td>\n",
       "      <td>81</td>\n",
       "    </tr>\n",
       "    <tr>\n",
       "      <th>2</th>\n",
       "      <td>3</td>\n",
       "      <td>Female</td>\n",
       "      <td>20</td>\n",
       "      <td>16</td>\n",
       "      <td>6</td>\n",
       "    </tr>\n",
       "    <tr>\n",
       "      <th>3</th>\n",
       "      <td>4</td>\n",
       "      <td>Female</td>\n",
       "      <td>23</td>\n",
       "      <td>16</td>\n",
       "      <td>77</td>\n",
       "    </tr>\n",
       "  </tbody>\n",
       "</table>\n",
       "</div>"
      ],
      "text/plain": [
       "   CustomerID   Genre  Age  Annual Income (k$)  Spending Score (1-100)\n",
       "0           1    Male   19                  15                      39\n",
       "1           2    Male   21                  15                      81\n",
       "2           3  Female   20                  16                       6\n",
       "3           4  Female   23                  16                      77"
      ]
     },
     "execution_count": 49,
     "metadata": {},
     "output_type": "execute_result"
    }
   ],
   "source": [
    "dataset_jearquico_ejemplo2 = pd.read_csv('http://dicyg.fi-c.unam.mx:8080/lalo/pypcd/presentaciones/Mall_Customers.csv')\n",
    "dataset_jearquico_ejemplo2.head(4)"
   ]
  },
  {
   "attachments": {},
   "cell_type": "markdown",
   "metadata": {},
   "source": [
    "Vamos a usar solamente ingreso anual y score como variables para generar nuestros clusters  "
   ]
  },
  {
   "cell_type": "code",
   "execution_count": 50,
   "metadata": {},
   "outputs": [
    {
     "data": {
      "text/plain": [
       "array([[ 15,  39],\n",
       "       [ 15,  81],\n",
       "       [ 16,   6],\n",
       "       [ 16,  77],\n",
       "       [ 17,  40],\n",
       "       [ 17,  76],\n",
       "       [ 18,   6],\n",
       "       [ 18,  94],\n",
       "       [ 19,   3],\n",
       "       [ 19,  72],\n",
       "       [ 19,  14],\n",
       "       [ 19,  99],\n",
       "       [ 20,  15],\n",
       "       [ 20,  77],\n",
       "       [ 20,  13],\n",
       "       [ 20,  79],\n",
       "       [ 21,  35],\n",
       "       [ 21,  66],\n",
       "       [ 23,  29],\n",
       "       [ 23,  98],\n",
       "       [ 24,  35],\n",
       "       [ 24,  73],\n",
       "       [ 25,   5],\n",
       "       [ 25,  73],\n",
       "       [ 28,  14],\n",
       "       [ 28,  82],\n",
       "       [ 28,  32],\n",
       "       [ 28,  61],\n",
       "       [ 29,  31],\n",
       "       [ 29,  87],\n",
       "       [ 30,   4],\n",
       "       [ 30,  73],\n",
       "       [ 33,   4],\n",
       "       [ 33,  92],\n",
       "       [ 33,  14],\n",
       "       [ 33,  81],\n",
       "       [ 34,  17],\n",
       "       [ 34,  73],\n",
       "       [ 37,  26],\n",
       "       [ 37,  75],\n",
       "       [ 38,  35],\n",
       "       [ 38,  92],\n",
       "       [ 39,  36],\n",
       "       [ 39,  61],\n",
       "       [ 39,  28],\n",
       "       [ 39,  65],\n",
       "       [ 40,  55],\n",
       "       [ 40,  47],\n",
       "       [ 40,  42],\n",
       "       [ 40,  42],\n",
       "       [ 42,  52],\n",
       "       [ 42,  60],\n",
       "       [ 43,  54],\n",
       "       [ 43,  60],\n",
       "       [ 43,  45],\n",
       "       [ 43,  41],\n",
       "       [ 44,  50],\n",
       "       [ 44,  46],\n",
       "       [ 46,  51],\n",
       "       [ 46,  46],\n",
       "       [ 46,  56],\n",
       "       [ 46,  55],\n",
       "       [ 47,  52],\n",
       "       [ 47,  59],\n",
       "       [ 48,  51],\n",
       "       [ 48,  59],\n",
       "       [ 48,  50],\n",
       "       [ 48,  48],\n",
       "       [ 48,  59],\n",
       "       [ 48,  47],\n",
       "       [ 49,  55],\n",
       "       [ 49,  42],\n",
       "       [ 50,  49],\n",
       "       [ 50,  56],\n",
       "       [ 54,  47],\n",
       "       [ 54,  54],\n",
       "       [ 54,  53],\n",
       "       [ 54,  48],\n",
       "       [ 54,  52],\n",
       "       [ 54,  42],\n",
       "       [ 54,  51],\n",
       "       [ 54,  55],\n",
       "       [ 54,  41],\n",
       "       [ 54,  44],\n",
       "       [ 54,  57],\n",
       "       [ 54,  46],\n",
       "       [ 57,  58],\n",
       "       [ 57,  55],\n",
       "       [ 58,  60],\n",
       "       [ 58,  46],\n",
       "       [ 59,  55],\n",
       "       [ 59,  41],\n",
       "       [ 60,  49],\n",
       "       [ 60,  40],\n",
       "       [ 60,  42],\n",
       "       [ 60,  52],\n",
       "       [ 60,  47],\n",
       "       [ 60,  50],\n",
       "       [ 61,  42],\n",
       "       [ 61,  49],\n",
       "       [ 62,  41],\n",
       "       [ 62,  48],\n",
       "       [ 62,  59],\n",
       "       [ 62,  55],\n",
       "       [ 62,  56],\n",
       "       [ 62,  42],\n",
       "       [ 63,  50],\n",
       "       [ 63,  46],\n",
       "       [ 63,  43],\n",
       "       [ 63,  48],\n",
       "       [ 63,  52],\n",
       "       [ 63,  54],\n",
       "       [ 64,  42],\n",
       "       [ 64,  46],\n",
       "       [ 65,  48],\n",
       "       [ 65,  50],\n",
       "       [ 65,  43],\n",
       "       [ 65,  59],\n",
       "       [ 67,  43],\n",
       "       [ 67,  57],\n",
       "       [ 67,  56],\n",
       "       [ 67,  40],\n",
       "       [ 69,  58],\n",
       "       [ 69,  91],\n",
       "       [ 70,  29],\n",
       "       [ 70,  77],\n",
       "       [ 71,  35],\n",
       "       [ 71,  95],\n",
       "       [ 71,  11],\n",
       "       [ 71,  75],\n",
       "       [ 71,   9],\n",
       "       [ 71,  75],\n",
       "       [ 72,  34],\n",
       "       [ 72,  71],\n",
       "       [ 73,   5],\n",
       "       [ 73,  88],\n",
       "       [ 73,   7],\n",
       "       [ 73,  73],\n",
       "       [ 74,  10],\n",
       "       [ 74,  72],\n",
       "       [ 75,   5],\n",
       "       [ 75,  93],\n",
       "       [ 76,  40],\n",
       "       [ 76,  87],\n",
       "       [ 77,  12],\n",
       "       [ 77,  97],\n",
       "       [ 77,  36],\n",
       "       [ 77,  74],\n",
       "       [ 78,  22],\n",
       "       [ 78,  90],\n",
       "       [ 78,  17],\n",
       "       [ 78,  88],\n",
       "       [ 78,  20],\n",
       "       [ 78,  76],\n",
       "       [ 78,  16],\n",
       "       [ 78,  89],\n",
       "       [ 78,   1],\n",
       "       [ 78,  78],\n",
       "       [ 78,   1],\n",
       "       [ 78,  73],\n",
       "       [ 79,  35],\n",
       "       [ 79,  83],\n",
       "       [ 81,   5],\n",
       "       [ 81,  93],\n",
       "       [ 85,  26],\n",
       "       [ 85,  75],\n",
       "       [ 86,  20],\n",
       "       [ 86,  95],\n",
       "       [ 87,  27],\n",
       "       [ 87,  63],\n",
       "       [ 87,  13],\n",
       "       [ 87,  75],\n",
       "       [ 87,  10],\n",
       "       [ 87,  92],\n",
       "       [ 88,  13],\n",
       "       [ 88,  86],\n",
       "       [ 88,  15],\n",
       "       [ 88,  69],\n",
       "       [ 93,  14],\n",
       "       [ 93,  90],\n",
       "       [ 97,  32],\n",
       "       [ 97,  86],\n",
       "       [ 98,  15],\n",
       "       [ 98,  88],\n",
       "       [ 99,  39],\n",
       "       [ 99,  97],\n",
       "       [101,  24],\n",
       "       [101,  68],\n",
       "       [103,  17],\n",
       "       [103,  85],\n",
       "       [103,  23],\n",
       "       [103,  69],\n",
       "       [113,   8],\n",
       "       [113,  91],\n",
       "       [120,  16],\n",
       "       [120,  79],\n",
       "       [126,  28],\n",
       "       [126,  74],\n",
       "       [137,  18],\n",
       "       [137,  83]], dtype=int64)"
      ]
     },
     "execution_count": 50,
     "metadata": {},
     "output_type": "execute_result"
    }
   ],
   "source": [
    "X_jearquico_ejemplo2 = dataset_jearquico_ejemplo2.iloc[:,[3,4]].values\n",
    "X_jearquico_ejemplo2"
   ]
  },
  {
   "attachments": {},
   "cell_type": "markdown",
   "metadata": {},
   "source": [
    "Vamos a normalizar los datos para tener una misma escala "
   ]
  },
  {
   "cell_type": "code",
   "execution_count": 51,
   "metadata": {},
   "outputs": [
    {
     "data": {
      "text/plain": [
       "array([[0.35897908, 0.93334561],\n",
       "       [0.18208926, 0.983282  ],\n",
       "       [0.93632918, 0.35112344],\n",
       "       [0.20344646, 0.97908607],\n",
       "       [0.39114064, 0.92033092],\n",
       "       [0.21828984, 0.97588398],\n",
       "       [0.9486833 , 0.31622777],\n",
       "       [0.18807227, 0.98215519],\n",
       "       [0.98776297, 0.15596257],\n",
       "       [0.25515426, 0.96690036],\n",
       "       [0.80505584, 0.59319904],\n",
       "       [0.18847945, 0.98207713],\n",
       "       [0.8       , 0.6       ],\n",
       "       [0.25139836, 0.9678837 ],\n",
       "       [0.83844362, 0.54498835],\n",
       "       [0.24542187, 0.96941637],\n",
       "       [0.51449576, 0.85749293],\n",
       "       [0.30320366, 0.95292578],\n",
       "       [0.62139471, 0.78349768],\n",
       "       [0.22848559, 0.97354729],\n",
       "       [0.56552836, 0.82472885],\n",
       "       [0.31232107, 0.9499766 ],\n",
       "       [0.98058068, 0.19611614],\n",
       "       [0.32399297, 0.94605949],\n",
       "       [0.89442719, 0.4472136 ],\n",
       "       [0.32314385, 0.94634986],\n",
       "       [0.65850461, 0.75257669],\n",
       "       [0.41716766, 0.90882955],\n",
       "       [0.68315713, 0.73027141],\n",
       "       [0.31622777, 0.9486833 ],\n",
       "       [0.9912279 , 0.13216372],\n",
       "       [0.38011245, 0.92494028],\n",
       "       [0.99273378, 0.12033137],\n",
       "       [0.33763235, 0.94127807],\n",
       "       [0.92058178, 0.39054985],\n",
       "       [0.37729689, 0.92609236],\n",
       "       [0.89442719, 0.4472136 ],\n",
       "       [0.42220554, 0.90650013],\n",
       "       [0.8181917 , 0.57494552],\n",
       "       [0.44242424, 0.89680588],\n",
       "       [0.73554511, 0.67747575],\n",
       "       [0.38176015, 0.92426143],\n",
       "       [0.73480344, 0.6782801 ],\n",
       "       [0.5386617 , 0.84252215],\n",
       "       [0.81232373, 0.58320678],\n",
       "       [0.51449576, 0.85749293],\n",
       "       [0.5881717 , 0.80873608],\n",
       "       [0.64811863, 0.76153939],\n",
       "       [0.68965517, 0.72413793],\n",
       "       [0.68965517, 0.72413793],\n",
       "       [0.62833711, 0.77794118],\n",
       "       [0.57346234, 0.81923192],\n",
       "       [0.62292678, 0.78228014],\n",
       "       [0.58251894, 0.81281713],\n",
       "       [0.69085777, 0.72299069],\n",
       "       [0.72373754, 0.69007533],\n",
       "       [0.66062789, 0.75071352],\n",
       "       [0.69122265, 0.72264186],\n",
       "       [0.66976877, 0.74256972],\n",
       "       [0.70710678, 0.70710678],\n",
       "       [0.63473942, 0.77272625],\n",
       "       [0.6415552 , 0.76707687],\n",
       "       [0.67053967, 0.74187368],\n",
       "       [0.62307701, 0.7821605 ],\n",
       "       [0.6853647 , 0.72819999],\n",
       "       [0.63108747, 0.77571168],\n",
       "       [0.69253183, 0.72138732],\n",
       "       [0.70710678, 0.70710678],\n",
       "       [0.63108747, 0.77571168],\n",
       "       [0.71451043, 0.69962479],\n",
       "       [0.66520604, 0.74665984],\n",
       "       [0.7592566 , 0.65079137],\n",
       "       [0.71421284, 0.69992858],\n",
       "       [0.66601577, 0.74593766],\n",
       "       [0.75430472, 0.65652448],\n",
       "       [0.70710678, 0.70710678],\n",
       "       [0.71368409, 0.70046772],\n",
       "       [0.74740932, 0.66436384],\n",
       "       [0.72032021, 0.69364169],\n",
       "       [0.78935222, 0.61394061],\n",
       "       [0.72701315, 0.68662353],\n",
       "       [0.70059008, 0.71356397],\n",
       "       [0.79644632, 0.60470924],\n",
       "       [0.77523499, 0.63167295],\n",
       "       [0.68774465, 0.72595268],\n",
       "       [0.76124323, 0.64846646],\n",
       "       [0.70093153, 0.71322857],\n",
       "       [0.71961896, 0.69436917],\n",
       "       [0.6950221 , 0.71898838],\n",
       "       [0.78349768, 0.62139471],\n",
       "       [0.73146741, 0.6818764 ],\n",
       "       [0.82118879, 0.57065662],\n",
       "       [0.77453213, 0.63253457],\n",
       "       [0.83205029, 0.5547002 ],\n",
       "       [0.81923192, 0.57346234],\n",
       "       [0.75568908, 0.65493054],\n",
       "       [0.78722805, 0.61666198],\n",
       "       [0.76822128, 0.6401844 ],\n",
       "       [0.82364776, 0.56710173],\n",
       "       [0.77962036, 0.62625242],\n",
       "       [0.83411426, 0.55159169],\n",
       "       [0.79072371, 0.61217319],\n",
       "       [0.72441573, 0.68936336],\n",
       "       [0.74807464, 0.6636146 ],\n",
       "       [0.74210264, 0.67028626],\n",
       "       [0.82791869, 0.56084815],\n",
       "       [0.7832889 , 0.62165786],\n",
       "       [0.80762594, 0.58969513],\n",
       "       [0.82594987, 0.56374356],\n",
       "       [0.79543172, 0.60604322],\n",
       "       [0.77122303, 0.63656504],\n",
       "       [0.7592566 , 0.65079137],\n",
       "       [0.83604791, 0.54865644],\n",
       "       [0.81201537, 0.58363605],\n",
       "       [0.80443327, 0.59404303],\n",
       "       [0.79262399, 0.60971076],\n",
       "       [0.83401904, 0.55173567],\n",
       "       [0.74045531, 0.67210559],\n",
       "       [0.84158635, 0.54012259],\n",
       "       [0.76165876, 0.64797835],\n",
       "       [0.76728177, 0.64131013],\n",
       "       [0.85862161, 0.51260992],\n",
       "       [0.76548627, 0.64345223],\n",
       "       [0.60419481, 0.79683664],\n",
       "       [0.92385596, 0.38274033],\n",
       "       [0.67267279, 0.73994007],\n",
       "       [0.89693951, 0.44215328],\n",
       "       [0.59865008, 0.80101067],\n",
       "       [0.98821024, 0.15310299],\n",
       "       [0.68747603, 0.72620707],\n",
       "       [0.99206142, 0.12575426],\n",
       "       [0.68747603, 0.72620707],\n",
       "       [0.90424865, 0.42700631],\n",
       "       [0.71203417, 0.70214481],\n",
       "       [0.99766257, 0.06833305],\n",
       "       [0.63846226, 0.76965313],\n",
       "       [0.99543398, 0.09545257],\n",
       "       [0.70710678, 0.70710678],\n",
       "       [0.99099243, 0.1339179 ],\n",
       "       [0.71672593, 0.69735496],\n",
       "       [0.99778516, 0.06651901],\n",
       "       [0.62775245, 0.77841304],\n",
       "       [0.88491822, 0.46574643],\n",
       "       [0.65789154, 0.75311269],\n",
       "       [0.98807312, 0.15398542],\n",
       "       [0.62173649, 0.78322649],\n",
       "       [0.90588235, 0.42352941],\n",
       "       [0.72101298, 0.69292156],\n",
       "       [0.96244968, 0.27146017],\n",
       "       [0.65493054, 0.75568908],\n",
       "       [0.97706317, 0.21294967],\n",
       "       [0.66330751, 0.74834694],\n",
       "       [0.96866387, 0.24837535],\n",
       "       [0.71622959, 0.69786473],\n",
       "       [0.9796027 , 0.20094414],\n",
       "       [0.65910263, 0.752053  ],\n",
       "       [0.99991783, 0.01281946],\n",
       "       [0.70710678, 0.70710678],\n",
       "       [0.99991783, 0.01281946],\n",
       "       [0.73012075, 0.68331814],\n",
       "       [0.91428817, 0.40506438],\n",
       "       [0.68943722, 0.72434544],\n",
       "       [0.99810023, 0.06161113],\n",
       "       [0.65678074, 0.7540816 ],\n",
       "       [0.95626419, 0.29250434],\n",
       "       [0.74983786, 0.66162164],\n",
       "       [0.97400803, 0.22651349],\n",
       "       [0.67111763, 0.74135088],\n",
       "       [0.95506414, 0.29639921],\n",
       "       [0.80994212, 0.58650981],\n",
       "       [0.98901958, 0.14778454],\n",
       "       [0.75740996, 0.65293962],\n",
       "       [0.99345885, 0.11419067],\n",
       "       [0.6870872 , 0.72657497],\n",
       "       [0.98926374, 0.14614123],\n",
       "       [0.7151872 , 0.69893295],\n",
       "       [0.98578172, 0.16803097],\n",
       "       [0.78693856, 0.61703137],\n",
       "       [0.98885822, 0.14886038],\n",
       "       [0.71860214, 0.69542143],\n",
       "       [0.94965778, 0.31328916],\n",
       "       [0.74825991, 0.66340569],\n",
       "       [0.98848802, 0.15129919],\n",
       "       [0.74404871, 0.66812537],\n",
       "       [0.93040839, 0.36652452],\n",
       "       [0.71428497, 0.69985497],\n",
       "       [0.97290947, 0.23118641],\n",
       "       [0.82951458, 0.55848506],\n",
       "       [0.9866516 , 0.16284541],\n",
       "       [0.77128137, 0.63649434],\n",
       "       [0.97596359, 0.21793362],\n",
       "       [0.83080728, 0.55656021],\n",
       "       [0.99750331, 0.0706197 ],\n",
       "       [0.77884743, 0.62721342],\n",
       "       [0.9912279 , 0.13216372],\n",
       "       [0.83524884, 0.54987215],\n",
       "       [0.97618706, 0.21693046],\n",
       "       [0.86228586, 0.50642185],\n",
       "       [0.99147891, 0.1302673 ],\n",
       "       [0.85528167, 0.51816335]])"
      ]
     },
     "execution_count": 51,
     "metadata": {},
     "output_type": "execute_result"
    }
   ],
   "source": [
    "from numpy.linalg import norm\n",
    "from sklearn.preprocessing import normalize\n",
    "X_jearquico_ejemplo2 = normalize(X_jearquico_ejemplo2)\n",
    "X_jearquico_ejemplo2"
   ]
  },
  {
   "attachments": {},
   "cell_type": "markdown",
   "metadata": {},
   "source": [
    "Vamos a aplicar de nuevo el modelo jerarquico y graficar el dendograma de clasificaicón y obtener el n_clusters 'óptimo' según el algoritmo scipy.cluster.hierarchy "
   ]
  },
  {
   "cell_type": "code",
   "execution_count": 52,
   "metadata": {},
   "outputs": [
    {
     "data": {
      "image/png": "[encoded data removed]",
      "text/plain": [
       "<Figure size 576x396 with 1 Axes>"
      ]
     },
     "metadata": {},
     "output_type": "display_data"
    }
   ],
   "source": [
    "import scipy.cluster.hierarchy as sch \n",
    "dendograma_jerarquico_ejemplo2 = sch.dendrogram(sch.linkage(X_jearquico_ejemplo2,method='ward'))\n",
    "plt.xlabel('Clientes')\n",
    "plt.xlabel('Distancia euclidiana')\n",
    "plt.show()"
   ]
  },
  {
   "attachments": {},
   "cell_type": "markdown",
   "metadata": {},
   "source": [
    "En este caso el número óptimo de clusters parece ser 4 "
   ]
  },
  {
   "cell_type": "code",
   "execution_count": 53,
   "metadata": {},
   "outputs": [
    {
     "name": "stderr",
     "output_type": "stream",
     "text": [
      "c:\\Users\\Sergio\\AppData\\Local\\Programs\\Python\\Python310\\lib\\site-packages\\sklearn\\cluster\\_agglomerative.py:983: FutureWarning: Attribute `affinity` was deprecated in version 1.2 and will be removed in 1.4. Use `metric` instead\n",
      "  warnings.warn(\n"
     ]
    },
    {
     "data": {
      "text/plain": [
       "array([2, 2, 1, 2, 2, 2, 3, 2, 3, 2, 1, 2, 1, 2, 1, 2, 0, 2, 0, 2, 0, 2,\n",
       "       3, 2, 1, 2, 0, 2, 0, 2, 3, 2, 3, 2, 1, 2, 1, 2, 1, 2, 0, 2, 0, 0,\n",
       "       1, 0, 0, 0, 0, 0, 0, 0, 0, 0, 0, 0, 0, 0, 0, 0, 0, 0, 0, 0, 0, 0,\n",
       "       0, 0, 0, 0, 0, 0, 0, 0, 0, 0, 0, 0, 0, 1, 0, 0, 1, 0, 0, 0, 0, 0,\n",
       "       0, 1, 0, 1, 0, 1, 1, 0, 1, 0, 1, 1, 1, 1, 0, 0, 0, 1, 1, 1, 1, 1,\n",
       "       0, 0, 1, 1, 1, 1, 1, 0, 1, 0, 0, 1, 0, 0, 1, 0, 1, 0, 3, 0, 3, 0,\n",
       "       1, 0, 3, 0, 3, 0, 3, 0, 3, 0, 1, 0, 3, 0, 1, 0, 3, 0, 3, 0, 3, 0,\n",
       "       3, 0, 3, 0, 3, 0, 1, 0, 3, 0, 3, 0, 3, 0, 3, 1, 3, 0, 3, 0, 3, 0,\n",
       "       3, 1, 3, 0, 3, 0, 3, 0, 1, 0, 3, 1, 3, 0, 3, 1, 3, 1, 3, 1, 3, 1,\n",
       "       3, 1], dtype=int64)"
      ]
     },
     "execution_count": 53,
     "metadata": {},
     "output_type": "execute_result"
    }
   ],
   "source": [
    "from sklearn.cluster import AgglomerativeClustering\n",
    "\n",
    "cluster_jerarquico_ejemplo2 = AgglomerativeClustering(n_clusters=4, affinity='euclidean', linkage='ward')\n",
    "y_cluster_jerarquico_ejemplo2 = cluster_jerarquico_ejemplo2.fit_predict(X_jearquico_ejemplo2)\n",
    "y_cluster_jerarquico_ejemplo2"
   ]
  },
  {
   "cell_type": "code",
   "execution_count": 54,
   "metadata": {},
   "outputs": [
    {
     "data": {
      "image/png": "[encoded data removed]",
      "text/plain": [
       "<Figure size 576x396 with 1 Axes>"
      ]
     },
     "metadata": {},
     "output_type": "display_data"
    }
   ],
   "source": [
    "# Graficando los resultados\n",
    "plt.scatter(X_jearquico_ejemplo2[y_cluster_jerarquico_ejemplo2 == 0, 0], X_jearquico_ejemplo2[y_cluster_jerarquico_ejemplo2 == 0, 1], s = 100, c = 'red', label = 'Grupo 1')\n",
    "plt.scatter(X_jearquico_ejemplo2[y_cluster_jerarquico_ejemplo2 == 1, 0], X_jearquico_ejemplo2[y_cluster_jerarquico_ejemplo2 == 1, 1], s = 100, c = 'blue', label = 'Grupo 2')\n",
    "plt.scatter(X_jearquico_ejemplo2[y_cluster_jerarquico_ejemplo2 == 2, 0], X_jearquico_ejemplo2[y_cluster_jerarquico_ejemplo2 == 2, 1], s = 100, c = 'green', label = 'Grupo 3')\n",
    "plt.scatter(X_jearquico_ejemplo2[y_cluster_jerarquico_ejemplo2 == 3, 0], X_jearquico_ejemplo2[y_cluster_jerarquico_ejemplo2 == 3, 1], s = 100, c = 'cyan', label = 'Grupo 4')\n",
    "\n",
    "plt.title('Grupos ')\n",
    "plt.xlabel('Ingreso anual (k$)')\n",
    "plt.ylabel('Nivel de gastos (1-100)')\n",
    "plt.legend()\n",
    "plt.show()"
   ]
  },
  {
   "attachments": {},
   "cell_type": "markdown",
   "metadata": {},
   "source": [
    "#### Comentarios generales sobre el modelo Hierarchical Clustering. \n",
    "\n",
    "Ventajas: \n",
    "- Es un modelo flexible pues no tiene como tal hiperparámetros a ajustar\n",
    "\n",
    "Desventajas: \n",
    "- Puede generar diferentes resultados dependiendo la función link usada \n",
    "- Puede ser muy sensible a valores atipicos "
   ]
  },
  {
   "attachments": {},
   "cell_type": "markdown",
   "metadata": {},
   "source": []
  },
  {
   "attachments": {},
   "cell_type": "markdown",
   "metadata": {},
   "source": [
    "### Gaussian Mixture Models "
   ]
  },
  {
   "attachments": {},
   "cell_type": "markdown",
   "metadata": {},
   "source": [
    "#### Gaussian Mixture Models (ejemplo 1)"
   ]
  },
  {
   "attachments": {},
   "cell_type": "markdown",
   "metadata": {},
   "source": [
    "Importamos las librerias necesarias"
   ]
  },
  {
   "cell_type": "code",
   "execution_count": 80,
   "metadata": {},
   "outputs": [],
   "source": [
    "import numpy as np\n",
    "import pandas as pd\n",
    "import matplotlib.pyplot as plt \n",
    "import seaborn as sns \n",
    "sns.set()\n",
    "from sklearn.datasets import make_blobs\n",
    "from sklearn.mixture import GaussianMixture "
   ]
  },
  {
   "attachments": {},
   "cell_type": "markdown",
   "metadata": {},
   "source": [
    "Vamos a generar los puntos, procurando que se comporten como 'tipo elipsis agregando una desviación standar '"
   ]
  },
  {
   "cell_type": "code",
   "execution_count": 81,
   "metadata": {},
   "outputs": [
    {
     "data": {
      "text/plain": [
       "<matplotlib.collections.PathCollection at 0x23a8b629510>"
      ]
     },
     "execution_count": 81,
     "metadata": {},
     "output_type": "execute_result"
    },
    {
     "data": {
      "image/png": "[encoded data removed]",
      "text/plain": [
       "<Figure size 576x396 with 1 Axes>"
      ]
     },
     "metadata": {},
     "output_type": "display_data"
    }
   ],
   "source": [
    "X, y = make_blobs(n_samples=300, centers=4, cluster_std=0.06, random_state=0)\n",
    "plt.scatter(X[:,0], X[:,1])"
   ]
  },
  {
   "attachments": {},
   "cell_type": "markdown",
   "metadata": {},
   "source": [
    "Creamos diferentes modelos de Gaussian Mixture cambiando el número de clusters"
   ]
  },
  {
   "cell_type": "code",
   "execution_count": 82,
   "metadata": {},
   "outputs": [
    {
     "data": {
      "text/plain": [
       "[GaussianMixture(random_state=0),\n",
       " GaussianMixture(n_components=2, random_state=0),\n",
       " GaussianMixture(n_components=3, random_state=0),\n",
       " GaussianMixture(n_components=4, random_state=0),\n",
       " GaussianMixture(n_components=5, random_state=0),\n",
       " GaussianMixture(n_components=6, random_state=0),\n",
       " GaussianMixture(n_components=7, random_state=0),\n",
       " GaussianMixture(n_components=8, random_state=0),\n",
       " GaussianMixture(n_components=9, random_state=0),\n",
       " GaussianMixture(n_components=10, random_state=0),\n",
       " GaussianMixture(n_components=11, random_state=0),\n",
       " GaussianMixture(n_components=12, random_state=0),\n",
       " GaussianMixture(n_components=13, random_state=0),\n",
       " GaussianMixture(n_components=14, random_state=0),\n",
       " GaussianMixture(n_components=15, random_state=0),\n",
       " GaussianMixture(n_components=16, random_state=0),\n",
       " GaussianMixture(n_components=17, random_state=0),\n",
       " GaussianMixture(n_components=18, random_state=0),\n",
       " GaussianMixture(n_components=19, random_state=0),\n",
       " GaussianMixture(n_components=20, random_state=0)]"
      ]
     },
     "execution_count": 82,
     "metadata": {},
     "output_type": "execute_result"
    }
   ],
   "source": [
    "from pandas.core.common import random_state\n",
    "n_clusters_GaussianMixture = np.arange(1,21)\n",
    "models_GaussianMixture = [GaussianMixture (n,covariance_type='full', random_state=0).fit(X) for n in n_clusters]\n",
    "models_GaussianMixture"
   ]
  },
  {
   "attachments": {},
   "cell_type": "markdown",
   "metadata": {},
   "source": [
    "Se usan los criterios BIC y AIC (en una especie de 'método dcel codo') para identificar que n_cluster es el mejor "
   ]
  },
  {
   "cell_type": "code",
   "execution_count": 83,
   "metadata": {},
   "outputs": [
    {
     "data": {
      "text/plain": [
       "Text(0, 0.5, 'AIC and BIC crieteria values')"
      ]
     },
     "execution_count": 83,
     "metadata": {},
     "output_type": "execute_result"
    },
    {
     "data": {
      "image/png": "[encoded data removed]",
      "text/plain": [
       "<Figure size 576x396 with 1 Axes>"
      ]
     },
     "metadata": {},
     "output_type": "display_data"
    }
   ],
   "source": [
    "plt.plot(n_clusters_GaussianMixture,[m.bic(X) for m in models_GaussianMixture], label='BIC')\n",
    "plt.plot(n_clusters_GaussianMixture,[m.aic(X) for m in models_GaussianMixture], label='AIC')\n",
    "plt.legend(loc='best')\n",
    "plt.xlabel('n_Clusters ')\n",
    "plt.ylabel('AIC and BIC crieteria values')"
   ]
  },
  {
   "attachments": {},
   "cell_type": "markdown",
   "metadata": {},
   "source": [
    "Ahora si vamos a crer como tal nuestros grupos haciendo uso de GaussianMixture y tomando en cuenta el n_clusters 'óptimo'"
   ]
  },
  {
   "cell_type": "code",
   "execution_count": 84,
   "metadata": {},
   "outputs": [
    {
     "data": {
      "text/html": [
       "<style>#sk-container-id-6 {color: black;background-color: white;}#sk-container-id-6 pre{padding: 0;}#sk-container-id-6 div.sk-toggleable {background-color: white;}#sk-container-id-6 label.sk-toggleable__label {cursor: pointer;display: block;width: 100%;margin-bottom: 0;padding: 0.3em;box-sizing: border-box;text-align: center;}#sk-container-id-6 label.sk-toggleable__label-arrow:before {content: \"▸\";float: left;margin-right: 0.25em;color: #696969;}#sk-container-id-6 label.sk-toggleable__label-arrow:hover:before {color: black;}#sk-container-id-6 div.sk-estimator:hover label.sk-toggleable__label-arrow:before {color: black;}#sk-container-id-6 div.sk-toggleable__content {max-height: 0;max-width: 0;overflow: hidden;text-align: left;background-color: #f0f8ff;}#sk-container-id-6 div.sk-toggleable__content pre {margin: 0.2em;color: black;border-radius: 0.25em;background-color: #f0f8ff;}#sk-container-id-6 input.sk-toggleable__control:checked~div.sk-toggleable__content {max-height: 200px;max-width: 100%;overflow: auto;}#sk-container-id-6 input.sk-toggleable__control:checked~label.sk-toggleable__label-arrow:before {content: \"▾\";}#sk-container-id-6 div.sk-estimator input.sk-toggleable__control:checked~label.sk-toggleable__label {background-color: #d4ebff;}#sk-container-id-6 div.sk-label input.sk-toggleable__control:checked~label.sk-toggleable__label {background-color: #d4ebff;}#sk-container-id-6 input.sk-hidden--visually {border: 0;clip: rect(1px 1px 1px 1px);clip: rect(1px, 1px, 1px, 1px);height: 1px;margin: -1px;overflow: hidden;padding: 0;position: absolute;width: 1px;}#sk-container-id-6 div.sk-estimator {font-family: monospace;background-color: #f0f8ff;border: 1px dotted black;border-radius: 0.25em;box-sizing: border-box;margin-bottom: 0.5em;}#sk-container-id-6 div.sk-estimator:hover {background-color: #d4ebff;}#sk-container-id-6 div.sk-parallel-item::after {content: \"\";width: 100%;border-bottom: 1px solid gray;flex-grow: 1;}#sk-container-id-6 div.sk-label:hover label.sk-toggleable__label {background-color: #d4ebff;}#sk-container-id-6 div.sk-serial::before {content: \"\";position: absolute;border-left: 1px solid gray;box-sizing: border-box;top: 0;bottom: 0;left: 50%;z-index: 0;}#sk-container-id-6 div.sk-serial {display: flex;flex-direction: column;align-items: center;background-color: white;padding-right: 0.2em;padding-left: 0.2em;position: relative;}#sk-container-id-6 div.sk-item {position: relative;z-index: 1;}#sk-container-id-6 div.sk-parallel {display: flex;align-items: stretch;justify-content: center;background-color: white;position: relative;}#sk-container-id-6 div.sk-item::before, #sk-container-id-6 div.sk-parallel-item::before {content: \"\";position: absolute;border-left: 1px solid gray;box-sizing: border-box;top: 0;bottom: 0;left: 50%;z-index: -1;}#sk-container-id-6 div.sk-parallel-item {display: flex;flex-direction: column;z-index: 1;position: relative;background-color: white;}#sk-container-id-6 div.sk-parallel-item:first-child::after {align-self: flex-end;width: 50%;}#sk-container-id-6 div.sk-parallel-item:last-child::after {align-self: flex-start;width: 50%;}#sk-container-id-6 div.sk-parallel-item:only-child::after {width: 0;}#sk-container-id-6 div.sk-dashed-wrapped {border: 1px dashed gray;margin: 0 0.4em 0.5em 0.4em;box-sizing: border-box;padding-bottom: 0.4em;background-color: white;}#sk-container-id-6 div.sk-label label {font-family: monospace;font-weight: bold;display: inline-block;line-height: 1.2em;}#sk-container-id-6 div.sk-label-container {text-align: center;}#sk-container-id-6 div.sk-container {/* jupyter's `normalize.less` sets `[hidden] { display: none; }` but bootstrap.min.css set `[hidden] { display: none !important; }` so we also need the `!important` here to be able to override the default hidden behavior on the sphinx rendered scikit-learn.org. See: https://github.com/scikit-learn/scikit-learn/issues/21755 */display: inline-block !important;position: relative;}#sk-container-id-6 div.sk-text-repr-fallback {display: none;}</style><div id=\"sk-container-id-6\" class=\"sk-top-container\"><div class=\"sk-text-repr-fallback\"><pre>GaussianMixture(n_components=4)</pre><b>In a Jupyter environment, please rerun this cell to show the HTML representation or trust the notebook. <br />On GitHub, the HTML representation is unable to render, please try loading this page with nbviewer.org.</b></div><div class=\"sk-container\" hidden><div class=\"sk-item\"><div class=\"sk-estimator sk-toggleable\"><input class=\"sk-toggleable__control sk-hidden--visually\" id=\"sk-estimator-id-6\" type=\"checkbox\" checked><label for=\"sk-estimator-id-6\" class=\"sk-toggleable__label sk-toggleable__label-arrow\">GaussianMixture</label><div class=\"sk-toggleable__content\"><pre>GaussianMixture(n_components=4)</pre></div></div></div></div></div>"
      ],
      "text/plain": [
       "GaussianMixture(n_components=4)"
      ]
     },
     "execution_count": 84,
     "metadata": {},
     "output_type": "execute_result"
    }
   ],
   "source": [
    "## Se crea el objeto que guarda el modelo con un número determinado de clusters\n",
    "gmm_ejemplo1 = GaussianMixture(n_components=4)\n",
    "gmm_ejemplo1"
   ]
  },
  {
   "attachments": {},
   "cell_type": "markdown",
   "metadata": {},
   "source": [
    "Vamos a entrenar el modelo GMM (ejemplo1) con nuestras X "
   ]
  },
  {
   "cell_type": "code",
   "execution_count": 85,
   "metadata": {},
   "outputs": [
    {
     "data": {
      "text/html": [
       "<style>#sk-container-id-7 {color: black;background-color: white;}#sk-container-id-7 pre{padding: 0;}#sk-container-id-7 div.sk-toggleable {background-color: white;}#sk-container-id-7 label.sk-toggleable__label {cursor: pointer;display: block;width: 100%;margin-bottom: 0;padding: 0.3em;box-sizing: border-box;text-align: center;}#sk-container-id-7 label.sk-toggleable__label-arrow:before {content: \"▸\";float: left;margin-right: 0.25em;color: #696969;}#sk-container-id-7 label.sk-toggleable__label-arrow:hover:before {color: black;}#sk-container-id-7 div.sk-estimator:hover label.sk-toggleable__label-arrow:before {color: black;}#sk-container-id-7 div.sk-toggleable__content {max-height: 0;max-width: 0;overflow: hidden;text-align: left;background-color: #f0f8ff;}#sk-container-id-7 div.sk-toggleable__content pre {margin: 0.2em;color: black;border-radius: 0.25em;background-color: #f0f8ff;}#sk-container-id-7 input.sk-toggleable__control:checked~div.sk-toggleable__content {max-height: 200px;max-width: 100%;overflow: auto;}#sk-container-id-7 input.sk-toggleable__control:checked~label.sk-toggleable__label-arrow:before {content: \"▾\";}#sk-container-id-7 div.sk-estimator input.sk-toggleable__control:checked~label.sk-toggleable__label {background-color: #d4ebff;}#sk-container-id-7 div.sk-label input.sk-toggleable__control:checked~label.sk-toggleable__label {background-color: #d4ebff;}#sk-container-id-7 input.sk-hidden--visually {border: 0;clip: rect(1px 1px 1px 1px);clip: rect(1px, 1px, 1px, 1px);height: 1px;margin: -1px;overflow: hidden;padding: 0;position: absolute;width: 1px;}#sk-container-id-7 div.sk-estimator {font-family: monospace;background-color: #f0f8ff;border: 1px dotted black;border-radius: 0.25em;box-sizing: border-box;margin-bottom: 0.5em;}#sk-container-id-7 div.sk-estimator:hover {background-color: #d4ebff;}#sk-container-id-7 div.sk-parallel-item::after {content: \"\";width: 100%;border-bottom: 1px solid gray;flex-grow: 1;}#sk-container-id-7 div.sk-label:hover label.sk-toggleable__label {background-color: #d4ebff;}#sk-container-id-7 div.sk-serial::before {content: \"\";position: absolute;border-left: 1px solid gray;box-sizing: border-box;top: 0;bottom: 0;left: 50%;z-index: 0;}#sk-container-id-7 div.sk-serial {display: flex;flex-direction: column;align-items: center;background-color: white;padding-right: 0.2em;padding-left: 0.2em;position: relative;}#sk-container-id-7 div.sk-item {position: relative;z-index: 1;}#sk-container-id-7 div.sk-parallel {display: flex;align-items: stretch;justify-content: center;background-color: white;position: relative;}#sk-container-id-7 div.sk-item::before, #sk-container-id-7 div.sk-parallel-item::before {content: \"\";position: absolute;border-left: 1px solid gray;box-sizing: border-box;top: 0;bottom: 0;left: 50%;z-index: -1;}#sk-container-id-7 div.sk-parallel-item {display: flex;flex-direction: column;z-index: 1;position: relative;background-color: white;}#sk-container-id-7 div.sk-parallel-item:first-child::after {align-self: flex-end;width: 50%;}#sk-container-id-7 div.sk-parallel-item:last-child::after {align-self: flex-start;width: 50%;}#sk-container-id-7 div.sk-parallel-item:only-child::after {width: 0;}#sk-container-id-7 div.sk-dashed-wrapped {border: 1px dashed gray;margin: 0 0.4em 0.5em 0.4em;box-sizing: border-box;padding-bottom: 0.4em;background-color: white;}#sk-container-id-7 div.sk-label label {font-family: monospace;font-weight: bold;display: inline-block;line-height: 1.2em;}#sk-container-id-7 div.sk-label-container {text-align: center;}#sk-container-id-7 div.sk-container {/* jupyter's `normalize.less` sets `[hidden] { display: none; }` but bootstrap.min.css set `[hidden] { display: none !important; }` so we also need the `!important` here to be able to override the default hidden behavior on the sphinx rendered scikit-learn.org. See: https://github.com/scikit-learn/scikit-learn/issues/21755 */display: inline-block !important;position: relative;}#sk-container-id-7 div.sk-text-repr-fallback {display: none;}</style><div id=\"sk-container-id-7\" class=\"sk-top-container\"><div class=\"sk-text-repr-fallback\"><pre>GaussianMixture(n_components=4)</pre><b>In a Jupyter environment, please rerun this cell to show the HTML representation or trust the notebook. <br />On GitHub, the HTML representation is unable to render, please try loading this page with nbviewer.org.</b></div><div class=\"sk-container\" hidden><div class=\"sk-item\"><div class=\"sk-estimator sk-toggleable\"><input class=\"sk-toggleable__control sk-hidden--visually\" id=\"sk-estimator-id-7\" type=\"checkbox\" checked><label for=\"sk-estimator-id-7\" class=\"sk-toggleable__label sk-toggleable__label-arrow\">GaussianMixture</label><div class=\"sk-toggleable__content\"><pre>GaussianMixture(n_components=4)</pre></div></div></div></div></div>"
      ],
      "text/plain": [
       "GaussianMixture(n_components=4)"
      ]
     },
     "execution_count": 85,
     "metadata": {},
     "output_type": "execute_result"
    }
   ],
   "source": [
    "gmm_ejemplo1.fit(X)"
   ]
  },
  {
   "attachments": {},
   "cell_type": "markdown",
   "metadata": {},
   "source": [
    "Vamos a verificar la probabilidad de pertenencia a cada clase"
   ]
  },
  {
   "cell_type": "code",
   "execution_count": 86,
   "metadata": {},
   "outputs": [
    {
     "data": {
      "text/plain": [
       "array([[0., 0., 1., 0.],\n",
       "       [1., 0., 0., 0.],\n",
       "       [0., 1., 0., 0.],\n",
       "       ...,\n",
       "       [0., 1., 0., 0.],\n",
       "       [1., 0., 0., 0.],\n",
       "       [0., 0., 0., 1.]])"
      ]
     },
     "execution_count": 86,
     "metadata": {},
     "output_type": "execute_result"
    }
   ],
   "source": [
    "probabilidades_gmm_ejemplo1 = gmm_ejemplo1.predict_proba(X)\n",
    "probabilidades_gmm_ejemplo1"
   ]
  },
  {
   "attachments": {},
   "cell_type": "markdown",
   "metadata": {},
   "source": [
    "Se determina para cada punto de X a que cluster de los n_clusterts definidos pertenence (Al que mayor probabilidad tiene, esto equivale a la MAXIMIZACIÓN de la Verosimilitud)"
   ]
  },
  {
   "cell_type": "code",
   "execution_count": 63,
   "metadata": {},
   "outputs": [
    {
     "data": {
      "text/plain": [
       "array([1, 0, 2, 0, 1, 1, 3, 2, 0, 0, 3, 0, 2, 0, 1, 2, 2, 1, 3, 3, 1, 1,\n",
       "       2, 3, 3, 2, 1, 2, 3, 2, 0, 0, 2, 0, 0, 0, 0, 0, 3, 1, 2, 3, 2, 2,\n",
       "       3, 3, 0, 3, 0, 1, 3, 1, 0, 1, 1, 3, 0, 3, 0, 1, 0, 2, 0, 3, 3, 3,\n",
       "       0, 1, 0, 3, 2, 3, 0, 3, 3, 0, 3, 2, 1, 0, 1, 2, 1, 1, 0, 2, 1, 2,\n",
       "       0, 0, 2, 1, 0, 3, 3, 2, 1, 1, 2, 3, 0, 1, 0, 1, 2, 1, 1, 2, 0, 2,\n",
       "       3, 3, 1, 0, 1, 2, 0, 1, 1, 2, 3, 1, 3, 1, 1, 1, 1, 3, 1, 3, 0, 3,\n",
       "       3, 1, 0, 3, 3, 0, 2, 0, 0, 3, 2, 3, 2, 3, 0, 2, 0, 0, 0, 2, 0, 2,\n",
       "       1, 3, 0, 3, 1, 2, 0, 2, 2, 1, 2, 3, 3, 2, 1, 2, 2, 0, 1, 2, 3, 0,\n",
       "       1, 1, 2, 3, 1, 2, 3, 3, 2, 2, 2, 2, 1, 0, 2, 3, 2, 2, 3, 3, 3, 2,\n",
       "       3, 0, 2, 3, 1, 3, 2, 0, 3, 0, 2, 0, 2, 3, 2, 2, 0, 3, 3, 1, 1, 2,\n",
       "       0, 1, 1, 3, 1, 3, 2, 0, 0, 2, 2, 0, 2, 1, 3, 2, 1, 3, 0, 3, 1, 2,\n",
       "       1, 0, 0, 0, 0, 3, 3, 0, 2, 3, 1, 2, 3, 3, 3, 1, 1, 0, 2, 2, 3, 1,\n",
       "       0, 3, 2, 0, 2, 1, 1, 3, 3, 2, 1, 1, 1, 2, 0, 0, 1, 1, 2, 1, 1, 1,\n",
       "       0, 3, 0, 2, 1, 1, 0, 0, 0, 1, 1, 2, 0, 3], dtype=int64)"
      ]
     },
     "execution_count": 63,
     "metadata": {},
     "output_type": "execute_result"
    }
   ],
   "source": [
    "labels_gmm_ejemplo1 = gmm_ejemplo1.predict(X)\n",
    "labels_gmm_ejemplo1"
   ]
  },
  {
   "attachments": {},
   "cell_type": "markdown",
   "metadata": {},
   "source": [
    "Podemos graficar el resultado del cluster "
   ]
  },
  {
   "cell_type": "code",
   "execution_count": 64,
   "metadata": {},
   "outputs": [
    {
     "data": {
      "text/plain": [
       "<matplotlib.collections.PathCollection at 0x23a8a2b3c70>"
      ]
     },
     "execution_count": 64,
     "metadata": {},
     "output_type": "execute_result"
    },
    {
     "data": {
      "image/png": "[encoded data removed]",
      "text/plain": [
       "<Figure size 576x396 with 1 Axes>"
      ]
     },
     "metadata": {},
     "output_type": "display_data"
    }
   ],
   "source": [
    "plt.scatter(X[:,0],X[:,1], c=labels_gmm_ejemplo1,cmap='viridis')"
   ]
  },
  {
   "attachments": {},
   "cell_type": "markdown",
   "metadata": {},
   "source": [
    "#### Gaussian Mixture Models (ejemplo 2)"
   ]
  },
  {
   "cell_type": "code",
   "execution_count": 70,
   "metadata": {},
   "outputs": [],
   "source": [
    "import numpy as np\n",
    "import pandas as pd\n",
    "import matplotlib.pyplot as plt \n",
    "import seaborn as sns \n",
    "sns.set()\n",
    "from sklearn.datasets import make_blobs\n",
    "from sklearn.mixture import GaussianMixture "
   ]
  },
  {
   "attachments": {},
   "cell_type": "markdown",
   "metadata": {},
   "source": [
    "Vamos a importar la data para aplicar el ejemplo de GaussianMixture ejemplo2 "
   ]
  },
  {
   "cell_type": "code",
   "execution_count": 65,
   "metadata": {},
   "outputs": [
    {
     "data": {
      "text/plain": [
       "(200, 2)"
      ]
     },
     "execution_count": 65,
     "metadata": {},
     "output_type": "execute_result"
    }
   ],
   "source": [
    "X_train_GaussianMixture_ejemplo2 = np.load('data.npy')\n",
    "X_train_GaussianMixture_ejemplo2.shape"
   ]
  },
  {
   "attachments": {},
   "cell_type": "markdown",
   "metadata": {},
   "source": [
    "Vamos a graficar nuestra data a agrupar "
   ]
  },
  {
   "cell_type": "code",
   "execution_count": 66,
   "metadata": {},
   "outputs": [
    {
     "data": {
      "image/png": "[encoded data removed]",
      "text/plain": [
       "<Figure size 576x396 with 1 Axes>"
      ]
     },
     "metadata": {},
     "output_type": "display_data"
    }
   ],
   "source": [
    "plt.scatter(X_train_GaussianMixture_ejemplo2[:,0], X_train_GaussianMixture_ejemplo2[:,1])\n",
    "plt.axis('equal')\n",
    "plt.show()"
   ]
  },
  {
   "attachments": {},
   "cell_type": "markdown",
   "metadata": {},
   "source": [
    "Creamos y entrenamos el modelo gmm del ejemplo 2 "
   ]
  },
  {
   "cell_type": "code",
   "execution_count": 74,
   "metadata": {},
   "outputs": [
    {
     "data": {
      "text/html": [
       "<style>#sk-container-id-5 {color: black;background-color: white;}#sk-container-id-5 pre{padding: 0;}#sk-container-id-5 div.sk-toggleable {background-color: white;}#sk-container-id-5 label.sk-toggleable__label {cursor: pointer;display: block;width: 100%;margin-bottom: 0;padding: 0.3em;box-sizing: border-box;text-align: center;}#sk-container-id-5 label.sk-toggleable__label-arrow:before {content: \"▸\";float: left;margin-right: 0.25em;color: #696969;}#sk-container-id-5 label.sk-toggleable__label-arrow:hover:before {color: black;}#sk-container-id-5 div.sk-estimator:hover label.sk-toggleable__label-arrow:before {color: black;}#sk-container-id-5 div.sk-toggleable__content {max-height: 0;max-width: 0;overflow: hidden;text-align: left;background-color: #f0f8ff;}#sk-container-id-5 div.sk-toggleable__content pre {margin: 0.2em;color: black;border-radius: 0.25em;background-color: #f0f8ff;}#sk-container-id-5 input.sk-toggleable__control:checked~div.sk-toggleable__content {max-height: 200px;max-width: 100%;overflow: auto;}#sk-container-id-5 input.sk-toggleable__control:checked~label.sk-toggleable__label-arrow:before {content: \"▾\";}#sk-container-id-5 div.sk-estimator input.sk-toggleable__control:checked~label.sk-toggleable__label {background-color: #d4ebff;}#sk-container-id-5 div.sk-label input.sk-toggleable__control:checked~label.sk-toggleable__label {background-color: #d4ebff;}#sk-container-id-5 input.sk-hidden--visually {border: 0;clip: rect(1px 1px 1px 1px);clip: rect(1px, 1px, 1px, 1px);height: 1px;margin: -1px;overflow: hidden;padding: 0;position: absolute;width: 1px;}#sk-container-id-5 div.sk-estimator {font-family: monospace;background-color: #f0f8ff;border: 1px dotted black;border-radius: 0.25em;box-sizing: border-box;margin-bottom: 0.5em;}#sk-container-id-5 div.sk-estimator:hover {background-color: #d4ebff;}#sk-container-id-5 div.sk-parallel-item::after {content: \"\";width: 100%;border-bottom: 1px solid gray;flex-grow: 1;}#sk-container-id-5 div.sk-label:hover label.sk-toggleable__label {background-color: #d4ebff;}#sk-container-id-5 div.sk-serial::before {content: \"\";position: absolute;border-left: 1px solid gray;box-sizing: border-box;top: 0;bottom: 0;left: 50%;z-index: 0;}#sk-container-id-5 div.sk-serial {display: flex;flex-direction: column;align-items: center;background-color: white;padding-right: 0.2em;padding-left: 0.2em;position: relative;}#sk-container-id-5 div.sk-item {position: relative;z-index: 1;}#sk-container-id-5 div.sk-parallel {display: flex;align-items: stretch;justify-content: center;background-color: white;position: relative;}#sk-container-id-5 div.sk-item::before, #sk-container-id-5 div.sk-parallel-item::before {content: \"\";position: absolute;border-left: 1px solid gray;box-sizing: border-box;top: 0;bottom: 0;left: 50%;z-index: -1;}#sk-container-id-5 div.sk-parallel-item {display: flex;flex-direction: column;z-index: 1;position: relative;background-color: white;}#sk-container-id-5 div.sk-parallel-item:first-child::after {align-self: flex-end;width: 50%;}#sk-container-id-5 div.sk-parallel-item:last-child::after {align-self: flex-start;width: 50%;}#sk-container-id-5 div.sk-parallel-item:only-child::after {width: 0;}#sk-container-id-5 div.sk-dashed-wrapped {border: 1px dashed gray;margin: 0 0.4em 0.5em 0.4em;box-sizing: border-box;padding-bottom: 0.4em;background-color: white;}#sk-container-id-5 div.sk-label label {font-family: monospace;font-weight: bold;display: inline-block;line-height: 1.2em;}#sk-container-id-5 div.sk-label-container {text-align: center;}#sk-container-id-5 div.sk-container {/* jupyter's `normalize.less` sets `[hidden] { display: none; }` but bootstrap.min.css set `[hidden] { display: none !important; }` so we also need the `!important` here to be able to override the default hidden behavior on the sphinx rendered scikit-learn.org. See: https://github.com/scikit-learn/scikit-learn/issues/21755 */display: inline-block !important;position: relative;}#sk-container-id-5 div.sk-text-repr-fallback {display: none;}</style><div id=\"sk-container-id-5\" class=\"sk-top-container\"><div class=\"sk-text-repr-fallback\"><pre>GaussianMixture(n_components=2)</pre><b>In a Jupyter environment, please rerun this cell to show the HTML representation or trust the notebook. <br />On GitHub, the HTML representation is unable to render, please try loading this page with nbviewer.org.</b></div><div class=\"sk-container\" hidden><div class=\"sk-item\"><div class=\"sk-estimator sk-toggleable\"><input class=\"sk-toggleable__control sk-hidden--visually\" id=\"sk-estimator-id-5\" type=\"checkbox\" checked><label for=\"sk-estimator-id-5\" class=\"sk-toggleable__label sk-toggleable__label-arrow\">GaussianMixture</label><div class=\"sk-toggleable__content\"><pre>GaussianMixture(n_components=2)</pre></div></div></div></div></div>"
      ],
      "text/plain": [
       "GaussianMixture(n_components=2)"
      ]
     },
     "execution_count": 74,
     "metadata": {},
     "output_type": "execute_result"
    }
   ],
   "source": [
    "## Se crea el objeto que guarda el modelo con un número determinado de clusters\n",
    "gmm_ejemplo2 = GaussianMixture(n_components=2)\n",
    "\n",
    "gmm_ejemplo2.fit(X_train_GaussianMixture_ejemplo2)"
   ]
  },
  {
   "attachments": {},
   "cell_type": "markdown",
   "metadata": {},
   "source": [
    "Podemos obtener medias y covarianzas del modelo gmm entrenado"
   ]
  },
  {
   "cell_type": "code",
   "execution_count": 75,
   "metadata": {},
   "outputs": [
    {
     "name": "stdout",
     "output_type": "stream",
     "text": [
      "Medias: \n",
      " [[1.60629419 1.3470999 ]\n",
      " [3.0363831  3.09828041]]\n",
      "Covariances: \n",
      " [[[ 0.75275611 -0.5054196 ]\n",
      "  [-0.5054196   0.74286061]]\n",
      "\n",
      " [[ 0.8465178   0.38644336]\n",
      "  [ 0.38644336  0.73395863]]]\n"
     ]
    }
   ],
   "source": [
    "print('Medias: \\n', gmm_ejemplo2.means_)\n",
    "print('Covariances: \\n', gmm_ejemplo2.covariances_)"
   ]
  },
  {
   "attachments": {},
   "cell_type": "markdown",
   "metadata": {},
   "source": [
    "Vamos a verificar la probabilidad de pertenencia a cada clase"
   ]
  },
  {
   "cell_type": "code",
   "execution_count": 87,
   "metadata": {},
   "outputs": [
    {
     "data": {
      "text/plain": [
       "array([[1.18437804e-02, 9.88156220e-01],\n",
       "       [5.81052982e-02, 9.41894702e-01],\n",
       "       [5.02130401e-06, 9.99994979e-01],\n",
       "       [8.70435001e-01, 1.29564999e-01],\n",
       "       [2.15783623e-07, 9.99999784e-01],\n",
       "       [2.66478525e-07, 9.99999734e-01],\n",
       "       [5.38404978e-03, 9.94615950e-01],\n",
       "       [1.15562064e-16, 1.00000000e+00],\n",
       "       [5.38761219e-11, 1.00000000e+00],\n",
       "       [6.95143494e-10, 9.99999999e-01],\n",
       "       [8.39442807e-01, 1.60557193e-01],\n",
       "       [4.37084708e-04, 9.99562915e-01],\n",
       "       [7.33794636e-08, 9.99999927e-01],\n",
       "       [5.19410968e-12, 1.00000000e+00],\n",
       "       [3.55298540e-08, 9.99999964e-01],\n",
       "       [8.03326942e-08, 9.99999920e-01],\n",
       "       [1.19542131e-04, 9.99880458e-01],\n",
       "       [2.56191319e-01, 7.43808681e-01],\n",
       "       [4.10919082e-03, 9.95890809e-01],\n",
       "       [2.16809639e-13, 1.00000000e+00],\n",
       "       [7.36761425e-02, 9.26323858e-01],\n",
       "       [2.20763910e-05, 9.99977924e-01],\n",
       "       [1.63808705e-14, 1.00000000e+00],\n",
       "       [2.97699643e-07, 9.99999702e-01],\n",
       "       [1.18398843e-02, 9.88160116e-01],\n",
       "       [2.68265769e-03, 9.97317342e-01],\n",
       "       [1.12816509e-08, 9.99999989e-01],\n",
       "       [3.79111872e-01, 6.20888128e-01],\n",
       "       [9.62884986e-10, 9.99999999e-01],\n",
       "       [2.80570764e-03, 9.97194292e-01],\n",
       "       [1.92989238e-07, 9.99999807e-01],\n",
       "       [2.03105327e-11, 1.00000000e+00],\n",
       "       [1.56580418e-01, 8.43419582e-01],\n",
       "       [3.97240945e-05, 9.99960276e-01],\n",
       "       [4.45272413e-03, 9.95547276e-01],\n",
       "       [5.30966603e-03, 9.94690334e-01],\n",
       "       [8.85122464e-05, 9.99911488e-01],\n",
       "       [1.91396498e-25, 1.00000000e+00],\n",
       "       [2.24878851e-04, 9.99775121e-01],\n",
       "       [1.22423808e-03, 9.98775762e-01],\n",
       "       [5.57396252e-06, 9.99994426e-01],\n",
       "       [8.65796724e-01, 1.34203276e-01],\n",
       "       [1.68403991e-09, 9.99999998e-01],\n",
       "       [2.13239318e-01, 7.86760682e-01],\n",
       "       [9.26249914e-08, 9.99999907e-01],\n",
       "       [2.59958749e-04, 9.99740041e-01],\n",
       "       [8.02788555e-09, 9.99999992e-01],\n",
       "       [1.58496859e-06, 9.99998415e-01],\n",
       "       [1.73050517e-03, 9.98269495e-01],\n",
       "       [8.81449216e-05, 9.99911855e-01],\n",
       "       [4.73350312e-14, 1.00000000e+00],\n",
       "       [1.66017460e-06, 9.99998340e-01],\n",
       "       [1.14892684e-05, 9.99988511e-01],\n",
       "       [9.31136766e-01, 6.88632344e-02],\n",
       "       [1.24298955e-03, 9.98757010e-01],\n",
       "       [1.76258630e-18, 1.00000000e+00],\n",
       "       [7.39466697e-04, 9.99260533e-01],\n",
       "       [7.80072141e-06, 9.99992199e-01],\n",
       "       [1.03841057e-04, 9.99896159e-01],\n",
       "       [5.20191630e-01, 4.79808370e-01],\n",
       "       [1.68184693e-01, 8.31815307e-01],\n",
       "       [9.18352267e-01, 8.16477328e-02],\n",
       "       [6.96709617e-02, 9.30329038e-01],\n",
       "       [9.25406701e-11, 1.00000000e+00],\n",
       "       [2.84045215e-04, 9.99715955e-01],\n",
       "       [3.24442886e-15, 1.00000000e+00],\n",
       "       [2.41340335e-11, 1.00000000e+00],\n",
       "       [4.71492320e-10, 1.00000000e+00],\n",
       "       [2.31890567e-09, 9.99999998e-01],\n",
       "       [2.46060631e-01, 7.53939369e-01],\n",
       "       [1.22334439e-03, 9.98776656e-01],\n",
       "       [1.06788306e-15, 1.00000000e+00],\n",
       "       [1.30261327e-03, 9.98697387e-01],\n",
       "       [2.29615201e-12, 1.00000000e+00],\n",
       "       [1.36151331e-02, 9.86384867e-01],\n",
       "       [1.10145850e-03, 9.98898542e-01],\n",
       "       [1.01726362e-08, 9.99999990e-01],\n",
       "       [2.40494502e-03, 9.97595055e-01],\n",
       "       [9.26614599e-01, 7.33854014e-02],\n",
       "       [2.76268032e-12, 1.00000000e+00],\n",
       "       [1.14613367e-10, 1.00000000e+00],\n",
       "       [6.57213845e-01, 3.42786155e-01],\n",
       "       [2.69061327e-01, 7.30938673e-01],\n",
       "       [2.38469199e-01, 7.61530801e-01],\n",
       "       [5.66606276e-06, 9.99994334e-01],\n",
       "       [5.57119798e-10, 9.99999999e-01],\n",
       "       [3.12758568e-05, 9.99968724e-01],\n",
       "       [1.56106189e-03, 9.98438938e-01],\n",
       "       [1.40030860e-04, 9.99859969e-01],\n",
       "       [2.49601219e-05, 9.99975040e-01],\n",
       "       [5.11782703e-02, 9.48821730e-01],\n",
       "       [2.09146809e-11, 1.00000000e+00],\n",
       "       [5.69057827e-06, 9.99994309e-01],\n",
       "       [9.46106873e-03, 9.90538931e-01],\n",
       "       [2.08370508e-09, 9.99999998e-01],\n",
       "       [3.26846942e-07, 9.99999673e-01],\n",
       "       [1.72523236e-03, 9.98274768e-01],\n",
       "       [5.00983536e-04, 9.99499016e-01],\n",
       "       [4.37699387e-10, 1.00000000e+00],\n",
       "       [2.91772972e-04, 9.99708227e-01],\n",
       "       [9.15885555e-01, 8.41144452e-02],\n",
       "       [4.07708987e-01, 5.92291013e-01],\n",
       "       [9.37360544e-01, 6.26394556e-02],\n",
       "       [9.75724211e-01, 2.42757894e-02],\n",
       "       [8.90466354e-01, 1.09533646e-01],\n",
       "       [9.63833249e-01, 3.61667509e-02],\n",
       "       [9.21133595e-01, 7.88664049e-02],\n",
       "       [9.99733721e-01, 2.66278956e-04],\n",
       "       [9.81494725e-01, 1.85052750e-02],\n",
       "       [9.91226484e-01, 8.77351601e-03],\n",
       "       [9.89366312e-01, 1.06336880e-02],\n",
       "       [9.41547230e-01, 5.84527696e-02],\n",
       "       [9.47391200e-01, 5.26088003e-02],\n",
       "       [9.87843010e-01, 1.21569897e-02],\n",
       "       [9.69332371e-01, 3.06676289e-02],\n",
       "       [3.37066331e-01, 6.62933669e-01],\n",
       "       [9.46487089e-01, 5.35129107e-02],\n",
       "       [9.61038775e-01, 3.89612250e-02],\n",
       "       [9.18822511e-01, 8.11774887e-02],\n",
       "       [9.95563481e-01, 4.43651934e-03],\n",
       "       [9.10295703e-01, 8.97042970e-02],\n",
       "       [9.32223419e-01, 6.77765815e-02],\n",
       "       [9.99098208e-01, 9.01791742e-04],\n",
       "       [7.46817124e-01, 2.53182876e-01],\n",
       "       [9.28720461e-01, 7.12795389e-02],\n",
       "       [9.24770947e-01, 7.52290529e-02],\n",
       "       [9.20618755e-01, 7.93812450e-02],\n",
       "       [8.40985991e-01, 1.59014009e-01],\n",
       "       [9.84184119e-01, 1.58158811e-02],\n",
       "       [6.52270547e-01, 3.47729453e-01],\n",
       "       [9.56144596e-01, 4.38554041e-02],\n",
       "       [9.95828545e-01, 4.17145479e-03],\n",
       "       [5.72497417e-01, 4.27502583e-01],\n",
       "       [6.60248590e-01, 3.39751410e-01],\n",
       "       [9.35346649e-01, 6.46533509e-02],\n",
       "       [3.39286301e-01, 6.60713699e-01],\n",
       "       [3.32121357e-01, 6.67878643e-01],\n",
       "       [9.99996222e-01, 3.77790097e-06],\n",
       "       [9.21962676e-01, 7.80373243e-02],\n",
       "       [9.20488591e-01, 7.95114092e-02],\n",
       "       [8.78692223e-01, 1.21307777e-01],\n",
       "       [9.91547686e-01, 8.45231377e-03],\n",
       "       [9.85026138e-01, 1.49738622e-02],\n",
       "       [9.18128253e-01, 8.18717469e-02],\n",
       "       [9.06348885e-01, 9.36511152e-02],\n",
       "       [6.54932466e-01, 3.45067534e-01],\n",
       "       [9.76929163e-01, 2.30708366e-02],\n",
       "       [9.65897799e-01, 3.41022012e-02],\n",
       "       [8.62356682e-01, 1.37643318e-01],\n",
       "       [9.21340463e-01, 7.86595372e-02],\n",
       "       [9.98502690e-01, 1.49730988e-03],\n",
       "       [9.62015577e-01, 3.79844228e-02],\n",
       "       [8.62882720e-01, 1.37117280e-01],\n",
       "       [9.97240431e-01, 2.75956887e-03],\n",
       "       [9.02822559e-01, 9.71774405e-02],\n",
       "       [9.99859238e-01, 1.40762292e-04],\n",
       "       [2.86030580e-02, 9.71396942e-01],\n",
       "       [8.83595111e-01, 1.16404889e-01],\n",
       "       [9.47522078e-01, 5.24779215e-02],\n",
       "       [9.07300147e-01, 9.26998533e-02],\n",
       "       [9.58982476e-01, 4.10175243e-02],\n",
       "       [9.89758830e-01, 1.02411698e-02],\n",
       "       [8.46959849e-02, 9.15304015e-01],\n",
       "       [9.92088173e-01, 7.91182681e-03],\n",
       "       [9.31528920e-01, 6.84710799e-02],\n",
       "       [9.98718809e-01, 1.28119122e-03],\n",
       "       [9.80144793e-01, 1.98552071e-02],\n",
       "       [7.41762279e-01, 2.58237721e-01],\n",
       "       [9.81509927e-01, 1.84900727e-02],\n",
       "       [9.60442874e-01, 3.95571259e-02],\n",
       "       [4.68055452e-01, 5.31944548e-01],\n",
       "       [9.98884826e-01, 1.11517401e-03],\n",
       "       [7.29354636e-01, 2.70645364e-01],\n",
       "       [9.97559643e-01, 2.44035731e-03],\n",
       "       [8.70313105e-01, 1.29686895e-01],\n",
       "       [8.46813602e-01, 1.53186398e-01],\n",
       "       [9.55166370e-01, 4.48336305e-02],\n",
       "       [9.36235524e-01, 6.37644756e-02],\n",
       "       [9.95524078e-01, 4.47592159e-03],\n",
       "       [9.83360102e-01, 1.66398979e-02],\n",
       "       [9.53423678e-01, 4.65763220e-02],\n",
       "       [9.80046900e-01, 1.99530996e-02],\n",
       "       [9.16608902e-01, 8.33910975e-02],\n",
       "       [2.45065542e-01, 7.54934458e-01],\n",
       "       [9.55193100e-01, 4.48069004e-02],\n",
       "       [9.90156826e-01, 9.84317417e-03],\n",
       "       [8.64077286e-01, 1.35922714e-01],\n",
       "       [7.12658980e-01, 2.87341020e-01],\n",
       "       [3.91948113e-01, 6.08051887e-01],\n",
       "       [1.45794066e-02, 9.85420593e-01],\n",
       "       [9.49157062e-01, 5.08429377e-02],\n",
       "       [9.80475558e-01, 1.95244417e-02],\n",
       "       [8.01028081e-01, 1.98971919e-01],\n",
       "       [9.09453861e-01, 9.05461387e-02],\n",
       "       [9.88993969e-01, 1.10060311e-02],\n",
       "       [8.13681440e-01, 1.86318560e-01],\n",
       "       [9.40546517e-01, 5.94534832e-02],\n",
       "       [8.39727239e-01, 1.60272761e-01],\n",
       "       [9.77262594e-01, 2.27374061e-02],\n",
       "       [9.44071240e-01, 5.59287598e-02]])"
      ]
     },
     "execution_count": 87,
     "metadata": {},
     "output_type": "execute_result"
    }
   ],
   "source": [
    "probabilidades_gmm_ejemplo2 = gmm_ejemplo2.predict_proba(X_train_GaussianMixture_ejemplo2)\n",
    "probabilidades_gmm_ejemplo2"
   ]
  },
  {
   "attachments": {},
   "cell_type": "markdown",
   "metadata": {},
   "source": [
    "Se determina para cada punto de X a que cluster de los n_clusterts definidos pertenence (Al que mayor probabilidad tiene, esto equivale a la MAXIMIZACIÓN de la Verosimilitud)"
   ]
  },
  {
   "cell_type": "code",
   "execution_count": 88,
   "metadata": {},
   "outputs": [
    {
     "data": {
      "text/plain": [
       "array([1, 1, 1, 0, 1, 1, 1, 1, 1, 1, 0, 1, 1, 1, 1, 1, 1, 1, 1, 1, 1, 1,\n",
       "       1, 1, 1, 1, 1, 1, 1, 1, 1, 1, 1, 1, 1, 1, 1, 1, 1, 1, 1, 0, 1, 1,\n",
       "       1, 1, 1, 1, 1, 1, 1, 1, 1, 0, 1, 1, 1, 1, 1, 0, 1, 0, 1, 1, 1, 1,\n",
       "       1, 1, 1, 1, 1, 1, 1, 1, 1, 1, 1, 1, 0, 1, 1, 0, 1, 1, 1, 1, 1, 1,\n",
       "       1, 1, 1, 1, 1, 1, 1, 1, 1, 1, 1, 1, 0, 1, 0, 0, 0, 0, 0, 0, 0, 0,\n",
       "       0, 0, 0, 0, 0, 1, 0, 0, 0, 0, 0, 0, 0, 0, 0, 0, 0, 0, 0, 0, 0, 0,\n",
       "       0, 0, 0, 1, 1, 0, 0, 0, 0, 0, 0, 0, 0, 0, 0, 0, 0, 0, 0, 0, 0, 0,\n",
       "       0, 0, 1, 0, 0, 0, 0, 0, 1, 0, 0, 0, 0, 0, 0, 0, 1, 0, 0, 0, 0, 0,\n",
       "       0, 0, 0, 0, 0, 0, 0, 1, 0, 0, 0, 0, 1, 1, 0, 0, 0, 0, 0, 0, 0, 0,\n",
       "       0, 0], dtype=int64)"
      ]
     },
     "execution_count": 88,
     "metadata": {},
     "output_type": "execute_result"
    }
   ],
   "source": [
    "labels_gmm_ejemplo2 = gmm_ejemplo2.predict(X_train_GaussianMixture_ejemplo2)\n",
    "labels_gmm_ejemplo2"
   ]
  },
  {
   "attachments": {},
   "cell_type": "markdown",
   "metadata": {},
   "source": [
    "Vamos a graficar el resultado del GaussianMixture donde se muestra la media y varianza de los clusters formados "
   ]
  },
  {
   "cell_type": "code",
   "execution_count": 78,
   "metadata": {},
   "outputs": [
    {
     "data": {
      "image/png": "[encoded data removed]",
      "text/plain": [
       "<Figure size 576x396 with 1 Axes>"
      ]
     },
     "metadata": {},
     "output_type": "display_data"
    }
   ],
   "source": [
    "### Vamos a generar una maya de puntos\n",
    "X,Y = np.meshgrid(np.linspace(-1,6), np.linspace(-1,6))\n",
    "\n",
    "### Vamos a generar una maya de puntos\n",
    "XX = np.array([X.ravel(), Y.ravel()]).T\n",
    "##Puntos de X e Y pegados como si fuera 1 dimensión \n",
    "Z = gmm_ejemplo2.score_samples(XX)\n",
    "Z = Z.reshape((50,50))\n",
    "\n",
    "plt.contour(X,Y,Z)\n",
    "plt.scatter(X_train_GaussianMixture_ejemplo2[:,0], X_train_GaussianMixture_ejemplo2[:,1])\n",
    "plt.show()"
   ]
  },
  {
   "attachments": {},
   "cell_type": "markdown",
   "metadata": {},
   "source": [
    "#### Comentarios generales sobre el modelo Hierarchical Clustering. \n",
    "\n",
    "Ventajas: \n",
    "- Solamente tiene 1 parámetro a ajustar que es el n_components\n",
    "- Permite hacer agrupamientos no 'tan lineales o esfericos' \n",
    "sino con formas más 'ovoideas e irregulares'\n",
    "\n",
    "Desventajas: \n",
    "\n",
    "- Suele encontrar puntos óptimos muy locales y no ser 'tan bueno' con óptimos globales"
   ]
  }
 ],
 "metadata": {
  "kernelspec": {
   "display_name": "Python 3",
   "language": "python",
   "name": "python3"
  },
  "language_info": {
   "codemirror_mode": {
    "name": "ipython",
    "version": 3
   },
   "file_extension": ".py",
   "mimetype": "text/x-python",
   "name": "python",
   "nbconvert_exporter": "python",
   "pygments_lexer": "ipython3",
   "version": "3.10.5"
  },
  "orig_nbformat": 4
 },
 "nbformat": 4,
 "nbformat_minor": 2
}
