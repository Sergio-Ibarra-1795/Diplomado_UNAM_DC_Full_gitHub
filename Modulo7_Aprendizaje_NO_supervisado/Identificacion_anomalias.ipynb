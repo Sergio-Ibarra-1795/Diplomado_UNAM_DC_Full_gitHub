{
 "cells": [
  {
   "attachments": {},
   "cell_type": "markdown",
   "metadata": {},
   "source": [
    "#### <font color=\"#03997A\"> Diplomado en Ciencia de datos UNAM </font>\n",
    "\n",
    "##### <font color=\"#03997A\"> Dr: Eduardo Espinosa A. </font>\n",
    "\n",
    "##### <font color=\"#03997A\"> Modulo 7 Aprendizaje de Maquina NO supervisado </font>\n",
    "\n",
    "##### <font color=\"#03997A\"> Tema 5 Detección  de novedades y valores atípicos Alumno: Ibarra Ramírez Sergio </font>"
   ]
  },
  {
   "cell_type": "code",
   "execution_count": 2,
   "metadata": {},
   "outputs": [],
   "source": [
    "import numpy as np\n",
    "import matplotlib.pyplot as plt "
   ]
  },
  {
   "cell_type": "code",
   "execution_count": 3,
   "metadata": {},
   "outputs": [],
   "source": [
    "## Generamos datos ficticios con distribución normal, escalados y centrados en 20\n",
    "\n",
    "data_normal1 = np.random.randn(50000) * 20 +20 "
   ]
  },
  {
   "attachments": {},
   "cell_type": "markdown",
   "metadata": {},
   "source": [
    "##### Ejemplo de detección de anomalias basadas en desviación estandar "
   ]
  },
  {
   "cell_type": "code",
   "execution_count": 4,
   "metadata": {},
   "outputs": [],
   "source": [
    "def find_anomalies(data, cut=3):\n",
    "    ## Donde data es una lista de datos\n",
    "    ## Y cut =n denota el número de desviaciones estandar para hacer el corte\n",
    "\n",
    "    ## Inicializamos la lista donde se irán almacenando las anomalias\n",
    "    anomalies = []\n",
    "\n",
    "    ## Establecer limites superior e inferoor de datos 'NO anomalos'\n",
    "\n",
    "    ## Se calcula la desviación estandar de la data dada como parámetro\n",
    "    data_std = np.std(data)\n",
    "    ## Se calcula la media de la data dada como parámetro\n",
    "    data_mean = np.mean(data)\n",
    "\n",
    "    ## El curte es cut veces la desviación estandar\n",
    "    anomaly_cut = data_std * cut\n",
    "\n",
    "\n",
    "    ## Limites inferior y superior es la media + el anomaly_cut\n",
    "    low_limit = data_mean - anomaly_cut\n",
    "    upp_limit = data_mean + anomaly_cut\n",
    "\n",
    "    ## Detección de anomalias\n",
    "\n",
    "    # Para cada elemento en la lista de data\n",
    "    for d in data: \n",
    "        # Si el valor de dicho elemento es mayor o menor que los limites superior e inferior respectivamente\n",
    "        if d>upp_limit or d < low_limit:\n",
    "            # Agregarlo a la lista de anomalias\n",
    "            anomalies.append(d)\n",
    "    return anomalies"
   ]
  },
  {
   "cell_type": "code",
   "execution_count": 5,
   "metadata": {},
   "outputs": [
    {
     "data": {
      "text/plain": [
       "[-41.47982710390407,\n",
       " 94.2293945988345,\n",
       " -41.19195282184036,\n",
       " 80.84291640753143,\n",
       " -46.584516120031225,\n",
       " -50.01711848993227,\n",
       " -47.923235063129894,\n",
       " 97.48062727212614,\n",
       " -41.75305402894231,\n",
       " 81.31947337510739,\n",
       " -40.84797364512821,\n",
       " -42.696651388193814,\n",
       " -41.18802833121037,\n",
       " -52.327526849585226,\n",
       " 85.66284420706646,\n",
       " -40.61685457120181,\n",
       " -42.94719952281941,\n",
       " 86.13532803356493,\n",
       " -46.85705884228237,\n",
       " 91.8823707269695,\n",
       " -50.50886547738524,\n",
       " -42.165145063426195,\n",
       " -44.92119085313371,\n",
       " -53.41437315680197,\n",
       " 83.39441823465823,\n",
       " -48.96172394242677,\n",
       " 85.09285723997573,\n",
       " 84.93824283261787,\n",
       " -40.558657231780664,\n",
       " 83.35004395245842,\n",
       " -42.68058868964292,\n",
       " 84.31001417488996,\n",
       " 81.42653610131376,\n",
       " -51.6561860999435,\n",
       " 81.74218136662401,\n",
       " -42.36268407530603,\n",
       " 89.18380137392678,\n",
       " 82.4802114325281,\n",
       " -41.06220897338442,\n",
       " -42.56670629132173,\n",
       " -42.009007077500556,\n",
       " 82.62450376403197,\n",
       " -49.548558357724005,\n",
       " -45.85035508902807,\n",
       " -42.73048399402399,\n",
       " -45.52752185279381,\n",
       " 80.34561889021322,\n",
       " 84.55008989716325,\n",
       " -41.89738333294506,\n",
       " 80.93674350057773,\n",
       " -44.08276085557793,\n",
       " 85.48848644460338,\n",
       " 81.21645359959454,\n",
       " 83.98366203617618,\n",
       " 80.55559456071495,\n",
       " -41.87288097069903,\n",
       " 85.52300358054994,\n",
       " 89.67501473128611,\n",
       " -41.43844307105607,\n",
       " -44.70630850709297,\n",
       " 90.22736615251634,\n",
       " -41.347339463182806,\n",
       " -51.89246642778569,\n",
       " -40.557757070004726,\n",
       " 81.34525139455593,\n",
       " -45.879669086513545,\n",
       " -59.641983456793696,\n",
       " -40.58050287533896,\n",
       " 80.99398793914392,\n",
       " 87.2293352964155,\n",
       " -41.52863920598695,\n",
       " -43.00636957394435,\n",
       " -41.09785787852516,\n",
       " 91.10809312109285,\n",
       " 81.5737592052526,\n",
       " 80.59847626825663,\n",
       " 89.1792460408173,\n",
       " -44.08498650392687,\n",
       " 90.04438788568842,\n",
       " 91.0548415818006,\n",
       " 83.43323880505218,\n",
       " -45.86597695575274,\n",
       " -42.079668870592705,\n",
       " -65.0345061865448,\n",
       " 81.0828830326908,\n",
       " -42.19877980000256,\n",
       " -42.28733205412873,\n",
       " -45.661638268848876,\n",
       " 81.96197972758785,\n",
       " -46.284496817271986,\n",
       " -40.571456364583284,\n",
       " -44.550392896242656,\n",
       " 83.9368415501672,\n",
       " -40.97067364378148,\n",
       " 81.94884964575675,\n",
       " 96.87959619057607,\n",
       " 86.73190501130429,\n",
       " 91.65342506443446,\n",
       " 84.52758108870907,\n",
       " -46.18484662835617,\n",
       " -43.018845919988216,\n",
       " -51.43852507817914,\n",
       " -52.75027348484488,\n",
       " 84.05809787699658,\n",
       " -47.83539988913178,\n",
       " 81.2712712255869,\n",
       " 107.08085550084624,\n",
       " -47.087405502889396,\n",
       " -46.57443847346303,\n",
       " -44.721170724085766,\n",
       " 82.32362721544696,\n",
       " 80.7700171114358,\n",
       " 93.34423854795637,\n",
       " -58.43834006072281,\n",
       " 80.93036605835005,\n",
       " 86.43942326411639,\n",
       " 81.82558356550487,\n",
       " -47.45510764109001,\n",
       " 82.7233283435317,\n",
       " -44.21368149169706,\n",
       " -56.55205348872603,\n",
       " -50.91930604137018,\n",
       " -41.65226941622325,\n",
       " -48.27370897055441,\n",
       " -49.38704381265545,\n",
       " -48.26668553241838,\n",
       " 81.2081948692382,\n",
       " -51.17734945809049,\n",
       " -47.543379759597116,\n",
       " 83.73360049542308,\n",
       " 90.20643584303839,\n",
       " 89.84693091742275,\n",
       " -43.068745564232664,\n",
       " -58.01909069397581,\n",
       " -55.10929877222547,\n",
       " -46.40177576657322,\n",
       " 82.74603260248601,\n",
       " -43.29140896870201,\n",
       " -41.25091889567162]"
      ]
     },
     "execution_count": 5,
     "metadata": {},
     "output_type": "execute_result"
    }
   ],
   "source": [
    "## Usamos la función find_anomalies\n",
    "find_anomalies(data_normal1, cut=3)"
   ]
  },
  {
   "cell_type": "code",
   "execution_count": 6,
   "metadata": {},
   "outputs": [
    {
     "data": {
      "text/plain": [
       "139"
      ]
     },
     "execution_count": 6,
     "metadata": {},
     "output_type": "execute_result"
    }
   ],
   "source": [
    "len(find_anomalies(data_normal1, cut=3))"
   ]
  },
  {
   "attachments": {},
   "cell_type": "markdown",
   "metadata": {},
   "source": [
    "    Graficamos nuestro conjunto de datos original"
   ]
  },
  {
   "attachments": {},
   "cell_type": "markdown",
   "metadata": {},
   "source": [
    "- Primero cong gráffica de histograma "
   ]
  },
  {
   "cell_type": "code",
   "execution_count": 7,
   "metadata": {},
   "outputs": [
    {
     "data": {
      "text/plain": [
       "(array([2.3000e+01, 3.1800e+02, 2.1000e+03, 8.0080e+03, 1.5772e+04,\n",
       "        1.4793e+04, 7.0660e+03, 1.7090e+03, 1.9900e+02, 1.2000e+01]),\n",
       " array([-65.03450619, -47.82297002, -30.61143385, -13.39989768,\n",
       "          3.81163849,  21.02317466,  38.23471083,  55.44624699,\n",
       "         72.65778316,  89.86931933, 107.0808555 ]),\n",
       " <BarContainer object of 10 artists>)"
      ]
     },
     "execution_count": 7,
     "metadata": {},
     "output_type": "execute_result"
    },
    {
     "data": {
      "image/png": "[encoded data removed]",
      "text/plain": [
       "<Figure size 432x288 with 1 Axes>"
      ]
     },
     "metadata": {
      "needs_background": "light"
     },
     "output_type": "display_data"
    }
   ],
   "source": [
    "plt.hist(data_normal1)"
   ]
  },
  {
   "attachments": {},
   "cell_type": "markdown",
   "metadata": {},
   "source": [
    "Veamos tambióen la gráfica de quantil-quantil"
   ]
  },
  {
   "cell_type": "code",
   "execution_count": 8,
   "metadata": {},
   "outputs": [
    {
     "data": {
      "image/png": "[encoded data removed]",
      "text/plain": [
       "<Figure size 432x288 with 1 Axes>"
      ]
     },
     "metadata": {
      "needs_background": "light"
     },
     "output_type": "display_data"
    }
   ],
   "source": [
    "import pylab \n",
    "import scipy.stats as stats\n",
    "stats.probplot(data_normal1, dist='norm', plot=pylab)\n",
    "pylab.show()"
   ]
  },
  {
   "attachments": {},
   "cell_type": "markdown",
   "metadata": {},
   "source": [
    "Prueba de normalidad de los datos con la prueba de shapiro cuyo H0 indica que la variable SI ES NORMAL "
   ]
  },
  {
   "cell_type": "code",
   "execution_count": 14,
   "metadata": {},
   "outputs": [
    {
     "name": "stdout",
     "output_type": "stream",
     "text": [
      "0.8287532925605774\n"
     ]
    }
   ],
   "source": [
    "from scipy.stats import shapiro\n",
    "est, p_value = shapiro(data_normal1)\n",
    "print(p_value)\n"
   ]
  },
  {
   "cell_type": "code",
   "execution_count": 15,
   "metadata": {},
   "outputs": [
    {
     "name": "stdout",
     "output_type": "stream",
     "text": [
      "0.9999615550041199\n"
     ]
    }
   ],
   "source": [
    "print(est)"
   ]
  },
  {
   "attachments": {},
   "cell_type": "markdown",
   "metadata": {},
   "source": [
    "##### Ejemplo de detección de anomalias basadas en Rango Interquartilico y box-plot"
   ]
  },
  {
   "cell_type": "code",
   "execution_count": 18,
   "metadata": {},
   "outputs": [],
   "source": [
    "## BOXPLOT \n",
    "import pandas as pd\n",
    "import numpy as no \n",
    "import matplotlib.pyplot as plt "
   ]
  },
  {
   "attachments": {},
   "cell_type": "markdown",
   "metadata": {},
   "source": [
    "Generaremos de nuevo un conjunto de datos para el caso de detección de valores anomalos por Rango Interquartilico "
   ]
  },
  {
   "cell_type": "code",
   "execution_count": 22,
   "metadata": {},
   "outputs": [
    {
     "data": {
      "text/html": [
       "<div>\n",
       "<style scoped>\n",
       "    .dataframe tbody tr th:only-of-type {\n",
       "        vertical-align: middle;\n",
       "    }\n",
       "\n",
       "    .dataframe tbody tr th {\n",
       "        vertical-align: top;\n",
       "    }\n",
       "\n",
       "    .dataframe thead th {\n",
       "        text-align: right;\n",
       "    }\n",
       "</style>\n",
       "<table border=\"1\" class=\"dataframe\">\n",
       "  <thead>\n",
       "    <tr style=\"text-align: right;\">\n",
       "      <th></th>\n",
       "      <th>random</th>\n",
       "    </tr>\n",
       "  </thead>\n",
       "  <tbody>\n",
       "    <tr>\n",
       "      <th>0</th>\n",
       "      <td>-5.941667</td>\n",
       "    </tr>\n",
       "    <tr>\n",
       "      <th>1</th>\n",
       "      <td>-21.242134</td>\n",
       "    </tr>\n",
       "    <tr>\n",
       "      <th>2</th>\n",
       "      <td>36.655117</td>\n",
       "    </tr>\n",
       "    <tr>\n",
       "      <th>3</th>\n",
       "      <td>8.052014</td>\n",
       "    </tr>\n",
       "    <tr>\n",
       "      <th>4</th>\n",
       "      <td>35.091670</td>\n",
       "    </tr>\n",
       "  </tbody>\n",
       "</table>\n",
       "</div>"
      ],
      "text/plain": [
       "      random\n",
       "0  -5.941667\n",
       "1 -21.242134\n",
       "2  36.655117\n",
       "3   8.052014\n",
       "4  35.091670"
      ]
     },
     "execution_count": 22,
     "metadata": {},
     "output_type": "execute_result"
    }
   ],
   "source": [
    "data_normal2 = np.random.randn(50000) * 20 +20 \n",
    "\n",
    "## Convertimos los números aleatorios en un DF \n",
    "data_normal2 = pd.DataFrame(data_normal2, columns=['random'])\n",
    "data_normal2.head(5)"
   ]
  },
  {
   "attachments": {},
   "cell_type": "markdown",
   "metadata": {},
   "source": [
    "Vamos a usar el blox plot para el caso de data_normal2"
   ]
  },
  {
   "cell_type": "code",
   "execution_count": 23,
   "metadata": {},
   "outputs": [
    {
     "data": {
      "text/plain": [
       "<AxesSubplot:>"
      ]
     },
     "execution_count": 23,
     "metadata": {},
     "output_type": "execute_result"
    },
    {
     "data": {
      "image/png": "[encoded data removed]",
      "text/plain": [
       "<Figure size 432x288 with 1 Axes>"
      ]
     },
     "metadata": {
      "needs_background": "light"
     },
     "output_type": "display_data"
    }
   ],
   "source": [
    "import seaborn as sns \n",
    "sns.boxplot(data_normal2)"
   ]
  },
  {
   "attachments": {},
   "cell_type": "markdown",
   "metadata": {},
   "source": [
    "Ahora vamos a usar el boxplot para datos no normales"
   ]
  },
  {
   "cell_type": "code",
   "execution_count": 24,
   "metadata": {},
   "outputs": [
    {
     "data": {
      "text/html": [
       "<div>\n",
       "<style scoped>\n",
       "    .dataframe tbody tr th:only-of-type {\n",
       "        vertical-align: middle;\n",
       "    }\n",
       "\n",
       "    .dataframe tbody tr th {\n",
       "        vertical-align: top;\n",
       "    }\n",
       "\n",
       "    .dataframe thead th {\n",
       "        text-align: right;\n",
       "    }\n",
       "</style>\n",
       "<table border=\"1\" class=\"dataframe\">\n",
       "  <thead>\n",
       "    <tr style=\"text-align: right;\">\n",
       "      <th></th>\n",
       "      <th>Date</th>\n",
       "      <th>MSFT</th>\n",
       "      <th>F</th>\n",
       "      <th>BAC</th>\n",
       "    </tr>\n",
       "  </thead>\n",
       "  <tbody>\n",
       "    <tr>\n",
       "      <th>0</th>\n",
       "      <td>1/3/2007</td>\n",
       "      <td>29.860001</td>\n",
       "      <td>7.51</td>\n",
       "      <td>53.330002</td>\n",
       "    </tr>\n",
       "    <tr>\n",
       "      <th>1</th>\n",
       "      <td>1/4/2007</td>\n",
       "      <td>29.809999</td>\n",
       "      <td>7.70</td>\n",
       "      <td>53.669998</td>\n",
       "    </tr>\n",
       "    <tr>\n",
       "      <th>2</th>\n",
       "      <td>1/5/2007</td>\n",
       "      <td>29.639999</td>\n",
       "      <td>7.62</td>\n",
       "      <td>53.240002</td>\n",
       "    </tr>\n",
       "    <tr>\n",
       "      <th>3</th>\n",
       "      <td>1/8/2007</td>\n",
       "      <td>29.930000</td>\n",
       "      <td>7.73</td>\n",
       "      <td>53.450001</td>\n",
       "    </tr>\n",
       "    <tr>\n",
       "      <th>4</th>\n",
       "      <td>1/9/2007</td>\n",
       "      <td>29.959999</td>\n",
       "      <td>7.79</td>\n",
       "      <td>53.500000</td>\n",
       "    </tr>\n",
       "  </tbody>\n",
       "</table>\n",
       "</div>"
      ],
      "text/plain": [
       "       Date       MSFT     F        BAC\n",
       "0  1/3/2007  29.860001  7.51  53.330002\n",
       "1  1/4/2007  29.809999  7.70  53.669998\n",
       "2  1/5/2007  29.639999  7.62  53.240002\n",
       "3  1/8/2007  29.930000  7.73  53.450001\n",
       "4  1/9/2007  29.959999  7.79  53.500000"
      ]
     },
     "execution_count": 24,
     "metadata": {},
     "output_type": "execute_result"
    }
   ],
   "source": [
    "url = 'http://dicyg.fi-c.unam.mx:8080/lalo/pypcd/presentaciones/stocks.csv'\n",
    "stocks = pd.read_csv(url, header='infer')\n",
    "stocks.head(5)"
   ]
  },
  {
   "attachments": {},
   "cell_type": "markdown",
   "metadata": {},
   "source": [
    "Y aplicamos ahora el box plot para estos datos de stocks"
   ]
  },
  {
   "cell_type": "code",
   "execution_count": 25,
   "metadata": {},
   "outputs": [
    {
     "data": {
      "text/plain": [
       "<AxesSubplot:>"
      ]
     },
     "execution_count": 25,
     "metadata": {},
     "output_type": "execute_result"
    },
    {
     "data": {
      "image/png": "[encoded data removed]",
      "text/plain": [
       "<Figure size 432x288 with 1 Axes>"
      ]
     },
     "metadata": {
      "needs_background": "light"
     },
     "output_type": "display_data"
    }
   ],
   "source": [
    "sns.boxplot(stocks)"
   ]
  },
  {
   "attachments": {},
   "cell_type": "markdown",
   "metadata": {},
   "source": [
    "Vamos a aplicar nosotros el algoritmo de Rango Interquartilico "
   ]
  },
  {
   "cell_type": "code",
   "execution_count": 31,
   "metadata": {},
   "outputs": [],
   "source": [
    "import numpy as np \n",
    "from sklearn.datasets import make_blobs \n",
    "\n",
    "##Se usa una especie de 'variable muda _'\n",
    "\n",
    "X,_ = make_blobs (n_samples=300, n_features=2, centers=1, shuffle=True, random_state=1)\n",
    "\n",
    "##Función para detectar anomalias 'usando el rango Inter'\n",
    "\n",
    "def anomaly_indexes(X):\n",
    "\n",
    "    ## Se definen los Quartiles\n",
    "    Q1,Q3 = np.percentile(X, [25,75])\n",
    "    ## Se calcula el rango interquartilico\n",
    "    IQR = Q3-Q1\n",
    "\n",
    "    ## Se definen los limites superior e inferior\n",
    "    low_limit = Q1 -1.5*IQR\n",
    "    upp_limit = Q3 +1.5*IQR\n",
    "\n",
    "    ## Se detectan las anomalias para cada valor de X siendo mayor o menor a lso limites establecidos\n",
    "    ## NOS RETORNA LOS INDICES de los valores que cumplan esa condición \n",
    "    anomalies = np.where((X<low_limit)| (X>upp_limit))\n",
    "    return anomalies "
   ]
  },
  {
   "cell_type": "code",
   "execution_count": 32,
   "metadata": {},
   "outputs": [
    {
     "name": "stdout",
     "output_type": "stream",
     "text": [
      "Indices de las anomalies en x: (array([ 17,  87, 128, 241, 263], dtype=int64),)\n",
      "Indices de las anomalies en x: [[-4.16600056  2.29232595]\n",
      " [-4.45264491  6.34401868]\n",
      " [-4.07306291  2.62892349]\n",
      " [ 0.8687658   4.15785509]\n",
      " [ 1.37129721  5.23107449]]\n"
     ]
    }
   ],
   "source": [
    "print('Indices de las anomalies en x:', anomaly_indexes(X[:,0]))\n",
    "print('Indices de las anomalies en x:', X[anomaly_indexes(X[:,0])])"
   ]
  },
  {
   "attachments": {},
   "cell_type": "markdown",
   "metadata": {},
   "source": [
    "Uso de la función anomaly_indexes para el caso de stocks['BAC']"
   ]
  },
  {
   "cell_type": "code",
   "execution_count": 41,
   "metadata": {},
   "outputs": [
    {
     "data": {
      "text/plain": [
       "(array([  0,   1,   2,   3,   4,   5,   6,   7,   8,   9,  10,  11,  12,\n",
       "         13,  14,  15,  16,  17,  18,  19,  20,  21,  22,  23,  24,  25,\n",
       "         26,  27,  28,  29,  30,  31,  32,  33,  34,  35,  36,  37,  38,\n",
       "         39,  40,  41,  42,  43,  44,  45,  46,  47,  48,  49,  50,  51,\n",
       "         52,  53,  54,  55,  56,  57,  58,  59,  60,  61,  62,  63,  64,\n",
       "         65,  66,  67,  68,  69,  70,  71,  72,  73,  74,  75,  76,  77,\n",
       "         78,  79,  80,  81,  82,  83,  84,  85,  86,  87,  88,  89,  90,\n",
       "         91,  92,  93,  94,  95,  96,  97,  98,  99, 100, 101, 102, 103,\n",
       "        104, 105, 106, 107, 108, 109, 110, 111, 112, 113, 114, 115, 116,\n",
       "        117, 118, 119, 120, 121, 122, 123, 124, 125, 126, 127, 128, 129,\n",
       "        130, 131, 132, 133, 134, 135, 136, 137, 138, 139, 140, 141, 142,\n",
       "        143, 144, 145, 146, 147, 148, 149, 150, 151, 152, 153, 154, 155,\n",
       "        156, 157, 158, 159, 160, 161, 162, 163, 164, 165, 166, 167, 168,\n",
       "        169, 170, 171, 172, 173, 174, 175, 176, 177, 178, 179, 180, 181,\n",
       "        182, 183, 184, 185, 186, 187, 188, 189, 190, 191, 192, 193, 194,\n",
       "        195, 196, 197, 198, 199, 200, 201, 202, 203, 204, 205, 206, 207,\n",
       "        208, 209, 210, 211, 212, 213, 214, 215, 216, 217, 218, 219, 220,\n",
       "        221, 222, 223, 224, 225, 226, 227, 228, 229, 230, 231, 232, 233,\n",
       "        234, 235, 236, 237, 238, 239, 240, 241, 242, 243, 244, 245, 246,\n",
       "        247, 248, 249, 250, 251, 252, 253, 254, 255, 256, 257, 258, 259,\n",
       "        260, 261, 262, 263, 264, 265, 266, 267, 268, 269, 270, 271, 272,\n",
       "        273, 274, 275, 276, 277, 278, 279, 280, 281, 282, 283, 284, 285,\n",
       "        286, 287, 288, 289, 290, 291, 292, 293, 294, 295, 296, 297, 298,\n",
       "        299, 300, 301, 302, 303, 304, 305, 306, 307, 308, 309, 310, 311,\n",
       "        312, 313, 314, 315, 316, 317, 318, 319, 320, 321, 322, 323, 324,\n",
       "        325, 326, 327, 328, 329, 330, 331, 332, 333, 334, 335, 336, 337,\n",
       "        338, 339, 340, 341, 342, 343, 344, 345, 346, 347, 348, 349, 350,\n",
       "        351, 352, 353, 354, 355, 356, 357, 358, 359, 360, 361, 362, 363,\n",
       "        364, 365, 366, 367, 368, 369, 370, 371, 372, 387, 388, 389, 390,\n",
       "        391, 392, 393, 394, 395, 396, 397, 398, 399, 400, 401, 402, 403,\n",
       "        404, 405, 406, 407, 408, 409, 410, 411, 412, 413, 414, 415, 416,\n",
       "        417, 418, 419, 420, 421, 422, 423, 424, 425, 426, 427, 428, 429,\n",
       "        430, 431, 432, 433, 434, 435, 436, 437, 438, 439, 440, 441, 442,\n",
       "        443, 449, 536, 537, 538, 542, 543, 544, 545, 546, 547, 548],\n",
       "       dtype=int64),)"
      ]
     },
     "execution_count": 41,
     "metadata": {},
     "output_type": "execute_result"
    }
   ],
   "source": [
    "anomaly_indexes(stocks['BAC'])"
   ]
  },
  {
   "cell_type": "code",
   "execution_count": 44,
   "metadata": {},
   "outputs": [
    {
     "data": {
      "text/plain": [
       "441"
      ]
     },
     "execution_count": 44,
     "metadata": {},
     "output_type": "execute_result"
    }
   ],
   "source": [
    "len(anomaly_indexes(stocks['BAC'])[0])"
   ]
  },
  {
   "attachments": {},
   "cell_type": "markdown",
   "metadata": {},
   "source": [
    "##### Density Base Spatial Clustering para deteccion de anomalias "
   ]
  },
  {
   "cell_type": "code",
   "execution_count": 45,
   "metadata": {},
   "outputs": [],
   "source": [
    "import numpy as np\n",
    "from sklearn.cluster import DBSCAN\n",
    "np.random.seed(1)\n",
    "data_para_DBscan = np.random.randn(50000,2)*20 + 20 "
   ]
  },
  {
   "attachments": {},
   "cell_type": "markdown",
   "metadata": {},
   "source": [
    "Se aplica el algoritmo de DBscan para detección de anomalias, definiendo min_samples (umbral de puntos en cluster) y eps (tamaño de clusters)"
   ]
  },
  {
   "cell_type": "code",
   "execution_count": 46,
   "metadata": {},
   "outputs": [
    {
     "data": {
      "text/plain": [
       "94"
      ]
     },
     "execution_count": 46,
     "metadata": {},
     "output_type": "execute_result"
    }
   ],
   "source": [
    "anomalies_dbscan = DBSCAN(min_samples=2, eps=3)\n",
    "clusters_dbscan = anomalies_dbscan.fit_predict(data_para_DBscan)\n",
    "\n",
    "## Se obtiene aquellos puntos o clusters con solo 1 etiqueta \n",
    "list(clusters_dbscan).count(-1)"
   ]
  },
  {
   "attachments": {},
   "cell_type": "markdown",
   "metadata": {},
   "source": [
    "Otro ejemplo de uso de algoritmo de detección de anomalias "
   ]
  },
  {
   "cell_type": "code",
   "execution_count": 48,
   "metadata": {},
   "outputs": [],
   "source": [
    "from sklearn.cluster import DBSCAN \n",
    "from collections import Counter \n"
   ]
  },
  {
   "cell_type": "code",
   "execution_count": 49,
   "metadata": {},
   "outputs": [
    {
     "data": {
      "text/html": [
       "<div>\n",
       "<style scoped>\n",
       "    .dataframe tbody tr th:only-of-type {\n",
       "        vertical-align: middle;\n",
       "    }\n",
       "\n",
       "    .dataframe tbody tr th {\n",
       "        vertical-align: top;\n",
       "    }\n",
       "\n",
       "    .dataframe thead th {\n",
       "        text-align: right;\n",
       "    }\n",
       "</style>\n",
       "<table border=\"1\" class=\"dataframe\">\n",
       "  <thead>\n",
       "    <tr style=\"text-align: right;\">\n",
       "      <th></th>\n",
       "      <th>type1</th>\n",
       "      <th>fixed acidity</th>\n",
       "      <th>volatile acidity</th>\n",
       "      <th>citric acid</th>\n",
       "      <th>residual sugar</th>\n",
       "      <th>chlorides</th>\n",
       "      <th>free sulfur dioxide</th>\n",
       "      <th>total sulfur dioxide</th>\n",
       "      <th>density</th>\n",
       "      <th>pH</th>\n",
       "      <th>sulphates</th>\n",
       "      <th>alcohol</th>\n",
       "      <th>quality</th>\n",
       "    </tr>\n",
       "  </thead>\n",
       "  <tbody>\n",
       "    <tr>\n",
       "      <th>0</th>\n",
       "      <td>white</td>\n",
       "      <td>7.0</td>\n",
       "      <td>0.27</td>\n",
       "      <td>0.36</td>\n",
       "      <td>20.7</td>\n",
       "      <td>0.045</td>\n",
       "      <td>45.0</td>\n",
       "      <td>170.0</td>\n",
       "      <td>1.0010</td>\n",
       "      <td>3.00</td>\n",
       "      <td>0.45</td>\n",
       "      <td>8.8</td>\n",
       "      <td>6</td>\n",
       "    </tr>\n",
       "    <tr>\n",
       "      <th>1</th>\n",
       "      <td>white</td>\n",
       "      <td>6.3</td>\n",
       "      <td>0.30</td>\n",
       "      <td>0.34</td>\n",
       "      <td>1.6</td>\n",
       "      <td>0.049</td>\n",
       "      <td>14.0</td>\n",
       "      <td>132.0</td>\n",
       "      <td>0.9940</td>\n",
       "      <td>3.30</td>\n",
       "      <td>0.49</td>\n",
       "      <td>9.5</td>\n",
       "      <td>6</td>\n",
       "    </tr>\n",
       "    <tr>\n",
       "      <th>2</th>\n",
       "      <td>white</td>\n",
       "      <td>8.1</td>\n",
       "      <td>0.28</td>\n",
       "      <td>0.40</td>\n",
       "      <td>6.9</td>\n",
       "      <td>0.050</td>\n",
       "      <td>30.0</td>\n",
       "      <td>97.0</td>\n",
       "      <td>0.9951</td>\n",
       "      <td>3.26</td>\n",
       "      <td>0.44</td>\n",
       "      <td>10.1</td>\n",
       "      <td>6</td>\n",
       "    </tr>\n",
       "    <tr>\n",
       "      <th>3</th>\n",
       "      <td>white</td>\n",
       "      <td>7.2</td>\n",
       "      <td>0.23</td>\n",
       "      <td>0.32</td>\n",
       "      <td>8.5</td>\n",
       "      <td>0.058</td>\n",
       "      <td>47.0</td>\n",
       "      <td>186.0</td>\n",
       "      <td>0.9956</td>\n",
       "      <td>3.19</td>\n",
       "      <td>0.40</td>\n",
       "      <td>9.9</td>\n",
       "      <td>6</td>\n",
       "    </tr>\n",
       "    <tr>\n",
       "      <th>4</th>\n",
       "      <td>white</td>\n",
       "      <td>7.2</td>\n",
       "      <td>0.23</td>\n",
       "      <td>0.32</td>\n",
       "      <td>8.5</td>\n",
       "      <td>0.058</td>\n",
       "      <td>47.0</td>\n",
       "      <td>186.0</td>\n",
       "      <td>0.9956</td>\n",
       "      <td>3.19</td>\n",
       "      <td>0.40</td>\n",
       "      <td>9.9</td>\n",
       "      <td>6</td>\n",
       "    </tr>\n",
       "  </tbody>\n",
       "</table>\n",
       "</div>"
      ],
      "text/plain": [
       "   type1  fixed acidity  volatile acidity  citric acid  residual sugar  \\\n",
       "0  white            7.0              0.27         0.36            20.7   \n",
       "1  white            6.3              0.30         0.34             1.6   \n",
       "2  white            8.1              0.28         0.40             6.9   \n",
       "3  white            7.2              0.23         0.32             8.5   \n",
       "4  white            7.2              0.23         0.32             8.5   \n",
       "\n",
       "   chlorides  free sulfur dioxide  total sulfur dioxide  density    pH  \\\n",
       "0      0.045                 45.0                 170.0   1.0010  3.00   \n",
       "1      0.049                 14.0                 132.0   0.9940  3.30   \n",
       "2      0.050                 30.0                  97.0   0.9951  3.26   \n",
       "3      0.058                 47.0                 186.0   0.9956  3.19   \n",
       "4      0.058                 47.0                 186.0   0.9956  3.19   \n",
       "\n",
       "   sulphates  alcohol  quality  \n",
       "0       0.45      8.8        6  \n",
       "1       0.49      9.5        6  \n",
       "2       0.44     10.1        6  \n",
       "3       0.40      9.9        6  \n",
       "4       0.40      9.9        6  "
      ]
     },
     "execution_count": 49,
     "metadata": {},
     "output_type": "execute_result"
    }
   ],
   "source": [
    "df_para_DBscan = pd.read_csv(\"https://bit.ly/3arouNg\")\n",
    "df_para_DBscan.head(5)"
   ]
  },
  {
   "attachments": {},
   "cell_type": "markdown",
   "metadata": {},
   "source": [
    "Solo se usarán las colunmas fixed acidity y volatile acidity "
   ]
  },
  {
   "cell_type": "code",
   "execution_count": 50,
   "metadata": {},
   "outputs": [
    {
     "data": {
      "text/html": [
       "<div>\n",
       "<style scoped>\n",
       "    .dataframe tbody tr th:only-of-type {\n",
       "        vertical-align: middle;\n",
       "    }\n",
       "\n",
       "    .dataframe tbody tr th {\n",
       "        vertical-align: top;\n",
       "    }\n",
       "\n",
       "    .dataframe thead th {\n",
       "        text-align: right;\n",
       "    }\n",
       "</style>\n",
       "<table border=\"1\" class=\"dataframe\">\n",
       "  <thead>\n",
       "    <tr style=\"text-align: right;\">\n",
       "      <th></th>\n",
       "      <th>fixed acidity</th>\n",
       "      <th>volatile acidity</th>\n",
       "    </tr>\n",
       "  </thead>\n",
       "  <tbody>\n",
       "    <tr>\n",
       "      <th>0</th>\n",
       "      <td>7.0</td>\n",
       "      <td>0.27</td>\n",
       "    </tr>\n",
       "    <tr>\n",
       "      <th>1</th>\n",
       "      <td>6.3</td>\n",
       "      <td>0.30</td>\n",
       "    </tr>\n",
       "    <tr>\n",
       "      <th>2</th>\n",
       "      <td>8.1</td>\n",
       "      <td>0.28</td>\n",
       "    </tr>\n",
       "    <tr>\n",
       "      <th>3</th>\n",
       "      <td>7.2</td>\n",
       "      <td>0.23</td>\n",
       "    </tr>\n",
       "    <tr>\n",
       "      <th>4</th>\n",
       "      <td>7.2</td>\n",
       "      <td>0.23</td>\n",
       "    </tr>\n",
       "  </tbody>\n",
       "</table>\n",
       "</div>"
      ],
      "text/plain": [
       "   fixed acidity  volatile acidity\n",
       "0            7.0              0.27\n",
       "1            6.3              0.30\n",
       "2            8.1              0.28\n",
       "3            7.2              0.23\n",
       "4            7.2              0.23"
      ]
     },
     "execution_count": 50,
     "metadata": {},
     "output_type": "execute_result"
    }
   ],
   "source": [
    "data_para_DBscan = df_para_DBscan.iloc[:,1:3]\n",
    "data_para_DBscan.head(5)"
   ]
  },
  {
   "cell_type": "code",
   "execution_count": 51,
   "metadata": {},
   "outputs": [
    {
     "data": {
      "text/html": [
       "<style>#sk-container-id-1 {color: black;background-color: white;}#sk-container-id-1 pre{padding: 0;}#sk-container-id-1 div.sk-toggleable {background-color: white;}#sk-container-id-1 label.sk-toggleable__label {cursor: pointer;display: block;width: 100%;margin-bottom: 0;padding: 0.3em;box-sizing: border-box;text-align: center;}#sk-container-id-1 label.sk-toggleable__label-arrow:before {content: \"▸\";float: left;margin-right: 0.25em;color: #696969;}#sk-container-id-1 label.sk-toggleable__label-arrow:hover:before {color: black;}#sk-container-id-1 div.sk-estimator:hover label.sk-toggleable__label-arrow:before {color: black;}#sk-container-id-1 div.sk-toggleable__content {max-height: 0;max-width: 0;overflow: hidden;text-align: left;background-color: #f0f8ff;}#sk-container-id-1 div.sk-toggleable__content pre {margin: 0.2em;color: black;border-radius: 0.25em;background-color: #f0f8ff;}#sk-container-id-1 input.sk-toggleable__control:checked~div.sk-toggleable__content {max-height: 200px;max-width: 100%;overflow: auto;}#sk-container-id-1 input.sk-toggleable__control:checked~label.sk-toggleable__label-arrow:before {content: \"▾\";}#sk-container-id-1 div.sk-estimator input.sk-toggleable__control:checked~label.sk-toggleable__label {background-color: #d4ebff;}#sk-container-id-1 div.sk-label input.sk-toggleable__control:checked~label.sk-toggleable__label {background-color: #d4ebff;}#sk-container-id-1 input.sk-hidden--visually {border: 0;clip: rect(1px 1px 1px 1px);clip: rect(1px, 1px, 1px, 1px);height: 1px;margin: -1px;overflow: hidden;padding: 0;position: absolute;width: 1px;}#sk-container-id-1 div.sk-estimator {font-family: monospace;background-color: #f0f8ff;border: 1px dotted black;border-radius: 0.25em;box-sizing: border-box;margin-bottom: 0.5em;}#sk-container-id-1 div.sk-estimator:hover {background-color: #d4ebff;}#sk-container-id-1 div.sk-parallel-item::after {content: \"\";width: 100%;border-bottom: 1px solid gray;flex-grow: 1;}#sk-container-id-1 div.sk-label:hover label.sk-toggleable__label {background-color: #d4ebff;}#sk-container-id-1 div.sk-serial::before {content: \"\";position: absolute;border-left: 1px solid gray;box-sizing: border-box;top: 0;bottom: 0;left: 50%;z-index: 0;}#sk-container-id-1 div.sk-serial {display: flex;flex-direction: column;align-items: center;background-color: white;padding-right: 0.2em;padding-left: 0.2em;position: relative;}#sk-container-id-1 div.sk-item {position: relative;z-index: 1;}#sk-container-id-1 div.sk-parallel {display: flex;align-items: stretch;justify-content: center;background-color: white;position: relative;}#sk-container-id-1 div.sk-item::before, #sk-container-id-1 div.sk-parallel-item::before {content: \"\";position: absolute;border-left: 1px solid gray;box-sizing: border-box;top: 0;bottom: 0;left: 50%;z-index: -1;}#sk-container-id-1 div.sk-parallel-item {display: flex;flex-direction: column;z-index: 1;position: relative;background-color: white;}#sk-container-id-1 div.sk-parallel-item:first-child::after {align-self: flex-end;width: 50%;}#sk-container-id-1 div.sk-parallel-item:last-child::after {align-self: flex-start;width: 50%;}#sk-container-id-1 div.sk-parallel-item:only-child::after {width: 0;}#sk-container-id-1 div.sk-dashed-wrapped {border: 1px dashed gray;margin: 0 0.4em 0.5em 0.4em;box-sizing: border-box;padding-bottom: 0.4em;background-color: white;}#sk-container-id-1 div.sk-label label {font-family: monospace;font-weight: bold;display: inline-block;line-height: 1.2em;}#sk-container-id-1 div.sk-label-container {text-align: center;}#sk-container-id-1 div.sk-container {/* jupyter's `normalize.less` sets `[hidden] { display: none; }` but bootstrap.min.css set `[hidden] { display: none !important; }` so we also need the `!important` here to be able to override the default hidden behavior on the sphinx rendered scikit-learn.org. See: https://github.com/scikit-learn/scikit-learn/issues/21755 */display: inline-block !important;position: relative;}#sk-container-id-1 div.sk-text-repr-fallback {display: none;}</style><div id=\"sk-container-id-1\" class=\"sk-top-container\"><div class=\"sk-text-repr-fallback\"><pre>DBSCAN(eps=0.2, min_samples=20)</pre><b>In a Jupyter environment, please rerun this cell to show the HTML representation or trust the notebook. <br />On GitHub, the HTML representation is unable to render, please try loading this page with nbviewer.org.</b></div><div class=\"sk-container\" hidden><div class=\"sk-item\"><div class=\"sk-estimator sk-toggleable\"><input class=\"sk-toggleable__control sk-hidden--visually\" id=\"sk-estimator-id-1\" type=\"checkbox\" checked><label for=\"sk-estimator-id-1\" class=\"sk-toggleable__label sk-toggleable__label-arrow\">DBSCAN</label><div class=\"sk-toggleable__content\"><pre>DBSCAN(eps=0.2, min_samples=20)</pre></div></div></div></div></div>"
      ],
      "text/plain": [
       "DBSCAN(eps=0.2, min_samples=20)"
      ]
     },
     "execution_count": 51,
     "metadata": {},
     "output_type": "execute_result"
    }
   ],
   "source": [
    "dbsacn_acidity = DBSCAN(eps=0.2, min_samples=20).fit(data_para_DBscan)\n",
    "dbsacn_acidity"
   ]
  },
  {
   "cell_type": "code",
   "execution_count": 54,
   "metadata": {},
   "outputs": [
    {
     "name": "stdout",
     "output_type": "stream",
     "text": [
      "Counter({0: 6281, -1: 117, 1: 40, 2: 25})\n",
      "      fixed acidity  volatile acidity\n",
      "1502           14.2             0.270\n",
      "1927            9.9             1.005\n",
      "2130            9.8             0.930\n",
      "2297            4.6             0.445\n",
      "2601            4.5             0.190\n",
      "...             ...               ...\n",
      "6131            6.3             1.020\n",
      "6169            7.6             1.580\n",
      "6182            8.0             1.180\n",
      "6409           11.1             0.440\n",
      "6414           11.2             0.400\n",
      "\n",
      "[117 rows x 2 columns]\n"
     ]
    }
   ],
   "source": [
    "print(Counter(dbsacn_acidity.labels_))\n",
    "anom_acidity = pd.DataFrame(data_para_DBscan)\n",
    "print(anom_acidity[dbsacn_acidity.labels_==-1])"
   ]
  },
  {
   "attachments": {},
   "cell_type": "markdown",
   "metadata": {},
   "source": [
    "Vamos a graficar el resultado de DBSCAN para acidity "
   ]
  },
  {
   "cell_type": "code",
   "execution_count": 57,
   "metadata": {},
   "outputs": [
    {
     "data": {
      "text/plain": [
       "Text(0.5, 1.0, 'DBSCAN aplicado a datos de acidity')"
      ]
     },
     "execution_count": 57,
     "metadata": {},
     "output_type": "execute_result"
    },
    {
     "data": {
      "image/png": "[encoded data removed]",
      "text/plain": [
       "<Figure size 432x288 with 1 Axes>"
      ]
     },
     "metadata": {
      "needs_background": "light"
     },
     "output_type": "display_data"
    }
   ],
   "source": [
    "fig = plt.figure()\n",
    "##Se define X,y Iniciales   ,  X,Y finales\n",
    "ax = fig.add_axes([0.1,0.1,2.3,2])\n",
    "colors = dbsacn_acidity.labels_\n",
    "## Se grafican los valores de la primer y la segunda columna \n",
    "ax.scatter(data_para_DBscan.iloc[:,0].values,data_para_DBscan.iloc[:,1].values, c=colors, s=100)\n",
    "ax.set_xlabel('fixed acidity')\n",
    "ax.set_ylabel('volatile acidity')\n",
    "plt.title('DBSCAN aplicado a datos de acidity')\n"
   ]
  }
 ],
 "metadata": {
  "kernelspec": {
   "display_name": "Python 3",
   "language": "python",
   "name": "python3"
  },
  "language_info": {
   "codemirror_mode": {
    "name": "ipython",
    "version": 3
   },
   "file_extension": ".py",
   "mimetype": "text/x-python",
   "name": "python",
   "nbconvert_exporter": "python",
   "pygments_lexer": "ipython3",
   "version": "3.10.5"
  },
  "orig_nbformat": 4
 },
 "nbformat": 4,
 "nbformat_minor": 2
}
