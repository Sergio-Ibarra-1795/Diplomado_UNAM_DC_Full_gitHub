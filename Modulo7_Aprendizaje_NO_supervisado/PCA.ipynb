{
 "cells": [
  {
   "attachments": {},
   "cell_type": "markdown",
   "metadata": {},
   "source": [
    "#### <font color=\"#03997A\"> Diplomado en Ciencia de datos UNAM </font>\n",
    "\n",
    "##### <font color=\"#03997A\"> Dr: Eduardo Espinosa A. </font>\n",
    "\n",
    "##### <font color=\"#03997A\"> Modulo 7 Aprendizaje de Maquina NO supervisado </font>\n",
    "\n",
    "##### <font color=\"#03997A\"> Tema 5 Principal Component Analisis (PCA) Alumno: Ibarra Ramírez Sergio </font>"
   ]
  },
  {
   "cell_type": "code",
   "execution_count": 6,
   "metadata": {},
   "outputs": [],
   "source": [
    "import pandas as pd\n",
    "import numpy as np \n",
    "import matplotlib.pyplot as plt "
   ]
  },
  {
   "attachments": {},
   "cell_type": "markdown",
   "metadata": {},
   "source": [
    "Vamos a usar un conjunto de datos sobre vinos"
   ]
  },
  {
   "cell_type": "code",
   "execution_count": 8,
   "metadata": {},
   "outputs": [
    {
     "data": {
      "text/html": [
       "<div>\n",
       "<style scoped>\n",
       "    .dataframe tbody tr th:only-of-type {\n",
       "        vertical-align: middle;\n",
       "    }\n",
       "\n",
       "    .dataframe tbody tr th {\n",
       "        vertical-align: top;\n",
       "    }\n",
       "\n",
       "    .dataframe thead th {\n",
       "        text-align: right;\n",
       "    }\n",
       "</style>\n",
       "<table border=\"1\" class=\"dataframe\">\n",
       "  <thead>\n",
       "    <tr style=\"text-align: right;\">\n",
       "      <th></th>\n",
       "      <th>0</th>\n",
       "      <th>1</th>\n",
       "      <th>2</th>\n",
       "      <th>3</th>\n",
       "      <th>4</th>\n",
       "      <th>5</th>\n",
       "      <th>6</th>\n",
       "      <th>7</th>\n",
       "      <th>8</th>\n",
       "      <th>9</th>\n",
       "      <th>10</th>\n",
       "      <th>11</th>\n",
       "      <th>12</th>\n",
       "      <th>13</th>\n",
       "    </tr>\n",
       "  </thead>\n",
       "  <tbody>\n",
       "    <tr>\n",
       "      <th>0</th>\n",
       "      <td>1</td>\n",
       "      <td>14.23</td>\n",
       "      <td>1.71</td>\n",
       "      <td>2.43</td>\n",
       "      <td>15.6</td>\n",
       "      <td>127</td>\n",
       "      <td>2.80</td>\n",
       "      <td>3.06</td>\n",
       "      <td>0.28</td>\n",
       "      <td>2.29</td>\n",
       "      <td>5.64</td>\n",
       "      <td>1.04</td>\n",
       "      <td>3.92</td>\n",
       "      <td>1065</td>\n",
       "    </tr>\n",
       "    <tr>\n",
       "      <th>1</th>\n",
       "      <td>1</td>\n",
       "      <td>13.20</td>\n",
       "      <td>1.78</td>\n",
       "      <td>2.14</td>\n",
       "      <td>11.2</td>\n",
       "      <td>100</td>\n",
       "      <td>2.65</td>\n",
       "      <td>2.76</td>\n",
       "      <td>0.26</td>\n",
       "      <td>1.28</td>\n",
       "      <td>4.38</td>\n",
       "      <td>1.05</td>\n",
       "      <td>3.40</td>\n",
       "      <td>1050</td>\n",
       "    </tr>\n",
       "    <tr>\n",
       "      <th>2</th>\n",
       "      <td>1</td>\n",
       "      <td>13.16</td>\n",
       "      <td>2.36</td>\n",
       "      <td>2.67</td>\n",
       "      <td>18.6</td>\n",
       "      <td>101</td>\n",
       "      <td>2.80</td>\n",
       "      <td>3.24</td>\n",
       "      <td>0.30</td>\n",
       "      <td>2.81</td>\n",
       "      <td>5.68</td>\n",
       "      <td>1.03</td>\n",
       "      <td>3.17</td>\n",
       "      <td>1185</td>\n",
       "    </tr>\n",
       "  </tbody>\n",
       "</table>\n",
       "</div>"
      ],
      "text/plain": [
       "   0      1     2     3     4    5     6     7     8     9     10    11    12  \\\n",
       "0   1  14.23  1.71  2.43  15.6  127  2.80  3.06  0.28  2.29  5.64  1.04  3.92   \n",
       "1   1  13.20  1.78  2.14  11.2  100  2.65  2.76  0.26  1.28  4.38  1.05  3.40   \n",
       "2   1  13.16  2.36  2.67  18.6  101  2.80  3.24  0.30  2.81  5.68  1.03  3.17   \n",
       "\n",
       "     13  \n",
       "0  1065  \n",
       "1  1050  \n",
       "2  1185  "
      ]
     },
     "execution_count": 8,
     "metadata": {},
     "output_type": "execute_result"
    }
   ],
   "source": [
    "url = 'https://archive.ics.uci.edu/ml/machine-learning-databases/wine/wine.data'\n",
    "df_wine = pd.read_csv(url,header=None)\n",
    "df_wine.head(3)"
   ]
  },
  {
   "attachments": {},
   "cell_type": "markdown",
   "metadata": {},
   "source": [
    "Aunque PCA se puede ejEcutar sin necesidad de tener conjunto de train y test, en este caso si se hará para una posterior verificación del modelo"
   ]
  },
  {
   "cell_type": "code",
   "execution_count": 10,
   "metadata": {},
   "outputs": [
    {
     "data": {
      "text/plain": [
       "array([[1.166e+01, 1.880e+00, 1.920e+00, ..., 1.230e+00, 2.140e+00,\n",
       "        4.280e+02],\n",
       "       [1.307e+01, 1.500e+00, 2.100e+00, ..., 1.180e+00, 2.690e+00,\n",
       "        1.020e+03],\n",
       "       [1.388e+01, 5.040e+00, 2.230e+00, ..., 5.800e-01, 1.330e+00,\n",
       "        4.150e+02],\n",
       "       ...,\n",
       "       [1.402e+01, 1.680e+00, 2.210e+00, ..., 1.040e+00, 3.590e+00,\n",
       "        1.035e+03],\n",
       "       [1.475e+01, 1.730e+00, 2.390e+00, ..., 1.250e+00, 2.730e+00,\n",
       "        1.150e+03],\n",
       "       [1.247e+01, 1.520e+00, 2.200e+00, ..., 1.160e+00, 2.630e+00,\n",
       "        9.370e+02]])"
      ]
     },
     "execution_count": 10,
     "metadata": {},
     "output_type": "execute_result"
    }
   ],
   "source": [
    "from sklearn.model_selection import train_test_split\n",
    "\n",
    "X, y = df_wine.iloc[:, 1:].values, df_wine.iloc[:, 0].values\n",
    "X_train, X_test, y_train, y_test = train_test_split(X, y, test_size=0.3)\n",
    "X_train"
   ]
  },
  {
   "cell_type": "code",
   "execution_count": 11,
   "metadata": {},
   "outputs": [
    {
     "data": {
      "text/plain": [
       "array([2, 1, 3, 1, 3, 3, 2, 2, 1, 3, 2, 1, 2, 2, 2, 2, 1, 3, 3, 1, 2, 1,\n",
       "       2, 1, 2, 1, 3, 1, 1, 1, 2, 2, 2, 1, 1, 2, 3, 2, 3, 3, 2, 2, 2, 1,\n",
       "       1, 2, 1, 3, 3, 1, 2, 2, 1, 2, 3, 2, 3, 2, 2, 2, 1, 3, 3, 3, 3, 2,\n",
       "       2, 2, 1, 3, 1, 3, 3, 3, 2, 3, 2, 2, 2, 1, 2, 2, 3, 2, 2, 2, 3, 2,\n",
       "       1, 2, 1, 1, 1, 1, 1, 2, 3, 2, 3, 2, 2, 1, 3, 3, 3, 3, 3, 1, 2, 2,\n",
       "       1, 3, 1, 2, 2, 2, 1, 2, 3, 3, 2, 1, 1, 2], dtype=int64)"
      ]
     },
     "execution_count": 11,
     "metadata": {},
     "output_type": "execute_result"
    }
   ],
   "source": [
    "y_train"
   ]
  },
  {
   "attachments": {},
   "cell_type": "markdown",
   "metadata": {},
   "source": [
    "Vamos a hacer la estandarización de nuestros datos para aplicar el modelo PCA"
   ]
  },
  {
   "cell_type": "code",
   "execution_count": 13,
   "metadata": {},
   "outputs": [
    {
     "data": {
      "text/plain": [
       "array([[-1.53245398, -0.47322839, -1.45429618, ...,  1.12186688,\n",
       "        -0.58527097, -0.93622315],\n",
       "       [ 0.13442579, -0.79823234, -0.83305425, ...,  0.91928126,\n",
       "         0.1897869 ,  0.87665654],\n",
       "       [ 1.09199502,  2.22943611, -0.38437953, ..., -1.51174618,\n",
       "        -1.72671984, -0.97603301],\n",
       "       ...,\n",
       "       [ 1.25750081, -0.6442831 , -0.45340641, ...,  0.35204153,\n",
       "         1.45806341,  0.92259099],\n",
       "       [ 2.1204953 , -0.60151942,  0.16783552, ...,  1.20290113,\n",
       "         0.24615474,  1.27475512],\n",
       "       [-0.57488475, -0.78112687, -0.48791985, ...,  0.83824702,\n",
       "         0.10523513,  0.62248591]])"
      ]
     },
     "execution_count": 13,
     "metadata": {},
     "output_type": "execute_result"
    }
   ],
   "source": [
    "from sklearn.preprocessing import StandardScaler\n",
    "\n",
    "sc = StandardScaler()  # Add parentheses to initialize the StandardScaler object\n",
    "\n",
    "\n",
    "## Cuando uno ajusta el modelo se ajusta con los datos de entrenamienmt\n",
    "X_train_std = sc.fit_transform(X_train)  # Pass X_train as an argument to fit_transform()\n",
    "\n",
    "## Y para le prueba YA NO SE AJUSTE, SOLO SE TRANSFORMA\n",
    "X_test_std = sc.transform(X_test)\n",
    "\n",
    "X_train_std"
   ]
  },
  {
   "attachments": {},
   "cell_type": "markdown",
   "metadata": {},
   "source": [
    "Para obtener matriz de covarianza, eigenvalores y eigenvectores\n",
    "Se obtiene tantos eigenvalores como número de variables originales "
   ]
  },
  {
   "cell_type": "code",
   "execution_count": 14,
   "metadata": {},
   "outputs": [
    {
     "name": "stdout",
     "output_type": "stream",
     "text": [
      "Eigenvals: [4.65327863 2.57624738 1.59489468 0.97387032 0.87052705 0.64469935\n",
      " 0.55003138 0.33128871 0.0984789  0.26111997 0.22416932 0.17146008\n",
      " 0.15562526]\n",
      "Eigenvecs: [[ 0.11606498  0.4926146  -0.23628768  0.25552149  0.07370003  0.17030129\n",
      "   0.13873808 -0.352649   -0.02863895 -0.15927745  0.53281417  0.26732209\n",
      "  -0.25129931]\n",
      " [-0.27006263  0.19143609  0.12603261  0.28990563 -0.52648484 -0.00652793\n",
      "   0.5804761   0.00388719 -0.00545479  0.34291542 -0.00838364 -0.20152807\n",
      "   0.13411865]\n",
      " [-0.02282683  0.32618626  0.58849568 -0.03115029  0.2659841   0.25985377\n",
      "   0.06862558 -0.01112666  0.17859282  0.10293481 -0.26448318  0.48925067\n",
      "   0.22554518]\n",
      " [-0.24217816 -0.0144121   0.60513876 -0.04591822 -0.05452162  0.16165347\n",
      "  -0.2068412  -0.32575997 -0.11515182 -0.22230048  0.1434725  -0.44606019\n",
      "  -0.33556198]\n",
      " [ 0.11523873  0.28770025  0.09465079 -0.80174343 -0.12468546 -0.11215982\n",
      "   0.20356837  0.26929486 -0.02953345  0.03026169  0.32255043 -0.04628893\n",
      "  -0.04627925]\n",
      " [ 0.3938087   0.07191097  0.17438953  0.25200273 -0.08515877 -0.05288442\n",
      "  -0.21067911  0.35603878  0.47123604  0.3433142   0.08615995 -0.09893608\n",
      "  -0.45550898]\n",
      " [ 0.41849343  0.02240464  0.20130358  0.178711   -0.0463371   0.04298178\n",
      "  -0.10121023  0.18697094 -0.81157612  0.19437959  0.04146625  0.05349407\n",
      "   0.04103697]\n",
      " [-0.27804802  0.01329673  0.19678836  0.24111368  0.50458539 -0.61189027\n",
      "   0.21162938  0.27989987 -0.07827802 -0.09573577  0.23762318 -0.02240838\n",
      "  -0.03527434]\n",
      " [ 0.31639443  0.06904914  0.17807299 -0.02090025 -0.33503836 -0.6710579\n",
      "  -0.10323884 -0.45953685  0.07598135 -0.11981108 -0.13581899  0.17628521\n",
      "   0.09448308]\n",
      " [-0.11725503  0.51875543 -0.11558905  0.06498245  0.06973407 -0.07245257\n",
      "  -0.51499557  0.01542081  0.04736245  0.1758324   0.09502216 -0.36705726\n",
      "   0.49706094]\n",
      " [ 0.32269003 -0.25070619  0.03038915 -0.10958565  0.43015458  0.03374182\n",
      "   0.26314273 -0.44805657  0.09389448  0.46559833  0.16208199 -0.28542962\n",
      "   0.17486039]\n",
      " [ 0.37944272 -0.15211143  0.18134429  0.18579866 -0.09589969  0.16994262\n",
      "   0.16693606  0.21097537  0.21394022 -0.54479766  0.26038598 -0.17917114\n",
      "   0.4610259 ]\n",
      " [ 0.26767752  0.40692757 -0.1351462   0.00486201  0.22970978 -0.00884438\n",
      "   0.28715811  0.0108435  -0.06060425 -0.26914578 -0.57819468 -0.39359216\n",
      "  -0.2090746 ]]\n"
     ]
    }
   ],
   "source": [
    "\n",
    "## Se construye la matriz de covarianza de X_train transpuesta\n",
    "cov_mat = np.cov(X_train_std.T)\n",
    "\n",
    "## Se obtienen los eigenvectores y eigenvalores de la matriz de covarianza\n",
    "\n",
    "eigen_vals, eigen_vecs = np.linalg.eig(cov_mat)\n",
    "\n",
    "print('Eigenvals:', eigen_vals)\n",
    "print('Eigenvecs:', eigen_vecs)"
   ]
  },
  {
   "attachments": {},
   "cell_type": "markdown",
   "metadata": {},
   "source": [
    "Vamos a construir una gráfica que nos ayude a identificar cuales son los eigenvalores más grandes que serían aquellas caracterisrticas / valores originales que más varianza capturan/ aportan "
   ]
  },
  {
   "cell_type": "code",
   "execution_count": 16,
   "metadata": {},
   "outputs": [
    {
     "data": {
      "image/png": "[encoded data removed]",
      "text/plain": [
       "<Figure size 432x288 with 1 Axes>"
      ]
     },
     "metadata": {
      "needs_background": "light"
     },
     "output_type": "display_data"
    }
   ],
   "source": [
    "## Grafica con los aportes de cada eigenvalor \n",
    "\n",
    "tot = sum(eigen_vals)\n",
    "## Para cada eigenvalor dividir su valor entre el total de la suma de eigen_vals\n",
    "var_exp = [ev/tot for ev in sorted(eigen_vals, reverse=True)]\n",
    "\n",
    "\n",
    "## Se va sumando los valores de las varianzas apaortadas por cada eigen_val \n",
    "cum_var_exp = np.cumsum(var_exp)\n",
    "\n",
    "## Las varianzas individuales se grafican como barras\n",
    "plt.bar(range(1,14), var_exp, label='varianza individual', align='center')\n",
    "\n",
    "##La varianza acumulada se grafica como step \n",
    "plt.step(range(1,14), cum_var_exp, where='mid', label='varianza acumulada')\n",
    "plt.legend(loc='best')\n",
    "plt.ylabel('Varianza')\n",
    "plt.show()\n"
   ]
  },
  {
   "attachments": {},
   "cell_type": "markdown",
   "metadata": {},
   "source": [
    "Vamos a formar una especie de pares de eigenvalores, eigenvectores "
   ]
  },
  {
   "cell_type": "code",
   "execution_count": 23,
   "metadata": {},
   "outputs": [
    {
     "data": {
      "text/plain": [
       "(0.09847890481317864,\n",
       " array([ 0.31639443,  0.06904914,  0.17807299, -0.02090025, -0.33503836,\n",
       "        -0.6710579 , -0.10323884, -0.45953685,  0.07598135, -0.11981108,\n",
       "        -0.13581899,  0.17628521,  0.09448308]))"
      ]
     },
     "execution_count": 23,
     "metadata": {},
     "output_type": "execute_result"
    }
   ],
   "source": [
    "eigen_par = [(np.abs(eigen_vals[i]), eigen_vecs[i])\n",
    "             for i in range(len(eigen_vals))]\n",
    "\n",
    "## Obetendremos un array de tuplas de (eigen_val, eigen_vec) \n",
    "#eigen_par\n",
    "\n",
    "## Ordenando por eigen_vals desdendentemente \n",
    "\n",
    "eigen_par.sort(key=lambda k: k[0], reverse=True)\n",
    "eigen_par[-1]"
   ]
  },
  {
   "attachments": {},
   "cell_type": "markdown",
   "metadata": {},
   "source": [
    "Nos vamos a quedar solo con los dos primeros eigen valores y vamos a construir la matriz de proyección "
   ]
  },
  {
   "attachments": {},
   "cell_type": "markdown",
   "metadata": {},
   "source": [
    "np.newaxis lo transforma en un vector columna "
   ]
  },
  {
   "cell_type": "code",
   "execution_count": 27,
   "metadata": {},
   "outputs": [
    {
     "name": "stdout",
     "output_type": "stream",
     "text": [
      "Matriz de proyeccion W: \n",
      " [[ 0.11606498 -0.27006263]\n",
      " [ 0.4926146   0.19143609]\n",
      " [-0.23628768  0.12603261]\n",
      " [ 0.25552149  0.28990563]\n",
      " [ 0.07370003 -0.52648484]\n",
      " [ 0.17030129 -0.00652793]\n",
      " [ 0.13873808  0.5804761 ]\n",
      " [-0.352649    0.00388719]\n",
      " [-0.02863895 -0.00545479]\n",
      " [-0.15927745  0.34291542]\n",
      " [ 0.53281417 -0.00838364]\n",
      " [ 0.26732209 -0.20152807]\n",
      " [-0.25129931  0.13411865]]\n"
     ]
    }
   ],
   "source": [
    "W = np.hstack((eigen_par[0][1][:,np.newaxis],\n",
    "               eigen_par[1][1][:,np.newaxis]))\n",
    "\n",
    "print('Matriz de proyeccion W: \\n', W)"
   ]
  },
  {
   "attachments": {},
   "cell_type": "markdown",
   "metadata": {},
   "source": [
    "De un vector de 1x13, tenemos ahora uno de 1x2"
   ]
  },
  {
   "cell_type": "code",
   "execution_count": 28,
   "metadata": {},
   "outputs": [
    {
     "name": "stdout",
     "output_type": "stream",
     "text": [
      "Original:  [-1.53245398 -0.47322839 -1.45429618 -1.08962087 -0.15853337 -1.0436572\n",
      " -0.41555767 -0.23171164 -0.78766242 -0.55732122  1.12186688 -0.58527097\n",
      " -0.93622315]\n",
      "Proyectada:  [ 0.27675587 -0.53159336]\n"
     ]
    }
   ],
   "source": [
    "print('Original: ', X_train_std[0])\n",
    "\n",
    "print('Proyectada: ', X_train_std[0].dot(W))"
   ]
  },
  {
   "attachments": {},
   "cell_type": "markdown",
   "metadata": {},
   "source": [
    "Transformando TODO el conjuntode datos de entrenamiento "
   ]
  },
  {
   "cell_type": "code",
   "execution_count": 30,
   "metadata": {},
   "outputs": [
    {
     "data": {
      "text/plain": [
       "array([[-2.07392263e+00,  5.20965512e-01],\n",
       "       [-1.18221908e+00,  9.27893107e-01],\n",
       "       [ 2.85620419e-01, -6.03891552e-01],\n",
       "       [-1.41786723e-01,  4.08663134e-01],\n",
       "       [-7.06937290e-01, -1.80103160e-01],\n",
       "       [-5.24147762e-01,  2.86847281e-01],\n",
       "       [ 3.26310537e-01, -1.79644820e-01],\n",
       "       [-5.91637453e-01, -1.54482239e-01],\n",
       "       [ 5.18263393e-01, -9.38255010e-02],\n",
       "       [ 9.63420575e-02,  1.74676902e-01],\n",
       "       [ 1.09166928e+00, -1.37428092e+00],\n",
       "       [ 8.85281382e-01, -7.43598599e-01],\n",
       "       [ 1.65145401e+00, -1.92803026e-01],\n",
       "       [ 1.15433642e-01, -3.57554342e-01],\n",
       "       [ 2.09764370e-01,  5.53663310e-01],\n",
       "       [-5.69286812e-01, -7.64138390e-01],\n",
       "       [ 1.83209351e-01,  5.46458620e-01],\n",
       "       [-1.22284854e+00, -4.17050168e-01],\n",
       "       [-1.53795788e-04,  5.77375341e-01],\n",
       "       [-7.32656321e-02, -2.44160509e-01],\n",
       "       [ 3.09932481e-01, -1.02276258e+00],\n",
       "       [ 3.26722239e-01,  5.52367063e-01],\n",
       "       [-1.14315785e+00,  1.56394046e-01],\n",
       "       [ 7.40185266e-01,  4.44072416e-02],\n",
       "       [ 1.22526288e+00,  6.13698972e-02],\n",
       "       [-2.98521128e-01,  3.35276610e-01],\n",
       "       [ 4.16921459e-01, -8.86468774e-01],\n",
       "       [ 1.07632155e+00,  7.93600302e-02],\n",
       "       [ 2.14795843e-01,  4.21306171e-01],\n",
       "       [-4.60259989e-01, -3.41948316e-01],\n",
       "       [-1.12679587e+00,  2.86794557e-01],\n",
       "       [-1.20501866e+00, -1.45379364e+00],\n",
       "       [-9.16333404e-02,  3.32135746e-01],\n",
       "       [-8.68832023e-01,  3.49114709e-01],\n",
       "       [-9.37097411e-02,  7.31783237e-01],\n",
       "       [ 3.27423105e-01,  4.69523539e-02],\n",
       "       [ 1.36431095e+00, -1.36349102e+00],\n",
       "       [-1.99373382e+00,  9.90822801e-01],\n",
       "       [ 7.75213544e-01, -1.66056241e-01],\n",
       "       [ 1.43646671e+00, -2.01092544e-01],\n",
       "       [ 8.20514263e-01,  2.71764047e-01],\n",
       "       [ 2.58775584e-01,  1.35187290e-01],\n",
       "       [ 8.79627885e-01, -2.02637409e-01],\n",
       "       [ 1.49501529e-01, -8.23705827e-01],\n",
       "       [-8.86109886e-01, -4.04483383e-01],\n",
       "       [ 7.21773671e-01, -1.87317110e-01],\n",
       "       [ 6.81260707e-02, -5.39516121e-01],\n",
       "       [-8.48255016e-01, -2.58684187e-01],\n",
       "       [-1.28134175e+00, -9.63878728e-01],\n",
       "       [-6.17645012e-01,  3.07978223e-01],\n",
       "       [ 2.38738088e+00, -4.73017490e-01],\n",
       "       [ 4.28925521e-01, -2.16997890e-01],\n",
       "       [-3.76383760e-01, -4.56158546e-01],\n",
       "       [-1.01646141e+00, -1.35652222e+00]])"
      ]
     },
     "execution_count": 30,
     "metadata": {},
     "output_type": "execute_result"
    }
   ],
   "source": [
    "## Transformando TODOel conjuntode datos de entrenamiento \n",
    "X_train_PCA = X_test_std.dot(W) \n",
    "X_train_PCA"
   ]
  },
  {
   "cell_type": "code",
   "execution_count": 31,
   "metadata": {},
   "outputs": [
    {
     "ename": "ValueError",
     "evalue": "'c' argument has 124 elements, which is inconsistent with 'x' and 'y' with size 54.",
     "output_type": "error",
     "traceback": [
      "\u001b[1;31m---------------------------------------------------------------------------\u001b[0m",
      "\u001b[1;31mValueError\u001b[0m                                Traceback (most recent call last)",
      "\u001b[1;32mc:\\Users\\Sergio\\Documents\\SIR_Personal_Dell\\Diplomado_DC_UNAM\\Diplomado_DC_UNAM_FULL_Dell\\Diplomado_UNAM_DC_Full\\Modulo7_Aprendizaje_NO_supervisado\\PCA.ipynb Cell 23\u001b[0m in \u001b[0;36m<cell line: 3>\u001b[1;34m()\u001b[0m\n\u001b[0;32m      <a href='vscode-notebook-cell:/c%3A/Users/Sergio/Documents/SIR_Personal_Dell/Diplomado_DC_UNAM/Diplomado_DC_UNAM_FULL_Dell/Diplomado_UNAM_DC_Full/Modulo7_Aprendizaje_NO_supervisado/PCA.ipynb#X31sZmlsZQ%3D%3D?line=0'>1</a>\u001b[0m colors \u001b[39m=\u001b[39m np\u001b[39m.\u001b[39marray([\u001b[39mNone\u001b[39;00m, \u001b[39m'\u001b[39m\u001b[39mred\u001b[39m\u001b[39m'\u001b[39m, \u001b[39m'\u001b[39m\u001b[39mblue\u001b[39m\u001b[39m'\u001b[39m, \u001b[39m'\u001b[39m\u001b[39mgreen\u001b[39m\u001b[39m'\u001b[39m])\n\u001b[0;32m      <a href='vscode-notebook-cell:/c%3A/Users/Sergio/Documents/SIR_Personal_Dell/Diplomado_DC_UNAM/Diplomado_DC_UNAM_FULL_Dell/Diplomado_UNAM_DC_Full/Modulo7_Aprendizaje_NO_supervisado/PCA.ipynb#X31sZmlsZQ%3D%3D?line=1'>2</a>\u001b[0m y \u001b[39m=\u001b[39m y_train\n\u001b[1;32m----> <a href='vscode-notebook-cell:/c%3A/Users/Sergio/Documents/SIR_Personal_Dell/Diplomado_DC_UNAM/Diplomado_DC_UNAM_FULL_Dell/Diplomado_UNAM_DC_Full/Modulo7_Aprendizaje_NO_supervisado/PCA.ipynb#X31sZmlsZQ%3D%3D?line=2'>3</a>\u001b[0m plt\u001b[39m.\u001b[39;49mscatter(X_train_PCA[:,\u001b[39m0\u001b[39;49m], X_train_PCA[:,\u001b[39m1\u001b[39;49m],\n\u001b[0;32m      <a href='vscode-notebook-cell:/c%3A/Users/Sergio/Documents/SIR_Personal_Dell/Diplomado_DC_UNAM/Diplomado_DC_UNAM_FULL_Dell/Diplomado_UNAM_DC_Full/Modulo7_Aprendizaje_NO_supervisado/PCA.ipynb#X31sZmlsZQ%3D%3D?line=3'>4</a>\u001b[0m  alpha\u001b[39m=\u001b[39;49m\u001b[39m0.5\u001b[39;49m, c\u001b[39m=\u001b[39;49mcolors[y], edgecolor\u001b[39m=\u001b[39;49m\u001b[39m'\u001b[39;49m\u001b[39mblack\u001b[39;49m\u001b[39m'\u001b[39;49m)\n",
      "File \u001b[1;32mc:\\Users\\Sergio\\AppData\\Local\\Programs\\Python\\Python310\\lib\\site-packages\\matplotlib\\pyplot.py:2819\u001b[0m, in \u001b[0;36mscatter\u001b[1;34m(x, y, s, c, marker, cmap, norm, vmin, vmax, alpha, linewidths, edgecolors, plotnonfinite, data, **kwargs)\u001b[0m\n\u001b[0;32m   2814\u001b[0m \u001b[39m@_copy_docstring_and_deprecators\u001b[39m(Axes\u001b[39m.\u001b[39mscatter)\n\u001b[0;32m   2815\u001b[0m \u001b[39mdef\u001b[39;00m \u001b[39mscatter\u001b[39m(\n\u001b[0;32m   2816\u001b[0m         x, y, s\u001b[39m=\u001b[39m\u001b[39mNone\u001b[39;00m, c\u001b[39m=\u001b[39m\u001b[39mNone\u001b[39;00m, marker\u001b[39m=\u001b[39m\u001b[39mNone\u001b[39;00m, cmap\u001b[39m=\u001b[39m\u001b[39mNone\u001b[39;00m, norm\u001b[39m=\u001b[39m\u001b[39mNone\u001b[39;00m,\n\u001b[0;32m   2817\u001b[0m         vmin\u001b[39m=\u001b[39m\u001b[39mNone\u001b[39;00m, vmax\u001b[39m=\u001b[39m\u001b[39mNone\u001b[39;00m, alpha\u001b[39m=\u001b[39m\u001b[39mNone\u001b[39;00m, linewidths\u001b[39m=\u001b[39m\u001b[39mNone\u001b[39;00m, \u001b[39m*\u001b[39m,\n\u001b[0;32m   2818\u001b[0m         edgecolors\u001b[39m=\u001b[39m\u001b[39mNone\u001b[39;00m, plotnonfinite\u001b[39m=\u001b[39m\u001b[39mFalse\u001b[39;00m, data\u001b[39m=\u001b[39m\u001b[39mNone\u001b[39;00m, \u001b[39m*\u001b[39m\u001b[39m*\u001b[39mkwargs):\n\u001b[1;32m-> 2819\u001b[0m     __ret \u001b[39m=\u001b[39m gca()\u001b[39m.\u001b[39mscatter(\n\u001b[0;32m   2820\u001b[0m         x, y, s\u001b[39m=\u001b[39ms, c\u001b[39m=\u001b[39mc, marker\u001b[39m=\u001b[39mmarker, cmap\u001b[39m=\u001b[39mcmap, norm\u001b[39m=\u001b[39mnorm,\n\u001b[0;32m   2821\u001b[0m         vmin\u001b[39m=\u001b[39mvmin, vmax\u001b[39m=\u001b[39mvmax, alpha\u001b[39m=\u001b[39malpha, linewidths\u001b[39m=\u001b[39mlinewidths,\n\u001b[0;32m   2822\u001b[0m         edgecolors\u001b[39m=\u001b[39medgecolors, plotnonfinite\u001b[39m=\u001b[39mplotnonfinite,\n\u001b[0;32m   2823\u001b[0m         \u001b[39m*\u001b[39m\u001b[39m*\u001b[39m({\u001b[39m\"\u001b[39m\u001b[39mdata\u001b[39m\u001b[39m\"\u001b[39m: data} \u001b[39mif\u001b[39;00m data \u001b[39mis\u001b[39;00m \u001b[39mnot\u001b[39;00m \u001b[39mNone\u001b[39;00m \u001b[39melse\u001b[39;00m {}), \u001b[39m*\u001b[39m\u001b[39m*\u001b[39mkwargs)\n\u001b[0;32m   2824\u001b[0m     sci(__ret)\n\u001b[0;32m   2825\u001b[0m     \u001b[39mreturn\u001b[39;00m __ret\n",
      "File \u001b[1;32mc:\\Users\\Sergio\\AppData\\Local\\Programs\\Python\\Python310\\lib\\site-packages\\matplotlib\\__init__.py:1412\u001b[0m, in \u001b[0;36m_preprocess_data.<locals>.inner\u001b[1;34m(ax, data, *args, **kwargs)\u001b[0m\n\u001b[0;32m   1409\u001b[0m \u001b[39m@functools\u001b[39m\u001b[39m.\u001b[39mwraps(func)\n\u001b[0;32m   1410\u001b[0m \u001b[39mdef\u001b[39;00m \u001b[39minner\u001b[39m(ax, \u001b[39m*\u001b[39margs, data\u001b[39m=\u001b[39m\u001b[39mNone\u001b[39;00m, \u001b[39m*\u001b[39m\u001b[39m*\u001b[39mkwargs):\n\u001b[0;32m   1411\u001b[0m     \u001b[39mif\u001b[39;00m data \u001b[39mis\u001b[39;00m \u001b[39mNone\u001b[39;00m:\n\u001b[1;32m-> 1412\u001b[0m         \u001b[39mreturn\u001b[39;00m func(ax, \u001b[39m*\u001b[39m\u001b[39mmap\u001b[39m(sanitize_sequence, args), \u001b[39m*\u001b[39m\u001b[39m*\u001b[39mkwargs)\n\u001b[0;32m   1414\u001b[0m     bound \u001b[39m=\u001b[39m new_sig\u001b[39m.\u001b[39mbind(ax, \u001b[39m*\u001b[39margs, \u001b[39m*\u001b[39m\u001b[39m*\u001b[39mkwargs)\n\u001b[0;32m   1415\u001b[0m     auto_label \u001b[39m=\u001b[39m (bound\u001b[39m.\u001b[39marguments\u001b[39m.\u001b[39mget(label_namer)\n\u001b[0;32m   1416\u001b[0m                   \u001b[39mor\u001b[39;00m bound\u001b[39m.\u001b[39mkwargs\u001b[39m.\u001b[39mget(label_namer))\n",
      "File \u001b[1;32mc:\\Users\\Sergio\\AppData\\Local\\Programs\\Python\\Python310\\lib\\site-packages\\matplotlib\\axes\\_axes.py:4380\u001b[0m, in \u001b[0;36mAxes.scatter\u001b[1;34m(self, x, y, s, c, marker, cmap, norm, vmin, vmax, alpha, linewidths, edgecolors, plotnonfinite, **kwargs)\u001b[0m\n\u001b[0;32m   4377\u001b[0m \u001b[39mif\u001b[39;00m edgecolors \u001b[39mis\u001b[39;00m \u001b[39mNone\u001b[39;00m:\n\u001b[0;32m   4378\u001b[0m     orig_edgecolor \u001b[39m=\u001b[39m kwargs\u001b[39m.\u001b[39mget(\u001b[39m'\u001b[39m\u001b[39medgecolor\u001b[39m\u001b[39m'\u001b[39m, \u001b[39mNone\u001b[39;00m)\n\u001b[0;32m   4379\u001b[0m c, colors, edgecolors \u001b[39m=\u001b[39m \\\n\u001b[1;32m-> 4380\u001b[0m     \u001b[39mself\u001b[39;49m\u001b[39m.\u001b[39;49m_parse_scatter_color_args(\n\u001b[0;32m   4381\u001b[0m         c, edgecolors, kwargs, x\u001b[39m.\u001b[39;49msize,\n\u001b[0;32m   4382\u001b[0m         get_next_color_func\u001b[39m=\u001b[39;49m\u001b[39mself\u001b[39;49m\u001b[39m.\u001b[39;49m_get_patches_for_fill\u001b[39m.\u001b[39;49mget_next_color)\n\u001b[0;32m   4384\u001b[0m \u001b[39mif\u001b[39;00m plotnonfinite \u001b[39mand\u001b[39;00m colors \u001b[39mis\u001b[39;00m \u001b[39mNone\u001b[39;00m:\n\u001b[0;32m   4385\u001b[0m     c \u001b[39m=\u001b[39m np\u001b[39m.\u001b[39mma\u001b[39m.\u001b[39mmasked_invalid(c)\n",
      "File \u001b[1;32mc:\\Users\\Sergio\\AppData\\Local\\Programs\\Python\\Python310\\lib\\site-packages\\matplotlib\\axes\\_axes.py:4230\u001b[0m, in \u001b[0;36mAxes._parse_scatter_color_args\u001b[1;34m(c, edgecolors, kwargs, xsize, get_next_color_func)\u001b[0m\n\u001b[0;32m   4226\u001b[0m     \u001b[39melse\u001b[39;00m:\n\u001b[0;32m   4227\u001b[0m         \u001b[39mif\u001b[39;00m \u001b[39mlen\u001b[39m(colors) \u001b[39mnot\u001b[39;00m \u001b[39min\u001b[39;00m (\u001b[39m0\u001b[39m, \u001b[39m1\u001b[39m, xsize):\n\u001b[0;32m   4228\u001b[0m             \u001b[39m# NB: remember that a single color is also acceptable.\u001b[39;00m\n\u001b[0;32m   4229\u001b[0m             \u001b[39m# Besides *colors* will be an empty array if c == 'none'.\u001b[39;00m\n\u001b[1;32m-> 4230\u001b[0m             \u001b[39mraise\u001b[39;00m invalid_shape_exception(\u001b[39mlen\u001b[39m(colors), xsize)\n\u001b[0;32m   4231\u001b[0m \u001b[39melse\u001b[39;00m:\n\u001b[0;32m   4232\u001b[0m     colors \u001b[39m=\u001b[39m \u001b[39mNone\u001b[39;00m  \u001b[39m# use cmap, norm after collection is created\u001b[39;00m\n",
      "\u001b[1;31mValueError\u001b[0m: 'c' argument has 124 elements, which is inconsistent with 'x' and 'y' with size 54."
     ]
    },
    {
     "data": {
      "image/png": "[encoded data removed]",
      "text/plain": [
       "<Figure size 432x288 with 1 Axes>"
      ]
     },
     "metadata": {
      "needs_background": "light"
     },
     "output_type": "display_data"
    }
   ],
   "source": [
    "colors = np.array([None, 'red', 'blue', 'green'])\n",
    "y = y_train\n",
    "plt.scatter(X_train_PCA[:,0], X_train_PCA[:,1],\n",
    " alpha=0.5, c=colors[y], edgecolor='black')"
   ]
  },
  {
   "cell_type": "code",
   "execution_count": 32,
   "metadata": {},
   "outputs": [
    {
     "data": {
      "text/plain": [
       "<matplotlib.collections.PathCollection at 0x1fd12ead060>"
      ]
     },
     "execution_count": 32,
     "metadata": {},
     "output_type": "execute_result"
    },
    {
     "data": {
      "image/png": "[encoded data removed]",
      "text/plain": [
       "<Figure size 432x288 with 1 Axes>"
      ]
     },
     "metadata": {
      "needs_background": "light"
     },
     "output_type": "display_data"
    }
   ],
   "source": [
    "colors = np.array([None, 'red', 'blue', 'green'])\n",
    "y = y_train\n",
    "plt.scatter(X_train_PCA[:,0], X_train_PCA[:,1],\n",
    " alpha=0.5, edgecolor='black')"
   ]
  },
  {
   "attachments": {},
   "cell_type": "markdown",
   "metadata": {},
   "source": [
    "##### Vamos a aplicar un modelo de PCA (de sklearn) +  un modelo de regresión logistica para clasificación de los 3 tipos de vinos, usando solamrnte las variables 'ya reducidas'"
   ]
  },
  {
   "cell_type": "code",
   "execution_count": 34,
   "metadata": {},
   "outputs": [
    {
     "data": {
      "text/html": [
       "<div>\n",
       "<style scoped>\n",
       "    .dataframe tbody tr th:only-of-type {\n",
       "        vertical-align: middle;\n",
       "    }\n",
       "\n",
       "    .dataframe tbody tr th {\n",
       "        vertical-align: top;\n",
       "    }\n",
       "\n",
       "    .dataframe thead th {\n",
       "        text-align: right;\n",
       "    }\n",
       "</style>\n",
       "<table border=\"1\" class=\"dataframe\">\n",
       "  <thead>\n",
       "    <tr style=\"text-align: right;\">\n",
       "      <th></th>\n",
       "      <th>0</th>\n",
       "      <th>1</th>\n",
       "      <th>2</th>\n",
       "      <th>3</th>\n",
       "      <th>4</th>\n",
       "      <th>5</th>\n",
       "      <th>6</th>\n",
       "      <th>7</th>\n",
       "      <th>8</th>\n",
       "      <th>9</th>\n",
       "      <th>10</th>\n",
       "      <th>11</th>\n",
       "      <th>12</th>\n",
       "      <th>13</th>\n",
       "    </tr>\n",
       "  </thead>\n",
       "  <tbody>\n",
       "    <tr>\n",
       "      <th>0</th>\n",
       "      <td>1</td>\n",
       "      <td>14.23</td>\n",
       "      <td>1.71</td>\n",
       "      <td>2.43</td>\n",
       "      <td>15.6</td>\n",
       "      <td>127</td>\n",
       "      <td>2.80</td>\n",
       "      <td>3.06</td>\n",
       "      <td>0.28</td>\n",
       "      <td>2.29</td>\n",
       "      <td>5.64</td>\n",
       "      <td>1.04</td>\n",
       "      <td>3.92</td>\n",
       "      <td>1065</td>\n",
       "    </tr>\n",
       "    <tr>\n",
       "      <th>1</th>\n",
       "      <td>1</td>\n",
       "      <td>13.20</td>\n",
       "      <td>1.78</td>\n",
       "      <td>2.14</td>\n",
       "      <td>11.2</td>\n",
       "      <td>100</td>\n",
       "      <td>2.65</td>\n",
       "      <td>2.76</td>\n",
       "      <td>0.26</td>\n",
       "      <td>1.28</td>\n",
       "      <td>4.38</td>\n",
       "      <td>1.05</td>\n",
       "      <td>3.40</td>\n",
       "      <td>1050</td>\n",
       "    </tr>\n",
       "    <tr>\n",
       "      <th>2</th>\n",
       "      <td>1</td>\n",
       "      <td>13.16</td>\n",
       "      <td>2.36</td>\n",
       "      <td>2.67</td>\n",
       "      <td>18.6</td>\n",
       "      <td>101</td>\n",
       "      <td>2.80</td>\n",
       "      <td>3.24</td>\n",
       "      <td>0.30</td>\n",
       "      <td>2.81</td>\n",
       "      <td>5.68</td>\n",
       "      <td>1.03</td>\n",
       "      <td>3.17</td>\n",
       "      <td>1185</td>\n",
       "    </tr>\n",
       "  </tbody>\n",
       "</table>\n",
       "</div>"
      ],
      "text/plain": [
       "   0      1     2     3     4    5     6     7     8     9     10    11    12  \\\n",
       "0   1  14.23  1.71  2.43  15.6  127  2.80  3.06  0.28  2.29  5.64  1.04  3.92   \n",
       "1   1  13.20  1.78  2.14  11.2  100  2.65  2.76  0.26  1.28  4.38  1.05  3.40   \n",
       "2   1  13.16  2.36  2.67  18.6  101  2.80  3.24  0.30  2.81  5.68  1.03  3.17   \n",
       "\n",
       "     13  \n",
       "0  1065  \n",
       "1  1050  \n",
       "2  1185  "
      ]
     },
     "execution_count": 34,
     "metadata": {},
     "output_type": "execute_result"
    }
   ],
   "source": [
    "import pandas as pd\n",
    "import numpy as np \n",
    "import matplotlib.pyplot as plt \n",
    "\n",
    "url = 'https://archive.ics.uci.edu/ml/machine-learning-databases/wine/wine.data'\n",
    "df_wine = pd.read_csv(url,header=None)\n",
    "df_wine.head(3)"
   ]
  },
  {
   "cell_type": "code",
   "execution_count": 36,
   "metadata": {},
   "outputs": [
    {
     "data": {
      "text/plain": [
       "array([[-0.57022483, -0.91804297, -1.80621821, ...,  0.40074559,\n",
       "         0.27687332, -0.55109747],\n",
       "       [-0.86130792, -0.66000932, -0.17526203, ..., -0.24662873,\n",
       "         0.29070026, -1.22723595],\n",
       "       [-0.41835539, -0.4998505 , -0.58300107, ...,  0.91864505,\n",
       "         0.7884701 , -0.08394725],\n",
       "       ...,\n",
       "       [ 1.04971584, -0.4286688 ,  1.00718121, ..., -0.28978702,\n",
       "         1.36920158,  1.08700165],\n",
       "       [-0.02602601, -1.3095423 , -2.58092239, ...,  1.04811992,\n",
       "        -0.12410794, -1.07356811],\n",
       "       [-0.15258388,  1.27079419,  1.25182463, ...,  0.3575873 ,\n",
       "         1.31389382,  0.08816072]])"
      ]
     },
     "execution_count": 36,
     "metadata": {},
     "output_type": "execute_result"
    }
   ],
   "source": [
    "from tables import tests\n",
    "from sklearn.model_selection import train_test_split\n",
    "\n",
    "X, y = df_wine.iloc[:, 1:].values, df_wine.iloc[:, 0].values\n",
    "X_train, X_test, y_train, y_test = train_test_split(X, y, test_size=0.3)\n",
    "\n",
    "from sklearn.preprocessing import StandardScaler\n",
    "\n",
    "sc = StandardScaler()  # Add parentheses to initialize the StandardScaler object\n",
    "\n",
    "\n",
    "## Cuando uno ajusta el modelo se ajusta con los datos de entrenamienmt\n",
    "X_train_std = sc.fit_transform(X_train)  # Pass X_train as an argument to fit_transform()\n",
    "\n",
    "## Y para le prueba YA NO SE AJUSTE, SOLO SE TRANSFORMA\n",
    "X_test_std = sc.transform(X_test)\n",
    "\n",
    "X_train_std\n"
   ]
  },
  {
   "attachments": {},
   "cell_type": "markdown",
   "metadata": {},
   "source": [
    "Importamos las librerias necesarias para PCA y para LogisticRegression"
   ]
  },
  {
   "cell_type": "code",
   "execution_count": 33,
   "metadata": {},
   "outputs": [],
   "source": [
    "from sklearn.decomposition import PCA\n",
    "from sklearn.linear_model import LogisticRegression"
   ]
  },
  {
   "attachments": {},
   "cell_type": "markdown",
   "metadata": {},
   "source": [
    "Creamos los objetos de PCA y LogisticRegression, así como entrenar y aplicar el PCA"
   ]
  },
  {
   "cell_type": "code",
   "execution_count": 37,
   "metadata": {},
   "outputs": [
    {
     "data": {
      "text/plain": [
       "array([[-2.60266631,  0.13723067],\n",
       "       [ 1.08561969,  1.74704199],\n",
       "       [ 2.93620676, -0.26508097],\n",
       "       [-2.43311041, -0.55481067],\n",
       "       [ 2.51293502, -2.69004672],\n",
       "       [-2.14710583,  0.24819295],\n",
       "       [-0.98395646,  0.74384932],\n",
       "       [-1.29817022,  0.25347213],\n",
       "       [-2.50871118, -1.33693844],\n",
       "       [-4.48262386, -1.88961542],\n",
       "       [ 0.51915705,  2.26419949],\n",
       "       [ 0.60264525,  2.64085769],\n",
       "       [-1.08317866, -1.08820488],\n",
       "       [-1.57881938,  0.95590166],\n",
       "       [ 1.86193486,  1.56559189],\n",
       "       [ 0.98793822, -3.64363249],\n",
       "       [-0.90036116,  1.44743751],\n",
       "       [-2.82163467, -1.34017984],\n",
       "       [ 2.85129551, -1.52509705],\n",
       "       [ 3.45865219, -1.26169298],\n",
       "       [ 2.28621643, -2.79298943],\n",
       "       [-1.26007023, -0.72729033],\n",
       "       [-1.8463505 , -0.5292124 ],\n",
       "       [ 2.06335729, -0.33118397],\n",
       "       [ 3.82915044, -0.80436677],\n",
       "       [ 0.4622422 ,  0.15148578],\n",
       "       [ 0.60100087,  2.1573147 ],\n",
       "       [-2.95619052, -0.7513067 ],\n",
       "       [ 2.49381748, -1.79990712],\n",
       "       [ 3.36009252, -1.50725231],\n",
       "       [ 3.09619121, -2.92709808],\n",
       "       [-2.40497892, -1.72462146],\n",
       "       [ 0.79260539,  2.19479589],\n",
       "       [-2.63349343, -0.18925139],\n",
       "       [ 1.73710609,  1.18526376],\n",
       "       [ 1.63667931,  0.90770406],\n",
       "       [-0.06601254,  1.44394725],\n",
       "       [ 0.28449683,  2.03225769],\n",
       "       [ 1.18684067,  0.50609512],\n",
       "       [ 0.65989291,  2.9078452 ],\n",
       "       [-1.19990823, -0.12436641],\n",
       "       [-0.09988281,  2.48480127],\n",
       "       [-2.71574441, -1.73008585],\n",
       "       [-3.2054406 , -1.65449444],\n",
       "       [-1.69925239,  0.501072  ],\n",
       "       [-0.37933257,  2.24100617],\n",
       "       [ 0.48784898,  2.40677149],\n",
       "       [-2.27983662,  2.2958411 ],\n",
       "       [-1.02316181, -1.40765604],\n",
       "       [ 0.26961574,  2.94886359],\n",
       "       [-1.46277795,  1.74733173],\n",
       "       [-1.86563822, -0.68279881],\n",
       "       [-3.20551386, -0.7198055 ],\n",
       "       [-1.60937623,  0.80259923]])"
      ]
     },
     "execution_count": 37,
     "metadata": {},
     "output_type": "execute_result"
    }
   ],
   "source": [
    "\n",
    "## Se crea el objeto PCA defineidno el n_components con que 'nos quedaremos' \n",
    "pca = PCA(n_components=2)\n",
    "lr = LogisticRegression(multi_class='auto', solver='liblinear')\n",
    "\n",
    "## Se entrena el modelo PCA \n",
    "\n",
    "X_train_PCA_sk_learn = pca.fit_transform(X_train_std)\n",
    "\n",
    "\n",
    "# Se hace la transformación / aplica el PCA ya entrenado para los X_test\n",
    "X_test_PCA_sk_learn = pca.transform(X_test_std)\n",
    "\n",
    "\n",
    "X_test_PCA_sk_learn\n"
   ]
  },
  {
   "attachments": {},
   "cell_type": "markdown",
   "metadata": {},
   "source": [
    "También se entrena el modelo de LogisticRegression"
   ]
  },
  {
   "cell_type": "code",
   "execution_count": 38,
   "metadata": {},
   "outputs": [
    {
     "data": {
      "text/html": [
       "<style>#sk-container-id-1 {color: black;background-color: white;}#sk-container-id-1 pre{padding: 0;}#sk-container-id-1 div.sk-toggleable {background-color: white;}#sk-container-id-1 label.sk-toggleable__label {cursor: pointer;display: block;width: 100%;margin-bottom: 0;padding: 0.3em;box-sizing: border-box;text-align: center;}#sk-container-id-1 label.sk-toggleable__label-arrow:before {content: \"▸\";float: left;margin-right: 0.25em;color: #696969;}#sk-container-id-1 label.sk-toggleable__label-arrow:hover:before {color: black;}#sk-container-id-1 div.sk-estimator:hover label.sk-toggleable__label-arrow:before {color: black;}#sk-container-id-1 div.sk-toggleable__content {max-height: 0;max-width: 0;overflow: hidden;text-align: left;background-color: #f0f8ff;}#sk-container-id-1 div.sk-toggleable__content pre {margin: 0.2em;color: black;border-radius: 0.25em;background-color: #f0f8ff;}#sk-container-id-1 input.sk-toggleable__control:checked~div.sk-toggleable__content {max-height: 200px;max-width: 100%;overflow: auto;}#sk-container-id-1 input.sk-toggleable__control:checked~label.sk-toggleable__label-arrow:before {content: \"▾\";}#sk-container-id-1 div.sk-estimator input.sk-toggleable__control:checked~label.sk-toggleable__label {background-color: #d4ebff;}#sk-container-id-1 div.sk-label input.sk-toggleable__control:checked~label.sk-toggleable__label {background-color: #d4ebff;}#sk-container-id-1 input.sk-hidden--visually {border: 0;clip: rect(1px 1px 1px 1px);clip: rect(1px, 1px, 1px, 1px);height: 1px;margin: -1px;overflow: hidden;padding: 0;position: absolute;width: 1px;}#sk-container-id-1 div.sk-estimator {font-family: monospace;background-color: #f0f8ff;border: 1px dotted black;border-radius: 0.25em;box-sizing: border-box;margin-bottom: 0.5em;}#sk-container-id-1 div.sk-estimator:hover {background-color: #d4ebff;}#sk-container-id-1 div.sk-parallel-item::after {content: \"\";width: 100%;border-bottom: 1px solid gray;flex-grow: 1;}#sk-container-id-1 div.sk-label:hover label.sk-toggleable__label {background-color: #d4ebff;}#sk-container-id-1 div.sk-serial::before {content: \"\";position: absolute;border-left: 1px solid gray;box-sizing: border-box;top: 0;bottom: 0;left: 50%;z-index: 0;}#sk-container-id-1 div.sk-serial {display: flex;flex-direction: column;align-items: center;background-color: white;padding-right: 0.2em;padding-left: 0.2em;position: relative;}#sk-container-id-1 div.sk-item {position: relative;z-index: 1;}#sk-container-id-1 div.sk-parallel {display: flex;align-items: stretch;justify-content: center;background-color: white;position: relative;}#sk-container-id-1 div.sk-item::before, #sk-container-id-1 div.sk-parallel-item::before {content: \"\";position: absolute;border-left: 1px solid gray;box-sizing: border-box;top: 0;bottom: 0;left: 50%;z-index: -1;}#sk-container-id-1 div.sk-parallel-item {display: flex;flex-direction: column;z-index: 1;position: relative;background-color: white;}#sk-container-id-1 div.sk-parallel-item:first-child::after {align-self: flex-end;width: 50%;}#sk-container-id-1 div.sk-parallel-item:last-child::after {align-self: flex-start;width: 50%;}#sk-container-id-1 div.sk-parallel-item:only-child::after {width: 0;}#sk-container-id-1 div.sk-dashed-wrapped {border: 1px dashed gray;margin: 0 0.4em 0.5em 0.4em;box-sizing: border-box;padding-bottom: 0.4em;background-color: white;}#sk-container-id-1 div.sk-label label {font-family: monospace;font-weight: bold;display: inline-block;line-height: 1.2em;}#sk-container-id-1 div.sk-label-container {text-align: center;}#sk-container-id-1 div.sk-container {/* jupyter's `normalize.less` sets `[hidden] { display: none; }` but bootstrap.min.css set `[hidden] { display: none !important; }` so we also need the `!important` here to be able to override the default hidden behavior on the sphinx rendered scikit-learn.org. See: https://github.com/scikit-learn/scikit-learn/issues/21755 */display: inline-block !important;position: relative;}#sk-container-id-1 div.sk-text-repr-fallback {display: none;}</style><div id=\"sk-container-id-1\" class=\"sk-top-container\"><div class=\"sk-text-repr-fallback\"><pre>LogisticRegression(solver=&#x27;liblinear&#x27;)</pre><b>In a Jupyter environment, please rerun this cell to show the HTML representation or trust the notebook. <br />On GitHub, the HTML representation is unable to render, please try loading this page with nbviewer.org.</b></div><div class=\"sk-container\" hidden><div class=\"sk-item\"><div class=\"sk-estimator sk-toggleable\"><input class=\"sk-toggleable__control sk-hidden--visually\" id=\"sk-estimator-id-1\" type=\"checkbox\" checked><label for=\"sk-estimator-id-1\" class=\"sk-toggleable__label sk-toggleable__label-arrow\">LogisticRegression</label><div class=\"sk-toggleable__content\"><pre>LogisticRegression(solver=&#x27;liblinear&#x27;)</pre></div></div></div></div></div>"
      ],
      "text/plain": [
       "LogisticRegression(solver='liblinear')"
      ]
     },
     "execution_count": 38,
     "metadata": {},
     "output_type": "execute_result"
    }
   ],
   "source": [
    "lr.fit(X_train_PCA_sk_learn, y_train)"
   ]
  },
  {
   "attachments": {},
   "cell_type": "markdown",
   "metadata": {},
   "source": [
    "Ahora vamos a graficar los resultados de la clasificación con Regresion Logistica (primero para los datos de train)"
   ]
  },
  {
   "cell_type": "code",
   "execution_count": 40,
   "metadata": {},
   "outputs": [
    {
     "data": {
      "text/plain": [
       "<AxesSubplot:>"
      ]
     },
     "execution_count": 40,
     "metadata": {},
     "output_type": "execute_result"
    },
    {
     "data": {
      "image/png": "[encoded data removed]",
      "text/plain": [
       "<Figure size 432x288 with 1 Axes>"
      ]
     },
     "metadata": {
      "needs_background": "light"
     },
     "output_type": "display_data"
    }
   ],
   "source": [
    "from mlxtend.plotting import plot_decision_regions\n",
    "plot_decision_regions(X_train_PCA_sk_learn, y_train, clf=lr, legend=2)"
   ]
  },
  {
   "attachments": {},
   "cell_type": "markdown",
   "metadata": {},
   "source": [
    "Ahora veamos como se ve el de test"
   ]
  },
  {
   "cell_type": "code",
   "execution_count": 41,
   "metadata": {},
   "outputs": [
    {
     "data": {
      "text/plain": [
       "<AxesSubplot:>"
      ]
     },
     "execution_count": 41,
     "metadata": {},
     "output_type": "execute_result"
    },
    {
     "data": {
      "image/png": "[encoded data removed]",
      "text/plain": [
       "<Figure size 432x288 with 1 Axes>"
      ]
     },
     "metadata": {
      "needs_background": "light"
     },
     "output_type": "display_data"
    }
   ],
   "source": [
    "from mlxtend.plotting import plot_decision_regions\n",
    "plot_decision_regions(X_test_PCA_sk_learn, y_test, clf=lr, legend=2)"
   ]
  }
 ],
 "metadata": {
  "kernelspec": {
   "display_name": "Python 3",
   "language": "python",
   "name": "python3"
  },
  "language_info": {
   "codemirror_mode": {
    "name": "ipython",
    "version": 3
   },
   "file_extension": ".py",
   "mimetype": "text/x-python",
   "name": "python",
   "nbconvert_exporter": "python",
   "pygments_lexer": "ipython3",
   "version": "3.10.5"
  },
  "orig_nbformat": 4
 },
 "nbformat": 4,
 "nbformat_minor": 2
}
