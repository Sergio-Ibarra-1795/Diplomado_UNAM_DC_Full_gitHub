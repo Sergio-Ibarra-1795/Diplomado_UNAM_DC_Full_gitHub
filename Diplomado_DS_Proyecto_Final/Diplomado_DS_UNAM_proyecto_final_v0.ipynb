{
 "cells": [
  {
   "cell_type": "markdown",
   "metadata": {},
   "source": [
    "#### <font color=\"#03997A\"> Diplomado en Ciencia de datos UNAM </font>\n",
    "##### <font color=\"#03997A\"> Proyecto Final </font>\n",
    "##### <font color=\"#03997A\">Alumno: Ibarra Ramírez Sergio  </font>\n",
    "##### <font color=\"#03997A\">Septiembre 2023  </font>"
   ]
  },
  {
   "cell_type": "markdown",
   "metadata": {},
   "source": [
    "## 1. Título: Aplicación de modelos de series de tiempo y redes neurnales para el pronóstico de Demanda de gas natural en México "
   ]
  },
  {
   "cell_type": "markdown",
   "metadata": {},
   "source": [
    "## 2.Resumen:"
   ]
  },
  {
   "cell_type": "markdown",
   "metadata": {},
   "source": [
    "This research paper explores the effectiveness of time series models, specifically ARIMA and SARIMA, and neural network models, such as RNN and LSTM, in forecasting natural gas demand within the electric and petroleum sectors. The study leverages monthly demand data spanning 12 to 15 years to predict the demand for the next 12 months. The primary objective is to determine which modeling approach outperforms the others in terms of forecasting accuracy, as measured by metrics like Mean Absolute Percentage Error (MAPE) and Root Mean Square Error (RMSE), as well as information criteria like the Akaike Information Criterion (AIC). Additionally, this research investigates the strengths and weaknesses of each model, highlighting their suitability based on the unique characteristics of the demand time series.\n",
    "\n",
    "The energy sector, particularly the electric and petroleum industries, plays a pivotal role in the global economy. Accurate demand forecasting in these sectors is crucial for efficient resource allocation, cost management, and infrastructure planning. With the increasing importance of natural gas as a cleaner energy source, robust forecasting models become essential tools for decision-makers in these sectors.\n",
    "\n",
    "The study utilizes extensive historical demand data, spanning over a decade, to provide a comprehensive evaluation of the selected forecasting models. First, traditional time series models, ARIMA (AutoRegressive Integrated Moving Average) and SARIMA (Seasonal ARIMA), are applied to the dataset. These models are well-established and widely used in time series forecasting due to their simplicity and interpretability. The research assesses their performance against the neural network models.\n",
    "\n",
    "Subsequently, deep learning models, specifically Recurrent Neural Networks (RNN) and Long Short-Term Memory networks (LSTM), are employed to capture complex temporal dependencies within the data. These models have gained popularity for their ability to handle sequential data effectively. The research evaluates their forecasting accuracy and assesses whether their complexity offers advantages in modeling natural gas demand over traditional approaches.\n",
    "\n",
    "The results of this study will help industry professionals and policymakers make informed decisions regarding natural gas resource allocation and infrastructure planning. By identifying the most accurate forecasting model for each sector, this research contributes to optimizing resource utilization and cost reduction strategies. Additionally, it provides valuable insights into the strengths and weaknesses of each modeling approach, allowing for informed model selection based on the specific characteristics of the demand time series data.\n",
    "\n",
    "In conclusion, this research bridges the gap between time series models and neural network models, offering a comparative analysis of their performance in forecasting natural gas demand. By focusing on the electric and petroleum sectors and utilizing extensive historical data, the study aims to facilitate more accurate and efficient decision-making processes within these critical industries."
   ]
  },
  {
   "cell_type": "markdown",
   "metadata": {},
   "source": [
    "\n",
    "Esta investigación explora la efectividad de los modelos de series de tiempo, específicamente ARIMA y SARIMA, y los modelos de redes neuronales, como RNN y LSTM, en el pronóstico de la demanda de gas natural en los sectores eléctrico y petrolero en México. El estudio aprovecha los datos de demanda mensual que abarcan de 12 a 15 años para predecir la demanda de los próximos 12 meses. El objetivo principal es determinar qué enfoque de modelado supera a los demás en términos de precisión de pronóstico, según lo medido por métricas como el Error Porcentual Absoluto Medio (MAPE) y el Error Cuadrático Medio (RMSE), así como criterios de información como el Criterio de Información de Akaike (AIC). Además, esta investigación investiga las fortalezas y debilidades de cada modelo, destacando su uso idoneo en función de las características únicas de la serie de tiempo de la demanda.\n",
    "\n",
    "El sector energético, particularmente las industrias eléctrica y petrolera, juega un papel fundamental en la economía global. El pronóstico preciso de la demanda en estos sectores es crucial para la asignación eficiente de recursos, la gestión de costos y la planificación de infraestructura. Con la creciente importancia del gas natural como fuente de energía más limpia, los modelos de pronóstico robustos se convierten en herramientas esenciales para los tomadores de decisiones en estos sectores.\n",
    "\n",
    "El estudio utiliza datos históricos extensos de demanda, que abarcan más de una década, para proporcionar una evaluación completa de los modelos de pronóstico seleccionados. Primero, se aplican al conjunto de datos modelos de series de tiempo tradicionales, ARIMA (AutoRegressive Integrated Moving Average) y SARIMA (Seasonal ARIMA). Estos modelos están bien establecidos y son ampliamente utilizados en el pronóstico de series de tiempo debido a su simplicidad e interpretabilidad. La investigación evalúa su desempeño frente a los modelos de redes neuronales.\n",
    "\n",
    "Posteriormente, se emplean modelos de aprendizaje profundo, específicamente Redes Neuronales Recurrentes (RNN) y redes de Memoria a Largo Plazo (LSTM), para capturar dependencias temporales complejas dentro de los datos. Estos modelos han ganado popularidad por su capacidad para manejar datos secuenciales de manera efectiva. La investigación evalúa su precisión de pronóstico y evalúa si su complejidad ofrece ventajas en el modelado de la demanda de gas natural sobre los enfoques tradicionales.\n",
    "\n",
    "Los resultados de este estudio ayudarán a los profesionales de la industria a tomar decisiones mejor informadas sobre la asignación de recursos de gas natural y la planificación de infraestructura. Al identificar el modelo de pronóstico más preciso para cada sector, esta investigación contribuye a optimizar la utilización de recursos y las estrategias de reducción de costos. Además, proporciona información valiosa sobre las fortalezas y debilidades de cada enfoque de modelado, lo que permite una selección de modelo informada basada en las características específicas de los datos de la serie de tiempo de la demanda.\n",
    "\n",
    "En conclusión, esta investigación ofrece un análisis comparativo del desempeño de dos tipos de modelos ampliamente usados en el pronóstico de la demanda de gas natural. Al centrarse en los sectores eléctrico y petrolero y utilizar datos históricos extensos, el estudio tiene como objetivo facilitar procesos de toma de decisiones más precisos y eficientes dentro de estas industrias críticas"
   ]
  },
  {
   "cell_type": "markdown",
   "metadata": {},
   "source": [
    "## 3. Introducción"
   ]
  },
  {
   "cell_type": "markdown",
   "metadata": {},
   "source": [
    "## 4. El problema (contexto)"
   ]
  },
  {
   "cell_type": "markdown",
   "metadata": {},
   "source": [
    "In response to the evolving global landscape and internal changes within Mexico, we propose a critical update to the Mexican government's approach to forecasting natural gas demand and production. This recommendation arises from the recognition that current forecasting methods and time frames are inadequately equipped to address the complexities posed by recent global events, shifting government regimes, and the need for precise, forward-looking energy planning.\n",
    "\n",
    "The global context has undergone significant transformations over the past decade, with events like the COVID-19 pandemic, the Ukrainian War, and environmental and food crises exerting profound impacts on energy markets. These factors, which have ripple effects across nations, must be integrated into Mexico's natural gas forecasting model as quantifiable variables. Neglecting them would result in incomplete and potentially unreliable predictions.\n",
    "\n",
    "Internally, Mexico has experienced substantial changes, including the advent of a new government regime and the introduction of novel public policies that have shaped the country's economic and social landscape. To accommodate these shifts, the government's forecasting approach should adapt to reflect these evolving realities. The outdated assumption of a consistent, unchanging environment no longer holds true.\n",
    "\n",
    "We recommend comparing multiple forecasting methods for both demand and production of natural gas, evaluating their accuracy under various scenarios. The selection of the most appropriate model should be guided by minimizing errors and ensuring precision, even up to 3-5 years beyond the initial forecast period. The existing strategy of forecasting 15 years ahead based on historical data spanning 10-15 years may not be ideal given the current dynamism of global and domestic factors.\n",
    "\n",
    "To ensure the relevance and timeliness of the study, we propose a focused forecast for the period 2024-2028, grounded in historical data from 2005 to 2022. This narrower timeframe aligns with the changing dynamics of the past decade, offering a more realistic perspective for decision-makers in energy planning and policy.\n",
    "\n",
    "Crucially, the study should outline the forecasting models employed, accompanied by a comprehensive presentation of results. These models should account for current variables and assumptions, offering a detailed and nuanced view of the forecasted natural gas demand and production in Mexico. Achieving an error margin of less than 10% is essential to enhance the reliability and practical utility of the study.\n",
    "\n",
    "This updated forecasting initiative will provide invaluable insights for key decision-makers, including the Ministry of Energy (SENER) and the National Hydrocarbons Commission (CNH). It will align with the current administration's energy policies (2018-2024), providing forecasts that remain accurate and applicable in the evolving energy landscape.\n",
    "\n",
    "In summary, our objective is to modernize the forecasting of natural gas demand and production in Mexico by incorporating global events, internal changes, and precise modeling techniques. By doing so, we can equip decision-makers with the tools they need to navigate the dynamic energy sector effectively."
   ]
  },
  {
   "cell_type": "markdown",
   "metadata": {},
   "source": [
    "En respuesta al panorama mundial cambiante y los cambios internos en México, se propone una actualización del enfoque con que anteriormente el gobierno mexicano ha pronosticado la demanda de gas natural. Esta recomendación surge del reconocimiento de que los métodos y marcos de tiempo de pronóstico actuales no están equipados adecuadamente para abordar las complejidades planteadas por los eventos globales recientes, los cambios de regímenes gubernamentales y la necesidad de una planificación energética precisa y prospectiva.\n",
    "\n",
    "El contexto global ha experimentado transformaciones significativas en la última década, con eventos como la pandemia de COVID-19, la guerra de Ucrania y las crisis ambientales y alimentarias que ejercen un impacto profundo en los mercados energéticos. Estos factores, que tienen efectos dominó en las naciones, deben integrarse en el modelo de pronóstico de gas natural de México como variables cuantificables. Descuidarlos resultaría en predicciones incompletas y potencialmente poco confiables.\n",
    "\n",
    "A nivel interno, México ha experimentado cambios sustanciales, incluido el advenimiento de un nuevo régimen gubernamental y la introducción de nuevas políticas públicas que han dado forma al panorama económico y social del país. Para adaptarse a estos cambios, el enfoque de pronóstico del gobierno debe adaptarse para reflejar estas realidades cambiantes. La suposición obsoleta de un entorno coherente e inmutable ya no es válida.\n",
    "\n",
    "Se recomienda comparar varios métodos de pronóstico tanto para la demanda de gas natural, evaluando su precisión en varios escenarios. La selección del modelo más apropiado debe guiarse por la minimización de errores y el aseguramiento de la precisión, incluso hasta 1-2 años más allá del período de pronóstico inicial. La estrategia existente de pronosticar 15 años por delante en función de datos históricos que abarcan 10-15 años puede no ser ideal dada la dinámica actual de los factores globales y nacionales.\n",
    "\n",
    "Para garantizar la relevancia y actualidad del estudio, proponemos un pronóstico enfocado para el período 2022-2023, basado en datos históricos de 2005 a 2021. Este período de tiempo más corto se alinea con la dinámica cambiante de la última década, ofreciendo una perspectiva más realista para los tomadores de decisiones en la planificación y política energética.\n",
    "\n",
    "De manera crucial, el estudio debe describir los modelos de pronóstico empleados, acompañados de una presentación completa de los resultados. Estos modelos deben tener en cuenta las variables y supuestos actuales, ofreciendo una visión detallada y matizada de la demanda y producción de gas natural pronosticada en México. Lograr un margen de error inferior al 10% es esencial para mejorar la confiabilidad y la utilidad práctica del estudio.\n",
    "\n",
    "Esta iniciativa de pronóstico actualizada proporcionará información valiosa para los tomadores de decisiones clave, incluidos el Ministerio de Energía (SENER) y la Comisión Nacional de Hidrocarburos (CNH). Se alineará con las políticas energéticas de la administración actual (2018-2024), proporcionando pronósticos que permanezcan precisos y aplicables en el panorama energético en evolución.\n",
    "\n",
    "En resumen, nuestro objetivo es modernizar el pronóstico de la demanda y producción de gas natural en México mediante la incorporación de eventos globales, cambios internos y técnicas de modelado precisas. Al hacerlo, podemos equipar a los tomadores de decisiones con las herramientas que necesitan para navegar por el dinámico sector energético de manera efectiva."
   ]
  },
  {
   "cell_type": "markdown",
   "metadata": {},
   "source": [
    "## 5. Propósito del estudio"
   ]
  },
  {
   "cell_type": "markdown",
   "metadata": {},
   "source": [
    "Title: The Objective: Estimating and Validating Natural Gas Demand and Production Forecast for Mexico (2022-2023)\n",
    "\n",
    "In light of the evolving landscape in Mexico's energy sector and the pressing need for precise decision-making by national energy regulatory agencies, this study aims to establish both general and specific objectives for estimating and validating the forecast of natural gas demand and production in Mexico for the period 2022-2023. Leveraging advanced statistical techniques, including time series analysis and artificial neural networks, this research endeavors to provide actionable insights for agencies such as the Ministry of Energy (SENER) and the National Hydrocarbons Commission (CNH) to facilitate the country's energy transition.\n",
    "\n",
    "General Objectives:\n",
    "\n",
    "Assessment of the Current State: To comprehensively evaluate the current state of natural gas demand and production in Mexico by aggregating and synthesizing relevant data and information.\n",
    "\n",
    "Forecast Validation: To rigorously validate the accuracy and reliability of forecasts for natural gas demand and production in Mexico, ensuring that decision-makers can rely on these projections for policy planning and implementation.\n",
    "\n",
    "Support for Energy Transition: To offer robust analytical support that enables SENER and CNH to make informed decisions regarding Mexico's transition towards a sustainable energy future, considering environmental, economic, and social dimensions.\n",
    "\n",
    "Specific Objectives:\n",
    "\n",
    "Literature Review: To conduct an exhaustive review of existing literature and research on natural gas demand and production in Mexico, identifying trends, challenges, and gaps in knowledge.\n",
    "\n",
    "Methodology Analysis: To critically examine the statistical methods employed for forecasting natural gas demand and production, assessing their strengths, weaknesses, and relevance to the Mexican context.\n",
    "\n",
    "Model Selection: To choose one or two suitable models from both time series analysis and artificial neural networks, based on their capacity to provide accurate forecasts in Mexico's unique energy landscape.\n",
    "\n",
    "Variable Identification: To determine the key variables and parameters that should be incorporated into the selected forecasting models to optimize their accuracy.\n",
    "\n",
    "Scenario Design: To create multiple scenarios for production and demand based on existing plans and public policies in Mexico, ensuring that the forecasts are adaptable to different potential futures.\n",
    "\n",
    "Software Selection: To select and implement the most appropriate computing package for building and executing the estimation models efficiently.\n",
    "\n",
    "Results Analysis: To rigorously analyze the results generated by the chosen statistical models under various scenarios, allowing for a comprehensive understanding of potential outcomes.\n",
    "\n",
    "Capacity Assessment: To evaluate the existing installed capacity for natural gas production and distribution in Mexico and compare it against the forecasted demand, identifying any potential gaps or surpluses.\n",
    "\n",
    "Recommendations: To provide clear and actionable recommendations based on the study's findings, assisting SENER and CNH in shaping their strategies and policies.\n",
    "\n",
    "By establishing these objectives, this research aims to contribute significantly to the enhancement of Mexico's energy planning and transition efforts. Through robust forecasting models and thorough validation, it seeks to empower national energy regulatory agencies with the insights they need to steer the country toward a sustainable and efficient energy future in the challenging years ahead."
   ]
  },
  {
   "cell_type": "markdown",
   "metadata": {},
   "source": [
    "***Objetivos generales***:\n",
    "\n",
    "a) Evaluación del estado actual: Evaluar de manera integral el estado actual de la demanda y producción de gas natural en México mediante la agregación y síntesis de datos e información relevantes. <br>\n",
    "b) Validación de pronósticos: Validar rigurosamente la precisión y confiabilidad de los pronósticos de demanda y producción de gas natural en México, asegurando que los tomadores de decisiones puedan confiar en estas proyecciones para la planificación e implementación de políticas. <br>\n",
    "c) Apoyo a la transición energética: Ofrecer un apoyo analítico que permita tomar decisiones informadas sobre la transición de México hacia un futuro energético sostenible, considerando las dimensiones ambientales, económicas y sociales. <br>\n",
    "\n",
    "***Objetivos específicos***:\n",
    "\n",
    "Selección del modelo: Elegir uno o dos modelos adecuados tanto del análisis de series de tiempo como de las redes neuronales artificiales, en función de su capacidad para proporcionar pronósticos precisos en el panorama energético único de México.<br>\n",
    "Identificación de variables: Determinar las variables y parámetros clave que deben incorporarse a los modelos de pronóstico seleccionados para optimizar su precisión.<br>\n",
    "Análisis de resultados: Analizar rigurosamente los resultados generados por los modelos estadísticos elegidos bajo diversos escenarios, lo que permitirá una comprensión integral de los resultados potenciales.<br>\n",
    "\n",
    "\n",
    "Esta investigación tiene como objetivo contribuir significativamente al mejoramiento de los esfuerzos de planificación y transición energética de México. A través de modelos de pronóstico robustos y una validación exhaustiva, busca empoderar a las agencias reguladoras de energía nacional con los conocimientos que necesitan para conducir al país hacia un futuro energético sostenible y eficiente en los próximos años desafiantes."
   ]
  },
  {
   "cell_type": "markdown",
   "metadata": {},
   "source": [
    "## 6. Descripcion del proyecto "
   ]
  },
  {
   "cell_type": "markdown",
   "metadata": {},
   "source": [
    "Description of the Project: Advancing Natural Gas Demand Forecasting in Mexico\n",
    "\n",
    "This project embarks on an ambitious endeavor to enhance the accuracy and reliability of natural gas demand forecasting in Mexico, primarily focusing on the electric and petroleum sectors. Drawing upon the wealth of data available from official sources such as the Ministry of Energy (SENER) and the National Institute of Statistics and Geography (INEGI), this research endeavors to equip decision-makers with invaluable insights for effective energy planning and policy formulation.\n",
    "\n",
    "Data Gathering: The project will commence by diligently collecting historical data from the official SENER and INEGI websites, ensuring the authenticity and reliability of the information. This comprehensive dataset will serve as the foundation for our forecasting models.\n",
    "\n",
    "Data Preparation and Preprocessing: To ensure the quality and suitability of the data, a rigorous preprocessing phase will be executed. This involves cleansing the data to eliminate inconsistencies, filling in any missing values, and addressing potential outliers. The goal is to obtain a clean and robust dataset for analysis.\n",
    "\n",
    "Modeling Approach: The core of the project lies in deploying two distinct yet powerful forecasting methodologies: ARIMA (AutoRegressive Integrated Moving Average) and RNN (Recurrent Neural Network). ARIMA, a well-established time series model, offers interpretability and simplicity. In contrast, RNN, a deep learning model, excels at capturing complex temporal dependencies within the data. Both models will be used to forecast the natural gas demand for the next 12 months in both the electric and petroleum sectors.\n",
    "\n",
    "Comparative Analysis: A critical component of this project involves conducting an exhaustive comparison of the ARIMA and RNN models. This comparison will encompass various facets, including forecasting accuracy, robustness in handling different scenarios, computation efficiency, and the ability to adapt to evolving data. The pros and cons of each model will be thoroughly evaluated to determine their suitability for specific forecasting tasks.\n",
    "\n",
    "The overarching goal of this project is to empower stakeholders and policymakers within Mexico's energy sector with precise and forward-looking insights. By leveraging the strengths of ARIMA and RNN models and following meticulous data collection and preparation procedures, this research endeavors to significantly advance the state of natural gas demand forecasting in Mexico. Your input and guidance have been invaluable in shaping the project's objectives, and any additional questions or considerations you may have are welcomed to ensure the highest quality and relevance of the study."
   ]
  },
  {
   "cell_type": "markdown",
   "metadata": {},
   "source": [
    "\n",
    "Traducción al español de la descripción del proyecto \"Avances en el pronóstico de la demanda de gas natural en México\":\n",
    "\n",
    "Este proyecto se embarca en un ambicioso esfuerzo para mejorar la precisión y confiabilidad del pronóstico de la demanda de gas natural en México, con un enfoque principal en los sectores eléctrico y petrolero. Aprovechando la riqueza de datos disponibles de fuentes oficiales como la Secretaría de Energía (SENER) y el Instituto Nacional de Estadística y Geografía (INEGI), esta investigación busca dotar a los tomadores de decisiones de información valiosa para la planificación energética efectiva y la formulación de políticas.\n",
    "\n",
    "Recopilación de datos: El proyecto comenzará con la recopilación diligente de datos históricos de los sitios web oficiales de la SENER y el INEGI, asegurando la autenticidad y confiabilidad de la información. Este amplio conjunto de datos servirá de base para nuestros modelos de pronóstico.\n",
    "\n",
    "Preparación y preprocesamiento de datos: Para garantizar la calidad y la idoneidad de los datos, se ejecutará una rigurosa fase de preprocesamiento. Esto implica limpiar los datos para eliminar inconsistencias, completar cualquier valor faltante y abordar los posibles valores atípicos. El objetivo es obtener un conjunto de datos limpio y robusto para su análisis.\n",
    "\n",
    "Enfoque de modelado: El núcleo del proyecto radica en el despliegue de dos metodologías de pronóstico distintas pero poderosas: ARIMA (AutoRegressive Integrated Moving Average) y RNN (Recurrent Neural Network). ARIMA, un modelo de series de tiempo bien establecido, ofrece interpretabilidad y simplicidad. Por el contrario, RNN, un modelo de aprendizaje profundo, sobresale en capturar dependencias temporales complejas dentro de los datos. Ambos modelos se utilizarán para pronosticar la demanda de gas natural para los próximos 12 meses en los sectores eléctrico y petrolero.\n",
    "\n",
    "Análisis comparativo: Un componente crítico de este proyecto implica realizar una comparación exhaustiva de los modelos ARIMA y RNN. Esta comparación abarcará varias facetas, incluyendo la precisión del pronóstico, la robustez en el manejo de diferentes escenarios, la eficiencia computacional y la capacidad de adaptarse a datos en evolución. Los pros y los contras de cada modelo se evaluarán a fondo para determinar su idoneidad para tareas de pronóstico específicas.\n",
    "\n",
    "El objetivo general de este proyecto es empoderar a las partes interesadas y a los responsables de la formulación de políticas dentro del sector energético de México con información precisa y prospectiva. Al aprovechar las fortalezas de los modelos ARIMA y RNN y siguiendo meticulosos procedimientos de recopilación y preparación de datos, esta investigación se esfuerza por avanzar significativamente en el estado del pronóstico de la demanda de gas natural en México. Su aporte y orientación han sido invaluables para dar forma a los objetivos del proyecto, y cualquier pregunta o consideración adicional que pueda tener es bienvenida para garantizar la más alta calidad y relevancia del estudio."
   ]
  },
  {
   "cell_type": "markdown",
   "metadata": {},
   "source": [
    "## 7. Hipotesis"
   ]
  },
  {
   "cell_type": "markdown",
   "metadata": {},
   "source": [
    "Hypothesis: Unlocking Insights into Natural Gas Demand Forecasting\n",
    "\n",
    "This research project advances several key hypotheses that underpin the exploration of natural gas demand forecasting in Mexico. First, it is expected that time series models, notably ARIMA and SARIMA, will excel at capturing and \"learning\" seasonal patterns and long-term trends in the data. However, these models are likely to exhibit sensitivity to outliers or local unusual trends, which could potentially lead to reduced accuracy in the presence of such data anomalies.\n",
    "\n",
    "Second, the utilization of Recurrent Neural Networks (RNN) and Long Short-Term Memory networks (LSTM) is anticipated to provide a more robust mechanism for \"learning\" local patterns within the data. These deep learning models are designed to capture intricate temporal dependencies, making them well-suited for handling local variations and deviations from the norm.\n",
    "\n",
    "Third, it is hypothesized that the research will achieve a Mean Absolute Percentage Error (MAPE) within the range of 5-8% when forecasting natural gas demand for the upcoming 12-18 months. This range reflects the aspiration for a high level of forecasting accuracy, ensuring that the models produce reliable predictions.\n",
    "\n",
    "Fourth, both time series models and RNN/LSTM models are expected to be influenced by the outliers observed in 2020 and 2021, primarily attributed to the COVID-19 pandemic. These exceptional circumstances are likely to challenge the models' adaptability and may result in forecasting inaccuracies during these specific periods.\n",
    "\n",
    "Lastly, regarding the inclusion of external variables such as Gross Domestic Product (PIB), exchange rate dynamics, and monetary exchange rates, it is hypothesized that these variables may introduce more noise than useful additional information into the forecasting process. Given this, a potentially superior approach may involve utilizing only past demand values as independent variables, ensuring the models remain focused and undisturbed by external factors."
   ]
  },
  {
   "cell_type": "markdown",
   "metadata": {},
   "source": [
    "\n",
    "Este proyecto de investigación explora varias hipótesis clave que sustentan la exploración del pronóstico de la demanda de gas natural en México.\n",
    "\n",
    "En primer lugar, se espera que los modelos de series de tiempo, en particular ARIMA y SARIMA, sobresalgan en la captura y el \"aprendizaje\" de patrones estacionales y tendencias a largo plazo en los datos. Sin embargo, es probable que estos modelos muestren sensibilidad a los valores atípicos o las tendencias locales inusuales, lo que podría provocar una reducción de la precisión en presencia de tales anomalías de datos.\n",
    "\n",
    "En segundo lugar, se prevé que la utilización de redes neuronales recurrentes (RNN) y redes de memoria a largo plazo (LSTM) proporcionará un mecanismo más robusto para \"aprender\" patrones locales dentro de los datos. Estos modelos de aprendizaje profundo están diseñados para capturar dependencias temporales complejas, lo que los hace muy adecuados para manejar variaciones locales y desviaciones de la norma.\n",
    "\n",
    "En tercer lugar, se hipotetiza que la investigación logrará un error porcentual absoluto medio (MAPE) dentro del rango del 5-8% al pronosticar la demanda de gas natural para los próximos 12-18 meses. Este rango refleja la aspiración a un alto nivel de precisión en el pronóstico, asegurando que los modelos produzcan predicciones confiables.\n",
    "\n",
    "En cuarto lugar, se espera que tanto los modelos de series de tiempo como los modelos RNN/LSTM estén influenciados por los valores atípicos observados en 2020 y 2021, atribuidos principalmente a la pandemia de COVID-19. Es probable que estas circunstancias excepcionales desafíen la adaptabilidad de los modelos y puedan resultar en inexactitudes de pronóstico durante estos períodos específicos.\n",
    "\n",
    "Por último, con respecto a la inclusión de variables externas como el Producto Interno Bruto (PIB), la dinámica del tipo de cambio y los tipos de cambio monetarios, se hipotetiza que estas variables pueden introducir más ruido que información adicional útil en el proceso de pronóstico. Dado esto, un enfoque potencialmente superior puede implicar utilizar solo valores de demanda pasados como variables independientes, asegurando que los modelos permanezcan enfocados y no perturbados por factores externos."
   ]
  },
  {
   "cell_type": "markdown",
   "metadata": {},
   "source": [
    "## 8. Flujo de trabajo"
   ]
  },
  {
   "cell_type": "markdown",
   "metadata": {},
   "source": [
    "## 9. Mapeo del sistema"
   ]
  },
  {
   "cell_type": "markdown",
   "metadata": {},
   "source": [
    "## 10. Definición de métricas adecuadas"
   ]
  },
  {
   "cell_type": "markdown",
   "metadata": {},
   "source": [
    "In the context of forecasting natural gas demand using time series and RNN models, the selection and understanding of accurate evaluation metrics are paramount. First, we employ two crucial error metrics: Mean Absolute Percentage Error (MAPE) and Root Mean Square Error (RMSE). MAPE quantifies the accuracy of forecasts in terms of percentage error, providing a clear indication of the model's predictive performance relative to the actual data. RMSE, on the other hand, measures the magnitude of forecast errors in their original units, helping to gauge the overall prediction precision.\n",
    "\n",
    "Additionally, we utilize the Akaike Information Criterion (AIC) in our evaluation framework. AIC combines the likelihood of the model with the number of parameters used, prioritizing models that offer a balance between goodness of fit and simplicity. The principle of parsimony underscores this approach, advocating for models that achieve comparable accuracy while employing fewer parameters. This is particularly relevant in the context of our research, as it assists in selecting models that strike an optimal balance between complexity and forecasting efficacy. By meticulously defining and utilizing these metrics, our research aims to provide a robust framework for the evaluation of time series and RNN models, ultimately advancing the accuracy and reliability of natural gas demand forecasts."
   ]
  },
  {
   "cell_type": "markdown",
   "metadata": {},
   "source": [
    "En el contexto del pronóstico de la demanda de gas natural utilizando series de tiempo y modelos de redes neuronales recurrentes (RNN), la selección y comprensión de métricas de evaluación precisas es fundamental. En primer lugar, empleamos dos métricas de error cruciales: el error porcentual absoluto medio (MAPE) y el error cuadrático medio (RMSE). El MAPE cuantifica la precisión de los pronósticos en términos de error porcentual, proporcionando una indicación clara del rendimiento predictivo del modelo en relación con los datos reales. El RMSE, por otro lado, mide la magnitud de los errores de pronóstico en sus unidades originales, ayudando a evaluar la precisión general de la predicción.\n",
    "\n",
    "Además, utilizamos el criterio de información de Akaike (AIC) en nuestro marco de evaluación. El AIC combina la verosimilitud del modelo con el número de parámetros utilizados, priorizando los modelos que ofrecen un equilibrio entre el ajuste a los datos y la simplicidad. El principio de parsimonia subraya este enfoque, abogando por modelos que logren una precisión comparable empleando menos parámetros. Esto es particularmente relevante en el contexto de nuestra investigación, ya que ayuda a seleccionar modelos que alcanzan un equilibrio óptimo entre complejidad y eficacia de pronóstico.\n",
    "\n",
    "Al definir y utilizar meticulosamente estas métricas, nuestra investigación tiene como objetivo proporcionar un marco robusto para la evaluación de modelos de series de tiempo y RNN, avanzando en última instancia la precisión y confiabilidad de los pronósticos de demanda de gas natural."
   ]
  },
  {
   "cell_type": "markdown",
   "metadata": {},
   "source": [
    "## 11. Métodos y modelos"
   ]
  },
  {
   "cell_type": "markdown",
   "metadata": {},
   "source": [
    "## 12. Evaluación de modelos"
   ]
  },
  {
   "cell_type": "markdown",
   "metadata": {},
   "source": [
    "## 13. Análisis"
   ]
  },
  {
   "cell_type": "markdown",
   "metadata": {},
   "source": [
    "## 14. Resultados"
   ]
  },
  {
   "cell_type": "markdown",
   "metadata": {},
   "source": [
    "## 15. Conclusiones"
   ]
  },
  {
   "cell_type": "code",
   "execution_count": null,
   "metadata": {},
   "outputs": [],
   "source": []
  }
 ],
 "metadata": {
  "language_info": {
   "name": "python"
  },
  "orig_nbformat": 4
 },
 "nbformat": 4,
 "nbformat_minor": 2
}
