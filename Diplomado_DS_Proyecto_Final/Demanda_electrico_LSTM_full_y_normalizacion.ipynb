{
 "cells": [
  {
   "cell_type": "markdown",
   "metadata": {},
   "source": [
    "## MODELOS DE LSTM PARA PRONÓSTICO DE DEMANDA DE GAS NATURAL EN SECTOR ELÉCTRICO EN MÉXICO\n",
    "## UNAM\n",
    "## Alumno: Ibarra Ramírez Sergio"
   ]
  },
  {
   "cell_type": "markdown",
   "metadata": {},
   "source": [
    "Importamos la data de Demanda de gas en sector eléctrico como un CSV"
   ]
  },
  {
   "cell_type": "code",
   "execution_count": 31,
   "metadata": {},
   "outputs": [],
   "source": [
    "import pandas as pd\n",
    "import numpy as np\n",
    "import matplotlib.pyplot as plt\n",
    "from pandas.plotting import register_matplotlib_converters\n",
    "from statsmodels.graphics.tsaplots import plot_acf, plot_pacf\n",
    "from statsmodels.tsa.stattools import acf, pacf\n",
    "from statsmodels.tsa.arima.model import ARIMA\n",
    "from sympy import true\n",
    "from datetime import datetime, timedelta\n",
    "register_matplotlib_converters()\n",
    "from time import time "
   ]
  },
  {
   "cell_type": "markdown",
   "metadata": {},
   "source": [
    "Se lee la data \"original\" de Demanda en sector eléctrico"
   ]
  },
  {
   "cell_type": "code",
   "execution_count": 32,
   "metadata": {},
   "outputs": [
    {
     "data": {
      "text/html": [
       "<div>\n",
       "<style scoped>\n",
       "    .dataframe tbody tr th:only-of-type {\n",
       "        vertical-align: middle;\n",
       "    }\n",
       "\n",
       "    .dataframe tbody tr th {\n",
       "        vertical-align: top;\n",
       "    }\n",
       "\n",
       "    .dataframe thead th {\n",
       "        text-align: right;\n",
       "    }\n",
       "</style>\n",
       "<table border=\"1\" class=\"dataframe\">\n",
       "  <thead>\n",
       "    <tr style=\"text-align: right;\">\n",
       "      <th></th>\n",
       "      <th>Demanded_Gas</th>\n",
       "    </tr>\n",
       "    <tr>\n",
       "      <th>Date</th>\n",
       "      <th></th>\n",
       "    </tr>\n",
       "  </thead>\n",
       "  <tbody>\n",
       "    <tr>\n",
       "      <th>2005-01-01</th>\n",
       "      <td>1819.58</td>\n",
       "    </tr>\n",
       "    <tr>\n",
       "      <th>2005-02-01</th>\n",
       "      <td>1895.33</td>\n",
       "    </tr>\n",
       "    <tr>\n",
       "      <th>2005-03-01</th>\n",
       "      <td>1765.86</td>\n",
       "    </tr>\n",
       "    <tr>\n",
       "      <th>2005-04-01</th>\n",
       "      <td>1642.70</td>\n",
       "    </tr>\n",
       "    <tr>\n",
       "      <th>2005-05-01</th>\n",
       "      <td>1895.54</td>\n",
       "    </tr>\n",
       "    <tr>\n",
       "      <th>...</th>\n",
       "      <td>...</td>\n",
       "    </tr>\n",
       "    <tr>\n",
       "      <th>2022-05-01</th>\n",
       "      <td>3350.03</td>\n",
       "    </tr>\n",
       "    <tr>\n",
       "      <th>2022-06-01</th>\n",
       "      <td>3498.70</td>\n",
       "    </tr>\n",
       "    <tr>\n",
       "      <th>2022-07-01</th>\n",
       "      <td>3350.97</td>\n",
       "    </tr>\n",
       "    <tr>\n",
       "      <th>2022-08-01</th>\n",
       "      <td>3506.42</td>\n",
       "    </tr>\n",
       "    <tr>\n",
       "      <th>2022-09-01</th>\n",
       "      <td>3778.37</td>\n",
       "    </tr>\n",
       "  </tbody>\n",
       "</table>\n",
       "<p>213 rows × 1 columns</p>\n",
       "</div>"
      ],
      "text/plain": [
       "            Demanded_Gas\n",
       "Date                    \n",
       "2005-01-01       1819.58\n",
       "2005-02-01       1895.33\n",
       "2005-03-01       1765.86\n",
       "2005-04-01       1642.70\n",
       "2005-05-01       1895.54\n",
       "...                  ...\n",
       "2022-05-01       3350.03\n",
       "2022-06-01       3498.70\n",
       "2022-07-01       3350.97\n",
       "2022-08-01       3506.42\n",
       "2022-09-01       3778.37\n",
       "\n",
       "[213 rows x 1 columns]"
      ]
     },
     "execution_count": 32,
     "metadata": {},
     "output_type": "execute_result"
    }
   ],
   "source": [
    "csv_demanda_electrico_original = pd.read_csv('Demanda_electrico_2022_full1.csv',index_col='Date',parse_dates=True)\n",
    "csv_demanda_electrico_original"
   ]
  },
  {
   "cell_type": "markdown",
   "metadata": {},
   "source": [
    "Se grafica la data \"original\" de Demanda en sector eléctrico"
   ]
  },
  {
   "cell_type": "code",
   "execution_count": 33,
   "metadata": {},
   "outputs": [
    {
     "data": {
      "text/plain": [
       "Text(0, 0.5, 'Demanda [MMpcd]')"
      ]
     },
     "execution_count": 33,
     "metadata": {},
     "output_type": "execute_result"
    },
    {
     "data": {
      "image/png": "[encoded data removed]",
      "text/plain": [
       "<Figure size 720x288 with 1 Axes>"
      ]
     },
     "metadata": {
      "needs_background": "light"
     },
     "output_type": "display_data"
    }
   ],
   "source": [
    "plt.figure(figsize=(10,4))\n",
    "plt.plot(csv_demanda_electrico_original, color='#48C9B0')\n",
    "plt.title('Demanda de gas natural en el sector eléctrico en México \"Datos originales\"', fontsize=20)\n",
    "plt.ylabel('Demanda [MMpcd]', fontsize =16)"
   ]
  },
  {
   "cell_type": "markdown",
   "metadata": {},
   "source": [
    "Se descompone la data \"original\" de Demanda en sector eléctrico en sus compoentes de Tendencia, Estacionalidad y Residual"
   ]
  },
  {
   "cell_type": "code",
   "execution_count": 34,
   "metadata": {},
   "outputs": [
    {
     "data": {
      "image/png": "[encoded data removed]",
      "text/plain": [
       "<Figure size 432x288 with 4 Axes>"
      ]
     },
     "execution_count": 34,
     "metadata": {},
     "output_type": "execute_result"
    },
    {
     "data": {
      "image/png": "[encoded data removed]",
      "text/plain": [
       "<Figure size 432x288 with 4 Axes>"
      ]
     },
     "metadata": {
      "needs_background": "light"
     },
     "output_type": "display_data"
    }
   ],
   "source": [
    "from statsmodels.tsa.seasonal import seasonal_decompose\n",
    "\n",
    "csv_demanda_electrico_original_seasonal_decomposition = seasonal_decompose(csv_demanda_electrico_original)\n",
    "csv_demanda_electrico_original_seasonal_decomposition.plot()"
   ]
  },
  {
   "cell_type": "markdown",
   "metadata": {},
   "source": [
    "Para la aplicación de RNN(LSTM) combiene escalar la data. Por lo que se requiere definir y entrenar el MinMaxScaler \n",
    "Y por ello es necesario separar la data en train y test "
   ]
  },
  {
   "cell_type": "markdown",
   "metadata": {},
   "source": [
    "Separamos la data original de Demanda de gas natural en el sector eléctrico en data de train y test"
   ]
  },
  {
   "cell_type": "code",
   "execution_count": 35,
   "metadata": {},
   "outputs": [
    {
     "data": {
      "text/html": [
       "<div>\n",
       "<style scoped>\n",
       "    .dataframe tbody tr th:only-of-type {\n",
       "        vertical-align: middle;\n",
       "    }\n",
       "\n",
       "    .dataframe tbody tr th {\n",
       "        vertical-align: top;\n",
       "    }\n",
       "\n",
       "    .dataframe thead th {\n",
       "        text-align: right;\n",
       "    }\n",
       "</style>\n",
       "<table border=\"1\" class=\"dataframe\">\n",
       "  <thead>\n",
       "    <tr style=\"text-align: right;\">\n",
       "      <th></th>\n",
       "      <th>Demanded_Gas</th>\n",
       "    </tr>\n",
       "    <tr>\n",
       "      <th>Date</th>\n",
       "      <th></th>\n",
       "    </tr>\n",
       "  </thead>\n",
       "  <tbody>\n",
       "    <tr>\n",
       "      <th>2005-01-01</th>\n",
       "      <td>1819.58</td>\n",
       "    </tr>\n",
       "    <tr>\n",
       "      <th>2005-02-01</th>\n",
       "      <td>1895.33</td>\n",
       "    </tr>\n",
       "    <tr>\n",
       "      <th>2005-03-01</th>\n",
       "      <td>1765.86</td>\n",
       "    </tr>\n",
       "    <tr>\n",
       "      <th>2005-04-01</th>\n",
       "      <td>1642.70</td>\n",
       "    </tr>\n",
       "    <tr>\n",
       "      <th>2005-05-01</th>\n",
       "      <td>1895.54</td>\n",
       "    </tr>\n",
       "    <tr>\n",
       "      <th>...</th>\n",
       "      <td>...</td>\n",
       "    </tr>\n",
       "    <tr>\n",
       "      <th>2021-05-01</th>\n",
       "      <td>4243.93</td>\n",
       "    </tr>\n",
       "    <tr>\n",
       "      <th>2021-06-01</th>\n",
       "      <td>4985.53</td>\n",
       "    </tr>\n",
       "    <tr>\n",
       "      <th>2021-07-01</th>\n",
       "      <td>4631.85</td>\n",
       "    </tr>\n",
       "    <tr>\n",
       "      <th>2021-08-01</th>\n",
       "      <td>4098.81</td>\n",
       "    </tr>\n",
       "    <tr>\n",
       "      <th>2021-09-01</th>\n",
       "      <td>4424.39</td>\n",
       "    </tr>\n",
       "  </tbody>\n",
       "</table>\n",
       "<p>201 rows × 1 columns</p>\n",
       "</div>"
      ],
      "text/plain": [
       "            Demanded_Gas\n",
       "Date                    \n",
       "2005-01-01       1819.58\n",
       "2005-02-01       1895.33\n",
       "2005-03-01       1765.86\n",
       "2005-04-01       1642.70\n",
       "2005-05-01       1895.54\n",
       "...                  ...\n",
       "2021-05-01       4243.93\n",
       "2021-06-01       4985.53\n",
       "2021-07-01       4631.85\n",
       "2021-08-01       4098.81\n",
       "2021-09-01       4424.39\n",
       "\n",
       "[201 rows x 1 columns]"
      ]
     },
     "execution_count": 35,
     "metadata": {},
     "output_type": "execute_result"
    }
   ],
   "source": [
    "# Number of data points to keep for testing (in this case, the last 12)\n",
    "num_test_points = 12\n",
    "\n",
    "# Split the data into training and testing sets\n",
    "demanda_electrico_original_train_data = csv_demanda_electrico_original[:-num_test_points]\n",
    "demanda_electrico_original_test_data = csv_demanda_electrico_original[-num_test_points:]\n",
    "\n",
    "demanda_electrico_original_train_data"
   ]
  },
  {
   "cell_type": "markdown",
   "metadata": {},
   "source": [
    "Se define y entrena el MinMaxScaler (con la data de train)"
   ]
  },
  {
   "cell_type": "code",
   "execution_count": 36,
   "metadata": {},
   "outputs": [
    {
     "data": {
      "text/html": [
       "<style>#sk-container-id-2 {color: black;background-color: white;}#sk-container-id-2 pre{padding: 0;}#sk-container-id-2 div.sk-toggleable {background-color: white;}#sk-container-id-2 label.sk-toggleable__label {cursor: pointer;display: block;width: 100%;margin-bottom: 0;padding: 0.3em;box-sizing: border-box;text-align: center;}#sk-container-id-2 label.sk-toggleable__label-arrow:before {content: \"▸\";float: left;margin-right: 0.25em;color: #696969;}#sk-container-id-2 label.sk-toggleable__label-arrow:hover:before {color: black;}#sk-container-id-2 div.sk-estimator:hover label.sk-toggleable__label-arrow:before {color: black;}#sk-container-id-2 div.sk-toggleable__content {max-height: 0;max-width: 0;overflow: hidden;text-align: left;background-color: #f0f8ff;}#sk-container-id-2 div.sk-toggleable__content pre {margin: 0.2em;color: black;border-radius: 0.25em;background-color: #f0f8ff;}#sk-container-id-2 input.sk-toggleable__control:checked~div.sk-toggleable__content {max-height: 200px;max-width: 100%;overflow: auto;}#sk-container-id-2 input.sk-toggleable__control:checked~label.sk-toggleable__label-arrow:before {content: \"▾\";}#sk-container-id-2 div.sk-estimator input.sk-toggleable__control:checked~label.sk-toggleable__label {background-color: #d4ebff;}#sk-container-id-2 div.sk-label input.sk-toggleable__control:checked~label.sk-toggleable__label {background-color: #d4ebff;}#sk-container-id-2 input.sk-hidden--visually {border: 0;clip: rect(1px 1px 1px 1px);clip: rect(1px, 1px, 1px, 1px);height: 1px;margin: -1px;overflow: hidden;padding: 0;position: absolute;width: 1px;}#sk-container-id-2 div.sk-estimator {font-family: monospace;background-color: #f0f8ff;border: 1px dotted black;border-radius: 0.25em;box-sizing: border-box;margin-bottom: 0.5em;}#sk-container-id-2 div.sk-estimator:hover {background-color: #d4ebff;}#sk-container-id-2 div.sk-parallel-item::after {content: \"\";width: 100%;border-bottom: 1px solid gray;flex-grow: 1;}#sk-container-id-2 div.sk-label:hover label.sk-toggleable__label {background-color: #d4ebff;}#sk-container-id-2 div.sk-serial::before {content: \"\";position: absolute;border-left: 1px solid gray;box-sizing: border-box;top: 0;bottom: 0;left: 50%;z-index: 0;}#sk-container-id-2 div.sk-serial {display: flex;flex-direction: column;align-items: center;background-color: white;padding-right: 0.2em;padding-left: 0.2em;position: relative;}#sk-container-id-2 div.sk-item {position: relative;z-index: 1;}#sk-container-id-2 div.sk-parallel {display: flex;align-items: stretch;justify-content: center;background-color: white;position: relative;}#sk-container-id-2 div.sk-item::before, #sk-container-id-2 div.sk-parallel-item::before {content: \"\";position: absolute;border-left: 1px solid gray;box-sizing: border-box;top: 0;bottom: 0;left: 50%;z-index: -1;}#sk-container-id-2 div.sk-parallel-item {display: flex;flex-direction: column;z-index: 1;position: relative;background-color: white;}#sk-container-id-2 div.sk-parallel-item:first-child::after {align-self: flex-end;width: 50%;}#sk-container-id-2 div.sk-parallel-item:last-child::after {align-self: flex-start;width: 50%;}#sk-container-id-2 div.sk-parallel-item:only-child::after {width: 0;}#sk-container-id-2 div.sk-dashed-wrapped {border: 1px dashed gray;margin: 0 0.4em 0.5em 0.4em;box-sizing: border-box;padding-bottom: 0.4em;background-color: white;}#sk-container-id-2 div.sk-label label {font-family: monospace;font-weight: bold;display: inline-block;line-height: 1.2em;}#sk-container-id-2 div.sk-label-container {text-align: center;}#sk-container-id-2 div.sk-container {/* jupyter's `normalize.less` sets `[hidden] { display: none; }` but bootstrap.min.css set `[hidden] { display: none !important; }` so we also need the `!important` here to be able to override the default hidden behavior on the sphinx rendered scikit-learn.org. See: https://github.com/scikit-learn/scikit-learn/issues/21755 */display: inline-block !important;position: relative;}#sk-container-id-2 div.sk-text-repr-fallback {display: none;}</style><div id=\"sk-container-id-2\" class=\"sk-top-container\"><div class=\"sk-text-repr-fallback\"><pre>MinMaxScaler()</pre><b>In a Jupyter environment, please rerun this cell to show the HTML representation or trust the notebook. <br />On GitHub, the HTML representation is unable to render, please try loading this page with nbviewer.org.</b></div><div class=\"sk-container\" hidden><div class=\"sk-item\"><div class=\"sk-estimator sk-toggleable\"><input class=\"sk-toggleable__control sk-hidden--visually\" id=\"sk-estimator-id-2\" type=\"checkbox\" checked><label for=\"sk-estimator-id-2\" class=\"sk-toggleable__label sk-toggleable__label-arrow\">MinMaxScaler</label><div class=\"sk-toggleable__content\"><pre>MinMaxScaler()</pre></div></div></div></div></div>"
      ],
      "text/plain": [
       "MinMaxScaler()"
      ]
     },
     "execution_count": 36,
     "metadata": {},
     "output_type": "execute_result"
    }
   ],
   "source": [
    "from sklearn.preprocessing import MinMaxScaler\n",
    "MinMax_scaler = MinMaxScaler()\n",
    "MinMax_scaler.fit(demanda_electrico_original_train_data)"
   ]
  },
  {
   "cell_type": "markdown",
   "metadata": {},
   "source": [
    "Se aplica la escalación de data a la data de train y test"
   ]
  },
  {
   "cell_type": "code",
   "execution_count": 37,
   "metadata": {},
   "outputs": [],
   "source": [
    "demanda_electrico_original_train_scaled = MinMax_scaler.transform(demanda_electrico_original_train_data)\n",
    "demanda_electrico_original_test_scaled = MinMax_scaler.transform(demanda_electrico_original_test_data)\n"
   ]
  },
  {
   "cell_type": "markdown",
   "metadata": {},
   "source": [
    "Se grafica la distribución de los datos \"originales escalados\" de train de Demanda en sector eléctrico"
   ]
  },
  {
   "cell_type": "code",
   "execution_count": 38,
   "metadata": {},
   "outputs": [
    {
     "data": {
      "image/png": "[encoded data removed]",
      "text/plain": [
       "<Figure size 432x288 with 1 Axes>"
      ]
     },
     "metadata": {
      "needs_background": "light"
     },
     "output_type": "display_data"
    }
   ],
   "source": [
    "# Generate the histogram\n",
    "plt.hist(demanda_electrico_original_train_scaled, bins=10)  # Adjust the number of bins as per your data\n",
    "\n",
    "# Add labels and title\n",
    "plt.xlabel('Value')\n",
    "plt.ylabel('Frequency')\n",
    "plt.title('Histograma de data de Demanda de gas natural en sector eléctrico \"Datos originales escalados\"')\n",
    "\n",
    "# Display the plot\n",
    "plt.show()"
   ]
  },
  {
   "cell_type": "markdown",
   "metadata": {},
   "source": [
    "Se lleva a cabo una prueba de normalidad a los datos \"originales escalados\" de train de Demanda en sector eléctrico"
   ]
  },
  {
   "cell_type": "code",
   "execution_count": 39,
   "metadata": {},
   "outputs": [
    {
     "name": "stdout",
     "output_type": "stream",
     "text": [
      "La data NO sigue una distribución normal\n",
      "Jarque-Bera Statistic: 7.44920149030445\n",
      "p-value: 0.02412272962118056\n"
     ]
    }
   ],
   "source": [
    "import scipy.stats as stats\n",
    "\n",
    "# Assuming demanda_electrico_original_train_data is a pandas Series or DataFrame\n",
    "# You can access the values as follows:\n",
    "data = demanda_electrico_original_train_scaled\n",
    "\n",
    "# Perform the Jarque-Bera test\n",
    "jb_statistic, jb_p_value = stats.jarque_bera(data)\n",
    "\n",
    "# Check the p-value to determine whether the data follows a normal distribution\n",
    "alpha = 0.05  # Significance level\n",
    "if jb_p_value < alpha:\n",
    "    print(f\"La data NO sigue una distribución normal\")\n",
    "else:\n",
    "    print(\"La data SI sigue una distribución normal\")\n",
    "\n",
    "# Optionally, you can also print the JB statistic and p-value\n",
    "print(\"Jarque-Bera Statistic:\", jb_statistic)\n",
    "print(\"p-value:\", jb_p_value)"
   ]
  },
  {
   "cell_type": "code",
   "execution_count": 40,
   "metadata": {},
   "outputs": [
    {
     "data": {
      "image/png": "[encoded data removed]",
      "text/plain": [
       "<Figure size 432x288 with 1 Axes>"
      ]
     },
     "metadata": {
      "needs_background": "light"
     },
     "output_type": "display_data"
    }
   ],
   "source": [
    "# Create a boxplot of the Demanded_Gas column\n",
    "plt.boxplot(demanda_electrico_original_train_scaled)\n",
    "\n",
    "# Add labels and title\n",
    "plt.xlabel('Demanded_Gas')\n",
    "plt.ylabel('Frequency')\n",
    "plt.title('Distribución de datos de Demanda de gas natural en sector eléctrico \"Datos originales\"')\n",
    "\n",
    "# Display the plot\n",
    "plt.show()"
   ]
  },
  {
   "cell_type": "markdown",
   "metadata": {},
   "source": [
    "Se generan sets de n_input datos para con ellos predecir el t+1 dato, y así los siguientes n_input para predecir el t+1, etc"
   ]
  },
  {
   "cell_type": "code",
   "execution_count": 41,
   "metadata": {},
   "outputs": [],
   "source": [
    "from keras.preprocessing.sequence import TimeseriesGenerator"
   ]
  },
  {
   "cell_type": "code",
   "execution_count": 42,
   "metadata": {},
   "outputs": [],
   "source": [
    "n_input = 24\n",
    "\n",
    "data = demanda_electrico_original_train_scaled\n",
    "targets = data \n",
    "\n",
    "demanda_electrico_original_train_scaled_generator = TimeseriesGenerator(data, targets, length=n_input, batch_size=1)"
   ]
  },
  {
   "cell_type": "code",
   "execution_count": 43,
   "metadata": {},
   "outputs": [
    {
     "data": {
      "text/plain": [
       "(array([[[0.07168816],\n",
       "         [0.09268731],\n",
       "         [0.0567961 ],\n",
       "         [0.02265413],\n",
       "         [0.09274552],\n",
       "         [0.13604118],\n",
       "         [0.11118319],\n",
       "         [0.09111549],\n",
       "         [0.04937779],\n",
       "         [0.03740758],\n",
       "         [0.02438673],\n",
       "         [0.        ],\n",
       "         [0.0137139 ],\n",
       "         [0.06801505],\n",
       "         [0.1236108 ],\n",
       "         [0.15172886],\n",
       "         [0.20456354],\n",
       "         [0.23227963],\n",
       "         [0.2549393 ],\n",
       "         [0.23621611],\n",
       "         [0.20444988],\n",
       "         [0.1976359 ],\n",
       "         [0.15896421],\n",
       "         [0.12890563]]]),\n",
       " array([[0.15187856]]))"
      ]
     },
     "execution_count": 43,
     "metadata": {},
     "output_type": "execute_result"
    }
   ],
   "source": [
    "demanda_electrico_original_train_scaled_generator[0]"
   ]
  },
  {
   "cell_type": "code",
   "execution_count": 44,
   "metadata": {},
   "outputs": [
    {
     "name": "stdout",
     "output_type": "stream",
     "text": [
      "Total number of samples in the original training data =  201\n",
      "Total number of samples in the demanda_electrico_scaled_train_generator =  177\n"
     ]
    }
   ],
   "source": [
    "print(\"Total number of samples in the original training data = \", len(demanda_electrico_original_train_scaled)) \n",
    "print(\"Total number of samples in the demanda_electrico_scaled_train_generator = \", len(demanda_electrico_original_train_scaled_generator))\n"
   ]
  },
  {
   "cell_type": "markdown",
   "metadata": {},
   "source": [
    "### Se define y entrena la red neuronal LSTM  para el caso de la data original de Demanda en el sector eléctrico"
   ]
  },
  {
   "cell_type": "markdown",
   "metadata": {},
   "source": [
    "Se usa una semilla para intentar homologar los valores iniciales de pesos y bias  "
   ]
  },
  {
   "cell_type": "code",
   "execution_count": 45,
   "metadata": {},
   "outputs": [],
   "source": [
    "import numpy as np\n",
    "import tensorflow as tf\n",
    "\n",
    "# Set a seed for numpy random number generation\n",
    "np.random.seed(0)\n",
    "\n",
    "# Set a seed for TensorFlow random number generation\n",
    "tf.random.set_seed(0)"
   ]
  },
  {
   "cell_type": "code",
   "execution_count": 46,
   "metadata": {},
   "outputs": [],
   "source": [
    "from keras.models import Sequential\n",
    "from keras.layers import Dense\n",
    "from keras.layers import LSTM"
   ]
  },
  {
   "cell_type": "markdown",
   "metadata": {},
   "source": [
    "Se define la red neuronal LSMT con capas densas y funcion de activación tipo RELU."
   ]
  },
  {
   "cell_type": "code",
   "execution_count": 47,
   "metadata": {},
   "outputs": [],
   "source": [
    "n_input = 24\n",
    "n_features = 1\n",
    "\n",
    "# define model\n",
    "model_LSTM_electrico_scaled = Sequential()\n",
    "model_LSTM_electrico_scaled.add(LSTM(100, activation='relu', input_shape=(n_input, n_features)))\n",
    "model_LSTM_electrico_scaled.add(Dense(1))\n",
    "model_LSTM_electrico_scaled.compile(optimizer='adam', loss='mse')"
   ]
  },
  {
   "cell_type": "code",
   "execution_count": 48,
   "metadata": {},
   "outputs": [
    {
     "name": "stdout",
     "output_type": "stream",
     "text": [
      "Model: \"sequential_1\"\n",
      "_________________________________________________________________\n",
      " Layer (type)                Output Shape              Param #   \n",
      "=================================================================\n",
      " lstm_1 (LSTM)               (None, 100)               40800     \n",
      "                                                                 \n",
      " dense_1 (Dense)             (None, 1)                 101       \n",
      "                                                                 \n",
      "=================================================================\n",
      "Total params: 40901 (159.77 KB)\n",
      "Trainable params: 40901 (159.77 KB)\n",
      "Non-trainable params: 0 (0.00 Byte)\n",
      "_________________________________________________________________\n"
     ]
    }
   ],
   "source": [
    "model_LSTM_electrico_scaled.summary()"
   ]
  },
  {
   "cell_type": "markdown",
   "metadata": {},
   "source": [
    "Entrenamos el modelo LSTM"
   ]
  },
  {
   "cell_type": "code",
   "execution_count": 49,
   "metadata": {},
   "outputs": [
    {
     "name": "stdout",
     "output_type": "stream",
     "text": [
      "Epoch 1/15\n"
     ]
    },
    {
     "name": "stdout",
     "output_type": "stream",
     "text": [
      "177/177 [==============================] - 3s 7ms/step - loss: 0.0315\n",
      "Epoch 2/15\n",
      "177/177 [==============================] - 1s 7ms/step - loss: 0.0103\n",
      "Epoch 3/15\n",
      "177/177 [==============================] - 1s 7ms/step - loss: 0.0131\n",
      "Epoch 4/15\n",
      "177/177 [==============================] - 1s 6ms/step - loss: 0.0091\n",
      "Epoch 5/15\n",
      "177/177 [==============================] - 1s 6ms/step - loss: 0.0087\n",
      "Epoch 6/15\n",
      "177/177 [==============================] - 1s 7ms/step - loss: 0.0075\n",
      "Epoch 7/15\n",
      "177/177 [==============================] - 1s 6ms/step - loss: 0.0085\n",
      "Epoch 8/15\n",
      "177/177 [==============================] - 1s 6ms/step - loss: 0.0070\n",
      "Epoch 9/15\n",
      "177/177 [==============================] - 1s 6ms/step - loss: 0.0073\n",
      "Epoch 10/15\n",
      "177/177 [==============================] - 1s 6ms/step - loss: 0.0056\n",
      "Epoch 11/15\n",
      "177/177 [==============================] - 1s 6ms/step - loss: 0.0056\n",
      "Epoch 12/15\n",
      "177/177 [==============================] - 1s 6ms/step - loss: 0.0054\n",
      "Epoch 13/15\n",
      "177/177 [==============================] - 1s 6ms/step - loss: 0.0054\n",
      "Epoch 14/15\n",
      "177/177 [==============================] - 1s 6ms/step - loss: 0.0052\n",
      "Epoch 15/15\n",
      "177/177 [==============================] - 1s 6ms/step - loss: 0.0040\n"
     ]
    },
    {
     "data": {
      "text/plain": [
       "<keras.src.callbacks.History at 0x1b3f1640dc0>"
      ]
     },
     "execution_count": 49,
     "metadata": {},
     "output_type": "execute_result"
    }
   ],
   "source": [
    "model_LSTM_electrico_scaled.fit(demanda_electrico_original_train_scaled_generator, epochs=15)\n"
   ]
  },
  {
   "cell_type": "markdown",
   "metadata": {},
   "source": [
    "Se grafica la perdida por epoch"
   ]
  },
  {
   "cell_type": "code",
   "execution_count": 50,
   "metadata": {},
   "outputs": [
    {
     "data": {
      "text/plain": [
       "[<matplotlib.lines.Line2D at 0x1b3f3e74cd0>]"
      ]
     },
     "execution_count": 50,
     "metadata": {},
     "output_type": "execute_result"
    },
    {
     "data": {
      "image/png": "[encoded data removed]",
      "text/plain": [
       "<Figure size 432x288 with 1 Axes>"
      ]
     },
     "metadata": {
      "needs_background": "light"
     },
     "output_type": "display_data"
    }
   ],
   "source": [
    "loss_per_epoch_model_FF = model_LSTM_electrico_scaled.history.history['loss']\n",
    "plt.plot(range(len(loss_per_epoch_model_FF)),loss_per_epoch_model_FF)"
   ]
  },
  {
   "cell_type": "markdown",
   "metadata": {},
   "source": [
    "### Se lleva a cabo el forecast de los ultimos 12 meses usando el modelo model_LSTM_electrico_sin_tratamiento previamente definido y entrenado"
   ]
  },
  {
   "cell_type": "markdown",
   "metadata": {},
   "source": [
    "Se toman los ULTIMOS n_input elementos de los datos de train y se almacenan en un batch"
   ]
  },
  {
   "cell_type": "code",
   "execution_count": 51,
   "metadata": {},
   "outputs": [
    {
     "data": {
      "text/plain": [
       "array([[0.40929895],\n",
       "       [0.42016029],\n",
       "       [0.38425244],\n",
       "       [0.51049126],\n",
       "       [0.51049126],\n",
       "       [0.62604337],\n",
       "       [0.74135154],\n",
       "       [0.7836714 ],\n",
       "       [1.        ],\n",
       "       [0.83747356],\n",
       "       [0.72153611],\n",
       "       [0.80133008],\n",
       "       [0.64003449],\n",
       "       [0.67506632],\n",
       "       [0.65981388],\n",
       "       [0.48164966],\n",
       "       [0.52483443],\n",
       "       [0.58778751],\n",
       "       [0.7051942 ],\n",
       "       [0.74375778],\n",
       "       [0.94934147],\n",
       "       [0.85129557],\n",
       "       [0.70352813],\n",
       "       [0.79378425]])"
      ]
     },
     "execution_count": 51,
     "metadata": {},
     "output_type": "execute_result"
    }
   ],
   "source": [
    "data = demanda_electrico_original_train_scaled\n",
    "\n",
    "demanda_electrico_train_batch_scaled = data[-n_input:]\n",
    "\n",
    "demanda_electrico_train_batch_scaled"
   ]
  },
  {
   "cell_type": "markdown",
   "metadata": {},
   "source": [
    "Se reescala el batch de los datos de train a que tenga la misma forma que los datos con que se entrenó el modelo que fueron 1, input_shape=(n_input, n_features)"
   ]
  },
  {
   "cell_type": "code",
   "execution_count": 52,
   "metadata": {},
   "outputs": [
    {
     "data": {
      "text/plain": [
       "array([[[0.40929895],\n",
       "        [0.42016029],\n",
       "        [0.38425244],\n",
       "        [0.51049126],\n",
       "        [0.51049126],\n",
       "        [0.62604337],\n",
       "        [0.74135154],\n",
       "        [0.7836714 ],\n",
       "        [1.        ],\n",
       "        [0.83747356],\n",
       "        [0.72153611],\n",
       "        [0.80133008],\n",
       "        [0.64003449],\n",
       "        [0.67506632],\n",
       "        [0.65981388],\n",
       "        [0.48164966],\n",
       "        [0.52483443],\n",
       "        [0.58778751],\n",
       "        [0.7051942 ],\n",
       "        [0.74375778],\n",
       "        [0.94934147],\n",
       "        [0.85129557],\n",
       "        [0.70352813],\n",
       "        [0.79378425]]])"
      ]
     },
     "execution_count": 52,
     "metadata": {},
     "output_type": "execute_result"
    }
   ],
   "source": [
    "demanda_electrico_train_batch_scaled_reshaped = demanda_electrico_train_batch_scaled.reshape(1,n_input, n_features)\n",
    "demanda_electrico_train_batch_scaled_reshaped"
   ]
  },
  {
   "cell_type": "markdown",
   "metadata": {},
   "source": [
    "Intentamos predecir el sigueinte valor dado el primet batch de n_input. Esto equivaldria a predecir el primer valor de los datos de test (PUES SE ESTÁN TOMANDO EXACTAMENTE LOS ULTIMOS VALORES DE LOS DATOS DE TRAIN EN EL BATCH), dados los n_input anteriores (QUE FORMAN BARTE DEL BATCH)"
   ]
  },
  {
   "cell_type": "code",
   "execution_count": 53,
   "metadata": {},
   "outputs": [
    {
     "name": "stdout",
     "output_type": "stream",
     "text": [
      "1/1 [==============================] - 0s 233ms/step\n"
     ]
    },
    {
     "data": {
      "text/plain": [
       "array([[0.7614203]], dtype=float32)"
      ]
     },
     "execution_count": 53,
     "metadata": {},
     "output_type": "execute_result"
    }
   ],
   "source": [
    "model_LSTM_electrico_scaled.predict(demanda_electrico_train_batch_scaled_reshaped)"
   ]
  },
  {
   "cell_type": "markdown",
   "metadata": {},
   "source": [
    "Y se compara el valor de forecast del modelo model_sequential_and_FF con los datos de test de la demanda de gasd natural en sector eléctrico"
   ]
  },
  {
   "cell_type": "code",
   "execution_count": 54,
   "metadata": {},
   "outputs": [
    {
     "data": {
      "text/plain": [
       "array([0.791877])"
      ]
     },
     "execution_count": 54,
     "metadata": {},
     "output_type": "execute_result"
    }
   ],
   "source": [
    "demanda_electrico_original_test_scaled[0]"
   ]
  },
  {
   "cell_type": "markdown",
   "metadata": {},
   "source": [
    "#### Ahora ser hará una función que irá formando batch de n_input para ir prediciendo el siguiente valor, tal como se hizo en el entrenamiento del modelo"
   ]
  },
  {
   "cell_type": "code",
   "execution_count": 55,
   "metadata": {},
   "outputs": [],
   "source": [
    "n_input = 24\n",
    "n_features = 1"
   ]
  },
  {
   "cell_type": "code",
   "execution_count": 56,
   "metadata": {},
   "outputs": [
    {
     "name": "stdout",
     "output_type": "stream",
     "text": [
      "1/1 [==============================] - 0s 30ms/step\n",
      "1/1 [==============================] - 0s 21ms/step\n"
     ]
    },
    {
     "name": "stdout",
     "output_type": "stream",
     "text": [
      "1/1 [==============================] - 0s 27ms/step\n",
      "1/1 [==============================] - 0s 20ms/step\n",
      "1/1 [==============================] - 0s 19ms/step\n",
      "1/1 [==============================] - 0s 21ms/step\n",
      "1/1 [==============================] - 0s 20ms/step\n",
      "1/1 [==============================] - 0s 20ms/step\n",
      "1/1 [==============================] - 0s 20ms/step\n",
      "1/1 [==============================] - 0s 21ms/step\n",
      "1/1 [==============================] - 0s 21ms/step\n",
      "1/1 [==============================] - 0s 20ms/step\n"
     ]
    }
   ],
   "source": [
    "test_predictions_model_LSTM_electrico_scaled = []\n",
    "\n",
    "first_eval_batch = demanda_electrico_original_train_scaled[-n_input:]\n",
    "current_batch = first_eval_batch.reshape((1, n_input, n_features))\n",
    "\n",
    "for i in range(len(demanda_electrico_original_test_scaled)):\n",
    "    \n",
    "    # get the prediction value for the first batch\n",
    "    current_pred = model_LSTM_electrico_scaled.predict(current_batch)[0]\n",
    "    \n",
    "    # append the prediction into the array\n",
    "    test_predictions_model_LSTM_electrico_scaled.append(current_pred) \n",
    "    \n",
    "    # use the prediction to update the batch and remove the first value\n",
    "    current_batch = np.append(current_batch[:,1:,:],[[current_pred]],axis=1)"
   ]
  },
  {
   "cell_type": "code",
   "execution_count": 57,
   "metadata": {},
   "outputs": [
    {
     "data": {
      "text/plain": [
       "[array([0.7614203], dtype=float32),\n",
       " array([0.76631194], dtype=float32),\n",
       " array([0.78491086], dtype=float32),\n",
       " array([0.8148874], dtype=float32),\n",
       " array([0.85058516], dtype=float32),\n",
       " array([0.88642544], dtype=float32),\n",
       " array([0.91622347], dtype=float32),\n",
       " array([0.93648684], dtype=float32),\n",
       " array([0.9469785], dtype=float32),\n",
       " array([0.9461625], dtype=float32),\n",
       " array([0.9438794], dtype=float32),\n",
       " array([0.9447537], dtype=float32)]"
      ]
     },
     "execution_count": 57,
     "metadata": {},
     "output_type": "execute_result"
    }
   ],
   "source": [
    "test_predictions_model_LSTM_electrico_scaled"
   ]
  },
  {
   "cell_type": "markdown",
   "metadata": {},
   "source": []
  },
  {
   "cell_type": "code",
   "execution_count": 58,
   "metadata": {},
   "outputs": [
    {
     "data": {
      "text/plain": [
       "array([[4307.64386841],\n",
       "       [4325.28941078],\n",
       "       [4392.38108779],\n",
       "       [4500.51518517],\n",
       "       [4629.28735134],\n",
       "       [4758.57360938],\n",
       "       [4866.0637481 ],\n",
       "       [4939.15961396],\n",
       "       [4977.00610727],\n",
       "       [4974.06260341],\n",
       "       [4965.8268129 ],\n",
       "       [4968.98059776]])"
      ]
     },
     "execution_count": 58,
     "metadata": {},
     "output_type": "execute_result"
    }
   ],
   "source": [
    "test_predictions_model_LSTM_electrico_rescaled = MinMax_scaler.inverse_transform(test_predictions_model_LSTM_electrico_scaled)\n",
    "test_predictions_model_LSTM_electrico_rescaled"
   ]
  },
  {
   "cell_type": "markdown",
   "metadata": {},
   "source": [
    "Se grafican los 12 meses de test vs el forecast del modelo LSTM con la data de entrenamiento normalizada con MinMaxScaler()"
   ]
  },
  {
   "cell_type": "code",
   "execution_count": 59,
   "metadata": {},
   "outputs": [
    {
     "data": {
      "text/plain": [
       "Text(0, 0.5, 'Demanda [MMpcd]')"
      ]
     },
     "execution_count": 59,
     "metadata": {},
     "output_type": "execute_result"
    },
    {
     "data": {
      "image/png": "[encoded data removed]",
      "text/plain": [
       "<Figure size 720x288 with 1 Axes>"
      ]
     },
     "metadata": {
      "needs_background": "light"
     },
     "output_type": "display_data"
    }
   ],
   "source": [
    "##Ploting the predicitons vs the test_data\n",
    "plt.figure(figsize =(10,4))\n",
    "plt.plot(demanda_electrico_original_test_data['Demanded_Gas'].values, color='brown')\n",
    "plt.plot(test_predictions_model_LSTM_electrico_rescaled, color='#48C9B0')\n",
    "plt.legend(('Data', 'Forecast modelo LSTM sin pretratamiento'), fontsize=12)\n",
    "\n",
    "plt.title('Demanda gas natural en sector eléctrico Datos de test vs Forecast con modelo LSTM data escalada ', fontsize=20)\n",
    "plt.ylabel('Demanda [MMpcd]', fontsize=16)"
   ]
  },
  {
   "cell_type": "markdown",
   "metadata": {},
   "source": [
    "Se calcula el error de pronóstico para los 12 meses de test con  modelo FFNN sin la data pretratada"
   ]
  },
  {
   "cell_type": "code",
   "execution_count": 60,
   "metadata": {},
   "outputs": [
    {
     "name": "stdout",
     "output_type": "stream",
     "text": [
      "MAPE: 0.31928315879179753\n",
      "RMSE: 1235.2386688761442\n"
     ]
    }
   ],
   "source": [
    "from sklearn.metrics import mean_absolute_percentage_error, mean_squared_error\n",
    "import numpy as np\n",
    "\n",
    "# Compute errors\n",
    "MAPE_predictions_model_LSTM_electrico_scaled = mean_absolute_percentage_error(demanda_electrico_original_test_data['Demanded_Gas'].values, test_predictions_model_LSTM_electrico_rescaled)\n",
    "RMSE_predictions_model_LSTM_electrico_scaled= np.sqrt(mean_squared_error(demanda_electrico_original_test_data['Demanded_Gas'].values, test_predictions_model_LSTM_electrico_rescaled))\n",
    "\n",
    "print('MAPE:', MAPE_predictions_model_LSTM_electrico_scaled)\n",
    "print('RMSE:', RMSE_predictions_model_LSTM_electrico_scaled)"
   ]
  },
  {
   "cell_type": "markdown",
   "metadata": {},
   "source": [
    "## Proceso de Pretratamiento (Ajuste de valores atípicos por media aritmetica o mediana de serie) como una estrategia para mejorar los resultados de forecast de modelos LSTM Neural Networks"
   ]
  },
  {
   "cell_type": "markdown",
   "metadata": {},
   "source": [
    "## Proceso de Pretratamiento Ajuste de valores atípicos por media aritmetica "
   ]
  },
  {
   "cell_type": "code",
   "execution_count": 61,
   "metadata": {},
   "outputs": [],
   "source": [
    "import numpy as np\n",
    "import tensorflow as tf\n",
    "\n",
    "# Set a seed for numpy random number generation\n",
    "np.random.seed(0)\n",
    "\n",
    "# Set a seed for TensorFlow random number generation\n",
    "tf.random.set_seed(0)"
   ]
  },
  {
   "cell_type": "code",
   "execution_count": 62,
   "metadata": {},
   "outputs": [],
   "source": [
    "outlier_threshold = 1.2\n",
    "\n",
    "import pandas as pd\n",
    "\n",
    "def remove_replace_outliers_media(data):\n",
    "    # Calculate Q1 and Q3\n",
    "    Q1 = data.quantile(0.25)\n",
    "    Q3 = data.quantile(0.75)\n",
    "    IQR = Q3 - Q1\n",
    "\n",
    "    # Identify outliers\n",
    "    outliers_mask = (data < (Q1 - outlier_threshold * IQR)) | (data > (Q3 + outlier_threshold * IQR))\n",
    "\n",
    "    # Calculate the historical mean excluding outliers\n",
    "    historical_mean = data[~outliers_mask].mean()\n",
    "\n",
    "    # Replace outliers with historical mean\n",
    "    data.loc[outliers_mask] = historical_mean\n",
    "\n",
    "    return data"
   ]
  },
  {
   "cell_type": "markdown",
   "metadata": {},
   "source": [
    "Se genera una copia del csv_demanda_electrico_original para conservar los datos originales en un array y éstos no se vean afectados por el tratamiento de valores atípicos "
   ]
  },
  {
   "cell_type": "code",
   "execution_count": 63,
   "metadata": {},
   "outputs": [
    {
     "data": {
      "text/html": [
       "<div>\n",
       "<style scoped>\n",
       "    .dataframe tbody tr th:only-of-type {\n",
       "        vertical-align: middle;\n",
       "    }\n",
       "\n",
       "    .dataframe tbody tr th {\n",
       "        vertical-align: top;\n",
       "    }\n",
       "\n",
       "    .dataframe thead th {\n",
       "        text-align: right;\n",
       "    }\n",
       "</style>\n",
       "<table border=\"1\" class=\"dataframe\">\n",
       "  <thead>\n",
       "    <tr style=\"text-align: right;\">\n",
       "      <th></th>\n",
       "      <th>Demanded_Gas</th>\n",
       "    </tr>\n",
       "    <tr>\n",
       "      <th>Date</th>\n",
       "      <th></th>\n",
       "    </tr>\n",
       "  </thead>\n",
       "  <tbody>\n",
       "    <tr>\n",
       "      <th>2005-01-01</th>\n",
       "      <td>1819.58</td>\n",
       "    </tr>\n",
       "    <tr>\n",
       "      <th>2005-02-01</th>\n",
       "      <td>1895.33</td>\n",
       "    </tr>\n",
       "    <tr>\n",
       "      <th>2005-03-01</th>\n",
       "      <td>1765.86</td>\n",
       "    </tr>\n",
       "    <tr>\n",
       "      <th>2005-04-01</th>\n",
       "      <td>1642.70</td>\n",
       "    </tr>\n",
       "    <tr>\n",
       "      <th>2005-05-01</th>\n",
       "      <td>1895.54</td>\n",
       "    </tr>\n",
       "    <tr>\n",
       "      <th>...</th>\n",
       "      <td>...</td>\n",
       "    </tr>\n",
       "    <tr>\n",
       "      <th>2021-05-01</th>\n",
       "      <td>4243.93</td>\n",
       "    </tr>\n",
       "    <tr>\n",
       "      <th>2021-06-01</th>\n",
       "      <td>4985.53</td>\n",
       "    </tr>\n",
       "    <tr>\n",
       "      <th>2021-07-01</th>\n",
       "      <td>4631.85</td>\n",
       "    </tr>\n",
       "    <tr>\n",
       "      <th>2021-08-01</th>\n",
       "      <td>4098.81</td>\n",
       "    </tr>\n",
       "    <tr>\n",
       "      <th>2021-09-01</th>\n",
       "      <td>4424.39</td>\n",
       "    </tr>\n",
       "  </tbody>\n",
       "</table>\n",
       "<p>201 rows × 1 columns</p>\n",
       "</div>"
      ],
      "text/plain": [
       "            Demanded_Gas\n",
       "Date                    \n",
       "2005-01-01       1819.58\n",
       "2005-02-01       1895.33\n",
       "2005-03-01       1765.86\n",
       "2005-04-01       1642.70\n",
       "2005-05-01       1895.54\n",
       "...                  ...\n",
       "2021-05-01       4243.93\n",
       "2021-06-01       4985.53\n",
       "2021-07-01       4631.85\n",
       "2021-08-01       4098.81\n",
       "2021-09-01       4424.39\n",
       "\n",
       "[201 rows x 1 columns]"
      ]
     },
     "execution_count": 63,
     "metadata": {},
     "output_type": "execute_result"
    }
   ],
   "source": [
    "demanda_electrico_original_train_para_tratamiento =demanda_electrico_original_train_data.copy()\n",
    "demanda_electrico_original_train_para_tratamiento"
   ]
  },
  {
   "cell_type": "code",
   "execution_count": 64,
   "metadata": {},
   "outputs": [
    {
     "data": {
      "text/plain": [
       "Date\n",
       "2005-01-01    1819.580000\n",
       "2005-02-01    1895.330000\n",
       "2005-03-01    1765.860000\n",
       "2005-04-01    2944.216952\n",
       "2005-05-01    1895.540000\n",
       "                 ...     \n",
       "2021-05-01    4243.930000\n",
       "2021-06-01    2944.216952\n",
       "2021-07-01    2944.216952\n",
       "2021-08-01    4098.810000\n",
       "2021-09-01    2944.216952\n",
       "Name: Demanded_Gas, Length: 201, dtype: float64"
      ]
     },
     "execution_count": 64,
     "metadata": {},
     "output_type": "execute_result"
    }
   ],
   "source": [
    "demanda_electrico_train_pretratamiento_media = remove_replace_outliers_media(demanda_electrico_original_train_para_tratamiento['Demanded_Gas'])\n",
    "demanda_electrico_train_pretratamiento_media"
   ]
  },
  {
   "cell_type": "code",
   "execution_count": 93,
   "metadata": {},
   "outputs": [
    {
     "data": {
      "text/plain": [
       "Text(0, 0.5, 'Demanda [MMpcd]')"
      ]
     },
     "execution_count": 93,
     "metadata": {},
     "output_type": "execute_result"
    },
    {
     "data": {
      "image/png": "[encoded data removed]",
      "text/plain": [
       "<Figure size 720x288 with 1 Axes>"
      ]
     },
     "metadata": {
      "needs_background": "light"
     },
     "output_type": "display_data"
    }
   ],
   "source": [
    "plt.figure(figsize=(10,4))\n",
    "plt.plot(demanda_electrico_original_train_data, color='#48C9B0')\n",
    "plt.plot(demanda_electrico_train_pretratamiento_media,color='#0B5345')\n",
    "plt.legend(('Data origial', 'Ajuste de atípicos por pretratamiento con media'))\n",
    "plt.title('Demanda de gas natural en el sector eléctrico en México \"Datos originales y atípicos tratados con la media\"', fontsize=20)\n",
    "plt.ylabel('Demanda [MMpcd]', fontsize =16)"
   ]
  },
  {
   "cell_type": "code",
   "execution_count": 66,
   "metadata": {},
   "outputs": [
    {
     "data": {
      "image/png": "[encoded data removed]",
      "text/plain": [
       "<Figure size 432x288 with 1 Axes>"
      ]
     },
     "metadata": {
      "needs_background": "light"
     },
     "output_type": "display_data"
    }
   ],
   "source": [
    "# Generate the histogram\n",
    "plt.hist(demanda_electrico_train_pretratamiento_media, bins=10)  # Adjust the number of bins as per your data\n",
    "\n",
    "# Add labels and title\n",
    "plt.xlabel('Value')\n",
    "plt.ylabel('Frequency')\n",
    "plt.title('Histograma de data de Demanda de gas natural en sector eléctrico \"Datos atípicos pretratados con la media artimetica\"')\n",
    "\n",
    "# Display the plot\n",
    "plt.show()"
   ]
  },
  {
   "cell_type": "markdown",
   "metadata": {},
   "source": [
    "Se lleva a cabo una prueba de normalidad a los datos de TRAIN de Demanda en sector eléctrico para el caso de pretratamiento con la media artimetica"
   ]
  },
  {
   "cell_type": "code",
   "execution_count": 67,
   "metadata": {},
   "outputs": [
    {
     "name": "stdout",
     "output_type": "stream",
     "text": [
      "La data SI sigue una distribución normal\n",
      "Jarque-Bera Statistic: 0.11247875673965152\n",
      "p-value: 0.9453128213619225\n"
     ]
    }
   ],
   "source": [
    "import scipy.stats as stats\n",
    "\n",
    "# Assuming demanda_electrico_original_train_data is a pandas Series or DataFrame\n",
    "# You can access the values as follows:\n",
    "data = demanda_electrico_train_pretratamiento_media.values\n",
    "\n",
    "# Perform the Jarque-Bera test\n",
    "jb_statistic, jb_p_value = stats.jarque_bera(data)\n",
    "\n",
    "# Check the p-value to determine whether the data follows a normal distribution\n",
    "alpha = 0.05  # Significance level\n",
    "if jb_p_value < alpha:\n",
    "    print(f\"La data NO sigue una distribución normal\")\n",
    "else:\n",
    "    print(\"La data SI sigue una distribución normal\")\n",
    "\n",
    "# Optionally, you can also print the JB statistic and p-value\n",
    "print(\"Jarque-Bera Statistic:\", jb_statistic)\n",
    "print(\"p-value:\", jb_p_value)"
   ]
  },
  {
   "cell_type": "markdown",
   "metadata": {},
   "source": [
    "Y se observa que en este caso el tratamiento de la data si ayudó a que la data de entrenamiento pasara la prueba Jarque-Bera de normalidad "
   ]
  },
  {
   "cell_type": "code",
   "execution_count": 68,
   "metadata": {},
   "outputs": [
    {
     "data": {
      "image/png": "[encoded data removed]",
      "text/plain": [
       "<Figure size 432x288 with 1 Axes>"
      ]
     },
     "metadata": {
      "needs_background": "light"
     },
     "output_type": "display_data"
    }
   ],
   "source": [
    "# Create a boxplot of the Demanded_Gas column\n",
    "plt.boxplot(demanda_electrico_train_pretratamiento_media)\n",
    "\n",
    "# Add labels and title\n",
    "plt.xlabel('Demanded_Gas')\n",
    "plt.ylabel('Frequency')\n",
    "plt.title('Distribución de datos de Demanda de gas natural en sector eléctrico \"Datos atípicos pretratados con la media artimetica\"')\n",
    "\n",
    "# Display the plot\n",
    "plt.show()"
   ]
  },
  {
   "cell_type": "markdown",
   "metadata": {},
   "source": [
    "#### Para la aplicación de RNN(LSTM) combiene escalar la data. Por lo que se define y entrena el MinMaxScaler (con la data de train)"
   ]
  },
  {
   "cell_type": "code",
   "execution_count": 70,
   "metadata": {},
   "outputs": [],
   "source": [
    "import numpy as np\n",
    "\n",
    "# Convert the Pandas Series to a NumPy array\n",
    "demanda_electrico_train_pretratamiento_media_array = demanda_electrico_train_pretratamiento_media.to_numpy()\n",
    "\n",
    "# Reshape the NumPy array\n",
    "demanda_electrico_train_pretratamiento_media_para_min_max = demanda_electrico_train_pretratamiento_media_array.reshape(-1, 1)"
   ]
  },
  {
   "cell_type": "code",
   "execution_count": 71,
   "metadata": {},
   "outputs": [
    {
     "data": {
      "text/html": [
       "<style>#sk-container-id-3 {color: black;background-color: white;}#sk-container-id-3 pre{padding: 0;}#sk-container-id-3 div.sk-toggleable {background-color: white;}#sk-container-id-3 label.sk-toggleable__label {cursor: pointer;display: block;width: 100%;margin-bottom: 0;padding: 0.3em;box-sizing: border-box;text-align: center;}#sk-container-id-3 label.sk-toggleable__label-arrow:before {content: \"▸\";float: left;margin-right: 0.25em;color: #696969;}#sk-container-id-3 label.sk-toggleable__label-arrow:hover:before {color: black;}#sk-container-id-3 div.sk-estimator:hover label.sk-toggleable__label-arrow:before {color: black;}#sk-container-id-3 div.sk-toggleable__content {max-height: 0;max-width: 0;overflow: hidden;text-align: left;background-color: #f0f8ff;}#sk-container-id-3 div.sk-toggleable__content pre {margin: 0.2em;color: black;border-radius: 0.25em;background-color: #f0f8ff;}#sk-container-id-3 input.sk-toggleable__control:checked~div.sk-toggleable__content {max-height: 200px;max-width: 100%;overflow: auto;}#sk-container-id-3 input.sk-toggleable__control:checked~label.sk-toggleable__label-arrow:before {content: \"▾\";}#sk-container-id-3 div.sk-estimator input.sk-toggleable__control:checked~label.sk-toggleable__label {background-color: #d4ebff;}#sk-container-id-3 div.sk-label input.sk-toggleable__control:checked~label.sk-toggleable__label {background-color: #d4ebff;}#sk-container-id-3 input.sk-hidden--visually {border: 0;clip: rect(1px 1px 1px 1px);clip: rect(1px, 1px, 1px, 1px);height: 1px;margin: -1px;overflow: hidden;padding: 0;position: absolute;width: 1px;}#sk-container-id-3 div.sk-estimator {font-family: monospace;background-color: #f0f8ff;border: 1px dotted black;border-radius: 0.25em;box-sizing: border-box;margin-bottom: 0.5em;}#sk-container-id-3 div.sk-estimator:hover {background-color: #d4ebff;}#sk-container-id-3 div.sk-parallel-item::after {content: \"\";width: 100%;border-bottom: 1px solid gray;flex-grow: 1;}#sk-container-id-3 div.sk-label:hover label.sk-toggleable__label {background-color: #d4ebff;}#sk-container-id-3 div.sk-serial::before {content: \"\";position: absolute;border-left: 1px solid gray;box-sizing: border-box;top: 0;bottom: 0;left: 50%;z-index: 0;}#sk-container-id-3 div.sk-serial {display: flex;flex-direction: column;align-items: center;background-color: white;padding-right: 0.2em;padding-left: 0.2em;position: relative;}#sk-container-id-3 div.sk-item {position: relative;z-index: 1;}#sk-container-id-3 div.sk-parallel {display: flex;align-items: stretch;justify-content: center;background-color: white;position: relative;}#sk-container-id-3 div.sk-item::before, #sk-container-id-3 div.sk-parallel-item::before {content: \"\";position: absolute;border-left: 1px solid gray;box-sizing: border-box;top: 0;bottom: 0;left: 50%;z-index: -1;}#sk-container-id-3 div.sk-parallel-item {display: flex;flex-direction: column;z-index: 1;position: relative;background-color: white;}#sk-container-id-3 div.sk-parallel-item:first-child::after {align-self: flex-end;width: 50%;}#sk-container-id-3 div.sk-parallel-item:last-child::after {align-self: flex-start;width: 50%;}#sk-container-id-3 div.sk-parallel-item:only-child::after {width: 0;}#sk-container-id-3 div.sk-dashed-wrapped {border: 1px dashed gray;margin: 0 0.4em 0.5em 0.4em;box-sizing: border-box;padding-bottom: 0.4em;background-color: white;}#sk-container-id-3 div.sk-label label {font-family: monospace;font-weight: bold;display: inline-block;line-height: 1.2em;}#sk-container-id-3 div.sk-label-container {text-align: center;}#sk-container-id-3 div.sk-container {/* jupyter's `normalize.less` sets `[hidden] { display: none; }` but bootstrap.min.css set `[hidden] { display: none !important; }` so we also need the `!important` here to be able to override the default hidden behavior on the sphinx rendered scikit-learn.org. See: https://github.com/scikit-learn/scikit-learn/issues/21755 */display: inline-block !important;position: relative;}#sk-container-id-3 div.sk-text-repr-fallback {display: none;}</style><div id=\"sk-container-id-3\" class=\"sk-top-container\"><div class=\"sk-text-repr-fallback\"><pre>MinMaxScaler()</pre><b>In a Jupyter environment, please rerun this cell to show the HTML representation or trust the notebook. <br />On GitHub, the HTML representation is unable to render, please try loading this page with nbviewer.org.</b></div><div class=\"sk-container\" hidden><div class=\"sk-item\"><div class=\"sk-estimator sk-toggleable\"><input class=\"sk-toggleable__control sk-hidden--visually\" id=\"sk-estimator-id-3\" type=\"checkbox\" checked><label for=\"sk-estimator-id-3\" class=\"sk-toggleable__label sk-toggleable__label-arrow\">MinMaxScaler</label><div class=\"sk-toggleable__content\"><pre>MinMaxScaler()</pre></div></div></div></div></div>"
      ],
      "text/plain": [
       "MinMaxScaler()"
      ]
     },
     "execution_count": 71,
     "metadata": {},
     "output_type": "execute_result"
    }
   ],
   "source": [
    "from sklearn.preprocessing import MinMaxScaler\n",
    "MinMax_scaler_electrico_pretratamiento_media = MinMaxScaler()\n",
    "MinMax_scaler_electrico_pretratamiento_media.fit(demanda_electrico_train_pretratamiento_media_para_min_max)"
   ]
  },
  {
   "cell_type": "markdown",
   "metadata": {},
   "source": [
    "Se aplica la escalación la data de train"
   ]
  },
  {
   "cell_type": "code",
   "execution_count": 72,
   "metadata": {},
   "outputs": [
    {
     "name": "stderr",
     "output_type": "stream",
     "text": [
      "c:\\Users\\Sergio\\AppData\\Local\\Programs\\Python\\Python310\\lib\\site-packages\\sklearn\\base.py:439: UserWarning: X does not have valid feature names, but MinMaxScaler was fitted with feature names\n",
      "  warnings.warn(\n"
     ]
    },
    {
     "data": {
      "text/plain": [
       "array([[0.07168816],\n",
       "       [0.09268731],\n",
       "       [0.0567961 ],\n",
       "       [0.38345599],\n",
       "       [0.09274552],\n",
       "       [0.13604118],\n",
       "       [0.11118319],\n",
       "       [0.09111549],\n",
       "       [0.04937779],\n",
       "       [0.03740758],\n",
       "       [0.38345599],\n",
       "       [0.38345599],\n",
       "       [0.38345599],\n",
       "       [0.06801505],\n",
       "       [0.1236108 ],\n",
       "       [0.15172886],\n",
       "       [0.20456354],\n",
       "       [0.23227963],\n",
       "       [0.2549393 ],\n",
       "       [0.23621611],\n",
       "       [0.20444988],\n",
       "       [0.1976359 ],\n",
       "       [0.15896421],\n",
       "       [0.12890563],\n",
       "       [0.15187856],\n",
       "       [0.12359139],\n",
       "       [0.19350815],\n",
       "       [0.13185522],\n",
       "       [0.2219949 ],\n",
       "       [0.27894624],\n",
       "       [0.2931425 ],\n",
       "       [0.28230888],\n",
       "       [0.26220515],\n",
       "       [0.30390127],\n",
       "       [0.28192632],\n",
       "       [0.25737049],\n",
       "       [0.27370963],\n",
       "       [0.31419986],\n",
       "       [0.28129981],\n",
       "       [0.28810548],\n",
       "       [0.27775144],\n",
       "       [0.31287199],\n",
       "       [0.28763698],\n",
       "       [0.27746314],\n",
       "       [0.23393184],\n",
       "       [0.26135964],\n",
       "       [0.25557967],\n",
       "       [0.22813248],\n",
       "       [0.22262419],\n",
       "       [0.22627513],\n",
       "       [0.2704856 ],\n",
       "       [0.28396663],\n",
       "       [0.3385755 ],\n",
       "       [0.33978416],\n",
       "       [0.36177297],\n",
       "       [0.38202362],\n",
       "       [0.38314912],\n",
       "       [0.32504456],\n",
       "       [0.30995013],\n",
       "       [0.29226927],\n",
       "       [0.24705527],\n",
       "       [0.23685093],\n",
       "       [0.24927577],\n",
       "       [0.3002032 ],\n",
       "       [0.36131833],\n",
       "       [0.39662739],\n",
       "       [0.37598031],\n",
       "       [0.35637279],\n",
       "       [0.27160555],\n",
       "       [0.27469097],\n",
       "       [0.30334406],\n",
       "       [0.31298842],\n",
       "       [0.30543705],\n",
       "       [0.32720408],\n",
       "       [0.34426675],\n",
       "       [0.34009464],\n",
       "       [0.38912314],\n",
       "       [0.41942012],\n",
       "       [0.4171414 ],\n",
       "       [0.40338315],\n",
       "       [0.34962811],\n",
       "       [0.30766587],\n",
       "       [0.28566874],\n",
       "       [0.30619939],\n",
       "       [0.32472299],\n",
       "       [0.31917589],\n",
       "       [0.33595857],\n",
       "       [0.29338645],\n",
       "       [0.38670304],\n",
       "       [0.43185605],\n",
       "       [0.4086863 ],\n",
       "       [0.42864034],\n",
       "       [0.40929063],\n",
       "       [0.33421488],\n",
       "       [0.3107097 ],\n",
       "       [0.2887902 ],\n",
       "       [0.34999404],\n",
       "       [0.36147634],\n",
       "       [0.33276504],\n",
       "       [0.36926058],\n",
       "       [0.43021215],\n",
       "       [0.47069129],\n",
       "       [0.46510538],\n",
       "       [0.48636511],\n",
       "       [0.48363453],\n",
       "       [0.4209254 ],\n",
       "       [0.35052907],\n",
       "       [0.33213299],\n",
       "       [0.35375032],\n",
       "       [0.38041577],\n",
       "       [0.39821584],\n",
       "       [0.44935395],\n",
       "       [0.45469868],\n",
       "       [0.46776943],\n",
       "       [0.41672558],\n",
       "       [0.50155103],\n",
       "       [0.55057675],\n",
       "       [0.47774368],\n",
       "       [0.41915954],\n",
       "       [0.38242282],\n",
       "       [0.45825537],\n",
       "       [0.48497626],\n",
       "       [0.48115621],\n",
       "       [0.42935556],\n",
       "       [0.46928304],\n",
       "       [0.49830759],\n",
       "       [0.5814642 ],\n",
       "       [0.51877171],\n",
       "       [0.54155335],\n",
       "       [0.51462178],\n",
       "       [0.48879353],\n",
       "       [0.53483917],\n",
       "       [0.43859518],\n",
       "       [0.40910212],\n",
       "       [0.44071311],\n",
       "       [0.47727518],\n",
       "       [0.43503572],\n",
       "       [0.55845524],\n",
       "       [0.56922787],\n",
       "       [0.55864652],\n",
       "       [0.527845  ],\n",
       "       [0.50467248],\n",
       "       [0.44533431],\n",
       "       [0.36561518],\n",
       "       [0.31324069],\n",
       "       [0.34776522],\n",
       "       [0.35406635],\n",
       "       [0.37508213],\n",
       "       [0.43192258],\n",
       "       [0.4693163 ],\n",
       "       [0.5350859 ],\n",
       "       [0.53524668],\n",
       "       [0.49308206],\n",
       "       [0.40368254],\n",
       "       [0.43645507],\n",
       "       [0.39437639],\n",
       "       [0.41041336],\n",
       "       [0.45071508],\n",
       "       [0.45529747],\n",
       "       [0.46060616],\n",
       "       [0.47385988],\n",
       "       [0.53189791],\n",
       "       [0.60713444],\n",
       "       [0.57099097],\n",
       "       [0.58308592],\n",
       "       [0.6111818 ],\n",
       "       [0.61300034],\n",
       "       [0.58643192],\n",
       "       [0.53755035],\n",
       "       [0.57844531],\n",
       "       [0.62283044],\n",
       "       [0.60697088],\n",
       "       [0.64189461],\n",
       "       [0.72735488],\n",
       "       [0.38345599],\n",
       "       [0.38345599],\n",
       "       [0.38345599],\n",
       "       [0.40929895],\n",
       "       [0.42016029],\n",
       "       [0.38425244],\n",
       "       [0.51049126],\n",
       "       [0.51049126],\n",
       "       [0.62604337],\n",
       "       [0.74135154],\n",
       "       [0.38345599],\n",
       "       [0.38345599],\n",
       "       [0.38345599],\n",
       "       [0.72153611],\n",
       "       [0.38345599],\n",
       "       [0.64003449],\n",
       "       [0.67506632],\n",
       "       [0.65981388],\n",
       "       [0.48164966],\n",
       "       [0.52483443],\n",
       "       [0.58778751],\n",
       "       [0.7051942 ],\n",
       "       [0.74375778],\n",
       "       [0.38345599],\n",
       "       [0.38345599],\n",
       "       [0.70352813],\n",
       "       [0.38345599]])"
      ]
     },
     "execution_count": 72,
     "metadata": {},
     "output_type": "execute_result"
    }
   ],
   "source": [
    "demanda_electrico_train_pretratamiento_media_scaled = MinMax_scaler.transform(demanda_electrico_train_pretratamiento_media_para_min_max)\n",
    "demanda_electrico_train_pretratamiento_media_scaled"
   ]
  },
  {
   "cell_type": "markdown",
   "metadata": {},
   "source": []
  },
  {
   "cell_type": "markdown",
   "metadata": {},
   "source": [
    "Se generan sets de n_input datos para con ellos predecir el t+1 dato, y así los siguientes n_input para predecir el t+1, etc "
   ]
  },
  {
   "cell_type": "code",
   "execution_count": 73,
   "metadata": {},
   "outputs": [],
   "source": [
    "n_input = 24\n",
    "\n",
    "data = demanda_electrico_train_pretratamiento_media_scaled\n",
    "targets = data \n",
    "\n",
    "demanda_electrico_train_generator_pretratamiento_media_scaled = TimeseriesGenerator(data, targets, length=n_input, batch_size=1)\n"
   ]
  },
  {
   "cell_type": "code",
   "execution_count": 74,
   "metadata": {},
   "outputs": [
    {
     "data": {
      "text/plain": [
       "(array([[[0.07168816],\n",
       "         [0.09268731],\n",
       "         [0.0567961 ],\n",
       "         [0.38345599],\n",
       "         [0.09274552],\n",
       "         [0.13604118],\n",
       "         [0.11118319],\n",
       "         [0.09111549],\n",
       "         [0.04937779],\n",
       "         [0.03740758],\n",
       "         [0.38345599],\n",
       "         [0.38345599],\n",
       "         [0.38345599],\n",
       "         [0.06801505],\n",
       "         [0.1236108 ],\n",
       "         [0.15172886],\n",
       "         [0.20456354],\n",
       "         [0.23227963],\n",
       "         [0.2549393 ],\n",
       "         [0.23621611],\n",
       "         [0.20444988],\n",
       "         [0.1976359 ],\n",
       "         [0.15896421],\n",
       "         [0.12890563]]]),\n",
       " array([[0.15187856]]))"
      ]
     },
     "execution_count": 74,
     "metadata": {},
     "output_type": "execute_result"
    }
   ],
   "source": [
    "demanda_electrico_train_generator_pretratamiento_media_scaled[0]"
   ]
  },
  {
   "cell_type": "markdown",
   "metadata": {},
   "source": [
    "Y entonces el numero de muestras formadas con el TimeseriesGenerator = Numero de elementos de array original - n_input"
   ]
  },
  {
   "cell_type": "code",
   "execution_count": 75,
   "metadata": {},
   "outputs": [
    {
     "name": "stdout",
     "output_type": "stream",
     "text": [
      "Total number of samples in the original training data =  201\n",
      "Total number of samples in the demanda_electrico_scaled_train_generator =  177\n"
     ]
    }
   ],
   "source": [
    "print(\"Total number of samples in the original training data = \", len(demanda_electrico_train_pretratamiento_media)) \n",
    "print(\"Total number of samples in the demanda_electrico_scaled_train_generator = \", len(demanda_electrico_train_generator_pretratamiento_media_scaled))"
   ]
  },
  {
   "cell_type": "markdown",
   "metadata": {},
   "source": [
    "Se define la red neuronal sequencial LSTM con capas densas y funcion de activación tipo RELU.  "
   ]
  },
  {
   "cell_type": "code",
   "execution_count": 76,
   "metadata": {},
   "outputs": [],
   "source": [
    "import numpy as np\n",
    "import tensorflow as tf\n",
    "\n",
    "# Set a seed for numpy random number generation\n",
    "np.random.seed(0)\n",
    "\n",
    "# Set a seed for TensorFlow random number generation\n",
    "tf.random.set_seed(0)"
   ]
  },
  {
   "cell_type": "code",
   "execution_count": 77,
   "metadata": {},
   "outputs": [],
   "source": [
    "n_input = 24\n",
    "n_features = 1\n",
    "\n",
    "# define model\n",
    "model_LSTM_electrico_pretratamiento_media_scaled = Sequential()\n",
    "model_LSTM_electrico_pretratamiento_media_scaled.add(LSTM(100, activation='relu', input_shape=(n_input, n_features)))\n",
    "model_LSTM_electrico_pretratamiento_media_scaled.add(Dense(1))\n",
    "model_LSTM_electrico_pretratamiento_media_scaled.compile(optimizer='adam', loss='mse')"
   ]
  },
  {
   "cell_type": "code",
   "execution_count": 78,
   "metadata": {},
   "outputs": [
    {
     "name": "stdout",
     "output_type": "stream",
     "text": [
      "Model: \"sequential_2\"\n",
      "_________________________________________________________________\n",
      " Layer (type)                Output Shape              Param #   \n",
      "=================================================================\n",
      " lstm_2 (LSTM)               (None, 100)               40800     \n",
      "                                                                 \n",
      " dense_2 (Dense)             (None, 1)                 101       \n",
      "                                                                 \n",
      "=================================================================\n",
      "Total params: 40901 (159.77 KB)\n",
      "Trainable params: 40901 (159.77 KB)\n",
      "Non-trainable params: 0 (0.00 Byte)\n",
      "_________________________________________________________________\n"
     ]
    }
   ],
   "source": [
    "model_LSTM_electrico_pretratamiento_media_scaled.summary()"
   ]
  },
  {
   "cell_type": "markdown",
   "metadata": {},
   "source": [
    "Entrenamos el modelo  Feed Forward Sequential Neural Network con el demanda_electrico_scaled_train_generator.\n",
    "Es decir se está entrenando al modelo para que con los valores de entrenamiento \"ajuste sus pesos y bias\" de manera que se esté tomando n_inputs como \"variables predictoas\" y el +1 valor después de los n_input como variable dependiente Y. y asñi se va recorriendo el n_input. De manera que se tienen n_total_elementos_en_train - n_input valores de entrada de tamaño n_input y n_total_elementos_en_train - n_input valores de salida de tamaño 1 (Representando la Y calculada)  "
   ]
  },
  {
   "cell_type": "code",
   "execution_count": 79,
   "metadata": {},
   "outputs": [
    {
     "name": "stdout",
     "output_type": "stream",
     "text": [
      "Epoch 1/25\n"
     ]
    },
    {
     "name": "stdout",
     "output_type": "stream",
     "text": [
      "177/177 [==============================] - 4s 9ms/step - loss: 0.0227\n",
      "Epoch 2/25\n",
      "177/177 [==============================] - 1s 8ms/step - loss: 0.0077\n",
      "Epoch 3/25\n",
      "177/177 [==============================] - 1s 8ms/step - loss: 0.0078\n",
      "Epoch 4/25\n",
      "177/177 [==============================] - 1s 8ms/step - loss: 0.0077\n",
      "Epoch 5/25\n",
      "177/177 [==============================] - 1s 7ms/step - loss: 0.0080\n",
      "Epoch 6/25\n",
      "177/177 [==============================] - 1s 7ms/step - loss: 0.0080\n",
      "Epoch 7/25\n",
      "177/177 [==============================] - 1s 7ms/step - loss: 0.0073\n",
      "Epoch 8/25\n",
      "177/177 [==============================] - 1s 7ms/step - loss: 0.0072\n",
      "Epoch 9/25\n",
      "177/177 [==============================] - 1s 8ms/step - loss: 0.0070\n",
      "Epoch 10/25\n",
      "177/177 [==============================] - 1s 7ms/step - loss: 0.0074\n",
      "Epoch 11/25\n",
      "177/177 [==============================] - 1s 7ms/step - loss: 0.0067\n",
      "Epoch 12/25\n",
      "177/177 [==============================] - 1s 8ms/step - loss: 0.0067\n",
      "Epoch 13/25\n",
      "177/177 [==============================] - 1s 7ms/step - loss: 0.0066\n",
      "Epoch 14/25\n",
      "177/177 [==============================] - 1s 8ms/step - loss: 0.0069\n",
      "Epoch 15/25\n",
      "177/177 [==============================] - 1s 7ms/step - loss: 0.0066\n",
      "Epoch 16/25\n",
      "177/177 [==============================] - 1s 7ms/step - loss: 0.0066\n",
      "Epoch 17/25\n",
      "177/177 [==============================] - 1s 8ms/step - loss: 0.0066\n",
      "Epoch 18/25\n",
      "177/177 [==============================] - 1s 7ms/step - loss: 0.0062\n",
      "Epoch 19/25\n",
      "177/177 [==============================] - 1s 7ms/step - loss: 0.0064\n",
      "Epoch 20/25\n",
      "177/177 [==============================] - 1s 7ms/step - loss: 0.0066\n",
      "Epoch 21/25\n",
      "177/177 [==============================] - 1s 7ms/step - loss: 0.0064\n",
      "Epoch 22/25\n",
      "177/177 [==============================] - 1s 7ms/step - loss: 0.0060\n",
      "Epoch 23/25\n",
      "177/177 [==============================] - 1s 8ms/step - loss: 0.0058\n",
      "Epoch 24/25\n",
      "177/177 [==============================] - 1s 7ms/step - loss: 0.0060\n",
      "Epoch 25/25\n",
      "177/177 [==============================] - 1s 7ms/step - loss: 0.0059\n"
     ]
    },
    {
     "data": {
      "text/plain": [
       "<keras.src.callbacks.History at 0x1b3f158bf40>"
      ]
     },
     "execution_count": 79,
     "metadata": {},
     "output_type": "execute_result"
    }
   ],
   "source": [
    "model_LSTM_electrico_pretratamiento_media_scaled.fit(demanda_electrico_train_generator_pretratamiento_media_scaled, epochs=15)"
   ]
  },
  {
   "cell_type": "markdown",
   "metadata": {},
   "source": [
    "Se grafica la perdida por epoch "
   ]
  },
  {
   "cell_type": "code",
   "execution_count": 80,
   "metadata": {},
   "outputs": [
    {
     "data": {
      "text/plain": [
       "[<matplotlib.lines.Line2D at 0x1b3f606d1b0>]"
      ]
     },
     "execution_count": 80,
     "metadata": {},
     "output_type": "execute_result"
    },
    {
     "data": {
      "image/png": "[encoded data removed]",
      "text/plain": [
       "<Figure size 432x288 with 1 Axes>"
      ]
     },
     "metadata": {
      "needs_background": "light"
     },
     "output_type": "display_data"
    }
   ],
   "source": [
    "loss_per_epoch = model_LSTM_electrico_pretratamiento_media_scaled.history.history['loss']\n",
    "plt.plot(range(len(loss_per_epoch)),loss_per_epoch)"
   ]
  },
  {
   "cell_type": "markdown",
   "metadata": {},
   "source": [
    "Se lleva a cabo el forecast de los ultimos 12 meses usando el modelo model_sequential_and_FF previamente definido y entrenado"
   ]
  },
  {
   "cell_type": "markdown",
   "metadata": {},
   "source": [
    "Se toman los **ULTIMOS** n_input elementos de los **datos de train** y se almacenan en un batch"
   ]
  },
  {
   "cell_type": "code",
   "execution_count": 81,
   "metadata": {},
   "outputs": [
    {
     "data": {
      "text/plain": [
       "array([[0.40929895],\n",
       "       [0.42016029],\n",
       "       [0.38425244],\n",
       "       [0.51049126],\n",
       "       [0.51049126],\n",
       "       [0.62604337],\n",
       "       [0.74135154],\n",
       "       [0.38345599],\n",
       "       [0.38345599],\n",
       "       [0.38345599],\n",
       "       [0.72153611],\n",
       "       [0.38345599],\n",
       "       [0.64003449],\n",
       "       [0.67506632],\n",
       "       [0.65981388],\n",
       "       [0.48164966],\n",
       "       [0.52483443],\n",
       "       [0.58778751],\n",
       "       [0.7051942 ],\n",
       "       [0.74375778],\n",
       "       [0.38345599],\n",
       "       [0.38345599],\n",
       "       [0.70352813],\n",
       "       [0.38345599]])"
      ]
     },
     "execution_count": 81,
     "metadata": {},
     "output_type": "execute_result"
    }
   ],
   "source": [
    "demanda_electrico_train_batch_pretratamiento_media_scaled = demanda_electrico_train_pretratamiento_media_scaled[-n_input:]\n",
    "\n",
    "\n",
    "demanda_electrico_train_batch_pretratamiento_media_scaled"
   ]
  },
  {
   "cell_type": "markdown",
   "metadata": {},
   "source": [
    "Se reescala el batch de los datos de train a que tenga la misma forma que los datos con que se entrenó el modelo que fueron  1, input_shape=(n_input, n_features)"
   ]
  },
  {
   "cell_type": "code",
   "execution_count": 82,
   "metadata": {},
   "outputs": [
    {
     "data": {
      "text/plain": [
       "array([[[0.40929895],\n",
       "        [0.42016029],\n",
       "        [0.38425244],\n",
       "        [0.51049126],\n",
       "        [0.51049126],\n",
       "        [0.62604337],\n",
       "        [0.74135154],\n",
       "        [0.38345599],\n",
       "        [0.38345599],\n",
       "        [0.38345599],\n",
       "        [0.72153611],\n",
       "        [0.38345599],\n",
       "        [0.64003449],\n",
       "        [0.67506632],\n",
       "        [0.65981388],\n",
       "        [0.48164966],\n",
       "        [0.52483443],\n",
       "        [0.58778751],\n",
       "        [0.7051942 ],\n",
       "        [0.74375778],\n",
       "        [0.38345599],\n",
       "        [0.38345599],\n",
       "        [0.70352813],\n",
       "        [0.38345599]]])"
      ]
     },
     "execution_count": 82,
     "metadata": {},
     "output_type": "execute_result"
    }
   ],
   "source": [
    "demanda_electrico_train_batch_pretratamiento_media_scaled_reshaped = demanda_electrico_train_batch_pretratamiento_media_scaled.reshape(1,n_input, n_features)\n",
    "demanda_electrico_train_batch_pretratamiento_media_scaled_reshaped"
   ]
  },
  {
   "cell_type": "markdown",
   "metadata": {},
   "source": [
    "Intentamos predecir el sigueinte valor dado el primet batch de n_input. Esto equivaldria a predecir el primer valor de los datos de test (PUES SE ESTÁN TOMANDO EXACTAMENTE LOS ULTIMOS VALORES DE LOS DATOS DE TRAIN EN EL BATCH), dados los n_input anteriores (QUE FORMAN BARTE DEL BATCH)"
   ]
  },
  {
   "cell_type": "code",
   "execution_count": 83,
   "metadata": {},
   "outputs": [
    {
     "name": "stdout",
     "output_type": "stream",
     "text": [
      "1/1 [==============================] - 0s 192ms/step\n"
     ]
    },
    {
     "data": {
      "text/plain": [
       "array([[0.49043566]], dtype=float32)"
      ]
     },
     "execution_count": 83,
     "metadata": {},
     "output_type": "execute_result"
    }
   ],
   "source": [
    "model_LSTM_electrico_pretratamiento_media_scaled.predict(demanda_electrico_train_batch_pretratamiento_media_scaled_reshaped)"
   ]
  },
  {
   "cell_type": "markdown",
   "metadata": {},
   "source": [
    "Y se compara el valor de forecast del modelo LSTM + pretratamiento media + normalizacion con los datos de test de la demanda de gas natural en sector eléctrico"
   ]
  },
  {
   "cell_type": "code",
   "execution_count": 84,
   "metadata": {},
   "outputs": [
    {
     "data": {
      "text/plain": [
       "array([0.791877])"
      ]
     },
     "execution_count": 84,
     "metadata": {},
     "output_type": "execute_result"
    }
   ],
   "source": [
    "demanda_electrico_original_test_scaled[0]"
   ]
  },
  {
   "cell_type": "markdown",
   "metadata": {},
   "source": [
    "Ahora ser hará una función que irá formando batch de n_input para ir prediciendo el siguiente valor, tal como se hizo en el entrenamiento del modelo"
   ]
  },
  {
   "cell_type": "code",
   "execution_count": 85,
   "metadata": {},
   "outputs": [],
   "source": [
    "n_input = 24\n",
    "n_features = 1"
   ]
  },
  {
   "cell_type": "code",
   "execution_count": 86,
   "metadata": {},
   "outputs": [
    {
     "name": "stdout",
     "output_type": "stream",
     "text": [
      "1/1 [==============================] - 0s 30ms/step\n"
     ]
    },
    {
     "name": "stdout",
     "output_type": "stream",
     "text": [
      "1/1 [==============================] - 0s 35ms/step\n",
      "1/1 [==============================] - 0s 42ms/step\n",
      "1/1 [==============================] - 0s 29ms/step\n",
      "1/1 [==============================] - 0s 22ms/step\n",
      "1/1 [==============================] - 0s 36ms/step\n",
      "1/1 [==============================] - 0s 119ms/step\n",
      "1/1 [==============================] - 0s 26ms/step\n",
      "1/1 [==============================] - 0s 25ms/step\n",
      "1/1 [==============================] - 0s 26ms/step\n",
      "1/1 [==============================] - 0s 21ms/step\n",
      "1/1 [==============================] - 0s 32ms/step\n"
     ]
    }
   ],
   "source": [
    "test_predictions_model_LSTM_electrico_pretratamiento_media_scaled  = []\n",
    "\n",
    "first_eval_batch = demanda_electrico_train_pretratamiento_media_scaled[-n_input:]\n",
    "current_batch = first_eval_batch.reshape((1, n_input, n_features))\n",
    "\n",
    "for i in range(len(demanda_electrico_original_test_scaled)):\n",
    "    \n",
    "    # get the prediction value for the first batch\n",
    "    current_pred = model_LSTM_electrico_pretratamiento_media_scaled.predict(current_batch)[0]\n",
    "    \n",
    "    # append the prediction into the array\n",
    "    test_predictions_model_LSTM_electrico_pretratamiento_media_scaled.append(current_pred) \n",
    "    \n",
    "    # use the prediction to update the batch and remove the first value\n",
    "    current_batch = np.append(current_batch[:,1:,:],[[current_pred]],axis=1)"
   ]
  },
  {
   "cell_type": "code",
   "execution_count": 87,
   "metadata": {},
   "outputs": [
    {
     "data": {
      "text/plain": [
       "[array([0.49043566], dtype=float32),\n",
       " array([0.5317743], dtype=float32),\n",
       " array([0.55598843], dtype=float32),\n",
       " array([0.5713379], dtype=float32),\n",
       " array([0.58135146], dtype=float32),\n",
       " array([0.5881499], dtype=float32),\n",
       " array([0.5927821], dtype=float32),\n",
       " array([0.5966604], dtype=float32),\n",
       " array([0.60101014], dtype=float32),\n",
       " array([0.6054071], dtype=float32),\n",
       " array([0.6096313], dtype=float32),\n",
       " array([0.61365694], dtype=float32)]"
      ]
     },
     "execution_count": 87,
     "metadata": {},
     "output_type": "execute_result"
    }
   ],
   "source": [
    "test_predictions_model_LSTM_electrico_pretratamiento_media_scaled "
   ]
  },
  {
   "cell_type": "code",
   "execution_count": 88,
   "metadata": {},
   "outputs": [
    {
     "data": {
      "text/plain": [
       "array([[3330.12365155],\n",
       "       [3479.24405136],\n",
       "       [3566.59150718],\n",
       "       [3621.96141647],\n",
       "       [3658.08330463],\n",
       "       [3682.60727155],\n",
       "       [3699.31686999],\n",
       "       [3713.30700628],\n",
       "       [3728.99788147],\n",
       "       [3744.85904557],\n",
       "       [3760.09689208],\n",
       "       [3774.61853615]])"
      ]
     },
     "execution_count": 88,
     "metadata": {},
     "output_type": "execute_result"
    }
   ],
   "source": [
    "test_predictions_model_LSTM_electrico_pretratamiento_media_rescaled = MinMax_scaler.inverse_transform(test_predictions_model_LSTM_electrico_pretratamiento_media_scaled)\n",
    "test_predictions_model_LSTM_electrico_pretratamiento_media_rescaled"
   ]
  },
  {
   "cell_type": "markdown",
   "metadata": {},
   "source": [
    "Separamos la Demanda de gas natural ORIGINAL en el sector eléctrico en data de train y test"
   ]
  },
  {
   "cell_type": "code",
   "execution_count": 89,
   "metadata": {},
   "outputs": [
    {
     "data": {
      "text/html": [
       "<div>\n",
       "<style scoped>\n",
       "    .dataframe tbody tr th:only-of-type {\n",
       "        vertical-align: middle;\n",
       "    }\n",
       "\n",
       "    .dataframe tbody tr th {\n",
       "        vertical-align: top;\n",
       "    }\n",
       "\n",
       "    .dataframe thead th {\n",
       "        text-align: right;\n",
       "    }\n",
       "</style>\n",
       "<table border=\"1\" class=\"dataframe\">\n",
       "  <thead>\n",
       "    <tr style=\"text-align: right;\">\n",
       "      <th></th>\n",
       "      <th>Demanded_Gas</th>\n",
       "    </tr>\n",
       "    <tr>\n",
       "      <th>Date</th>\n",
       "      <th></th>\n",
       "    </tr>\n",
       "  </thead>\n",
       "  <tbody>\n",
       "    <tr>\n",
       "      <th>2005-01-01</th>\n",
       "      <td>1819.58</td>\n",
       "    </tr>\n",
       "    <tr>\n",
       "      <th>2005-02-01</th>\n",
       "      <td>1895.33</td>\n",
       "    </tr>\n",
       "    <tr>\n",
       "      <th>2005-03-01</th>\n",
       "      <td>1765.86</td>\n",
       "    </tr>\n",
       "    <tr>\n",
       "      <th>2005-04-01</th>\n",
       "      <td>1642.70</td>\n",
       "    </tr>\n",
       "    <tr>\n",
       "      <th>2005-05-01</th>\n",
       "      <td>1895.54</td>\n",
       "    </tr>\n",
       "    <tr>\n",
       "      <th>...</th>\n",
       "      <td>...</td>\n",
       "    </tr>\n",
       "    <tr>\n",
       "      <th>2021-05-01</th>\n",
       "      <td>4243.93</td>\n",
       "    </tr>\n",
       "    <tr>\n",
       "      <th>2021-06-01</th>\n",
       "      <td>4985.53</td>\n",
       "    </tr>\n",
       "    <tr>\n",
       "      <th>2021-07-01</th>\n",
       "      <td>4631.85</td>\n",
       "    </tr>\n",
       "    <tr>\n",
       "      <th>2021-08-01</th>\n",
       "      <td>4098.81</td>\n",
       "    </tr>\n",
       "    <tr>\n",
       "      <th>2021-09-01</th>\n",
       "      <td>4424.39</td>\n",
       "    </tr>\n",
       "  </tbody>\n",
       "</table>\n",
       "<p>201 rows × 1 columns</p>\n",
       "</div>"
      ],
      "text/plain": [
       "            Demanded_Gas\n",
       "Date                    \n",
       "2005-01-01       1819.58\n",
       "2005-02-01       1895.33\n",
       "2005-03-01       1765.86\n",
       "2005-04-01       1642.70\n",
       "2005-05-01       1895.54\n",
       "...                  ...\n",
       "2021-05-01       4243.93\n",
       "2021-06-01       4985.53\n",
       "2021-07-01       4631.85\n",
       "2021-08-01       4098.81\n",
       "2021-09-01       4424.39\n",
       "\n",
       "[201 rows x 1 columns]"
      ]
     },
     "execution_count": 89,
     "metadata": {},
     "output_type": "execute_result"
    }
   ],
   "source": [
    "# Number of data points to keep for testing (in this case, the last 12)\n",
    "num_test_points = 12\n",
    "\n",
    "# Split the data into training and testing sets\n",
    "demanda_electrico_original_train_data = csv_demanda_electrico_original[:-num_test_points]\n",
    "demanda_electrico_original_test_data = csv_demanda_electrico_original[-num_test_points:]\n",
    "\n",
    "demanda_electrico_original_train_data"
   ]
  },
  {
   "cell_type": "code",
   "execution_count": null,
   "metadata": {},
   "outputs": [
    {
     "data": {
      "text/plain": [
       "array([4417.51, 4557.36, 4538.89, 3320.75, 3449.8 , 3206.96, 3403.44,\n",
       "       3350.03, 3498.7 , 3350.97, 3506.42, 3778.37])"
      ]
     },
     "execution_count": 83,
     "metadata": {},
     "output_type": "execute_result"
    }
   ],
   "source": [
    "demanda_electrico_original_test_data['Demanded_Gas'].values"
   ]
  },
  {
   "cell_type": "code",
   "execution_count": 90,
   "metadata": {},
   "outputs": [
    {
     "data": {
      "text/plain": [
       "Text(0, 0.5, 'Demanda [MMpcd]')"
      ]
     },
     "execution_count": 90,
     "metadata": {},
     "output_type": "execute_result"
    },
    {
     "data": {
      "image/png": "[encoded data removed]",
      "text/plain": [
       "<Figure size 720x288 with 1 Axes>"
      ]
     },
     "metadata": {
      "needs_background": "light"
     },
     "output_type": "display_data"
    }
   ],
   "source": [
    "##Ploting the predicitons vs the test_data\n",
    "plt.figure(figsize =(10,4))\n",
    "plt.plot(demanda_electrico_original_test_data['Demanded_Gas'].values, color='brown')\n",
    "plt.plot(test_predictions_model_LSTM_electrico_pretratamiento_media_rescaled , color='#0B5345')\n",
    "plt.legend(('Data', 'Predictions'), fontsize=16)\n",
    "plt.legend(('Data origial', 'Forecast con modelo FF pretratamiento de atipicos con media + normalización'))\n",
    "\n",
    "plt.title('Demanda sector electrico con modelo LSTM con pretratamiento (media + normalización)', fontsize=20)\n",
    "plt.ylabel('Demanda [MMpcd]', fontsize=16)"
   ]
  },
  {
   "cell_type": "code",
   "execution_count": 91,
   "metadata": {},
   "outputs": [
    {
     "name": "stdout",
     "output_type": "stream",
     "text": [
      "MAPE: 0.12070130009254114\n",
      "RMSE: 587.5459589794242\n"
     ]
    }
   ],
   "source": [
    "from sklearn.metrics import mean_absolute_percentage_error, mean_squared_error\n",
    "import numpy as np\n",
    "\n",
    "# Compute errors\n",
    "MAPE_test_predictions_model_LSTM_electrico_pretratamiento_media_scaled = mean_absolute_percentage_error(demanda_electrico_original_test_data['Demanded_Gas'].values, test_predictions_model_LSTM_electrico_pretratamiento_media_rescaled)\n",
    "RMSE_test_predictions_model_LSTM_electrico_pretratamiento_media_scaled = np.sqrt(mean_squared_error(demanda_electrico_original_test_data['Demanded_Gas'].values, test_predictions_model_LSTM_electrico_pretratamiento_media_rescaled))\n",
    "\n",
    "print('MAPE:', MAPE_test_predictions_model_LSTM_electrico_pretratamiento_media_scaled)\n",
    "print('RMSE:', RMSE_test_predictions_model_LSTM_electrico_pretratamiento_media_scaled)"
   ]
  },
  {
   "cell_type": "markdown",
   "metadata": {},
   "source": [
    "Se muestra la comparación del forecast de demanda electrico con modelo FFNN entre train data sin pretratamiento y con pretratamiento de atípicos con la media"
   ]
  },
  {
   "cell_type": "code",
   "execution_count": 92,
   "metadata": {},
   "outputs": [
    {
     "data": {
      "text/plain": [
       "Text(0, 0.5, 'Demanda [MMpcd]')"
      ]
     },
     "execution_count": 92,
     "metadata": {},
     "output_type": "execute_result"
    },
    {
     "data": {
      "image/png": "[encoded data removed]",
      "text/plain": [
       "<Figure size 720x288 with 1 Axes>"
      ]
     },
     "metadata": {
      "needs_background": "light"
     },
     "output_type": "display_data"
    }
   ],
   "source": [
    "##Ploting the predicitons vs the test_data\n",
    "plt.figure(figsize =(10,4))\n",
    "plt.plot(demanda_electrico_original_test_data['Demanded_Gas'].values, color='brown')\n",
    "plt.plot(test_predictions_model_LSTM_electrico_pretratamiento_media_rescaled , color='#0B5345')\n",
    "plt.plot(test_predictions_model_LSTM_electrico_rescaled, color='#48C9B0')\n",
    "plt.legend(('Data', 'Predictions'), fontsize=16)\n",
    "plt.legend(('Data origial', 'Forecast con modelo LSTM y pretratamiento de atipicos con media + normalización', 'Forecast con modelo LSTM sin pretratamiento'))\n",
    "\n",
    "plt.title('Demanda sector electrico con modelo LSTM sin pretratamiento y con pretratamiento (media + normalización)', fontsize=20)\n",
    "plt.ylabel('Demanda [MMpcd]', fontsize=16)"
   ]
  },
  {
   "cell_type": "markdown",
   "metadata": {},
   "source": [
    "## Proceso de Pretratamiento Ajuste de valores atípicos por mediana "
   ]
  },
  {
   "cell_type": "code",
   "execution_count": 90,
   "metadata": {},
   "outputs": [],
   "source": [
    "import numpy as np\n",
    "import tensorflow as tf\n",
    "\n",
    "# Set a seed for numpy random number generation\n",
    "np.random.seed(0)\n",
    "\n",
    "# Set a seed for TensorFlow random number generation\n",
    "tf.random.set_seed(0)"
   ]
  },
  {
   "cell_type": "code",
   "execution_count": 89,
   "metadata": {},
   "outputs": [],
   "source": [
    "outlier_threshold = 1.2\n",
    "\n",
    "import pandas as pd\n",
    "\n",
    "def remove_replace_outliers_mediana(data):\n",
    "    # Calculate Q1 and Q3\n",
    "    Q1 = data.quantile(0.25)\n",
    "    Q3 = data.quantile(0.75)\n",
    "    IQR = Q3 - Q1\n",
    "\n",
    "    # Identify outliers\n",
    "    outliers_mask = (data < (Q1 - outlier_threshold * IQR)) | (data > (Q3 + outlier_threshold * IQR))\n",
    "\n",
    "    # Calculate the historical meadian excluding outliers\n",
    "    historical_median = np.median(data[~outliers_mask])\n",
    "\n",
    "    # Replace outliers with historical mean\n",
    "    data.loc[outliers_mask] = historical_median\n",
    "\n",
    "    return data"
   ]
  },
  {
   "cell_type": "code",
   "execution_count": 87,
   "metadata": {},
   "outputs": [
    {
     "data": {
      "text/html": [
       "<div>\n",
       "<style scoped>\n",
       "    .dataframe tbody tr th:only-of-type {\n",
       "        vertical-align: middle;\n",
       "    }\n",
       "\n",
       "    .dataframe tbody tr th {\n",
       "        vertical-align: top;\n",
       "    }\n",
       "\n",
       "    .dataframe thead th {\n",
       "        text-align: right;\n",
       "    }\n",
       "</style>\n",
       "<table border=\"1\" class=\"dataframe\">\n",
       "  <thead>\n",
       "    <tr style=\"text-align: right;\">\n",
       "      <th></th>\n",
       "      <th>Demanded_Gas</th>\n",
       "    </tr>\n",
       "    <tr>\n",
       "      <th>Date</th>\n",
       "      <th></th>\n",
       "    </tr>\n",
       "  </thead>\n",
       "  <tbody>\n",
       "    <tr>\n",
       "      <th>2005-01-01</th>\n",
       "      <td>1819.58</td>\n",
       "    </tr>\n",
       "    <tr>\n",
       "      <th>2005-02-01</th>\n",
       "      <td>1895.33</td>\n",
       "    </tr>\n",
       "    <tr>\n",
       "      <th>2005-03-01</th>\n",
       "      <td>1765.86</td>\n",
       "    </tr>\n",
       "    <tr>\n",
       "      <th>2005-04-01</th>\n",
       "      <td>1642.70</td>\n",
       "    </tr>\n",
       "    <tr>\n",
       "      <th>2005-05-01</th>\n",
       "      <td>1895.54</td>\n",
       "    </tr>\n",
       "    <tr>\n",
       "      <th>...</th>\n",
       "      <td>...</td>\n",
       "    </tr>\n",
       "    <tr>\n",
       "      <th>2021-05-01</th>\n",
       "      <td>4243.93</td>\n",
       "    </tr>\n",
       "    <tr>\n",
       "      <th>2021-06-01</th>\n",
       "      <td>4985.53</td>\n",
       "    </tr>\n",
       "    <tr>\n",
       "      <th>2021-07-01</th>\n",
       "      <td>4631.85</td>\n",
       "    </tr>\n",
       "    <tr>\n",
       "      <th>2021-08-01</th>\n",
       "      <td>4098.81</td>\n",
       "    </tr>\n",
       "    <tr>\n",
       "      <th>2021-09-01</th>\n",
       "      <td>4424.39</td>\n",
       "    </tr>\n",
       "  </tbody>\n",
       "</table>\n",
       "<p>201 rows × 1 columns</p>\n",
       "</div>"
      ],
      "text/plain": [
       "            Demanded_Gas\n",
       "Date                    \n",
       "2005-01-01       1819.58\n",
       "2005-02-01       1895.33\n",
       "2005-03-01       1765.86\n",
       "2005-04-01       1642.70\n",
       "2005-05-01       1895.54\n",
       "...                  ...\n",
       "2021-05-01       4243.93\n",
       "2021-06-01       4985.53\n",
       "2021-07-01       4631.85\n",
       "2021-08-01       4098.81\n",
       "2021-09-01       4424.39\n",
       "\n",
       "[201 rows x 1 columns]"
      ]
     },
     "execution_count": 87,
     "metadata": {},
     "output_type": "execute_result"
    }
   ],
   "source": [
    "demanda_electrico_original_train_para_tratamiento2 =demanda_electrico_original_train_data.copy()\n",
    "demanda_electrico_original_train_para_tratamiento2"
   ]
  },
  {
   "cell_type": "code",
   "execution_count": 92,
   "metadata": {},
   "outputs": [
    {
     "data": {
      "text/plain": [
       "Date\n",
       "2005-01-01    1819.58\n",
       "2005-02-01    1895.33\n",
       "2005-03-01    1765.86\n",
       "2005-04-01    2939.05\n",
       "2005-05-01    1895.54\n",
       "               ...   \n",
       "2021-05-01    4243.93\n",
       "2021-06-01    2939.05\n",
       "2021-07-01    2939.05\n",
       "2021-08-01    4098.81\n",
       "2021-09-01    2939.05\n",
       "Name: Demanded_Gas, Length: 201, dtype: float64"
      ]
     },
     "execution_count": 92,
     "metadata": {},
     "output_type": "execute_result"
    }
   ],
   "source": [
    "demanda_electrico_train_pretratamiento_mediana = remove_replace_outliers_mediana(demanda_electrico_original_train_para_tratamiento2['Demanded_Gas'])\n",
    "demanda_electrico_train_pretratamiento_mediana"
   ]
  },
  {
   "cell_type": "code",
   "execution_count": 93,
   "metadata": {},
   "outputs": [
    {
     "data": {
      "text/plain": [
       "Text(0, 0.5, 'Demanda [MMpcd]')"
      ]
     },
     "execution_count": 93,
     "metadata": {},
     "output_type": "execute_result"
    },
    {
     "data": {
      "image/png": "[encoded data removed]",
      "text/plain": [
       "<Figure size 720x288 with 1 Axes>"
      ]
     },
     "metadata": {
      "needs_background": "light"
     },
     "output_type": "display_data"
    }
   ],
   "source": [
    "plt.figure(figsize=(10,4))\n",
    "plt.plot(demanda_electrico_original_train_data, color='#48C9B0')\n",
    "plt.plot(demanda_electrico_train_pretratamiento_media,color='#0B5345')\n",
    "plt.plot(demanda_electrico_train_pretratamiento_mediana, color= 'lightblue')\n",
    "plt.legend(('Data origial', 'Ajuste de atípicos por pretratamiento con media', 'Ajuste de atípicos por pretratamiento con medianna'))\n",
    "plt.title('Demanda de gas natural en el sector eléctrico en México \"Datos originales\"', fontsize=20)\n",
    "plt.ylabel('Demanda [MMpcd]', fontsize =16)"
   ]
  },
  {
   "cell_type": "markdown",
   "metadata": {},
   "source": [
    "Se descompone la data con pretratamiento de mediana de Demanda en sector eléctrico en sus componentes de Tendencia, Estacionalidad y Residual"
   ]
  },
  {
   "cell_type": "code",
   "execution_count": 94,
   "metadata": {},
   "outputs": [
    {
     "data": {
      "image/png": "[encoded data removed]",
      "text/plain": [
       "<Figure size 432x288 with 4 Axes>"
      ]
     },
     "execution_count": 94,
     "metadata": {},
     "output_type": "execute_result"
    },
    {
     "data": {
      "image/png": "[encoded data removed]",
      "text/plain": [
       "<Figure size 432x288 with 4 Axes>"
      ]
     },
     "metadata": {
      "needs_background": "light"
     },
     "output_type": "display_data"
    }
   ],
   "source": [
    "from statsmodels.tsa.seasonal import seasonal_decompose\n",
    "\n",
    "demanda_electrico_train_pretratamiento_mediana_seasonal_decomposition = seasonal_decompose(demanda_electrico_train_pretratamiento_mediana)\n",
    "demanda_electrico_train_pretratamiento_mediana_seasonal_decomposition.plot()\n"
   ]
  },
  {
   "cell_type": "code",
   "execution_count": 95,
   "metadata": {},
   "outputs": [
    {
     "data": {
      "image/png": "[encoded data removed]",
      "text/plain": [
       "<Figure size 432x288 with 1 Axes>"
      ]
     },
     "metadata": {
      "needs_background": "light"
     },
     "output_type": "display_data"
    }
   ],
   "source": [
    "# Generate the histogram\n",
    "plt.hist(demanda_electrico_train_pretratamiento_mediana, bins=10)  # Adjust the number of bins as per your data\n",
    "\n",
    "# Add labels and title\n",
    "plt.xlabel('Value')\n",
    "plt.ylabel('Frequency')\n",
    "plt.title('Histograma de data de Demanda de gas natural en sector eléctrico \"Datos atípicos pretratados con la mediana\"')\n",
    "\n",
    "# Display the plot\n",
    "plt.show()"
   ]
  },
  {
   "cell_type": "code",
   "execution_count": 97,
   "metadata": {},
   "outputs": [
    {
     "name": "stdout",
     "output_type": "stream",
     "text": [
      "La data SI sigue una distribución normal\n",
      "Jarque-Bera Statistic: 0.12060749433842288\n",
      "p-value: 0.9414785187134115\n"
     ]
    }
   ],
   "source": [
    "import scipy.stats as stats\n",
    "\n",
    "# Assuming demanda_electrico_original_train_data is a pandas Series or DataFrame\n",
    "# You can access the values as follows:\n",
    "data = demanda_electrico_train_pretratamiento_mediana.values\n",
    "\n",
    "# Perform the Jarque-Bera test\n",
    "jb_statistic, jb_p_value = stats.jarque_bera(data)\n",
    "\n",
    "# Check the p-value to determine whether the data follows a normal distribution\n",
    "alpha = 0.05  # Significance level\n",
    "if jb_p_value < alpha:\n",
    "    print(f\"La data NO sigue una distribución normal\")\n",
    "else:\n",
    "    print(\"La data SI sigue una distribución normal\")\n",
    "\n",
    "# Optionally, you can also print the JB statistic and p-value\n",
    "print(\"Jarque-Bera Statistic:\", jb_statistic)\n",
    "print(\"p-value:\", jb_p_value)"
   ]
  },
  {
   "cell_type": "markdown",
   "metadata": {},
   "source": [
    "Para la aplicación de RNN(LSTM) combiene escalar la data. Por lo que se define y entrena el MinMaxScaler (con la data de train)"
   ]
  },
  {
   "cell_type": "code",
   "execution_count": 107,
   "metadata": {},
   "outputs": [],
   "source": [
    "import numpy as np\n",
    "\n",
    "# Convert the Pandas Series to a NumPy array\n",
    "demanda_electrico_train_pretratamiento_mediana_array = demanda_electrico_train_pretratamiento_mediana.to_numpy()\n",
    "\n",
    "# Reshape the NumPy array\n",
    "demanda_electrico_train_pretratamiento_mediana_para_min_max = demanda_electrico_train_pretratamiento_mediana_array.reshape(-1, 1)"
   ]
  },
  {
   "cell_type": "code",
   "execution_count": 108,
   "metadata": {},
   "outputs": [
    {
     "data": {
      "text/html": [
       "<style>#sk-container-id-5 {color: black;background-color: white;}#sk-container-id-5 pre{padding: 0;}#sk-container-id-5 div.sk-toggleable {background-color: white;}#sk-container-id-5 label.sk-toggleable__label {cursor: pointer;display: block;width: 100%;margin-bottom: 0;padding: 0.3em;box-sizing: border-box;text-align: center;}#sk-container-id-5 label.sk-toggleable__label-arrow:before {content: \"▸\";float: left;margin-right: 0.25em;color: #696969;}#sk-container-id-5 label.sk-toggleable__label-arrow:hover:before {color: black;}#sk-container-id-5 div.sk-estimator:hover label.sk-toggleable__label-arrow:before {color: black;}#sk-container-id-5 div.sk-toggleable__content {max-height: 0;max-width: 0;overflow: hidden;text-align: left;background-color: #f0f8ff;}#sk-container-id-5 div.sk-toggleable__content pre {margin: 0.2em;color: black;border-radius: 0.25em;background-color: #f0f8ff;}#sk-container-id-5 input.sk-toggleable__control:checked~div.sk-toggleable__content {max-height: 200px;max-width: 100%;overflow: auto;}#sk-container-id-5 input.sk-toggleable__control:checked~label.sk-toggleable__label-arrow:before {content: \"▾\";}#sk-container-id-5 div.sk-estimator input.sk-toggleable__control:checked~label.sk-toggleable__label {background-color: #d4ebff;}#sk-container-id-5 div.sk-label input.sk-toggleable__control:checked~label.sk-toggleable__label {background-color: #d4ebff;}#sk-container-id-5 input.sk-hidden--visually {border: 0;clip: rect(1px 1px 1px 1px);clip: rect(1px, 1px, 1px, 1px);height: 1px;margin: -1px;overflow: hidden;padding: 0;position: absolute;width: 1px;}#sk-container-id-5 div.sk-estimator {font-family: monospace;background-color: #f0f8ff;border: 1px dotted black;border-radius: 0.25em;box-sizing: border-box;margin-bottom: 0.5em;}#sk-container-id-5 div.sk-estimator:hover {background-color: #d4ebff;}#sk-container-id-5 div.sk-parallel-item::after {content: \"\";width: 100%;border-bottom: 1px solid gray;flex-grow: 1;}#sk-container-id-5 div.sk-label:hover label.sk-toggleable__label {background-color: #d4ebff;}#sk-container-id-5 div.sk-serial::before {content: \"\";position: absolute;border-left: 1px solid gray;box-sizing: border-box;top: 0;bottom: 0;left: 50%;z-index: 0;}#sk-container-id-5 div.sk-serial {display: flex;flex-direction: column;align-items: center;background-color: white;padding-right: 0.2em;padding-left: 0.2em;position: relative;}#sk-container-id-5 div.sk-item {position: relative;z-index: 1;}#sk-container-id-5 div.sk-parallel {display: flex;align-items: stretch;justify-content: center;background-color: white;position: relative;}#sk-container-id-5 div.sk-item::before, #sk-container-id-5 div.sk-parallel-item::before {content: \"\";position: absolute;border-left: 1px solid gray;box-sizing: border-box;top: 0;bottom: 0;left: 50%;z-index: -1;}#sk-container-id-5 div.sk-parallel-item {display: flex;flex-direction: column;z-index: 1;position: relative;background-color: white;}#sk-container-id-5 div.sk-parallel-item:first-child::after {align-self: flex-end;width: 50%;}#sk-container-id-5 div.sk-parallel-item:last-child::after {align-self: flex-start;width: 50%;}#sk-container-id-5 div.sk-parallel-item:only-child::after {width: 0;}#sk-container-id-5 div.sk-dashed-wrapped {border: 1px dashed gray;margin: 0 0.4em 0.5em 0.4em;box-sizing: border-box;padding-bottom: 0.4em;background-color: white;}#sk-container-id-5 div.sk-label label {font-family: monospace;font-weight: bold;display: inline-block;line-height: 1.2em;}#sk-container-id-5 div.sk-label-container {text-align: center;}#sk-container-id-5 div.sk-container {/* jupyter's `normalize.less` sets `[hidden] { display: none; }` but bootstrap.min.css set `[hidden] { display: none !important; }` so we also need the `!important` here to be able to override the default hidden behavior on the sphinx rendered scikit-learn.org. See: https://github.com/scikit-learn/scikit-learn/issues/21755 */display: inline-block !important;position: relative;}#sk-container-id-5 div.sk-text-repr-fallback {display: none;}</style><div id=\"sk-container-id-5\" class=\"sk-top-container\"><div class=\"sk-text-repr-fallback\"><pre>MinMaxScaler()</pre><b>In a Jupyter environment, please rerun this cell to show the HTML representation or trust the notebook. <br />On GitHub, the HTML representation is unable to render, please try loading this page with nbviewer.org.</b></div><div class=\"sk-container\" hidden><div class=\"sk-item\"><div class=\"sk-estimator sk-toggleable\"><input class=\"sk-toggleable__control sk-hidden--visually\" id=\"sk-estimator-id-5\" type=\"checkbox\" checked><label for=\"sk-estimator-id-5\" class=\"sk-toggleable__label sk-toggleable__label-arrow\">MinMaxScaler</label><div class=\"sk-toggleable__content\"><pre>MinMaxScaler()</pre></div></div></div></div></div>"
      ],
      "text/plain": [
       "MinMaxScaler()"
      ]
     },
     "execution_count": 108,
     "metadata": {},
     "output_type": "execute_result"
    }
   ],
   "source": [
    "from sklearn.preprocessing import MinMaxScaler\n",
    "MinMax_scaler_electrico_pretratamiento_mediana = MinMaxScaler()\n",
    "MinMax_scaler_electrico_pretratamiento_mediana.fit(demanda_electrico_train_pretratamiento_mediana_para_min_max)"
   ]
  },
  {
   "cell_type": "markdown",
   "metadata": {},
   "source": [
    "Se aplica la escalación la data de train"
   ]
  },
  {
   "cell_type": "code",
   "execution_count": 109,
   "metadata": {},
   "outputs": [
    {
     "name": "stderr",
     "output_type": "stream",
     "text": [
      "c:\\Users\\Sergio\\AppData\\Local\\Programs\\Python\\Python310\\lib\\site-packages\\sklearn\\base.py:439: UserWarning: X does not have valid feature names, but MinMaxScaler was fitted with feature names\n",
      "  warnings.warn(\n"
     ]
    },
    {
     "data": {
      "text/plain": [
       "array([[0.07168816],\n",
       "       [0.09268731],\n",
       "       [0.0567961 ],\n",
       "       [0.38202362],\n",
       "       [0.09274552],\n",
       "       [0.13604118],\n",
       "       [0.11118319],\n",
       "       [0.09111549],\n",
       "       [0.04937779],\n",
       "       [0.03740758],\n",
       "       [0.38202362],\n",
       "       [0.38202362],\n",
       "       [0.38202362],\n",
       "       [0.06801505],\n",
       "       [0.1236108 ],\n",
       "       [0.15172886],\n",
       "       [0.20456354],\n",
       "       [0.23227963],\n",
       "       [0.2549393 ],\n",
       "       [0.23621611],\n",
       "       [0.20444988],\n",
       "       [0.1976359 ],\n",
       "       [0.15896421],\n",
       "       [0.12890563],\n",
       "       [0.15187856],\n",
       "       [0.12359139],\n",
       "       [0.19350815],\n",
       "       [0.13185522],\n",
       "       [0.2219949 ],\n",
       "       [0.27894624],\n",
       "       [0.2931425 ],\n",
       "       [0.28230888],\n",
       "       [0.26220515],\n",
       "       [0.30390127],\n",
       "       [0.28192632],\n",
       "       [0.25737049],\n",
       "       [0.27370963],\n",
       "       [0.31419986],\n",
       "       [0.28129981],\n",
       "       [0.28810548],\n",
       "       [0.27775144],\n",
       "       [0.31287199],\n",
       "       [0.28763698],\n",
       "       [0.27746314],\n",
       "       [0.23393184],\n",
       "       [0.26135964],\n",
       "       [0.25557967],\n",
       "       [0.22813248],\n",
       "       [0.22262419],\n",
       "       [0.22627513],\n",
       "       [0.2704856 ],\n",
       "       [0.28396663],\n",
       "       [0.3385755 ],\n",
       "       [0.33978416],\n",
       "       [0.36177297],\n",
       "       [0.38202362],\n",
       "       [0.38314912],\n",
       "       [0.32504456],\n",
       "       [0.30995013],\n",
       "       [0.29226927],\n",
       "       [0.24705527],\n",
       "       [0.23685093],\n",
       "       [0.24927577],\n",
       "       [0.3002032 ],\n",
       "       [0.36131833],\n",
       "       [0.39662739],\n",
       "       [0.37598031],\n",
       "       [0.35637279],\n",
       "       [0.27160555],\n",
       "       [0.27469097],\n",
       "       [0.30334406],\n",
       "       [0.31298842],\n",
       "       [0.30543705],\n",
       "       [0.32720408],\n",
       "       [0.34426675],\n",
       "       [0.34009464],\n",
       "       [0.38912314],\n",
       "       [0.41942012],\n",
       "       [0.4171414 ],\n",
       "       [0.40338315],\n",
       "       [0.34962811],\n",
       "       [0.30766587],\n",
       "       [0.28566874],\n",
       "       [0.30619939],\n",
       "       [0.32472299],\n",
       "       [0.31917589],\n",
       "       [0.33595857],\n",
       "       [0.29338645],\n",
       "       [0.38670304],\n",
       "       [0.43185605],\n",
       "       [0.4086863 ],\n",
       "       [0.42864034],\n",
       "       [0.40929063],\n",
       "       [0.33421488],\n",
       "       [0.3107097 ],\n",
       "       [0.2887902 ],\n",
       "       [0.34999404],\n",
       "       [0.36147634],\n",
       "       [0.33276504],\n",
       "       [0.36926058],\n",
       "       [0.43021215],\n",
       "       [0.47069129],\n",
       "       [0.46510538],\n",
       "       [0.48636511],\n",
       "       [0.48363453],\n",
       "       [0.4209254 ],\n",
       "       [0.35052907],\n",
       "       [0.33213299],\n",
       "       [0.35375032],\n",
       "       [0.38041577],\n",
       "       [0.39821584],\n",
       "       [0.44935395],\n",
       "       [0.45469868],\n",
       "       [0.46776943],\n",
       "       [0.41672558],\n",
       "       [0.50155103],\n",
       "       [0.55057675],\n",
       "       [0.47774368],\n",
       "       [0.41915954],\n",
       "       [0.38242282],\n",
       "       [0.45825537],\n",
       "       [0.48497626],\n",
       "       [0.48115621],\n",
       "       [0.42935556],\n",
       "       [0.46928304],\n",
       "       [0.49830759],\n",
       "       [0.5814642 ],\n",
       "       [0.51877171],\n",
       "       [0.54155335],\n",
       "       [0.51462178],\n",
       "       [0.48879353],\n",
       "       [0.53483917],\n",
       "       [0.43859518],\n",
       "       [0.40910212],\n",
       "       [0.44071311],\n",
       "       [0.47727518],\n",
       "       [0.43503572],\n",
       "       [0.55845524],\n",
       "       [0.56922787],\n",
       "       [0.55864652],\n",
       "       [0.527845  ],\n",
       "       [0.50467248],\n",
       "       [0.44533431],\n",
       "       [0.36561518],\n",
       "       [0.31324069],\n",
       "       [0.34776522],\n",
       "       [0.35406635],\n",
       "       [0.37508213],\n",
       "       [0.43192258],\n",
       "       [0.4693163 ],\n",
       "       [0.5350859 ],\n",
       "       [0.53524668],\n",
       "       [0.49308206],\n",
       "       [0.40368254],\n",
       "       [0.43645507],\n",
       "       [0.39437639],\n",
       "       [0.41041336],\n",
       "       [0.45071508],\n",
       "       [0.45529747],\n",
       "       [0.46060616],\n",
       "       [0.47385988],\n",
       "       [0.53189791],\n",
       "       [0.60713444],\n",
       "       [0.57099097],\n",
       "       [0.58308592],\n",
       "       [0.6111818 ],\n",
       "       [0.61300034],\n",
       "       [0.58643192],\n",
       "       [0.53755035],\n",
       "       [0.57844531],\n",
       "       [0.62283044],\n",
       "       [0.60697088],\n",
       "       [0.64189461],\n",
       "       [0.72735488],\n",
       "       [0.38202362],\n",
       "       [0.38202362],\n",
       "       [0.38202362],\n",
       "       [0.40929895],\n",
       "       [0.42016029],\n",
       "       [0.38425244],\n",
       "       [0.51049126],\n",
       "       [0.51049126],\n",
       "       [0.62604337],\n",
       "       [0.74135154],\n",
       "       [0.38202362],\n",
       "       [0.38202362],\n",
       "       [0.38202362],\n",
       "       [0.72153611],\n",
       "       [0.38202362],\n",
       "       [0.64003449],\n",
       "       [0.67506632],\n",
       "       [0.65981388],\n",
       "       [0.48164966],\n",
       "       [0.52483443],\n",
       "       [0.58778751],\n",
       "       [0.7051942 ],\n",
       "       [0.74375778],\n",
       "       [0.38202362],\n",
       "       [0.38202362],\n",
       "       [0.70352813],\n",
       "       [0.38202362]])"
      ]
     },
     "execution_count": 109,
     "metadata": {},
     "output_type": "execute_result"
    }
   ],
   "source": [
    "demanda_electrico_train_pretratamiento_mediana_scaled = MinMax_scaler.transform(demanda_electrico_train_pretratamiento_mediana_para_min_max)\n",
    "demanda_electrico_train_pretratamiento_mediana_scaled"
   ]
  },
  {
   "cell_type": "markdown",
   "metadata": {},
   "source": []
  },
  {
   "cell_type": "markdown",
   "metadata": {},
   "source": [
    "Se generan sets de n_input datos para con ellos predecir el t+1 dato, y así los siguientes n_input para predecir el t+1, etc"
   ]
  },
  {
   "cell_type": "code",
   "execution_count": 110,
   "metadata": {},
   "outputs": [
    {
     "data": {
      "text/plain": [
       "(array([[[0.07168816],\n",
       "         [0.09268731],\n",
       "         [0.0567961 ],\n",
       "         [0.38202362],\n",
       "         [0.09274552],\n",
       "         [0.13604118],\n",
       "         [0.11118319],\n",
       "         [0.09111549],\n",
       "         [0.04937779],\n",
       "         [0.03740758],\n",
       "         [0.38202362],\n",
       "         [0.38202362],\n",
       "         [0.38202362],\n",
       "         [0.06801505],\n",
       "         [0.1236108 ],\n",
       "         [0.15172886],\n",
       "         [0.20456354],\n",
       "         [0.23227963],\n",
       "         [0.2549393 ],\n",
       "         [0.23621611],\n",
       "         [0.20444988],\n",
       "         [0.1976359 ],\n",
       "         [0.15896421],\n",
       "         [0.12890563]]]),\n",
       " array([[0.15187856]]))"
      ]
     },
     "execution_count": 110,
     "metadata": {},
     "output_type": "execute_result"
    }
   ],
   "source": [
    "n_input = 24\n",
    "\n",
    "data = demanda_electrico_train_pretratamiento_mediana_scaled\n",
    "targets = data \n",
    "\n",
    "demanda_electrico_train_generator_pretratamiento_mediana_scaled = TimeseriesGenerator(data, targets, length=n_input, batch_size=1)\n",
    "demanda_electrico_train_generator_pretratamiento_mediana_scaled[0]"
   ]
  },
  {
   "cell_type": "markdown",
   "metadata": {},
   "source": [
    "Y entonces el numero de muestras formadas con el TimeseriesGenerator = Numero de elementos de array original - n_input"
   ]
  },
  {
   "cell_type": "code",
   "execution_count": 111,
   "metadata": {},
   "outputs": [
    {
     "name": "stdout",
     "output_type": "stream",
     "text": [
      "Total number of samples in the original training data =  201\n",
      "Total number of samples in the demanda_electrico_scaled_train_generator =  177\n"
     ]
    }
   ],
   "source": [
    "print(\"Total number of samples in the original training data = \", len(demanda_electrico_train_pretratamiento_mediana)) \n",
    "print(\"Total number of samples in the demanda_electrico_scaled_train_generator = \", len(demanda_electrico_train_generator_pretratamiento_mediana_scaled))"
   ]
  },
  {
   "cell_type": "markdown",
   "metadata": {},
   "source": [
    "Se define la red neuronal sequencial FFNN con capas densas y funcion de activación tipo RELU para el caso de la demanda en sector electrico con pretratamiento de mediana "
   ]
  },
  {
   "cell_type": "code",
   "execution_count": 112,
   "metadata": {},
   "outputs": [],
   "source": [
    "import numpy as np\n",
    "import tensorflow as tf\n",
    "\n",
    "# Set a seed for numpy random number generation\n",
    "np.random.seed(0)\n",
    "\n",
    "# Set a seed for TensorFlow random number generation\n",
    "tf.random.set_seed(0)"
   ]
  },
  {
   "cell_type": "code",
   "execution_count": 113,
   "metadata": {},
   "outputs": [
    {
     "name": "stdout",
     "output_type": "stream",
     "text": [
      "Model: \"sequential_4\"\n",
      "_________________________________________________________________\n",
      " Layer (type)                Output Shape              Param #   \n",
      "=================================================================\n",
      " lstm_4 (LSTM)               (None, 100)               40800     \n",
      "                                                                 \n",
      " dense_4 (Dense)             (None, 1)                 101       \n",
      "                                                                 \n",
      "=================================================================\n",
      "Total params: 40901 (159.77 KB)\n",
      "Trainable params: 40901 (159.77 KB)\n",
      "Non-trainable params: 0 (0.00 Byte)\n",
      "_________________________________________________________________\n"
     ]
    }
   ],
   "source": [
    "n_input = 24\n",
    "n_features = 1\n",
    "\n",
    "# define model\n",
    "model_LSTM_electrico_pretrataminto_mediana_scaled = Sequential()\n",
    "\n",
    "model_LSTM_electrico_pretrataminto_mediana_scaled.add(LSTM(100, activation='relu', input_shape=(n_input, n_features)))\n",
    "model_LSTM_electrico_pretrataminto_mediana_scaled.add(Dense(1))\n",
    "model_LSTM_electrico_pretrataminto_mediana_scaled.compile(optimizer='adam', loss='mse')\n",
    "\n",
    "model_LSTM_electrico_pretrataminto_mediana_scaled.summary()"
   ]
  },
  {
   "cell_type": "markdown",
   "metadata": {},
   "source": [
    "Se entrena el modelo "
   ]
  },
  {
   "cell_type": "code",
   "execution_count": 114,
   "metadata": {},
   "outputs": [
    {
     "name": "stdout",
     "output_type": "stream",
     "text": [
      "Epoch 1/25\n"
     ]
    },
    {
     "name": "stdout",
     "output_type": "stream",
     "text": [
      "177/177 [==============================] - 4s 9ms/step - loss: 0.0163\n",
      "Epoch 2/25\n",
      "177/177 [==============================] - 1s 8ms/step - loss: 0.0088\n",
      "Epoch 3/25\n",
      "177/177 [==============================] - 2s 8ms/step - loss: 0.0081\n",
      "Epoch 4/25\n",
      "177/177 [==============================] - 2s 9ms/step - loss: 0.0077\n",
      "Epoch 5/25\n",
      "177/177 [==============================] - 2s 9ms/step - loss: 0.0082\n",
      "Epoch 6/25\n",
      "177/177 [==============================] - 2s 8ms/step - loss: 0.0075\n",
      "Epoch 7/25\n",
      "177/177 [==============================] - 1s 8ms/step - loss: 0.0070\n",
      "Epoch 8/25\n",
      "177/177 [==============================] - 1s 8ms/step - loss: 0.0077\n",
      "Epoch 9/25\n",
      "177/177 [==============================] - 2s 9ms/step - loss: 0.0075\n",
      "Epoch 10/25\n",
      "177/177 [==============================] - 1s 8ms/step - loss: 0.0072\n",
      "Epoch 11/25\n",
      "177/177 [==============================] - 1s 8ms/step - loss: 0.0063\n",
      "Epoch 12/25\n",
      "177/177 [==============================] - 1s 8ms/step - loss: 0.0066\n",
      "Epoch 13/25\n",
      "177/177 [==============================] - 1s 8ms/step - loss: 0.0077\n",
      "Epoch 14/25\n",
      "177/177 [==============================] - 1s 8ms/step - loss: 0.0070\n",
      "Epoch 15/25\n",
      "177/177 [==============================] - 1s 8ms/step - loss: 0.0072\n",
      "Epoch 16/25\n",
      "177/177 [==============================] - 1s 8ms/step - loss: 0.0066\n",
      "Epoch 17/25\n",
      "177/177 [==============================] - 1s 8ms/step - loss: 0.0066\n",
      "Epoch 18/25\n",
      "177/177 [==============================] - 1s 8ms/step - loss: 0.0067\n",
      "Epoch 19/25\n",
      "177/177 [==============================] - 1s 8ms/step - loss: 0.0068\n",
      "Epoch 20/25\n",
      "177/177 [==============================] - 1s 8ms/step - loss: 0.0064\n",
      "Epoch 21/25\n",
      "177/177 [==============================] - 1s 8ms/step - loss: 0.0068\n",
      "Epoch 22/25\n",
      "177/177 [==============================] - 1s 8ms/step - loss: 0.0064\n",
      "Epoch 23/25\n",
      "177/177 [==============================] - 1s 8ms/step - loss: 0.0061\n",
      "Epoch 24/25\n",
      "177/177 [==============================] - 2s 9ms/step - loss: 0.0065\n",
      "Epoch 25/25\n",
      "177/177 [==============================] - 2s 8ms/step - loss: 0.0061\n"
     ]
    },
    {
     "data": {
      "text/plain": [
       "<keras.src.callbacks.History at 0x22cc5a6b280>"
      ]
     },
     "execution_count": 114,
     "metadata": {},
     "output_type": "execute_result"
    }
   ],
   "source": [
    "model_LSTM_electrico_pretrataminto_mediana_scaled.fit(demanda_electrico_train_generator_pretratamiento_mediana_scaled, epochs=25)"
   ]
  },
  {
   "cell_type": "code",
   "execution_count": 116,
   "metadata": {},
   "outputs": [
    {
     "data": {
      "text/plain": [
       "[<matplotlib.lines.Line2D at 0x22cc6e3e980>]"
      ]
     },
     "execution_count": 116,
     "metadata": {},
     "output_type": "execute_result"
    },
    {
     "data": {
      "image/png": "[encoded data removed]",
      "text/plain": [
       "<Figure size 432x288 with 1 Axes>"
      ]
     },
     "metadata": {
      "needs_background": "light"
     },
     "output_type": "display_data"
    }
   ],
   "source": [
    "loss_per_epoch = model_LSTM_electrico_pretrataminto_mediana_scaled.history.history['loss']\n",
    "plt.plot(range(len(loss_per_epoch)),loss_per_epoch)"
   ]
  },
  {
   "cell_type": "markdown",
   "metadata": {},
   "source": [
    "Se lleva a cabo el forecast de los ultimos 12 meses usando el modelo model_sequential_and_FF previamente definido y entrenado\n",
    "\n",
    "Se toman los ULTIMOS n_input elementos de los datos de train y se almacenan en un batch"
   ]
  },
  {
   "cell_type": "code",
   "execution_count": 124,
   "metadata": {},
   "outputs": [
    {
     "data": {
      "text/plain": [
       "array([[0.07168816],\n",
       "       [0.09268731],\n",
       "       [0.0567961 ],\n",
       "       [0.38202362],\n",
       "       [0.09274552],\n",
       "       [0.13604118],\n",
       "       [0.11118319],\n",
       "       [0.09111549],\n",
       "       [0.04937779],\n",
       "       [0.03740758],\n",
       "       [0.38202362],\n",
       "       [0.38202362],\n",
       "       [0.38202362],\n",
       "       [0.06801505],\n",
       "       [0.1236108 ],\n",
       "       [0.15172886],\n",
       "       [0.20456354],\n",
       "       [0.23227963],\n",
       "       [0.2549393 ],\n",
       "       [0.23621611],\n",
       "       [0.20444988],\n",
       "       [0.1976359 ],\n",
       "       [0.15896421],\n",
       "       [0.12890563],\n",
       "       [0.15187856],\n",
       "       [0.12359139],\n",
       "       [0.19350815],\n",
       "       [0.13185522],\n",
       "       [0.2219949 ],\n",
       "       [0.27894624],\n",
       "       [0.2931425 ],\n",
       "       [0.28230888],\n",
       "       [0.26220515],\n",
       "       [0.30390127],\n",
       "       [0.28192632],\n",
       "       [0.25737049],\n",
       "       [0.27370963],\n",
       "       [0.31419986],\n",
       "       [0.28129981],\n",
       "       [0.28810548],\n",
       "       [0.27775144],\n",
       "       [0.31287199],\n",
       "       [0.28763698],\n",
       "       [0.27746314],\n",
       "       [0.23393184],\n",
       "       [0.26135964],\n",
       "       [0.25557967],\n",
       "       [0.22813248],\n",
       "       [0.22262419],\n",
       "       [0.22627513],\n",
       "       [0.2704856 ],\n",
       "       [0.28396663],\n",
       "       [0.3385755 ],\n",
       "       [0.33978416],\n",
       "       [0.36177297],\n",
       "       [0.38202362],\n",
       "       [0.38314912],\n",
       "       [0.32504456],\n",
       "       [0.30995013],\n",
       "       [0.29226927],\n",
       "       [0.24705527],\n",
       "       [0.23685093],\n",
       "       [0.24927577],\n",
       "       [0.3002032 ],\n",
       "       [0.36131833],\n",
       "       [0.39662739],\n",
       "       [0.37598031],\n",
       "       [0.35637279],\n",
       "       [0.27160555],\n",
       "       [0.27469097],\n",
       "       [0.30334406],\n",
       "       [0.31298842],\n",
       "       [0.30543705],\n",
       "       [0.32720408],\n",
       "       [0.34426675],\n",
       "       [0.34009464],\n",
       "       [0.38912314],\n",
       "       [0.41942012],\n",
       "       [0.4171414 ],\n",
       "       [0.40338315],\n",
       "       [0.34962811],\n",
       "       [0.30766587],\n",
       "       [0.28566874],\n",
       "       [0.30619939],\n",
       "       [0.32472299],\n",
       "       [0.31917589],\n",
       "       [0.33595857],\n",
       "       [0.29338645],\n",
       "       [0.38670304],\n",
       "       [0.43185605],\n",
       "       [0.4086863 ],\n",
       "       [0.42864034],\n",
       "       [0.40929063],\n",
       "       [0.33421488],\n",
       "       [0.3107097 ],\n",
       "       [0.2887902 ],\n",
       "       [0.34999404],\n",
       "       [0.36147634],\n",
       "       [0.33276504],\n",
       "       [0.36926058],\n",
       "       [0.43021215],\n",
       "       [0.47069129],\n",
       "       [0.46510538],\n",
       "       [0.48636511],\n",
       "       [0.48363453],\n",
       "       [0.4209254 ],\n",
       "       [0.35052907],\n",
       "       [0.33213299],\n",
       "       [0.35375032],\n",
       "       [0.38041577],\n",
       "       [0.39821584],\n",
       "       [0.44935395],\n",
       "       [0.45469868],\n",
       "       [0.46776943],\n",
       "       [0.41672558],\n",
       "       [0.50155103],\n",
       "       [0.55057675],\n",
       "       [0.47774368],\n",
       "       [0.41915954],\n",
       "       [0.38242282],\n",
       "       [0.45825537],\n",
       "       [0.48497626],\n",
       "       [0.48115621],\n",
       "       [0.42935556],\n",
       "       [0.46928304],\n",
       "       [0.49830759],\n",
       "       [0.5814642 ],\n",
       "       [0.51877171],\n",
       "       [0.54155335],\n",
       "       [0.51462178],\n",
       "       [0.48879353],\n",
       "       [0.53483917],\n",
       "       [0.43859518],\n",
       "       [0.40910212],\n",
       "       [0.44071311],\n",
       "       [0.47727518],\n",
       "       [0.43503572],\n",
       "       [0.55845524],\n",
       "       [0.56922787],\n",
       "       [0.55864652],\n",
       "       [0.527845  ],\n",
       "       [0.50467248],\n",
       "       [0.44533431],\n",
       "       [0.36561518],\n",
       "       [0.31324069],\n",
       "       [0.34776522],\n",
       "       [0.35406635],\n",
       "       [0.37508213],\n",
       "       [0.43192258],\n",
       "       [0.4693163 ],\n",
       "       [0.5350859 ],\n",
       "       [0.53524668],\n",
       "       [0.49308206],\n",
       "       [0.40368254],\n",
       "       [0.43645507],\n",
       "       [0.39437639],\n",
       "       [0.41041336],\n",
       "       [0.45071508],\n",
       "       [0.45529747],\n",
       "       [0.46060616],\n",
       "       [0.47385988],\n",
       "       [0.53189791],\n",
       "       [0.60713444],\n",
       "       [0.57099097],\n",
       "       [0.58308592],\n",
       "       [0.6111818 ],\n",
       "       [0.61300034],\n",
       "       [0.58643192],\n",
       "       [0.53755035],\n",
       "       [0.57844531],\n",
       "       [0.62283044],\n",
       "       [0.60697088],\n",
       "       [0.64189461],\n",
       "       [0.72735488],\n",
       "       [0.38202362],\n",
       "       [0.38202362],\n",
       "       [0.38202362],\n",
       "       [0.40929895],\n",
       "       [0.42016029],\n",
       "       [0.38425244],\n",
       "       [0.51049126],\n",
       "       [0.51049126],\n",
       "       [0.62604337],\n",
       "       [0.74135154],\n",
       "       [0.38202362],\n",
       "       [0.38202362],\n",
       "       [0.38202362],\n",
       "       [0.72153611],\n",
       "       [0.38202362],\n",
       "       [0.64003449],\n",
       "       [0.67506632],\n",
       "       [0.65981388],\n",
       "       [0.48164966],\n",
       "       [0.52483443],\n",
       "       [0.58778751],\n",
       "       [0.7051942 ],\n",
       "       [0.74375778],\n",
       "       [0.38202362],\n",
       "       [0.38202362],\n",
       "       [0.70352813],\n",
       "       [0.38202362]])"
      ]
     },
     "execution_count": 124,
     "metadata": {},
     "output_type": "execute_result"
    }
   ],
   "source": [
    "demanda_electrico_train_pretratamiento_mediana_scaled"
   ]
  },
  {
   "cell_type": "code",
   "execution_count": 119,
   "metadata": {},
   "outputs": [
    {
     "data": {
      "text/plain": [
       "array([[0.40929895],\n",
       "       [0.42016029],\n",
       "       [0.38425244],\n",
       "       [0.51049126],\n",
       "       [0.51049126],\n",
       "       [0.62604337],\n",
       "       [0.74135154],\n",
       "       [0.38202362],\n",
       "       [0.38202362],\n",
       "       [0.38202362],\n",
       "       [0.72153611],\n",
       "       [0.38202362],\n",
       "       [0.64003449],\n",
       "       [0.67506632],\n",
       "       [0.65981388],\n",
       "       [0.48164966],\n",
       "       [0.52483443],\n",
       "       [0.58778751],\n",
       "       [0.7051942 ],\n",
       "       [0.74375778],\n",
       "       [0.38202362],\n",
       "       [0.38202362],\n",
       "       [0.70352813],\n",
       "       [0.38202362]])"
      ]
     },
     "execution_count": 119,
     "metadata": {},
     "output_type": "execute_result"
    }
   ],
   "source": [
    "demanda_electrico_train_batch_pretratamiento_mediana_scaled = demanda_electrico_train_pretratamiento_mediana_scaled[-n_input:]\n",
    "\n",
    "\n",
    "demanda_electrico_train_batch_pretratamiento_mediana_scaled"
   ]
  },
  {
   "cell_type": "markdown",
   "metadata": {},
   "source": [
    "Se reescala el batch de los datos de train a que tenga la misma forma que los datos con que se entrenó el modelo que fueron 1, input_shape=(n_input, n_features)"
   ]
  },
  {
   "cell_type": "code",
   "execution_count": 120,
   "metadata": {},
   "outputs": [
    {
     "data": {
      "text/plain": [
       "array([[[0.40929895],\n",
       "        [0.42016029],\n",
       "        [0.38425244],\n",
       "        [0.51049126],\n",
       "        [0.51049126],\n",
       "        [0.62604337],\n",
       "        [0.74135154],\n",
       "        [0.38202362],\n",
       "        [0.38202362],\n",
       "        [0.38202362],\n",
       "        [0.72153611],\n",
       "        [0.38202362],\n",
       "        [0.64003449],\n",
       "        [0.67506632],\n",
       "        [0.65981388],\n",
       "        [0.48164966],\n",
       "        [0.52483443],\n",
       "        [0.58778751],\n",
       "        [0.7051942 ],\n",
       "        [0.74375778],\n",
       "        [0.38202362],\n",
       "        [0.38202362],\n",
       "        [0.70352813],\n",
       "        [0.38202362]]])"
      ]
     },
     "execution_count": 120,
     "metadata": {},
     "output_type": "execute_result"
    }
   ],
   "source": [
    "demanda_electrico_train_batch_pretratamiento_mediana_scaled_reshaped = demanda_electrico_train_batch_pretratamiento_mediana_scaled.reshape(1,n_input, n_features)\n",
    "demanda_electrico_train_batch_pretratamiento_mediana_scaled_reshaped"
   ]
  },
  {
   "cell_type": "markdown",
   "metadata": {},
   "source": [
    "Intentamos predecir el sigueinte valor dado el primet batch de n_input. Esto equivaldria a predecir el primer valor de los datos de test (PUES SE ESTÁN TOMANDO EXACTAMENTE LOS ULTIMOS VALORES DE LOS DATOS DE TRAIN EN EL BATCH), dados los n_input anteriores (QUE FORMAN BARTE DEL BATCH)"
   ]
  },
  {
   "cell_type": "code",
   "execution_count": 121,
   "metadata": {},
   "outputs": [
    {
     "name": "stdout",
     "output_type": "stream",
     "text": [
      "1/1 [==============================] - 0s 232ms/step\n"
     ]
    },
    {
     "data": {
      "text/plain": [
       "array([[0.4748565]], dtype=float32)"
      ]
     },
     "execution_count": 121,
     "metadata": {},
     "output_type": "execute_result"
    }
   ],
   "source": [
    "model_LSTM_electrico_pretrataminto_mediana_scaled.predict(demanda_electrico_train_batch_pretratamiento_mediana_scaled_reshaped)"
   ]
  },
  {
   "cell_type": "markdown",
   "metadata": {},
   "source": [
    "Ahora ser hará una función que irá formando batch de n_input para ir prediciendo el siguiente valor, tal como se hizo en el entrenamiento del modelo"
   ]
  },
  {
   "cell_type": "code",
   "execution_count": 122,
   "metadata": {},
   "outputs": [],
   "source": [
    "n_input = 24\n",
    "n_features = 1"
   ]
  },
  {
   "cell_type": "code",
   "execution_count": 126,
   "metadata": {},
   "outputs": [
    {
     "name": "stdout",
     "output_type": "stream",
     "text": [
      "1/1 [==============================] - 0s 33ms/step\n"
     ]
    },
    {
     "name": "stdout",
     "output_type": "stream",
     "text": [
      "1/1 [==============================] - 0s 39ms/step\n",
      "1/1 [==============================] - 0s 37ms/step\n",
      "1/1 [==============================] - 0s 31ms/step\n",
      "1/1 [==============================] - 0s 25ms/step\n",
      "1/1 [==============================] - 0s 58ms/step\n",
      "1/1 [==============================] - 0s 29ms/step\n",
      "1/1 [==============================] - 0s 27ms/step\n",
      "1/1 [==============================] - 0s 20ms/step\n",
      "1/1 [==============================] - 0s 25ms/step\n",
      "1/1 [==============================] - 0s 21ms/step\n",
      "1/1 [==============================] - 0s 24ms/step\n"
     ]
    }
   ],
   "source": [
    "test_predictions_model_LSTM_electrico_pretratamiento_mediana_scaled  = []\n",
    "\n",
    "first_eval_batch = demanda_electrico_train_pretratamiento_mediana_scaled[-n_input:]\n",
    "current_batch = first_eval_batch.reshape((1, n_input, n_features))\n",
    "\n",
    "for i in range(len(demanda_electrico_original_test_data['Demanded_Gas'])):\n",
    "    \n",
    "    # get the prediction value for the first batch\n",
    "    current_pred = model_LSTM_electrico_pretrataminto_mediana_scaled.predict(current_batch)[0]\n",
    "    \n",
    "    # append the prediction into the array\n",
    "    test_predictions_model_LSTM_electrico_pretratamiento_mediana_scaled.append(current_pred) \n",
    "    \n",
    "    # use the prediction to update the batch and remove the first value\n",
    "    current_batch = np.append(current_batch[:,1:,:],[[current_pred]],axis=1) "
   ]
  },
  {
   "cell_type": "code",
   "execution_count": 127,
   "metadata": {},
   "outputs": [
    {
     "data": {
      "text/plain": [
       "[array([0.4748565], dtype=float32),\n",
       " array([0.4890483], dtype=float32),\n",
       " array([0.49547115], dtype=float32),\n",
       " array([0.49875012], dtype=float32),\n",
       " array([0.49989897], dtype=float32),\n",
       " array([0.49963677], dtype=float32),\n",
       " array([0.49812824], dtype=float32),\n",
       " array([0.4959244], dtype=float32),\n",
       " array([0.49431583], dtype=float32),\n",
       " array([0.49302375], dtype=float32),\n",
       " array([0.4917155], dtype=float32),\n",
       " array([0.4901785], dtype=float32)]"
      ]
     },
     "execution_count": 127,
     "metadata": {},
     "output_type": "execute_result"
    }
   ],
   "source": [
    "test_predictions_model_LSTM_electrico_pretratamiento_mediana_scaled"
   ]
  },
  {
   "cell_type": "code",
   "execution_count": 128,
   "metadata": {},
   "outputs": [
    {
     "data": {
      "text/plain": [
       "array([[3273.92508894],\n",
       "       [3325.11904995],\n",
       "       [3348.28812354],\n",
       "       [3360.11632182],\n",
       "       [3364.26055595],\n",
       "       [3363.31472151],\n",
       "       [3357.87300206],\n",
       "       [3349.92317651],\n",
       "       [3344.12056069],\n",
       "       [3339.45965456],\n",
       "       [3334.74037287],\n",
       "       [3329.19598556]])"
      ]
     },
     "execution_count": 128,
     "metadata": {},
     "output_type": "execute_result"
    }
   ],
   "source": [
    "test_predictions_model_LSTM_electrico_pretratamiento_mediana_rescaled = MinMax_scaler.inverse_transform(test_predictions_model_LSTM_electrico_pretratamiento_mediana_scaled)\n",
    "test_predictions_model_LSTM_electrico_pretratamiento_mediana_rescaled"
   ]
  },
  {
   "cell_type": "code",
   "execution_count": 129,
   "metadata": {},
   "outputs": [
    {
     "data": {
      "text/plain": [
       "Text(0, 0.5, 'Demanda [MMpcd]')"
      ]
     },
     "execution_count": 129,
     "metadata": {},
     "output_type": "execute_result"
    },
    {
     "data": {
      "image/png": "[encoded data removed]",
      "text/plain": [
       "<Figure size 720x288 with 1 Axes>"
      ]
     },
     "metadata": {
      "needs_background": "light"
     },
     "output_type": "display_data"
    }
   ],
   "source": [
    "##Ploting the predicitons vs the test_data\n",
    "plt.figure(figsize =(10,4))\n",
    "plt.plot(demanda_electrico_original_test_data['Demanded_Gas'].values, color='brown')\n",
    "plt.plot(test_predictions_model_LSTM_electrico_rescaled, color='#48C9B0')\n",
    "plt.plot(test_predictions_model_LSTM_electrico_pretratamiento_media_rescaled , color='#0B5345')\n",
    "plt.plot(test_predictions_model_LSTM_electrico_pretratamiento_mediana_rescaled , color='lightblue')\n",
    "plt.legend(('Data original', 'Modelo FFNN sin pretratamiento', 'Modelo FFNN con pretratamiento media', 'Modelo FFNN con pretratamiento mediana'), fontsize=10)\n",
    "\n",
    "plt.title('Demanda sector electrico con modelo FFNN comparacion de no pretratamiento vs pretratamientos(media y mediana) ', fontsize=20)\n",
    "plt.ylabel('Demanda [MMpcd]', fontsize=16)"
   ]
  },
  {
   "cell_type": "code",
   "execution_count": 130,
   "metadata": {},
   "outputs": [
    {
     "name": "stdout",
     "output_type": "stream",
     "text": [
      "MAPE: 0.09215463535324037\n",
      "RMSE: 614.7076122149706\n"
     ]
    }
   ],
   "source": [
    "from sklearn.metrics import mean_absolute_percentage_error, mean_squared_error\n",
    "import numpy as np\n",
    "\n",
    "# Compute errors\n",
    "MAPE_test_predictions_model_LSTM_electrico_pretratamiento_mediana = mean_absolute_percentage_error(demanda_electrico_original_test_data['Demanded_Gas'].values, test_predictions_model_LSTM_electrico_pretratamiento_mediana_rescaled)\n",
    "RMSE_test_predictions_model_LSTM_electrico_pretratamiento_mediana = np.sqrt(mean_squared_error(demanda_electrico_original_test_data['Demanded_Gas'].values, test_predictions_model_LSTM_electrico_pretratamiento_mediana_rescaled))\n",
    "\n",
    "print('MAPE:', MAPE_test_predictions_model_LSTM_electrico_pretratamiento_mediana)\n",
    "print('RMSE:', RMSE_test_predictions_model_LSTM_electrico_pretratamiento_mediana)"
   ]
  }
 ],
 "metadata": {
  "kernelspec": {
   "display_name": "Python 3",
   "language": "python",
   "name": "python3"
  },
  "language_info": {
   "codemirror_mode": {
    "name": "ipython",
    "version": 3
   },
   "file_extension": ".py",
   "mimetype": "text/x-python",
   "name": "python",
   "nbconvert_exporter": "python",
   "pygments_lexer": "ipython3",
   "version": "3.10.5"
  },
  "orig_nbformat": 4
 },
 "nbformat": 4,
 "nbformat_minor": 2
}
