{
 "cells": [
  {
   "attachments": {},
   "cell_type": "markdown",
   "metadata": {},
   "source": [
    "#### <font color=\"#03997A\"> Diplomado en Ciencia de datos UNAM </font>\n",
    "\n",
    "##### <font color=\"#03997A\"> Dr: Alejandro Pimentel </font>\n",
    "\n",
    "##### <font color=\"#03997A\"> Modulo 6 Aprendizaje de Maquina supervisado </font>\n",
    "\n",
    "##### <font color=\"#03997A\"> Practica 10: Metricas de clasficación aplicadas a Regresión Logistica en Breast Cancer Alumno: Ibarra Ramírez Sergio </font>"
   ]
  },
  {
   "cell_type": "code",
   "execution_count": null,
   "metadata": {
    "vscode": {
     "languageId": "plaintext"
    }
   },
   "outputs": [],
   "source": [
    "import pandas as pd\n",
    "from sklearn.datasets import load_breast_cancer\n",
    "\n",
    "tabla_breast_cancer = load_breast_cancer(as_frame=True)\n",
    "\n",
    "tabla_breast_cancer.frame\n"
   ]
  },
  {
   "attachments": {},
   "cell_type": "markdown",
   "metadata": {},
   "source": [
    "Separamos en variable dependiente (y) y variables independientes (X)"
   ]
  },
  {
   "cell_type": "code",
   "execution_count": null,
   "metadata": {
    "vscode": {
     "languageId": "plaintext"
    }
   },
   "outputs": [],
   "source": [
    "y_breast_cancer = tabla_breast_cancer['target']\n",
    "y_breast_cancer\n",
    "\n",
    "X_breast_cancer = tabla_breast_cancer['data'][['mean radius', 'mean texture', 'mean perimeter', 'mean area', 'mean smoothness']]\n",
    "X_breast_cancer"
   ]
  },
  {
   "attachments": {},
   "cell_type": "markdown",
   "metadata": {},
   "source": [
    "Se separa en train y test la data de breast cancer "
   ]
  },
  {
   "cell_type": "code",
   "execution_count": null,
   "metadata": {
    "vscode": {
     "languageId": "plaintext"
    }
   },
   "outputs": [],
   "source": [
    "## Separacion en train y test \n",
    "from sklearn.model_selection import train_test_split\n",
    "\n",
    "X_breast_cancer_train, X_breast_cancer_test, y_breast_cancer_train, y_breast_cancer_test = train_test_split(X_breast_cancer,y_breast_cancer,test_size=0.2,random_state = 2022)\n",
    "X_breast_cancer_test"
   ]
  },
  {
   "attachments": {},
   "cell_type": "markdown",
   "metadata": {},
   "source": [
    "Importamos y usamos el modelo de LogisticRegression "
   ]
  },
  {
   "cell_type": "code",
   "execution_count": null,
   "metadata": {
    "vscode": {
     "languageId": "plaintext"
    }
   },
   "outputs": [],
   "source": [
    "from sklearn.linear_model import LogisticRegression\n",
    "\n",
    "modelo_Logistic_Regression = LogisticRegression()\n",
    "modelo_Logistic_Regression_breast_cancer = modelo_Logistic_Regression.fit(X_breast_cancer_train, y_breast_cancer_train)\n",
    "modelo_Logistic_Regression_breast_cancer"
   ]
  },
  {
   "attachments": {},
   "cell_type": "markdown",
   "metadata": {},
   "source": [
    "Hacemos uso del modelo_Logistic_Regression_breast_cancer"
   ]
  },
  {
   "cell_type": "code",
   "execution_count": null,
   "metadata": {
    "vscode": {
     "languageId": "plaintext"
    }
   },
   "outputs": [],
   "source": [
    "ypred_modelo_Logistic_Regression_breast_cancer = modelo_Logistic_Regression.predict(X_breast_cancer_test)\n",
    "ypred_modelo_Logistic_Regression_breast_cancer"
   ]
  }
 ],
 "metadata": {
  "language_info": {
   "name": "python"
  },
  "orig_nbformat": 4
 },
 "nbformat": 4,
 "nbformat_minor": 2
}
