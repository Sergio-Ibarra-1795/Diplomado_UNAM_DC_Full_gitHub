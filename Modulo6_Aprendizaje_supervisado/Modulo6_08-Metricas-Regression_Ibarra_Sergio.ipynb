{
 "cells": [
  {
   "attachments": {},
   "cell_type": "markdown",
   "metadata": {},
   "source": [
    "#### <font color=\"#03997A\"> Diplomado en Ciencia de datos UNAM </font>\n",
    "\n",
    "##### <font color=\"#03997A\"> Dr: Alejandro Pimentel </font>\n",
    "\n",
    "##### <font color=\"#03997A\"> Modulo 6 Aprendizaje de Maquina supervisado </font>\n",
    "\n",
    "##### <font color=\"#03997A\"> Práctica 8: Metricas de regresión (evaluando para diferentes tipos de modelos de regresión para la dataset de diabetes) Alumno: Ibarra Ramírez Sergio </font>"
   ]
  },
  {
   "attachments": {},
   "cell_type": "markdown",
   "metadata": {},
   "source": [
    "Para comparar los diferentes tipos de modelos de Regresión se trabajará con el Dataset de diabetes y y se intentará hacer una predicicón de la variable target (y), usando los diferentes modelos y evaluando las métricas (R2, R2_ajustado, MAE, MAPE, MSE y RMSE)"
   ]
  },
  {
   "attachments": {},
   "cell_type": "markdown",
   "metadata": {},
   "source": [
    "Importamos entonces la data de diabetes con la que trabajeremos en todos los modelos  "
   ]
  },
  {
   "cell_type": "code",
   "execution_count": 1,
   "metadata": {},
   "outputs": [
    {
     "data": {
      "text/plain": [
       "{'data':           age       sex       bmi        bp        s1        s2        s3  \\\n",
       " 0    0.038076  0.050680  0.061696  0.021872 -0.044223 -0.034821 -0.043401   \n",
       " 1   -0.001882 -0.044642 -0.051474 -0.026328 -0.008449 -0.019163  0.074412   \n",
       " 2    0.085299  0.050680  0.044451 -0.005670 -0.045599 -0.034194 -0.032356   \n",
       " 3   -0.089063 -0.044642 -0.011595 -0.036656  0.012191  0.024991 -0.036038   \n",
       " 4    0.005383 -0.044642 -0.036385  0.021872  0.003935  0.015596  0.008142   \n",
       " ..        ...       ...       ...       ...       ...       ...       ...   \n",
       " 437  0.041708  0.050680  0.019662  0.059744 -0.005697 -0.002566 -0.028674   \n",
       " 438 -0.005515  0.050680 -0.015906 -0.067642  0.049341  0.079165 -0.028674   \n",
       " 439  0.041708  0.050680 -0.015906  0.017293 -0.037344 -0.013840 -0.024993   \n",
       " 440 -0.045472 -0.044642  0.039062  0.001215  0.016318  0.015283 -0.028674   \n",
       " 441 -0.045472 -0.044642 -0.073030 -0.081413  0.083740  0.027809  0.173816   \n",
       " \n",
       "            s4        s5        s6  \n",
       " 0   -0.002592  0.019907 -0.017646  \n",
       " 1   -0.039493 -0.068332 -0.092204  \n",
       " 2   -0.002592  0.002861 -0.025930  \n",
       " 3    0.034309  0.022688 -0.009362  \n",
       " 4   -0.002592 -0.031988 -0.046641  \n",
       " ..        ...       ...       ...  \n",
       " 437 -0.002592  0.031193  0.007207  \n",
       " 438  0.034309 -0.018114  0.044485  \n",
       " 439 -0.011080 -0.046883  0.015491  \n",
       " 440  0.026560  0.044529 -0.025930  \n",
       " 441 -0.039493 -0.004222  0.003064  \n",
       " \n",
       " [442 rows x 10 columns],\n",
       " 'target': 0      151.0\n",
       " 1       75.0\n",
       " 2      141.0\n",
       " 3      206.0\n",
       " 4      135.0\n",
       "        ...  \n",
       " 437    178.0\n",
       " 438    104.0\n",
       " 439    132.0\n",
       " 440    220.0\n",
       " 441     57.0\n",
       " Name: target, Length: 442, dtype: float64,\n",
       " 'frame':           age       sex       bmi        bp        s1        s2        s3  \\\n",
       " 0    0.038076  0.050680  0.061696  0.021872 -0.044223 -0.034821 -0.043401   \n",
       " 1   -0.001882 -0.044642 -0.051474 -0.026328 -0.008449 -0.019163  0.074412   \n",
       " 2    0.085299  0.050680  0.044451 -0.005670 -0.045599 -0.034194 -0.032356   \n",
       " 3   -0.089063 -0.044642 -0.011595 -0.036656  0.012191  0.024991 -0.036038   \n",
       " 4    0.005383 -0.044642 -0.036385  0.021872  0.003935  0.015596  0.008142   \n",
       " ..        ...       ...       ...       ...       ...       ...       ...   \n",
       " 437  0.041708  0.050680  0.019662  0.059744 -0.005697 -0.002566 -0.028674   \n",
       " 438 -0.005515  0.050680 -0.015906 -0.067642  0.049341  0.079165 -0.028674   \n",
       " 439  0.041708  0.050680 -0.015906  0.017293 -0.037344 -0.013840 -0.024993   \n",
       " 440 -0.045472 -0.044642  0.039062  0.001215  0.016318  0.015283 -0.028674   \n",
       " 441 -0.045472 -0.044642 -0.073030 -0.081413  0.083740  0.027809  0.173816   \n",
       " \n",
       "            s4        s5        s6  target  \n",
       " 0   -0.002592  0.019907 -0.017646   151.0  \n",
       " 1   -0.039493 -0.068332 -0.092204    75.0  \n",
       " 2   -0.002592  0.002861 -0.025930   141.0  \n",
       " 3    0.034309  0.022688 -0.009362   206.0  \n",
       " 4   -0.002592 -0.031988 -0.046641   135.0  \n",
       " ..        ...       ...       ...     ...  \n",
       " 437 -0.002592  0.031193  0.007207   178.0  \n",
       " 438  0.034309 -0.018114  0.044485   104.0  \n",
       " 439 -0.011080 -0.046883  0.015491   132.0  \n",
       " 440  0.026560  0.044529 -0.025930   220.0  \n",
       " 441 -0.039493 -0.004222  0.003064    57.0  \n",
       " \n",
       " [442 rows x 11 columns],\n",
       " 'DESCR': '.. _diabetes_dataset:\\n\\nDiabetes dataset\\n----------------\\n\\nTen baseline variables, age, sex, body mass index, average blood\\npressure, and six blood serum measurements were obtained for each of n =\\n442 diabetes patients, as well as the response of interest, a\\nquantitative measure of disease progression one year after baseline.\\n\\n**Data Set Characteristics:**\\n\\n  :Number of Instances: 442\\n\\n  :Number of Attributes: First 10 columns are numeric predictive values\\n\\n  :Target: Column 11 is a quantitative measure of disease progression one year after baseline\\n\\n  :Attribute Information:\\n      - age     age in years\\n      - sex\\n      - bmi     body mass index\\n      - bp      average blood pressure\\n      - s1      tc, total serum cholesterol\\n      - s2      ldl, low-density lipoproteins\\n      - s3      hdl, high-density lipoproteins\\n      - s4      tch, total cholesterol / HDL\\n      - s5      ltg, possibly log of serum triglycerides level\\n      - s6      glu, blood sugar level\\n\\nNote: Each of these 10 feature variables have been mean centered and scaled by the standard deviation times the square root of `n_samples` (i.e. the sum of squares of each column totals 1).\\n\\nSource URL:\\nhttps://www4.stat.ncsu.edu/~boos/var.select/diabetes.html\\n\\nFor more information see:\\nBradley Efron, Trevor Hastie, Iain Johnstone and Robert Tibshirani (2004) \"Least Angle Regression,\" Annals of Statistics (with discussion), 407-499.\\n(https://web.stanford.edu/~hastie/Papers/LARS/LeastAngle_2002.pdf)\\n',\n",
       " 'feature_names': ['age',\n",
       "  'sex',\n",
       "  'bmi',\n",
       "  'bp',\n",
       "  's1',\n",
       "  's2',\n",
       "  's3',\n",
       "  's4',\n",
       "  's5',\n",
       "  's6'],\n",
       " 'data_filename': 'diabetes_data_raw.csv.gz',\n",
       " 'target_filename': 'diabetes_target.csv.gz',\n",
       " 'data_module': 'sklearn.datasets.data'}"
      ]
     },
     "execution_count": 1,
     "metadata": {},
     "output_type": "execute_result"
    }
   ],
   "source": [
    "from sklearn import datasets\n",
    "\n",
    "# Load the dataset\n",
    "diabetes = datasets.load_diabetes(as_frame=True)\n",
    "diabetes"
   ]
  },
  {
   "attachments": {},
   "cell_type": "markdown",
   "metadata": {},
   "source": [
    "Se separa la variable dependiente Y de las independientes y hace el split de train y test  "
   ]
  },
  {
   "cell_type": "code",
   "execution_count": 2,
   "metadata": {},
   "outputs": [
    {
     "data": {
      "text/html": [
       "<div>\n",
       "<style scoped>\n",
       "    .dataframe tbody tr th:only-of-type {\n",
       "        vertical-align: middle;\n",
       "    }\n",
       "\n",
       "    .dataframe tbody tr th {\n",
       "        vertical-align: top;\n",
       "    }\n",
       "\n",
       "    .dataframe thead th {\n",
       "        text-align: right;\n",
       "    }\n",
       "</style>\n",
       "<table border=\"1\" class=\"dataframe\">\n",
       "  <thead>\n",
       "    <tr style=\"text-align: right;\">\n",
       "      <th></th>\n",
       "      <th>age</th>\n",
       "      <th>sex</th>\n",
       "      <th>bmi</th>\n",
       "      <th>bp</th>\n",
       "      <th>s1</th>\n",
       "      <th>s2</th>\n",
       "      <th>s3</th>\n",
       "      <th>s4</th>\n",
       "      <th>s5</th>\n",
       "      <th>s6</th>\n",
       "    </tr>\n",
       "  </thead>\n",
       "  <tbody>\n",
       "    <tr>\n",
       "      <th>4</th>\n",
       "      <td>0.005383</td>\n",
       "      <td>-0.044642</td>\n",
       "      <td>-0.036385</td>\n",
       "      <td>0.021872</td>\n",
       "      <td>0.003935</td>\n",
       "      <td>0.015596</td>\n",
       "      <td>0.008142</td>\n",
       "      <td>-0.002592</td>\n",
       "      <td>-0.031988</td>\n",
       "      <td>-0.046641</td>\n",
       "    </tr>\n",
       "    <tr>\n",
       "      <th>318</th>\n",
       "      <td>0.088931</td>\n",
       "      <td>-0.044642</td>\n",
       "      <td>0.006728</td>\n",
       "      <td>0.025315</td>\n",
       "      <td>0.030078</td>\n",
       "      <td>0.008707</td>\n",
       "      <td>0.063367</td>\n",
       "      <td>-0.039493</td>\n",
       "      <td>0.009434</td>\n",
       "      <td>0.032059</td>\n",
       "    </tr>\n",
       "    <tr>\n",
       "      <th>301</th>\n",
       "      <td>-0.001882</td>\n",
       "      <td>0.050680</td>\n",
       "      <td>-0.024529</td>\n",
       "      <td>0.052858</td>\n",
       "      <td>0.027326</td>\n",
       "      <td>0.030001</td>\n",
       "      <td>0.030232</td>\n",
       "      <td>-0.002592</td>\n",
       "      <td>-0.021395</td>\n",
       "      <td>0.036201</td>\n",
       "    </tr>\n",
       "    <tr>\n",
       "      <th>189</th>\n",
       "      <td>-0.001882</td>\n",
       "      <td>-0.044642</td>\n",
       "      <td>-0.066563</td>\n",
       "      <td>0.001215</td>\n",
       "      <td>-0.002945</td>\n",
       "      <td>0.003070</td>\n",
       "      <td>0.011824</td>\n",
       "      <td>-0.002592</td>\n",
       "      <td>-0.020292</td>\n",
       "      <td>-0.025930</td>\n",
       "    </tr>\n",
       "    <tr>\n",
       "      <th>288</th>\n",
       "      <td>0.070769</td>\n",
       "      <td>0.050680</td>\n",
       "      <td>-0.016984</td>\n",
       "      <td>0.021872</td>\n",
       "      <td>0.043837</td>\n",
       "      <td>0.056305</td>\n",
       "      <td>0.037595</td>\n",
       "      <td>-0.002592</td>\n",
       "      <td>-0.070209</td>\n",
       "      <td>-0.017646</td>\n",
       "    </tr>\n",
       "    <tr>\n",
       "      <th>...</th>\n",
       "      <td>...</td>\n",
       "      <td>...</td>\n",
       "      <td>...</td>\n",
       "      <td>...</td>\n",
       "      <td>...</td>\n",
       "      <td>...</td>\n",
       "      <td>...</td>\n",
       "      <td>...</td>\n",
       "      <td>...</td>\n",
       "      <td>...</td>\n",
       "    </tr>\n",
       "    <tr>\n",
       "      <th>220</th>\n",
       "      <td>0.023546</td>\n",
       "      <td>0.050680</td>\n",
       "      <td>-0.039618</td>\n",
       "      <td>-0.005670</td>\n",
       "      <td>-0.048351</td>\n",
       "      <td>-0.033255</td>\n",
       "      <td>0.011824</td>\n",
       "      <td>-0.039493</td>\n",
       "      <td>-0.101640</td>\n",
       "      <td>-0.067351</td>\n",
       "    </tr>\n",
       "    <tr>\n",
       "      <th>417</th>\n",
       "      <td>-0.052738</td>\n",
       "      <td>-0.044642</td>\n",
       "      <td>0.071397</td>\n",
       "      <td>-0.074527</td>\n",
       "      <td>-0.015328</td>\n",
       "      <td>-0.001314</td>\n",
       "      <td>0.004460</td>\n",
       "      <td>-0.021412</td>\n",
       "      <td>-0.046883</td>\n",
       "      <td>0.003064</td>\n",
       "    </tr>\n",
       "    <tr>\n",
       "      <th>183</th>\n",
       "      <td>0.045341</td>\n",
       "      <td>0.050680</td>\n",
       "      <td>-0.035307</td>\n",
       "      <td>0.063187</td>\n",
       "      <td>-0.004321</td>\n",
       "      <td>-0.001627</td>\n",
       "      <td>-0.010266</td>\n",
       "      <td>-0.002592</td>\n",
       "      <td>0.015568</td>\n",
       "      <td>0.056912</td>\n",
       "    </tr>\n",
       "    <tr>\n",
       "      <th>25</th>\n",
       "      <td>-0.067268</td>\n",
       "      <td>0.050680</td>\n",
       "      <td>-0.012673</td>\n",
       "      <td>-0.040099</td>\n",
       "      <td>-0.015328</td>\n",
       "      <td>0.004636</td>\n",
       "      <td>-0.058127</td>\n",
       "      <td>0.034309</td>\n",
       "      <td>0.019196</td>\n",
       "      <td>-0.034215</td>\n",
       "    </tr>\n",
       "    <tr>\n",
       "      <th>343</th>\n",
       "      <td>-0.020045</td>\n",
       "      <td>-0.044642</td>\n",
       "      <td>0.018584</td>\n",
       "      <td>0.090729</td>\n",
       "      <td>0.003935</td>\n",
       "      <td>0.008707</td>\n",
       "      <td>0.037595</td>\n",
       "      <td>-0.039493</td>\n",
       "      <td>-0.057803</td>\n",
       "      <td>0.007207</td>\n",
       "    </tr>\n",
       "  </tbody>\n",
       "</table>\n",
       "<p>353 rows × 10 columns</p>\n",
       "</div>"
      ],
      "text/plain": [
       "          age       sex       bmi        bp        s1        s2        s3  \\\n",
       "4    0.005383 -0.044642 -0.036385  0.021872  0.003935  0.015596  0.008142   \n",
       "318  0.088931 -0.044642  0.006728  0.025315  0.030078  0.008707  0.063367   \n",
       "301 -0.001882  0.050680 -0.024529  0.052858  0.027326  0.030001  0.030232   \n",
       "189 -0.001882 -0.044642 -0.066563  0.001215 -0.002945  0.003070  0.011824   \n",
       "288  0.070769  0.050680 -0.016984  0.021872  0.043837  0.056305  0.037595   \n",
       "..        ...       ...       ...       ...       ...       ...       ...   \n",
       "220  0.023546  0.050680 -0.039618 -0.005670 -0.048351 -0.033255  0.011824   \n",
       "417 -0.052738 -0.044642  0.071397 -0.074527 -0.015328 -0.001314  0.004460   \n",
       "183  0.045341  0.050680 -0.035307  0.063187 -0.004321 -0.001627 -0.010266   \n",
       "25  -0.067268  0.050680 -0.012673 -0.040099 -0.015328  0.004636 -0.058127   \n",
       "343 -0.020045 -0.044642  0.018584  0.090729  0.003935  0.008707  0.037595   \n",
       "\n",
       "           s4        s5        s6  \n",
       "4   -0.002592 -0.031988 -0.046641  \n",
       "318 -0.039493  0.009434  0.032059  \n",
       "301 -0.002592 -0.021395  0.036201  \n",
       "189 -0.002592 -0.020292 -0.025930  \n",
       "288 -0.002592 -0.070209 -0.017646  \n",
       "..        ...       ...       ...  \n",
       "220 -0.039493 -0.101640 -0.067351  \n",
       "417 -0.021412 -0.046883  0.003064  \n",
       "183 -0.002592  0.015568  0.056912  \n",
       "25   0.034309  0.019196 -0.034215  \n",
       "343 -0.039493 -0.057803  0.007207  \n",
       "\n",
       "[353 rows x 10 columns]"
      ]
     },
     "execution_count": 2,
     "metadata": {},
     "output_type": "execute_result"
    }
   ],
   "source": [
    "\n",
    "## Vartiable dependiente\n",
    "y_diabetes = diabetes['target']\n",
    "\n",
    "\n",
    "## Vartiables independientes\n",
    "X_diabetes = diabetes['data']\n",
    "\n",
    "\n",
    "## Separacion en train y test \n",
    "from sklearn.model_selection import train_test_split\n",
    "\n",
    "X_diabetes_train, X_diabetes_test, y_diabetes_train, y_diabetes_test = train_test_split(X_diabetes,y_diabetes,test_size=0.2,random_state=2023)\n",
    "X_diabetes_train"
   ]
  },
  {
   "attachments": {},
   "cell_type": "markdown",
   "metadata": {},
   "source": [
    "### Para modelo Regresión Lineal Simple  "
   ]
  },
  {
   "attachments": {},
   "cell_type": "markdown",
   "metadata": {},
   "source": [
    "Se define y entrena el modelo linear_model, además de calcular los valores predichos "
   ]
  },
  {
   "cell_type": "code",
   "execution_count": 4,
   "metadata": {},
   "outputs": [
    {
     "data": {
      "text/plain": [
       "array([164.55373422, 230.85851626, 113.38907917, 204.74116814,\n",
       "       105.52033577, 181.94343833,  82.00806999,  80.44200645,\n",
       "       131.11334734, 229.23179863,  64.57813456,  87.41220532,\n",
       "        62.10905263, 185.67733585, 167.61767614, 112.95971024,\n",
       "       134.31271633,  86.09584758, 211.57673686, 180.55183129,\n",
       "        98.68632823, 162.10216242, 135.62768379, 116.78745979,\n",
       "       132.63301895, 145.35430667, 183.40345264, 126.94847342,\n",
       "       186.85842312, 116.67929912, 112.94997783, 102.34041042,\n",
       "       218.79109715, 159.57945047, 211.26980683, 256.18130253,\n",
       "       200.77215919, 159.41401685, 164.80825925, 196.08702759,\n",
       "        93.79690234, 119.72402729, 122.30602092, 262.25806711,\n",
       "       274.20992694,  64.31380709, 131.68679794,  99.26899165,\n",
       "       251.70106532, 110.30732844, 137.84979152, 169.1755417 ,\n",
       "       146.80923048, 204.35630293, 219.58742135, 114.73124039,\n",
       "       245.37669038,  61.81665768, 252.75979509, 165.91501184,\n",
       "        99.03083736,  54.56254085,  60.32039683, 102.17571092,\n",
       "       147.96937972,  99.46756023, 171.90852276, 233.7622601 ,\n",
       "       227.48907747, 186.61434218, 155.52849719, 209.39501123,\n",
       "       153.70451048, 112.73332165, 113.22688087, 163.69603775,\n",
       "        76.62224273,  92.03257512, 107.73670268,  56.50641693,\n",
       "       200.79339739, 173.16324955,  77.41758898, 226.48711005,\n",
       "       171.60498848, 173.61781079, 107.91350719, 118.19043603,\n",
       "       105.23308047])"
      ]
     },
     "execution_count": 4,
     "metadata": {},
     "output_type": "execute_result"
    }
   ],
   "source": [
    "from sklearn import linear_model\n",
    "\n",
    "modelo_lineal_simple = linear_model.LinearRegression()\n",
    "modelo_lineal_simple.fit(X_diabetes_train,y_diabetes_train)\n",
    "\n",
    "y_pred_modelo_lineal_simple = modelo_lineal_simple.predict(X_diabetes_test)\n",
    "y_pred_modelo_lineal_simple"
   ]
  },
  {
   "attachments": {},
   "cell_type": "markdown",
   "metadata": {},
   "source": [
    "##### Evaluación del coeficiente de detemrinación (R^2 ) [para el caso del modelo_lineal_simple para dataset de diabetes]"
   ]
  },
  {
   "cell_type": "code",
   "execution_count": 9,
   "metadata": {},
   "outputs": [
    {
     "data": {
      "text/plain": [
       "0.5011352464069885"
      ]
     },
     "execution_count": 9,
     "metadata": {},
     "output_type": "execute_result"
    }
   ],
   "source": [
    "from sklearn.metrics import r2_score\n",
    "R2_score_modelo_lineal_simple = r2_score(y_diabetes_test,y_pred_modelo_lineal_simple)\n",
    "R2_score_modelo_lineal_simple "
   ]
  },
  {
   "attachments": {},
   "cell_type": "markdown",
   "metadata": {},
   "source": [
    "##### Evaluación el coeficiente de detemrinación ajustado [para el caso del modelo_lineal_simple para dataset de diabetes]"
   ]
  },
  {
   "cell_type": "code",
   "execution_count": 10,
   "metadata": {},
   "outputs": [
    {
     "data": {
      "text/plain": [
       "0.48654855770543837"
      ]
     },
     "execution_count": 10,
     "metadata": {},
     "output_type": "execute_result"
    }
   ],
   "source": [
    "R2_ajustada_modelo_lineal_simple = 1 -(1-R2_score_modelo_lineal_simple)*(len(y_diabetes_train)-1)/(len(y_diabetes_train)-len(diabetes['feature_names'])-1)\n",
    "R2_ajustada_modelo_lineal_simple"
   ]
  },
  {
   "attachments": {},
   "cell_type": "markdown",
   "metadata": {},
   "source": [
    "##### Evaluación de Errores MAE y MAPE [para el caso del modelo_lineal_simple para dataset de diabetes]"
   ]
  },
  {
   "cell_type": "code",
   "execution_count": 12,
   "metadata": {},
   "outputs": [],
   "source": [
    "from sklearn.metrics import mean_absolute_error\n",
    "from sklearn.metrics import mean_absolute_percentage_error"
   ]
  },
  {
   "attachments": {},
   "cell_type": "markdown",
   "metadata": {},
   "source": [
    "MAE [para el caso del modelo_lineal_simple para dataset de diabetes]"
   ]
  },
  {
   "cell_type": "code",
   "execution_count": 13,
   "metadata": {},
   "outputs": [
    {
     "data": {
      "text/plain": [
       "48.15457237383576"
      ]
     },
     "execution_count": 13,
     "metadata": {},
     "output_type": "execute_result"
    }
   ],
   "source": [
    "MAE_modelo_lineal_simple = mean_absolute_error(y_diabetes_test,y_pred_modelo_lineal_simple)\n",
    "MAE_modelo_lineal_simple"
   ]
  },
  {
   "attachments": {},
   "cell_type": "markdown",
   "metadata": {},
   "source": [
    "MAPE [para el caso del modelo_lineal_simple para dataset de diabetes]"
   ]
  },
  {
   "cell_type": "code",
   "execution_count": 14,
   "metadata": {},
   "outputs": [
    {
     "data": {
      "text/plain": [
       "0.49435618942943926"
      ]
     },
     "execution_count": 14,
     "metadata": {},
     "output_type": "execute_result"
    }
   ],
   "source": [
    "MAPE_modelo_lineal_simple = mean_absolute_percentage_error(y_diabetes_test,y_pred_modelo_lineal_simple)\n",
    "MAPE_modelo_lineal_simple"
   ]
  },
  {
   "attachments": {},
   "cell_type": "markdown",
   "metadata": {},
   "source": [
    "##### Evaluación de Errores MSE y RMSE  [para el caso del modelo_lineal_simple para dataset de diabetes]"
   ]
  },
  {
   "cell_type": "code",
   "execution_count": 15,
   "metadata": {},
   "outputs": [],
   "source": [
    "from sklearn.metrics import mean_squared_error"
   ]
  },
  {
   "attachments": {},
   "cell_type": "markdown",
   "metadata": {},
   "source": [
    "MSE [para el caso del modelo_lineal_simple para dataset de diabetes]"
   ]
  },
  {
   "cell_type": "code",
   "execution_count": 16,
   "metadata": {},
   "outputs": [
    {
     "data": {
      "text/plain": [
       "3490.250912883901"
      ]
     },
     "execution_count": 16,
     "metadata": {},
     "output_type": "execute_result"
    }
   ],
   "source": [
    "MSE_modelo_lineal_simple = mean_squared_error(y_diabetes_test,y_pred_modelo_lineal_simple)\n",
    "MSE_modelo_lineal_simple"
   ]
  },
  {
   "attachments": {},
   "cell_type": "markdown",
   "metadata": {},
   "source": [
    "RMSE [para el caso del modelo_lineal_simple para dataset de diabetes]"
   ]
  },
  {
   "cell_type": "code",
   "execution_count": 18,
   "metadata": {},
   "outputs": [
    {
     "data": {
      "text/plain": [
       "59.07834554965043"
      ]
     },
     "execution_count": 18,
     "metadata": {},
     "output_type": "execute_result"
    }
   ],
   "source": [
    "RMSE_modelo_lineal_simple = mean_squared_error(y_diabetes_test,y_pred_modelo_lineal_simple,squared=False)\n",
    "RMSE_modelo_lineal_simple"
   ]
  },
  {
   "attachments": {},
   "cell_type": "markdown",
   "metadata": {},
   "source": [
    "#### En general el  modelo_lineal_simple para dataset de diabetes tiene un R2 ~50% y MAPE de ~50%"
   ]
  },
  {
   "attachments": {},
   "cell_type": "markdown",
   "metadata": {},
   "source": [
    "### Para modelo Regresión KNN  "
   ]
  },
  {
   "cell_type": "code",
   "execution_count": 19,
   "metadata": {},
   "outputs": [],
   "source": [
    "from sklearn.neighbors import KNeighborsRegressor\n",
    "from sklearn.neighbors import RadiusNeighborsRegressor"
   ]
  },
  {
   "attachments": {},
   "cell_type": "markdown",
   "metadata": {},
   "source": [
    "Vamos a definir los objetos que contendran los modelos k y/o radio específico "
   ]
  },
  {
   "cell_type": "code",
   "execution_count": 32,
   "metadata": {},
   "outputs": [],
   "source": [
    "modeloKNN_regression_n5 = KNeighborsRegressor(n_neighbors=5)\n",
    "modeloR_regression_R10 = RadiusNeighborsRegressor(radius=10)"
   ]
  },
  {
   "attachments": {},
   "cell_type": "markdown",
   "metadata": {},
   "source": [
    "Se entrenan los modelos modeloKNN_regression & modeloR_regression, además de calcular los valores predichos con cada uno de ellos\n",
    "(con un n_neighbors=5 y radius=10, respecivamente)  [para el caso de dataset de diabetes]"
   ]
  },
  {
   "cell_type": "code",
   "execution_count": 34,
   "metadata": {},
   "outputs": [
    {
     "data": {
      "text/plain": [
       "array([152.94334278, 152.94334278, 152.94334278, 152.94334278,\n",
       "       152.94334278, 152.94334278, 152.94334278, 152.94334278,\n",
       "       152.94334278, 152.94334278, 152.94334278, 152.94334278,\n",
       "       152.94334278, 152.94334278, 152.94334278, 152.94334278,\n",
       "       152.94334278, 152.94334278, 152.94334278, 152.94334278,\n",
       "       152.94334278, 152.94334278, 152.94334278, 152.94334278,\n",
       "       152.94334278, 152.94334278, 152.94334278, 152.94334278,\n",
       "       152.94334278, 152.94334278, 152.94334278, 152.94334278,\n",
       "       152.94334278, 152.94334278, 152.94334278, 152.94334278,\n",
       "       152.94334278, 152.94334278, 152.94334278, 152.94334278,\n",
       "       152.94334278, 152.94334278, 152.94334278, 152.94334278,\n",
       "       152.94334278, 152.94334278, 152.94334278, 152.94334278,\n",
       "       152.94334278, 152.94334278, 152.94334278, 152.94334278,\n",
       "       152.94334278, 152.94334278, 152.94334278, 152.94334278,\n",
       "       152.94334278, 152.94334278, 152.94334278, 152.94334278,\n",
       "       152.94334278, 152.94334278, 152.94334278, 152.94334278,\n",
       "       152.94334278, 152.94334278, 152.94334278, 152.94334278,\n",
       "       152.94334278, 152.94334278, 152.94334278, 152.94334278,\n",
       "       152.94334278, 152.94334278, 152.94334278, 152.94334278,\n",
       "       152.94334278, 152.94334278, 152.94334278, 152.94334278,\n",
       "       152.94334278, 152.94334278, 152.94334278, 152.94334278,\n",
       "       152.94334278, 152.94334278, 152.94334278, 152.94334278,\n",
       "       152.94334278])"
      ]
     },
     "execution_count": 34,
     "metadata": {},
     "output_type": "execute_result"
    }
   ],
   "source": [
    "\n",
    "# Se entrena y aplica el modelo KNN regression a la dataset de diabetes (para un n_neighbors=5)\n",
    "\n",
    "modeloKNN_regression_n5 = modeloKNN_regression_n5.fit(X_diabetes_train,y_diabetes_train)\n",
    "y_pred_modeloKNN_regression_n5 = modeloKNN_regression_n5.predict(X_diabetes_test)\n",
    "y_pred_modeloKNN_regression_n5\n",
    "\n",
    "\n",
    "\n",
    "# Se entrena y aplica el modelo KNN regression a la dataset de diabetes (para un radius=10)\n",
    "\n",
    "modeloR_regression_R10 = modeloR_regression_R10.fit(X_diabetes_train,y_diabetes_train)\n",
    "y_pred_modeloR_regression_R10 = modeloR_regression_R10.predict(X_diabetes_test)\n",
    "y_pred_modeloR_regression_R10\n"
   ]
  },
  {
   "attachments": {},
   "cell_type": "markdown",
   "metadata": {},
   "source": [
    "##### Evaluación del coeficiente de detemrinación (R^2 ) [para el caso del modeloKNN_regression y modeloR_regression  para dataset de diabetes]"
   ]
  },
  {
   "attachments": {},
   "cell_type": "markdown",
   "metadata": {},
   "source": [
    "- R2 score para el caso del modeloKNN_regression para dataset de diabetes"
   ]
  },
  {
   "cell_type": "code",
   "execution_count": 42,
   "metadata": {},
   "outputs": [
    {
     "data": {
      "text/plain": [
       "0.41554752645070003"
      ]
     },
     "execution_count": 42,
     "metadata": {},
     "output_type": "execute_result"
    }
   ],
   "source": [
    "from sklearn.metrics import r2_score\n",
    "R2_score_modeloKNN_regression_n5 = r2_score(y_diabetes_test,y_pred_modeloKNN_regression_n5)\n",
    "R2_score_modeloKNN_regression_n5"
   ]
  },
  {
   "attachments": {},
   "cell_type": "markdown",
   "metadata": {},
   "source": [
    "Evaluación de diferentes valores de R2 score para diferentes valores de n_neighbors en el caso del modeloKNN_regression para dataset de diabetes"
   ]
  },
  {
   "cell_type": "code",
   "execution_count": 30,
   "metadata": {},
   "outputs": [
    {
     "data": {
      "image/png": "[encoded data removed]",
      "text/plain": [
       "<Figure size 432x288 with 1 Axes>"
      ]
     },
     "metadata": {
      "needs_background": "light"
     },
     "output_type": "display_data"
    }
   ],
   "source": [
    "import numpy as np\n",
    "import matplotlib.pyplot as plt\n",
    "from sklearn.neighbors import KNeighborsRegressor\n",
    "from sklearn.metrics import mean_squared_error\n",
    "\n",
    "# Define the range of k values\n",
    "n_neighbors_values = np.arange(1, 15)\n",
    "\n",
    "# Initialize an empty list to store the R2 values\n",
    "R2_score_values = []\n",
    "\n",
    "# Loop through each k value\n",
    "for n in n_neighbors_values:\n",
    "    # Define the KNN regression model\n",
    "    modeloK = KNeighborsRegressor(n_neighbors=n)\n",
    "    \n",
    "    # Fit the model to the training data\n",
    "    modeloK.fit(X_diabetes_train, y_diabetes_train)\n",
    "    \n",
    "    # Make predictions on the test data\n",
    "    y_pred_modeloKNN_regression = modeloK.predict(X_diabetes_test)\n",
    "    \n",
    "    # Calculate the R2_score\n",
    "    R2_score_modeloKNN_regression = r2_score(y_diabetes_test,y_pred_modeloKNN_regression)\n",
    "   \n",
    "    \n",
    "    # Append the RMSE value to the list\n",
    "    R2_score_values.append(R2_score_modeloKNN_regression)\n",
    "\n",
    "# Plot the RMSE values against the k values\n",
    "plt.plot(n_neighbors_values, R2_score_values, marker='o')\n",
    "plt.xlabel('n_values')\n",
    "plt.ylabel('R2 score')\n",
    "plt.title('R2 score vs. n in KNN Regression')\n",
    "plt.show()"
   ]
  },
  {
   "attachments": {},
   "cell_type": "markdown",
   "metadata": {},
   "source": [
    "- R2 score para el caso del modeloR_regression para dataset de diabetes"
   ]
  },
  {
   "cell_type": "code",
   "execution_count": 40,
   "metadata": {},
   "outputs": [
    {
     "data": {
      "text/plain": [
       "-0.0023121132781622755"
      ]
     },
     "execution_count": 40,
     "metadata": {},
     "output_type": "execute_result"
    }
   ],
   "source": [
    "from sklearn.metrics import r2_score\n",
    "R2_score_modeloR_regression_R10 = r2_score(y_diabetes_test,y_pred_modeloR_regression_R10)\n",
    "R2_score_modeloR_regression_R10"
   ]
  },
  {
   "attachments": {},
   "cell_type": "markdown",
   "metadata": {},
   "source": [
    "Evaluación de diferentes valores de R2 score para diferentes valores de R_values en el caso del modeloR_regression para dataset de diabetes"
   ]
  },
  {
   "cell_type": "code",
   "execution_count": 41,
   "metadata": {},
   "outputs": [
    {
     "data": {
      "image/png": "[encoded data removed]",
      "text/plain": [
       "<Figure size 432x288 with 1 Axes>"
      ]
     },
     "metadata": {
      "needs_background": "light"
     },
     "output_type": "display_data"
    }
   ],
   "source": [
    "import numpy as np\n",
    "import matplotlib.pyplot as plt\n",
    "from sklearn.neighbors import RadiusNeighborsRegressor\n",
    "from sklearn.metrics import mean_squared_error\n",
    "\n",
    "\n",
    "# Define the range of R values\n",
    "R_values = np.arange(1, 15)\n",
    "\n",
    "\n",
    "# Initialize an empty list to store the R2 values\n",
    "R2_score_values = []\n",
    "\n",
    "# Loop through each k value\n",
    "for r in R_values:\n",
    "    # Define the KNN regression model\n",
    "    modeloR = RadiusNeighborsRegressor(radius=r)\n",
    "    \n",
    "    # Fit the model to the training data\n",
    "    modeloR.fit(X_diabetes_train, y_diabetes_train)\n",
    "    \n",
    "    # Make predictions on the test data\n",
    "    y_pred_modeloR_regression = modeloR.predict(X_diabetes_test)\n",
    "    \n",
    "    # Calculate the R2_score\n",
    "    R2_score_modelo_R_regression = r2_score(y_diabetes_test,y_pred_modeloR_regression)\n",
    "   \n",
    "    \n",
    "    # Append the RMSE value to the list\n",
    "    R2_score_values.append(R2_score_modeloKNN_regression)\n",
    "\n",
    "# Plot the RMSE values against the k values\n",
    "plt.plot(R_values, R2_score_values, marker='o')\n",
    "plt.xlabel('R_values')\n",
    "plt.ylabel('R2 score')\n",
    "plt.title('R2 score vs. R values  in R Regression')\n",
    "plt.show()"
   ]
  },
  {
   "attachments": {},
   "cell_type": "markdown",
   "metadata": {},
   "source": [
    "##### Evaluación el coeficiente de determinación ajustado [para el caso del modeloKNN_regression y modeloR_regression  para dataset de diabetes]"
   ]
  },
  {
   "attachments": {},
   "cell_type": "markdown",
   "metadata": {},
   "source": [
    "- R2 ajustada para el caso del modeloKNN_regression para dataset de diabetes"
   ]
  },
  {
   "cell_type": "code",
   "execution_count": 38,
   "metadata": {},
   "outputs": [
    {
     "data": {
      "text/plain": [
       "0.464655283327042"
      ]
     },
     "execution_count": 38,
     "metadata": {},
     "output_type": "execute_result"
    }
   ],
   "source": [
    "R2_ajustada_modeloKNN_regression_n5 = 1 -(1-R2_score_modeloKNN_regression_n5)*(len(y_diabetes_train)-1)/(len(y_diabetes_train)-len(diabetes['feature_names'])-1)\n",
    "R2_ajustada_modeloKNN_regression_n5"
   ]
  },
  {
   "attachments": {},
   "cell_type": "markdown",
   "metadata": {},
   "source": [
    "- R2 ajustada para el caso del modeloR_regression para dataset de diabetes"
   ]
  },
  {
   "cell_type": "code",
   "execution_count": 27,
   "metadata": {},
   "outputs": [
    {
     "data": {
      "text/plain": [
       "-0.03161948501144196"
      ]
     },
     "execution_count": 27,
     "metadata": {},
     "output_type": "execute_result"
    }
   ],
   "source": [
    "R2_ajustada_modeloR_regression = 1 -(1-R2_score_modeloR_regression)*(len(y_diabetes_train)-1)/(len(y_diabetes_train)-len(diabetes['feature_names'])-1)\n",
    "R2_ajustada_modeloR_regression"
   ]
  },
  {
   "attachments": {},
   "cell_type": "markdown",
   "metadata": {},
   "source": [
    "#### En general se muestra que el valor máximo de R2 alcanzado es de 50% "
   ]
  },
  {
   "attachments": {},
   "cell_type": "markdown",
   "metadata": {},
   "source": [
    "##### Evaluación de Errores MAE y MAPE [para el caso del modeloKNN_regression y modeloR_regression  para dataset de diabetes]"
   ]
  },
  {
   "cell_type": "code",
   "execution_count": null,
   "metadata": {},
   "outputs": [],
   "source": [
    "from sklearn.metrics import mean_absolute_error\n",
    "from sklearn.metrics import mean_absolute_percentage_error"
   ]
  },
  {
   "attachments": {},
   "cell_type": "markdown",
   "metadata": {},
   "source": [
    "##### Evaluación de Errores MAE y MAPE [para el caso del modeloKNN_regression y modelo_R_regression para dataset de diabetes]"
   ]
  },
  {
   "attachments": {},
   "cell_type": "markdown",
   "metadata": {},
   "source": [
    "MAE [para el caso del modeloKNN_regression_n5 para dataset de diabetes]"
   ]
  },
  {
   "cell_type": "code",
   "execution_count": 43,
   "metadata": {},
   "outputs": [
    {
     "data": {
      "text/plain": [
       "52.89213483146068"
      ]
     },
     "execution_count": 43,
     "metadata": {},
     "output_type": "execute_result"
    }
   ],
   "source": [
    "MAE_modeloKNN_regression_n5 = mean_absolute_error(y_diabetes_test,y_pred_modeloKNN_regression_n5)\n",
    "MAE_modeloKNN_regression_n5"
   ]
  },
  {
   "attachments": {},
   "cell_type": "markdown",
   "metadata": {},
   "source": [
    "MAPE [para el caso del modeloKNN_regression_n5 para dataset de diabetes]"
   ]
  },
  {
   "cell_type": "code",
   "execution_count": 44,
   "metadata": {},
   "outputs": [
    {
     "data": {
      "text/plain": [
       "0.519964105985823"
      ]
     },
     "execution_count": 44,
     "metadata": {},
     "output_type": "execute_result"
    }
   ],
   "source": [
    "MAPE_modeloKNN_regression_n5 = mean_absolute_percentage_error(y_diabetes_test,y_pred_modeloKNN_regression_n5)\n",
    "MAPE_modeloKNN_regression_n5"
   ]
  },
  {
   "attachments": {},
   "cell_type": "markdown",
   "metadata": {},
   "source": [
    "Evaluación de diferentes valores de MAPE score para diferentes valores de n_neighbors en el caso del modeloKNN_regression para dataset de diabetes"
   ]
  },
  {
   "cell_type": "code",
   "execution_count": 45,
   "metadata": {},
   "outputs": [
    {
     "data": {
      "image/png": "[encoded data removed]",
      "text/plain": [
       "<Figure size 432x288 with 1 Axes>"
      ]
     },
     "metadata": {
      "needs_background": "light"
     },
     "output_type": "display_data"
    }
   ],
   "source": [
    "import numpy as np\n",
    "import matplotlib.pyplot as plt\n",
    "from sklearn.neighbors import KNeighborsRegressor\n",
    "from sklearn.metrics import mean_squared_error\n",
    "\n",
    "# Define the range of k values\n",
    "n_neighbors_values = np.arange(1, 15)\n",
    "\n",
    "# Initialize an empty list to store the R2 values\n",
    "MAPE_score_values = []\n",
    "\n",
    "# Loop through each k value\n",
    "for n in n_neighbors_values:\n",
    "    # Define the KNN regression model\n",
    "    modeloK = KNeighborsRegressor(n_neighbors=n)\n",
    "    \n",
    "    # Fit the model to the training data\n",
    "    modeloK.fit(X_diabetes_train, y_diabetes_train)\n",
    "    \n",
    "    # Make predictions on the test data\n",
    "    y_pred_modeloKNN_regression = modeloK.predict(X_diabetes_test)\n",
    "    \n",
    "    # Calculate the  MAPE score\n",
    "\n",
    "    MAPE_modeloKNN_regression = mean_absolute_percentage_error(y_diabetes_test,y_pred_modeloKNN_regression)\n",
    "\n",
    "    \n",
    "    # Append the RMSE value to the list\n",
    "    MAPE_score_values.append(MAPE_modeloKNN_regression)\n",
    "\n",
    "# Plot the RMSE values against the k values\n",
    "plt.plot(n_neighbors_values, MAPE_score_values, marker='o')\n",
    "plt.xlabel('n_values')\n",
    "plt.ylabel('MAPE_score_values')\n",
    "plt.title('MAPE_score_values vs. n in KNN Regression')\n",
    "plt.show()"
   ]
  },
  {
   "attachments": {},
   "cell_type": "markdown",
   "metadata": {},
   "source": [
    "#####  Errores MAE y MAPE [para el caso del modelo_R_regression para dataset de diabetes]"
   ]
  },
  {
   "attachments": {},
   "cell_type": "markdown",
   "metadata": {},
   "source": [
    "MAE [para el caso del modelo_R_regression_R10 para dataset de diabetes]"
   ]
  },
  {
   "cell_type": "code",
   "execution_count": 46,
   "metadata": {},
   "outputs": [
    {
     "data": {
      "text/plain": [
       "74.38625584874431"
      ]
     },
     "execution_count": 46,
     "metadata": {},
     "output_type": "execute_result"
    }
   ],
   "source": [
    "MAE_modelo_R_regression_R10 = mean_absolute_error(y_diabetes_test,y_pred_modeloR_regression_R10)\n",
    "MAE_modelo_R_regression_R10"
   ]
  },
  {
   "attachments": {},
   "cell_type": "markdown",
   "metadata": {},
   "source": [
    "MAPE [para el caso del modelo_R_regression_R10 para dataset de diabetes]"
   ]
  },
  {
   "cell_type": "code",
   "execution_count": 47,
   "metadata": {},
   "outputs": [
    {
     "data": {
      "text/plain": [
       "0.8000483381217898"
      ]
     },
     "execution_count": 47,
     "metadata": {},
     "output_type": "execute_result"
    }
   ],
   "source": [
    "MAPE_modelo_R_regression_R10 = mean_absolute_percentage_error(y_diabetes_test,y_pred_modeloR_regression_R10)\n",
    "MAPE_modelo_R_regression_R10"
   ]
  },
  {
   "attachments": {},
   "cell_type": "markdown",
   "metadata": {},
   "source": [
    "Evaluación de diferentes valores de MAPE score para diferentes valores de n_neighbors en el caso del modeloKNN_regression para dataset de diabetes"
   ]
  },
  {
   "cell_type": "code",
   "execution_count": 48,
   "metadata": {},
   "outputs": [
    {
     "data": {
      "image/png": "[encoded data removed]",
      "text/plain": [
       "<Figure size 432x288 with 1 Axes>"
      ]
     },
     "metadata": {
      "needs_background": "light"
     },
     "output_type": "display_data"
    }
   ],
   "source": [
    "import numpy as np\n",
    "import matplotlib.pyplot as plt\n",
    "from sklearn.neighbors import RadiusNeighborsRegressor\n",
    "from sklearn.metrics import mean_squared_error\n",
    "\n",
    "# Define the range of k values\n",
    "n_neighbors_values = np.arange(1, 15)\n",
    "\n",
    "# Initialize an empty list to store the R2 values\n",
    "MAPE_score_values = []\n",
    "\n",
    "# Loop through each k value\n",
    "for r in R_values:\n",
    "    # Define the KNN regression model\n",
    "    modeloR = RadiusNeighborsRegressor(radius=r)\n",
    "    \n",
    "    # Fit the model to the training data\n",
    "    modeloR.fit(X_diabetes_train, y_diabetes_train)\n",
    "    \n",
    "    # Make predictions on the test data\n",
    "    y_pred_modelo_R_regression = modeloK.predict(X_diabetes_test)\n",
    "    \n",
    "    # Calculate the  MAPE score\n",
    "\n",
    "    MAPE_modelo_R_regression = mean_absolute_percentage_error(y_diabetes_test,y_pred_modelo_R_regression)\n",
    "\n",
    "    \n",
    "    # Append the RMSE value to the list\n",
    "    MAPE_score_values.append(MAPE_modelo_R_regression)\n",
    "\n",
    "# Plot the RMSE values against the k values\n",
    "plt.plot(n_neighbors_values, MAPE_score_values, marker='o')\n",
    "plt.xlabel('n_values')\n",
    "plt.ylabel('MAPE_score_values')\n",
    "plt.title('MAPE_score_values vs. r in R Regression')\n",
    "plt.show()"
   ]
  },
  {
   "attachments": {},
   "cell_type": "markdown",
   "metadata": {},
   "source": [
    "#### En general el  modelo_KNN_Regression para dataset de diabetes tiene un R2 ~40% y MAPE de ~60%"
   ]
  },
  {
   "attachments": {},
   "cell_type": "markdown",
   "metadata": {},
   "source": [
    "### Para modelo Arbol_Regression  "
   ]
  },
  {
   "attachments": {},
   "cell_type": "markdown",
   "metadata": {},
   "source": [
    "Se definen y entrenan los modelos DecisionTreeRegressor(max_depth) & DecisionTreeRegressor(min_samples_leaf), además de calcular los valores predichos con cada uno de ellos\n",
    "(con un max_depth=3 y min_samples_leaf=5, respecivamente)  [para el caso de dataset de diabetes]"
   ]
  },
  {
   "cell_type": "code",
   "execution_count": 52,
   "metadata": {},
   "outputs": [],
   "source": [
    "from sklearn.tree import DecisionTreeRegressor\n",
    "\n",
    "# Se define el arbol de regresión por Profundidad\n",
    "arbolP_depth3 = DecisionTreeRegressor(max_depth=3)\n",
    "\n",
    "# # Se define el arbol de regresión por Hojas\n",
    "arbolH_Leaf3 = DecisionTreeRegressor(min_samples_leaf=5)\n",
    "\n",
    "\n",
    "\n",
    "# Se entrena el arbol de regresión por Profundidad\n",
    "arbolP_depth3 = arbolP_depth3.fit(X_diabetes_train,y_diabetes_train)\n",
    "\n",
    "# # Se entrena el arbol de regresión por Hojas\n",
    "arbolH_Leaf3 = arbolH_Leaf3.fit(X_diabetes_train,y_diabetes_train)"
   ]
  },
  {
   "attachments": {},
   "cell_type": "markdown",
   "metadata": {},
   "source": [
    "Se calculan los valores predichos para los modelos DecisionTreeRegressor(max_depth=3) & DecisionTreeRegressor(min_samples_leaf=5)"
   ]
  },
  {
   "cell_type": "code",
   "execution_count": 53,
   "metadata": {},
   "outputs": [
    {
     "data": {
      "text/plain": [
       "array([187.4       , 286.33333333,  66.55555556, 202.14285714,\n",
       "       145.4       , 229.16666667,  85.6       , 123.875     ,\n",
       "       217.33333333, 240.2       ,  85.6       , 152.28571429,\n",
       "        45.83333333,  99.11111111, 135.625     , 113.75      ,\n",
       "       193.8       , 135.33333333, 117.4       , 217.33333333,\n",
       "        66.4       , 129.        , 145.4       , 229.16666667,\n",
       "       147.2       , 117.4       ,  96.57142857,  74.66666667,\n",
       "       202.14285714, 113.75      , 152.28571429, 217.33333333,\n",
       "       202.14285714, 189.4       , 217.33333333, 300.33333333,\n",
       "       202.14285714, 166.14285714, 129.        , 240.2       ,\n",
       "        82.42857143, 113.75      ,  82.42857143, 220.5       ,\n",
       "       279.6       , 147.2       , 113.75      ,  63.77777778,\n",
       "       249.85714286,  92.22222222,  74.66666667,  74.66666667,\n",
       "       113.75      , 222.2       , 217.33333333, 152.28571429,\n",
       "       286.33333333,  66.4       , 217.55555556, 166.14285714,\n",
       "       152.28571429,  74.66666667,  63.77777778,  66.55555556,\n",
       "       113.75      ,  97.4       ,  99.11111111,  96.57142857,\n",
       "       202.14285714, 222.2       , 229.16666667, 249.85714286,\n",
       "       229.16666667,  66.55555556,  66.55555556, 135.625     ,\n",
       "        45.83333333, 155.6       ,  97.4       ,  74.66666667,\n",
       "       222.2       , 222.2       ,  78.2       , 222.2       ,\n",
       "       150.25      , 129.        ,  85.6       ,  82.42857143,\n",
       "        78.2       ])"
      ]
     },
     "execution_count": 53,
     "metadata": {},
     "output_type": "execute_result"
    }
   ],
   "source": [
    " \n",
    "# Se aplica el  arbol de regresión por Profundidad (max_depth=3)\n",
    "\n",
    "y_pred_arbolP_depth3 = arbolP_depth3.predict(X_diabetes_test)\n",
    "y_pred_arbolP_depth3\n",
    "\n",
    "\n",
    "\n",
    "# # Se aplica el  arbol de regresión por Hojas (max_depth=3)\n",
    "\n",
    "y_pred_arbolH_Leaf3 = arbolH_Leaf3.predict(X_diabetes_test)\n",
    "y_pred_arbolH_Leaf3\n"
   ]
  },
  {
   "attachments": {},
   "cell_type": "markdown",
   "metadata": {},
   "source": [
    "##### Evaluación de Errores MAE y MAPE [DecisionTreeRegressor(max_depth=3) & DecisionTreeRegressor(min_samples_leaf=5)  para dataset de diabetes]"
   ]
  },
  {
   "cell_type": "code",
   "execution_count": 54,
   "metadata": {},
   "outputs": [],
   "source": [
    "from sklearn.metrics import mean_absolute_error\n",
    "from sklearn.metrics import mean_absolute_percentage_error"
   ]
  },
  {
   "attachments": {},
   "cell_type": "markdown",
   "metadata": {},
   "source": [
    "##### Evaluación de Errores MAE y MAPE [DecisionTreeRegressor(max_depth=3) para dataset de diabetes]"
   ]
  },
  {
   "attachments": {},
   "cell_type": "markdown",
   "metadata": {},
   "source": [
    "MAE [para el caso del DecisionTreeRegressor(max_depth=3) para dataset de diabetes]"
   ]
  },
  {
   "cell_type": "code",
   "execution_count": 61,
   "metadata": {},
   "outputs": [
    {
     "data": {
      "text/plain": [
       "55.456030104097735"
      ]
     },
     "execution_count": 61,
     "metadata": {},
     "output_type": "execute_result"
    }
   ],
   "source": [
    "MAE_arbolP_depth3 = mean_absolute_error(y_diabetes_test,y_pred_arbolP_depth3)\n",
    "MAE_arbolP_depth3"
   ]
  },
  {
   "attachments": {},
   "cell_type": "markdown",
   "metadata": {},
   "source": [
    "MAPE [para el caso del DecisionTreeRegressor(max_depth=3) para dataset de diabetes]"
   ]
  },
  {
   "cell_type": "code",
   "execution_count": 62,
   "metadata": {},
   "outputs": [
    {
     "data": {
      "text/plain": [
       "0.5240636604070654"
      ]
     },
     "execution_count": 62,
     "metadata": {},
     "output_type": "execute_result"
    }
   ],
   "source": [
    "MAPE_arbolP_depth3 = mean_absolute_percentage_error(y_diabetes_test,y_pred_arbolP_depth3)\n",
    "MAPE_arbolP_depth3"
   ]
  },
  {
   "attachments": {},
   "cell_type": "markdown",
   "metadata": {},
   "source": [
    "Vamos a graficar el resultado de arbolP_depth3"
   ]
  },
  {
   "cell_type": "code",
   "execution_count": 57,
   "metadata": {},
   "outputs": [
    {
     "data": {
      "image/png": "[encoded data removed]",
      "text/plain": [
       "<Figure size 1080x720 with 1 Axes>"
      ]
     },
     "metadata": {
      "needs_background": "light"
     },
     "output_type": "display_data"
    }
   ],
   "source": [
    "import matplotlib.pyplot as plt\n",
    "from sklearn import tree\n",
    "\n",
    "plt.figure(figsize=(15,10))\n",
    "tree.plot_tree(arbolP_depth3)\n",
    "plt.show()"
   ]
  },
  {
   "attachments": {},
   "cell_type": "markdown",
   "metadata": {},
   "source": [
    "Para determinar la importancia de cada feature o característica Xj "
   ]
  },
  {
   "cell_type": "code",
   "execution_count": 58,
   "metadata": {},
   "outputs": [
    {
     "data": {
      "text/plain": [
       "array([0.        , 0.        , 0.32310076, 0.0317303 , 0.        ,\n",
       "       0.        , 0.        , 0.        , 0.5950418 , 0.05012714])"
      ]
     },
     "execution_count": 58,
     "metadata": {},
     "output_type": "execute_result"
    }
   ],
   "source": [
    "arbolP_depth3.feature_importances_"
   ]
  },
  {
   "attachments": {},
   "cell_type": "markdown",
   "metadata": {},
   "source": [
    "Denuevo se evidencía que los parámetros 'con mayor reelevancia' son el X[2]->bmi y X[8]->s5"
   ]
  },
  {
   "attachments": {},
   "cell_type": "markdown",
   "metadata": {},
   "source": [
    "Evaluación de diferentes valores de MAPE score para diferentes valores de max_depth_values en el caso del DecisionTreeRegressor(max_depth) para dataset de diabetes"
   ]
  },
  {
   "cell_type": "code",
   "execution_count": 60,
   "metadata": {},
   "outputs": [
    {
     "data": {
      "image/png": "[encoded data removed]",
      "text/plain": [
       "<Figure size 432x288 with 1 Axes>"
      ]
     },
     "metadata": {
      "needs_background": "light"
     },
     "output_type": "display_data"
    }
   ],
   "source": [
    "import numpy as np\n",
    "import matplotlib.pyplot as plt\n",
    "from sklearn.tree import DecisionTreeRegressor\n",
    "from sklearn.metrics import mean_squared_error\n",
    "\n",
    "# Define the range of max_depth values\n",
    "max_depth_values = np.arange(1, 11)\n",
    "\n",
    "MAPE_score_values = []\n",
    "\n",
    "# Loop through each max_depth value\n",
    "for max_depth in max_depth_values:\n",
    "    # Define the Decision Tree regression model\n",
    "    arbolP = DecisionTreeRegressor(max_depth=max_depth)\n",
    "    \n",
    "    # Fit the model to the training data\n",
    "    arbolP.fit(X_diabetes_train, y_diabetes_train)\n",
    "    \n",
    "    # Make predictions on the test data\n",
    "    y_pred_arbolP = arbolP.predict(X_diabetes_test)\n",
    "    \n",
    "    # Calculate the  MAPE score\n",
    "\n",
    "    MAPE_modelo_arbolP = mean_absolute_percentage_error(y_diabetes_test,y_pred_arbolP)\n",
    "\n",
    "    \n",
    "    # Append the RMSE value to the list\n",
    "    MAPE_score_values.append(MAPE_modelo_arbolP)\n",
    "\n",
    "\n",
    "# Plot the RMSE values against the max_depth values\n",
    "plt.plot(max_depth_values, MAPE_score_values, marker='o')\n",
    "plt.xlabel('max_depth')\n",
    "plt.ylabel('MAPE')\n",
    "plt.title('MAPE vs. max_depth in Decision Tree Regression P')\n",
    "plt.show()"
   ]
  },
  {
   "attachments": {},
   "cell_type": "markdown",
   "metadata": {},
   "source": [
    "##### Evaluación de Errores MAE y MAPE [DecisionTreeRegressor(min_samples_leaf=5)  para dataset de diabetes]"
   ]
  },
  {
   "attachments": {},
   "cell_type": "markdown",
   "metadata": {},
   "source": [
    "MAE [para el caso del DecisionTreeRegressor(min_samples_leaf=5) para dataset de diabetes]"
   ]
  },
  {
   "cell_type": "code",
   "execution_count": 63,
   "metadata": {},
   "outputs": [
    {
     "data": {
      "text/plain": [
       "62.22387640449438"
      ]
     },
     "execution_count": 63,
     "metadata": {},
     "output_type": "execute_result"
    }
   ],
   "source": [
    "MAE_arbolH_Leaf3 = mean_absolute_error(y_diabetes_test,y_pred_arbolH_Leaf3)\n",
    "MAE_arbolH_Leaf3"
   ]
  },
  {
   "attachments": {},
   "cell_type": "markdown",
   "metadata": {},
   "source": [
    "MAPE [para el caso del DecisionTreeRegressor(min_samples_leaf=5) para dataset de diabetes]"
   ]
  },
  {
   "cell_type": "code",
   "execution_count": 64,
   "metadata": {},
   "outputs": [
    {
     "data": {
      "text/plain": [
       "0.5833924226075836"
      ]
     },
     "execution_count": 64,
     "metadata": {},
     "output_type": "execute_result"
    }
   ],
   "source": [
    "MAPE_arbolH_Leaf3 = mean_absolute_percentage_error(y_diabetes_test,y_pred_arbolH_Leaf3)\n",
    "MAPE_arbolH_Leaf3"
   ]
  },
  {
   "attachments": {},
   "cell_type": "markdown",
   "metadata": {},
   "source": [
    "Vamos a graficar el resultado de arbolH_Leaf3"
   ]
  },
  {
   "cell_type": "code",
   "execution_count": 65,
   "metadata": {},
   "outputs": [
    {
     "data": {
      "image/png": "[encoded data removed]",
      "text/plain": [
       "<Figure size 1080x720 with 1 Axes>"
      ]
     },
     "metadata": {
      "needs_background": "light"
     },
     "output_type": "display_data"
    }
   ],
   "source": [
    "import matplotlib.pyplot as plt\n",
    "from sklearn import tree\n",
    "\n",
    "plt.figure(figsize=(15,10))\n",
    "tree.plot_tree(arbolH_Leaf3)\n",
    "plt.show()"
   ]
  },
  {
   "attachments": {},
   "cell_type": "markdown",
   "metadata": {},
   "source": [
    "Para determinar la importancia de cada feature o característica Xj "
   ]
  },
  {
   "cell_type": "code",
   "execution_count": 66,
   "metadata": {},
   "outputs": [
    {
     "data": {
      "text/plain": [
       "array([0.02707058, 0.01072897, 0.27282189, 0.07111367, 0.03254637,\n",
       "       0.05314753, 0.03402995, 0.00333506, 0.42402385, 0.07118213])"
      ]
     },
     "execution_count": 66,
     "metadata": {},
     "output_type": "execute_result"
    }
   ],
   "source": [
    "arbolH_Leaf3.feature_importances_"
   ]
  },
  {
   "attachments": {},
   "cell_type": "markdown",
   "metadata": {},
   "source": [
    "Evaluación de diferentes valores de MAPE score para diferentes valores de max_depth_values en el caso del DecisionTreeRegressor(max_depth) para dataset de diabetes"
   ]
  },
  {
   "cell_type": "code",
   "execution_count": 67,
   "metadata": {},
   "outputs": [
    {
     "data": {
      "image/png": "[encoded data removed]",
      "text/plain": [
       "<Figure size 432x288 with 1 Axes>"
      ]
     },
     "metadata": {
      "needs_background": "light"
     },
     "output_type": "display_data"
    }
   ],
   "source": [
    "import numpy as np\n",
    "import matplotlib.pyplot as plt\n",
    "from sklearn.tree import DecisionTreeRegressor\n",
    "from sklearn.metrics import mean_squared_error\n",
    "\n",
    "# Define the range of max_depth values\n",
    "min_leaf_values = np.arange(1, 11)\n",
    "\n",
    "MAPE_score_values = []\n",
    "\n",
    "# Loop through each max_depth value\n",
    "for l in min_leaf_values:\n",
    "   \n",
    "    # # Se define el arbol de regresión por Hojas\n",
    "    arbolH = DecisionTreeRegressor(min_samples_leaf=l)\n",
    "    \n",
    "    # Fit the model to the training data\n",
    "    arbolH.fit(X_diabetes_train, y_diabetes_train)\n",
    "    \n",
    "    # Make predictions on the test data\n",
    "    y_pred_arbolH = arbolH.predict(X_diabetes_test)\n",
    "    \n",
    "    # Calculate the  MAPE score\n",
    "\n",
    "    MAPE_modelo_arbolH = mean_absolute_percentage_error(y_diabetes_test,y_pred_arbolH)\n",
    "\n",
    "    \n",
    "    # Append the RMSE value to the list\n",
    "    MAPE_score_values.append(MAPE_modelo_arbolP)\n",
    "\n",
    "\n",
    "# Plot the RMSE values against the max_depth values\n",
    "plt.plot(min_leaf_values, MAPE_score_values, marker='o')\n",
    "plt.xlabel('min_leaf')\n",
    "plt.ylabel('MAPE')\n",
    "plt.title('MAPE vs. min_leaf_values in Decision Tree Regression H')\n",
    "plt.show()"
   ]
  },
  {
   "attachments": {},
   "cell_type": "markdown",
   "metadata": {},
   "source": [
    "#### En general el  modelo DecisionTreeRegressor para dataset de diabetes tiene un R2 MAPE de ~70%"
   ]
  },
  {
   "attachments": {},
   "cell_type": "markdown",
   "metadata": {},
   "source": [
    "### Para modelo Bosque de Regression  "
   ]
  },
  {
   "attachments": {},
   "cell_type": "markdown",
   "metadata": {},
   "source": [
    "Se define y entrena el modelo RandomForestRegressor, además de calcular los valores predichos con un max_depth=3 y max_samples=0.8,max_features=0.8  [para el caso de dataset de diabetes]"
   ]
  },
  {
   "cell_type": "code",
   "execution_count": 69,
   "metadata": {},
   "outputs": [
    {
     "data": {
      "text/html": [
       "<style>#sk-container-id-2 {color: black;background-color: white;}#sk-container-id-2 pre{padding: 0;}#sk-container-id-2 div.sk-toggleable {background-color: white;}#sk-container-id-2 label.sk-toggleable__label {cursor: pointer;display: block;width: 100%;margin-bottom: 0;padding: 0.3em;box-sizing: border-box;text-align: center;}#sk-container-id-2 label.sk-toggleable__label-arrow:before {content: \"▸\";float: left;margin-right: 0.25em;color: #696969;}#sk-container-id-2 label.sk-toggleable__label-arrow:hover:before {color: black;}#sk-container-id-2 div.sk-estimator:hover label.sk-toggleable__label-arrow:before {color: black;}#sk-container-id-2 div.sk-toggleable__content {max-height: 0;max-width: 0;overflow: hidden;text-align: left;background-color: #f0f8ff;}#sk-container-id-2 div.sk-toggleable__content pre {margin: 0.2em;color: black;border-radius: 0.25em;background-color: #f0f8ff;}#sk-container-id-2 input.sk-toggleable__control:checked~div.sk-toggleable__content {max-height: 200px;max-width: 100%;overflow: auto;}#sk-container-id-2 input.sk-toggleable__control:checked~label.sk-toggleable__label-arrow:before {content: \"▾\";}#sk-container-id-2 div.sk-estimator input.sk-toggleable__control:checked~label.sk-toggleable__label {background-color: #d4ebff;}#sk-container-id-2 div.sk-label input.sk-toggleable__control:checked~label.sk-toggleable__label {background-color: #d4ebff;}#sk-container-id-2 input.sk-hidden--visually {border: 0;clip: rect(1px 1px 1px 1px);clip: rect(1px, 1px, 1px, 1px);height: 1px;margin: -1px;overflow: hidden;padding: 0;position: absolute;width: 1px;}#sk-container-id-2 div.sk-estimator {font-family: monospace;background-color: #f0f8ff;border: 1px dotted black;border-radius: 0.25em;box-sizing: border-box;margin-bottom: 0.5em;}#sk-container-id-2 div.sk-estimator:hover {background-color: #d4ebff;}#sk-container-id-2 div.sk-parallel-item::after {content: \"\";width: 100%;border-bottom: 1px solid gray;flex-grow: 1;}#sk-container-id-2 div.sk-label:hover label.sk-toggleable__label {background-color: #d4ebff;}#sk-container-id-2 div.sk-serial::before {content: \"\";position: absolute;border-left: 1px solid gray;box-sizing: border-box;top: 0;bottom: 0;left: 50%;z-index: 0;}#sk-container-id-2 div.sk-serial {display: flex;flex-direction: column;align-items: center;background-color: white;padding-right: 0.2em;padding-left: 0.2em;position: relative;}#sk-container-id-2 div.sk-item {position: relative;z-index: 1;}#sk-container-id-2 div.sk-parallel {display: flex;align-items: stretch;justify-content: center;background-color: white;position: relative;}#sk-container-id-2 div.sk-item::before, #sk-container-id-2 div.sk-parallel-item::before {content: \"\";position: absolute;border-left: 1px solid gray;box-sizing: border-box;top: 0;bottom: 0;left: 50%;z-index: -1;}#sk-container-id-2 div.sk-parallel-item {display: flex;flex-direction: column;z-index: 1;position: relative;background-color: white;}#sk-container-id-2 div.sk-parallel-item:first-child::after {align-self: flex-end;width: 50%;}#sk-container-id-2 div.sk-parallel-item:last-child::after {align-self: flex-start;width: 50%;}#sk-container-id-2 div.sk-parallel-item:only-child::after {width: 0;}#sk-container-id-2 div.sk-dashed-wrapped {border: 1px dashed gray;margin: 0 0.4em 0.5em 0.4em;box-sizing: border-box;padding-bottom: 0.4em;background-color: white;}#sk-container-id-2 div.sk-label label {font-family: monospace;font-weight: bold;display: inline-block;line-height: 1.2em;}#sk-container-id-2 div.sk-label-container {text-align: center;}#sk-container-id-2 div.sk-container {/* jupyter's `normalize.less` sets `[hidden] { display: none; }` but bootstrap.min.css set `[hidden] { display: none !important; }` so we also need the `!important` here to be able to override the default hidden behavior on the sphinx rendered scikit-learn.org. See: https://github.com/scikit-learn/scikit-learn/issues/21755 */display: inline-block !important;position: relative;}#sk-container-id-2 div.sk-text-repr-fallback {display: none;}</style><div id=\"sk-container-id-2\" class=\"sk-top-container\"><div class=\"sk-text-repr-fallback\"><pre>RandomForestRegressor(max_depth=3, max_features=0.8, max_samples=0.8,\n",
       "                      random_state=2023)</pre><b>In a Jupyter environment, please rerun this cell to show the HTML representation or trust the notebook. <br />On GitHub, the HTML representation is unable to render, please try loading this page with nbviewer.org.</b></div><div class=\"sk-container\" hidden><div class=\"sk-item\"><div class=\"sk-estimator sk-toggleable\"><input class=\"sk-toggleable__control sk-hidden--visually\" id=\"sk-estimator-id-2\" type=\"checkbox\" checked><label for=\"sk-estimator-id-2\" class=\"sk-toggleable__label sk-toggleable__label-arrow\">RandomForestRegressor</label><div class=\"sk-toggleable__content\"><pre>RandomForestRegressor(max_depth=3, max_features=0.8, max_samples=0.8,\n",
       "                      random_state=2023)</pre></div></div></div></div></div>"
      ],
      "text/plain": [
       "RandomForestRegressor(max_depth=3, max_features=0.8, max_samples=0.8,\n",
       "                      random_state=2023)"
      ]
     },
     "execution_count": 69,
     "metadata": {},
     "output_type": "execute_result"
    }
   ],
   "source": [
    "from sklearn.ensemble import RandomForestRegressor\n",
    "\n",
    "bosque_depth3 = RandomForestRegressor(n_estimators=100,max_depth=3,max_samples=0.8,max_features=0.8,random_state=2023)\n",
    "\n",
    "bosque_depth3 = bosque_depth.fit(X_diabetes_train,y_diabetes_train)\n",
    "bosque_depth3"
   ]
  },
  {
   "cell_type": "code",
   "execution_count": 70,
   "metadata": {},
   "outputs": [
    {
     "data": {
      "text/plain": [
       "array([180.86979887, 243.61465806, 104.89149121, 173.72548023,\n",
       "        98.54744708, 168.36695037,  98.30057669, 101.94040315,\n",
       "       144.14459737, 196.36757919,  95.40394412, 103.00227812,\n",
       "        89.56678232, 153.00692551, 142.77242662,  95.92571412,\n",
       "       162.79213989, 106.8461969 , 196.26810472, 167.53637699,\n",
       "        89.89504431, 169.70600722, 106.47883137, 143.20609245,\n",
       "       114.23237513, 177.08554791, 152.22560636,  98.91000211,\n",
       "       179.6689782 , 103.39110615, 108.21946387, 158.2409029 ,\n",
       "       175.57762083, 172.16249254, 178.57456617, 244.8565336 ,\n",
       "       205.12981012, 142.29014423, 169.3143694 , 194.67133787,\n",
       "        89.28620239,  98.5918727 ,  98.63129897, 228.39803417,\n",
       "       226.07250771,  95.45971645,  97.37627502, 100.72252483,\n",
       "       233.57425637, 161.01844766, 106.69965262, 103.37224572,\n",
       "       121.27214525, 170.39892158, 178.00757799, 117.62253569,\n",
       "       217.84968763,  87.56505857, 238.47819829, 169.43794909,\n",
       "       100.87888711,  90.9128537 ,  96.76874242, 100.1961341 ,\n",
       "       109.36281494,  98.14915414, 167.32080145, 199.19602204,\n",
       "       210.34975228, 154.96513034, 170.46563505, 216.41308902,\n",
       "       154.2070965 ,  99.2199151 , 104.47276024, 137.89454443,\n",
       "        95.46056517, 133.18054657, 108.02220318,  88.73648991,\n",
       "       167.8596025 , 161.49913183, 110.20972643, 185.74271497,\n",
       "       179.41640232, 166.24710285, 102.23226857,  95.96149899,\n",
       "       110.58906469])"
      ]
     },
     "execution_count": 70,
     "metadata": {},
     "output_type": "execute_result"
    }
   ],
   "source": [
    "y_pred_bosque_depth3 = bosque_depth3.predict(X_diabetes_test)\n",
    "y_pred_bosque_depth3"
   ]
  },
  {
   "attachments": {},
   "cell_type": "markdown",
   "metadata": {},
   "source": [
    "##### Evaluación de Errores MAE y MAPE [RandomForestRegressor(n_estimators=100,max_depth=3,max_samples=0.8,max_features=0.8,random_state=2023)  para dataset de diabetes]"
   ]
  },
  {
   "attachments": {},
   "cell_type": "markdown",
   "metadata": {},
   "source": [
    "MAE [para el caso del RandomForestRegressorr(max_depth=3) para dataset de diabetes]"
   ]
  },
  {
   "cell_type": "code",
   "execution_count": 71,
   "metadata": {},
   "outputs": [
    {
     "data": {
      "text/plain": [
       "51.8694618309945"
      ]
     },
     "execution_count": 71,
     "metadata": {},
     "output_type": "execute_result"
    }
   ],
   "source": [
    "MAE_bosque_depth3 = mean_absolute_error(y_diabetes_test,y_pred_bosque_depth3)\n",
    "MAE_bosque_depth3"
   ]
  },
  {
   "attachments": {},
   "cell_type": "markdown",
   "metadata": {},
   "source": [
    "MAPE [para el caso del RandomForestRegressorr(max_depth=3) para dataset de diabetes]"
   ]
  },
  {
   "cell_type": "code",
   "execution_count": 74,
   "metadata": {},
   "outputs": [
    {
     "data": {
      "text/plain": [
       "0.5078452380857158"
      ]
     },
     "execution_count": 74,
     "metadata": {},
     "output_type": "execute_result"
    }
   ],
   "source": [
    "from sklearn.metrics import mean_absolute_percentage_error\n",
    "\n",
    "MAPE_bosque_depth3 = mean_absolute_percentage_error(y_diabetes_test,y_pred_bosque_depth3)\n",
    "MAPE_bosque_depth3"
   ]
  },
  {
   "attachments": {},
   "cell_type": "markdown",
   "metadata": {},
   "source": [
    "#### En general el  modelo RandomForestRegressorr para dataset de diabetes tiene un R2 MAPE de ~50%"
   ]
  },
  {
   "attachments": {},
   "cell_type": "markdown",
   "metadata": {},
   "source": [
    "### Para modelo SVM Regressor  "
   ]
  },
  {
   "attachments": {},
   "cell_type": "markdown",
   "metadata": {},
   "source": [
    "Se define y entrena el modelo SVM Regressor, además de calcular los valores predichos con un kernel='linear' y C=1,epsilon=0.1  [para el caso de dataset de diabetes]"
   ]
  },
  {
   "cell_type": "code",
   "execution_count": 77,
   "metadata": {},
   "outputs": [],
   "source": [
    "C = 1\n",
    "\n",
    "epsilon = 0.1"
   ]
  },
  {
   "cell_type": "code",
   "execution_count": 78,
   "metadata": {},
   "outputs": [
    {
     "data": {
      "text/html": [
       "<style>#sk-container-id-4 {color: black;background-color: white;}#sk-container-id-4 pre{padding: 0;}#sk-container-id-4 div.sk-toggleable {background-color: white;}#sk-container-id-4 label.sk-toggleable__label {cursor: pointer;display: block;width: 100%;margin-bottom: 0;padding: 0.3em;box-sizing: border-box;text-align: center;}#sk-container-id-4 label.sk-toggleable__label-arrow:before {content: \"▸\";float: left;margin-right: 0.25em;color: #696969;}#sk-container-id-4 label.sk-toggleable__label-arrow:hover:before {color: black;}#sk-container-id-4 div.sk-estimator:hover label.sk-toggleable__label-arrow:before {color: black;}#sk-container-id-4 div.sk-toggleable__content {max-height: 0;max-width: 0;overflow: hidden;text-align: left;background-color: #f0f8ff;}#sk-container-id-4 div.sk-toggleable__content pre {margin: 0.2em;color: black;border-radius: 0.25em;background-color: #f0f8ff;}#sk-container-id-4 input.sk-toggleable__control:checked~div.sk-toggleable__content {max-height: 200px;max-width: 100%;overflow: auto;}#sk-container-id-4 input.sk-toggleable__control:checked~label.sk-toggleable__label-arrow:before {content: \"▾\";}#sk-container-id-4 div.sk-estimator input.sk-toggleable__control:checked~label.sk-toggleable__label {background-color: #d4ebff;}#sk-container-id-4 div.sk-label input.sk-toggleable__control:checked~label.sk-toggleable__label {background-color: #d4ebff;}#sk-container-id-4 input.sk-hidden--visually {border: 0;clip: rect(1px 1px 1px 1px);clip: rect(1px, 1px, 1px, 1px);height: 1px;margin: -1px;overflow: hidden;padding: 0;position: absolute;width: 1px;}#sk-container-id-4 div.sk-estimator {font-family: monospace;background-color: #f0f8ff;border: 1px dotted black;border-radius: 0.25em;box-sizing: border-box;margin-bottom: 0.5em;}#sk-container-id-4 div.sk-estimator:hover {background-color: #d4ebff;}#sk-container-id-4 div.sk-parallel-item::after {content: \"\";width: 100%;border-bottom: 1px solid gray;flex-grow: 1;}#sk-container-id-4 div.sk-label:hover label.sk-toggleable__label {background-color: #d4ebff;}#sk-container-id-4 div.sk-serial::before {content: \"\";position: absolute;border-left: 1px solid gray;box-sizing: border-box;top: 0;bottom: 0;left: 50%;z-index: 0;}#sk-container-id-4 div.sk-serial {display: flex;flex-direction: column;align-items: center;background-color: white;padding-right: 0.2em;padding-left: 0.2em;position: relative;}#sk-container-id-4 div.sk-item {position: relative;z-index: 1;}#sk-container-id-4 div.sk-parallel {display: flex;align-items: stretch;justify-content: center;background-color: white;position: relative;}#sk-container-id-4 div.sk-item::before, #sk-container-id-4 div.sk-parallel-item::before {content: \"\";position: absolute;border-left: 1px solid gray;box-sizing: border-box;top: 0;bottom: 0;left: 50%;z-index: -1;}#sk-container-id-4 div.sk-parallel-item {display: flex;flex-direction: column;z-index: 1;position: relative;background-color: white;}#sk-container-id-4 div.sk-parallel-item:first-child::after {align-self: flex-end;width: 50%;}#sk-container-id-4 div.sk-parallel-item:last-child::after {align-self: flex-start;width: 50%;}#sk-container-id-4 div.sk-parallel-item:only-child::after {width: 0;}#sk-container-id-4 div.sk-dashed-wrapped {border: 1px dashed gray;margin: 0 0.4em 0.5em 0.4em;box-sizing: border-box;padding-bottom: 0.4em;background-color: white;}#sk-container-id-4 div.sk-label label {font-family: monospace;font-weight: bold;display: inline-block;line-height: 1.2em;}#sk-container-id-4 div.sk-label-container {text-align: center;}#sk-container-id-4 div.sk-container {/* jupyter's `normalize.less` sets `[hidden] { display: none; }` but bootstrap.min.css set `[hidden] { display: none !important; }` so we also need the `!important` here to be able to override the default hidden behavior on the sphinx rendered scikit-learn.org. See: https://github.com/scikit-learn/scikit-learn/issues/21755 */display: inline-block !important;position: relative;}#sk-container-id-4 div.sk-text-repr-fallback {display: none;}</style><div id=\"sk-container-id-4\" class=\"sk-top-container\"><div class=\"sk-text-repr-fallback\"><pre>SVR(C=1, kernel=&#x27;linear&#x27;)</pre><b>In a Jupyter environment, please rerun this cell to show the HTML representation or trust the notebook. <br />On GitHub, the HTML representation is unable to render, please try loading this page with nbviewer.org.</b></div><div class=\"sk-container\" hidden><div class=\"sk-item\"><div class=\"sk-estimator sk-toggleable\"><input class=\"sk-toggleable__control sk-hidden--visually\" id=\"sk-estimator-id-4\" type=\"checkbox\" checked><label for=\"sk-estimator-id-4\" class=\"sk-toggleable__label sk-toggleable__label-arrow\">SVR</label><div class=\"sk-toggleable__content\"><pre>SVR(C=1, kernel=&#x27;linear&#x27;)</pre></div></div></div></div></div>"
      ],
      "text/plain": [
       "SVR(C=1, kernel='linear')"
      ]
     },
     "execution_count": 78,
     "metadata": {},
     "output_type": "execute_result"
    }
   ],
   "source": [
    "from sklearn.svm import SVR\n",
    "\n",
    "modelo_SVR_1 = SVR(kernel='linear',C=C,epsilon=epsilon)\n",
    "\n",
    "modelo_SVR_1  = modelo_SVR_1.fit(X_diabetes_train, y_diabetes_train)\n",
    "modelo_SVR_1 "
   ]
  },
  {
   "cell_type": "code",
   "execution_count": 79,
   "metadata": {},
   "outputs": [
    {
     "data": {
      "text/plain": [
       "array([141.16142052, 142.32579057, 140.25989767, 142.76386692,\n",
       "       140.19668198, 141.14356162, 138.87410537, 138.44118373,\n",
       "       139.90645335, 143.222742  , 138.07781353, 139.7503925 ,\n",
       "       139.09443869, 141.21489481, 140.2818408 , 138.91719588,\n",
       "       140.63206627, 139.42201909, 142.22942409, 141.5686484 ,\n",
       "       139.59247696, 141.31900833, 140.41360063, 140.52876063,\n",
       "       140.07182799, 141.77139681, 141.84417848, 139.61743389,\n",
       "       142.8924248 , 140.03720538, 140.79327576, 139.75764971,\n",
       "       142.77936736, 141.12844024, 141.16539279, 143.29879933,\n",
       "       141.75441724, 140.14239803, 141.04895891, 142.89169429,\n",
       "       138.67869661, 140.08784079, 139.67771271, 142.56644084,\n",
       "       144.2892588 , 138.7843887 , 139.82456038, 139.22540754,\n",
       "       143.78347949, 140.85953639, 140.62604909, 140.58004164,\n",
       "       140.56588947, 141.59006568, 141.29374499, 141.67313326,\n",
       "       142.57533492, 138.89291813, 142.99947135, 141.11320289,\n",
       "       140.34066477, 138.12469758, 138.45048425, 139.89412977,\n",
       "       139.9084037 , 139.92678286, 141.35842146, 141.73394698,\n",
       "       142.20530789, 140.52528699, 141.35406682, 142.81480909,\n",
       "       141.70274491, 139.84088011, 139.93979943, 140.27266193,\n",
       "       139.04911785, 139.24469423, 139.60203782, 138.03120309,\n",
       "       140.89323685, 140.4637869 , 139.26098566, 141.97578562,\n",
       "       141.37067982, 140.3875892 , 140.16163391, 139.57375144,\n",
       "       139.60292979])"
      ]
     },
     "execution_count": 79,
     "metadata": {},
     "output_type": "execute_result"
    }
   ],
   "source": [
    "y_pred_modelo_SVR_1 =  modelo_SVR_1.predict(X_diabetes_test)\n",
    "y_pred_modelo_SVR_1"
   ]
  },
  {
   "attachments": {},
   "cell_type": "markdown",
   "metadata": {},
   "source": [
    "##### Evaluación de Errores MAE y MAPE [SVR(kernel='linear',C=C,epsilon=epsilon)  para dataset de diabetes]"
   ]
  },
  {
   "attachments": {},
   "cell_type": "markdown",
   "metadata": {},
   "source": [
    "MAE [para el caso del SVR(kernel='linear') para dataset de diabetes]"
   ]
  },
  {
   "cell_type": "code",
   "execution_count": 80,
   "metadata": {},
   "outputs": [
    {
     "data": {
      "text/plain": [
       "72.68067620828649"
      ]
     },
     "execution_count": 80,
     "metadata": {},
     "output_type": "execute_result"
    }
   ],
   "source": [
    "MAE_modelo_SVR_1 = mean_absolute_error(y_diabetes_test,y_pred_modelo_SVR_1)\n",
    "MAE_modelo_SVR_1"
   ]
  },
  {
   "attachments": {},
   "cell_type": "markdown",
   "metadata": {},
   "source": [
    "MAPE [para el caso del SVR(kernel='linear') para dataset de diabetes]"
   ]
  },
  {
   "cell_type": "code",
   "execution_count": 81,
   "metadata": {},
   "outputs": [
    {
     "data": {
      "text/plain": [
       "0.7216118287893843"
      ]
     },
     "execution_count": 81,
     "metadata": {},
     "output_type": "execute_result"
    }
   ],
   "source": [
    "from sklearn.metrics import mean_absolute_percentage_error\n",
    "\n",
    "MAPE_modelo_SVR_1 = mean_absolute_percentage_error(y_diabetes_test,y_pred_modelo_SVR_1)\n",
    "MAPE_modelo_SVR_1"
   ]
  },
  {
   "attachments": {},
   "cell_type": "markdown",
   "metadata": {},
   "source": [
    "#### En general el  modelo SVM Regressor para dataset de diabetes tiene un R2 MAPE de ~70%"
   ]
  }
 ],
 "metadata": {
  "kernelspec": {
   "display_name": "Python 3",
   "language": "python",
   "name": "python3"
  },
  "language_info": {
   "codemirror_mode": {
    "name": "ipython",
    "version": 3
   },
   "file_extension": ".py",
   "mimetype": "text/x-python",
   "name": "python",
   "nbconvert_exporter": "python",
   "pygments_lexer": "ipython3",
   "version": "3.10.5"
  },
  "orig_nbformat": 4
 },
 "nbformat": 4,
 "nbformat_minor": 2
}
