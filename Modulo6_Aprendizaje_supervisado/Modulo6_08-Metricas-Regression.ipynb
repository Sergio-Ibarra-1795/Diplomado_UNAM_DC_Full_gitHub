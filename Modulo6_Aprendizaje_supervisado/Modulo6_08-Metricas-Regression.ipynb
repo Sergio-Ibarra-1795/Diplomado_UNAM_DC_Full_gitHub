{
 "cells": [
  {
   "attachments": {},
   "cell_type": "markdown",
   "metadata": {},
   "source": [
    "#### <font color=\"#03997A\"> Diplomado en Ciencia de datos UNAM </font>\n",
    "\n",
    "##### <font color=\"#03997A\"> Dr: Alejandro Pimentel </font>\n",
    "\n",
    "##### <font color=\"#03997A\"> Modulo 6 Aprendizaje de Maquina supervisado </font>\n",
    "\n",
    "##### <font color=\"#03997A\"> Práctica 8: Metricas de regresión (evaluando para diferentes tipos de modelos de regresión para la dataset de diabetes) Alumno: Ibarra Ramírez Sergio </font>"
   ]
  },
  {
   "attachments": {},
   "cell_type": "markdown",
   "metadata": {},
   "source": [
    "Para comparar los diferentes tipos de modelos de Regresión se trabajará con el Dataset de diabetes y y se intentará hacer una predicicón de la variable target (y), usando los diferentes modelos y evaluando las métricas (R2, R2_ajustado, MAE, MAPE, MSE y RMSE)"
   ]
  },
  {
   "attachments": {},
   "cell_type": "markdown",
   "metadata": {},
   "source": [
    "Importamos entonces la data de diabetes con la que trabajeremos en todos los modelos  "
   ]
  },
  {
   "cell_type": "code",
   "execution_count": 1,
   "metadata": {},
   "outputs": [
    {
     "data": {
      "text/plain": [
       "{'data':           age       sex       bmi        bp        s1        s2        s3  \\\n",
       " 0    0.038076  0.050680  0.061696  0.021872 -0.044223 -0.034821 -0.043401   \n",
       " 1   -0.001882 -0.044642 -0.051474 -0.026328 -0.008449 -0.019163  0.074412   \n",
       " 2    0.085299  0.050680  0.044451 -0.005670 -0.045599 -0.034194 -0.032356   \n",
       " 3   -0.089063 -0.044642 -0.011595 -0.036656  0.012191  0.024991 -0.036038   \n",
       " 4    0.005383 -0.044642 -0.036385  0.021872  0.003935  0.015596  0.008142   \n",
       " ..        ...       ...       ...       ...       ...       ...       ...   \n",
       " 437  0.041708  0.050680  0.019662  0.059744 -0.005697 -0.002566 -0.028674   \n",
       " 438 -0.005515  0.050680 -0.015906 -0.067642  0.049341  0.079165 -0.028674   \n",
       " 439  0.041708  0.050680 -0.015906  0.017293 -0.037344 -0.013840 -0.024993   \n",
       " 440 -0.045472 -0.044642  0.039062  0.001215  0.016318  0.015283 -0.028674   \n",
       " 441 -0.045472 -0.044642 -0.073030 -0.081413  0.083740  0.027809  0.173816   \n",
       " \n",
       "            s4        s5        s6  \n",
       " 0   -0.002592  0.019907 -0.017646  \n",
       " 1   -0.039493 -0.068332 -0.092204  \n",
       " 2   -0.002592  0.002861 -0.025930  \n",
       " 3    0.034309  0.022688 -0.009362  \n",
       " 4   -0.002592 -0.031988 -0.046641  \n",
       " ..        ...       ...       ...  \n",
       " 437 -0.002592  0.031193  0.007207  \n",
       " 438  0.034309 -0.018114  0.044485  \n",
       " 439 -0.011080 -0.046883  0.015491  \n",
       " 440  0.026560  0.044529 -0.025930  \n",
       " 441 -0.039493 -0.004222  0.003064  \n",
       " \n",
       " [442 rows x 10 columns],\n",
       " 'target': 0      151.0\n",
       " 1       75.0\n",
       " 2      141.0\n",
       " 3      206.0\n",
       " 4      135.0\n",
       "        ...  \n",
       " 437    178.0\n",
       " 438    104.0\n",
       " 439    132.0\n",
       " 440    220.0\n",
       " 441     57.0\n",
       " Name: target, Length: 442, dtype: float64,\n",
       " 'frame':           age       sex       bmi        bp        s1        s2        s3  \\\n",
       " 0    0.038076  0.050680  0.061696  0.021872 -0.044223 -0.034821 -0.043401   \n",
       " 1   -0.001882 -0.044642 -0.051474 -0.026328 -0.008449 -0.019163  0.074412   \n",
       " 2    0.085299  0.050680  0.044451 -0.005670 -0.045599 -0.034194 -0.032356   \n",
       " 3   -0.089063 -0.044642 -0.011595 -0.036656  0.012191  0.024991 -0.036038   \n",
       " 4    0.005383 -0.044642 -0.036385  0.021872  0.003935  0.015596  0.008142   \n",
       " ..        ...       ...       ...       ...       ...       ...       ...   \n",
       " 437  0.041708  0.050680  0.019662  0.059744 -0.005697 -0.002566 -0.028674   \n",
       " 438 -0.005515  0.050680 -0.015906 -0.067642  0.049341  0.079165 -0.028674   \n",
       " 439  0.041708  0.050680 -0.015906  0.017293 -0.037344 -0.013840 -0.024993   \n",
       " 440 -0.045472 -0.044642  0.039062  0.001215  0.016318  0.015283 -0.028674   \n",
       " 441 -0.045472 -0.044642 -0.073030 -0.081413  0.083740  0.027809  0.173816   \n",
       " \n",
       "            s4        s5        s6  target  \n",
       " 0   -0.002592  0.019907 -0.017646   151.0  \n",
       " 1   -0.039493 -0.068332 -0.092204    75.0  \n",
       " 2   -0.002592  0.002861 -0.025930   141.0  \n",
       " 3    0.034309  0.022688 -0.009362   206.0  \n",
       " 4   -0.002592 -0.031988 -0.046641   135.0  \n",
       " ..        ...       ...       ...     ...  \n",
       " 437 -0.002592  0.031193  0.007207   178.0  \n",
       " 438  0.034309 -0.018114  0.044485   104.0  \n",
       " 439 -0.011080 -0.046883  0.015491   132.0  \n",
       " 440  0.026560  0.044529 -0.025930   220.0  \n",
       " 441 -0.039493 -0.004222  0.003064    57.0  \n",
       " \n",
       " [442 rows x 11 columns],\n",
       " 'DESCR': '.. _diabetes_dataset:\\n\\nDiabetes dataset\\n----------------\\n\\nTen baseline variables, age, sex, body mass index, average blood\\npressure, and six blood serum measurements were obtained for each of n =\\n442 diabetes patients, as well as the response of interest, a\\nquantitative measure of disease progression one year after baseline.\\n\\n**Data Set Characteristics:**\\n\\n  :Number of Instances: 442\\n\\n  :Number of Attributes: First 10 columns are numeric predictive values\\n\\n  :Target: Column 11 is a quantitative measure of disease progression one year after baseline\\n\\n  :Attribute Information:\\n      - age     age in years\\n      - sex\\n      - bmi     body mass index\\n      - bp      average blood pressure\\n      - s1      tc, total serum cholesterol\\n      - s2      ldl, low-density lipoproteins\\n      - s3      hdl, high-density lipoproteins\\n      - s4      tch, total cholesterol / HDL\\n      - s5      ltg, possibly log of serum triglycerides level\\n      - s6      glu, blood sugar level\\n\\nNote: Each of these 10 feature variables have been mean centered and scaled by the standard deviation times the square root of `n_samples` (i.e. the sum of squares of each column totals 1).\\n\\nSource URL:\\nhttps://www4.stat.ncsu.edu/~boos/var.select/diabetes.html\\n\\nFor more information see:\\nBradley Efron, Trevor Hastie, Iain Johnstone and Robert Tibshirani (2004) \"Least Angle Regression,\" Annals of Statistics (with discussion), 407-499.\\n(https://web.stanford.edu/~hastie/Papers/LARS/LeastAngle_2002.pdf)\\n',\n",
       " 'feature_names': ['age',\n",
       "  'sex',\n",
       "  'bmi',\n",
       "  'bp',\n",
       "  's1',\n",
       "  's2',\n",
       "  's3',\n",
       "  's4',\n",
       "  's5',\n",
       "  's6'],\n",
       " 'data_filename': 'diabetes_data_raw.csv.gz',\n",
       " 'target_filename': 'diabetes_target.csv.gz',\n",
       " 'data_module': 'sklearn.datasets.data'}"
      ]
     },
     "execution_count": 1,
     "metadata": {},
     "output_type": "execute_result"
    }
   ],
   "source": [
    "from sklearn import datasets\n",
    "\n",
    "# Load the dataset\n",
    "diabetes = datasets.load_diabetes(as_frame=True)\n",
    "diabetes"
   ]
  },
  {
   "attachments": {},
   "cell_type": "markdown",
   "metadata": {},
   "source": [
    "Se separa la variable dependiente Y de las independientes y hace el split de train y test  "
   ]
  },
  {
   "cell_type": "code",
   "execution_count": 2,
   "metadata": {},
   "outputs": [
    {
     "data": {
      "text/html": [
       "<div>\n",
       "<style scoped>\n",
       "    .dataframe tbody tr th:only-of-type {\n",
       "        vertical-align: middle;\n",
       "    }\n",
       "\n",
       "    .dataframe tbody tr th {\n",
       "        vertical-align: top;\n",
       "    }\n",
       "\n",
       "    .dataframe thead th {\n",
       "        text-align: right;\n",
       "    }\n",
       "</style>\n",
       "<table border=\"1\" class=\"dataframe\">\n",
       "  <thead>\n",
       "    <tr style=\"text-align: right;\">\n",
       "      <th></th>\n",
       "      <th>age</th>\n",
       "      <th>sex</th>\n",
       "      <th>bmi</th>\n",
       "      <th>bp</th>\n",
       "      <th>s1</th>\n",
       "      <th>s2</th>\n",
       "      <th>s3</th>\n",
       "      <th>s4</th>\n",
       "      <th>s5</th>\n",
       "      <th>s6</th>\n",
       "    </tr>\n",
       "  </thead>\n",
       "  <tbody>\n",
       "    <tr>\n",
       "      <th>4</th>\n",
       "      <td>0.005383</td>\n",
       "      <td>-0.044642</td>\n",
       "      <td>-0.036385</td>\n",
       "      <td>0.021872</td>\n",
       "      <td>0.003935</td>\n",
       "      <td>0.015596</td>\n",
       "      <td>0.008142</td>\n",
       "      <td>-0.002592</td>\n",
       "      <td>-0.031988</td>\n",
       "      <td>-0.046641</td>\n",
       "    </tr>\n",
       "    <tr>\n",
       "      <th>318</th>\n",
       "      <td>0.088931</td>\n",
       "      <td>-0.044642</td>\n",
       "      <td>0.006728</td>\n",
       "      <td>0.025315</td>\n",
       "      <td>0.030078</td>\n",
       "      <td>0.008707</td>\n",
       "      <td>0.063367</td>\n",
       "      <td>-0.039493</td>\n",
       "      <td>0.009434</td>\n",
       "      <td>0.032059</td>\n",
       "    </tr>\n",
       "    <tr>\n",
       "      <th>301</th>\n",
       "      <td>-0.001882</td>\n",
       "      <td>0.050680</td>\n",
       "      <td>-0.024529</td>\n",
       "      <td>0.052858</td>\n",
       "      <td>0.027326</td>\n",
       "      <td>0.030001</td>\n",
       "      <td>0.030232</td>\n",
       "      <td>-0.002592</td>\n",
       "      <td>-0.021395</td>\n",
       "      <td>0.036201</td>\n",
       "    </tr>\n",
       "    <tr>\n",
       "      <th>189</th>\n",
       "      <td>-0.001882</td>\n",
       "      <td>-0.044642</td>\n",
       "      <td>-0.066563</td>\n",
       "      <td>0.001215</td>\n",
       "      <td>-0.002945</td>\n",
       "      <td>0.003070</td>\n",
       "      <td>0.011824</td>\n",
       "      <td>-0.002592</td>\n",
       "      <td>-0.020292</td>\n",
       "      <td>-0.025930</td>\n",
       "    </tr>\n",
       "    <tr>\n",
       "      <th>288</th>\n",
       "      <td>0.070769</td>\n",
       "      <td>0.050680</td>\n",
       "      <td>-0.016984</td>\n",
       "      <td>0.021872</td>\n",
       "      <td>0.043837</td>\n",
       "      <td>0.056305</td>\n",
       "      <td>0.037595</td>\n",
       "      <td>-0.002592</td>\n",
       "      <td>-0.070209</td>\n",
       "      <td>-0.017646</td>\n",
       "    </tr>\n",
       "    <tr>\n",
       "      <th>...</th>\n",
       "      <td>...</td>\n",
       "      <td>...</td>\n",
       "      <td>...</td>\n",
       "      <td>...</td>\n",
       "      <td>...</td>\n",
       "      <td>...</td>\n",
       "      <td>...</td>\n",
       "      <td>...</td>\n",
       "      <td>...</td>\n",
       "      <td>...</td>\n",
       "    </tr>\n",
       "    <tr>\n",
       "      <th>220</th>\n",
       "      <td>0.023546</td>\n",
       "      <td>0.050680</td>\n",
       "      <td>-0.039618</td>\n",
       "      <td>-0.005670</td>\n",
       "      <td>-0.048351</td>\n",
       "      <td>-0.033255</td>\n",
       "      <td>0.011824</td>\n",
       "      <td>-0.039493</td>\n",
       "      <td>-0.101640</td>\n",
       "      <td>-0.067351</td>\n",
       "    </tr>\n",
       "    <tr>\n",
       "      <th>417</th>\n",
       "      <td>-0.052738</td>\n",
       "      <td>-0.044642</td>\n",
       "      <td>0.071397</td>\n",
       "      <td>-0.074527</td>\n",
       "      <td>-0.015328</td>\n",
       "      <td>-0.001314</td>\n",
       "      <td>0.004460</td>\n",
       "      <td>-0.021412</td>\n",
       "      <td>-0.046883</td>\n",
       "      <td>0.003064</td>\n",
       "    </tr>\n",
       "    <tr>\n",
       "      <th>183</th>\n",
       "      <td>0.045341</td>\n",
       "      <td>0.050680</td>\n",
       "      <td>-0.035307</td>\n",
       "      <td>0.063187</td>\n",
       "      <td>-0.004321</td>\n",
       "      <td>-0.001627</td>\n",
       "      <td>-0.010266</td>\n",
       "      <td>-0.002592</td>\n",
       "      <td>0.015568</td>\n",
       "      <td>0.056912</td>\n",
       "    </tr>\n",
       "    <tr>\n",
       "      <th>25</th>\n",
       "      <td>-0.067268</td>\n",
       "      <td>0.050680</td>\n",
       "      <td>-0.012673</td>\n",
       "      <td>-0.040099</td>\n",
       "      <td>-0.015328</td>\n",
       "      <td>0.004636</td>\n",
       "      <td>-0.058127</td>\n",
       "      <td>0.034309</td>\n",
       "      <td>0.019196</td>\n",
       "      <td>-0.034215</td>\n",
       "    </tr>\n",
       "    <tr>\n",
       "      <th>343</th>\n",
       "      <td>-0.020045</td>\n",
       "      <td>-0.044642</td>\n",
       "      <td>0.018584</td>\n",
       "      <td>0.090729</td>\n",
       "      <td>0.003935</td>\n",
       "      <td>0.008707</td>\n",
       "      <td>0.037595</td>\n",
       "      <td>-0.039493</td>\n",
       "      <td>-0.057803</td>\n",
       "      <td>0.007207</td>\n",
       "    </tr>\n",
       "  </tbody>\n",
       "</table>\n",
       "<p>353 rows × 10 columns</p>\n",
       "</div>"
      ],
      "text/plain": [
       "          age       sex       bmi        bp        s1        s2        s3  \\\n",
       "4    0.005383 -0.044642 -0.036385  0.021872  0.003935  0.015596  0.008142   \n",
       "318  0.088931 -0.044642  0.006728  0.025315  0.030078  0.008707  0.063367   \n",
       "301 -0.001882  0.050680 -0.024529  0.052858  0.027326  0.030001  0.030232   \n",
       "189 -0.001882 -0.044642 -0.066563  0.001215 -0.002945  0.003070  0.011824   \n",
       "288  0.070769  0.050680 -0.016984  0.021872  0.043837  0.056305  0.037595   \n",
       "..        ...       ...       ...       ...       ...       ...       ...   \n",
       "220  0.023546  0.050680 -0.039618 -0.005670 -0.048351 -0.033255  0.011824   \n",
       "417 -0.052738 -0.044642  0.071397 -0.074527 -0.015328 -0.001314  0.004460   \n",
       "183  0.045341  0.050680 -0.035307  0.063187 -0.004321 -0.001627 -0.010266   \n",
       "25  -0.067268  0.050680 -0.012673 -0.040099 -0.015328  0.004636 -0.058127   \n",
       "343 -0.020045 -0.044642  0.018584  0.090729  0.003935  0.008707  0.037595   \n",
       "\n",
       "           s4        s5        s6  \n",
       "4   -0.002592 -0.031988 -0.046641  \n",
       "318 -0.039493  0.009434  0.032059  \n",
       "301 -0.002592 -0.021395  0.036201  \n",
       "189 -0.002592 -0.020292 -0.025930  \n",
       "288 -0.002592 -0.070209 -0.017646  \n",
       "..        ...       ...       ...  \n",
       "220 -0.039493 -0.101640 -0.067351  \n",
       "417 -0.021412 -0.046883  0.003064  \n",
       "183 -0.002592  0.015568  0.056912  \n",
       "25   0.034309  0.019196 -0.034215  \n",
       "343 -0.039493 -0.057803  0.007207  \n",
       "\n",
       "[353 rows x 10 columns]"
      ]
     },
     "execution_count": 2,
     "metadata": {},
     "output_type": "execute_result"
    }
   ],
   "source": [
    "\n",
    "## Vartiable dependiente\n",
    "y_diabetes = diabetes['target']\n",
    "\n",
    "\n",
    "## Vartiables independientes\n",
    "X_diabetes = diabetes['data']\n",
    "\n",
    "\n",
    "## Separacion en train y test \n",
    "from sklearn.model_selection import train_test_split\n",
    "\n",
    "X_diabetes_train, X_diabetes_test, y_diabetes_train, y_diabetes_test = train_test_split(X_diabetes,y_diabetes,test_size=0.2,random_state=2023)\n",
    "X_diabetes_train"
   ]
  },
  {
   "attachments": {},
   "cell_type": "markdown",
   "metadata": {},
   "source": [
    "### Para modelo Regresión Lineal Simple  "
   ]
  },
  {
   "attachments": {},
   "cell_type": "markdown",
   "metadata": {},
   "source": [
    "Se define y entrena el modelo linear_model, además de calcular los valores predichos "
   ]
  },
  {
   "cell_type": "code",
   "execution_count": 4,
   "metadata": {},
   "outputs": [
    {
     "data": {
      "text/plain": [
       "array([164.55373422, 230.85851626, 113.38907917, 204.74116814,\n",
       "       105.52033577, 181.94343833,  82.00806999,  80.44200645,\n",
       "       131.11334734, 229.23179863,  64.57813456,  87.41220532,\n",
       "        62.10905263, 185.67733585, 167.61767614, 112.95971024,\n",
       "       134.31271633,  86.09584758, 211.57673686, 180.55183129,\n",
       "        98.68632823, 162.10216242, 135.62768379, 116.78745979,\n",
       "       132.63301895, 145.35430667, 183.40345264, 126.94847342,\n",
       "       186.85842312, 116.67929912, 112.94997783, 102.34041042,\n",
       "       218.79109715, 159.57945047, 211.26980683, 256.18130253,\n",
       "       200.77215919, 159.41401685, 164.80825925, 196.08702759,\n",
       "        93.79690234, 119.72402729, 122.30602092, 262.25806711,\n",
       "       274.20992694,  64.31380709, 131.68679794,  99.26899165,\n",
       "       251.70106532, 110.30732844, 137.84979152, 169.1755417 ,\n",
       "       146.80923048, 204.35630293, 219.58742135, 114.73124039,\n",
       "       245.37669038,  61.81665768, 252.75979509, 165.91501184,\n",
       "        99.03083736,  54.56254085,  60.32039683, 102.17571092,\n",
       "       147.96937972,  99.46756023, 171.90852276, 233.7622601 ,\n",
       "       227.48907747, 186.61434218, 155.52849719, 209.39501123,\n",
       "       153.70451048, 112.73332165, 113.22688087, 163.69603775,\n",
       "        76.62224273,  92.03257512, 107.73670268,  56.50641693,\n",
       "       200.79339739, 173.16324955,  77.41758898, 226.48711005,\n",
       "       171.60498848, 173.61781079, 107.91350719, 118.19043603,\n",
       "       105.23308047])"
      ]
     },
     "execution_count": 4,
     "metadata": {},
     "output_type": "execute_result"
    }
   ],
   "source": [
    "from sklearn import linear_model\n",
    "\n",
    "modelo_lineal_simple = linear_model.LinearRegression()\n",
    "modelo_lineal_simple.fit(X_diabetes_train,y_diabetes_train)\n",
    "\n",
    "y_pred_modelo_lineal_simple = modelo_lineal_simple.predict(X_diabetes_test)\n",
    "y_pred_modelo_lineal_simple"
   ]
  },
  {
   "attachments": {},
   "cell_type": "markdown",
   "metadata": {},
   "source": [
    "##### Evaluación del coeficiente de detemrinación (R^2 ) [para el caso del modelo_lineal_simple para dataset de diabetes]"
   ]
  },
  {
   "cell_type": "code",
   "execution_count": 9,
   "metadata": {},
   "outputs": [
    {
     "data": {
      "text/plain": [
       "0.5011352464069885"
      ]
     },
     "execution_count": 9,
     "metadata": {},
     "output_type": "execute_result"
    }
   ],
   "source": [
    "from sklearn.metrics import r2_score\n",
    "R2_score_modelo_lineal_simple = r2_score(y_diabetes_test,y_pred_modelo_lineal_simple)\n",
    "R2_score_modelo_lineal_simple "
   ]
  },
  {
   "attachments": {},
   "cell_type": "markdown",
   "metadata": {},
   "source": [
    "##### Evaluación el coeficiente de detemrinación ajustado [para el caso del modelo_lineal_simple para dataset de diabetes]"
   ]
  },
  {
   "cell_type": "code",
   "execution_count": 10,
   "metadata": {},
   "outputs": [
    {
     "data": {
      "text/plain": [
       "0.48654855770543837"
      ]
     },
     "execution_count": 10,
     "metadata": {},
     "output_type": "execute_result"
    }
   ],
   "source": [
    "R2_ajustada_modelo_lineal_simple = 1 -(1-R2_score_modelo_lineal_simple)*(len(y_diabetes_train)-1)/(len(y_diabetes_train)-len(diabetes['feature_names'])-1)\n",
    "R2_ajustada_modelo_lineal_simple"
   ]
  },
  {
   "attachments": {},
   "cell_type": "markdown",
   "metadata": {},
   "source": [
    "##### Evaluación de Errores MAE y MAPE [para el caso del modelo_lineal_simple para dataset de diabetes]"
   ]
  },
  {
   "cell_type": "code",
   "execution_count": 12,
   "metadata": {},
   "outputs": [],
   "source": [
    "from sklearn.metrics import mean_absolute_error\n",
    "from sklearn.metrics import mean_absolute_percentage_error"
   ]
  },
  {
   "attachments": {},
   "cell_type": "markdown",
   "metadata": {},
   "source": [
    "MAE [para el caso del modelo_lineal_simple para dataset de diabetes]"
   ]
  },
  {
   "cell_type": "code",
   "execution_count": 13,
   "metadata": {},
   "outputs": [
    {
     "data": {
      "text/plain": [
       "48.15457237383576"
      ]
     },
     "execution_count": 13,
     "metadata": {},
     "output_type": "execute_result"
    }
   ],
   "source": [
    "MAE_modelo_lineal_simple = mean_absolute_error(y_diabetes_test,y_pred_modelo_lineal_simple)\n",
    "MAE_modelo_lineal_simple"
   ]
  },
  {
   "attachments": {},
   "cell_type": "markdown",
   "metadata": {},
   "source": [
    "MAPE [para el caso del modelo_lineal_simple para dataset de diabetes]"
   ]
  },
  {
   "cell_type": "code",
   "execution_count": 14,
   "metadata": {},
   "outputs": [
    {
     "data": {
      "text/plain": [
       "0.49435618942943926"
      ]
     },
     "execution_count": 14,
     "metadata": {},
     "output_type": "execute_result"
    }
   ],
   "source": [
    "MAPE_modelo_lineal_simple = mean_absolute_percentage_error(y_diabetes_test,y_pred_modelo_lineal_simple)\n",
    "MAPE_modelo_lineal_simple"
   ]
  },
  {
   "attachments": {},
   "cell_type": "markdown",
   "metadata": {},
   "source": [
    "##### Evaluación de Errores MSE y RMSE  [para el caso del modelo_lineal_simple para dataset de diabetes]"
   ]
  },
  {
   "cell_type": "code",
   "execution_count": 15,
   "metadata": {},
   "outputs": [],
   "source": [
    "from sklearn.metrics import mean_squared_error"
   ]
  },
  {
   "attachments": {},
   "cell_type": "markdown",
   "metadata": {},
   "source": [
    "MSE [para el caso del modelo_lineal_simple para dataset de diabetes]"
   ]
  },
  {
   "cell_type": "code",
   "execution_count": 16,
   "metadata": {},
   "outputs": [
    {
     "data": {
      "text/plain": [
       "3490.250912883901"
      ]
     },
     "execution_count": 16,
     "metadata": {},
     "output_type": "execute_result"
    }
   ],
   "source": [
    "MSE_modelo_lineal_simple = mean_squared_error(y_diabetes_test,y_pred_modelo_lineal_simple)\n",
    "MSE_modelo_lineal_simple"
   ]
  },
  {
   "attachments": {},
   "cell_type": "markdown",
   "metadata": {},
   "source": [
    "RMSE [para el caso del modelo_lineal_simple para dataset de diabetes]"
   ]
  },
  {
   "cell_type": "code",
   "execution_count": 18,
   "metadata": {},
   "outputs": [
    {
     "data": {
      "text/plain": [
       "59.07834554965043"
      ]
     },
     "execution_count": 18,
     "metadata": {},
     "output_type": "execute_result"
    }
   ],
   "source": [
    "RMSE_modelo_lineal_simple = mean_squared_error(y_diabetes_test,y_pred_modelo_lineal_simple,squared=False)\n",
    "RMSE_modelo_lineal_simple"
   ]
  },
  {
   "attachments": {},
   "cell_type": "markdown",
   "metadata": {},
   "source": [
    "#### En general el  modelo_lineal_simple para dataset de diabetes tiene un R2 ~50% y MAPE de ~50%"
   ]
  },
  {
   "attachments": {},
   "cell_type": "markdown",
   "metadata": {},
   "source": [
    "### Para modelo Regresión KNN  "
   ]
  },
  {
   "cell_type": "code",
   "execution_count": 19,
   "metadata": {},
   "outputs": [],
   "source": [
    "from sklearn.neighbors import KNeighborsRegressor\n",
    "from sklearn.neighbors import RadiusNeighborsRegressor"
   ]
  },
  {
   "attachments": {},
   "cell_type": "markdown",
   "metadata": {},
   "source": [
    "Vamos a definir los objetos que contendran los modelos k y/o radio específico "
   ]
  },
  {
   "cell_type": "code",
   "execution_count": 32,
   "metadata": {},
   "outputs": [],
   "source": [
    "modeloKNN_regression_n5 = KNeighborsRegressor(n_neighbors=5)\n",
    "modeloR_regression_R10 = RadiusNeighborsRegressor(radius=10)"
   ]
  },
  {
   "attachments": {},
   "cell_type": "markdown",
   "metadata": {},
   "source": [
    "Se entrenan los modelos modeloKNN_regression & modeloR_regression, además de calcular los valores predichos con cada uno de ellos\n",
    "(con un n_neighbors=5 y radius=10, respecivamente)  [para el caso de dataset de diabetes]"
   ]
  },
  {
   "cell_type": "code",
   "execution_count": 34,
   "metadata": {},
   "outputs": [
    {
     "data": {
      "text/plain": [
       "array([152.94334278, 152.94334278, 152.94334278, 152.94334278,\n",
       "       152.94334278, 152.94334278, 152.94334278, 152.94334278,\n",
       "       152.94334278, 152.94334278, 152.94334278, 152.94334278,\n",
       "       152.94334278, 152.94334278, 152.94334278, 152.94334278,\n",
       "       152.94334278, 152.94334278, 152.94334278, 152.94334278,\n",
       "       152.94334278, 152.94334278, 152.94334278, 152.94334278,\n",
       "       152.94334278, 152.94334278, 152.94334278, 152.94334278,\n",
       "       152.94334278, 152.94334278, 152.94334278, 152.94334278,\n",
       "       152.94334278, 152.94334278, 152.94334278, 152.94334278,\n",
       "       152.94334278, 152.94334278, 152.94334278, 152.94334278,\n",
       "       152.94334278, 152.94334278, 152.94334278, 152.94334278,\n",
       "       152.94334278, 152.94334278, 152.94334278, 152.94334278,\n",
       "       152.94334278, 152.94334278, 152.94334278, 152.94334278,\n",
       "       152.94334278, 152.94334278, 152.94334278, 152.94334278,\n",
       "       152.94334278, 152.94334278, 152.94334278, 152.94334278,\n",
       "       152.94334278, 152.94334278, 152.94334278, 152.94334278,\n",
       "       152.94334278, 152.94334278, 152.94334278, 152.94334278,\n",
       "       152.94334278, 152.94334278, 152.94334278, 152.94334278,\n",
       "       152.94334278, 152.94334278, 152.94334278, 152.94334278,\n",
       "       152.94334278, 152.94334278, 152.94334278, 152.94334278,\n",
       "       152.94334278, 152.94334278, 152.94334278, 152.94334278,\n",
       "       152.94334278, 152.94334278, 152.94334278, 152.94334278,\n",
       "       152.94334278])"
      ]
     },
     "execution_count": 34,
     "metadata": {},
     "output_type": "execute_result"
    }
   ],
   "source": [
    "\n",
    "# Se entrena y aplica el modelo KNN regression a la dataset de diabetes (para un n_neighbors=5)\n",
    "\n",
    "modeloKNN_regression_n5 = modeloKNN_regression_n5.fit(X_diabetes_train,y_diabetes_train)\n",
    "y_pred_modeloKNN_regression_n5 = modeloKNN_regression_n5.predict(X_diabetes_test)\n",
    "y_pred_modeloKNN_regression_n5\n",
    "\n",
    "\n",
    "\n",
    "# Se entrena y aplica el modelo KNN regression a la dataset de diabetes (para un radius=10)\n",
    "\n",
    "modeloR_regression_R10 = modeloR_regression_R10.fit(X_diabetes_train,y_diabetes_train)\n",
    "y_pred_modeloR_regression_R10 = modeloR_regression_R10.predict(X_diabetes_test)\n",
    "y_pred_modeloR_regression_R10\n"
   ]
  },
  {
   "attachments": {},
   "cell_type": "markdown",
   "metadata": {},
   "source": [
    "##### Evaluación del coeficiente de detemrinación (R^2 ) [para el caso del modeloKNN_regression y modeloR_regression  para dataset de diabetes]"
   ]
  },
  {
   "attachments": {},
   "cell_type": "markdown",
   "metadata": {},
   "source": [
    "- R2 score para el caso del modeloKNN_regression para dataset de diabetes"
   ]
  },
  {
   "cell_type": "code",
   "execution_count": 42,
   "metadata": {},
   "outputs": [
    {
     "data": {
      "text/plain": [
       "0.41554752645070003"
      ]
     },
     "execution_count": 42,
     "metadata": {},
     "output_type": "execute_result"
    }
   ],
   "source": [
    "from sklearn.metrics import r2_score\n",
    "R2_score_modeloKNN_regression_n5 = r2_score(y_diabetes_test,y_pred_modeloKNN_regression_n5)\n",
    "R2_score_modeloKNN_regression_n5"
   ]
  },
  {
   "attachments": {},
   "cell_type": "markdown",
   "metadata": {},
   "source": [
    "Evaluación de diferentes valores de R2 score para diferentes valores de n_neighbors en el caso del modeloKNN_regression para dataset de diabetes"
   ]
  },
  {
   "cell_type": "code",
   "execution_count": 30,
   "metadata": {},
   "outputs": [
    {
     "data": {
      "image/png": "[encoded data removed]",
      "text/plain": [
       "<Figure size 432x288 with 1 Axes>"
      ]
     },
     "metadata": {
      "needs_background": "light"
     },
     "output_type": "display_data"
    }
   ],
   "source": [
    "import numpy as np\n",
    "import matplotlib.pyplot as plt\n",
    "from sklearn.neighbors import KNeighborsRegressor\n",
    "from sklearn.metrics import mean_squared_error\n",
    "\n",
    "# Define the range of k values\n",
    "n_neighbors_values = np.arange(1, 15)\n",
    "\n",
    "# Initialize an empty list to store the R2 values\n",
    "R2_score_values = []\n",
    "\n",
    "# Loop through each k value\n",
    "for n in n_neighbors_values:\n",
    "    # Define the KNN regression model\n",
    "    modeloK = KNeighborsRegressor(n_neighbors=n)\n",
    "    \n",
    "    # Fit the model to the training data\n",
    "    modeloK.fit(X_diabetes_train, y_diabetes_train)\n",
    "    \n",
    "    # Make predictions on the test data\n",
    "    y_pred_modeloKNN_regression = modeloK.predict(X_diabetes_test)\n",
    "    \n",
    "    # Calculate the R2_score\n",
    "    R2_score_modeloKNN_regression = r2_score(y_diabetes_test,y_pred_modeloKNN_regression)\n",
    "   \n",
    "    \n",
    "    # Append the RMSE value to the list\n",
    "    R2_score_values.append(R2_score_modeloKNN_regression)\n",
    "\n",
    "# Plot the RMSE values against the k values\n",
    "plt.plot(n_neighbors_values, R2_score_values, marker='o')\n",
    "plt.xlabel('n_values')\n",
    "plt.ylabel('R2 score')\n",
    "plt.title('R2 score vs. n in KNN Regression')\n",
    "plt.show()"
   ]
  },
  {
   "attachments": {},
   "cell_type": "markdown",
   "metadata": {},
   "source": [
    "- R2 score para el caso del modeloR_regression para dataset de diabetes"
   ]
  },
  {
   "cell_type": "code",
   "execution_count": 40,
   "metadata": {},
   "outputs": [
    {
     "data": {
      "text/plain": [
       "-0.0023121132781622755"
      ]
     },
     "execution_count": 40,
     "metadata": {},
     "output_type": "execute_result"
    }
   ],
   "source": [
    "from sklearn.metrics import r2_score\n",
    "R2_score_modeloR_regression_R10 = r2_score(y_diabetes_test,y_pred_modeloR_regression_R10)\n",
    "R2_score_modeloR_regression_R10"
   ]
  },
  {
   "attachments": {},
   "cell_type": "markdown",
   "metadata": {},
   "source": [
    "Evaluación de diferentes valores de R2 score para diferentes valores de R_values en el caso del modeloR_regression para dataset de diabetes"
   ]
  },
  {
   "cell_type": "code",
   "execution_count": 41,
   "metadata": {},
   "outputs": [
    {
     "data": {
      "image/png": "[encoded data removed]",
      "text/plain": [
       "<Figure size 432x288 with 1 Axes>"
      ]
     },
     "metadata": {
      "needs_background": "light"
     },
     "output_type": "display_data"
    }
   ],
   "source": [
    "import numpy as np\n",
    "import matplotlib.pyplot as plt\n",
    "from sklearn.neighbors import RadiusNeighborsRegressor\n",
    "from sklearn.metrics import mean_squared_error\n",
    "\n",
    "\n",
    "# Define the range of R values\n",
    "R_values = np.arange(1, 15)\n",
    "\n",
    "\n",
    "# Initialize an empty list to store the R2 values\n",
    "R2_score_values = []\n",
    "\n",
    "# Loop through each k value\n",
    "for r in R_values:\n",
    "    # Define the KNN regression model\n",
    "    modeloR = RadiusNeighborsRegressor(radius=r)\n",
    "    \n",
    "    # Fit the model to the training data\n",
    "    modeloR.fit(X_diabetes_train, y_diabetes_train)\n",
    "    \n",
    "    # Make predictions on the test data\n",
    "    y_pred_modeloR_regression = modeloR.predict(X_diabetes_test)\n",
    "    \n",
    "    # Calculate the R2_score\n",
    "    R2_score_modelo_R_regression = r2_score(y_diabetes_test,y_pred_modeloR_regression)\n",
    "   \n",
    "    \n",
    "    # Append the RMSE value to the list\n",
    "    R2_score_values.append(R2_score_modeloKNN_regression)\n",
    "\n",
    "# Plot the RMSE values against the k values\n",
    "plt.plot(R_values, R2_score_values, marker='o')\n",
    "plt.xlabel('R_values')\n",
    "plt.ylabel('R2 score')\n",
    "plt.title('R2 score vs. R values  in R Regression')\n",
    "plt.show()"
   ]
  },
  {
   "attachments": {},
   "cell_type": "markdown",
   "metadata": {},
   "source": [
    "##### Evaluación el coeficiente de determinación ajustado [para el caso del modeloKNN_regression y modeloR_regression  para dataset de diabetes]"
   ]
  },
  {
   "attachments": {},
   "cell_type": "markdown",
   "metadata": {},
   "source": [
    "- R2 ajustada para el caso del modeloKNN_regression para dataset de diabetes"
   ]
  },
  {
   "cell_type": "code",
   "execution_count": 38,
   "metadata": {},
   "outputs": [
    {
     "data": {
      "text/plain": [
       "0.464655283327042"
      ]
     },
     "execution_count": 38,
     "metadata": {},
     "output_type": "execute_result"
    }
   ],
   "source": [
    "R2_ajustada_modeloKNN_regression_n5 = 1 -(1-R2_score_modeloKNN_regression_n5)*(len(y_diabetes_train)-1)/(len(y_diabetes_train)-len(diabetes['feature_names'])-1)\n",
    "R2_ajustada_modeloKNN_regression_n5"
   ]
  },
  {
   "attachments": {},
   "cell_type": "markdown",
   "metadata": {},
   "source": [
    "- R2 ajustada para el caso del modeloR_regression para dataset de diabetes"
   ]
  },
  {
   "cell_type": "code",
   "execution_count": 27,
   "metadata": {},
   "outputs": [
    {
     "data": {
      "text/plain": [
       "-0.03161948501144196"
      ]
     },
     "execution_count": 27,
     "metadata": {},
     "output_type": "execute_result"
    }
   ],
   "source": [
    "R2_ajustada_modeloR_regression = 1 -(1-R2_score_modeloR_regression)*(len(y_diabetes_train)-1)/(len(y_diabetes_train)-len(diabetes['feature_names'])-1)\n",
    "R2_ajustada_modeloR_regression"
   ]
  },
  {
   "attachments": {},
   "cell_type": "markdown",
   "metadata": {},
   "source": [
    "#### En general se muestra que el valor máximo de R2 alcanzado es de 50% "
   ]
  },
  {
   "attachments": {},
   "cell_type": "markdown",
   "metadata": {},
   "source": [
    "##### Evaluación de Errores MAE y MAPE [para el caso del modeloKNN_regression y modeloR_regression  para dataset de diabetes]"
   ]
  },
  {
   "cell_type": "code",
   "execution_count": null,
   "metadata": {},
   "outputs": [],
   "source": [
    "from sklearn.metrics import mean_absolute_error\n",
    "from sklearn.metrics import mean_absolute_percentage_error"
   ]
  },
  {
   "attachments": {},
   "cell_type": "markdown",
   "metadata": {},
   "source": [
    "##### Evaluación de Errores MAE y MAPE [para el caso del modeloKNN_regression y modelo_R_regression para dataset de diabetes]"
   ]
  },
  {
   "attachments": {},
   "cell_type": "markdown",
   "metadata": {},
   "source": [
    "#####  Errores MAE y MAPE [para el caso del modeloKNN_regression para dataset de diabetes]"
   ]
  },
  {
   "attachments": {},
   "cell_type": "markdown",
   "metadata": {},
   "source": [
    "MAE [para el caso del modeloKNN_regression_n5 para dataset de diabetes]"
   ]
  },
  {
   "cell_type": "code",
   "execution_count": 43,
   "metadata": {},
   "outputs": [
    {
     "data": {
      "text/plain": [
       "52.89213483146068"
      ]
     },
     "execution_count": 43,
     "metadata": {},
     "output_type": "execute_result"
    }
   ],
   "source": [
    "MAE_modeloKNN_regression_n5 = mean_absolute_error(y_diabetes_test,y_pred_modeloKNN_regression_n5)\n",
    "MAE_modeloKNN_regression_n5"
   ]
  },
  {
   "attachments": {},
   "cell_type": "markdown",
   "metadata": {},
   "source": [
    "MAPE [para el caso del modeloKNN_regression_n5 para dataset de diabetes]"
   ]
  },
  {
   "cell_type": "code",
   "execution_count": 44,
   "metadata": {},
   "outputs": [
    {
     "data": {
      "text/plain": [
       "0.519964105985823"
      ]
     },
     "execution_count": 44,
     "metadata": {},
     "output_type": "execute_result"
    }
   ],
   "source": [
    "MAPE_modeloKNN_regression_n5 = mean_absolute_percentage_error(y_diabetes_test,y_pred_modeloKNN_regression_n5)\n",
    "MAPE_modeloKNN_regression_n5"
   ]
  },
  {
   "attachments": {},
   "cell_type": "markdown",
   "metadata": {},
   "source": [
    "Evaluación de diferentes valores de MAPE score para diferentes valores de n_neighbors en el caso del modeloKNN_regression para dataset de diabetes"
   ]
  },
  {
   "cell_type": "code",
   "execution_count": 45,
   "metadata": {},
   "outputs": [
    {
     "data": {
      "image/png": "[encoded data removed]",
      "text/plain": [
       "<Figure size 432x288 with 1 Axes>"
      ]
     },
     "metadata": {
      "needs_background": "light"
     },
     "output_type": "display_data"
    }
   ],
   "source": [
    "import numpy as np\n",
    "import matplotlib.pyplot as plt\n",
    "from sklearn.neighbors import KNeighborsRegressor\n",
    "from sklearn.metrics import mean_squared_error\n",
    "\n",
    "# Define the range of k values\n",
    "n_neighbors_values = np.arange(1, 15)\n",
    "\n",
    "# Initialize an empty list to store the R2 values\n",
    "MAPE_score_values = []\n",
    "\n",
    "# Loop through each k value\n",
    "for n in n_neighbors_values:\n",
    "    # Define the KNN regression model\n",
    "    modeloK = KNeighborsRegressor(n_neighbors=n)\n",
    "    \n",
    "    # Fit the model to the training data\n",
    "    modeloK.fit(X_diabetes_train, y_diabetes_train)\n",
    "    \n",
    "    # Make predictions on the test data\n",
    "    y_pred_modeloKNN_regression = modeloK.predict(X_diabetes_test)\n",
    "    \n",
    "    # Calculate the  MAPE score\n",
    "\n",
    "    MAPE_modeloKNN_regression = mean_absolute_percentage_error(y_diabetes_test,y_pred_modeloKNN_regression)\n",
    "\n",
    "    \n",
    "    # Append the RMSE value to the list\n",
    "    MAPE_score_values.append(MAPE_modeloKNN_regression)\n",
    "\n",
    "# Plot the RMSE values against the k values\n",
    "plt.plot(n_neighbors_values, MAPE_score_values, marker='o')\n",
    "plt.xlabel('n_values')\n",
    "plt.ylabel('MAPE_score_values')\n",
    "plt.title('MAPE_score_values vs. n in KNN Regression')\n",
    "plt.show()"
   ]
  },
  {
   "attachments": {},
   "cell_type": "markdown",
   "metadata": {},
   "source": [
    "#####  Errores MAE y MAPE [para el caso del modelo_R_regression para dataset de diabetes]"
   ]
  },
  {
   "attachments": {},
   "cell_type": "markdown",
   "metadata": {},
   "source": [
    "MAE [para el caso del modelo_R_regression_R10 para dataset de diabetes]"
   ]
  },
  {
   "cell_type": "code",
   "execution_count": 46,
   "metadata": {},
   "outputs": [
    {
     "data": {
      "text/plain": [
       "74.38625584874431"
      ]
     },
     "execution_count": 46,
     "metadata": {},
     "output_type": "execute_result"
    }
   ],
   "source": [
    "MAE_modelo_R_regression_R10 = mean_absolute_error(y_diabetes_test,y_pred_modeloR_regression_R10)\n",
    "MAE_modelo_R_regression_R10"
   ]
  },
  {
   "attachments": {},
   "cell_type": "markdown",
   "metadata": {},
   "source": [
    "MAPE [para el caso del modelo_R_regression_R10 para dataset de diabetes]"
   ]
  },
  {
   "cell_type": "code",
   "execution_count": 47,
   "metadata": {},
   "outputs": [
    {
     "data": {
      "text/plain": [
       "0.8000483381217898"
      ]
     },
     "execution_count": 47,
     "metadata": {},
     "output_type": "execute_result"
    }
   ],
   "source": [
    "MAPE_modelo_R_regression_R10 = mean_absolute_percentage_error(y_diabetes_test,y_pred_modeloR_regression_R10)\n",
    "MAPE_modelo_R_regression_R10"
   ]
  },
  {
   "attachments": {},
   "cell_type": "markdown",
   "metadata": {},
   "source": [
    "Evaluación de diferentes valores de MAPE score para diferentes valores de n_neighbors en el caso del modeloKNN_regression para dataset de diabetes"
   ]
  },
  {
   "cell_type": "code",
   "execution_count": 48,
   "metadata": {},
   "outputs": [
    {
     "data": {
      "image/png": "[encoded data removed]",
      "text/plain": [
       "<Figure size 432x288 with 1 Axes>"
      ]
     },
     "metadata": {
      "needs_background": "light"
     },
     "output_type": "display_data"
    }
   ],
   "source": [
    "import numpy as np\n",
    "import matplotlib.pyplot as plt\n",
    "from sklearn.neighbors import RadiusNeighborsRegressor\n",
    "from sklearn.metrics import mean_squared_error\n",
    "\n",
    "# Define the range of k values\n",
    "n_neighbors_values = np.arange(1, 15)\n",
    "\n",
    "# Initialize an empty list to store the R2 values\n",
    "MAPE_score_values = []\n",
    "\n",
    "# Loop through each k value\n",
    "for r in R_values:\n",
    "    # Define the KNN regression model\n",
    "    modeloR = RadiusNeighborsRegressor(radius=r)\n",
    "    \n",
    "    # Fit the model to the training data\n",
    "    modeloR.fit(X_diabetes_train, y_diabetes_train)\n",
    "    \n",
    "    # Make predictions on the test data\n",
    "    y_pred_modelo_R_regression = modeloK.predict(X_diabetes_test)\n",
    "    \n",
    "    # Calculate the  MAPE score\n",
    "\n",
    "    MAPE_modelo_R_regression = mean_absolute_percentage_error(y_diabetes_test,y_pred_modelo_R_regression)\n",
    "\n",
    "    \n",
    "    # Append the RMSE value to the list\n",
    "    MAPE_score_values.append(MAPE_modelo_R_regression)\n",
    "\n",
    "# Plot the RMSE values against the k values\n",
    "plt.plot(n_neighbors_values, MAPE_score_values, marker='o')\n",
    "plt.xlabel('n_values')\n",
    "plt.ylabel('MAPE_score_values')\n",
    "plt.title('MAPE_score_values vs. r in R Regression')\n",
    "plt.show()"
   ]
  },
  {
   "attachments": {},
   "cell_type": "markdown",
   "metadata": {},
   "source": [
    "#### En general el  modelo_KNN_Regression para dataset de diabetes tiene un R2 ~40% y MAPE de ~60%"
   ]
  },
  {
   "attachments": {},
   "cell_type": "markdown",
   "metadata": {},
   "source": [
    "### Para modelo Arbol_Regression  "
   ]
  }
 ],
 "metadata": {
  "kernelspec": {
   "display_name": "Python 3",
   "language": "python",
   "name": "python3"
  },
  "language_info": {
   "codemirror_mode": {
    "name": "ipython",
    "version": 3
   },
   "file_extension": ".py",
   "mimetype": "text/x-python",
   "name": "python",
   "nbconvert_exporter": "python",
   "pygments_lexer": "ipython3",
   "version": "3.10.5"
  },
  "orig_nbformat": 4
 },
 "nbformat": 4,
 "nbformat_minor": 2
}
