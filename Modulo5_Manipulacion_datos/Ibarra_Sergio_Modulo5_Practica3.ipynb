{
 "cells": [
  {
   "attachments": {},
   "cell_type": "markdown",
   "metadata": {},
   "source": [
    "#### <font color=\"#03997A\"> Diplomado en Ciencia de datos UNAM </font>\n",
    "##### <font color=\"#03997A\"> Mto: Getsemani Ruben Castro Villanueva </font>\n",
    "##### <font color=\"#03997A\"> Modulo 5 Manipulación de datos en Python</font>\n",
    "##### <font color=\"#03997A\">Practica 3 Alumno: Ibarra Ramírez Sergio  </font>"
   ]
  },
  {
   "cell_type": "code",
   "execution_count": 2,
   "metadata": {},
   "outputs": [],
   "source": [
    "import pandas as pd "
   ]
  },
  {
   "attachments": {},
   "cell_type": "markdown",
   "metadata": {},
   "source": [
    "Vamos a importar los archivos "
   ]
  },
  {
   "cell_type": "code",
   "execution_count": 15,
   "metadata": {},
   "outputs": [
    {
     "data": {
      "text/html": [
       "<div>\n",
       "<style scoped>\n",
       "    .dataframe tbody tr th:only-of-type {\n",
       "        vertical-align: middle;\n",
       "    }\n",
       "\n",
       "    .dataframe tbody tr th {\n",
       "        vertical-align: top;\n",
       "    }\n",
       "\n",
       "    .dataframe thead th {\n",
       "        text-align: right;\n",
       "    }\n",
       "</style>\n",
       "<table border=\"1\" class=\"dataframe\">\n",
       "  <thead>\n",
       "    <tr style=\"text-align: right;\">\n",
       "      <th></th>\n",
       "      <th>Entero1</th>\n",
       "      <th>Entero2</th>\n",
       "      <th>Entero3</th>\n",
       "      <th>Texto</th>\n",
       "      <th>Flotante</th>\n",
       "    </tr>\n",
       "  </thead>\n",
       "  <tbody>\n",
       "    <tr>\n",
       "      <th>0</th>\n",
       "      <td>NaN</td>\n",
       "      <td>NaN</td>\n",
       "      <td>NaN</td>\n",
       "      <td>tipo_1</td>\n",
       "      <td>3.211047</td>\n",
       "    </tr>\n",
       "    <tr>\n",
       "      <th>1</th>\n",
       "      <td>NaN</td>\n",
       "      <td>NaN</td>\n",
       "      <td>NaN</td>\n",
       "      <td>tipo_3</td>\n",
       "      <td>3.169558</td>\n",
       "    </tr>\n",
       "    <tr>\n",
       "      <th>2</th>\n",
       "      <td>NaN</td>\n",
       "      <td>NaN</td>\n",
       "      <td>NaN</td>\n",
       "      <td>tipo_2</td>\n",
       "      <td>3.188719</td>\n",
       "    </tr>\n",
       "    <tr>\n",
       "      <th>3</th>\n",
       "      <td>NaN</td>\n",
       "      <td>NaN</td>\n",
       "      <td>NaN</td>\n",
       "      <td>tipo_1</td>\n",
       "      <td>3.223913</td>\n",
       "    </tr>\n",
       "    <tr>\n",
       "      <th>4</th>\n",
       "      <td>NaN</td>\n",
       "      <td>NaN</td>\n",
       "      <td>NaN</td>\n",
       "      <td>tipo_3</td>\n",
       "      <td>3.118435</td>\n",
       "    </tr>\n",
       "  </tbody>\n",
       "</table>\n",
       "</div>"
      ],
      "text/plain": [
       "   Entero1  Entero2  Entero3   Texto  Flotante\n",
       "0      NaN      NaN      NaN  tipo_1  3.211047\n",
       "1      NaN      NaN      NaN  tipo_3  3.169558\n",
       "2      NaN      NaN      NaN  tipo_2  3.188719\n",
       "3      NaN      NaN      NaN  tipo_1  3.223913\n",
       "4      NaN      NaN      NaN  tipo_3  3.118435"
      ]
     },
     "execution_count": 15,
     "metadata": {},
     "output_type": "execute_result"
    }
   ],
   "source": [
    "archivo1_csv = pd.read_csv(\"archivo1.csv\")\n",
    "archivo1_csv.head()"
   ]
  },
  {
   "cell_type": "code",
   "execution_count": 16,
   "metadata": {},
   "outputs": [
    {
     "data": {
      "text/html": [
       "<div>\n",
       "<style scoped>\n",
       "    .dataframe tbody tr th:only-of-type {\n",
       "        vertical-align: middle;\n",
       "    }\n",
       "\n",
       "    .dataframe tbody tr th {\n",
       "        vertical-align: top;\n",
       "    }\n",
       "\n",
       "    .dataframe thead th {\n",
       "        text-align: right;\n",
       "    }\n",
       "</style>\n",
       "<table border=\"1\" class=\"dataframe\">\n",
       "  <thead>\n",
       "    <tr style=\"text-align: right;\">\n",
       "      <th></th>\n",
       "      <th>Entero1</th>\n",
       "      <th>Entero2</th>\n",
       "      <th>Entero3</th>\n",
       "      <th>Texto</th>\n",
       "      <th>Flotante</th>\n",
       "    </tr>\n",
       "  </thead>\n",
       "  <tbody>\n",
       "    <tr>\n",
       "      <th>0</th>\n",
       "      <td>22</td>\n",
       "      <td>72</td>\n",
       "      <td>53</td>\n",
       "      <td>tipo_1</td>\n",
       "      <td>3.216045</td>\n",
       "    </tr>\n",
       "    <tr>\n",
       "      <th>1</th>\n",
       "      <td>12</td>\n",
       "      <td>83</td>\n",
       "      <td>81</td>\n",
       "      <td>tipo_3</td>\n",
       "      <td>3.205215</td>\n",
       "    </tr>\n",
       "    <tr>\n",
       "      <th>2</th>\n",
       "      <td>10</td>\n",
       "      <td>73</td>\n",
       "      <td>30</td>\n",
       "      <td>tipo_1</td>\n",
       "      <td>3.225424</td>\n",
       "    </tr>\n",
       "    <tr>\n",
       "      <th>3</th>\n",
       "      <td>65</td>\n",
       "      <td>92</td>\n",
       "      <td>51</td>\n",
       "      <td>tipo_2</td>\n",
       "      <td>3.062523</td>\n",
       "    </tr>\n",
       "    <tr>\n",
       "      <th>4</th>\n",
       "      <td>35</td>\n",
       "      <td>77</td>\n",
       "      <td>64</td>\n",
       "      <td>tipo_3</td>\n",
       "      <td>3.169999</td>\n",
       "    </tr>\n",
       "  </tbody>\n",
       "</table>\n",
       "</div>"
      ],
      "text/plain": [
       "   Entero1  Entero2  Entero3   Texto  Flotante\n",
       "0       22       72       53  tipo_1  3.216045\n",
       "1       12       83       81  tipo_3  3.205215\n",
       "2       10       73       30  tipo_1  3.225424\n",
       "3       65       92       51  tipo_2  3.062523\n",
       "4       35       77       64  tipo_3  3.169999"
      ]
     },
     "execution_count": 16,
     "metadata": {},
     "output_type": "execute_result"
    }
   ],
   "source": [
    "archivo2_csv = pd.read_csv(\"archivo2.csv\")\n",
    "archivo2_csv.head()"
   ]
  },
  {
   "cell_type": "code",
   "execution_count": 17,
   "metadata": {},
   "outputs": [
    {
     "data": {
      "text/html": [
       "<div>\n",
       "<style scoped>\n",
       "    .dataframe tbody tr th:only-of-type {\n",
       "        vertical-align: middle;\n",
       "    }\n",
       "\n",
       "    .dataframe tbody tr th {\n",
       "        vertical-align: top;\n",
       "    }\n",
       "\n",
       "    .dataframe thead th {\n",
       "        text-align: right;\n",
       "    }\n",
       "</style>\n",
       "<table border=\"1\" class=\"dataframe\">\n",
       "  <thead>\n",
       "    <tr style=\"text-align: right;\">\n",
       "      <th></th>\n",
       "      <th>Entero1</th>\n",
       "      <th>Entero2</th>\n",
       "      <th>Entero3</th>\n",
       "      <th>Texto</th>\n",
       "      <th>Flotante</th>\n",
       "    </tr>\n",
       "  </thead>\n",
       "  <tbody>\n",
       "    <tr>\n",
       "      <th>0</th>\n",
       "      <td>1</td>\n",
       "      <td>1</td>\n",
       "      <td>1</td>\n",
       "      <td>tipo_1</td>\n",
       "      <td>3.139736</td>\n",
       "    </tr>\n",
       "  </tbody>\n",
       "</table>\n",
       "</div>"
      ],
      "text/plain": [
       "   Entero1  Entero2  Entero3   Texto  Flotante\n",
       "0        1        1        1  tipo_1  3.139736"
      ]
     },
     "execution_count": 17,
     "metadata": {},
     "output_type": "execute_result"
    }
   ],
   "source": [
    "archivo3_csv = pd.read_csv(\"archivo3.csv\")\n",
    "archivo3_csv.head()"
   ]
  },
  {
   "attachments": {},
   "cell_type": "markdown",
   "metadata": {},
   "source": [
    "Antes de concatenar los archivos, vamos a estar seguros que tienen el mismo número y nombre de columans "
   ]
  },
  {
   "cell_type": "code",
   "execution_count": 18,
   "metadata": {},
   "outputs": [
    {
     "data": {
      "text/plain": [
       "Index(['Entero1', 'Entero2', 'Entero3', 'Texto', 'Flotante'], dtype='object')"
      ]
     },
     "execution_count": 18,
     "metadata": {},
     "output_type": "execute_result"
    }
   ],
   "source": [
    "nombre_columnas_correcto = archivo1_csv.columns\n",
    "nombre_columnas_correcto"
   ]
  },
  {
   "cell_type": "code",
   "execution_count": 19,
   "metadata": {},
   "outputs": [],
   "source": [
    "archivo2_csv.columns  = nombre_columnas_correcto\n",
    "\n",
    "archivo3_csv.columns  = nombre_columnas_correcto"
   ]
  },
  {
   "cell_type": "code",
   "execution_count": 20,
   "metadata": {},
   "outputs": [
    {
     "data": {
      "text/plain": [
       "array([ True,  True,  True,  True,  True])"
      ]
     },
     "execution_count": 20,
     "metadata": {},
     "output_type": "execute_result"
    }
   ],
   "source": [
    "archivo1_csv.columns == archivo2_csv.columns"
   ]
  },
  {
   "cell_type": "code",
   "execution_count": 21,
   "metadata": {},
   "outputs": [
    {
     "data": {
      "text/plain": [
       "array([ True,  True,  True,  True,  True])"
      ]
     },
     "execution_count": 21,
     "metadata": {},
     "output_type": "execute_result"
    }
   ],
   "source": [
    "archivo2_csv.columns == archivo3_csv.columns"
   ]
  },
  {
   "attachments": {},
   "cell_type": "markdown",
   "metadata": {},
   "source": [
    "Ahora si podemos concatenar los archivos "
   ]
  },
  {
   "cell_type": "code",
   "execution_count": 22,
   "metadata": {},
   "outputs": [
    {
     "data": {
      "text/html": [
       "<div>\n",
       "<style scoped>\n",
       "    .dataframe tbody tr th:only-of-type {\n",
       "        vertical-align: middle;\n",
       "    }\n",
       "\n",
       "    .dataframe tbody tr th {\n",
       "        vertical-align: top;\n",
       "    }\n",
       "\n",
       "    .dataframe thead th {\n",
       "        text-align: right;\n",
       "    }\n",
       "</style>\n",
       "<table border=\"1\" class=\"dataframe\">\n",
       "  <thead>\n",
       "    <tr style=\"text-align: right;\">\n",
       "      <th></th>\n",
       "      <th>Entero1</th>\n",
       "      <th>Entero2</th>\n",
       "      <th>Entero3</th>\n",
       "      <th>Texto</th>\n",
       "      <th>Flotante</th>\n",
       "    </tr>\n",
       "  </thead>\n",
       "  <tbody>\n",
       "    <tr>\n",
       "      <th>0</th>\n",
       "      <td>NaN</td>\n",
       "      <td>NaN</td>\n",
       "      <td>NaN</td>\n",
       "      <td>tipo_1</td>\n",
       "      <td>3.211047</td>\n",
       "    </tr>\n",
       "    <tr>\n",
       "      <th>1</th>\n",
       "      <td>NaN</td>\n",
       "      <td>NaN</td>\n",
       "      <td>NaN</td>\n",
       "      <td>tipo_3</td>\n",
       "      <td>3.169558</td>\n",
       "    </tr>\n",
       "    <tr>\n",
       "      <th>2</th>\n",
       "      <td>NaN</td>\n",
       "      <td>NaN</td>\n",
       "      <td>NaN</td>\n",
       "      <td>tipo_2</td>\n",
       "      <td>3.188719</td>\n",
       "    </tr>\n",
       "    <tr>\n",
       "      <th>3</th>\n",
       "      <td>NaN</td>\n",
       "      <td>NaN</td>\n",
       "      <td>NaN</td>\n",
       "      <td>tipo_1</td>\n",
       "      <td>3.223913</td>\n",
       "    </tr>\n",
       "    <tr>\n",
       "      <th>4</th>\n",
       "      <td>NaN</td>\n",
       "      <td>NaN</td>\n",
       "      <td>NaN</td>\n",
       "      <td>tipo_3</td>\n",
       "      <td>3.118435</td>\n",
       "    </tr>\n",
       "    <tr>\n",
       "      <th>...</th>\n",
       "      <td>...</td>\n",
       "      <td>...</td>\n",
       "      <td>...</td>\n",
       "      <td>...</td>\n",
       "      <td>...</td>\n",
       "    </tr>\n",
       "    <tr>\n",
       "      <th>784</th>\n",
       "      <td>80.0</td>\n",
       "      <td>63.0</td>\n",
       "      <td>78.0</td>\n",
       "      <td>tipo_2</td>\n",
       "      <td>3.097528</td>\n",
       "    </tr>\n",
       "    <tr>\n",
       "      <th>785</th>\n",
       "      <td>86.0</td>\n",
       "      <td>71.0</td>\n",
       "      <td>73.0</td>\n",
       "      <td>tipo_2</td>\n",
       "      <td>3.235880</td>\n",
       "    </tr>\n",
       "    <tr>\n",
       "      <th>786</th>\n",
       "      <td>50.0</td>\n",
       "      <td>99.0</td>\n",
       "      <td>82.0</td>\n",
       "      <td>tipo_1</td>\n",
       "      <td>3.188523</td>\n",
       "    </tr>\n",
       "    <tr>\n",
       "      <th>787</th>\n",
       "      <td>76.0</td>\n",
       "      <td>-20000.0</td>\n",
       "      <td>52.0</td>\n",
       "      <td>tipo_2</td>\n",
       "      <td>3.223824</td>\n",
       "    </tr>\n",
       "    <tr>\n",
       "      <th>0</th>\n",
       "      <td>1.0</td>\n",
       "      <td>1.0</td>\n",
       "      <td>1.0</td>\n",
       "      <td>tipo_1</td>\n",
       "      <td>3.139736</td>\n",
       "    </tr>\n",
       "  </tbody>\n",
       "</table>\n",
       "<p>1290 rows × 5 columns</p>\n",
       "</div>"
      ],
      "text/plain": [
       "     Entero1  Entero2  Entero3   Texto  Flotante\n",
       "0        NaN      NaN      NaN  tipo_1  3.211047\n",
       "1        NaN      NaN      NaN  tipo_3  3.169558\n",
       "2        NaN      NaN      NaN  tipo_2  3.188719\n",
       "3        NaN      NaN      NaN  tipo_1  3.223913\n",
       "4        NaN      NaN      NaN  tipo_3  3.118435\n",
       "..       ...      ...      ...     ...       ...\n",
       "784     80.0     63.0     78.0  tipo_2  3.097528\n",
       "785     86.0     71.0     73.0  tipo_2  3.235880\n",
       "786     50.0     99.0     82.0  tipo_1  3.188523\n",
       "787     76.0 -20000.0     52.0  tipo_2  3.223824\n",
       "0        1.0      1.0      1.0  tipo_1  3.139736\n",
       "\n",
       "[1290 rows x 5 columns]"
      ]
     },
     "execution_count": 22,
     "metadata": {},
     "output_type": "execute_result"
    }
   ],
   "source": [
    "data_frame_unido_practica3 = pd.concat([archivo1_csv,archivo2_csv, archivo3_csv ])\n",
    "\n",
    "data_frame_unido_practica3"
   ]
  },
  {
   "cell_type": "code",
   "execution_count": 26,
   "metadata": {},
   "outputs": [
    {
     "name": "stdout",
     "output_type": "stream",
     "text": [
      "El número de columas de nuestro data set es: 5 y el número de registros es: 1290\n"
     ]
    }
   ],
   "source": [
    "numero_columnas_frame_prac3 = len(data_frame_unido_practica3.columns)\n",
    "\n",
    "numero_registros_frame_prac3 = len(data_frame_unido_practica3.index)\n",
    "\n",
    "\n",
    "print(f\"El número de columas de nuestro data set es: {numero_columnas_frame_prac3} y el número de registros es: {numero_registros_frame_prac3}\")"
   ]
  },
  {
   "attachments": {},
   "cell_type": "markdown",
   "metadata": {},
   "source": [
    "Para obtener los estadisticos descriptivos de las variables numéricas "
   ]
  },
  {
   "cell_type": "code",
   "execution_count": 28,
   "metadata": {},
   "outputs": [
    {
     "data": {
      "text/html": [
       "<div>\n",
       "<style scoped>\n",
       "    .dataframe tbody tr th:only-of-type {\n",
       "        vertical-align: middle;\n",
       "    }\n",
       "\n",
       "    .dataframe tbody tr th {\n",
       "        vertical-align: top;\n",
       "    }\n",
       "\n",
       "    .dataframe thead th {\n",
       "        text-align: right;\n",
       "    }\n",
       "</style>\n",
       "<table border=\"1\" class=\"dataframe\">\n",
       "  <thead>\n",
       "    <tr style=\"text-align: right;\">\n",
       "      <th></th>\n",
       "      <th>Entero1</th>\n",
       "      <th>Entero2</th>\n",
       "      <th>Entero3</th>\n",
       "      <th>Flotante</th>\n",
       "    </tr>\n",
       "  </thead>\n",
       "  <tbody>\n",
       "    <tr>\n",
       "      <th>count</th>\n",
       "      <td>1280.000000</td>\n",
       "      <td>1280.000000</td>\n",
       "      <td>1280.000000</td>\n",
       "      <td>1290.000000</td>\n",
       "    </tr>\n",
       "    <tr>\n",
       "      <th>mean</th>\n",
       "      <td>284.484375</td>\n",
       "      <td>35.025000</td>\n",
       "      <td>48.593750</td>\n",
       "      <td>3.140252</td>\n",
       "    </tr>\n",
       "    <tr>\n",
       "      <th>std</th>\n",
       "      <td>8383.904878</td>\n",
       "      <td>561.177743</td>\n",
       "      <td>28.985947</td>\n",
       "      <td>0.056481</td>\n",
       "    </tr>\n",
       "    <tr>\n",
       "      <th>min</th>\n",
       "      <td>1.000000</td>\n",
       "      <td>-20000.000000</td>\n",
       "      <td>1.000000</td>\n",
       "      <td>3.041681</td>\n",
       "    </tr>\n",
       "    <tr>\n",
       "      <th>25%</th>\n",
       "      <td>24.000000</td>\n",
       "      <td>26.000000</td>\n",
       "      <td>23.000000</td>\n",
       "      <td>3.092156</td>\n",
       "    </tr>\n",
       "    <tr>\n",
       "      <th>50%</th>\n",
       "      <td>50.000000</td>\n",
       "      <td>51.000000</td>\n",
       "      <td>47.000000</td>\n",
       "      <td>3.140273</td>\n",
       "    </tr>\n",
       "    <tr>\n",
       "      <th>75%</th>\n",
       "      <td>76.250000</td>\n",
       "      <td>76.000000</td>\n",
       "      <td>74.000000</td>\n",
       "      <td>3.188339</td>\n",
       "    </tr>\n",
       "    <tr>\n",
       "      <th>max</th>\n",
       "      <td>300000.000000</td>\n",
       "      <td>99.000000</td>\n",
       "      <td>99.000000</td>\n",
       "      <td>3.241569</td>\n",
       "    </tr>\n",
       "  </tbody>\n",
       "</table>\n",
       "</div>"
      ],
      "text/plain": [
       "             Entero1       Entero2      Entero3     Flotante\n",
       "count    1280.000000   1280.000000  1280.000000  1290.000000\n",
       "mean      284.484375     35.025000    48.593750     3.140252\n",
       "std      8383.904878    561.177743    28.985947     0.056481\n",
       "min         1.000000 -20000.000000     1.000000     3.041681\n",
       "25%        24.000000     26.000000    23.000000     3.092156\n",
       "50%        50.000000     51.000000    47.000000     3.140273\n",
       "75%        76.250000     76.000000    74.000000     3.188339\n",
       "max    300000.000000     99.000000    99.000000     3.241569"
      ]
     },
     "execution_count": 28,
     "metadata": {},
     "output_type": "execute_result"
    }
   ],
   "source": [
    "data_frame_unido_practica3.describe()"
   ]
  },
  {
   "attachments": {},
   "cell_type": "markdown",
   "metadata": {},
   "source": [
    "Comentario sobre cada columna en el data set:<br>\n",
    "\n",
    "Para el Entero1: Tenemos 10 datos falantes de un total de 1290: Tenemos una media de ~284 con una sd enorme y es que el Quantil 75% de los datos tiene el valor de ~76 pero hay un valor máximo de 300,000, lo cual obivamente afecta mucho la media aritmetica pero no tanto a la mediana que es de 50, la mayoría de los datos están entre 1 y 76, pero hay algunos outliers <br>\n",
    "\n",
    "\n",
    "\n",
    "Para el Entero2: Tenemos 10 datos falantes de un total de 1290: Tenemos una media de ~35 con una sd enorme y es que tenemos un mínimoer menor a cero y de valor absoluto muy grande, aun que parece que las gran mayoría de números están entre 26 y 99 <br>\n",
    "\n",
    "\n",
    "\n",
    "\n",
    "Para el Entero3: Tenemos 10 datos falantes de un total de 1290: Tenemos una media de ~48 con una sd de ~28  <br>\n",
    "\n",
    "\n",
    "\n",
    "\n",
    "Para el Entero4: Tenemos todos los datos del total de 1290: Tenemos una media de ~3.1 con una sd de ~0.05. TODOS los valores están entre 3.04 y 3.24  <br>\n",
    "\n",
    "\n",
    "\n",
    "Observaicones generales: <br>\n",
    "\n",
    "Los tres Enterosi tienen valores muy parecidos para percentil 25, 50 (mediana) y 75, pero valores de mean, sd, mn y max , muy diferentes, lo que quizá ns diría que hablamos de un fenómeno o variable que quizá en el fondo tenga la misma media, pero en los 2 primeros casos parece que tenemos datos outliers que modifican muchos los momentos centrales 1 y 2 con respecto a la media (esperanza y varianza (o su raiz que es sd)) (muy sensibles a estos datos atípicos)\n",
    "\n",
    "\n"
   ]
  },
  {
   "cell_type": "code",
   "execution_count": 34,
   "metadata": {},
   "outputs": [
    {
     "data": {
      "image/png": "[encoded data removed]",
      "text/plain": [
       "<Figure size 432x288 with 1 Axes>"
      ]
     },
     "metadata": {
      "needs_background": "light"
     },
     "output_type": "display_data"
    }
   ],
   "source": [
    "import matplotlib.pyplot as plt\n",
    "\n",
    "# Access the variable and convert it to a list\n",
    "variable_Entero1 = data_frame_unido_practica3['Entero1'].tolist()\n",
    "\n",
    "# Plot the histogram\n",
    "plt.hist(variable_Entero1, bins=10)  # Adjust the number of bins as needed\n",
    "plt.xlabel('variable_Entero1')\n",
    "plt.ylabel('Frequency')\n",
    "plt.title('Histogram of Entero1')\n",
    "plt.show()\n"
   ]
  },
  {
   "cell_type": "code",
   "execution_count": 35,
   "metadata": {},
   "outputs": [
    {
     "data": {
      "image/png": "[encoded data removed]",
      "text/plain": [
       "<Figure size 432x288 with 1 Axes>"
      ]
     },
     "metadata": {
      "needs_background": "light"
     },
     "output_type": "display_data"
    }
   ],
   "source": [
    "# Access the variable and convert it to a list\n",
    "variable_Entero2 = data_frame_unido_practica3['Entero2'].tolist()\n",
    "\n",
    "# Plot the histogram\n",
    "plt.hist(variable_Entero2, bins=10)  # Adjust the number of bins as needed\n",
    "plt.xlabel('variable_Entero2')\n",
    "plt.ylabel('Frequency')\n",
    "plt.title('Histogram of Entero2')\n",
    "plt.show()"
   ]
  },
  {
   "cell_type": "code",
   "execution_count": 36,
   "metadata": {},
   "outputs": [
    {
     "data": {
      "image/png": "[encoded data removed]",
      "text/plain": [
       "<Figure size 432x288 with 1 Axes>"
      ]
     },
     "metadata": {
      "needs_background": "light"
     },
     "output_type": "display_data"
    }
   ],
   "source": [
    "# Access the variable and convert it to a list\n",
    "variable_Entero3 = data_frame_unido_practica3['Entero3'].tolist()\n",
    "\n",
    "# Plot the histogram\n",
    "plt.hist(variable_Entero3, bins=10)  # Adjust the number of bins as needed\n",
    "plt.xlabel('variable_Entero3')\n",
    "plt.ylabel('Frequency')\n",
    "plt.title('Histogram of Entero3')\n",
    "plt.show()"
   ]
  }
 ],
 "metadata": {
  "kernelspec": {
   "display_name": "Python 3",
   "language": "python",
   "name": "python3"
  },
  "language_info": {
   "codemirror_mode": {
    "name": "ipython",
    "version": 3
   },
   "file_extension": ".py",
   "mimetype": "text/x-python",
   "name": "python",
   "nbconvert_exporter": "python",
   "pygments_lexer": "ipython3",
   "version": "3.10.5"
  },
  "orig_nbformat": 4
 },
 "nbformat": 4,
 "nbformat_minor": 2
}
