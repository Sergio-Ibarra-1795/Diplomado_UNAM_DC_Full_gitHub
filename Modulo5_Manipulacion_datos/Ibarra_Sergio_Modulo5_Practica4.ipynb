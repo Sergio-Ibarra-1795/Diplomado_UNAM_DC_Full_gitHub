{
 "cells": [
  {
   "attachments": {},
   "cell_type": "markdown",
   "metadata": {},
   "source": [
    "#### <font color=\"#03997A\"> Diplomado en Ciencia de datos UNAM </font>\n",
    "##### <font color=\"#03997A\"> Mto: Getsemani Ruben Castro Villanueva </font>\n",
    "##### <font color=\"#03997A\"> Modulo 5 Manipulación de datos en Python</font>\n",
    "##### <font color=\"#03997A\">Practica 4 Alumno: Ibarra Ramírez Sergio  </font>"
   ]
  },
  {
   "cell_type": "code",
   "execution_count": null,
   "metadata": {},
   "outputs": [],
   "source": []
  }
 ],
 "metadata": {
  "language_info": {
   "name": "python"
  },
  "orig_nbformat": 4
 },
 "nbformat": 4,
 "nbformat_minor": 2
}
