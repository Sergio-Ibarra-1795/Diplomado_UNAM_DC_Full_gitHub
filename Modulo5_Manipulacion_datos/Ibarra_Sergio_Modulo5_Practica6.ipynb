{
 "cells": [
  {
   "attachments": {},
   "cell_type": "markdown",
   "metadata": {},
   "source": [
    "#### <font color=\"#03997A\"> Diplomado en Ciencia de datos UNAM </font>\n",
    "##### <font color=\"#03997A\"> Mto: Getsemani Ruben Castro Villanueva </font>\n",
    "##### <font color=\"#03997A\"> Modulo 5 Manipulación de datos en Python</font>\n",
    "##### <font color=\"#03997A\">Practica 6 Alumno: Ibarra Ramírez Sergio  </font>"
   ]
  }
 ],
 "metadata": {
  "language_info": {
   "name": "python"
  },
  "orig_nbformat": 4
 },
 "nbformat": 4,
 "nbformat_minor": 2
}
