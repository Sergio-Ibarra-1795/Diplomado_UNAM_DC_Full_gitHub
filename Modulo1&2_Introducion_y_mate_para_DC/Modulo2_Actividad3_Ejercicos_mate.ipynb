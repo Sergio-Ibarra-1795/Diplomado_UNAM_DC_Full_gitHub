{
 "cells": [
  {
   "attachments": {},
   "cell_type": "markdown",
   "metadata": {},
   "source": [
    "### Diplomado en Ciencia de Datos UNAM \n",
    "### Modulo 2: Matématica para ciencia de datos \n",
    "### Dr. Roberto Bárcenas C. \n",
    "### Alumno: Ibarra Ramírez Sergio"
   ]
  },
  {
   "attachments": {},
   "cell_type": "markdown",
   "metadata": {},
   "source": [
    " El participante identificará los principios fundamentales necesarios para la resolución de problemas del tema matemáticas para Ciencia de Datos.\n"
   ]
  },
  {
   "attachments": {},
   "cell_type": "markdown",
   "metadata": {},
   "source": [
    "#### Problema 1: \n",
    "Sean los vectores u = (4,-2,-1) , v= (-3, 1, 2) y el escalar k=-2 Calcular: <br> \n",
    "\n",
    "a) u +v  <br>\n",
    "b) v + ku <br>\n",
    "c) El producto interno (punto) uv <br>\n",
    "d) La norma de los vectores u y v\n"
   ]
  },
  {
   "attachments": {},
   "cell_type": "markdown",
   "metadata": {},
   "source": [
    "\n",
    "##### a) u +v  "
   ]
  },
  {
   "cell_type": "code",
   "execution_count": 3,
   "metadata": {},
   "outputs": [
    {
     "name": "stdout",
     "output_type": "stream",
     "text": [
      "El vector w = u+v es w:[ 1 -1  1]\n"
     ]
    }
   ],
   "source": [
    "# importing libraries  \n",
    "import numpy as np\n",
    "import matplotlib.pyplot as plt\n",
    "import math\n",
    "  \n",
    "u = np.array([4, -2, -1])\n",
    "v = np.array([-3, 1, 2])\n",
    "\n",
    "w = u + v \n",
    "\n",
    "print(f\"El vector w = u+v es w:{w}\")\n",
    "\n"
   ]
  },
  {
   "attachments": {},
   "cell_type": "markdown",
   "metadata": {},
   "source": [
    "##### b) v + ku <br>"
   ]
  },
  {
   "cell_type": "code",
   "execution_count": 6,
   "metadata": {},
   "outputs": [
    {
     "name": "stdout",
     "output_type": "stream",
     "text": [
      "El vector p = v + ku es p:[-11   5   4]\n"
     ]
    }
   ],
   "source": [
    "u = np.array([4, -2, -1])\n",
    "v = np.array([-3, 1, 2])\n",
    "\n",
    "k = -2; \n",
    "p = v + (k*u) \n",
    "\n",
    "print(f\"El vector p = v + ku es p:{p}\")"
   ]
  },
  {
   "attachments": {},
   "cell_type": "markdown",
   "metadata": {},
   "source": [
    "##### c) El producto interno (punto) uv <br>"
   ]
  },
  {
   "cell_type": "code",
   "execution_count": 7,
   "metadata": {},
   "outputs": [
    {
     "name": "stdout",
     "output_type": "stream",
     "text": [
      "El vector k = u v es k:-16\n"
     ]
    }
   ],
   "source": [
    "k = np.dot(u,v)\n",
    "\n",
    "print(f\"El vector k = u v es k:{k}\")"
   ]
  },
  {
   "attachments": {},
   "cell_type": "markdown",
   "metadata": {},
   "source": [
    "##### d) La norma de los vectores u y v"
   ]
  },
  {
   "cell_type": "code",
   "execution_count": 8,
   "metadata": {},
   "outputs": [
    {
     "name": "stdout",
     "output_type": "stream",
     "text": [
      "La normal del vector u es: 4.58257569495584\n",
      "La normal del vector v es: 3.7416573867739413\n"
     ]
    }
   ],
   "source": [
    "norm_u = np.linalg.norm(u)\n",
    "norm_v = np.linalg.norm(v)\n",
    "\n",
    "print(\"La normal del vector u es:\", norm_u)\n",
    "print(\"La normal del vector v es:\", norm_v)"
   ]
  },
  {
   "attachments": {},
   "cell_type": "markdown",
   "metadata": {},
   "source": [
    "#### Problema 2: \n",
    "Sean las matrices  $A =\\begin{bmatrix}\n",
    "1 & 2 \\\\ \n",
    "-1  & 0\n",
    "\\end{bmatrix}$   y $B =\\begin{bmatrix}\n",
    "-2 & 9 \\\\ \n",
    "3  & 5\n",
    "\\end{bmatrix} $  Calcular: <br>\n",
    "\n",
    "a) A + B  <br>\n",
    "b) 2A  - B <br>\n",
    "c) El producto AB <br>\n",
    "d) La matriz transpuesta A\n"
   ]
  },
  {
   "attachments": {},
   "cell_type": "markdown",
   "metadata": {},
   "source": [
    "##### a) A + B  "
   ]
  },
  {
   "cell_type": "code",
   "execution_count": 27,
   "metadata": {},
   "outputs": [
    {
     "name": "stdout",
     "output_type": "stream",
     "text": [
      "[-1, 11]\n",
      "[2, 5]\n",
      "La matriz C = A + B es C:[[-1, 11], [2, 5]]\n"
     ]
    }
   ],
   "source": [
    "import numpy as np\n",
    " \n",
    "# input two matrices\n",
    "A = ([1, 2],[-1 ,0 ])\n",
    "B = ([-2, 9],[3 ,5 ])\n",
    "\n",
    " \n",
    "C = [[0,0],\n",
    "        [0,0]]\n",
    " \n",
    "\n",
    "## Suma de matrices\n",
    "# iterate through rows\n",
    "for i in range(len(A)):  \n",
    "# iterate through columns\n",
    "    for j in range(len(A[0])):\n",
    "        C[i][j] = A[i][j] + B[i][j]\n",
    " \n",
    "for r in C:\n",
    "    print(r)\n",
    " \n",
    " \n",
    "# print resulted matrix\n",
    "print(f\"La matriz C = A + B es C:{C}\")"
   ]
  },
  {
   "attachments": {},
   "cell_type": "markdown",
   "metadata": {},
   "source": [
    "Otra manera más sencilla de hacerlo en Python sería: "
   ]
  },
  {
   "cell_type": "code",
   "execution_count": 28,
   "metadata": {},
   "outputs": [
    {
     "name": "stdout",
     "output_type": "stream",
     "text": [
      "Matrix A:\n",
      "[[ 1  2]\n",
      " [-1  0]]\n",
      "Matrix B:\n",
      "[[-2  9]\n",
      " [ 3  5]]\n",
      "La matriz C = A + B es:\n",
      "[[-1 11]\n",
      " [ 2  5]]\n"
     ]
    }
   ],
   "source": [
    "import numpy as np\n",
    "\n",
    "A = np.array([[1, 2], [-1, 0]])\n",
    "B = np.array([[-2, 9], [3, 5]])\n",
    "\n",
    "C = A + B\n",
    "\n",
    "print(\"Matrix A:\")\n",
    "print(A)\n",
    "print(\"Matrix B:\")\n",
    "print(B)\n",
    "print(\"La matriz C = A + B es:\")\n",
    "print(C)\n"
   ]
  },
  {
   "attachments": {},
   "cell_type": "markdown",
   "metadata": {},
   "source": [
    "##### b) 2A  - B "
   ]
  },
  {
   "cell_type": "code",
   "execution_count": 20,
   "metadata": {},
   "outputs": [
    {
     "name": "stdout",
     "output_type": "stream",
     "text": [
      "[[-2 -4]\n",
      " [ 2  0]]\n",
      "La matriz D = A2 -B es D:[[  0 -13]\n",
      " [ -1  -5]]\n"
     ]
    }
   ],
   "source": [
    "k = -2\n",
    "A2 = k * A\n",
    "print(A2)\n",
    "\n",
    "\n",
    "\n",
    "# This will return dot product\n",
    "D = A2 -B\n",
    " \n",
    " \n",
    "# print resulted matrix\n",
    "print(f\"La matriz D = A2 -B es D:{D}\")\n",
    " "
   ]
  },
  {
   "attachments": {},
   "cell_type": "markdown",
   "metadata": {},
   "source": [
    "##### c) El producto AB "
   ]
  },
  {
   "cell_type": "code",
   "execution_count": 31,
   "metadata": {},
   "outputs": [
    {
     "name": "stdout",
     "output_type": "stream",
     "text": [
      "[[4, 19], [2, -9]]\n"
     ]
    }
   ],
   "source": [
    "\n",
    "A = np.array([[1, 2], [-1, 0]])\n",
    "B = np.array([[-2, 9], [3, 5]])\n",
    "\n",
    "E = [[0 for x in range(len(A))] for y in range(len(B))]\n",
    " \n",
    "# explicit for loops\n",
    "for i in range(len(A)):\n",
    "    for j in range(len(B[0])):\n",
    "        for k in range(len(B)):\n",
    " \n",
    "            # resulted matrix\n",
    "            E[i][j] += A[i][k] * B[k][j]\n",
    " \n",
    "print(E)"
   ]
  },
  {
   "attachments": {},
   "cell_type": "markdown",
   "metadata": {},
   "source": [
    "Otra manera más sencilla de hacerlo en Python sería: "
   ]
  },
  {
   "cell_type": "code",
   "execution_count": 29,
   "metadata": {},
   "outputs": [
    {
     "name": "stdout",
     "output_type": "stream",
     "text": [
      "La matriz E = A B es E:[[ 4 19]\n",
      " [ 2 -9]]\n"
     ]
    }
   ],
   "source": [
    "# This will return dot product\n",
    "E = np.dot(A,B)\n",
    " \n",
    "# print resulted matrix\n",
    "print(f\"La matriz E = A B es E:{E}\")"
   ]
  },
  {
   "attachments": {},
   "cell_type": "markdown",
   "metadata": {},
   "source": [
    "##### d) La matriz transpuesta A"
   ]
  },
  {
   "cell_type": "code",
   "execution_count": 33,
   "metadata": {},
   "outputs": [
    {
     "name": "stdout",
     "output_type": "stream",
     "text": [
      "La matriz Transpuesta de A que es T es :[[ 1 -1]\n",
      " [ 2  0]]\n"
     ]
    }
   ],
   "source": [
    "A = np.array([[1, 2], [-1, 0]])\n",
    "\n",
    "TraA = A.transpose()\n",
    "\n",
    "# print resulted matrix\n",
    "print(f\"La matriz Transpuesta de A que es T es :{TraA}\")"
   ]
  },
  {
   "attachments": {},
   "cell_type": "markdown",
   "metadata": {},
   "source": [
    "#### Problema 3: \n",
    "Sea la matriz  \n",
    "\n",
    "$ A = \\begin{bmatrix}\n",
    "3 & 1 & -1\\\\ \n",
    "6 & 1 & -2\\\\ \n",
    "4 &-3  & 2 \n",
    "\\end{bmatrix} $\n",
    "\n",
    "\n",
    "\n",
    "Calcule su determinante"
   ]
  },
  {
   "cell_type": "code",
   "execution_count": 35,
   "metadata": {},
   "outputs": [
    {
     "name": "stdout",
     "output_type": "stream",
     "text": [
      "El determinante de la matgriz A_1 :-10.000000000000002\n"
     ]
    }
   ],
   "source": [
    "A_1 = np.array([[3, 1, -1], [6, 1, -2], [4, -3, 2]])\n",
    "\n",
    "\n",
    "det_A_1 = np.linalg.det(A_1)\n",
    "\n",
    "print(f\"El determinante de la matgriz A_1 :{det_A_1}\")"
   ]
  },
  {
   "attachments": {},
   "cell_type": "markdown",
   "metadata": {},
   "source": [
    "#### Problema 4:\n",
    " Determinar los siguientes limites  \n",
    " a ) $ \\lim_{x->3}  x^{3}- 2x^{2} +8x-32 $ <br>\n",
    " b) $ \\lim_{x->9} \\frac{\\sqrt{x}-3}{x-9} $"
   ]
  },
  {
   "attachments": {},
   "cell_type": "markdown",
   "metadata": {},
   "source": [
    "##### a ) $ \\lim_{x->3}  x^{3}- 2x^{2} +8x-32 $ <br>"
   ]
  },
  {
   "cell_type": "code",
   "execution_count": 63,
   "metadata": {},
   "outputs": [
    {
     "name": "stdout",
     "output_type": "stream",
     "text": [
      "El límite de x**3 - 2*x**2 + 8*x - 32 en x=3 es: 1\n"
     ]
    }
   ],
   "source": [
    "from sympy import Symbol, sqrt, limit\n",
    "\n",
    "x = Symbol('x')\n",
    "f1 = x**3 -2*x**2 + 8*x -32\n",
    "limitx_3 = limit(f1, x, 3)\n",
    "print(f\"El límite de {f1} en x=3 es: {limitx_3}\")"
   ]
  },
  {
   "attachments": {},
   "cell_type": "markdown",
   "metadata": {},
   "source": [
    " b) $ \\lim_{x->9} \\frac{\\sqrt{x}-3}{x-9} $"
   ]
  },
  {
   "cell_type": "code",
   "execution_count": 65,
   "metadata": {},
   "outputs": [
    {
     "name": "stdout",
     "output_type": "stream",
     "text": [
      "El límite de (sqrt(x) - 3)/(x - 9) en x=9 es: 1/6\n"
     ]
    }
   ],
   "source": [
    "from sympy import Symbol, sqrt, limit\n",
    "\n",
    "x = Symbol('x')\n",
    "f2 = (sqrt(x) - 3)/(x - 9)\n",
    "limitx_9 = limit(f2, x, 9)\n",
    "\n",
    "print(f\"El límite de {f2} en x=9 es: {limitx_9}\")\n"
   ]
  },
  {
   "attachments": {},
   "cell_type": "markdown",
   "metadata": {},
   "source": [
    "#### Problema 5:\n",
    " Determinar los siguientes derivadas   <br>\n",
    " a ) $  (3x^{3}-2)^{2} (x^{2}-4x+4) $         <br>\n",
    " b) $\\frac{sin(x^{2 }-x)}{(x-1)^{2}} $"
   ]
  },
  {
   "attachments": {},
   "cell_type": "markdown",
   "metadata": {},
   "source": [
    "##### a ) $  (3x^{3}-2)^{2} (x^{2}-4x+4) $"
   ]
  },
  {
   "cell_type": "code",
   "execution_count": 44,
   "metadata": {},
   "outputs": [
    {
     "name": "stdout",
     "output_type": "stream",
     "text": [
      "9*x**8 - 36*x**7 + 36*x**6 - 12*x**5 + 48*x**4 - 48*x**3 + 4*x**2 - 16*x + 16\n"
     ]
    }
   ],
   "source": [
    "from sympy import symbols, expand\n",
    "\n",
    "x = symbols('x')\n",
    "polinomial_a = (3*x**3 - 2)**2 * (x**2 - 4*x + 4)\n",
    "polinomial_a = expand(polinomial_a)\n",
    "\n",
    "print(polinomial_a)\n"
   ]
  },
  {
   "cell_type": "code",
   "execution_count": 69,
   "metadata": {},
   "outputs": [
    {
     "name": "stdout",
     "output_type": "stream",
     "text": [
      "La derivada de f(x) = 9*x**8 - 36*x**7 + 36*x**6 - 12*x**5 + 48*x**4 - 48*x**3 + 4*x**2 - 16*x + 16 es: 72*x**7 - 252*x**6 + 216*x**5 - 60*x**4 + 192*x**3 - 144*x**2 + 8*x - 16\n"
     ]
    }
   ],
   "source": [
    "from sympy import  diff\n",
    "\n",
    "\n",
    "# calculate the derivative of polinomial_a\n",
    "derivative_a = diff(polinomial_a, x)\n",
    "\n",
    "print(f\"La derivada de f(x) = {polinomial_a} es: {derivative_a}\")"
   ]
  },
  {
   "attachments": {},
   "cell_type": "markdown",
   "metadata": {},
   "source": [
    "##### b) $\\frac{sin(x^{2 }-x)}{(x-1)^{2}} $"
   ]
  },
  {
   "cell_type": "code",
   "execution_count": 71,
   "metadata": {},
   "outputs": [
    {
     "name": "stdout",
     "output_type": "stream",
     "text": [
      "La derivada de f(x) = sin(x**2 - x)/(x - 1)**2 es: (2*x - 1)*cos(x**2 - x)/(x - 1)**2 - 2*sin(x**2 - x)/(x - 1)**3\n"
     ]
    }
   ],
   "source": [
    "from sympy import symbols, diff, sin\n",
    "\n",
    "# Define the symbol x\n",
    "x = symbols('x')\n",
    "\n",
    "# Define the function f(x)\n",
    "f2 = sin(x**2 - x)/(x - 1)**2\n",
    "\n",
    "# Compute the derivative of f(x) with respect to x\n",
    "dfdx_2 = diff(f2, x)\n",
    "\n",
    "# Print the result\n",
    "print(f\"La derivada de f(x) = {f2} es: {dfdx_2 }\")\n"
   ]
  },
  {
   "attachments": {},
   "cell_type": "markdown",
   "metadata": {},
   "source": [
    "#### Problema 6: Calcular la tabla de verdad para la siguiente proposición compuesta: (P->Q) ^ (P ^ ¬Q) "
   ]
  },
  {
   "attachments": {},
   "cell_type": "markdown",
   "metadata": {},
   "source": [
    "| P| Q | (P->Q) |(P->Q) ^ (P ^ ¬Q)  | (P ^ ¬Q)  | ¬Q |\n",
    "| --- | --- | --- | --- | --- | --- |\n",
    "| V | V | V| F| F | F |\n",
    "| V | F | F | F | V | V |\n",
    "| F | V | V | F | F | F |\n",
    "| F | F | V | F | F | V |"
   ]
  },
  {
   "attachments": {},
   "cell_type": "markdown",
   "metadata": {},
   "source": [
    "#### Problema 7: Presentar la matriz de adyacencia y de incidencia, respectivamente, para los siguientes grafos:"
   ]
  },
  {
   "cell_type": "code",
   "execution_count": 50,
   "metadata": {},
   "outputs": [
    {
     "data": {
      "text/html": [
       "<img src=\"Modulo2-Actividad3-GRAFO_matriz_incidencia.png\" width=\"200\" height=\"200\"/>"
      ],
      "text/plain": [
       "<IPython.core.display.Image object>"
      ]
     },
     "execution_count": 50,
     "metadata": {},
     "output_type": "execute_result"
    }
   ],
   "source": [
    "#import image module\n",
    "from IPython.display import Image\n",
    "  \n",
    "# get the image of graph A\n",
    "Image(url=\"Modulo2-Actividad3-GRAFO_matriz_incidencia.png\", width=200, height=200)"
   ]
  },
  {
   "cell_type": "code",
   "execution_count": 60,
   "metadata": {},
   "outputs": [
    {
     "name": "stdout",
     "output_type": "stream",
     "text": [
      "La matriz de incidencia de G1 es: [[ 1.  1.  0.  0.  0.  0.  0.]\n",
      " [ 0.  0.  1.  1.  0.  0.  0.]\n",
      " [-1.  0. -1.  0.  1.  0.  0.]\n",
      " [ 0. -1.  0. -1.  0.  1.  0.]\n",
      " [ 0.  0.  0.  0. -1.  0.  1.]\n",
      " [ 0.  0.  0.  0.  0. -1. -1.]]\n"
     ]
    }
   ],
   "source": [
    "import networkx as nx\n",
    "\n",
    "nodes = [1, 2, 3, 4, 5, 6]\n",
    "edges = [[1, 3], [1, 4], [2, 3], [2, 4], [3, 5], [4, 6], [5, 6]]\n",
    "\n",
    "G_1 = nx.DiGraph()\n",
    "G_1.add_nodes_from(nodes)\n",
    "G_1.add_edges_from(edges)\n",
    "\n",
    "\n",
    "incidence_matrix_G1 = -nx.incidence_matrix(G_1, oriented=True) \n",
    "print(f\"La matriz de incidencia de G1 es: {incidence_matrix_G1.toarray()}\")"
   ]
  },
  {
   "cell_type": "code",
   "execution_count": 62,
   "metadata": {},
   "outputs": [
    {
     "name": "stdout",
     "output_type": "stream",
     "text": [
      "La matriz de adyacencia de G_1 es:\n",
      "[[0 0 1 1 0 0]\n",
      " [0 0 1 1 0 0]\n",
      " [0 0 0 0 1 0]\n",
      " [0 0 0 0 0 1]\n",
      " [0 0 0 0 0 1]\n",
      " [0 0 0 0 0 0]]\n"
     ]
    }
   ],
   "source": [
    "adj_matrix_G1 = nx.adjacency_matrix(G_1)\n",
    "print(f\"La matriz de adyacencia de G_1 es:\\n{adj_matrix_G1.toarray()}\")"
   ]
  },
  {
   "cell_type": "code",
   "execution_count": 72,
   "metadata": {},
   "outputs": [
    {
     "data": {
      "text/html": [
       "<img src=\"Modulo2-Actividad3-GRAFO_B_matriz_incidencia.png\" width=\"200\" height=\"200\"/>"
      ],
      "text/plain": [
       "<IPython.core.display.Image object>"
      ]
     },
     "execution_count": 72,
     "metadata": {},
     "output_type": "execute_result"
    }
   ],
   "source": [
    "  \n",
    "# get the image of graph B\n",
    "Image(url=\"Modulo2-Actividad3-GRAFO_B_matriz_incidencia.png\", width=200, height=200)"
   ]
  },
  {
   "cell_type": "code",
   "execution_count": 73,
   "metadata": {},
   "outputs": [
    {
     "name": "stdout",
     "output_type": "stream",
     "text": [
      "La matriz de incidencia de G2 es: [[ 1.  1.  1.  1.  0.  0.  0.  0.  0.  0.]\n",
      " [-1.  0.  0.  0.  1.  0.  0.  0.  0.  0.]\n",
      " [ 0. -1.  0.  0.  0.  1.  1.  0.  0.  0.]\n",
      " [ 0.  0. -1.  0. -1. -1.  0.  1.  1.  0.]\n",
      " [ 0.  0.  0. -1.  0.  0. -1. -1.  0.  1.]\n",
      " [ 0.  0.  0.  0.  0.  0.  0.  0. -1. -1.]]\n"
     ]
    }
   ],
   "source": [
    "import networkx as nx\n",
    "\n",
    "nodes2 = [1, 2, 3, 4, 5, 6]\n",
    "edges2 = [[1, 2], [1, 3], [1, 4], [1, 5], [2, 4], [3, 4], [3, 5],  [4, 5],  [4, 6],  [5, 6]]\n",
    "\n",
    "G_2 = nx.DiGraph()\n",
    "G_2.add_nodes_from(nodes2)\n",
    "G_2.add_edges_from(edges2)\n",
    "\n",
    "\n",
    "incidence_matrix_G2 = -nx.incidence_matrix(G_2, oriented=True) \n",
    "print(f\"La matriz de incidencia de G2 es: {incidence_matrix_G2.toarray()}\")"
   ]
  },
  {
   "cell_type": "code",
   "execution_count": 74,
   "metadata": {},
   "outputs": [
    {
     "name": "stdout",
     "output_type": "stream",
     "text": [
      "La matriz de adyacencia de G_2 es:\n",
      "[[0 1 1 1 1 0]\n",
      " [0 0 0 1 0 0]\n",
      " [0 0 0 1 1 0]\n",
      " [0 0 0 0 1 1]\n",
      " [0 0 0 0 0 1]\n",
      " [0 0 0 0 0 0]]\n"
     ]
    }
   ],
   "source": [
    "adj_matrix_G2 = nx.adjacency_matrix(G_2)\n",
    "print(f\"La matriz de adyacencia de G_2 es:\\n{adj_matrix_G2.toarray()}\")"
   ]
  }
 ],
 "metadata": {
  "kernelspec": {
   "display_name": "Python 3",
   "language": "python",
   "name": "python3"
  },
  "language_info": {
   "codemirror_mode": {
    "name": "ipython",
    "version": 3
   },
   "file_extension": ".py",
   "mimetype": "text/x-python",
   "name": "python",
   "nbconvert_exporter": "python",
   "pygments_lexer": "ipython3",
   "version": "3.10.5"
  },
  "orig_nbformat": 4
 },
 "nbformat": 4,
 "nbformat_minor": 2
}
