{
 "cells": [
  {
   "attachments": {},
   "cell_type": "markdown",
   "metadata": {},
   "source": [
    "### Diplomado en Ciencia de Datos UNAM \n",
    "### Modulo 2: Matématica para ciencia de datos \n",
    "### Dr. Roberto Barcenas C. \n",
    "### Alumno: Ibarra Ramírez Sergio"
   ]
  },
  {
   "attachments": {},
   "cell_type": "markdown",
   "metadata": {},
   "source": [
    "#### Ejercico 1:  El participante identificará los principios fundamentales necesarios para la resolución de problemas del tema matemáticas para Ciencia de Datos.\n"
   ]
  },
  {
   "attachments": {},
   "cell_type": "markdown",
   "metadata": {},
   "source": [
    "##### Problema 1: \n",
    "Sean los vectores u = (4,-2,-1) , v= (-3, 1, 2) y el escalar k=-2 Calcular: <br> \n",
    "\n",
    "a) u +v  <br>\n",
    "b) v + ku <br>\n",
    "c) El producto interno (punto) uv <br>\n",
    "d) La norma de los vectores u y v\n"
   ]
  },
  {
   "attachments": {},
   "cell_type": "markdown",
   "metadata": {},
   "source": [
    "\n",
    "##### a) u +v  "
   ]
  },
  {
   "cell_type": "code",
   "execution_count": 3,
   "metadata": {},
   "outputs": [
    {
     "name": "stdout",
     "output_type": "stream",
     "text": [
      "El vector w = u+v es w:[ 1 -1  1]\n"
     ]
    }
   ],
   "source": [
    "# importing libraries  \n",
    "import numpy as np\n",
    "import matplotlib.pyplot as plt\n",
    "import math\n",
    "  \n",
    "u = np.array([4, -2, -1])\n",
    "v = np.array([-3, 1, 2])\n",
    "\n",
    "w = u + v \n",
    "\n",
    "print(f\"El vector w = u+v es w:{w}\")\n",
    "\n"
   ]
  },
  {
   "attachments": {},
   "cell_type": "markdown",
   "metadata": {},
   "source": [
    "##### b) v + ku <br>"
   ]
  },
  {
   "cell_type": "code",
   "execution_count": 6,
   "metadata": {},
   "outputs": [
    {
     "name": "stdout",
     "output_type": "stream",
     "text": [
      "El vector p = v + ku es p:[-11   5   4]\n"
     ]
    }
   ],
   "source": [
    "u = np.array([4, -2, -1])\n",
    "v = np.array([-3, 1, 2])\n",
    "\n",
    "k = -2; \n",
    "p = v + (k*u) \n",
    "\n",
    "print(f\"El vector p = v + ku es p:{p}\")"
   ]
  },
  {
   "attachments": {},
   "cell_type": "markdown",
   "metadata": {},
   "source": [
    "##### c) El producto interno (punto) uv <br>"
   ]
  },
  {
   "cell_type": "code",
   "execution_count": 7,
   "metadata": {},
   "outputs": [
    {
     "name": "stdout",
     "output_type": "stream",
     "text": [
      "El vector k = u v es k:-16\n"
     ]
    }
   ],
   "source": [
    "k = np.dot(u,v)\n",
    "\n",
    "print(f\"El vector k = u v es k:{k}\")"
   ]
  },
  {
   "attachments": {},
   "cell_type": "markdown",
   "metadata": {},
   "source": [
    "##### d) La norma de los vectores u y v"
   ]
  },
  {
   "cell_type": "code",
   "execution_count": 8,
   "metadata": {},
   "outputs": [
    {
     "name": "stdout",
     "output_type": "stream",
     "text": [
      "La normal del vector u es: 4.58257569495584\n",
      "La normal del vector v es: 3.7416573867739413\n"
     ]
    }
   ],
   "source": [
    "norm_u = np.linalg.norm(u)\n",
    "norm_v = np.linalg.norm(v)\n",
    "\n",
    "print(\"La normal del vector u es:\", norm_u)\n",
    "print(\"La normal del vector v es:\", norm_v)"
   ]
  },
  {
   "attachments": {},
   "cell_type": "markdown",
   "metadata": {},
   "source": [
    "##### Problema 2: \n",
    "Sean las matrices  $A =\\begin{bmatrix}\n",
    "1 & 2 \\\\ \n",
    "-1  & 0\n",
    "\\end{bmatrix}$   y $B =\\begin{bmatrix}\n",
    "-2 & 9 \\\\ \n",
    "3  & 5\n",
    "\\end{bmatrix} $  Calcular: <br>\n",
    "\n",
    "a) A + B  <br>\n",
    "b) 2A  - B <br>\n",
    "c) El producto AB <br>\n",
    "d) La matriz transpuesta A\n"
   ]
  },
  {
   "attachments": {},
   "cell_type": "markdown",
   "metadata": {},
   "source": [
    "##### a) A + B  "
   ]
  },
  {
   "cell_type": "code",
   "execution_count": 27,
   "metadata": {},
   "outputs": [
    {
     "name": "stdout",
     "output_type": "stream",
     "text": [
      "[-1, 11]\n",
      "[2, 5]\n",
      "La matriz C = A + B es C:[[-1, 11], [2, 5]]\n"
     ]
    }
   ],
   "source": [
    "import numpy as np\n",
    " \n",
    "# input two matrices\n",
    "A = ([1, 2],[-1 ,0 ])\n",
    "B = ([-2, 9],[3 ,5 ])\n",
    "\n",
    " \n",
    "C = [[0,0],\n",
    "        [0,0]]\n",
    " \n",
    "\n",
    "## Suma de matrices\n",
    "# iterate through rows\n",
    "for i in range(len(A)):  \n",
    "# iterate through columns\n",
    "    for j in range(len(A[0])):\n",
    "        C[i][j] = A[i][j] + B[i][j]\n",
    " \n",
    "for r in C:\n",
    "    print(r)\n",
    " \n",
    " \n",
    "# print resulted matrix\n",
    "print(f\"La matriz C = A + B es C:{C}\")"
   ]
  },
  {
   "attachments": {},
   "cell_type": "markdown",
   "metadata": {},
   "source": [
    "Otra manera más sencilla de hacerlo en Python sería: "
   ]
  },
  {
   "cell_type": "code",
   "execution_count": 28,
   "metadata": {},
   "outputs": [
    {
     "name": "stdout",
     "output_type": "stream",
     "text": [
      "Matrix A:\n",
      "[[ 1  2]\n",
      " [-1  0]]\n",
      "Matrix B:\n",
      "[[-2  9]\n",
      " [ 3  5]]\n",
      "La matriz C = A + B es:\n",
      "[[-1 11]\n",
      " [ 2  5]]\n"
     ]
    }
   ],
   "source": [
    "import numpy as np\n",
    "\n",
    "A = np.array([[1, 2], [-1, 0]])\n",
    "B = np.array([[-2, 9], [3, 5]])\n",
    "\n",
    "C = A + B\n",
    "\n",
    "print(\"Matrix A:\")\n",
    "print(A)\n",
    "print(\"Matrix B:\")\n",
    "print(B)\n",
    "print(\"La matriz C = A + B es:\")\n",
    "print(C)\n"
   ]
  },
  {
   "attachments": {},
   "cell_type": "markdown",
   "metadata": {},
   "source": [
    "##### b) 2A  - B "
   ]
  },
  {
   "cell_type": "code",
   "execution_count": 20,
   "metadata": {},
   "outputs": [
    {
     "name": "stdout",
     "output_type": "stream",
     "text": [
      "[[-2 -4]\n",
      " [ 2  0]]\n",
      "La matriz D = A2 -B es D:[[  0 -13]\n",
      " [ -1  -5]]\n"
     ]
    }
   ],
   "source": [
    "k = -2\n",
    "A2 = k * A\n",
    "print(A2)\n",
    "\n",
    "\n",
    "\n",
    "# This will return dot product\n",
    "D = A2 -B\n",
    " \n",
    " \n",
    "# print resulted matrix\n",
    "print(f\"La matriz D = A2 -B es D:{D}\")\n",
    " "
   ]
  },
  {
   "attachments": {},
   "cell_type": "markdown",
   "metadata": {},
   "source": [
    "##### c) El producto AB "
   ]
  },
  {
   "cell_type": "code",
   "execution_count": 31,
   "metadata": {},
   "outputs": [
    {
     "name": "stdout",
     "output_type": "stream",
     "text": [
      "[[4, 19], [2, -9]]\n"
     ]
    }
   ],
   "source": [
    "\n",
    "A = np.array([[1, 2], [-1, 0]])\n",
    "B = np.array([[-2, 9], [3, 5]])\n",
    "\n",
    "E = [[0 for x in range(len(A))] for y in range(len(B))]\n",
    " \n",
    "# explicit for loops\n",
    "for i in range(len(A)):\n",
    "    for j in range(len(B[0])):\n",
    "        for k in range(len(B)):\n",
    " \n",
    "            # resulted matrix\n",
    "            E[i][j] += A[i][k] * B[k][j]\n",
    " \n",
    "print(E)"
   ]
  },
  {
   "attachments": {},
   "cell_type": "markdown",
   "metadata": {},
   "source": [
    "Otra manera más sencilla de hacerlo en Python sería: "
   ]
  },
  {
   "cell_type": "code",
   "execution_count": 29,
   "metadata": {},
   "outputs": [
    {
     "name": "stdout",
     "output_type": "stream",
     "text": [
      "La matriz E = A B es E:[[ 4 19]\n",
      " [ 2 -9]]\n"
     ]
    }
   ],
   "source": [
    "# This will return dot product\n",
    "E = np.dot(A,B)\n",
    " \n",
    "# print resulted matrix\n",
    "print(f\"La matriz E = A B es E:{E}\")"
   ]
  },
  {
   "attachments": {},
   "cell_type": "markdown",
   "metadata": {},
   "source": [
    "##### d) La matriz transpuesta A"
   ]
  },
  {
   "cell_type": "code",
   "execution_count": 33,
   "metadata": {},
   "outputs": [
    {
     "name": "stdout",
     "output_type": "stream",
     "text": [
      "La matriz Transpuesta de A que es T es :[[ 1 -1]\n",
      " [ 2  0]]\n"
     ]
    }
   ],
   "source": [
    "A = np.array([[1, 2], [-1, 0]])\n",
    "\n",
    "TraA = A.transpose()\n",
    "\n",
    "# print resulted matrix\n",
    "print(f\"La matriz Transpuesta de A que es T es :{TraA}\")"
   ]
  },
  {
   "attachments": {},
   "cell_type": "markdown",
   "metadata": {},
   "source": [
    "##### Problema 3: \n",
    "Sean las matrices  \n",
    "\n",
    "$ A = \\begin{bmatrix}\n",
    "3 & 1 & -1\\\\ \n",
    "6 & 1 & -2\\\\ \n",
    "4 &-3  & 2 \n",
    "\\end{bmatrix} $\n",
    "\n",
    "\n",
    "\n",
    "Calcule su determinante"
   ]
  },
  {
   "cell_type": "code",
   "execution_count": 35,
   "metadata": {},
   "outputs": [
    {
     "name": "stdout",
     "output_type": "stream",
     "text": [
      "El determinante de la matgriz A_1 :-10.000000000000002\n"
     ]
    }
   ],
   "source": [
    "A_1 = np.array([[3, 1, -1], [6, 1, -2], [4, -3, 2]])\n",
    "\n",
    "\n",
    "det_A_1 = np.linalg.det(A_1)\n",
    "\n",
    "print(f\"El determinante de la matgriz A_1 :{det_A_1}\")"
   ]
  },
  {
   "attachments": {},
   "cell_type": "markdown",
   "metadata": {},
   "source": [
    "##### Problema 4:\n",
    " Determinar los siguientes limites  \n",
    " a ) $ \\lim_{x->3}  x^{3}- 2x^{2} +8x-32 $ <br>\n",
    " b) $ \\lim_{x->9} \\frac{\\sqrt{x}-3}{x-9} $"
   ]
  },
  {
   "attachments": {},
   "cell_type": "markdown",
   "metadata": {},
   "source": [
    "##### a ) $ \\lim_{x->3}  x^{3}- 2x^{2} +8x-32 $ <br>"
   ]
  },
  {
   "cell_type": "code",
   "execution_count": 43,
   "metadata": {},
   "outputs": [
    {
     "name": "stdout",
     "output_type": "stream",
     "text": [
      "1\n"
     ]
    }
   ],
   "source": [
    "from sympy import Symbol, sqrt, limit\n",
    "\n",
    "x = Symbol('x')\n",
    "f1 = x**3 -2*x**2 + 8*x -32\n",
    "limitx_3 = limit(f1, x, 3)\n",
    "print(limitx_3)"
   ]
  },
  {
   "attachments": {},
   "cell_type": "markdown",
   "metadata": {},
   "source": [
    " b) $ \\lim_{x->9} \\frac{\\sqrt{x}-3}{x-9} $"
   ]
  },
  {
   "cell_type": "code",
   "execution_count": 41,
   "metadata": {},
   "outputs": [
    {
     "name": "stdout",
     "output_type": "stream",
     "text": [
      "1/6\n"
     ]
    }
   ],
   "source": [
    "from sympy import Symbol, sqrt, limit\n",
    "\n",
    "x = Symbol('x')\n",
    "f2 = (sqrt(x) - 3)/(x - 9)\n",
    "limitx_9 = limit(f2, x, 9)\n",
    "print(limitx_9)\n"
   ]
  },
  {
   "attachments": {},
   "cell_type": "markdown",
   "metadata": {},
   "source": []
  },
  {
   "cell_type": "code",
   "execution_count": 36,
   "metadata": {},
   "outputs": [
    {
     "name": "stdout",
     "output_type": "stream",
     "text": [
      "23.000000000195083\n"
     ]
    }
   ],
   "source": [
    "# Define the function\n",
    "def f(x):\n",
    "    return x**3 - 2*x**2 + 8*x - 32\n",
    "\n",
    "# Define the value of x and h\n",
    "x = 3\n",
    "h = 0.00001\n",
    "\n",
    "# Calculate the value of the function at x+h and x-h\n",
    "fxh = f(x + h)\n",
    "fxhh = f(x - h)\n",
    "\n",
    "# Use the formula for the numerical approximation of the derivative to estimate the limit value\n",
    "limitx_3 = (fxh - fxhh) / (2*h)\n",
    "\n",
    "print(limitx_3)\n"
   ]
  }
 ],
 "metadata": {
  "kernelspec": {
   "display_name": "Python 3",
   "language": "python",
   "name": "python3"
  },
  "language_info": {
   "codemirror_mode": {
    "name": "ipython",
    "version": 3
   },
   "file_extension": ".py",
   "mimetype": "text/x-python",
   "name": "python",
   "nbconvert_exporter": "python",
   "pygments_lexer": "ipython3",
   "version": "3.10.5"
  },
  "orig_nbformat": 4
 },
 "nbformat": 4,
 "nbformat_minor": 2
}
