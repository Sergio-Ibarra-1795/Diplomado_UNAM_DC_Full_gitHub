{
 "cells": [
  {
   "attachments": {},
   "cell_type": "markdown",
   "metadata": {},
   "source": [
    "### Diplomado en Ciencia de Datos UNAM \n",
    "### Modulo 3: Estadística para ciencia de datos \n",
    "### Dr. Roberto Bárcenas C. \n",
    "### Alumno: Ibarra Ramírez Sergio\n",
    "### Practca 1"
   ]
  },
  {
   "attachments": {},
   "cell_type": "markdown",
   "metadata": {},
   "source": [
    "El conjunto de datos 'Birthweight' contiene la información de 42 bebés al nacer. La pregunta de \n",
    "investigación es saber si existe una relación entre al peso al nacer y el tiempo de gestación. La variable \n",
    "dependiente es Peso al nacer (dada en libras) y la variable independiente para esta actividad es la edad \n",
    "gestacional del bebé al nacer (en semanas)."
   ]
  },
  {
   "attachments": {},
   "cell_type": "markdown",
   "metadata": {},
   "source": [
    "a) Realiza una descripción gráfica y de medidas estadísticas (descriptivas) de los datos."
   ]
  },
  {
   "attachments": {},
   "cell_type": "markdown",
   "metadata": {},
   "source": [
    "Debemos antes que todo, importar los datos de Birthweight"
   ]
  },
  {
   "cell_type": "code",
   "execution_count": 2,
   "metadata": {},
   "outputs": [
    {
     "name": "stdout",
     "output_type": "stream",
     "text": [
      "   ID  Gestation  Birthweight\n",
      "0   1         44         4.55\n",
      "1   2         40         4.32\n",
      "2   3         41         4.10\n",
      "3   4         44         4.07\n",
      "4   5         42         3.94\n",
      "5   6         38         3.93\n",
      "6   7         40         3.77\n"
     ]
    }
   ],
   "source": [
    "import pandas as pd\n",
    "\n",
    "data_Birthweight_path = \"Birthweight.csv\"\n",
    "\n",
    "\n",
    "# Read the CSV file into a DataFrame\n",
    "data_Birthweight = pd.read_csv(data_Birthweight_path)\n",
    "\n",
    "# Print the DataFrame\n",
    "print(data_Birthweight.head(7))\n"
   ]
  }
 ],
 "metadata": {
  "kernelspec": {
   "display_name": "Python 3",
   "language": "python",
   "name": "python3"
  },
  "language_info": {
   "codemirror_mode": {
    "name": "ipython",
    "version": 3
   },
   "file_extension": ".py",
   "mimetype": "text/x-python",
   "name": "python",
   "nbconvert_exporter": "python",
   "pygments_lexer": "ipython3",
   "version": "3.10.7"
  },
  "orig_nbformat": 4
 },
 "nbformat": 4,
 "nbformat_minor": 2
}
